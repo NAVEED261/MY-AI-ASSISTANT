{
  "cells": [
    {
      "cell_type": "markdown",
      "metadata": {
        "id": "view-in-github",
        "colab_type": "text"
      },
      "source": [
        "<a href=\"https://colab.research.google.com/github/NAVEED261/MY-AI-ASSISTANT/blob/main/module_4_use_cases_of_command.ipynb\" target=\"_parent\"><img src=\"https://colab.research.google.com/assets/colab-badge.svg\" alt=\"Open In Colab\"/></a>"
      ]
    },
    {
      "cell_type": "code",
      "source": [
        "%%capture --no-stderr\n",
        "%pip install -U langchain_google_genai langgraph langchain"
      ],
      "metadata": {
        "id": "H7ZWOfzJiARW"
      },
      "execution_count": null,
      "outputs": []
    },
    {
      "cell_type": "code",
      "source": [
        "from langchain_core.messages import HumanMessage, AIMessage\n",
        "from langgraph.graph import StateGraph, START,END\n",
        "from langgraph.graph.state import CompiledStateGraph\n",
        "from IPython.display import Image\n",
        "import random\n",
        "from langgraph.types import Command, Interrupt\n",
        "from typing_extensions import TypedDict\n",
        "from typing import Annotated,Literal,Optional,List\n",
        "from langgraph.graph.message import add_messages"
      ],
      "metadata": {
        "id": "WxZWfNaTiJ0d"
      },
      "execution_count": null,
      "outputs": []
    },
    {
      "cell_type": "code",
      "source": [
        "class state(TypedDict):\n",
        "  address:str\n",
        "  nearby_home:Optional[List[dict]]\n",
        "  messages:Annotated[List,add_messages]"
      ],
      "metadata": {
        "id": "G5FsXM6ritu1"
      },
      "execution_count": null,
      "outputs": []
    },
    {
      "cell_type": "code",
      "source": [
        "def node_A(state:state)->Command[Literal[\"search_nearby_home\",\"Question_answer\"]]:\n",
        "  print(\"call to node_A\",state)\n",
        "\n",
        "  value = random.choices([\"search_nearby_home\",\"Question_aswer\"])\n",
        "\n",
        "  if value == \"search_nearby_home\":\n",
        "    goto   =  \"search_nearby_home\"\n",
        "  else:\n",
        "    goto = \"Question_answer\"\n",
        "    return Command(\n",
        "        goto = goto\n",
        "    )\n",
        "\n",
        "def search_nearby_home(state:state):\n",
        "  print(\"call to search_nearby_home\")\n",
        "  return{\"nearby_home\":[{\"home_1\":\"fatima zehra house\"},{\"home_2\":\"umaima gul house\"}]}\n",
        "\n",
        "def Question_answer(state:state):\n",
        "  print(\"call to Question_answer\")\n",
        "  return{\"messages\":[AIMessage(content = \"system is down due to network issue plz try again letter\")]}"
      ],
      "metadata": {
        "id": "ys410C_0j0yO"
      },
      "execution_count": null,
      "outputs": []
    },
    {
      "cell_type": "code",
      "source": [
        "builder=StateGraph(state)\n",
        "builder.add_node(\"node_A\",node_A)\n",
        "builder.add_node(\"search_nearby_home\",search_nearby_home)\n",
        "builder.add_node(\"Question_answer\",Question_answer)\n",
        "builder.add_edge(START, \"node_A\")\n",
        "graph = builder.compile()\n",
        "Image(graph.get_graph().draw_mermaid_png())\n"
      ],
      "metadata": {
        "colab": {
          "base_uri": "https://localhost:8080/",
          "height": 266
        },
        "id": "StU5RqSOlr8m",
        "outputId": "f5e0a46d-f129-4358-f313-824881822bb3"
      },
      "execution_count": null,
      "outputs": [
        {
          "output_type": "execute_result",
          "data": {
            "image/png": "[encoded data removed]",
            "text/plain": [
              "<IPython.core.display.Image object>"
            ]
          },
          "metadata": {},
          "execution_count": 133
        }
      ]
    },
    {
      "cell_type": "code",
      "source": [
        "response = graph.invoke({\"address\":\"karachi\"})\n",
        "print('\\n[finalresposne]', response)"
      ],
      "metadata": {
        "colab": {
          "base_uri": "https://localhost:8080/"
        },
        "id": "_Ez1NfM7m4Zu",
        "outputId": "1a528e09-57aa-41d6-feb3-8cdf2e1d087e"
      },
      "execution_count": null,
      "outputs": [
        {
          "output_type": "stream",
          "name": "stdout",
          "text": [
            "call to node_A {'address': 'karachi', 'messages': []}\n",
            "call to Question_answer\n",
            "\n",
            "[finalresposne] {'address': 'karachi', 'messages': [AIMessage(content='system is down due to network issue plz try again letter', additional_kwargs={}, response_metadata={}, id='a0fe7326-764f-4ab9-b432-4d96087ddb76')]}\n"
          ]
        }
      ]
    },
    {
      "cell_type": "code",
      "source": [
        "class state(TypedDict):\n",
        "  address:str\n",
        "  nearby_home:Optional[List[dict]]\n",
        "  messages:Annotated[List,add_messages]\n",
        "  user_data:Optional[dict]"
      ],
      "metadata": {
        "id": "oSIssJgxmz9H"
      },
      "execution_count": null,
      "outputs": []
    },
    {
      "cell_type": "code",
      "source": [
        "def node_A(state:state)->Command[Literal[\"search_nearby_home\",\"Question_answer\"]]:\n",
        "  print(\"call to node_A\",state)\n",
        "\n",
        "  value = random.choices([\"search_nearby_home\",\"Question_aswer\"])\n",
        "\n",
        "  fetching_data = {\"name\":\"hafiz naveed uddin\"}\n",
        "\n",
        "  if value == \"search_nearby_home\":\n",
        "    goto   =  \"search_nearby_home\"\n",
        "  else:\n",
        "    goto = \"Question_answer\"\n",
        "\n",
        "    return Command(\n",
        "      update={\"user_data\": fetching_data},\n",
        "      goto = goto\n",
        "  )\n",
        "\n",
        "def search_nearby_home(state:state):\n",
        "  print(\"call to search_nearby_home\")\n",
        "  print(\"user_info\",state[\"user_data\"])\n",
        "  return{\"nearby_home\":[{\"home_1\":\"fatima zehra house\"},{\"home_2\":\"umaima gul house\"}]}\n",
        "\n",
        "def Question_answer(state:state):\n",
        "  print(\"call to Question_answer\")\n",
        "  print(\"user_info\",state[\"user_data\"])\n",
        "  user_name = state[\"user_data\"].get(\"name\",\"guest\")\n",
        "  return{\"messages\":[AIMessage(content = f' welcome to {user_name} we are searching your home ')]}"
      ],
      "metadata": {
        "id": "dohUCIXGm1Kn"
      },
      "execution_count": null,
      "outputs": []
    },
    {
      "cell_type": "code",
      "source": [
        "builder=StateGraph(state)\n",
        "builder.add_node(\"node_A\",node_A)\n",
        "builder.add_node(\"search_nearby_home\",search_nearby_home)\n",
        "builder.add_node(\"Question_answer\",Question_answer)\n",
        "builder.add_edge(START, \"node_A\")\n",
        "graph = builder.compile()\n",
        "Image(graph.get_graph().draw_mermaid_png())\n"
      ],
      "metadata": {
        "colab": {
          "base_uri": "https://localhost:8080/",
          "height": 266
        },
        "id": "oUUDa4wAm2gO",
        "outputId": "d28809ba-90fd-4dc2-b6a8-9724d51557bd"
      },
      "execution_count": null,
      "outputs": [
        {
          "output_type": "execute_result",
          "data": {
            "image/png": "[encoded data removed]",
            "text/plain": [
              "<IPython.core.display.Image object>"
            ]
          },
          "metadata": {},
          "execution_count": 137
        }
      ]
    },
    {
      "cell_type": "code",
      "source": [
        "response = graph.invoke({\"address\":\"karachi\"})\n",
        "print('\\n[finalresposne]', response)"
      ],
      "metadata": {
        "colab": {
          "base_uri": "https://localhost:8080/"
        },
        "id": "lJ0-3Vj1pVF1",
        "outputId": "ff8aaad5-98fc-4ebc-a50b-9205b0e20683"
      },
      "execution_count": null,
      "outputs": [
        {
          "output_type": "stream",
          "name": "stdout",
          "text": [
            "call to node_A {'address': 'karachi', 'messages': []}\n",
            "call to Question_answer\n",
            "user_info {'name': 'hafiz naveed uddin'}\n",
            "\n",
            "[finalresposne] {'address': 'karachi', 'messages': [AIMessage(content=' welcome to hafiz naveed uddin we are searching your home ', additional_kwargs={}, response_metadata={}, id='c1fad051-1308-4b44-9633-1d6c8c6fb7f4')], 'user_data': {'name': 'hafiz naveed uddin'}}\n"
          ]
        }
      ]
    },
    {
      "cell_type": "code",
      "source": [
        "class state(TypedDict):\n",
        "  address:str\n",
        "  nearby_home:Optional[List[dict]]\n",
        "  messages:Annotated[List,add_messages]\n",
        "  user_data:Optional[dict]"
      ],
      "metadata": {
        "id": "UCrxiPevp9HX"
      },
      "execution_count": null,
      "outputs": []
    },
    {
      "cell_type": "code",
      "source": [
        "def node_A(state:state)->Command[Literal[\"search_by_near_home\",\"question_answer\",\"realstate_agent\"]]:\n",
        "  print(\"call to node_A\")\n",
        "\n",
        "  fetching_data ={\"name\":\"Hafiz Naveed uddin\"}\n",
        "\n",
        "  value = random.choices([\"search_by_near_home\",\"question_answer\",\"realstate_agent\"])\n",
        "  if value == \"search_by_near_home\":\n",
        "    goto =    \"search_by_near_home\"\n",
        "  else:\n",
        "    goto =      \"question_answer\"\n",
        "\n",
        "  return Command(\n",
        "      update={\"user_data\": fetching_data},\n",
        "      goto = [\"search_by_near_home\",\"question_answer\",\"realstate_agent\"]\n",
        "  )\n",
        "\n",
        "def search_by_near_home(state:state):\n",
        "  print(\"call to search_by_near_home\")\n",
        "  print(\"user_info\",state[\"user_data\"])\n",
        "  return{\"nearby_home\":[{\"home_1\":\"fatima zehra\"},{\"home_2\":\"umaima gul\"}]}\n",
        "\n",
        "def question_answer(state:state):\n",
        "  print(\"called to question_answer\")\n",
        "  print(\"user_info\",state[\"user_data\"])\n",
        "  user_name = state[\"user_data\"].get(\"name\",\"guest\")\n",
        "  return {\"messages\": [AIMessage(content=f\"Hi, {user_name} Welcome to Homes AI Search Engine\")]}\n",
        "def realstate_agent(state: state):\n",
        "    \"\"\"\n",
        "    This node might talk like a real estate agent,\n",
        "    analyze user data, or do any advanced logic.\n",
        "    We'll just do a simple example.\n",
        "    \"\"\"\n",
        "    print(\"Call to realstate_agent!\")\n",
        "    print(\"user_info\",state[\"user_data\"])\n",
        "    user_name = state[\"user_data\"].get(\"name\",\"guest\")\n",
        "\n",
        "    recommendation = (\n",
        "        f\"Hello {user_name}, based on your budget and address '{state['address']}', \"\n",
        "        \"I recommend checking out the newly listed 2-bedroom apartment in your area.\"\n",
        "    )\n",
        "\n",
        "    # We'll store it in the new key 'agent_recommendation'\n",
        "    return {\"agent_recommendation\": recommendation}\n",
        "\n"
      ],
      "metadata": {
        "id": "YjVGwPbip_v-"
      },
      "execution_count": null,
      "outputs": []
    },
    {
      "cell_type": "code",
      "source": [
        "builder = StateGraph(state)\n",
        "builder.add_edge(START, \"node_A\")\n",
        "builder.add_node(node_A)\n",
        "builder.add_node(search_by_near_home)\n",
        "builder.add_node(question_answer)\n",
        "builder.add_node(realstate_agent)\n",
        "# NOTE: there are no edges between nodes A, B and C!\n",
        "\n",
        "graph = builder.compile()\n",
        "\n",
        "\n",
        "from IPython.display import display, Image\n",
        "\n",
        "display(Image(graph.get_graph().draw_mermaid_png()))\n"
      ],
      "metadata": {
        "colab": {
          "base_uri": "https://localhost:8080/",
          "height": 266
        },
        "id": "xy2yz8uVqBhP",
        "outputId": "6bedd73e-9ad9-4725-cc06-0d7036910a08"
      },
      "execution_count": null,
      "outputs": [
        {
          "output_type": "display_data",
          "data": {
            "image/png": "[encoded data removed]",
            "text/plain": [
              "<IPython.core.display.Image object>"
            ]
          },
          "metadata": {}
        }
      ]
    },
    {
      "cell_type": "code",
      "source": [
        "response1 = graph.invoke({\"address\":\"islamabad\"})\n",
        "print('\\n[finalresposne]', response1)"
      ],
      "metadata": {
        "colab": {
          "base_uri": "https://localhost:8080/"
        },
        "id": "5CyDHGhdqLkG",
        "outputId": "94235c27-68e1-4e16-af07-b0b8843645f3"
      },
      "execution_count": null,
      "outputs": [
        {
          "output_type": "stream",
          "name": "stdout",
          "text": [
            "call to node_A\n",
            "call to search_by_near_home\n",
            "user_info {'name': 'Hafiz Naveed uddin'}\n",
            "called to question_answer\n",
            "user_infoCall to realstate_agent!\n",
            "user_info {'name': 'Hafiz Naveed uddin'}\n",
            " {'name': 'Hafiz Naveed uddin'}\n",
            "\n",
            "[finalresposne] {'address': 'islamabad', 'nearby_home': [{'home_1': 'fatima zehra'}, {'home_2': 'umaima gul'}], 'messages': [AIMessage(content='Hi, Hafiz Naveed uddin Welcome to Homes AI Search Engine', additional_kwargs={}, response_metadata={}, id='119a0f0c-d924-4a2e-8cdf-69fd39f40b89')], 'user_data': {'name': 'Hafiz Naveed uddin'}}\n"
          ]
        }
      ]
    },
    {
      "cell_type": "code",
      "source": [
        "response1"
      ],
      "metadata": {
        "colab": {
          "base_uri": "https://localhost:8080/"
        },
        "id": "f1Od62jOu32f",
        "outputId": "b122068f-3e0e-42d4-cd4e-5dbe79b89681"
      },
      "execution_count": null,
      "outputs": [
        {
          "output_type": "execute_result",
          "data": {
            "text/plain": [
              "{'address': 'islamabad',\n",
              " 'nearby_home': [{'home_1': 'fatima zehra'}, {'home_2': 'umaima gul'}],\n",
              " 'messages': [AIMessage(content='Hi, Hafiz Naveed uddin Welcome to Homes AI Search Engine', additional_kwargs={}, response_metadata={}, id='119a0f0c-d924-4a2e-8cdf-69fd39f40b89')],\n",
              " 'user_data': {'name': 'Hafiz Naveed uddin'}}"
            ]
          },
          "metadata": {},
          "execution_count": 143
        }
      ]
    },
    {
      "cell_type": "code",
      "source": [
        "from typing_extensions import TypedDict\n",
        "from typing import Literal\n",
        "from langgraph.graph import StateGraph, START, END\n",
        "from langgraph.checkpoint.memory import MemorySaver\n",
        "from IPython.display import Image, display\n",
        "\n",
        "from langgraph.types import Command, interrupt\n",
        "\n"
      ],
      "metadata": {
        "id": "u6mVIrM2yhyZ"
      },
      "execution_count": null,
      "outputs": []
    },
    {
      "cell_type": "code",
      "source": [
        "class State(TypedDict):\n",
        "    input: str"
      ],
      "metadata": {
        "id": "ZBep9J7nu_-X"
      },
      "execution_count": null,
      "outputs": []
    },
    {
      "cell_type": "code",
      "source": [
        "def human_approval(state) -> Command[Literal[\"__end__\", \"call_agent\"]]:\n",
        "    print(\"---human_feedback---\")\n",
        "\n",
        "    is_approved = interrupt(\"Is this correct?\")\n",
        "\n",
        "    print(\"\\n\\n[RESUME AFTER INTERRUPT:]\\n\\n\", is_approved)\n",
        "\n",
        "    if is_approved == \"yes\":\n",
        "        return Command(goto=\"call_agent\")\n",
        "    else:\n",
        "        return Command(goto=\"__end__\")\n",
        "\n",
        "\n",
        "def call_agent(state):\n",
        "    print(\"---call_agent 3---\")\n",
        "    pass\n",
        "\n"
      ],
      "metadata": {
        "id": "FLPqqAGMvHoI"
      },
      "execution_count": null,
      "outputs": []
    },
    {
      "cell_type": "code",
      "source": [
        "builder = StateGraph(State)\n",
        "builder.add_node(\"human_approval\", human_approval)\n",
        "builder.add_node(\"call_agent\", call_agent)\n",
        "\n",
        "builder.add_edge(START, \"human_approval\")\n",
        "\n",
        "# Set up memory\n",
        "memory = MemorySaver()\n",
        "\n",
        "# Add\n",
        "graph = builder.compile(checkpointer=memory)\n",
        "\n",
        "# View\n",
        "display(Image(graph.get_graph().draw_mermaid_png()))"
      ],
      "metadata": {
        "colab": {
          "base_uri": "https://localhost:8080/",
          "height": 266
        },
        "id": "S-DyE7ynwau4",
        "outputId": "a628b025-4872-4891-b3c9-ca1c5cbd6ac1"
      },
      "execution_count": null,
      "outputs": [
        {
          "output_type": "display_data",
          "data": {
            "image/png": "[encoded data removed]",
            "text/plain": [
              "<IPython.core.display.Image object>"
            ]
          },
          "metadata": {}
        }
      ]
    },
    {
      "cell_type": "code",
      "source": [
        "initial_input = {\"input\": \"hello from UMT Lahore\"}\n",
        "\n",
        "# Thread\n",
        "thread = {\"configurable\": {\"thread_id\": \"11122232\"}}\n",
        "\n",
        "# Run the graph until the first interruption\n",
        "for event in graph.stream(initial_input, thread, stream_mode=\"update\"):\n",
        "    print(event)\n",
        "    print(\"\\n\")"
      ],
      "metadata": {
        "colab": {
          "base_uri": "https://localhost:8080/"
        },
        "id": "YxP6VE5sxKfX",
        "outputId": "15b3e95e-94ac-4dfd-da44-21df6ce4c8c9"
      },
      "execution_count": null,
      "outputs": [
        {
          "output_type": "stream",
          "name": "stdout",
          "text": [
            "---human_feedback---\n"
          ]
        }
      ]
    },
    {
      "cell_type": "code",
      "source": [
        "for event in graph.stream(\n",
        "    Command(resume=\"yes\"),\n",
        "    thread,\n",
        "    stream_mode=\"updates\"\n",
        "):\n",
        "    print(event)\n",
        "    print(\"\\n\")"
      ],
      "metadata": {
        "colab": {
          "base_uri": "https://localhost:8080/"
        },
        "id": "wczZsObB1mlY",
        "outputId": "98c79d36-7f97-4983-bd68-89efe583e0e9"
      },
      "execution_count": null,
      "outputs": [
        {
          "output_type": "stream",
          "name": "stdout",
          "text": [
            "---human_feedback---\n",
            "\n",
            "\n",
            "[RESUME AFTER INTERRUPT:]\n",
            "\n",
            " yes\n",
            "{'human_approval': None}\n",
            "\n",
            "\n",
            "---call_agent 3---\n",
            "{'call_agent': None}\n",
            "\n",
            "\n"
          ]
        }
      ]
    }
  ],
  "metadata": {
    "colab": {
      "name": "module 4 use cases of command",
      "toc_visible": true,
      "provenance": [],
      "include_colab_link": true
    },
    "kernelspec": {
      "display_name": "Python 3",
      "name": "python3"
    }
  },
  "nbformat": 4,
  "nbformat_minor": 0
}