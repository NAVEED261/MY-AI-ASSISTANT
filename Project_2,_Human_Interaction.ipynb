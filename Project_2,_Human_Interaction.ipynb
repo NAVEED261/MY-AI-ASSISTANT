{
  "nbformat": 4,
  "nbformat_minor": 0,
  "metadata": {
    "colab": {
      "provenance": [],
      "authorship_tag": "ABX9TyOfX4tvLjYvp3XMf1FHpTls",
      "include_colab_link": true
    },
    "kernelspec": {
      "name": "python3",
      "display_name": "Python 3"
    },
    "language_info": {
      "name": "python"
    }
  },
  "cells": [
    {
      "cell_type": "markdown",
      "metadata": {
        "id": "view-in-github",
        "colab_type": "text"
      },
      "source": [
        "<a href=\"https://colab.research.google.com/github/NAVEED261/MY-AI-ASSISTANT/blob/main/Project_2%2C_Human_Interaction.ipynb\" target=\"_parent\"><img src=\"https://colab.research.google.com/assets/colab-badge.svg\" alt=\"Open In Colab\"/></a>"
      ]
    },
    {
      "cell_type": "code",
      "execution_count": null,
      "metadata": {
        "id": "GrqlNFa9h8vL"
      },
      "outputs": [],
      "source": [
        "%%capture --no-stderr\n",
        "%pip install --quiet -U langchain_google_genai langchain_core langgraph requests"
      ]
    },
    {
      "cell_type": "code",
      "source": [
        "from google.colab import userdata\n",
        "GEMINI_API_KEY = userdata.get('GOOGLE_API_KEY')\n",
        "LANGCHAIN_API_KEY = userdata.get('Langchain_api_key')"
      ],
      "metadata": {
        "id": "ab_jFBEBiMJV"
      },
      "execution_count": null,
      "outputs": []
    },
    {
      "cell_type": "code",
      "source": [
        "from langchain_google_genai import ChatGoogleGenerativeAI\n",
        "llm = ChatGoogleGenerativeAI(model=\"gemini-1.5-flash\", api_key = GEMINI_API_KEY)\n",
        "llm.invoke(\"assalamualyum , i m hafiz naveed uddin , how r u?\")\n"
      ],
      "metadata": {
        "colab": {
          "base_uri": "https://localhost:8080/"
        },
        "id": "M6XZ8eaUiXS9",
        "outputId": "cc17b95a-2179-44af-d809-da257dc7cdfe"
      },
      "execution_count": null,
      "outputs": [
        {
          "output_type": "execute_result",
          "data": {
            "text/plain": [
              "AIMessage(content=\"Assalamu alaykum Hafiz Naveed Uddin! I hope you are well.  As a large language model, I don't experience emotions or feelings in the same way humans do, but I am functioning optimally and ready to assist you. How can I help you today?\\n\", additional_kwargs={}, response_metadata={'prompt_feedback': {'block_reason': 0, 'safety_ratings': []}, 'finish_reason': 'STOP', 'safety_ratings': []}, id='run-53630662-19f7-4e40-a9ff-ce072c26f86e-0', usage_metadata={'input_tokens': 19, 'output_tokens': 59, 'total_tokens': 78, 'input_token_details': {'cache_read': 0}})"
            ]
          },
          "metadata": {},
          "execution_count": 3
        }
      ]
    },
    {
      "cell_type": "code",
      "source": [
        "from langchain_core.tools import Tool\n",
        "# Define product database\n",
        "products = {\n",
        "    \"P101\": {\"name\": \"Laptop\", \"price\": 10600.0, \"stock\": 5, \"description\": \"High-performance laptop\", \"reviews\": [\"Good quality\", \"Worth the price\"]},\n",
        "    \"P102\": {\"name\": \"Smartphone\", \"price\": 7500.0, \"stock\": 0, \"description\": \"Latest model smartphone\", \"reviews\": [\"Battery life is short\", \"Excellent camera\"]},\n",
        "    \"P103\": {\"name\": \"Headphones\", \"price\": 500.0, \"stock\": 15, \"description\": \"Noise-cancelling headphones\", \"reviews\": [\"Great sound quality\"]},\n",
        "}\n",
        "\n",
        "# Tool 1: Product Details\n",
        "def get_product_details(product_id: str) -> str:\n",
        "    \"\"\"Fetch product details.\"\"\"\n",
        "    product = products.get(product_id)\n",
        "    if not product:\n",
        "        return f\"Product with ID {product_id} not found.\"\n",
        "    return (\n",
        "        f\"Product: {product['name']}\\n\"\n",
        "        f\"Price: ${product['price']}\\n\"\n",
        "        f\"Stock: {product['stock']} units\\n\"\n",
        "        f\"Description: {product['description']}\\n\"\n",
        "        f\"Reviews: {', '.join(product['reviews'])}\"\n",
        "    )\n",
        "\n",
        "# Tool 2: Stock Management\n",
        "def update_stock(product_id: str, new_stock: int) -> str:\n",
        "    \"\"\"Update product stock.\"\"\"\n",
        "    product = products.get(product_id)\n",
        "    if not product:\n",
        "        return f\"Product with ID {product_id} not found.\"\n",
        "    product[\"stock\"] = new_stock\n",
        "    return f\"Stock updated for {product['name']}: {new_stock} units available.\"\n",
        "\n",
        "# Tool 3: Shipping Cost Estimate\n",
        "def calculate_shipping_cost(distance: float, weight: float) -> float:\n",
        "    \"\"\"Calculate shipping cost based on distance and weight.\"\"\"\n",
        "    base_rate = 5.0  # $5 per km per kg\n",
        "    return distance * weight * base_rate\n",
        "\n",
        "# Tool 4: Order Tracking\n",
        "def track_order(order_id: str) -> str:\n",
        "    \"\"\"Track order status.\"\"\"\n",
        "    orders = {\"O001\": \"Processing\", \"O002\": \"Shipped\", \"O003\": \"Delivered\"}\n",
        "    status = orders.get(order_id)\n",
        "    return f\"Order ID {order_id} is {status}\" if status else f\"Order ID {order_id} not found.\"\n",
        "\n",
        "# Tool 5: Manage Reviews\n",
        "def add_review(product_id: str, review: str) -> str:\n",
        "    \"\"\"Add a review for a product.\"\"\"\n",
        "    product = products.get(product_id)\n",
        "    if not product:\n",
        "        return f\"Product with ID {product_id} not found.\"\n",
        "    product[\"reviews\"].append(review)\n",
        "    return f\"Review added for {product['name']}: {review}\"\n",
        "\n",
        "# Tool Registration\n",
        "tools = [\n",
        "    Tool(name=\"get_product_details\", func=get_product_details, description=\"Fetch product details.\"), # Changed tool name\n",
        "    Tool(name=\"update_stock\", func=update_stock, description=\"Update stock for a product.\"), # Changed tool name\n",
        "    Tool(name=\"calculate_shipping_cost\", func=calculate_shipping_cost, description=\"Estimate delivery charges.\"), # Changed tool name\n",
        "    Tool(name=\"track_order\", func=track_order, description=\"Check order delivery status.\"), # Changed tool name\n",
        "    Tool(name=\"add_review\", func=add_review, description=\"Add a product review.\"), # Changed tool name\n",
        "]\n",
        "\n",
        "# Bind tools to AI agent\n",
        "\n",
        "llm_with_tools = llm.bind_tools(tools)"
      ],
      "metadata": {
        "id": "kW2o9tFgigyt"
      },
      "execution_count": null,
      "outputs": []
    },
    {
      "cell_type": "code",
      "source": [
        "llm_with_tools"
      ],
      "metadata": {
        "colab": {
          "base_uri": "https://localhost:8080/"
        },
        "id": "wIYnVX-zjV7_",
        "outputId": "d3e1290b-cc3a-4dc7-918e-654e1b5a58b7"
      },
      "execution_count": null,
      "outputs": [
        {
          "output_type": "execute_result",
          "data": {
            "text/plain": [
              "RunnableBinding(bound=ChatGoogleGenerativeAI(model='models/gemini-1.5-flash', google_api_key=SecretStr('**********'), client=<google.ai.generativelanguage_v1beta.services.generative_service.client.GenerativeServiceClient object at 0x7b1ef38ab130>, default_metadata=()), kwargs={'tools': [{'type': 'function', 'function': {'name': 'get_product_details', 'description': 'Fetch product details.', 'parameters': {'properties': {'__arg1': {'title': '__arg1', 'type': 'string'}}, 'required': ['__arg1'], 'type': 'object'}}}, {'type': 'function', 'function': {'name': 'update_stock', 'description': 'Update stock for a product.', 'parameters': {'properties': {'__arg1': {'title': '__arg1', 'type': 'string'}}, 'required': ['__arg1'], 'type': 'object'}}}, {'type': 'function', 'function': {'name': 'calculate_shipping_cost', 'description': 'Estimate delivery charges.', 'parameters': {'properties': {'__arg1': {'title': '__arg1', 'type': 'string'}}, 'required': ['__arg1'], 'type': 'object'}}}, {'type': 'function', 'function': {'name': 'track_order', 'description': 'Check order delivery status.', 'parameters': {'properties': {'__arg1': {'title': '__arg1', 'type': 'string'}}, 'required': ['__arg1'], 'type': 'object'}}}, {'type': 'function', 'function': {'name': 'add_review', 'description': 'Add a product review.', 'parameters': {'properties': {'__arg1': {'title': '__arg1', 'type': 'string'}}, 'required': ['__arg1'], 'type': 'object'}}}]}, config={}, config_factories=[])"
            ]
          },
          "metadata": {},
          "execution_count": 20
        }
      ]
    },
    {
      "cell_type": "code",
      "source": [
        "from langgraph.graph import START, StateGraph\n",
        "from langgraph.prebuilt import tools_condition, ToolNode\n",
        "from IPython.display import Image, display\n",
        "from langgraph.graph.state import CompiledStateGraph\n",
        "from langgraph.graph import MessagesState\n",
        "from langchain_core.messages import AIMessage, HumanMessage, SystemMessage\n",
        "from langgraph.checkpoint.memory import MemorySaver\n",
        "memory: MemorySaver = MemorySaver()"
      ],
      "metadata": {
        "id": "F7XkKTxgjy-1"
      },
      "execution_count": null,
      "outputs": []
    },
    {
      "cell_type": "code",
      "source": [
        "sys_msg = SystemMessage(content=\"You are a smart E-commerce assistant tasked with helping customers and sellers by providing product details, managing inventory, calculating shipping costs, tracking orders, and recommending products.\")\n",
        "def assistant(state: MessagesState):\n",
        "   return {\"messages\": [llm_with_tools.invoke([sys_msg] + state[\"messages\"])]}\n",
        "\n",
        "# Graph\n",
        "builder: StateGraph = StateGraph(MessagesState)\n",
        "\n",
        "# Define nodes: these do the work\n",
        "builder.add_node(\"assistant\", assistant)\n",
        "builder.add_node(\"tools\", ToolNode(tools))\n",
        "\n",
        "# Define edges: these determine the control flow\n",
        "builder.add_edge(START, \"assistant\")\n",
        "builder.add_conditional_edges(\n",
        "    \"assistant\",\n",
        "    # If the latest message (result) from assistant is a tool call -> tools_condition routes to tools\n",
        "    # If the latest message (result) from assistant is a not a tool call -> tools_condition routes to END\n",
        "    tools_condition,\n",
        ")\n",
        "builder.add_edge(\"tools\", \"assistant\")\n",
        "\n",
        "memory: MemorySaver = MemorySaver()\n",
        "graph: CompiledStateGraph = builder.compile(interrupt_before=[\"tools\"], checkpointer=memory)\n",
        "\n",
        "# Show\n",
        "display(Image(graph.get_graph(xray=True).draw_mermaid_png()))"
      ],
      "metadata": {
        "colab": {
          "base_uri": "https://localhost:8080/",
          "height": 308
        },
        "id": "3Sr3VW-mkaKt",
        "outputId": "f1277d30-8c69-430a-97cd-25a4b0cb282e"
      },
      "execution_count": null,
      "outputs": [
        {
          "output_type": "display_data",
          "data": {
            "image/png": "[encoded data removed]",
            "text/plain": [
              "<IPython.core.display.Image object>"
            ]
          },
          "metadata": {}
        }
      ]
    },
    {
      "cell_type": "code",
      "source": [
        "config = {'configurable': {\"thread_id\": \"1\"}}\n",
        "msg = graph.invoke({\"messages\": [HumanMessage(content=\"Show me the details of product P101\")]}, config)\n",
        "for m in msg[\"messages\"]:\n",
        "    m.pretty_print()\n"
      ],
      "metadata": {
        "colab": {
          "base_uri": "https://localhost:8080/"
        },
        "id": "Z2fh8D9RsNye",
        "outputId": "fbd40984-f79a-471d-b59d-8b1f31858be7"
      },
      "execution_count": null,
      "outputs": [
        {
          "output_type": "stream",
          "name": "stdout",
          "text": [
            "================================\u001b[1m Human Message \u001b[0m=================================\n",
            "\n",
            "Show me the details of product P101\n",
            "==================================\u001b[1m Ai Message \u001b[0m==================================\n",
            "Tool Calls:\n",
            "  get_product_details (8bf8da3e-2a57-40b9-be9b-0c36d7b72e94)\n",
            " Call ID: 8bf8da3e-2a57-40b9-be9b-0c36d7b72e94\n",
            "  Args:\n",
            "    __arg1: P101\n"
          ]
        }
      ]
    },
    {
      "cell_type": "code",
      "source": [
        "state = graph.get_state(config)\n",
        "state.next"
      ],
      "metadata": {
        "colab": {
          "base_uri": "https://localhost:8080/"
        },
        "id": "G1iJeMTssjAp",
        "outputId": "a67ac524-8985-4a63-ec2d-31b53fc95380"
      },
      "execution_count": null,
      "outputs": [
        {
          "output_type": "execute_result",
          "data": {
            "text/plain": [
              "('tools',)"
            ]
          },
          "metadata": {},
          "execution_count": 25
        }
      ]
    },
    {
      "cell_type": "code",
      "source": [
        "for event in graph.stream(None, config, stream_mode=\"values\"):\n",
        "    event['messages'][-1].pretty_print()"
      ],
      "metadata": {
        "colab": {
          "base_uri": "https://localhost:8080/"
        },
        "id": "2hVlavUAsszl",
        "outputId": "bc3a7b52-3112-4d19-cd10-70e8f697f5c1"
      },
      "execution_count": null,
      "outputs": [
        {
          "output_type": "stream",
          "name": "stdout",
          "text": [
            "==================================\u001b[1m Ai Message \u001b[0m==================================\n",
            "Tool Calls:\n",
            "  get_product_details (8bf8da3e-2a57-40b9-be9b-0c36d7b72e94)\n",
            " Call ID: 8bf8da3e-2a57-40b9-be9b-0c36d7b72e94\n",
            "  Args:\n",
            "    __arg1: P101\n",
            "=================================\u001b[1m Tool Message \u001b[0m=================================\n",
            "Name: get_product_details\n",
            "\n",
            "Product: Laptop\n",
            "Price: $10600.0\n",
            "Stock: 5 units\n",
            "Description: High-performance laptop\n",
            "Reviews: Good quality, Worth the price\n",
            "==================================\u001b[1m Ai Message \u001b[0m==================================\n",
            "\n",
            "Product: Laptop\n",
            "Price: $10600.0\n",
            "Stock: 5 units\n",
            "Description: High-performance laptop\n",
            "Reviews: Good quality, Worth the price\n"
          ]
        }
      ]
    },
    {
      "cell_type": "code",
      "source": [
        "config = {'configurable': {\"thread_id\": \"2\" }}\n",
        "msg = graph.invoke({\"messages\": [HumanMessage(content=\"Show me the details of product P101\")]},config)\n",
        "for m in msg[\"messages\"]:\n",
        "  m.pretty_print()\n",
        "# Get user feedback\n",
        "user_approval = input(\"Do you want to call the tool? (yes/no): \")\n",
        "\n",
        "# Check approval\n",
        "if user_approval.lower() == \"yes\":\n",
        "\n",
        "    # If approved, continue the graph execution\n",
        "    for event in graph.stream(None, config, stream_mode=\"values\"):\n",
        "        event['messages'][-1].pretty_print()\n",
        "\n",
        "else:\n",
        "    print(\"Operation cancelled by user.\")"
      ],
      "metadata": {
        "colab": {
          "base_uri": "https://localhost:8080/"
        },
        "id": "AIq_S_-xvkzI",
        "outputId": "9511250c-c628-4817-bfd7-34e1db0bb444"
      },
      "execution_count": null,
      "outputs": [
        {
          "output_type": "stream",
          "name": "stdout",
          "text": [
            "================================\u001b[1m Human Message \u001b[0m=================================\n",
            "\n",
            "Show me the details of product P101\n",
            "==================================\u001b[1m Ai Message \u001b[0m==================================\n",
            "Tool Calls:\n",
            "  get_product_details (dd26d4a0-1bad-4c0e-9632-56b259f394ae)\n",
            " Call ID: dd26d4a0-1bad-4c0e-9632-56b259f394ae\n",
            "  Args:\n",
            "    __arg1: P101\n",
            "Do you want to call the tool? (yes/no): yes\n",
            "==================================\u001b[1m Ai Message \u001b[0m==================================\n",
            "Tool Calls:\n",
            "  get_product_details (dd26d4a0-1bad-4c0e-9632-56b259f394ae)\n",
            " Call ID: dd26d4a0-1bad-4c0e-9632-56b259f394ae\n",
            "  Args:\n",
            "    __arg1: P101\n",
            "=================================\u001b[1m Tool Message \u001b[0m=================================\n",
            "Name: get_product_details\n",
            "\n",
            "Product: Laptop\n",
            "Price: $10600.0\n",
            "Stock: 5 units\n",
            "Description: High-performance laptop\n",
            "Reviews: Good quality, Worth the price\n",
            "==================================\u001b[1m Ai Message \u001b[0m==================================\n",
            "\n",
            "Product: Laptop\n",
            "Price: $10600.0\n",
            "Stock: 5 units\n",
            "Description: High-performance laptop\n",
            "Reviews: Good quality, Worth the price\n"
          ]
        }
      ]
    },
    {
      "cell_type": "code",
      "source": [
        "sys_msg = SystemMessage(content=\"You are a smart E-commerce assistant tasked with helping customers and sellers by providing product details, managing inventory, calculating shipping costs, tracking orders, and recommending products.\")\n",
        "\n",
        "def human_feedback(state: MessagesState):\n",
        "    pass\n",
        "\n",
        "# Assistant node\n",
        "def assistant(state: MessagesState):\n",
        "   return {\"messages\": [llm_with_tools.invoke([sys_msg] + state[\"messages\"])]}\n",
        "\n",
        "# Graph\n",
        "builder: StateGraph = StateGraph(MessagesState)\n",
        "\n",
        "# Define nodes: these do the work\n",
        "builder.add_node(\"assistant\", assistant)\n",
        "builder.add_node(\"tools\", ToolNode(tools))\n",
        "builder.add_node(\"human_feedback\", human_feedback)\n",
        "\n",
        "# Define edges: these determine the control flow\n",
        "builder.add_edge(START, \"human_feedback\")\n",
        "builder.add_edge(\"human_feedback\", \"assistant\")\n",
        "builder.add_conditional_edges(\n",
        "    \"assistant\",\n",
        "    # If the latest message (result) from assistant is a tool call -> tools_condition routes to tools\n",
        "    # If the latest message (result) from assistant is a not a tool call -> tools_condition routes to END\n",
        "    tools_condition,\n",
        ")\n",
        "builder.add_edge(\"tools\", \"human_feedback\")\n",
        "\n",
        "memory = MemorySaver()\n",
        "graph = builder.compile(interrupt_before=[\"human_feedback\"], checkpointer=memory)\n",
        "display(Image(graph.get_graph().draw_mermaid_png()))\n"
      ],
      "metadata": {
        "colab": {
          "base_uri": "https://localhost:8080/",
          "height": 407
        },
        "id": "k78rOkBQwI-v",
        "outputId": "baf2c250-88e0-4287-8233-0a5e97dbe1b5"
      },
      "execution_count": null,
      "outputs": [
        {
          "output_type": "display_data",
          "data": {
            "image/png": "[encoded data removed]",
            "text/plain": [
              "<IPython.core.display.Image object>"
            ]
          },
          "metadata": {}
        }
      ]
    },
    {
      "cell_type": "code",
      "source": [
        "config = {'configurable': {\"thread_id\": \"3\" }}\n",
        "msg = graph.invoke({\"messages\": [HumanMessage(content=\"Show me the details of product P101\")]},config)\n",
        "for m in msg[\"messages\"]:\n",
        "  m.pretty_print()\n",
        "# Get user input\n",
        "user_input = input(\"Tell me how you want to update the state: \")\n",
        "\n",
        "# We now update the state as if we are the human_feedback node\n",
        "graph.update_state(config, {\"messages\": user_input}, as_node=\"human_feedback\")\n",
        "\n",
        "# Continue the graph execution\n",
        "for event in graph.stream(None, config, stream_mode=\"values\"):\n",
        "    event[\"messages\"][-1].pretty_print()"
      ],
      "metadata": {
        "colab": {
          "base_uri": "https://localhost:8080/"
        },
        "id": "wcP6fiNxwuMW",
        "outputId": "1ce0f725-9572-4e98-e89c-2da7473bb0cb"
      },
      "execution_count": null,
      "outputs": [
        {
          "output_type": "stream",
          "name": "stdout",
          "text": [
            "================================\u001b[1m Human Message \u001b[0m=================================\n",
            "\n",
            "Show me the details of product P101\n",
            "Tell me how you want to update the state: This product is not available\n",
            "================================\u001b[1m Human Message \u001b[0m=================================\n",
            "\n",
            "This product is not available\n",
            "==================================\u001b[1m Ai Message \u001b[0m==================================\n",
            "\n",
            "Could you please specify which product you're inquiring about?  I need a product ID or name to check its availability and details.\n"
          ]
        }
      ]
    },
    {
      "cell_type": "code",
      "source": [
        "config = {'configurable': {\"thread_id\": \"4\" }}\n",
        "msg = graph.invoke({\"messages\": [HumanMessage(content=\"Show me the details of product P101\")]},config)\n",
        "for m in msg[\"messages\"]:\n",
        "  m.pretty_print()\n",
        "# Get user input\n",
        "user_approval = input(\"Do you want to call the tool? (yes/no): \")\n",
        "\n",
        "# Check approval\n",
        "if user_approval.lower() == \"yes\":\n",
        "\n",
        "    # If approved, continue the graph execution\n",
        "    for event in graph.stream(None, config, stream_mode=\"values\"):\n",
        "        event['messages'][-1].pretty_print()\n",
        "\n",
        "else:\n",
        "    print(\"Operation cancelled by user.\")"
      ],
      "metadata": {
        "colab": {
          "base_uri": "https://localhost:8080/"
        },
        "id": "_O-k267A1SL8",
        "outputId": "8f3d44f7-8159-4a3a-fb55-8dd1ea07166a"
      },
      "execution_count": null,
      "outputs": [
        {
          "output_type": "stream",
          "name": "stdout",
          "text": [
            "================================\u001b[1m Human Message \u001b[0m=================================\n",
            "\n",
            "Show me the details of product P101\n",
            "Do you want to call the tool? (yes/no): no\n",
            "Operation cancelled by user.\n"
          ]
        }
      ]
    },
    {
      "cell_type": "markdown",
      "source": [
        "# ***REMARKS ***\n",
        "I have learned from the human feedback nodes how a chatbot and a human connect with each other. Here, I understood how the chatbot clarifies with a human when it doesn’t understand something. I also learned how to interrupt tools and humans effectively. However, I couldn’t implement long-term memory because it was causing some issues alongside interruptions."
      ],
      "metadata": {
        "id": "8qesrzUDzwC3"
      }
    }
  ]
}