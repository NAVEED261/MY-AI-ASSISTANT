{
  "nbformat": 4,
  "nbformat_minor": 0,
  "metadata": {
    "colab": {
      "provenance": [],
      "authorship_tag": "ABX9TyOJEjNAfHnV7sGQVjyKz5/R",
      "include_colab_link": true
    },
    "kernelspec": {
      "name": "python3",
      "display_name": "Python 3"
    },
    "language_info": {
      "name": "python"
    }
  },
  "cells": [
    {
      "cell_type": "markdown",
      "metadata": {
        "id": "view-in-github",
        "colab_type": "text"
      },
      "source": [
        "<a href=\"https://colab.research.google.com/github/NAVEED261/MY-AI-ASSISTANT/blob/main/Financial_Analysis_AI_Agent.ipynb\" target=\"_parent\"><img src=\"https://colab.research.google.com/assets/colab-badge.svg\" alt=\"Open In Colab\"/></a>"
      ]
    },
    {
      "cell_type": "code",
      "execution_count": 84,
      "metadata": {
        "id": "nJBnFfqD58t6"
      },
      "outputs": [],
      "source": [
        "%%capture --no-stderr\n",
        "!pip install --upgrade langchain langchain_google_genai langgraph\n"
      ]
    },
    {
      "cell_type": "code",
      "source": [
        "import os\n",
        "from google.colab import userdata\n",
        "\n",
        "# Fetch API keys from Notebook secrets\n",
        "GEMINI_API_KEY = userdata.get('GOOGLE_API_KEY')  # Google Gemini API key\n",
        "LANGCHAIN_API_KEY = userdata.get('LANGCHAIN_API_KEY')  # LangSmith API key\n",
        "\n",
        "# Configure environment variables for LangChain and LangSmith\n",
        "os.environ[\"LANGCHAIN_TRACING_V2\"] = \"true\"  # Enable LangSmith tracing\n",
        "os.environ[\"LANGCHAIN_PROJECT\"] = \"memory-enabled-agent\"  # Set LangSmith project name\n",
        "os.environ[\"LANGCHAIN_API_KEY\"] = LANGCHAIN_API_KEY  # Set LangSmith API key\n"
      ],
      "metadata": {
        "id": "CF4IY5mJ6G6l"
      },
      "execution_count": 85,
      "outputs": []
    },
    {
      "cell_type": "code",
      "source": [
        "from langchain_google_genai import ChatGoogleGenerativeAI\n",
        "\n",
        "llm = ChatGoogleGenerativeAI(\n",
        "    model=\"gemini-1.5-flash\",\n",
        "    api_key=GEMINI_API_KEY\n",
        ")\n"
      ],
      "metadata": {
        "id": "cPKHCz016LDy"
      },
      "execution_count": 86,
      "outputs": []
    },
    {
      "cell_type": "code",
      "source": [
        "def calculate_interest(principal: float, rate: float, time: float) -> float:\n",
        "    \"\"\"\n",
        "    Calculates simple interest.\n",
        "    \"\"\"\n",
        "    return (principal * rate * time) / 100\n",
        "\n",
        "def calculate_profit(cost: float, revenue: float) -> float:\n",
        "    \"\"\"\n",
        "    Calculates profit.\n",
        "    \"\"\"\n",
        "    return revenue - cost\n",
        "\n",
        "def compound_interest(principal: float, rate: float, time: float) -> float:\n",
        "    \"\"\"\n",
        "    Calculates compound interest.\n",
        "    \"\"\"\n",
        "    return principal * (1 + rate/100) ** time\n",
        "\n",
        "financial_tools = [calculate_interest, calculate_profit, compound_interest]\n",
        "llm_with_tools = llm.bind_tools(financial_tools)\n"
      ],
      "metadata": {
        "id": "7GB7fk9E_1Hz"
      },
      "execution_count": 87,
      "outputs": []
    },
    {
      "cell_type": "code",
      "source": [
        "llm_with_tools = llm.bind_tools(financial_tools)\n"
      ],
      "metadata": {
        "id": "XAgneGGp6bIL"
      },
      "execution_count": 88,
      "outputs": []
    },
    {
      "cell_type": "code",
      "source": [
        "from langgraph.graph import START, END , StateGraph, MessagesState\n",
        "from langgraph.prebuilt import tools_condition, ToolNode\n",
        "from IPython.display import Image, display\n",
        "from langgraph.graph.state import CompiledStateGraph\n",
        "from langgraph.checkpoint.memory import MemorySaver\n",
        "memory: MemorySaver = MemorySaver()\n",
        "\n",
        "# Define LLM function for the graph\n",
        "def financial_llm(state: MessagesState) -> MessagesState:\n",
        "  # ek assistant bnaya jis ki state ma sub record moujod ha uski type msgstate ha jo state k under tmam msg ki state ha\n",
        "   return {\"messages\": [llm_with_tools.invoke( state[\"messages\"])]}\n",
        "\n",
        "\n",
        "# Build the graph\n",
        "builder: StateGraph = StateGraph(MessagesState)\n",
        "builder.add_node(\"financial_llm\", financial_llm)\n",
        "builder.add_node(\"tools\", ToolNode(financial_tools))\n",
        "\n",
        "builder.add_edge(START, \"financial_llm\")\n",
        "builder.add_conditional_edges(\"financial_llm\", tools_condition)\n",
        "builder.add_edge(\"tools\", \"financial_llm\")\n",
        "\n",
        "# Compile the graph\n",
        "graph: CompiledStateGraph = builder.compile(checkpointer=memory)\n",
        "\n",
        "# Display graph\n",
        "display(Image(graph.get_graph(xray=True).draw_mermaid_png()))\n"
      ],
      "metadata": {
        "colab": {
          "base_uri": "https://localhost:8080/",
          "height": 266
        },
        "id": "IQDXkLIu6fT7",
        "outputId": "55c247a4-50f7-458f-ebd2-8cef7a0854c1"
      },
      "execution_count": 89,
      "outputs": [
        {
          "output_type": "display_data",
          "data": {
            "image/png": "[encoded data removed]",
            "text/plain": [
              "<IPython.core.display.Image object>"
            ]
          },
          "metadata": {}
        }
      ]
    },
    {
      "cell_type": "code",
      "source": [
        "from langchain.schema import HumanMessage\n",
        "\n",
        "# Configuration for the test\n",
        "config1 = {\"configurable\": {\"thread_id\": \"finance1\"}}"
      ],
      "metadata": {
        "id": "YtFuHe-W9M57"
      },
      "execution_count": 90,
      "outputs": []
    },
    {
      "cell_type": "code",
      "source": [
        "messages = graph.invoke({\"messages\": [HumanMessage(content=\"Calculate simple interest for principal 10000, rate 5, and time 2 years.\")]},config1)\n",
        "for m in messages['messages']:\n",
        "    m.pretty_print()\n",
        "\n"
      ],
      "metadata": {
        "colab": {
          "base_uri": "https://localhost:8080/"
        },
        "id": "knTYh0bF6kWD",
        "outputId": "1c549aef-834e-4f21-805d-432b38b0aa30"
      },
      "execution_count": 91,
      "outputs": [
        {
          "output_type": "stream",
          "name": "stderr",
          "text": [
            "WARNING:langsmith.client:Failed to multipart ingest runs: langsmith.utils.LangSmithAuthError: Authentication failed for https://api.smith.langchain.com/runs/multipart. HTTPError('401 Client Error: Unauthorized for url: https://api.smith.langchain.com/runs/multipart', '{\"detail\":\"Invalid token\"}')trace=fe1db4b9-18b3-4df2-b31b-ceae15c77386,id=fe1db4b9-18b3-4df2-b31b-ceae15c77386; trace=fe1db4b9-18b3-4df2-b31b-ceae15c77386,id=d510660e-45db-4d50-a4fe-de3018069173; trace=fe1db4b9-18b3-4df2-b31b-ceae15c77386,id=e67daa3e-df29-4f7d-9086-a2bef262c03e; trace=fe1db4b9-18b3-4df2-b31b-ceae15c77386,id=6737aeaa-db73-41ed-8c6c-fbfe607e6cdc\n",
            "WARNING:langsmith.client:Failed to multipart ingest runs: langsmith.utils.LangSmithAuthError: Authentication failed for https://api.smith.langchain.com/runs/multipart. HTTPError('401 Client Error: Unauthorized for url: https://api.smith.langchain.com/runs/multipart', '{\"detail\":\"Invalid token\"}')trace=fe1db4b9-18b3-4df2-b31b-ceae15c77386,id=33d842fa-ad17-45c5-b17e-afbda415e94e; trace=fe1db4b9-18b3-4df2-b31b-ceae15c77386,id=b69fd3fb-d0ff-4d09-a045-b95f1604d85e; trace=fe1db4b9-18b3-4df2-b31b-ceae15c77386,id=592a62be-0902-4f0f-8502-b11acf61662b; trace=fe1db4b9-18b3-4df2-b31b-ceae15c77386,id=8efa2c66-23b8-40af-903c-2611f8362a12; trace=fe1db4b9-18b3-4df2-b31b-ceae15c77386,id=32d5156a-23f9-49bd-9db1-e3bca4a20cce; trace=fe1db4b9-18b3-4df2-b31b-ceae15c77386,id=15458d14-2b1c-40e2-aad7-1f4d5e582cae; trace=fe1db4b9-18b3-4df2-b31b-ceae15c77386,id=1801c29b-7a9a-4d44-8cd8-4ab141099c42; trace=fe1db4b9-18b3-4df2-b31b-ceae15c77386,id=6737aeaa-db73-41ed-8c6c-fbfe607e6cdc; trace=fe1db4b9-18b3-4df2-b31b-ceae15c77386,id=e67daa3e-df29-4f7d-9086-a2bef262c03e\n"
          ]
        },
        {
          "output_type": "stream",
          "name": "stdout",
          "text": [
            "================================\u001b[1m Human Message \u001b[0m=================================\n",
            "\n",
            "Calculate simple interest for principal 10000, rate 5, and time 2 years.\n",
            "==================================\u001b[1m Ai Message \u001b[0m==================================\n",
            "Tool Calls:\n",
            "  calculate_interest (7272a73a-3e21-4a93-a731-72417807f4bf)\n",
            " Call ID: 7272a73a-3e21-4a93-a731-72417807f4bf\n",
            "  Args:\n",
            "    principal: 10000.0\n",
            "    rate: 5.0\n",
            "    time: 2.0\n",
            "=================================\u001b[1m Tool Message \u001b[0m=================================\n",
            "Name: calculate_interest\n",
            "\n",
            "1000.0\n",
            "==================================\u001b[1m Ai Message \u001b[0m==================================\n",
            "\n",
            "Simple interest is 1000.\n"
          ]
        },
        {
          "output_type": "stream",
          "name": "stderr",
          "text": [
            "WARNING:langsmith.client:Failed to multipart ingest runs: langsmith.utils.LangSmithAuthError: Authentication failed for https://api.smith.langchain.com/runs/multipart. HTTPError('401 Client Error: Unauthorized for url: https://api.smith.langchain.com/runs/multipart', '{\"detail\":\"Invalid token\"}')trace=fe1db4b9-18b3-4df2-b31b-ceae15c77386,id=aa5b24eb-b9a0-4bb4-b8bb-d0741fcc02cf; trace=fe1db4b9-18b3-4df2-b31b-ceae15c77386,id=03e0f1d1-0e39-42c8-a62e-04fd5a5d0d48; trace=fe1db4b9-18b3-4df2-b31b-ceae15c77386,id=15458d14-2b1c-40e2-aad7-1f4d5e582cae; trace=fe1db4b9-18b3-4df2-b31b-ceae15c77386,id=1801c29b-7a9a-4d44-8cd8-4ab141099c42; trace=fe1db4b9-18b3-4df2-b31b-ceae15c77386,id=fe1db4b9-18b3-4df2-b31b-ceae15c77386\n"
          ]
        }
      ]
    },
    {
      "cell_type": "code",
      "source": [
        "messages = graph.invoke({\"messages\": [HumanMessage(content=\"Calculate compound interest for principal 15000, rate 7%, and time 3 years..\")]},config1)\n",
        "for m in messages['messages']:\n",
        "    m.pretty_print()\n",
        ""
      ],
      "metadata": {
        "colab": {
          "base_uri": "https://localhost:8080/"
        },
        "id": "LKdR_TMDGq4s",
        "outputId": "33ec03a9-a5b2-4271-8080-7ca1baf62b65"
      },
      "execution_count": 92,
      "outputs": [
        {
          "output_type": "stream",
          "name": "stderr",
          "text": [
            "WARNING:langsmith.client:Failed to multipart ingest runs: langsmith.utils.LangSmithAuthError: Authentication failed for https://api.smith.langchain.com/runs/multipart. HTTPError('401 Client Error: Unauthorized for url: https://api.smith.langchain.com/runs/multipart', '{\"detail\":\"Invalid token\"}')trace=d6e5da0f-6dcd-42dd-acf1-24f8b3675e4f,id=d6e5da0f-6dcd-42dd-acf1-24f8b3675e4f; trace=d6e5da0f-6dcd-42dd-acf1-24f8b3675e4f,id=d3019b50-03d8-42a6-b0b6-8790b50afecf; trace=d6e5da0f-6dcd-42dd-acf1-24f8b3675e4f,id=fff15265-940f-40c9-aa63-4c951178bebf; trace=d6e5da0f-6dcd-42dd-acf1-24f8b3675e4f,id=7796369c-743e-4acf-8ffd-86c125d3bd53\n",
            "WARNING:langsmith.client:Failed to multipart ingest runs: langsmith.utils.LangSmithAuthError: Authentication failed for https://api.smith.langchain.com/runs/multipart. HTTPError('401 Client Error: Unauthorized for url: https://api.smith.langchain.com/runs/multipart', '{\"detail\":\"Invalid token\"}')trace=d6e5da0f-6dcd-42dd-acf1-24f8b3675e4f,id=8fedec44-88ce-41ea-bf81-bd48a0fc5aa4; trace=d6e5da0f-6dcd-42dd-acf1-24f8b3675e4f,id=7eae4998-b8c6-4c37-b458-51b00727963b; trace=d6e5da0f-6dcd-42dd-acf1-24f8b3675e4f,id=78fee176-9e73-4365-bc7b-9d0f7b287d94; trace=d6e5da0f-6dcd-42dd-acf1-24f8b3675e4f,id=a86e3036-b154-4c8f-a524-646686ca33b3; trace=d6e5da0f-6dcd-42dd-acf1-24f8b3675e4f,id=444c998c-811e-4e07-8a71-e1594e7602f7; trace=d6e5da0f-6dcd-42dd-acf1-24f8b3675e4f,id=c6223f6b-cd9f-4653-8751-39f8afd41f04; trace=d6e5da0f-6dcd-42dd-acf1-24f8b3675e4f,id=571827c7-06b3-498f-9df6-f28c24a39a6c; trace=d6e5da0f-6dcd-42dd-acf1-24f8b3675e4f,id=7796369c-743e-4acf-8ffd-86c125d3bd53; trace=d6e5da0f-6dcd-42dd-acf1-24f8b3675e4f,id=fff15265-940f-40c9-aa63-4c951178bebf\n"
          ]
        },
        {
          "output_type": "stream",
          "name": "stdout",
          "text": [
            "================================\u001b[1m Human Message \u001b[0m=================================\n",
            "\n",
            "Calculate simple interest for principal 10000, rate 5, and time 2 years.\n",
            "==================================\u001b[1m Ai Message \u001b[0m==================================\n",
            "Tool Calls:\n",
            "  calculate_interest (7272a73a-3e21-4a93-a731-72417807f4bf)\n",
            " Call ID: 7272a73a-3e21-4a93-a731-72417807f4bf\n",
            "  Args:\n",
            "    principal: 10000.0\n",
            "    rate: 5.0\n",
            "    time: 2.0\n",
            "=================================\u001b[1m Tool Message \u001b[0m=================================\n",
            "Name: calculate_interest\n",
            "\n",
            "1000.0\n",
            "==================================\u001b[1m Ai Message \u001b[0m==================================\n",
            "\n",
            "Simple interest is 1000.\n",
            "================================\u001b[1m Human Message \u001b[0m=================================\n",
            "\n",
            "Calculate compound interest for principal 15000, rate 7%, and time 3 years..\n",
            "==================================\u001b[1m Ai Message \u001b[0m==================================\n",
            "Tool Calls:\n",
            "  compound_interest (2d4d1bc4-1ca4-4ac0-b0b0-1b07c40b5481)\n",
            " Call ID: 2d4d1bc4-1ca4-4ac0-b0b0-1b07c40b5481\n",
            "  Args:\n",
            "    rate: 7.0\n",
            "    principal: 15000.0\n",
            "    time: 3.0\n",
            "=================================\u001b[1m Tool Message \u001b[0m=================================\n",
            "Name: compound_interest\n",
            "\n",
            "18375.645\n",
            "==================================\u001b[1m Ai Message \u001b[0m==================================\n",
            "\n",
            "Compound interest is 18375.645.\n"
          ]
        }
      ]
    }
  ]
}