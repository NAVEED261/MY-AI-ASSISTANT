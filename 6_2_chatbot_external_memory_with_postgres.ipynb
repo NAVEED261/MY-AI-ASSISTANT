{
  "nbformat": 4,
  "nbformat_minor": 0,
  "metadata": {
    "colab": {
      "provenance": [],
      "include_colab_link": true
    },
    "kernelspec": {
      "name": "python3",
      "display_name": "Python 3"
    },
    "language_info": {
      "name": "python"
    }
  },
  "cells": [
    {
      "cell_type": "markdown",
      "metadata": {
        "id": "view-in-github",
        "colab_type": "text"
      },
      "source": [
        "<a href=\"https://colab.research.google.com/github/NAVEED261/MY-AI-ASSISTANT/blob/main/6_2_chatbot_external_memory_with_postgres.ipynb\" target=\"_parent\"><img src=\"https://colab.research.google.com/assets/colab-badge.svg\" alt=\"Open In Colab\"/></a>"
      ]
    },
    {
      "cell_type": "markdown",
      "source": [
        "# Chatbot with message summarization & external DB memory\n",
        "\n",
        "## Review\n",
        "\n",
        "We've covered how to customize graph state schema and reducer.\n",
        "\n",
        "We've also shown a number of tricks for trimming or filtering messages in graph state.\n",
        "\n",
        "We've used these concepts in a Chatbot with memory that produces a running summary of the conversation.\n",
        "\n",
        "## Goals\n",
        "\n",
        "But, what if we want our Chatbot to have memory that persists indefinitely?\n",
        "\n",
        "Now, we'll introduce some more advanced checkpointers that support external databases.\n",
        "\n",
        "Here, we'll show how to use [Postgres as a checkpointer](https://langchain-ai.github.io/langgraph/how-tos/persistence_postgres/)"
      ],
      "metadata": {
        "id": "9iKKYdAkVoxu"
      }
    },
    {
      "cell_type": "code",
      "execution_count": null,
      "metadata": {
        "id": "Lwi6YkLu31aK"
      },
      "outputs": [],
      "source": [
        "%%capture --no-stderr\n",
        "%pip install -U langgraph langgraph-checkpoint-postgres psycopg psycopg-pool langchain_google_genai\n"
      ]
    },
    {
      "cell_type": "code",
      "source": [
        "from google.colab import userdata\n",
        "GEMINI_API_KEY = userdata.get('GOOGLE_API_KEY')"
      ],
      "metadata": {
        "id": "i6Tn95wS4rxz"
      },
      "execution_count": null,
      "outputs": []
    },
    {
      "cell_type": "code",
      "source": [
        "import os\n",
        "os.environ[\"Langchain_api_key\"] = userdata.get('Langchain_api_key')\n",
        "os.environ[\"LANGCHAIN_TRACING_V2\"] = \"true\"\n",
        "os.environ[\"LANGCHAIN_PROJECT\"] = \"langchain-academy\""
      ],
      "metadata": {
        "id": "qtL0cG1B8pMt"
      },
      "execution_count": null,
      "outputs": []
    },
    {
      "cell_type": "markdown",
      "source": [
        "# Use sync connection¶\n",
        "This sets up a synchronous connection to the database.\n",
        "\n",
        "Synchronous connections execute operations in a blocking manner, meaning each operation waits for completion before moving to the next one. The DB_URI is the database connection URI, with the protocol used for connecting to a PostgreSQL database, authentication, and host where database is running. The connection_kwargs dictionary defines additional parameters for the database connection."
      ],
      "metadata": {
        "id": "AqAjciKmV6vl"
      }
    },
    {
      "cell_type": "code",
      "source": [
        "from google.colab import userdata\n",
        "DB_URI = userdata.get('DB_URI')"
      ],
      "metadata": {
        "id": "cP2TdPSB3-dO"
      },
      "execution_count": null,
      "outputs": []
    },
    {
      "cell_type": "code",
      "source": [
        "from psycopg_pool import ConnectionPool\n",
        "from langgraph.checkpoint.postgres import PostgresSaver\n",
        "\n",
        "# Connection pool for efficient database access\n",
        "connection_kwargs = {\"autocommit\": True, \"prepare_threshold\": 0}\n",
        "\n",
        "# Create a persistent connection pool\n",
        "pool = ConnectionPool(conninfo=DB_URI, max_size=20, kwargs=connection_kwargs)\n",
        "\n",
        "# Initialize PostgresSaver checkpointer\n",
        "checkpointer = PostgresSaver(pool)\n",
        "checkpointer.setup()  # Ensure database tables are set up\n"
      ],
      "metadata": {
        "id": "0XCqHjWM4LTc"
      },
      "execution_count": null,
      "outputs": []
    },
    {
      "cell_type": "markdown",
      "source": [
        "Let's re-define our chatbot."
      ],
      "metadata": {
        "id": "w9All8mCV1o0"
      }
    },
    {
      "cell_type": "code",
      "source": [
        "from langchain_google_genai import ChatGoogleGenerativeAI\n",
        "from langchain_core.messages import SystemMessage, HumanMessage, RemoveMessage\n",
        "\n",
        "from langgraph.graph import END\n",
        "from langgraph.graph import MessagesState\n",
        "\n",
        "model: ChatGoogleGenerativeAI = ChatGoogleGenerativeAI(model = \"gemini-1.5-flash\", api_key =  GEMINI_API_KEY)\n",
        "\n",
        "class State(MessagesState):\n",
        "    summary: str\n",
        "\n",
        "# Define the logic to call the model\n",
        "def call_model(state: State) -> State:\n",
        "\n",
        "    # Get summary if it exists\n",
        "    summary = state.get(\"summary\", \"\")\n",
        "    print(f\"Using summary: {summary}\")\n",
        "\n",
        "    # If there is summary, then we add it\n",
        "    if summary:\n",
        "\n",
        "        # Add summary to system message\n",
        "        system_message = f\"Summary of conversation earlier: {summary}\"\n",
        "\n",
        "        # Append summary to any newer messages\n",
        "        messages = [SystemMessage(content=system_message)] + state[\"messages\"]\n",
        "\n",
        "    else:\n",
        "        messages = state[\"messages\"]\n",
        "\n",
        "    response = model.invoke(messages)\n",
        "    return {\"messages\": response}\n",
        "\n",
        "def summarize_conversation(state: State) -> State:\n",
        "    print(f\"Messages before summarizing: {len(state['messages'])}\")\n",
        "    # First, we get any existing summary\n",
        "    summary = state.get(\"summary\", \"\")\n",
        "    print(f\"Existing summary: {summary}\")\n",
        "\n",
        "    # Create our summarization prompt\n",
        "    if summary:\n",
        "\n",
        "        # A summary already exists\n",
        "        summary_message = (\n",
        "            f\"This is summary of the conversation to date: {summary}\\n\\n\"\n",
        "            \"Extend the summary by taking into account the new messages above:\"\n",
        "        )\n",
        "\n",
        "    else:\n",
        "        summary_message = \"Create a summary of the conversation above:\"\n",
        "\n",
        "\n",
        "    # Add prompt to our history\n",
        "    messages = state[\"messages\"] + [HumanMessage(content=summary_message)]\n",
        "    response = model.invoke(messages)\n",
        "    # Summarization logic\n",
        "    print(f\"New summary: {response.content}\")\n",
        "\n",
        "    # Delete all but the 2 most recent messages\n",
        "    delete_messages = [RemoveMessage(id=m.id) for m in state[\"messages\"][:-2]]\n",
        "\n",
        "    print(f\"Messages after truncation: {len(delete_messages)}\")\n",
        "    return {\"summary\": response.content, \"messages\": delete_messages}\n",
        "\n",
        "# Determine whether to end or summarize the conversation\n",
        "def should_continue(state: State) -> State:\n",
        "\n",
        "    \"\"\"Return the next node to execute.\"\"\"\n",
        "\n",
        "    messages = state[\"messages\"]\n",
        "    print(f\"Message count: {len(messages)}\")\n",
        "    # If there are more than six messages, then we summarize the conversation\n",
        "    if len(messages) > 6:\n",
        "        return \"summarize_conversation\"\n",
        "\n",
        "    # Otherwise we can just end\n",
        "    return END"
      ],
      "metadata": {
        "id": "kvU-4FnS4Wxu"
      },
      "execution_count": null,
      "outputs": []
    },
    {
      "cell_type": "markdown",
      "source": [
        "Now, we just re-compile with our postgres checkpointer."
      ],
      "metadata": {
        "id": "zzIVvGsXWap4"
      }
    },
    {
      "cell_type": "code",
      "source": [
        "from langgraph.graph import StateGraph, START, END\n",
        "from langgraph.graph.state import CompiledStateGraph\n",
        "\n",
        "# Redefine workflow\n",
        "workflow = StateGraph(State)\n",
        "workflow.add_node(\"conversation\", call_model)\n",
        "workflow.add_node(summarize_conversation)\n",
        "\n",
        "workflow.add_edge(START, \"conversation\")\n",
        "workflow.add_conditional_edges(\"conversation\", should_continue)\n",
        "workflow.add_edge(\"summarize_conversation\", END)\n",
        "\n",
        "# Compile the workflow with PostgreSQL checkpointer\n",
        "graph = workflow.compile(checkpointer=checkpointer)\n"
      ],
      "metadata": {
        "id": "d7wrnazV4mdo"
      },
      "execution_count": null,
      "outputs": []
    },
    {
      "cell_type": "markdown",
      "source": [
        "Now, we can invoke the graph several times."
      ],
      "metadata": {
        "id": "C_KTIXuvWkT0"
      }
    },
    {
      "cell_type": "code",
      "source": [
        "# Configuration for thread\n",
        "config = {\"configurable\": {\"thread_id\": \"1\"}}\n",
        "\n",
        "# Start a conversation\n",
        "input_message = HumanMessage(content=\"hi! I'm hafiz naveed uddin\")\n",
        "output = graph.invoke({\"messages\": [input_message]}, config)\n",
        "for m in output['messages'][-1:]:\n",
        "    m.pretty_print()\n",
        "\n",
        "# Check the persisted state\n",
        "graph_state = graph.get_state(config)\n",
        "graph_state"
      ],
      "metadata": {
        "colab": {
          "base_uri": "https://localhost:8080/"
        },
        "id": "Wk129iSWZapB",
        "outputId": "5c5aed3d-c6e1-4ad1-e0f7-2b5b645a6032"
      },
      "execution_count": null,
      "outputs": [
        {
          "output_type": "stream",
          "name": "stderr",
          "text": [
            "WARNING:langsmith.client:Failed to multipart ingest runs: langsmith.utils.LangSmithAuthError: Authentication failed for https://api.smith.langchain.com/runs/multipart. HTTPError('401 Client Error: Unauthorized for url: https://api.smith.langchain.com/runs/multipart', '{\"detail\":\"Invalid token\"}')trace=9a2eade9-100f-4cef-bf12-113cc9f35203,id=9a2eade9-100f-4cef-bf12-113cc9f35203\n",
            "WARNING:langsmith.client:Failed to multipart ingest runs: langsmith.utils.LangSmithAuthError: Authentication failed for https://api.smith.langchain.com/runs/multipart. HTTPError('401 Client Error: Unauthorized for url: https://api.smith.langchain.com/runs/multipart', '{\"detail\":\"Invalid token\"}')trace=9a2eade9-100f-4cef-bf12-113cc9f35203,id=3f152956-3314-4fb5-a3c5-ff09f2a1a744; trace=9a2eade9-100f-4cef-bf12-113cc9f35203,id=76275c96-1fc4-4edf-8445-6ce07141025b; trace=9a2eade9-100f-4cef-bf12-113cc9f35203,id=f5e4a97d-3f2e-49bb-88b1-cb44d5f16d94; trace=9a2eade9-100f-4cef-bf12-113cc9f35203,id=1a705195-d0f0-46f6-8547-60882783b94f; trace=9a2eade9-100f-4cef-bf12-113cc9f35203,id=f58b14cd-5bb3-4d50-a3a4-e33402b4183a\n"
          ]
        },
        {
          "output_type": "stream",
          "name": "stdout",
          "text": [
            "Using summary: The conversation began with Wania introducing herself.  She then stated that she enjoys painting.  We discussed her hobby briefly, and finally, she asked me to summarize our conversation, which I am now doing.\n",
            "\n"
          ]
        },
        {
          "output_type": "stream",
          "name": "stderr",
          "text": [
            "WARNING:langsmith.client:Failed to multipart ingest runs: langsmith.utils.LangSmithAuthError: Authentication failed for https://api.smith.langchain.com/runs/multipart. HTTPError('401 Client Error: Unauthorized for url: https://api.smith.langchain.com/runs/multipart', '{\"detail\":\"Invalid token\"}')trace=9a2eade9-100f-4cef-bf12-113cc9f35203,id=2d0aeb4d-129e-4b64-8377-0a2814a4fa00; trace=9a2eade9-100f-4cef-bf12-113cc9f35203,id=b0dd106e-c6a2-4d1e-a97d-b0c48ff93b8a; trace=9a2eade9-100f-4cef-bf12-113cc9f35203,id=1a705195-d0f0-46f6-8547-60882783b94f; trace=9a2eade9-100f-4cef-bf12-113cc9f35203,id=f58b14cd-5bb3-4d50-a3a4-e33402b4183a\n"
          ]
        },
        {
          "output_type": "stream",
          "name": "stdout",
          "text": [
            "Message count: 4\n",
            "==================================\u001b[1m Ai Message \u001b[0m==================================\n",
            "\n",
            "Hi Hafiz Naveed Uddin!  It's nice to meet you. How can I help you today?\n"
          ]
        },
        {
          "output_type": "execute_result",
          "data": {
            "text/plain": [
              "StateSnapshot(values={'messages': [HumanMessage(content=\"hi! I'm Wania\", additional_kwargs={}, response_metadata={}, id='8f12d944-d396-452f-b5e5-facd70a69850'), AIMessage(content=\"Hi Wania!  It's nice to talk to you again.  How's your painting going?\\n\", additional_kwargs={}, response_metadata={'prompt_feedback': {'block_reason': 0, 'safety_ratings': []}, 'finish_reason': 'STOP', 'safety_ratings': []}, id='run-dd5e0bca-b09f-47a8-bea6-d6db87a01377-0', usage_metadata={'input_tokens': 106, 'output_tokens': 24, 'total_tokens': 130, 'input_token_details': {'cache_read': 0}}), HumanMessage(content=\"hi! I'm hafiz naveed uddin\", additional_kwargs={}, response_metadata={}, id='414753fd-174c-4d6c-aefe-4d3ff9b954b5'), AIMessage(content=\"Hi Hafiz Naveed Uddin!  It's nice to meet you. How can I help you today?\\n\", additional_kwargs={}, response_metadata={'prompt_feedback': {'block_reason': 0, 'safety_ratings': []}, 'finish_reason': 'STOP', 'safety_ratings': []}, id='run-f58b14cd-5bb3-4d50-a3a4-e33402b4183a-0', usage_metadata={'input_tokens': 93, 'output_tokens': 25, 'total_tokens': 118, 'input_token_details': {'cache_read': 0}})], 'summary': 'The conversation began with Wania introducing herself.  She then stated that she enjoys painting.  We discussed her hobby briefly, and finally, she asked me to summarize our conversation, which I am now doing.\\n'}, next=(), config={'configurable': {'thread_id': '1', 'checkpoint_ns': '', 'checkpoint_id': '1efc8f1f-c2f8-6c6b-800e-b6239fab7274'}}, metadata={'step': 14, 'source': 'loop', 'writes': {'conversation': {'messages': AIMessage(content=\"Hi Hafiz Naveed Uddin!  It's nice to meet you. How can I help you today?\\n\", additional_kwargs={}, response_metadata={'finish_reason': 'STOP', 'safety_ratings': [], 'prompt_feedback': {'block_reason': 0, 'safety_ratings': []}}, id='run-f58b14cd-5bb3-4d50-a3a4-e33402b4183a-0', usage_metadata={'input_tokens': 93, 'output_tokens': 25, 'total_tokens': 118, 'input_token_details': {'cache_read': 0}})}}, 'parents': {}, 'thread_id': '1'}, created_at='2025-01-02T10:11:51.542256+00:00', parent_config={'configurable': {'thread_id': '1', 'checkpoint_ns': '', 'checkpoint_id': '1efc8f1f-bef3-604f-800d-2d9e2d8824d0'}}, tasks=())"
            ]
          },
          "metadata": {},
          "execution_count": 36
        },
        {
          "output_type": "stream",
          "name": "stderr",
          "text": [
            "WARNING:langsmith.client:Failed to multipart ingest runs: langsmith.utils.LangSmithAuthError: Authentication failed for https://api.smith.langchain.com/runs/multipart. HTTPError('401 Client Error: Unauthorized for url: https://api.smith.langchain.com/runs/multipart', '{\"detail\":\"Invalid token\"}')trace=9a2eade9-100f-4cef-bf12-113cc9f35203,id=9a2eade9-100f-4cef-bf12-113cc9f35203\n"
          ]
        }
      ]
    },
    {
      "cell_type": "code",
      "source": [
        "# Configuration for thread\n",
        "config = {\"configurable\": {\"thread_id\": \"1\"}}\n",
        "\n",
        "# Start a conversation\n",
        "input_message = HumanMessage(content=\"I like painting pictures.\")\n",
        "output = graph.invoke({\"messages\": [input_message]}, config)\n",
        "for m in output['messages'][-1:]:\n",
        "    m.pretty_print()\n",
        "\n",
        "# Check the persisted state\n",
        "graph_state = graph.get_state(config)\n",
        "graph_state"
      ],
      "metadata": {
        "colab": {
          "base_uri": "https://localhost:8080/"
        },
        "id": "HxWCVPkuZvf-",
        "outputId": "3078f726-ed1b-4078-8409-38453dfdd2f3"
      },
      "execution_count": null,
      "outputs": [
        {
          "output_type": "stream",
          "name": "stderr",
          "text": [
            "WARNING:langsmith.client:Failed to multipart ingest runs: langsmith.utils.LangSmithAuthError: Authentication failed for https://api.smith.langchain.com/runs/multipart. HTTPError('401 Client Error: Unauthorized for url: https://api.smith.langchain.com/runs/multipart', '{\"detail\":\"Invalid token\"}')trace=0f627cdb-1992-422e-895e-6d90414df4d9,id=0f627cdb-1992-422e-895e-6d90414df4d9\n",
            "WARNING:langsmith.client:Failed to multipart ingest runs: langsmith.utils.LangSmithAuthError: Authentication failed for https://api.smith.langchain.com/runs/multipart. HTTPError('401 Client Error: Unauthorized for url: https://api.smith.langchain.com/runs/multipart', '{\"detail\":\"Invalid token\"}')trace=0f627cdb-1992-422e-895e-6d90414df4d9,id=25b5b462-1882-44a9-a663-65522dea785e; trace=0f627cdb-1992-422e-895e-6d90414df4d9,id=83215e2d-b084-43b7-8a5e-bac79bbfe3be; trace=0f627cdb-1992-422e-895e-6d90414df4d9,id=c2bf4a2b-ab41-42af-a69a-530a034ae0f0; trace=0f627cdb-1992-422e-895e-6d90414df4d9,id=dba0f4ca-b984-4c17-ac9f-3cca305f14db; trace=0f627cdb-1992-422e-895e-6d90414df4d9,id=dd5b4803-ee1b-4719-89b2-b2f24aa9937b\n"
          ]
        },
        {
          "output_type": "stream",
          "name": "stdout",
          "text": [
            "Using summary: The conversation began with Wania introducing herself.  She then stated that she enjoys painting.  We discussed her hobby briefly, and finally, she asked me to summarize our conversation, which I am now doing.\n",
            "\n"
          ]
        },
        {
          "output_type": "stream",
          "name": "stderr",
          "text": [
            "WARNING:langsmith.client:Failed to multipart ingest runs: langsmith.utils.LangSmithAuthError: Authentication failed for https://api.smith.langchain.com/runs/multipart. HTTPError('401 Client Error: Unauthorized for url: https://api.smith.langchain.com/runs/multipart', '{\"detail\":\"Invalid token\"}')trace=0f627cdb-1992-422e-895e-6d90414df4d9,id=ac8177d2-69e1-4d24-92ee-bfd6e2bb171e; trace=0f627cdb-1992-422e-895e-6d90414df4d9,id=fc6ec271-29bc-47c2-9765-eb672b290fb3; trace=0f627cdb-1992-422e-895e-6d90414df4d9,id=dba0f4ca-b984-4c17-ac9f-3cca305f14db; trace=0f627cdb-1992-422e-895e-6d90414df4d9,id=dd5b4803-ee1b-4719-89b2-b2f24aa9937b\n"
          ]
        },
        {
          "output_type": "stream",
          "name": "stdout",
          "text": [
            "Message count: 6\n",
            "==================================\u001b[1m Ai Message \u001b[0m==================================\n",
            "\n",
            "That's wonderful! What kind of pictures do you enjoy painting?  Do you have a favorite medium (like oils, watercolors, acrylics)?\n"
          ]
        },
        {
          "output_type": "stream",
          "name": "stderr",
          "text": [
            "WARNING:langsmith.client:Failed to multipart ingest runs: langsmith.utils.LangSmithAuthError: Authentication failed for https://api.smith.langchain.com/runs/multipart. HTTPError('401 Client Error: Unauthorized for url: https://api.smith.langchain.com/runs/multipart', '{\"detail\":\"Invalid token\"}')trace=0f627cdb-1992-422e-895e-6d90414df4d9,id=0f627cdb-1992-422e-895e-6d90414df4d9\n"
          ]
        },
        {
          "output_type": "execute_result",
          "data": {
            "text/plain": [
              "StateSnapshot(values={'messages': [HumanMessage(content=\"hi! I'm Wania\", additional_kwargs={}, response_metadata={}, id='8f12d944-d396-452f-b5e5-facd70a69850'), AIMessage(content=\"Hi Wania!  It's nice to talk to you again.  How's your painting going?\\n\", additional_kwargs={}, response_metadata={'prompt_feedback': {'block_reason': 0, 'safety_ratings': []}, 'finish_reason': 'STOP', 'safety_ratings': []}, id='run-dd5e0bca-b09f-47a8-bea6-d6db87a01377-0', usage_metadata={'input_tokens': 106, 'output_tokens': 24, 'total_tokens': 130, 'input_token_details': {'cache_read': 0}}), HumanMessage(content=\"hi! I'm hafiz naveed uddin\", additional_kwargs={}, response_metadata={}, id='414753fd-174c-4d6c-aefe-4d3ff9b954b5'), AIMessage(content=\"Hi Hafiz Naveed Uddin!  It's nice to meet you. How can I help you today?\\n\", additional_kwargs={}, response_metadata={'prompt_feedback': {'block_reason': 0, 'safety_ratings': []}, 'finish_reason': 'STOP', 'safety_ratings': []}, id='run-f58b14cd-5bb3-4d50-a3a4-e33402b4183a-0', usage_metadata={'input_tokens': 93, 'output_tokens': 25, 'total_tokens': 118, 'input_token_details': {'cache_read': 0}}), HumanMessage(content='I like painting pictures.', additional_kwargs={}, response_metadata={}, id='bf37f61a-7e41-4dd4-9b47-0c5f20d60837'), AIMessage(content=\"That's wonderful! What kind of pictures do you enjoy painting?  Do you have a favorite medium (like oils, watercolors, acrylics)?\\n\", additional_kwargs={}, response_metadata={'prompt_feedback': {'block_reason': 0, 'safety_ratings': []}, 'finish_reason': 'STOP', 'safety_ratings': []}, id='run-dd5b4803-ee1b-4719-89b2-b2f24aa9937b-0', usage_metadata={'input_tokens': 125, 'output_tokens': 32, 'total_tokens': 157, 'input_token_details': {'cache_read': 0}})], 'summary': 'The conversation began with Wania introducing herself.  She then stated that she enjoys painting.  We discussed her hobby briefly, and finally, she asked me to summarize our conversation, which I am now doing.\\n'}, next=(), config={'configurable': {'thread_id': '1', 'checkpoint_ns': '', 'checkpoint_id': '1efc8f20-265c-6e11-8011-30d9e76f1d43'}}, metadata={'step': 17, 'source': 'loop', 'writes': {'conversation': {'messages': AIMessage(content=\"That's wonderful! What kind of pictures do you enjoy painting?  Do you have a favorite medium (like oils, watercolors, acrylics)?\\n\", additional_kwargs={}, response_metadata={'finish_reason': 'STOP', 'safety_ratings': [], 'prompt_feedback': {'block_reason': 0, 'safety_ratings': []}}, id='run-dd5b4803-ee1b-4719-89b2-b2f24aa9937b-0', usage_metadata={'input_tokens': 125, 'output_tokens': 32, 'total_tokens': 157, 'input_token_details': {'cache_read': 0}})}}, 'parents': {}, 'thread_id': '1'}, created_at='2025-01-02T10:12:01.964161+00:00', parent_config={'configurable': {'thread_id': '1', 'checkpoint_ns': '', 'checkpoint_id': '1efc8f20-21c6-6911-8010-f4a50e9172ed'}}, tasks=())"
            ]
          },
          "metadata": {},
          "execution_count": 37
        }
      ]
    },
    {
      "cell_type": "code",
      "source": [
        "# Configuration for thread\n",
        "config = {\"configurable\": {\"thread_id\": \"1\"}}\n",
        "\n",
        "# Start a conversation\n",
        "input_message = HumanMessage(content=\"What's my name and what is my hobby?\")\n",
        "output = graph.invoke({\"messages\": [input_message]}, config)\n",
        "for m in output['messages'][-1:]:\n",
        "    m.pretty_print()\n",
        "\n",
        "# Check the persisted state\n",
        "graph_state = graph.get_state(config)\n",
        "graph_state"
      ],
      "metadata": {
        "colab": {
          "base_uri": "https://localhost:8080/"
        },
        "id": "HxLLjBiBfZAL",
        "outputId": "1e7c1c08-9fc9-42f7-fd14-afaa35a03560"
      },
      "execution_count": null,
      "outputs": [
        {
          "output_type": "stream",
          "name": "stdout",
          "text": [
            "Using summary: The conversation began with Wania introducing herself.  She then stated that she enjoys painting.  We discussed her hobby briefly, and finally, she asked me to summarize our conversation, which I am now doing.\n",
            "\n"
          ]
        },
        {
          "output_type": "stream",
          "name": "stderr",
          "text": [
            "WARNING:langsmith.client:Failed to multipart ingest runs: langsmith.utils.LangSmithAuthError: Authentication failed for https://api.smith.langchain.com/runs/multipart. HTTPError('401 Client Error: Unauthorized for url: https://api.smith.langchain.com/runs/multipart', '{\"detail\":\"Invalid token\"}')trace=d7daf391-b9ce-4376-8bd8-b040931c3eb9,id=d7daf391-b9ce-4376-8bd8-b040931c3eb9\n",
            "WARNING:langsmith.client:Failed to multipart ingest runs: langsmith.utils.LangSmithAuthError: Authentication failed for https://api.smith.langchain.com/runs/multipart. HTTPError('401 Client Error: Unauthorized for url: https://api.smith.langchain.com/runs/multipart', '{\"detail\":\"Invalid token\"}')trace=d7daf391-b9ce-4376-8bd8-b040931c3eb9,id=24233c25-ccde-4fd5-b984-927811bbb046; trace=d7daf391-b9ce-4376-8bd8-b040931c3eb9,id=7de264e5-27d6-4f85-8740-96a2aa189bd2; trace=d7daf391-b9ce-4376-8bd8-b040931c3eb9,id=e5803956-0793-4a72-890b-2633002168db; trace=d7daf391-b9ce-4376-8bd8-b040931c3eb9,id=b5974fab-cfff-4fd9-8c1a-d2fb6dd9cf52; trace=d7daf391-b9ce-4376-8bd8-b040931c3eb9,id=5fc041b8-b24a-4529-8568-f06aa0b6967b\n"
          ]
        },
        {
          "output_type": "stream",
          "name": "stdout",
          "text": [
            "Message count: 8\n",
            "Messages before summarizing: 8\n",
            "Existing summary: The conversation began with Wania introducing herself.  She then stated that she enjoys painting.  We discussed her hobby briefly, and finally, she asked me to summarize our conversation, which I am now doing.\n",
            "\n"
          ]
        },
        {
          "output_type": "stream",
          "name": "stderr",
          "text": [
            "WARNING:langsmith.client:Failed to multipart ingest runs: langsmith.utils.LangSmithAuthError: Authentication failed for https://api.smith.langchain.com/runs/multipart. HTTPError('401 Client Error: Unauthorized for url: https://api.smith.langchain.com/runs/multipart', '{\"detail\":\"Invalid token\"}')trace=d7daf391-b9ce-4376-8bd8-b040931c3eb9,id=68a672c7-010a-4479-b8bf-e10d224eaf8a; trace=d7daf391-b9ce-4376-8bd8-b040931c3eb9,id=4a33df5c-0e69-41f1-acc8-37d36c0c5fb2; trace=d7daf391-b9ce-4376-8bd8-b040931c3eb9,id=c9d12f3a-1034-404a-b325-4fb7c422c59d; trace=d7daf391-b9ce-4376-8bd8-b040931c3eb9,id=4c025731-85f5-4533-9994-affd2cc824ea; trace=d7daf391-b9ce-4376-8bd8-b040931c3eb9,id=b5974fab-cfff-4fd9-8c1a-d2fb6dd9cf52; trace=d7daf391-b9ce-4376-8bd8-b040931c3eb9,id=5fc041b8-b24a-4529-8568-f06aa0b6967b\n"
          ]
        },
        {
          "output_type": "stream",
          "name": "stdout",
          "text": [
            "New summary: The conversation began with Wania introducing herself and stating her enjoyment of painting.  This was followed by Hafiz Naveed Uddin introducing himself and also declaring his fondness for painting pictures.  A brief discussion about painting ensued, culminating in Hafiz Naveed Uddin asking for a summary of the conversation up to that point.  This summary then incorporates the additional messages, demonstrating the chatbot's ability to maintain context and respond appropriately to requests for information.\n",
            "\n",
            "Messages after truncation: 6\n",
            "==================================\u001b[1m Ai Message \u001b[0m==================================\n",
            "\n",
            "Your name is Hafiz Naveed Uddin, and your hobby is painting pictures.\n"
          ]
        },
        {
          "output_type": "execute_result",
          "data": {
            "text/plain": [
              "StateSnapshot(values={'messages': [HumanMessage(content=\"What's my name and what is my hobby?\", additional_kwargs={}, response_metadata={}, id='342921f1-283e-4371-80fa-8ad30e37d3a4'), AIMessage(content='Your name is Hafiz Naveed Uddin, and your hobby is painting pictures.\\n', additional_kwargs={}, response_metadata={'prompt_feedback': {'block_reason': 0, 'safety_ratings': []}, 'finish_reason': 'STOP', 'safety_ratings': []}, id='run-5fc041b8-b24a-4529-8568-f06aa0b6967b-0', usage_metadata={'input_tokens': 170, 'output_tokens': 18, 'total_tokens': 188, 'input_token_details': {'cache_read': 0}})], 'summary': \"The conversation began with Wania introducing herself and stating her enjoyment of painting.  This was followed by Hafiz Naveed Uddin introducing himself and also declaring his fondness for painting pictures.  A brief discussion about painting ensued, culminating in Hafiz Naveed Uddin asking for a summary of the conversation up to that point.  This summary then incorporates the additional messages, demonstrating the chatbot's ability to maintain context and respond appropriately to requests for information.\\n\"}, next=(), config={'configurable': {'thread_id': '1', 'checkpoint_ns': '', 'checkpoint_id': '1efc8f20-467e-6eb3-8015-ed00bf31313b'}}, metadata={'step': 21, 'source': 'loop', 'writes': {'summarize_conversation': {'summary': \"The conversation began with Wania introducing herself and stating her enjoyment of painting.  This was followed by Hafiz Naveed Uddin introducing himself and also declaring his fondness for painting pictures.  A brief discussion about painting ensued, culminating in Hafiz Naveed Uddin asking for a summary of the conversation up to that point.  This summary then incorporates the additional messages, demonstrating the chatbot's ability to maintain context and respond appropriately to requests for information.\\n\", 'messages': [RemoveMessage(content='', additional_kwargs={}, response_metadata={}, id='8f12d944-d396-452f-b5e5-facd70a69850'), RemoveMessage(content='', additional_kwargs={}, response_metadata={}, id='run-dd5e0bca-b09f-47a8-bea6-d6db87a01377-0'), RemoveMessage(content='', additional_kwargs={}, response_metadata={}, id='414753fd-174c-4d6c-aefe-4d3ff9b954b5'), RemoveMessage(content='', additional_kwargs={}, response_metadata={}, id='run-f58b14cd-5bb3-4d50-a3a4-e33402b4183a-0'), RemoveMessage(content='', additional_kwargs={}, response_metadata={}, id='bf37f61a-7e41-4dd4-9b47-0c5f20d60837'), RemoveMessage(content='', additional_kwargs={}, response_metadata={}, id='run-dd5b4803-ee1b-4719-89b2-b2f24aa9937b-0')]}}, 'parents': {}, 'thread_id': '1'}, created_at='2025-01-02T10:12:05.333531+00:00', parent_config={'configurable': {'thread_id': '1', 'checkpoint_ns': '', 'checkpoint_id': '1efc8f20-3e47-689e-8014-537996c9df97'}}, tasks=())"
            ]
          },
          "metadata": {},
          "execution_count": 38
        },
        {
          "output_type": "stream",
          "name": "stderr",
          "text": [
            "WARNING:langsmith.client:Failed to multipart ingest runs: langsmith.utils.LangSmithAuthError: Authentication failed for https://api.smith.langchain.com/runs/multipart. HTTPError('401 Client Error: Unauthorized for url: https://api.smith.langchain.com/runs/multipart', '{\"detail\":\"Invalid token\"}')trace=d7daf391-b9ce-4376-8bd8-b040931c3eb9,id=482dd4e7-919c-4920-ba65-84c68259ed97; trace=d7daf391-b9ce-4376-8bd8-b040931c3eb9,id=4c025731-85f5-4533-9994-affd2cc824ea; trace=d7daf391-b9ce-4376-8bd8-b040931c3eb9,id=c9d12f3a-1034-404a-b325-4fb7c422c59d\n",
            "WARNING:langsmith.client:Failed to multipart ingest runs: langsmith.utils.LangSmithAuthError: Authentication failed for https://api.smith.langchain.com/runs/multipart. HTTPError('401 Client Error: Unauthorized for url: https://api.smith.langchain.com/runs/multipart', '{\"detail\":\"Invalid token\"}')trace=d7daf391-b9ce-4376-8bd8-b040931c3eb9,id=d7daf391-b9ce-4376-8bd8-b040931c3eb9\n"
          ]
        }
      ]
    },
    {
      "cell_type": "code",
      "source": [
        "# Configuration for thread\n",
        "config = {\"configurable\": {\"thread_id\": \"1\"}}\n",
        "\n",
        "# Start a conversation\n",
        "input_message = HumanMessage(content=\"Can you describe about abstract paintings?\")\n",
        "output = graph.invoke({\"messages\": [input_message]}, config)\n",
        "for m in output['messages'][-1:]:\n",
        "    m.pretty_print()\n",
        "\n",
        "# Check the persisted state\n",
        "graph_state = graph.get_state(config)\n",
        "graph_state"
      ],
      "metadata": {
        "colab": {
          "base_uri": "https://localhost:8080/"
        },
        "id": "iygDZ-_xhsQW",
        "outputId": "19298000-4a62-4df7-c68b-86186e1e3dae"
      },
      "execution_count": null,
      "outputs": [
        {
          "output_type": "stream",
          "name": "stderr",
          "text": [
            "WARNING:langsmith.client:Failed to multipart ingest runs: langsmith.utils.LangSmithAuthError: Authentication failed for https://api.smith.langchain.com/runs/multipart. HTTPError('401 Client Error: Unauthorized for url: https://api.smith.langchain.com/runs/multipart', '{\"detail\":\"Invalid token\"}')trace=2fea5947-5849-414f-8b08-45556287bd17,id=2fea5947-5849-414f-8b08-45556287bd17\n",
            "WARNING:langsmith.client:Failed to multipart ingest runs: langsmith.utils.LangSmithAuthError: Authentication failed for https://api.smith.langchain.com/runs/multipart. HTTPError('401 Client Error: Unauthorized for url: https://api.smith.langchain.com/runs/multipart', '{\"detail\":\"Invalid token\"}')trace=2fea5947-5849-414f-8b08-45556287bd17,id=c3702d62-5084-473a-abba-2ca31857b7ff; trace=2fea5947-5849-414f-8b08-45556287bd17,id=2ef9b5a8-f420-48b5-b4f8-bafc61df007e; trace=2fea5947-5849-414f-8b08-45556287bd17,id=2d28dd99-9323-48ee-ad91-01a4bc1f62e0; trace=2fea5947-5849-414f-8b08-45556287bd17,id=2c860b13-1274-4f6b-8cb3-e28516f68a8a; trace=2fea5947-5849-414f-8b08-45556287bd17,id=cfe30a69-b310-4309-ae40-fc69851e0e74\n"
          ]
        },
        {
          "output_type": "stream",
          "name": "stdout",
          "text": [
            "Using summary: The conversation began with Wania introducing herself and stating her enjoyment of painting.  This was followed by Hafiz Naveed Uddin introducing himself and also declaring his fondness for painting pictures.  A brief discussion about painting ensued, culminating in Hafiz Naveed Uddin asking for a summary of the conversation up to that point.  This summary then incorporates the additional messages, demonstrating the chatbot's ability to maintain context and respond appropriately to requests for information.\n",
            "\n"
          ]
        },
        {
          "output_type": "stream",
          "name": "stderr",
          "text": [
            "WARNING:langsmith.client:Failed to multipart ingest runs: langsmith.utils.LangSmithAuthError: Authentication failed for https://api.smith.langchain.com/runs/multipart. HTTPError('401 Client Error: Unauthorized for url: https://api.smith.langchain.com/runs/multipart', '{\"detail\":\"Invalid token\"}')trace=2fea5947-5849-414f-8b08-45556287bd17,id=a852bfe9-3f9a-4d4d-93a4-daad72b79de1; trace=2fea5947-5849-414f-8b08-45556287bd17,id=35c31e0e-8a04-40dd-af07-10d61e08e29a; trace=2fea5947-5849-414f-8b08-45556287bd17,id=2c860b13-1274-4f6b-8cb3-e28516f68a8a; trace=2fea5947-5849-414f-8b08-45556287bd17,id=cfe30a69-b310-4309-ae40-fc69851e0e74\n"
          ]
        },
        {
          "output_type": "stream",
          "name": "stdout",
          "text": [
            "Message count: 4\n",
            "==================================\u001b[1m Ai Message \u001b[0m==================================\n",
            "\n",
            "Abstract paintings are works of art that don't depict recognizable objects or scenes from the real world. Instead, they focus on expressing ideas and emotions through shapes, colors, forms, and textures.  There's no single definition, as the style encompasses a wide range of approaches.\n",
            "\n",
            "Here are some key characteristics of abstract paintings:\n",
            "\n",
            "* **Non-representational:**  They don't aim to represent something specific from reality.  Instead, they use visual elements to create a feeling or atmosphere.\n",
            "* **Emphasis on form and color:**  The arrangement of shapes, lines, and colors is paramount.  The interplay between these elements is what conveys meaning.\n",
            "* **Emotional expression:**  Many abstract artists use their work to express emotions or ideas that are difficult to articulate through words.\n",
            "* **Experimentation:**  Abstract art often involves experimentation with different techniques and materials, pushing boundaries and exploring new ways of visual communication.\n",
            "* **Subjectivity:**  The meaning of an abstract painting is often open to interpretation.  What one viewer sees might be different from what another viewer sees.\n",
            "\n",
            "Different types of abstract art exist, including:\n",
            "\n",
            "* **Geometric abstraction:**  Uses geometric shapes and forms in a structured and often precise way.\n",
            "* **Lyrical abstraction:**  Emphasizes fluidity, spontaneity, and emotional expression, often with softer lines and less structured compositions.\n",
            "* **Color field painting:**  Focuses on the interplay of large areas of flat color.\n",
            "* **Action painting:**  Emphasizes the physical process of painting, often involving gestural brushstrokes and movement.\n",
            "\n",
            "\n",
            "Abstract art can be challenging to understand at first, but its beauty lies in its ability to evoke emotions and stimulate thought without relying on literal representation.  It invites the viewer to engage actively with the artwork and create their own meaning.\n"
          ]
        },
        {
          "output_type": "execute_result",
          "data": {
            "text/plain": [
              "StateSnapshot(values={'messages': [HumanMessage(content=\"What's my name and what is my hobby?\", additional_kwargs={}, response_metadata={}, id='342921f1-283e-4371-80fa-8ad30e37d3a4'), AIMessage(content='Your name is Hafiz Naveed Uddin, and your hobby is painting pictures.\\n', additional_kwargs={}, response_metadata={'prompt_feedback': {'block_reason': 0, 'safety_ratings': []}, 'finish_reason': 'STOP', 'safety_ratings': []}, id='run-5fc041b8-b24a-4529-8568-f06aa0b6967b-0', usage_metadata={'input_tokens': 170, 'output_tokens': 18, 'total_tokens': 188, 'input_token_details': {'cache_read': 0}}), HumanMessage(content='Can you describe about abstract paintings?', additional_kwargs={}, response_metadata={}, id='9761af59-dadc-4cc1-9318-9fd25be6d043'), AIMessage(content=\"Abstract paintings are works of art that don't depict recognizable objects or scenes from the real world. Instead, they focus on expressing ideas and emotions through shapes, colors, forms, and textures.  There's no single definition, as the style encompasses a wide range of approaches.\\n\\nHere are some key characteristics of abstract paintings:\\n\\n* **Non-representational:**  They don't aim to represent something specific from reality.  Instead, they use visual elements to create a feeling or atmosphere.\\n* **Emphasis on form and color:**  The arrangement of shapes, lines, and colors is paramount.  The interplay between these elements is what conveys meaning.\\n* **Emotional expression:**  Many abstract artists use their work to express emotions or ideas that are difficult to articulate through words.\\n* **Experimentation:**  Abstract art often involves experimentation with different techniques and materials, pushing boundaries and exploring new ways of visual communication.\\n* **Subjectivity:**  The meaning of an abstract painting is often open to interpretation.  What one viewer sees might be different from what another viewer sees.\\n\\nDifferent types of abstract art exist, including:\\n\\n* **Geometric abstraction:**  Uses geometric shapes and forms in a structured and often precise way.\\n* **Lyrical abstraction:**  Emphasizes fluidity, spontaneity, and emotional expression, often with softer lines and less structured compositions.\\n* **Color field painting:**  Focuses on the interplay of large areas of flat color.\\n* **Action painting:**  Emphasizes the physical process of painting, often involving gestural brushstrokes and movement.\\n\\n\\nAbstract art can be challenging to understand at first, but its beauty lies in its ability to evoke emotions and stimulate thought without relying on literal representation.  It invites the viewer to engage actively with the artwork and create their own meaning.\\n\", additional_kwargs={}, response_metadata={'prompt_feedback': {'block_reason': 0, 'safety_ratings': []}, 'finish_reason': 'STOP', 'safety_ratings': []}, id='run-cfe30a69-b310-4309-ae40-fc69851e0e74-0', usage_metadata={'input_tokens': 136, 'output_tokens': 374, 'total_tokens': 510, 'input_token_details': {'cache_read': 0}})], 'summary': \"The conversation began with Wania introducing herself and stating her enjoyment of painting.  This was followed by Hafiz Naveed Uddin introducing himself and also declaring his fondness for painting pictures.  A brief discussion about painting ensued, culminating in Hafiz Naveed Uddin asking for a summary of the conversation up to that point.  This summary then incorporates the additional messages, demonstrating the chatbot's ability to maintain context and respond appropriately to requests for information.\\n\"}, next=(), config={'configurable': {'thread_id': '1', 'checkpoint_ns': '', 'checkpoint_id': '1efc8f20-6e95-6365-8018-dfd66e2a98fc'}}, metadata={'step': 24, 'source': 'loop', 'writes': {'conversation': {'messages': AIMessage(content=\"Abstract paintings are works of art that don't depict recognizable objects or scenes from the real world. Instead, they focus on expressing ideas and emotions through shapes, colors, forms, and textures.  There's no single definition, as the style encompasses a wide range of approaches.\\n\\nHere are some key characteristics of abstract paintings:\\n\\n* **Non-representational:**  They don't aim to represent something specific from reality.  Instead, they use visual elements to create a feeling or atmosphere.\\n* **Emphasis on form and color:**  The arrangement of shapes, lines, and colors is paramount.  The interplay between these elements is what conveys meaning.\\n* **Emotional expression:**  Many abstract artists use their work to express emotions or ideas that are difficult to articulate through words.\\n* **Experimentation:**  Abstract art often involves experimentation with different techniques and materials, pushing boundaries and exploring new ways of visual communication.\\n* **Subjectivity:**  The meaning of an abstract painting is often open to interpretation.  What one viewer sees might be different from what another viewer sees.\\n\\nDifferent types of abstract art exist, including:\\n\\n* **Geometric abstraction:**  Uses geometric shapes and forms in a structured and often precise way.\\n* **Lyrical abstraction:**  Emphasizes fluidity, spontaneity, and emotional expression, often with softer lines and less structured compositions.\\n* **Color field painting:**  Focuses on the interplay of large areas of flat color.\\n* **Action painting:**  Emphasizes the physical process of painting, often involving gestural brushstrokes and movement.\\n\\n\\nAbstract art can be challenging to understand at first, but its beauty lies in its ability to evoke emotions and stimulate thought without relying on literal representation.  It invites the viewer to engage actively with the artwork and create their own meaning.\\n\", additional_kwargs={}, response_metadata={'finish_reason': 'STOP', 'safety_ratings': [], 'prompt_feedback': {'block_reason': 0, 'safety_ratings': []}}, id='run-cfe30a69-b310-4309-ae40-fc69851e0e74-0', usage_metadata={'input_tokens': 136, 'output_tokens': 374, 'total_tokens': 510, 'input_token_details': {'cache_read': 0}})}}, 'parents': {}, 'thread_id': '1'}, created_at='2025-01-02T10:12:09.536983+00:00', parent_config={'configurable': {'thread_id': '1', 'checkpoint_ns': '', 'checkpoint_id': '1efc8f20-543a-69b5-8017-45b0dc4ac03f'}}, tasks=())"
            ]
          },
          "metadata": {},
          "execution_count": 39
        }
      ]
    },
    {
      "cell_type": "markdown",
      "source": [],
      "metadata": {
        "id": "gFqFzWDrWnt5"
      }
    },
    {
      "cell_type": "code",
      "source": [
        "# Retrieve state using thread ID\n",
        "config = {\"configurable\": {\"thread_id\": \"1\"}}\n",
        "graph_state = graph.get_state(config)\n",
        "graph_state"
      ],
      "metadata": {
        "colab": {
          "base_uri": "https://localhost:8080/"
        },
        "id": "Cmwlf-TFYQqH",
        "outputId": "2c1dd330-a60d-4f83-94ea-30a8887acd0f"
      },
      "execution_count": null,
      "outputs": [
        {
          "output_type": "execute_result",
          "data": {
            "text/plain": [
              "StateSnapshot(values={'messages': [HumanMessage(content=\"What's my name and what is my hobby?\", additional_kwargs={}, response_metadata={}, id='342921f1-283e-4371-80fa-8ad30e37d3a4'), AIMessage(content='Your name is Hafiz Naveed Uddin, and your hobby is painting pictures.\\n', additional_kwargs={}, response_metadata={'prompt_feedback': {'block_reason': 0, 'safety_ratings': []}, 'finish_reason': 'STOP', 'safety_ratings': []}, id='run-5fc041b8-b24a-4529-8568-f06aa0b6967b-0', usage_metadata={'input_tokens': 170, 'output_tokens': 18, 'total_tokens': 188, 'input_token_details': {'cache_read': 0}}), HumanMessage(content='Can you describe about abstract paintings?', additional_kwargs={}, response_metadata={}, id='9761af59-dadc-4cc1-9318-9fd25be6d043'), AIMessage(content=\"Abstract paintings are works of art that don't depict recognizable objects or scenes from the real world. Instead, they focus on expressing ideas and emotions through shapes, colors, forms, and textures.  There's no single definition, as the style encompasses a wide range of approaches.\\n\\nHere are some key characteristics of abstract paintings:\\n\\n* **Non-representational:**  They don't aim to represent something specific from reality.  Instead, they use visual elements to create a feeling or atmosphere.\\n* **Emphasis on form and color:**  The arrangement of shapes, lines, and colors is paramount.  The interplay between these elements is what conveys meaning.\\n* **Emotional expression:**  Many abstract artists use their work to express emotions or ideas that are difficult to articulate through words.\\n* **Experimentation:**  Abstract art often involves experimentation with different techniques and materials, pushing boundaries and exploring new ways of visual communication.\\n* **Subjectivity:**  The meaning of an abstract painting is often open to interpretation.  What one viewer sees might be different from what another viewer sees.\\n\\nDifferent types of abstract art exist, including:\\n\\n* **Geometric abstraction:**  Uses geometric shapes and forms in a structured and often precise way.\\n* **Lyrical abstraction:**  Emphasizes fluidity, spontaneity, and emotional expression, often with softer lines and less structured compositions.\\n* **Color field painting:**  Focuses on the interplay of large areas of flat color.\\n* **Action painting:**  Emphasizes the physical process of painting, often involving gestural brushstrokes and movement.\\n\\n\\nAbstract art can be challenging to understand at first, but its beauty lies in its ability to evoke emotions and stimulate thought without relying on literal representation.  It invites the viewer to engage actively with the artwork and create their own meaning.\\n\", additional_kwargs={}, response_metadata={'prompt_feedback': {'block_reason': 0, 'safety_ratings': []}, 'finish_reason': 'STOP', 'safety_ratings': []}, id='run-cfe30a69-b310-4309-ae40-fc69851e0e74-0', usage_metadata={'input_tokens': 136, 'output_tokens': 374, 'total_tokens': 510, 'input_token_details': {'cache_read': 0}})], 'summary': \"The conversation began with Wania introducing herself and stating her enjoyment of painting.  This was followed by Hafiz Naveed Uddin introducing himself and also declaring his fondness for painting pictures.  A brief discussion about painting ensued, culminating in Hafiz Naveed Uddin asking for a summary of the conversation up to that point.  This summary then incorporates the additional messages, demonstrating the chatbot's ability to maintain context and respond appropriately to requests for information.\\n\"}, next=(), config={'configurable': {'thread_id': '1', 'checkpoint_ns': '', 'checkpoint_id': '1efc8f20-6e95-6365-8018-dfd66e2a98fc'}}, metadata={'step': 24, 'source': 'loop', 'writes': {'conversation': {'messages': AIMessage(content=\"Abstract paintings are works of art that don't depict recognizable objects or scenes from the real world. Instead, they focus on expressing ideas and emotions through shapes, colors, forms, and textures.  There's no single definition, as the style encompasses a wide range of approaches.\\n\\nHere are some key characteristics of abstract paintings:\\n\\n* **Non-representational:**  They don't aim to represent something specific from reality.  Instead, they use visual elements to create a feeling or atmosphere.\\n* **Emphasis on form and color:**  The arrangement of shapes, lines, and colors is paramount.  The interplay between these elements is what conveys meaning.\\n* **Emotional expression:**  Many abstract artists use their work to express emotions or ideas that are difficult to articulate through words.\\n* **Experimentation:**  Abstract art often involves experimentation with different techniques and materials, pushing boundaries and exploring new ways of visual communication.\\n* **Subjectivity:**  The meaning of an abstract painting is often open to interpretation.  What one viewer sees might be different from what another viewer sees.\\n\\nDifferent types of abstract art exist, including:\\n\\n* **Geometric abstraction:**  Uses geometric shapes and forms in a structured and often precise way.\\n* **Lyrical abstraction:**  Emphasizes fluidity, spontaneity, and emotional expression, often with softer lines and less structured compositions.\\n* **Color field painting:**  Focuses on the interplay of large areas of flat color.\\n* **Action painting:**  Emphasizes the physical process of painting, often involving gestural brushstrokes and movement.\\n\\n\\nAbstract art can be challenging to understand at first, but its beauty lies in its ability to evoke emotions and stimulate thought without relying on literal representation.  It invites the viewer to engage actively with the artwork and create their own meaning.\\n\", additional_kwargs={}, response_metadata={'finish_reason': 'STOP', 'safety_ratings': [], 'prompt_feedback': {'block_reason': 0, 'safety_ratings': []}}, id='run-cfe30a69-b310-4309-ae40-fc69851e0e74-0', usage_metadata={'input_tokens': 136, 'output_tokens': 374, 'total_tokens': 510, 'input_token_details': {'cache_read': 0}})}}, 'parents': {}, 'thread_id': '1'}, created_at='2025-01-02T10:12:09.536983+00:00', parent_config={'configurable': {'thread_id': '1', 'checkpoint_ns': '', 'checkpoint_id': '1efc8f20-543a-69b5-8017-45b0dc4ac03f'}}, tasks=())"
            ]
          },
          "metadata": {},
          "execution_count": 40
        },
        {
          "output_type": "stream",
          "name": "stderr",
          "text": [
            "WARNING:langsmith.client:Failed to multipart ingest runs: langsmith.utils.LangSmithAuthError: Authentication failed for https://api.smith.langchain.com/runs/multipart. HTTPError('401 Client Error: Unauthorized for url: https://api.smith.langchain.com/runs/multipart', '{\"detail\":\"Invalid token\"}')trace=2fea5947-5849-414f-8b08-45556287bd17,id=2fea5947-5849-414f-8b08-45556287bd17\n"
          ]
        }
      ]
    },
    {
      "cell_type": "code",
      "source": [
        "pool.close()\n",
        "\n"
      ],
      "metadata": {
        "id": "X8wz7bCgc2X7"
      },
      "execution_count": null,
      "outputs": []
    },
    {
      "cell_type": "markdown",
      "source": [
        "### Persisting state\n",
        "\n",
        "Using database like Postgres means state is persisted!\n",
        "\n",
        "For example, we can re-start the notebook kernel and see that we can still load from Postgres DB on disk.\n"
      ],
      "metadata": {
        "id": "Io-K7MCWinYF"
      }
    }
  ]
}