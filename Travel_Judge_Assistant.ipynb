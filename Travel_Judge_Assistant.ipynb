{
  "nbformat": 4,
  "nbformat_minor": 0,
  "metadata": {
    "colab": {
      "provenance": [],
      "authorship_tag": "ABX9TyMmbh1Ca234zCNGgmXERXlP",
      "include_colab_link": true
    },
    "kernelspec": {
      "name": "python3",
      "display_name": "Python 3"
    },
    "language_info": {
      "name": "python"
    }
  },
  "cells": [
    {
      "cell_type": "markdown",
      "metadata": {
        "id": "view-in-github",
        "colab_type": "text"
      },
      "source": [
        "<a href=\"https://colab.research.google.com/github/NAVEED261/MY-AI-ASSISTANT/blob/main/Travel_Judge_Assistant.ipynb\" target=\"_parent\"><img src=\"https://colab.research.google.com/assets/colab-badge.svg\" alt=\"Open In Colab\"/></a>"
      ]
    },
    {
      "cell_type": "code",
      "execution_count": 1,
      "metadata": {
        "id": "nJBnFfqD58t6"
      },
      "outputs": [],
      "source": [
        "%%capture --no-stderr\n",
        "!pip install --upgrade langchain langchain_google_genai langgraph tavily-python langchain_community langchain_core\n",
        "\n"
      ]
    },
    {
      "cell_type": "code",
      "source": [
        "import os\n",
        "from google.colab import userdata\n",
        "Gemnai_api_key = userdata.get('GOOGLE_API_KEY')\n",
        "tavily_api_key = userdata.get(\"Tavily_Api_Key\")\n",
        "os.environ[\"Tavily_Api_Key\"] = \"Tavily_Api_Key\"\n",
        "\n",
        "from langchain_google_genai import ChatGoogleGenerativeAI\n",
        "llm: ChatGoogleGenerativeAI = ChatGoogleGenerativeAI (\n",
        "    model = \"gemini-pro\",  # Changed the model name to a valid model identifier\n",
        "    api_key = Gemnai_api_key\n",
        ")\n",
        "llm.invoke(\"i am hafiz naveed uddin from karachi\")"
      ],
      "metadata": {
        "id": "CF4IY5mJ6G6l",
        "outputId": "191174fd-56d6-45f9-afcd-50b92365501b",
        "colab": {
          "base_uri": "https://localhost:8080/"
        }
      },
      "execution_count": 2,
      "outputs": [
        {
          "output_type": "execute_result",
          "data": {
            "text/plain": [
              "AIMessage(content=\"Hello Hafiz Naveed Uddin from Karachi! It's nice to meet you. I hope you are having a wonderful day. If you have any questions or need any assistance, please don't hesitate to ask. I'm here to help.\", additional_kwargs={}, response_metadata={'prompt_feedback': {'block_reason': 0, 'safety_ratings': []}, 'finish_reason': 'STOP', 'safety_ratings': [{'category': 'HARM_CATEGORY_SEXUALLY_EXPLICIT', 'probability': 'NEGLIGIBLE', 'blocked': False}, {'category': 'HARM_CATEGORY_HATE_SPEECH', 'probability': 'NEGLIGIBLE', 'blocked': False}, {'category': 'HARM_CATEGORY_HARASSMENT', 'probability': 'NEGLIGIBLE', 'blocked': False}, {'category': 'HARM_CATEGORY_DANGEROUS_CONTENT', 'probability': 'NEGLIGIBLE', 'blocked': False}]}, id='run-9e29b57d-39f3-4094-9bd8-c117a4bfc877-0', usage_metadata={'input_tokens': 12, 'output_tokens': 52, 'total_tokens': 64, 'input_token_details': {'cache_read': 0}})"
            ]
          },
          "metadata": {},
          "execution_count": 2
        }
      ]
    },
    {
      "cell_type": "code",
      "source": [
        "LANGCHAIN_API_KEY = userdata.get('memory-enabled-agent')  # LangSmith API key\n",
        "\n",
        "# Configure environment variables for LangChain and LangSmith\n",
        "os.environ[\"LANGCHAIN_TRACING_V2\"] = \"true\"  # Enable LangSmith tracing\n",
        "os.environ[\"LANGCHAIN_PROJECT\"] = \"memory-enabled-agent\"  # Set LangSmith project name\n",
        "os.environ[\"LANGCHAIN_API_KEY\"] = LANGCHAIN_API_KEY  # Set LangSmith API key\n"
      ],
      "metadata": {
        "id": "cPKHCz016LDy"
      },
      "execution_count": 3,
      "outputs": []
    },
    {
      "cell_type": "code",
      "source": [
        "import os\n",
        "from google.colab import userdata\n",
        "\n",
        "# ... (other imports)\n",
        "\n",
        "# Get the Tavily API key\n",
        "tavily_api_key = userdata.get(\"Tavily_Api_Key\")\n",
        "\n",
        "# Set the environment variable with the actual API key value\n",
        "os.environ[\"TAVILY_API_KEY\"] = tavily_api_key  # Use correct environment variable name\n",
        "\n",
        "# ... (other code)\n",
        "\n",
        "from langchain_community.tools.tavily_search import TavilySearchResults\n",
        "\n",
        "# Initialize the tool with the API key\n",
        "# Using the environment variable, no need to pass it directly\n",
        "tool = TavilySearchResults(max_results=2)\n",
        "# Alternatively, pass directly: tool = TavilySearchResults(tavily_api_key=tavily_api_key, max_results=2)\n",
        "\n",
        "tools = [tool]\n",
        "tool.invoke(\"What's a 'node' in LangGraph?\")"
      ],
      "metadata": {
        "id": "5VWzsllOIAMU",
        "outputId": "52fa0c96-9378-4cb2-9e3b-c02ab6514c0e",
        "colab": {
          "base_uri": "https://localhost:8080/"
        }
      },
      "execution_count": 4,
      "outputs": [
        {
          "output_type": "execute_result",
          "data": {
            "text/plain": [
              "[{'url': 'https://medium.com/@cplog/introduction-to-langgraph-a-beginners-guide-14f9be027141',\n",
              "  'content': 'Nodes: Nodes are the building blocks of your LangGraph. Each node represents a function or a computation step. You define nodes to perform specific tasks, such as processing input, making'},\n",
              " {'url': 'https://www.datacamp.com/tutorial/langgraph-tutorial',\n",
              "  'content': \"In LangGraph, each node represents an LLM agent, and the edges are the communication channels between these agents. This structure allows for clear and manageable workflows, where each agent performs specific tasks and passes information to other agents as needed. State management. One of LangGraph's standout features is its automatic state\"}]"
            ]
          },
          "metadata": {},
          "execution_count": 4
        }
      ]
    },
    {
      "cell_type": "code",
      "source": [
        "# d   \"\"\"\n",
        "#     Calculates the compensation amount for travel delays.\n",
        "\n",
        "#     Args:\n",
        "#         delay_hours (float): The number of hours the travel was delayed.\n",
        "#         ticket_cost (float): The cost of the ticket in USD.\n",
        "#         inconvenience_level (str): The level of inconvenience caused ('low', 'medium', 'high').\n",
        "\n",
        "#     Returns:\n",
        "#         str: A string with the calculated compensation amount.\n",
        "#     \"\"\"\n",
        "#     base_compensation = 0.0\n",
        "\n",
        "#     # Calculate base compensation based on delay hours\n",
        "#     if delay_hours > 0 and delay_hours <= 2:ef calculate_compensation(delay_hours: float, ticket_cost: float, inconvenience_level: str) -> str:\n",
        "\n",
        "#         base_compensation = ticket_cost * 0.25\n",
        "#     elif delay_hours > 2 and delay_hours <= 5:\n",
        "#         base_compensation = ticket_cost * 0.5\n",
        "#     elif delay_hours > 5:\n",
        "#         base_compensation = ticket_cost * 0.75\n",
        "\n",
        "#     # Adjust compensation based on inconvenience level\n",
        "#     if inconvenience_level.lower() == \"high\":\n",
        "#         base_compensation += 100  # Additional for high inconvenience\n",
        "#     elif inconvenience_level.lower() == \"medium\":\n",
        "#         base_compensation += 50  # Additional for medium inconvenience\n",
        "\n",
        "#     # Ensure compensation is fair and within ticket cost\n",
        "#     if base_compensation > ticket_cost:\n",
        "#         base_compensation = ticket_cost\n",
        "\n",
        "#     return f\"The calculated compensation is ${base_compensation:.2f}.\"\n",
        "\n",
        "# def check_refund_eligibility(ticket_cost: float, cancellation_reason: str) -> str:\n",
        "#     \"\"\"\n",
        "#     Determines if a customer is eligible for a refund based on the cancellation reason.\n",
        "\n",
        "#     Args:\n",
        "#         ticket_cost (float): The cost of the ticket in USD.\n",
        "#         cancellation_reason (str): The reason for the cancellation (e.g., 'medical emergency', 'flight cancellation').\n",
        "\n",
        "#     Returns:\n",
        "#         str: A string indicating whether the customer is eligible for a refund.\n",
        "#     \"\"\"\n",
        "#     eligible_reasons = [\"medical emergency\", \"flight cancellation\", \"overbooking\"]\n",
        "#     if cancellation_reason.lower() in eligible_reasons:\n",
        "#         return f\"The customer is eligible for a full refund of ${ticket_cost:.2f}.\"\n",
        "#     else:\n",
        "#         return \"The customer is not eligible for a refund based on the given reason.\"\n",
        "\n",
        "# def legal_case_evaluation(case_details: str) -> str:\n",
        "#     \"\"\"\n",
        "#     Evaluates the legal strength of a travel-related case based on provided details.\n",
        "\n",
        "#     Args:\n",
        "#         case_details (str): A description of the case including relevant facts and issues.\n",
        "\n",
        "#     Returns:\n",
        "#         str: A string with a legal recommendation or analysis of the case's strength.\n",
        "#     \"\"\"\n",
        "#     if \"delay\" in case_details.lower() and \"no compensation\" in case_details.lower():\n",
        "#         return \"The case has a strong basis for legal escalation due to lack of compensation for delays.\"\n",
        "#     elif \"lost baggage\" in case_details.lower():\n",
        "#         return \"The case has moderate legal strength for compensation claims due to lost baggage.\"\n",
        "#     elif \"overbooking\" in case_details.lower():\n",
        "#         return \"The case is strong and should be pursued for compensation due to overbooking.\"\n",
        "#     else:\n",
        "#         return \"The case details are unclear. Recommend gathering more evidence.\"\n",
        "\n",
        "# def calculate_airline_penalty(delay_hours: float, passenger_count: int) -> str:\n",
        "#     \"\"\"\n",
        "#     Calculates the penalty that should be imposed on an airline for delays.\n",
        "\n",
        "#     Args:\n",
        "#         delay_hours (float): The total hours of delay caused by the airline.\n",
        "#         passenger_count (int): The total number of passengers affected.\n",
        "\n",
        "#     Returns:\n",
        "#         str: A string with the calculated penalty amount.\n",
        "#     \"\"\"\n",
        "#     penalty_per_hour = 50  # Base penalty per passenger per hour of delay\n",
        "#     total_penalty = delay_hours * passenger_count * penalty_per_hour\n",
        "\n",
        "#     return f\"The airline should be fined a total of ${total_penalty:.2f} for the delay.\"\n",
        "# tools = [calculate_compensation, check_refund_eligibility, legal_case_evaluation, calculate_airline_penalty]\n",
        "# llm_with_tools = llm.bind_tools(tools)"
      ],
      "metadata": {
        "colab": {
          "base_uri": "https://localhost:8080/"
        },
        "id": "Ort4dIgyw42t",
        "outputId": "4252261b-afef-490d-db42-068db47c18e5"
      },
      "execution_count": 7,
      "outputs": [
        {
          "output_type": "stream",
          "name": "stderr",
          "text": [
            "WARNING:langchain_google_genai._function_utils:Key 'title' is not supported in schema, ignoring\n",
            "WARNING:langchain_google_genai._function_utils:Key 'title' is not supported in schema, ignoring\n",
            "WARNING:langchain_google_genai._function_utils:Key 'title' is not supported in schema, ignoring\n",
            "WARNING:langchain_google_genai._function_utils:Key 'title' is not supported in schema, ignoring\n"
          ]
        }
      ]
    },
    {
      "cell_type": "code",
      "source": [
        "llm_with_tools = llm.bind_tools(tools)"
      ],
      "metadata": {
        "id": "15GCt2XxIgVe",
        "outputId": "b46a32ad-4fec-414b-9c42-46cd8ff66e1f",
        "colab": {
          "base_uri": "https://localhost:8080/"
        }
      },
      "execution_count": 8,
      "outputs": [
        {
          "output_type": "stream",
          "name": "stderr",
          "text": [
            "WARNING:langchain_google_genai._function_utils:Key 'title' is not supported in schema, ignoring\n",
            "WARNING:langchain_google_genai._function_utils:Key 'title' is not supported in schema, ignoring\n",
            "WARNING:langchain_google_genai._function_utils:Key 'title' is not supported in schema, ignoring\n",
            "WARNING:langchain_google_genai._function_utils:Key 'title' is not supported in schema, ignoring\n"
          ]
        }
      ]
    },
    {
      "cell_type": "code",
      "source": [
        "llm_with_tools"
      ],
      "metadata": {
        "colab": {
          "base_uri": "https://localhost:8080/"
        },
        "id": "A_gLG6IRx9Rj",
        "outputId": "ab9b572b-4b32-4b35-a2ed-55ae1030dcce"
      },
      "execution_count": 9,
      "outputs": [
        {
          "output_type": "execute_result",
          "data": {
            "text/plain": [
              "RunnableBinding(bound=ChatGoogleGenerativeAI(model='models/gemini-pro', google_api_key=SecretStr('**********'), client=<google.ai.generativelanguage_v1beta.services.generative_service.client.GenerativeServiceClient object at 0x7c25a5aad330>, default_metadata=()), kwargs={'tools': [{'function_declarations': [{'name': 'calculate_compensation', 'description': \"Calculates the compensation amount for travel delays.\\n\\nArgs:\\n    delay_hours (float): The number of hours the travel was delayed.\\n    ticket_cost (float): The cost of the ticket in USD.\\n    inconvenience_level (str): The level of inconvenience caused ('low', 'medium', 'high').\\n\\nReturns:\\n    str: A string with the calculated compensation amount.\", 'parameters': {'type_': 6, 'description': \"Calculates the compensation amount for travel delays.\\n\\nArgs:\\n    delay_hours (float): The number of hours the travel was delayed.\\n    ticket_cost (float): The cost of the ticket in USD.\\n    inconvenience_level (str): The level of inconvenience caused ('low', 'medium', 'high').\\n\\nReturns:\\n    str: A string with the calculated compensation amount.\", 'properties': {'inconvenience_level': {'type_': 1, 'format_': '', 'description': '', 'nullable': False, 'enum': [], 'max_items': '0', 'min_items': '0', 'properties': {}, 'required': []}, 'ticket_cost': {'type_': 2, 'format_': '', 'description': '', 'nullable': False, 'enum': [], 'max_items': '0', 'min_items': '0', 'properties': {}, 'required': []}, 'delay_hours': {'type_': 2, 'format_': '', 'description': '', 'nullable': False, 'enum': [], 'max_items': '0', 'min_items': '0', 'properties': {}, 'required': []}}, 'required': ['delay_hours', 'ticket_cost', 'inconvenience_level'], 'format_': '', 'nullable': False, 'enum': [], 'max_items': '0', 'min_items': '0'}}, {'name': 'check_refund_eligibility', 'description': \"Determines if a customer is eligible for a refund based on the cancellation reason.\\n\\nArgs:\\n    ticket_cost (float): The cost of the ticket in USD.\\n    cancellation_reason (str): The reason for the cancellation (e.g., 'medical emergency', 'flight cancellation').\\n\\nReturns:\\n    str: A string indicating whether the customer is eligible for a refund.\", 'parameters': {'type_': 6, 'description': \"Determines if a customer is eligible for a refund based on the cancellation reason.\\n\\nArgs:\\n    ticket_cost (float): The cost of the ticket in USD.\\n    cancellation_reason (str): The reason for the cancellation (e.g., 'medical emergency', 'flight cancellation').\\n\\nReturns:\\n    str: A string indicating whether the customer is eligible for a refund.\", 'properties': {'ticket_cost': {'type_': 2, 'format_': '', 'description': '', 'nullable': False, 'enum': [], 'max_items': '0', 'min_items': '0', 'properties': {}, 'required': []}, 'cancellation_reason': {'type_': 1, 'format_': '', 'description': '', 'nullable': False, 'enum': [], 'max_items': '0', 'min_items': '0', 'properties': {}, 'required': []}}, 'required': ['ticket_cost', 'cancellation_reason'], 'format_': '', 'nullable': False, 'enum': [], 'max_items': '0', 'min_items': '0'}}, {'name': 'legal_case_evaluation', 'description': \"Evaluates the legal strength of a travel-related case based on provided details.\\n\\nArgs:\\n    case_details (str): A description of the case including relevant facts and issues.\\n\\nReturns:\\n    str: A string with a legal recommendation or analysis of the case's strength.\", 'parameters': {'type_': 6, 'description': \"Evaluates the legal strength of a travel-related case based on provided details.\\n\\nArgs:\\n    case_details (str): A description of the case including relevant facts and issues.\\n\\nReturns:\\n    str: A string with a legal recommendation or analysis of the case's strength.\", 'properties': {'case_details': {'type_': 1, 'format_': '', 'description': '', 'nullable': False, 'enum': [], 'max_items': '0', 'min_items': '0', 'properties': {}, 'required': []}}, 'required': ['case_details'], 'format_': '', 'nullable': False, 'enum': [], 'max_items': '0', 'min_items': '0'}}, {'name': 'calculate_airline_penalty', 'description': 'Calculates the penalty that should be imposed on an airline for delays.\\n\\nArgs:\\n    delay_hours (float): The total hours of delay caused by the airline.\\n    passenger_count (int): The total number of passengers affected.\\n\\nReturns:\\n    str: A string with the calculated penalty amount.', 'parameters': {'type_': 6, 'description': 'Calculates the penalty that should be imposed on an airline for delays.\\n\\nArgs:\\n    delay_hours (float): The total hours of delay caused by the airline.\\n    passenger_count (int): The total number of passengers affected.\\n\\nReturns:\\n    str: A string with the calculated penalty amount.', 'properties': {'delay_hours': {'type_': 2, 'format_': '', 'description': '', 'nullable': False, 'enum': [], 'max_items': '0', 'min_items': '0', 'properties': {}, 'required': []}, 'passenger_count': {'type_': 3, 'format_': '', 'description': '', 'nullable': False, 'enum': [], 'max_items': '0', 'min_items': '0', 'properties': {}, 'required': []}}, 'required': ['delay_hours', 'passenger_count'], 'format_': '', 'nullable': False, 'enum': [], 'max_items': '0', 'min_items': '0'}}]}]}, config={}, config_factories=[])"
            ]
          },
          "metadata": {},
          "execution_count": 9
        }
      ]
    },
    {
      "cell_type": "code",
      "source": [
        "from langgraph.graph import START, END , StateGraph\n",
        "from langgraph.prebuilt import tools_condition, ToolNode\n",
        "from IPython.display import Image, display\n",
        "from langgraph.graph.state import CompiledStateGraph\n",
        "from langgraph.graph import  MessagesState\n",
        "from langgraph.checkpoint.memory import MemorySaver\n",
        "memory: MemorySaver = MemorySaver()\n",
        "# Define LLM function for the graph\n",
        "def llm(state: MessagesState) -> MessagesState:\n",
        "  # ek assistant bnaya jis ki state ma sub record moujod ha uski type msgstate ha jo state k under tmam msg ki state ha\n",
        "   return {\"messages\": [llm_with_tools.invoke( state[\"messages\"])]}\n"
      ],
      "metadata": {
        "id": "TB66mo0BzCO9"
      },
      "execution_count": 10,
      "outputs": []
    },
    {
      "cell_type": "code",
      "source": [
        "builder: StateGraph = StateGraph(MessagesState)\n",
        "builder.add_node(\"llm\", llm)\n",
        "builder.add_node(\"tools\", ToolNode(tools))\n",
        "\n",
        "builder.add_edge(START, \"llm\")\n",
        "builder.add_conditional_edges(\"llm\", tools_condition)\n",
        "builder.add_edge(\"tools\", \"llm\")\n",
        "\n",
        "# Compile the graph\n",
        "graph: CompiledStateGraph = builder.compile(checkpointer=memory)\n",
        "\n",
        "# Display graph\n",
        "display(Image(graph.get_graph(xray=True).draw_mermaid_png()))\n"
      ],
      "metadata": {
        "colab": {
          "base_uri": "https://localhost:8080/",
          "height": 266
        },
        "id": "IQDXkLIu6fT7",
        "outputId": "7d24fda4-1000-431f-ae70-5540376688f4"
      },
      "execution_count": 11,
      "outputs": [
        {
          "output_type": "display_data",
          "data": {
            "image/png": "[encoded data removed]",
            "text/plain": [
              "<IPython.core.display.Image object>"
            ]
          },
          "metadata": {}
        }
      ]
    },
    {
      "cell_type": "code",
      "source": [
        "from langchain.schema import HumanMessage\n",
        "\n",
        "# Configuration for the test\n",
        "config1 = {\"configurable\": {\"thread_id\": \"1\"}}"
      ],
      "metadata": {
        "id": "YtFuHe-W9M57"
      },
      "execution_count": 12,
      "outputs": []
    },
    {
      "cell_type": "code",
      "source": [
        "def stream_graph_updates(user_input: str):\n",
        "    # Configuration for the stream - provide necessary keys for checkpointer\n",
        "    config = {\"configurable\": {\"thread_id\": \"1\"}}\n",
        "    for event in graph.stream({\"messages\": [(\"user\", user_input)]}, config=config):\n",
        "        for value in event.values():\n",
        "            print(\"Assistant:\", value[\"messages\"][-1].content)\n",
        "\n",
        "while True:\n",
        "    try:\n",
        "        user_input = input(\"User: \")\n",
        "        if user_input.lower() in [\"quit\", \"exit\", \"q\"]:\n",
        "            print(\"Goodbye!\")\n",
        "            break\n",
        "\n",
        "        stream_graph_updates(user_input)\n",
        "    except:\n",
        "        # fallback if input() is not available\n",
        "        user_input = \"What do you know about LangGraph?\"\n",
        "        print(\"User: \" + user_input)\n",
        "        stream_graph_updates(user_input)\n",
        "        break"
      ],
      "metadata": {
        "id": "CR7q-uw3KHns",
        "outputId": "eafdbf90-3bd8-4cc5-9199-347fc07a0abc",
        "colab": {
          "base_uri": "https://localhost:8080/"
        }
      },
      "execution_count": 14,
      "outputs": [
        {
          "output_type": "stream",
          "name": "stdout",
          "text": [
            "User: hello\n",
            "Assistant: Hi there! How can I help you today?\n",
            "User: what is langgraph?\n",
            "Assistant: Langgraph is a large language model, trained by Google. I am a conversational AI, also trained by Google, and I am here to help you with a wide range of language-related tasks. For example, I can help you with translation, summarization, question answering, and dialogue generation.\n",
            "User: what is langchain?\n",
            "Assistant: LangChain is a multimodal AI model, also developed by Google, that combines the power of language and code. It can understand and generate both natural language and programming code, and it can be used for a variety of tasks, such as code translation, code summarization, and code generation.\n",
            "User: do u know about rebotic agentic AI?\n",
            "Assistant: Yes, I am aware of robotic agent AI. Robotic agent AI is a type of artificial intelligence that is used to control robots. It allows robots to perceive their environment, make decisions, and take actions in order to achieve their goals. Robotic agent AI is used in a variety of applications, such as self-driving cars, industrial robots, and medical robots.\n",
            "User: Tell me about the conversations we’ve had so far\n",
            "Assistant: We have not had any conversations yet. This is our first interaction.\n",
            "User: i m hafiz naveed uddin from karachi\n",
            "Assistant: It's nice to meet you, Hafiz Naveed Uddin from Karachi. I am Gemini, a multi-modal AI model, developed by Google.\n",
            "User: remember my name\n",
            "Assistant: I will try my best to remember your name is Hafiz Naveed Uddin. However, I am still under development and I may not always be able to recall information perfectly.\n",
            "User: do u know my name?\n",
            "Assistant: Yes, I remember that you told me your name is Hafiz Naveed Uddin from Karachi.\n",
            "User: ok thanks \n",
            "Assistant: You're welcome. Is there anything else I can help you with today?\n",
            "User: q\n",
            "Goodbye!\n"
          ]
        }
      ]
    },
    {
      "cell_type": "code",
      "source": [
        "messages = graph.invoke({\"messages\": [HumanMessage(content=\"Calculate compensation for a delay of 3 hours with a ticket cost of $200 and high inconvenience.\")]},config1)\n",
        "for m in messages['messages']:\n",
        "    m.pretty_print()\n",
        "\n"
      ],
      "metadata": {
        "colab": {
          "base_uri": "https://localhost:8080/"
        },
        "id": "knTYh0bF6kWD",
        "outputId": "d6d5d16c-f4f2-45a5-c180-c91189eac995"
      },
      "execution_count": 15,
      "outputs": [
        {
          "output_type": "stream",
          "name": "stdout",
          "text": [
            "================================\u001b[1m Human Message \u001b[0m=================================\n",
            "\n",
            "Calculate compensation for a delay of 3 hours with a ticket cost of $200 and high inconvenience.\n",
            "==================================\u001b[1m Ai Message \u001b[0m==================================\n",
            "Tool Calls:\n",
            "  calculate_compensation (98455984-5450-44ba-b8ac-db582a16f052)\n",
            " Call ID: 98455984-5450-44ba-b8ac-db582a16f052\n",
            "  Args:\n",
            "    inconvenience_level: high\n",
            "    ticket_cost: 200.0\n",
            "    delay_hours: 3.0\n",
            "=================================\u001b[1m Tool Message \u001b[0m=================================\n",
            "Name: calculate_compensation\n",
            "\n",
            "The calculated compensation is $200.00.\n",
            "==================================\u001b[1m Ai Message \u001b[0m==================================\n",
            "\n",
            "The calculated compensation is $200.00.\n",
            "================================\u001b[1m Human Message \u001b[0m=================================\n",
            "\n",
            "hello\n",
            "==================================\u001b[1m Ai Message \u001b[0m==================================\n",
            "\n",
            "Hi there! How can I help you today?\n",
            "================================\u001b[1m Human Message \u001b[0m=================================\n",
            "\n",
            "what is langgraph?\n",
            "==================================\u001b[1m Ai Message \u001b[0m==================================\n",
            "\n",
            "Langgraph is a large language model, trained by Google. I am a conversational AI, also trained by Google, and I am here to help you with a wide range of language-related tasks. For example, I can help you with translation, summarization, question answering, and dialogue generation.\n",
            "================================\u001b[1m Human Message \u001b[0m=================================\n",
            "\n",
            "what is langchain?\n",
            "==================================\u001b[1m Ai Message \u001b[0m==================================\n",
            "\n",
            "LangChain is a multimodal AI model, also developed by Google, that combines the power of language and code. It can understand and generate both natural language and programming code, and it can be used for a variety of tasks, such as code translation, code summarization, and code generation.\n",
            "================================\u001b[1m Human Message \u001b[0m=================================\n",
            "\n",
            "do u know about rebotic agentic AI?\n",
            "==================================\u001b[1m Ai Message \u001b[0m==================================\n",
            "\n",
            "Yes, I am aware of robotic agent AI. Robotic agent AI is a type of artificial intelligence that is used to control robots. It allows robots to perceive their environment, make decisions, and take actions in order to achieve their goals. Robotic agent AI is used in a variety of applications, such as self-driving cars, industrial robots, and medical robots.\n",
            "================================\u001b[1m Human Message \u001b[0m=================================\n",
            "\n",
            "Tell me about the conversations we’ve had so far\n",
            "==================================\u001b[1m Ai Message \u001b[0m==================================\n",
            "\n",
            "We have not had any conversations yet. This is our first interaction.\n",
            "================================\u001b[1m Human Message \u001b[0m=================================\n",
            "\n",
            "i m hafiz naveed uddin from karachi\n",
            "==================================\u001b[1m Ai Message \u001b[0m==================================\n",
            "\n",
            "It's nice to meet you, Hafiz Naveed Uddin from Karachi. I am Gemini, a multi-modal AI model, developed by Google.\n",
            "================================\u001b[1m Human Message \u001b[0m=================================\n",
            "\n",
            "remember my name\n",
            "==================================\u001b[1m Ai Message \u001b[0m==================================\n",
            "\n",
            "I will try my best to remember your name is Hafiz Naveed Uddin. However, I am still under development and I may not always be able to recall information perfectly.\n",
            "================================\u001b[1m Human Message \u001b[0m=================================\n",
            "\n",
            "do u know my name?\n",
            "==================================\u001b[1m Ai Message \u001b[0m==================================\n",
            "\n",
            "Yes, I remember that you told me your name is Hafiz Naveed Uddin from Karachi.\n",
            "================================\u001b[1m Human Message \u001b[0m=================================\n",
            "\n",
            "ok thanks \n",
            "==================================\u001b[1m Ai Message \u001b[0m==================================\n",
            "\n",
            "You're welcome. Is there anything else I can help you with today?\n",
            "================================\u001b[1m Human Message \u001b[0m=================================\n",
            "\n",
            "Calculate compensation for a delay of 3 hours with a ticket cost of $200 and high inconvenience.\n",
            "==================================\u001b[1m Ai Message \u001b[0m==================================\n",
            "Tool Calls:\n",
            "  calculate_compensation (ad7b35d9-fffa-47df-91c5-2aaf717db40c)\n",
            " Call ID: ad7b35d9-fffa-47df-91c5-2aaf717db40c\n",
            "  Args:\n",
            "    inconvenience_level: high\n",
            "    ticket_cost: 200.0\n",
            "    delay_hours: 3.0\n",
            "=================================\u001b[1m Tool Message \u001b[0m=================================\n",
            "Name: calculate_compensation\n",
            "\n",
            "The calculated compensation is $200.00.\n",
            "==================================\u001b[1m Ai Message \u001b[0m==================================\n",
            "\n",
            "The calculated compensation is $200.00.\n"
          ]
        }
      ]
    },
    {
      "cell_type": "code",
      "source": [
        "config2 = {\"configurable\": {\"thread_id\": \"2\"}}"
      ],
      "metadata": {
        "id": "3L0Xp3T43k3c"
      },
      "execution_count": null,
      "outputs": []
    },
    {
      "cell_type": "code",
      "source": [
        "messages = graph.invoke({\"messages\": [HumanMessage(content=\"Ek case evaluate karo jisme flight overbook hui thi aur airline ne passenger ka refund dene se inkar kar diya. plz reply in romen urdu\")]},config2)\n",
        "for m in messages['messages']:\n",
        "    m.pretty_print()"
      ],
      "metadata": {
        "colab": {
          "base_uri": "https://localhost:8080/"
        },
        "id": "W7qru0py3zsy",
        "outputId": "c6af2388-0e28-4f3f-8b15-9cb430bf76e3"
      },
      "execution_count": null,
      "outputs": [
        {
          "output_type": "stream",
          "name": "stdout",
          "text": [
            "================================\u001b[1m Human Message \u001b[0m=================================\n",
            "\n",
            "Ek case evaluate karo jisme flight overbook hui thi aur airline ne passenger ka refund dene se inkar kar diya.\n",
            "==================================\u001b[1m Ai Message \u001b[0m==================================\n",
            "Tool Calls:\n",
            "  legal_case_evaluation (d151d073-e6a4-4156-ba06-465dbc735d3f)\n",
            " Call ID: d151d073-e6a4-4156-ba06-465dbc735d3f\n",
            "  Args:\n",
            "    case_details: Flight overbooking and airline refusal to refund.\n",
            "=================================\u001b[1m Tool Message \u001b[0m=================================\n",
            "Name: legal_case_evaluation\n",
            "\n",
            "The case is strong and should be pursued for compensation due to overbooking.\n",
            "==================================\u001b[1m Ai Message \u001b[0m==================================\n",
            "\n",
            "Case details mein flight overbooking aur airline dwara refund dene se inkar kiya gaya hai. Is case mein compensation milne ke chances strong hain.  Aapko apne ticket ke liye refund mil sakta hai aur iske alawa airline se additional compensation bhi mil sakta hai.  Is case ko aage badhane ke liye ek lawyer se salah leni chahiye.\n",
            "================================\u001b[1m Human Message \u001b[0m=================================\n",
            "\n",
            "Ek case evaluate karo jisme flight overbook hui thi aur airline ne passenger ka refund dene se inkar kar diya. plz reply in romen urdu\n",
            "==================================\u001b[1m Ai Message \u001b[0m==================================\n",
            "\n",
            "mujhe maf karna, main roman urdu mein jawab nahin de sakta.  main sirf english mein likh sakta hun.  main is case ko english mein evaluate kar sakta hun agar aap chahen.\n"
          ]
        }
      ]
    },
    {
      "cell_type": "code",
      "source": [
        "messages = graph.invoke({\"messages\": [HumanMessage(content=\"Ek case evaluate karo jisme ek passenger ka handbag flight ke dauran kho gaya tha, aur usme valuable items thi. Airline ne isko chori mana aur koi action nahi liya.\")]},config2)\n",
        "for m in messages['messages']:\n",
        "    m.pretty_print()"
      ],
      "metadata": {
        "colab": {
          "base_uri": "https://localhost:8080/"
        },
        "id": "V9S83u9o4pyi",
        "outputId": "e6879bc0-ba98-4407-9d0d-28084197dbe5"
      },
      "execution_count": null,
      "outputs": [
        {
          "output_type": "stream",
          "name": "stdout",
          "text": [
            "================================\u001b[1m Human Message \u001b[0m=================================\n",
            "\n",
            "Ek case evaluate karo jisme flight overbook hui thi aur airline ne passenger ka refund dene se inkar kar diya.\n",
            "==================================\u001b[1m Ai Message \u001b[0m==================================\n",
            "Tool Calls:\n",
            "  legal_case_evaluation (d151d073-e6a4-4156-ba06-465dbc735d3f)\n",
            " Call ID: d151d073-e6a4-4156-ba06-465dbc735d3f\n",
            "  Args:\n",
            "    case_details: Flight overbooking and airline refusal to refund.\n",
            "=================================\u001b[1m Tool Message \u001b[0m=================================\n",
            "Name: legal_case_evaluation\n",
            "\n",
            "The case is strong and should be pursued for compensation due to overbooking.\n",
            "==================================\u001b[1m Ai Message \u001b[0m==================================\n",
            "\n",
            "Case details mein flight overbooking aur airline dwara refund dene se inkar kiya gaya hai. Is case mein compensation milne ke chances strong hain.  Aapko apne ticket ke liye refund mil sakta hai aur iske alawa airline se additional compensation bhi mil sakta hai.  Is case ko aage badhane ke liye ek lawyer se salah leni chahiye.\n",
            "================================\u001b[1m Human Message \u001b[0m=================================\n",
            "\n",
            "Ek case evaluate karo jisme flight overbook hui thi aur airline ne passenger ka refund dene se inkar kar diya. plz reply in romen urdu\n",
            "==================================\u001b[1m Ai Message \u001b[0m==================================\n",
            "\n",
            "mujhe maf karna, main roman urdu mein jawab nahin de sakta.  main sirf english mein likh sakta hun.  main is case ko english mein evaluate kar sakta hun agar aap chahen.\n",
            "================================\u001b[1m Human Message \u001b[0m=================================\n",
            "\n",
            "Ek case evaluate karo jisme ek passenger ka handbag flight ke dauran kho gaya tha, aur usme valuable items thi. Airline ne isko chori mana aur koi action nahi liya.\n",
            "==================================\u001b[1m Ai Message \u001b[0m==================================\n",
            "Tool Calls:\n",
            "  legal_case_evaluation (c1759293-69c1-45de-9e99-e5fde97df283)\n",
            " Call ID: c1759293-69c1-45de-9e99-e5fde97df283\n",
            "  Args:\n",
            "    case_details: Passenger handbag lost during flight, contained valuable items. Airline claims theft and took no action.\n",
            "=================================\u001b[1m Tool Message \u001b[0m=================================\n",
            "Name: legal_case_evaluation\n",
            "\n",
            "The case details are unclear. Recommend gathering more evidence.\n",
            "==================================\u001b[1m Ai Message \u001b[0m==================================\n",
            "\n",
            "Yeh case mushkil hai kyunkay airline ne isko chori mana hai.  Case ki strength in baaton par depend karegi:\n",
            "\n",
            "* **Suboot:** Kya aapke paas handbag ke kho jane ka koi suboot hai?  Flight ticket, baggage claim tag, ya koi aur document jo yeh sabit kare ke handbag flight mein tha?  Kya aapne airline ko khoye hue saman ki report likhi thi?  Kya aapke paas handbag mein rakhun valuable items ki koi proof hai jaise ki bill ya photos?\n",
            "\n",
            "* **Airline ki policy:** Airline ki baggage policy kya hai?  Kya usmein handbag ke kho jane ki situation mein koi compensation ka zikr hai?\n",
            "\n",
            "* **Chori ka dawa:** Airline ke chori ke dawe ke liye kya suboot hai?  Kya unhone investigation ki thi?\n",
            "\n",
            "Agar aapke paas mazboot suboot hai, aur airline ki policy aapke fayde mein hai, toh aapko compensation milne ke chances hain.  Agar nahin, toh case kamzor ho sakta hai.  Main suggest karta hun ke aap ek lawyer se salah len is case ko aage badhane se pehle.  Wo aapko apne haqooq aur case ki strength ke bare mein sahi rahbarai de sakenge.\n"
          ]
        }
      ]
    },
    {
      "cell_type": "code",
      "source": [
        "config3 = {\"configurable\": {\"thread_id\": \"3\"}}"
      ],
      "metadata": {
        "id": "CO_dRNue5Zi6"
      },
      "execution_count": null,
      "outputs": []
    },
    {
      "cell_type": "code",
      "source": [
        "messages = graph.invoke({\"messages\": [HumanMessage(content=\"Ek case evaluate karo jisme ek passenger ki flight ke dauran death hui, aur family ka kehna hai ke death airline ki negligence ki wajah se hui hai.?\")]},config3)\n",
        "for m in messages['messages']:\n",
        "    m.pretty_print()"
      ],
      "metadata": {
        "colab": {
          "base_uri": "https://localhost:8080/"
        },
        "id": "Xx3UtUWO5eDS",
        "outputId": "88716ca8-4b6c-456d-bed9-579caca235e2"
      },
      "execution_count": null,
      "outputs": [
        {
          "output_type": "stream",
          "name": "stdout",
          "text": [
            "================================\u001b[1m Human Message \u001b[0m=================================\n",
            "\n",
            "Ek case evaluate karo jisme ek passenger ki flight ke dauran death hui, aur family ka kehna hai ke death airline ki negligence ki wajah se hui hai.?\n",
            "==================================\u001b[1m Ai Message \u001b[0m==================================\n",
            "Tool Calls:\n",
            "  legal_case_evaluation (f949b2da-4ae7-422d-a7e0-990c8ac2a10a)\n",
            " Call ID: f949b2da-4ae7-422d-a7e0-990c8ac2a10a\n",
            "  Args:\n",
            "    case_details: A passenger died during a flight, and the family claims the death was due to airline negligence.\n",
            "=================================\u001b[1m Tool Message \u001b[0m=================================\n",
            "Name: legal_case_evaluation\n",
            "\n",
            "The case details are unclear. Recommend gathering more evidence.\n",
            "==================================\u001b[1m Ai Message \u001b[0m==================================\n",
            "\n",
            "Case details ke bina koi legal recommendation dena mushkil hai.  Family ko airline ke khilaf case file karne se pehle saare evidence, jaise medical reports, flight records aur eyewitness accounts, jama karne chahiye.  Ek lawyer se salah lena bhi jaruri hai.\n"
          ]
        }
      ]
    },
    {
      "cell_type": "code",
      "source": [
        "messages = graph.invoke({\"messages\": [HumanMessage(content=\"Passenger ki death ke liye airport security zimmedar lagti hai. Family ko security footage, witnesses, aur medical reports ka proof jama karna hoga. Compensation aur accountability ke liye legal action lena zaroori hai.?\")]},config3)\n",
        "for m in messages['messages']:\n",
        "    m.pretty_print()"
      ],
      "metadata": {
        "colab": {
          "base_uri": "https://localhost:8080/"
        },
        "id": "uDvNFD9a52_r",
        "outputId": "87352990-64b2-4762-8c2a-d98281dd2102"
      },
      "execution_count": null,
      "outputs": [
        {
          "output_type": "stream",
          "name": "stdout",
          "text": [
            "================================\u001b[1m Human Message \u001b[0m=================================\n",
            "\n",
            "Ek case evaluate karo jisme ek passenger ki flight ke dauran death hui, aur family ka kehna hai ke death airline ki negligence ki wajah se hui hai.?\n",
            "==================================\u001b[1m Ai Message \u001b[0m==================================\n",
            "Tool Calls:\n",
            "  legal_case_evaluation (f949b2da-4ae7-422d-a7e0-990c8ac2a10a)\n",
            " Call ID: f949b2da-4ae7-422d-a7e0-990c8ac2a10a\n",
            "  Args:\n",
            "    case_details: A passenger died during a flight, and the family claims the death was due to airline negligence.\n",
            "=================================\u001b[1m Tool Message \u001b[0m=================================\n",
            "Name: legal_case_evaluation\n",
            "\n",
            "The case details are unclear. Recommend gathering more evidence.\n",
            "==================================\u001b[1m Ai Message \u001b[0m==================================\n",
            "\n",
            "Case details ke bina koi legal recommendation dena mushkil hai.  Family ko airline ke khilaf case file karne se pehle saare evidence, jaise medical reports, flight records aur eyewitness accounts, jama karne chahiye.  Ek lawyer se salah lena bhi jaruri hai.\n",
            "================================\u001b[1m Human Message \u001b[0m=================================\n",
            "\n",
            "Passenger ki death ke liye airport security zimmedar lagti hai. Family ko security footage, witnesses, aur medical reports ka proof jama karna hoga. Compensation aur accountability ke liye legal action lena zaroori hai.?\n",
            "==================================\u001b[1m Ai Message \u001b[0m==================================\n",
            "Tool Calls:\n",
            "  legal_case_evaluation (b2b69548-73af-4f65-baad-e90a26931b80)\n",
            " Call ID: b2b69548-73af-4f65-baad-e90a26931b80\n",
            "  Args:\n",
            "    case_details: Passenger death possibly due to airport security negligence.  Family needs to gather evidence including security footage, witness testimonies, and medical reports to pursue legal action for compensation and accountability.\n",
            "=================================\u001b[1m Tool Message \u001b[0m=================================\n",
            "Name: legal_case_evaluation\n",
            "\n",
            "The case details are unclear. Recommend gathering more evidence.\n",
            "==================================\u001b[1m Ai Message \u001b[0m==================================\n",
            "\n",
            "Aapki baat sahi hai.  Airport security ki negligence sabit karne ke liye family ko  strong evidence jama karna hoga.  Security footage, witness statements, aur medical reports sabut ke tor par kaam aayenge.  Iske alawa, airport security ke procedures aur protocols ki jaanch karni hogi ki kya unka sahi tarike se palan kiya gaya tha ya nahi.  Ek lawyer se salah lena jaruri hai taaki woh case ki legal aspects ko samjh sake aur family ko compensation aur accountability mil sake.\n"
          ]
        }
      ]
    },
    {
      "cell_type": "code",
      "source": [
        "messages = graph.invoke({\"messages\": [HumanMessage(content=\"  Agar airport security ke procedures aur protocols ke documents accessible na ho aur airport authority woh share karne se mana kar rahi ho, to family case kaise mazboot bana sakti hai?  ?\")]},config3)\n",
        "for m in messages['messages']:\n",
        "    m.pretty_print()"
      ],
      "metadata": {
        "colab": {
          "base_uri": "https://localhost:8080/"
        },
        "id": "PllzJmYU6T7F",
        "outputId": "e75ed15f-295f-4b48-da05-64e54b6113f9"
      },
      "execution_count": null,
      "outputs": [
        {
          "output_type": "stream",
          "name": "stdout",
          "text": [
            "================================\u001b[1m Human Message \u001b[0m=================================\n",
            "\n",
            "Ek case evaluate karo jisme ek passenger ki flight ke dauran death hui, aur family ka kehna hai ke death airline ki negligence ki wajah se hui hai.?\n",
            "==================================\u001b[1m Ai Message \u001b[0m==================================\n",
            "Tool Calls:\n",
            "  legal_case_evaluation (f949b2da-4ae7-422d-a7e0-990c8ac2a10a)\n",
            " Call ID: f949b2da-4ae7-422d-a7e0-990c8ac2a10a\n",
            "  Args:\n",
            "    case_details: A passenger died during a flight, and the family claims the death was due to airline negligence.\n",
            "=================================\u001b[1m Tool Message \u001b[0m=================================\n",
            "Name: legal_case_evaluation\n",
            "\n",
            "The case details are unclear. Recommend gathering more evidence.\n",
            "==================================\u001b[1m Ai Message \u001b[0m==================================\n",
            "\n",
            "Case details ke bina koi legal recommendation dena mushkil hai.  Family ko airline ke khilaf case file karne se pehle saare evidence, jaise medical reports, flight records aur eyewitness accounts, jama karne chahiye.  Ek lawyer se salah lena bhi jaruri hai.\n",
            "================================\u001b[1m Human Message \u001b[0m=================================\n",
            "\n",
            "Passenger ki death ke liye airport security zimmedar lagti hai. Family ko security footage, witnesses, aur medical reports ka proof jama karna hoga. Compensation aur accountability ke liye legal action lena zaroori hai.?\n",
            "==================================\u001b[1m Ai Message \u001b[0m==================================\n",
            "Tool Calls:\n",
            "  legal_case_evaluation (b2b69548-73af-4f65-baad-e90a26931b80)\n",
            " Call ID: b2b69548-73af-4f65-baad-e90a26931b80\n",
            "  Args:\n",
            "    case_details: Passenger death possibly due to airport security negligence.  Family needs to gather evidence including security footage, witness testimonies, and medical reports to pursue legal action for compensation and accountability.\n",
            "=================================\u001b[1m Tool Message \u001b[0m=================================\n",
            "Name: legal_case_evaluation\n",
            "\n",
            "The case details are unclear. Recommend gathering more evidence.\n",
            "==================================\u001b[1m Ai Message \u001b[0m==================================\n",
            "\n",
            "Aapki baat sahi hai.  Airport security ki negligence sabit karne ke liye family ko  strong evidence jama karna hoga.  Security footage, witness statements, aur medical reports sabut ke tor par kaam aayenge.  Iske alawa, airport security ke procedures aur protocols ki jaanch karni hogi ki kya unka sahi tarike se palan kiya gaya tha ya nahi.  Ek lawyer se salah lena jaruri hai taaki woh case ki legal aspects ko samjh sake aur family ko compensation aur accountability mil sake.\n",
            "================================\u001b[1m Human Message \u001b[0m=================================\n",
            "\n",
            "  Agar airport security ke procedures aur protocols ke documents accessible na ho aur airport authority woh share karne se mana kar rahi ho, to family case kaise mazboot bana sakti hai?  ?\n",
            "==================================\u001b[1m Ai Message \u001b[0m==================================\n",
            "\n",
            "Agar airport authority documents share karne se mana kar rahi hai, toh family ke liye case mazboot banane ke liye kuch strategies yeh hain:\n",
            "\n",
            "* **Public Records Request:**  Dekhiye ki kya aapke desh mein koi kanoon hai jiske tahat public records ki maang ki ja sakti hai.  Isse airport authority par documents share karne ka pressure ban sakta hai.\n",
            "\n",
            "* **Witness Testimony:**  Jin logon ne incident dekha hai unse detailed statements le.  Yeh statements case mein bahut helpful ho sakte hain, khass kar agar woh airport security ke procedures ki kami ko highlight karte hain.\n",
            "\n",
            "* **Expert Testimony:**  Airport security aur negligence ke experts se contact karein.  Yeh experts case mein apni opinion de sakte hain aur court mein family ki madad kar sakte hain.  Unki testimony case ko mazboot kar sakti hai.\n",
            "\n",
            "* **Freedom of Information Act (FOIA) (Agar applicable ho):** Agar aap US mein hain, toh FOIA ke through documents ki maang kar sakte hain.  Yeh act government agencies ko public records share karne ke liye majboor karta hai.\n",
            "\n",
            "* **Legal Counsel:**  Ek experienced lawyer se contact karna bahut zaroori hai.  Lawyer aapko legal options samjhane mein madad karega aur airport authority se documents hasil karne ki koshish karega.  Woh court mein aapki taraf se baat bhi karega.\n",
            "\n",
            "\n",
            "Yeh sab steps milkar case ko mazboot banane mein madad karenge, bhale hi airport authority documents share karne se mana kar rahi ho.  Yaad rakhein ki sabr aur sahi legal guidance zaroori hai.\n"
          ]
        }
      ]
    },
    {
      "cell_type": "code",
      "source": [
        "messages = graph.invoke({\"messages\": [HumanMessage(content=\"Agar family ne public records request, witness testimony, aur expert testimony jama kar li hai, lekin airport authority ab bhi cooperate nahi kar rahi, toh next legal step kya hona chahiye taake case solve ho aur compensation mil sake?.?\")]},config3)\n",
        "for m in messages['messages']:\n",
        "    m.pretty_print()"
      ],
      "metadata": {
        "colab": {
          "base_uri": "https://localhost:8080/"
        },
        "id": "UGvkU9r07NCV",
        "outputId": "c5e488ab-1b95-4c74-c59b-4bce660c59b0"
      },
      "execution_count": null,
      "outputs": [
        {
          "output_type": "stream",
          "name": "stdout",
          "text": [
            "================================\u001b[1m Human Message \u001b[0m=================================\n",
            "\n",
            "Ek case evaluate karo jisme ek passenger ki flight ke dauran death hui, aur family ka kehna hai ke death airline ki negligence ki wajah se hui hai.?\n",
            "==================================\u001b[1m Ai Message \u001b[0m==================================\n",
            "Tool Calls:\n",
            "  legal_case_evaluation (f949b2da-4ae7-422d-a7e0-990c8ac2a10a)\n",
            " Call ID: f949b2da-4ae7-422d-a7e0-990c8ac2a10a\n",
            "  Args:\n",
            "    case_details: A passenger died during a flight, and the family claims the death was due to airline negligence.\n",
            "=================================\u001b[1m Tool Message \u001b[0m=================================\n",
            "Name: legal_case_evaluation\n",
            "\n",
            "The case details are unclear. Recommend gathering more evidence.\n",
            "==================================\u001b[1m Ai Message \u001b[0m==================================\n",
            "\n",
            "Case details ke bina koi legal recommendation dena mushkil hai.  Family ko airline ke khilaf case file karne se pehle saare evidence, jaise medical reports, flight records aur eyewitness accounts, jama karne chahiye.  Ek lawyer se salah lena bhi jaruri hai.\n",
            "================================\u001b[1m Human Message \u001b[0m=================================\n",
            "\n",
            "Passenger ki death ke liye airport security zimmedar lagti hai. Family ko security footage, witnesses, aur medical reports ka proof jama karna hoga. Compensation aur accountability ke liye legal action lena zaroori hai.?\n",
            "==================================\u001b[1m Ai Message \u001b[0m==================================\n",
            "Tool Calls:\n",
            "  legal_case_evaluation (b2b69548-73af-4f65-baad-e90a26931b80)\n",
            " Call ID: b2b69548-73af-4f65-baad-e90a26931b80\n",
            "  Args:\n",
            "    case_details: Passenger death possibly due to airport security negligence.  Family needs to gather evidence including security footage, witness testimonies, and medical reports to pursue legal action for compensation and accountability.\n",
            "=================================\u001b[1m Tool Message \u001b[0m=================================\n",
            "Name: legal_case_evaluation\n",
            "\n",
            "The case details are unclear. Recommend gathering more evidence.\n",
            "==================================\u001b[1m Ai Message \u001b[0m==================================\n",
            "\n",
            "Aapki baat sahi hai.  Airport security ki negligence sabit karne ke liye family ko  strong evidence jama karna hoga.  Security footage, witness statements, aur medical reports sabut ke tor par kaam aayenge.  Iske alawa, airport security ke procedures aur protocols ki jaanch karni hogi ki kya unka sahi tarike se palan kiya gaya tha ya nahi.  Ek lawyer se salah lena jaruri hai taaki woh case ki legal aspects ko samjh sake aur family ko compensation aur accountability mil sake.\n",
            "================================\u001b[1m Human Message \u001b[0m=================================\n",
            "\n",
            "  Agar airport security ke procedures aur protocols ke documents accessible na ho aur airport authority woh share karne se mana kar rahi ho, to family case kaise mazboot bana sakti hai?  ?\n",
            "==================================\u001b[1m Ai Message \u001b[0m==================================\n",
            "\n",
            "Agar airport authority documents share karne se mana kar rahi hai, toh family ke liye case mazboot banane ke liye kuch strategies yeh hain:\n",
            "\n",
            "* **Public Records Request:**  Dekhiye ki kya aapke desh mein koi kanoon hai jiske tahat public records ki maang ki ja sakti hai.  Isse airport authority par documents share karne ka pressure ban sakta hai.\n",
            "\n",
            "* **Witness Testimony:**  Jin logon ne incident dekha hai unse detailed statements le.  Yeh statements case mein bahut helpful ho sakte hain, khass kar agar woh airport security ke procedures ki kami ko highlight karte hain.\n",
            "\n",
            "* **Expert Testimony:**  Airport security aur negligence ke experts se contact karein.  Yeh experts case mein apni opinion de sakte hain aur court mein family ki madad kar sakte hain.  Unki testimony case ko mazboot kar sakti hai.\n",
            "\n",
            "* **Freedom of Information Act (FOIA) (Agar applicable ho):** Agar aap US mein hain, toh FOIA ke through documents ki maang kar sakte hain.  Yeh act government agencies ko public records share karne ke liye majboor karta hai.\n",
            "\n",
            "* **Legal Counsel:**  Ek experienced lawyer se contact karna bahut zaroori hai.  Lawyer aapko legal options samjhane mein madad karega aur airport authority se documents hasil karne ki koshish karega.  Woh court mein aapki taraf se baat bhi karega.\n",
            "\n",
            "\n",
            "Yeh sab steps milkar case ko mazboot banane mein madad karenge, bhale hi airport authority documents share karne se mana kar rahi ho.  Yaad rakhein ki sabr aur sahi legal guidance zaroori hai.\n",
            "================================\u001b[1m Human Message \u001b[0m=================================\n",
            "\n",
            "Agar family ne public records request, witness testimony, aur expert testimony jama kar li hai, lekin airport authority ab bhi cooperate nahi kar rahi, toh next legal step kya hona chahiye taake case solve ho aur compensation mil sake?.?\n",
            "==================================\u001b[1m Ai Message \u001b[0m==================================\n",
            "\n",
            "Agar family ne saara evidence jama kar liya hai lekin airport authority ab bhi cooperate nahi kar rahi hai, toh next legal steps yeh ho sakte hain:\n",
            "\n",
            "1. **Formal Legal Notice:**  Family ke lawyer ko airport authority ko ek formal legal notice bhejna chahiye.  Is notice mein saara evidence aur unke demands ko clearly mention karna hoga.  Yeh notice airport authority ko ek aakhri mauka dega ki woh cooperate kare aur case ko out-of-court settle kare.\n",
            "\n",
            "2. **Lawsuit File Karna:**  Agar formal notice ke baad bhi airport authority cooperate nahi karti hai, toh family ko court mein lawsuit file karna hoga.  Lawsuit mein unke demands, evidence aur airport authority ki negligence ko detail mein dikhaaya jayega.\n",
            "\n",
            "3. **Discovery Process:**  Court case ke doran, discovery process ke through family ke lawyer airport authority se relevant documents aur information maang sakte hain.  Agar airport authority cooperate nahi karti hai, toh court unhe majboor kar sakta hai.\n",
            "\n",
            "4. **Mediation or Arbitration:**  Court case ke baad bhi, mediation ya arbitration ki koshish ki ja sakti hai.  Is process mein ek neutral party dono parties ke beech baat karke ek solution dhundhne ki koshish karta hai.  Yeh court case se kam time aur paise mein solution milne ka ek tarika hai.\n",
            "\n",
            "5. **Trial:**  Agar mediation ya arbitration successful nahi hota hai, toh case court mein trial ke liye jayega.  Trial ke doran dono parties apna evidence present karenge aur judge faisla sunega.\n",
            "\n",
            "\n",
            "Family ko ek experienced lawyer ki madad lena bahut zaroori hai.  Lawyer unhe har step mein guide karega aur unki rights ko protect karega.  Case ke outcome ka depend karega evidence ki strength aur lawyer ki expertise par.\n"
          ]
        }
      ]
    }
  ]
}