{
  "nbformat": 4,
  "nbformat_minor": 0,
  "metadata": {
    "colab": {
      "provenance": [],
      "authorship_tag": "ABX9TyMXdEHXVAt0xLozGCKUOCc9",
      "include_colab_link": true
    },
    "kernelspec": {
      "name": "python3",
      "display_name": "Python 3"
    },
    "language_info": {
      "name": "python"
    }
  },
  "cells": [
    {
      "cell_type": "markdown",
      "metadata": {
        "id": "view-in-github",
        "colab_type": "text"
      },
      "source": [
        "<a href=\"https://colab.research.google.com/github/NAVEED261/MY-AI-ASSISTANT/blob/main/Travel_Judge_Assistant.ipynb\" target=\"_parent\"><img src=\"https://colab.research.google.com/assets/colab-badge.svg\" alt=\"Open In Colab\"/></a>"
      ]
    },
    {
      "cell_type": "code",
      "execution_count": 16,
      "metadata": {
        "id": "nJBnFfqD58t6"
      },
      "outputs": [],
      "source": [
        "%%capture --no-stderr\n",
        "!pip install --upgrade langchain langchain_google_genai langgraph tavily-python langchain_community langchain_core\n",
        "\n"
      ]
    },
    {
      "cell_type": "code",
      "source": [
        "import os\n",
        "from google.colab import userdata\n",
        "Gemnai_api_key = userdata.get('GOOGLE_API_KEY')\n",
        "tavily_api_key = userdata.get(\"Tavily_Api_Key\")\n",
        "os.environ[\"Tavily_Api_Key\"] = \"Tavily_Api_Key\"\n",
        "\n",
        "from langchain_google_genai import ChatGoogleGenerativeAI\n",
        "llm: ChatGoogleGenerativeAI = ChatGoogleGenerativeAI (\n",
        "    model = \"gemini-pro\",  # Changed the model name to a valid model identifier\n",
        "    api_key = Gemnai_api_key\n",
        ")\n",
        "llm.invoke(\"i am hafiz naveed uddin from karachi\")"
      ],
      "metadata": {
        "id": "CF4IY5mJ6G6l",
        "colab": {
          "base_uri": "https://localhost:8080/"
        },
        "outputId": "57cf86fe-ce76-4253-c67e-b57f5b84947e"
      },
      "execution_count": 17,
      "outputs": [
        {
          "output_type": "execute_result",
          "data": {
            "text/plain": [
              "AIMessage(content='Hello Hafiz Naveed Uddin from Karachi. Welcome to the world of AI and language models. I am Gemini, a multimodal AI model, developed by Google. I am designed to assist and inform users to the best of my abilities. While I may not possess personal experiences or emotions, I am dedicated to providing comprehensive and helpful responses based on the information available to me. If you have any questions or need assistance with a topic, feel free to ask, and I will do my best to assist you.', additional_kwargs={}, response_metadata={'prompt_feedback': {'block_reason': 0, 'safety_ratings': []}, 'finish_reason': 'STOP', 'safety_ratings': [{'category': 'HARM_CATEGORY_SEXUALLY_EXPLICIT', 'probability': 'NEGLIGIBLE', 'blocked': False}, {'category': 'HARM_CATEGORY_HATE_SPEECH', 'probability': 'NEGLIGIBLE', 'blocked': False}, {'category': 'HARM_CATEGORY_HARASSMENT', 'probability': 'NEGLIGIBLE', 'blocked': False}, {'category': 'HARM_CATEGORY_DANGEROUS_CONTENT', 'probability': 'NEGLIGIBLE', 'blocked': False}]}, id='run-6773cb31-21e9-46e3-90be-26c9ca352e29-0', usage_metadata={'input_tokens': 12, 'output_tokens': 102, 'total_tokens': 114, 'input_token_details': {'cache_read': 0}})"
            ]
          },
          "metadata": {},
          "execution_count": 17
        }
      ]
    },
    {
      "cell_type": "code",
      "source": [
        "LANGCHAIN_API_KEY = userdata.get('memory-enabled-agent')  # LangSmith API key\n",
        "\n",
        "# Configure environment variables for LangChain and LangSmith\n",
        "os.environ[\"LANGCHAIN_TRACING_V2\"] = \"true\"  # Enable LangSmith tracing\n",
        "os.environ[\"LANGCHAIN_PROJECT\"] = \"memory-enabled-agent\"  # Set LangSmith project name\n",
        "os.environ[\"LANGCHAIN_API_KEY\"] = LANGCHAIN_API_KEY  # Set LangSmith API key\n"
      ],
      "metadata": {
        "id": "cPKHCz016LDy"
      },
      "execution_count": 18,
      "outputs": []
    },
    {
      "cell_type": "code",
      "source": [
        "import os\n",
        "from google.colab import userdata\n",
        "\n",
        "# ... (other imports)\n",
        "\n",
        "# Get the Tavily API key\n",
        "tavily_api_key = userdata.get(\"Tavily_Api_Key\")\n",
        "\n",
        "# Set the environment variable with the actual API key value\n",
        "os.environ[\"TAVILY_API_KEY\"] = tavily_api_key  # Use correct environment variable name\n",
        "\n",
        "# ... (other code)\n",
        "\n",
        "from langchain_community.tools.tavily_search import TavilySearchResults\n",
        "\n",
        "# Initialize the tool with the API key\n",
        "# Using the environment variable, no need to pass it directly\n",
        "tool = TavilySearchResults(max_results=2)\n",
        "# Alternatively, pass directly: tool = TavilySearchResults(tavily_api_key=tavily_api_key, max_results=2)\n",
        "\n",
        "tools = [tool]\n",
        "tool.invoke(\"What's a 'node' in LangGraph?\")"
      ],
      "metadata": {
        "colab": {
          "base_uri": "https://localhost:8080/"
        },
        "id": "5VWzsllOIAMU",
        "outputId": "7ee273f9-59c2-4f80-fd9c-408900fe7d63"
      },
      "execution_count": 19,
      "outputs": [
        {
          "output_type": "execute_result",
          "data": {
            "text/plain": [
              "[{'url': 'https://medium.com/@cplog/introduction-to-langgraph-a-beginners-guide-14f9be027141',\n",
              "  'content': 'Nodes: Nodes are the building blocks of your LangGraph. Each node represents a function or a computation step. You define nodes to perform specific tasks, such as processing input, making'},\n",
              " {'url': 'https://www.datacamp.com/tutorial/langgraph-tutorial',\n",
              "  'content': \"In LangGraph, each node represents an LLM agent, and the edges are the communication channels between these agents. This structure allows for clear and manageable workflows, where each agent performs specific tasks and passes information to other agents as needed. State management. One of LangGraph's standout features is its automatic state\"}]"
            ]
          },
          "metadata": {},
          "execution_count": 19
        }
      ]
    },
    {
      "cell_type": "code",
      "source": [
        "def calculate_compensation(delay_hours: float, ticket_cost: float, inconvenience_level: str) -> str:\n",
        "    \"\"\"\n",
        "    Calculates the compensation amount for travel delays.\n",
        "\n",
        "    Args:\n",
        "        delay_hours (float): The number of hours the travel was delayed.\n",
        "        ticket_cost (float): The cost of the ticket in USD.\n",
        "        inconvenience_level (str): The level of inconvenience caused ('low', 'medium', 'high').\n",
        "\n",
        "    Returns:\n",
        "        str: A string with the calculated compensation amount.\n",
        "    \"\"\"\n",
        "    base_compensation = 0.0\n",
        "\n",
        "    # Calculate base compensation based on delay hours\n",
        "    if 0 < delay_hours <= 2:\n",
        "        base_compensation = ticket_cost * 0.25\n",
        "    elif 2 < delay_hours <= 5:\n",
        "        base_compensation = ticket_cost * 0.5\n",
        "    elif delay_hours > 5:\n",
        "        base_compensation = ticket_cost * 0.75\n",
        "\n",
        "    # Adjust compensation based on inconvenience level\n",
        "    if inconvenience_level.lower() == \"high\":\n",
        "        base_compensation += 100  # Additional for high inconvenience\n",
        "    elif inconvenience_level.lower() == \"medium\":\n",
        "        base_compensation += 50  # Additional for medium inconvenience\n",
        "\n",
        "    # Ensure compensation is fair and within ticket cost\n",
        "    if base_compensation > ticket_cost:\n",
        "        base_compensation = ticket_cost\n",
        "\n",
        "    return f\"The calculated compensation is ${base_compensation:.2f}.\"\n",
        "\n",
        "\n",
        "def check_refund_eligibility(ticket_cost: float, cancellation_reason: str) -> str:\n",
        "    \"\"\"\n",
        "    Determines if a customer is eligible for a refund based on the cancellation reason.\n",
        "\n",
        "    Args:\n",
        "        ticket_cost (float): The cost of the ticket in USD.\n",
        "        cancellation_reason (str): The reason for the cancellation (e.g., 'medical emergency', 'flight cancellation').\n",
        "\n",
        "    Returns:\n",
        "        str: A string indicating whether the customer is eligible for a refund.\n",
        "    \"\"\"\n",
        "    eligible_reasons = [\"medical emergency\", \"flight cancellation\", \"overbooking\"]\n",
        "    if cancellation_reason.lower() in eligible_reasons:\n",
        "        return f\"The customer is eligible for a full refund of ${ticket_cost:.2f}.\"\n",
        "    else:\n",
        "        return \"The customer is not eligible for a refund based on the given reason.\"\n",
        "\n",
        "\n",
        "def legal_case_evaluation(case_details: str) -> str:\n",
        "    \"\"\"\n",
        "    Evaluates the legal strength of a travel-related case based on provided details.\n",
        "\n",
        "    Args:\n",
        "        case_details (str): A description of the case including relevant facts and issues.\n",
        "\n",
        "    Returns:\n",
        "        str: A string with a legal recommendation or analysis of the case's strength.\n",
        "    \"\"\"\n",
        "    if \"delay\" in case_details.lower() and \"no compensation\" in case_details.lower():\n",
        "        return \"The case has a strong basis for legal escalation due to lack of compensation for delays.\"\n",
        "    elif \"lost baggage\" in case_details.lower():\n",
        "        return \"The case has moderate legal strength for compensation claims due to lost baggage.\"\n",
        "    elif \"overbooking\" in case_details.lower():\n",
        "        return \"The case is strong and should be pursued for compensation due to overbooking.\"\n",
        "    else:\n",
        "        return \"The case details are unclear. Recommend gathering more evidence.\"\n",
        "\n",
        "\n",
        "def calculate_airline_penalty(delay_hours: float, passenger_count: int) -> str:\n",
        "    \"\"\"\n",
        "    Calculates the penalty that should be imposed on an airline for delays.\n",
        "\n",
        "    Args:\n",
        "        delay_hours (float): The total hours of delay caused by the airline.\n",
        "        passenger_count (int): The total number of passengers affected.\n",
        "\n",
        "    Returns:\n",
        "        str: A string with the calculated penalty amount.\n",
        "    \"\"\"\n",
        "    penalty_per_hour = 50  # Base penalty per passenger per hour of delay\n",
        "    total_penalty = delay_hours * passenger_count * penalty_per_hour\n",
        "\n",
        "    return f\"The airline should be fined a total of ${total_penalty:.2f} for the delay.\"\n",
        "\n",
        "\n",
        "# List of tools for LangGraph integration\n",
        "tools = [\n",
        "    calculate_compensation,\n",
        "    check_refund_eligibility,\n",
        "    legal_case_evaluation,\n",
        "    calculate_airline_penalty,\n",
        "]\n",
        "\n",
        "# Binding tools to the LLM\n",
        "llm_with_tools = llm.bind_tools(tools)\n"
      ],
      "metadata": {
        "colab": {
          "base_uri": "https://localhost:8080/"
        },
        "id": "Ort4dIgyw42t",
        "outputId": "ecf199cb-b4e3-4560-9775-d5c07d7555db"
      },
      "execution_count": 21,
      "outputs": [
        {
          "output_type": "stream",
          "name": "stderr",
          "text": [
            "WARNING:langchain_google_genai._function_utils:Key 'title' is not supported in schema, ignoring\n",
            "WARNING:langchain_google_genai._function_utils:Key 'title' is not supported in schema, ignoring\n",
            "WARNING:langchain_google_genai._function_utils:Key 'title' is not supported in schema, ignoring\n",
            "WARNING:langchain_google_genai._function_utils:Key 'title' is not supported in schema, ignoring\n"
          ]
        }
      ]
    },
    {
      "cell_type": "code",
      "source": [
        "llm_with_tools"
      ],
      "metadata": {
        "colab": {
          "base_uri": "https://localhost:8080/"
        },
        "id": "A_gLG6IRx9Rj",
        "outputId": "618c1dd5-5ca0-49d6-df6c-04cfd5d75903"
      },
      "execution_count": 22,
      "outputs": [
        {
          "output_type": "execute_result",
          "data": {
            "text/plain": [
              "RunnableBinding(bound=ChatGoogleGenerativeAI(model='models/gemini-pro', google_api_key=SecretStr('**********'), client=<google.ai.generativelanguage_v1beta.services.generative_service.client.GenerativeServiceClient object at 0x7c2599735480>, default_metadata=()), kwargs={'tools': [{'function_declarations': [{'name': 'calculate_compensation', 'description': \"Calculates the compensation amount for travel delays.\\n\\nArgs:\\n    delay_hours (float): The number of hours the travel was delayed.\\n    ticket_cost (float): The cost of the ticket in USD.\\n    inconvenience_level (str): The level of inconvenience caused ('low', 'medium', 'high').\\n\\nReturns:\\n    str: A string with the calculated compensation amount.\", 'parameters': {'type_': 6, 'description': \"Calculates the compensation amount for travel delays.\\n\\nArgs:\\n    delay_hours (float): The number of hours the travel was delayed.\\n    ticket_cost (float): The cost of the ticket in USD.\\n    inconvenience_level (str): The level of inconvenience caused ('low', 'medium', 'high').\\n\\nReturns:\\n    str: A string with the calculated compensation amount.\", 'properties': {'inconvenience_level': {'type_': 1, 'format_': '', 'description': '', 'nullable': False, 'enum': [], 'max_items': '0', 'min_items': '0', 'properties': {}, 'required': []}, 'ticket_cost': {'type_': 2, 'format_': '', 'description': '', 'nullable': False, 'enum': [], 'max_items': '0', 'min_items': '0', 'properties': {}, 'required': []}, 'delay_hours': {'type_': 2, 'format_': '', 'description': '', 'nullable': False, 'enum': [], 'max_items': '0', 'min_items': '0', 'properties': {}, 'required': []}}, 'required': ['delay_hours', 'ticket_cost', 'inconvenience_level'], 'format_': '', 'nullable': False, 'enum': [], 'max_items': '0', 'min_items': '0'}}, {'name': 'check_refund_eligibility', 'description': \"Determines if a customer is eligible for a refund based on the cancellation reason.\\n\\nArgs:\\n    ticket_cost (float): The cost of the ticket in USD.\\n    cancellation_reason (str): The reason for the cancellation (e.g., 'medical emergency', 'flight cancellation').\\n\\nReturns:\\n    str: A string indicating whether the customer is eligible for a refund.\", 'parameters': {'type_': 6, 'description': \"Determines if a customer is eligible for a refund based on the cancellation reason.\\n\\nArgs:\\n    ticket_cost (float): The cost of the ticket in USD.\\n    cancellation_reason (str): The reason for the cancellation (e.g., 'medical emergency', 'flight cancellation').\\n\\nReturns:\\n    str: A string indicating whether the customer is eligible for a refund.\", 'properties': {'ticket_cost': {'type_': 2, 'format_': '', 'description': '', 'nullable': False, 'enum': [], 'max_items': '0', 'min_items': '0', 'properties': {}, 'required': []}, 'cancellation_reason': {'type_': 1, 'format_': '', 'description': '', 'nullable': False, 'enum': [], 'max_items': '0', 'min_items': '0', 'properties': {}, 'required': []}}, 'required': ['ticket_cost', 'cancellation_reason'], 'format_': '', 'nullable': False, 'enum': [], 'max_items': '0', 'min_items': '0'}}, {'name': 'legal_case_evaluation', 'description': \"Evaluates the legal strength of a travel-related case based on provided details.\\n\\nArgs:\\n    case_details (str): A description of the case including relevant facts and issues.\\n\\nReturns:\\n    str: A string with a legal recommendation or analysis of the case's strength.\", 'parameters': {'type_': 6, 'description': \"Evaluates the legal strength of a travel-related case based on provided details.\\n\\nArgs:\\n    case_details (str): A description of the case including relevant facts and issues.\\n\\nReturns:\\n    str: A string with a legal recommendation or analysis of the case's strength.\", 'properties': {'case_details': {'type_': 1, 'format_': '', 'description': '', 'nullable': False, 'enum': [], 'max_items': '0', 'min_items': '0', 'properties': {}, 'required': []}}, 'required': ['case_details'], 'format_': '', 'nullable': False, 'enum': [], 'max_items': '0', 'min_items': '0'}}, {'name': 'calculate_airline_penalty', 'description': 'Calculates the penalty that should be imposed on an airline for delays.\\n\\nArgs:\\n    delay_hours (float): The total hours of delay caused by the airline.\\n    passenger_count (int): The total number of passengers affected.\\n\\nReturns:\\n    str: A string with the calculated penalty amount.', 'parameters': {'type_': 6, 'description': 'Calculates the penalty that should be imposed on an airline for delays.\\n\\nArgs:\\n    delay_hours (float): The total hours of delay caused by the airline.\\n    passenger_count (int): The total number of passengers affected.\\n\\nReturns:\\n    str: A string with the calculated penalty amount.', 'properties': {'delay_hours': {'type_': 2, 'format_': '', 'description': '', 'nullable': False, 'enum': [], 'max_items': '0', 'min_items': '0', 'properties': {}, 'required': []}, 'passenger_count': {'type_': 3, 'format_': '', 'description': '', 'nullable': False, 'enum': [], 'max_items': '0', 'min_items': '0', 'properties': {}, 'required': []}}, 'required': ['delay_hours', 'passenger_count'], 'format_': '', 'nullable': False, 'enum': [], 'max_items': '0', 'min_items': '0'}}]}]}, config={}, config_factories=[])"
            ]
          },
          "metadata": {},
          "execution_count": 22
        }
      ]
    },
    {
      "cell_type": "code",
      "source": [
        "from langgraph.graph import START, END , StateGraph\n",
        "from langgraph.prebuilt import tools_condition, ToolNode\n",
        "from IPython.display import Image, display\n",
        "from langgraph.graph.state import CompiledStateGraph\n",
        "from langgraph.graph import  MessagesState\n",
        "from langgraph.checkpoint.memory import MemorySaver\n",
        "memory: MemorySaver = MemorySaver()\n",
        "# Define LLM function for the graph\n",
        "def llm(state: MessagesState) -> MessagesState:\n",
        "  # ek assistant bnaya jis ki state ma sub record moujod ha uski type msgstate ha jo state k under tmam msg ki state ha\n",
        "   return {\"messages\": [llm_with_tools.invoke( state[\"messages\"])]}\n"
      ],
      "metadata": {
        "id": "TB66mo0BzCO9"
      },
      "execution_count": 23,
      "outputs": []
    },
    {
      "cell_type": "code",
      "source": [
        "builder: StateGraph = StateGraph(MessagesState)\n",
        "builder.add_node(\"llm\", llm)\n",
        "builder.add_node(\"tools\", ToolNode(tools))\n",
        "\n",
        "builder.add_edge(START, \"llm\")\n",
        "builder.add_conditional_edges(\"llm\", tools_condition)\n",
        "builder.add_edge(\"tools\", \"llm\")\n",
        "\n",
        "# Compile the graph\n",
        "graph: CompiledStateGraph = builder.compile(checkpointer=memory)\n",
        "\n",
        "# Display graph\n",
        "display(Image(graph.get_graph(xray=True).draw_mermaid_png()))\n"
      ],
      "metadata": {
        "colab": {
          "base_uri": "https://localhost:8080/",
          "height": 266
        },
        "id": "IQDXkLIu6fT7",
        "outputId": "3e3ec066-14c1-4443-8d2e-e0df27f512fc"
      },
      "execution_count": 24,
      "outputs": [
        {
          "output_type": "display_data",
          "data": {
            "image/png": "[encoded data removed]",
            "text/plain": [
              "<IPython.core.display.Image object>"
            ]
          },
          "metadata": {}
        }
      ]
    },
    {
      "cell_type": "code",
      "source": [
        "from langchain.schema import HumanMessage\n",
        "\n",
        "# Configuration for the test\n",
        "config1 = {\"configurable\": {\"thread_id\": \"1\"}}"
      ],
      "metadata": {
        "id": "YtFuHe-W9M57"
      },
      "execution_count": 25,
      "outputs": []
    },
    {
      "cell_type": "code",
      "source": [
        "def stream_graph_updates(user_input: str):\n",
        "    # Configuration for the stream - provide necessary keys for checkpointer\n",
        "    config = {\"configurable\": {\"thread_id\": \"1\"}}\n",
        "    for event in graph.stream({\"messages\": [(\"user\", user_input)]}, config=config):\n",
        "        for value in event.values():\n",
        "            print(\"Assistant:\", value[\"messages\"][-1].content)\n",
        "\n",
        "while True:\n",
        "    try:\n",
        "        user_input = input(\"User: \")\n",
        "        if user_input.lower() in [\"quit\", \"exit\", \"q\"]:\n",
        "            print(\"Goodbye!\")\n",
        "            break\n",
        "\n",
        "        stream_graph_updates(user_input)\n",
        "    except:\n",
        "        # fallback if input() is not available\n",
        "        user_input = \"What do you know about LangGraph?\"\n",
        "        print(\"User: \" + user_input)\n",
        "        stream_graph_updates(user_input)\n",
        "        break"
      ],
      "metadata": {
        "colab": {
          "base_uri": "https://localhost:8080/"
        },
        "id": "CR7q-uw3KHns",
        "outputId": "efc72589-e8c4-4f77-9f60-69b4194bcf60"
      },
      "execution_count": 26,
      "outputs": [
        {
          "output_type": "stream",
          "name": "stdout",
          "text": [
            "User: assalamualykum\n",
            "Assistant: Wa alaikum as-salam. How can I help you today?\n",
            "User: im hafiz naveed uddin from karachi\n",
            "Assistant: It's a pleasure to meet you, Hafiz Naveed Uddin from Karachi. How can I assist you today?\n",
            "User: what is langgraph?\n",
            "Assistant: Langgraph is a company that provides language learning and translation services. It offers a variety of courses and resources to help people learn new languages, as well as translation services for businesses and individuals.\n",
            "User: do u know my name?\n",
            "Assistant: Yes, you mentioned your name is Hafiz Naveed Uddin from Karachi. Is there anything else I can help you with today?\n",
            "User: ok thanks\n",
            "Assistant: You're welcome. Is there anything else I can help you with today?\n",
            "User: q\n",
            "Goodbye!\n"
          ]
        }
      ]
    },
    {
      "cell_type": "code",
      "source": [
        "messages = graph.invoke({\"messages\": [HumanMessage(content=\"Calculate compensation for a delay of 3 hours with a ticket cost of $200 and high inconvenience.\")]},config1)\n",
        "for m in messages['messages']:\n",
        "    m.pretty_print()\n",
        "\n"
      ],
      "metadata": {
        "colab": {
          "base_uri": "https://localhost:8080/"
        },
        "id": "knTYh0bF6kWD",
        "outputId": "1e1fab66-afd1-440c-c107-64259276b2e8"
      },
      "execution_count": 27,
      "outputs": [
        {
          "output_type": "stream",
          "name": "stdout",
          "text": [
            "================================\u001b[1m Human Message \u001b[0m=================================\n",
            "\n",
            "assalamualykum\n",
            "==================================\u001b[1m Ai Message \u001b[0m==================================\n",
            "\n",
            "Wa alaikum as-salam. How can I help you today?\n",
            "================================\u001b[1m Human Message \u001b[0m=================================\n",
            "\n",
            "im hafiz naveed uddin from karachi\n",
            "==================================\u001b[1m Ai Message \u001b[0m==================================\n",
            "\n",
            "It's a pleasure to meet you, Hafiz Naveed Uddin from Karachi. How can I assist you today?\n",
            "================================\u001b[1m Human Message \u001b[0m=================================\n",
            "\n",
            "what is langgraph?\n",
            "==================================\u001b[1m Ai Message \u001b[0m==================================\n",
            "\n",
            "Langgraph is a company that provides language learning and translation services. It offers a variety of courses and resources to help people learn new languages, as well as translation services for businesses and individuals.\n",
            "================================\u001b[1m Human Message \u001b[0m=================================\n",
            "\n",
            "do u know my name?\n",
            "==================================\u001b[1m Ai Message \u001b[0m==================================\n",
            "\n",
            "Yes, you mentioned your name is Hafiz Naveed Uddin from Karachi. Is there anything else I can help you with today?\n",
            "================================\u001b[1m Human Message \u001b[0m=================================\n",
            "\n",
            "ok thanks\n",
            "==================================\u001b[1m Ai Message \u001b[0m==================================\n",
            "\n",
            "You're welcome. Is there anything else I can help you with today?\n",
            "================================\u001b[1m Human Message \u001b[0m=================================\n",
            "\n",
            "Calculate compensation for a delay of 3 hours with a ticket cost of $200 and high inconvenience.\n",
            "==================================\u001b[1m Ai Message \u001b[0m==================================\n",
            "Tool Calls:\n",
            "  calculate_compensation (a3e68a66-daae-4a61-8830-cd8fa3def991)\n",
            " Call ID: a3e68a66-daae-4a61-8830-cd8fa3def991\n",
            "  Args:\n",
            "    inconvenience_level: high\n",
            "    ticket_cost: 200.0\n",
            "    delay_hours: 3.0\n",
            "=================================\u001b[1m Tool Message \u001b[0m=================================\n",
            "Name: calculate_compensation\n",
            "\n",
            "The calculated compensation is $200.00.\n",
            "==================================\u001b[1m Ai Message \u001b[0m==================================\n",
            "\n",
            "The calculated compensation is $200.00.\n"
          ]
        }
      ]
    }
  ]
}