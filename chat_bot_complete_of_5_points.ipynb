{
  "nbformat": 4,
  "nbformat_minor": 0,
  "metadata": {
    "colab": {
      "provenance": [],
      "authorship_tag": "ABX9TyOR7BeQRV4pR8DaY9mUpkYg",
      "include_colab_link": true
    },
    "kernelspec": {
      "name": "python3",
      "display_name": "Python 3"
    },
    "language_info": {
      "name": "python"
    }
  },
  "cells": [
    {
      "cell_type": "markdown",
      "metadata": {
        "id": "view-in-github",
        "colab_type": "text"
      },
      "source": [
        "<a href=\"https://colab.research.google.com/github/NAVEED261/MY-AI-ASSISTANT/blob/main/chat_bot_complete_of_5_points.ipynb\" target=\"_parent\"><img src=\"https://colab.research.google.com/assets/colab-badge.svg\" alt=\"Open In Colab\"/></a>"
      ]
    },
    {
      "cell_type": "code",
      "execution_count": 54,
      "metadata": {
        "id": "q8BgsdNchi3F"
      },
      "outputs": [],
      "source": [
        "%%capture --no-stderr\n",
        "!pip install --upgrade langchain langchain_google_genai langgraph tavily-python langchain_community langchain_core"
      ]
    },
    {
      "cell_type": "code",
      "source": [
        "import os\n",
        "from google.colab import userdata\n",
        "Gemnai_api_key = userdata.get('GOOGLE_API_KEY')\n",
        "tavily_api_key = userdata.get(\"Tavily_Api_Key\")\n",
        "os.environ[\"Tavily_Api_Key\"] = \"Tavily_Api_Key\"\n",
        "\n",
        "from langchain_google_genai import ChatGoogleGenerativeAI\n",
        "llm: ChatGoogleGenerativeAI = ChatGoogleGenerativeAI (\n",
        "    model = \"gemini-pro\",  # Changed the model name to a valid model identifier\n",
        "    api_key = Gemnai_api_key\n",
        ")\n",
        "llm.invoke(\"i am hafiz naveed uddin from karachi\")"
      ],
      "metadata": {
        "colab": {
          "base_uri": "https://localhost:8080/"
        },
        "id": "EiNQDz5uh2F9",
        "outputId": "e6b820e0-24c7-4d3d-f5e5-92a61c71d312"
      },
      "execution_count": 79,
      "outputs": [
        {
          "output_type": "execute_result",
          "data": {
            "text/plain": [
              "AIMessage(content='Hello Hafiz Naveed Uddin from Karachi! My name is Gemini. I am a multimodal AI model, developed by Google. I am not a person, but I am here to help you with your writing tasks.\\n\\nIf you have any questions or need help with something, please let me know. I am here to assist you in any way that I can.\\n\\nBy the way, Karachi is a beautiful city! I have always wanted to visit Pakistan. I hope to have the opportunity to do so someday. In the meantime, I am happy to help you with your writing tasks from afar.', additional_kwargs={}, response_metadata={'prompt_feedback': {'block_reason': 0, 'safety_ratings': []}, 'finish_reason': 'STOP', 'safety_ratings': [{'category': 'HARM_CATEGORY_SEXUALLY_EXPLICIT', 'probability': 'NEGLIGIBLE', 'blocked': False}, {'category': 'HARM_CATEGORY_HATE_SPEECH', 'probability': 'NEGLIGIBLE', 'blocked': False}, {'category': 'HARM_CATEGORY_HARASSMENT', 'probability': 'NEGLIGIBLE', 'blocked': False}, {'category': 'HARM_CATEGORY_DANGEROUS_CONTENT', 'probability': 'NEGLIGIBLE', 'blocked': False}]}, id='run-350b7782-d654-4dea-bab1-afdce4b76b6c-0', usage_metadata={'input_tokens': 12, 'output_tokens': 121, 'total_tokens': 133, 'input_token_details': {'cache_read': 0}})"
            ]
          },
          "metadata": {},
          "execution_count": 79
        }
      ]
    },
    {
      "cell_type": "code",
      "source": [
        "LANGCHAIN_API_KEY = userdata.get('memory-enabled-agent')  # LangSmith API key\n",
        "\n",
        "# Configure environment variables for LangChain and LangSmith\n",
        "os.environ[\"LANGCHAIN_TRACING_V2\"] = \"true\"  # Enable LangSmith tracing\n",
        "os.environ[\"LANGCHAIN_PROJECT\"] = \"memory-enabled-agent\"  # Set LangSmith project name\n",
        "os.environ[\"LANGCHAIN_API_KEY\"] = LANGCHAIN_API_KEY  # Set LangSmith API key"
      ],
      "metadata": {
        "id": "XkPaZjDqiBIu"
      },
      "execution_count": 80,
      "outputs": []
    },
    {
      "cell_type": "code",
      "source": [
        "import os\n",
        "from google.colab import userdata\n",
        "\n",
        "# ... (other imports)\n",
        "\n",
        "# Get the Tavily API key\n",
        "tavily_api_key = userdata.get(\"Tavily_Api_Key\")\n",
        "\n",
        "# Set the environment variable with the actual API key value\n",
        "os.environ[\"TAVILY_API_KEY\"] = tavily_api_key  # Use correct environment variable name\n",
        "\n",
        "# ... (other code)\n",
        "\n",
        "from langchain_community.tools.tavily_search import TavilySearchResults\n",
        "\n",
        "# Initialize the tool with the API key\n",
        "# Using the environment variable, no need to pass it directly\n",
        "tool = TavilySearchResults(max_results=2)\n",
        "# Alternatively, pass directly: tool = TavilySearchResults(tavily_api_key=tavily_api_key, max_results=2)\n",
        "\n",
        "tools = [tool]\n",
        "tool.invoke(\"What's a 'node' in LangGraph?\")\n",
        "tool.invoke(\"What's a 'node' in LangGraph?\")\n"
      ],
      "metadata": {
        "colab": {
          "base_uri": "https://localhost:8080/"
        },
        "id": "f-lIUbVkiEb2",
        "outputId": "720424aa-aa7a-41ef-ac95-b0b3979771d2"
      },
      "execution_count": 81,
      "outputs": [
        {
          "output_type": "execute_result",
          "data": {
            "text/plain": [
              "[{'url': 'https://medium.com/@cplog/introduction-to-langgraph-a-beginners-guide-14f9be027141',\n",
              "  'content': 'Nodes: Nodes are the building blocks of your LangGraph. Each node represents a function or a computation step. You define nodes to perform specific tasks, such as processing input, making'},\n",
              " {'url': 'https://www.datacamp.com/tutorial/langgraph-tutorial',\n",
              "  'content': \"In LangGraph, each node represents an LLM agent, and the edges are the communication channels between these agents. This structure allows for clear and manageable workflows, where each agent performs specific tasks and passes information to other agents as needed. State management. One of LangGraph's standout features is its automatic state\"}]"
            ]
          },
          "metadata": {},
          "execution_count": 81
        }
      ]
    },
    {
      "cell_type": "code",
      "source": [
        "llm_with_tools=llm.bind_tools(tools)"
      ],
      "metadata": {
        "id": "0x0FOffHinuF"
      },
      "execution_count": 82,
      "outputs": []
    },
    {
      "cell_type": "code",
      "source": [
        "from langgraph.graph import START, END , StateGraph\n",
        "from langgraph.prebuilt import tools_condition, ToolNode\n",
        "from IPython.display import Image, display\n",
        "from langgraph.graph.state import CompiledStateGraph\n",
        "from typing import Annotated\n",
        "from langgraph.graph.message import add_messages\n",
        "from langgraph.checkpoint.memory import MemorySaver\n",
        "memory: MemorySaver = MemorySaver()\n",
        "# Define LLM function for the graph\n",
        "from typing_extensions import TypedDict\n",
        "class State(TypedDict):\n",
        "    messages: Annotated[list, add_messages]\n",
        "def llm(state: State) -> State:\n",
        "  # ek assistant bnaya jis ki state ma sub record moujod ha uski type msgstate ha jo state k under tmam msg ki state ha\n",
        "   return {\"messages\": [llm_with_tools.invoke( state[\"messages\"])]}\n"
      ],
      "metadata": {
        "id": "UUy0COqBilN9"
      },
      "execution_count": 83,
      "outputs": []
    },
    {
      "cell_type": "code",
      "source": [
        "builder: StateGraph = StateGraph(State)\n",
        "builder.add_node(\"llm\", llm)\n",
        "builder.add_node(\"tools\", ToolNode(tools))\n",
        "\n",
        "builder.add_edge(START, \"llm\")\n",
        "builder.add_conditional_edges(\"llm\", tools_condition)\n",
        "builder.add_edge(\"tools\", \"llm\")\n",
        "\n",
        "# Compile the graph\n",
        "graph: CompiledStateGraph = builder.compile(checkpointer=memory, interrupt_before=[\"tools\"])\n",
        "\n",
        "# Display graph\n",
        "display(Image(graph.get_graph(xray=True).draw_mermaid_png()))\n"
      ],
      "metadata": {
        "colab": {
          "base_uri": "https://localhost:8080/",
          "height": 308
        },
        "id": "WuMci99Ci0aM",
        "outputId": "8ae708ed-3878-4bb9-eb7c-d9553d8ac2ef"
      },
      "execution_count": 84,
      "outputs": [
        {
          "output_type": "display_data",
          "data": {
            "image/png": "[encoded data removed]",
            "text/plain": [
              "<IPython.core.display.Image object>"
            ]
          },
          "metadata": {}
        }
      ]
    },
    {
      "cell_type": "code",
      "source": [
        "from langchain.schema.messages import ToolMessage, HumanMessage, AIMessage  # Import from langchain.schema.messages"
      ],
      "metadata": {
        "id": "GugP0Y5ei37e"
      },
      "execution_count": 85,
      "outputs": []
    },
    {
      "cell_type": "code",
      "source": [
        "config1 = {\"configurable\": {\"thread_id\": \"1\"}} # Changed config1 to a dictionary with the correct structure\n",
        "message = graph.invoke({\"messages\":[HumanMessage(content = \"i m learning Generative ai\")]}, config1)\n",
        "for m in message[\"messages\"]:\n",
        "  m.pretty_print()"
      ],
      "metadata": {
        "colab": {
          "base_uri": "https://localhost:8080/"
        },
        "id": "zjUlDIGJ8xbr",
        "outputId": "abd02520-bbb6-4cd4-c00b-d84ee0b8d11a"
      },
      "execution_count": 86,
      "outputs": [
        {
          "output_type": "stream",
          "name": "stdout",
          "text": [
            "================================\u001b[1m Human Message \u001b[0m=================================\n",
            "\n",
            "i m learning Generative ai\n",
            "==================================\u001b[1m Ai Message \u001b[0m==================================\n",
            "Tool Calls:\n",
            "  tavilly_search_results_json (50aff5bd-2578-411f-8405-dccf5e82e298)\n",
            " Call ID: 50aff5bd-2578-411f-8405-dccf5e82e298\n",
            "  Args:\n",
            "    query: What is generative AI?\n"
          ]
        }
      ]
    },
    {
      "cell_type": "code",
      "source": [
        "snapshot = graph.get_state(config1)\n",
        "snapshot.next"
      ],
      "metadata": {
        "colab": {
          "base_uri": "https://localhost:8080/"
        },
        "id": "HtdQaP1D9rQ7",
        "outputId": "9a5cbac7-92fc-4d28-e8bc-f95821d9c780"
      },
      "execution_count": 87,
      "outputs": [
        {
          "output_type": "execute_result",
          "data": {
            "text/plain": [
              "('tools',)"
            ]
          },
          "metadata": {},
          "execution_count": 87
        }
      ]
    },
    {
      "cell_type": "code",
      "source": [
        "m = snapshot.values[\"messages\"][-1]\n",
        "print(m.pretty_print())"
      ],
      "metadata": {
        "colab": {
          "base_uri": "https://localhost:8080/"
        },
        "id": "QN4JDIjr9uJr",
        "outputId": "b126b634-ed4f-49b7-dd7b-c372f72c4181"
      },
      "execution_count": 88,
      "outputs": [
        {
          "output_type": "stream",
          "name": "stdout",
          "text": [
            "==================================\u001b[1m Ai Message \u001b[0m==================================\n",
            "Tool Calls:\n",
            "  tavilly_search_results_json (50aff5bd-2578-411f-8405-dccf5e82e298)\n",
            " Call ID: 50aff5bd-2578-411f-8405-dccf5e82e298\n",
            "  Args:\n",
            "    query: What is generative AI?\n",
            "None\n"
          ]
        }
      ]
    },
    {
      "cell_type": "code",
      "source": [
        "# update state manually\n",
        "answer = (\"we have 4 family members I, aqsa , fatima and umaima\")\n",
        "new_messages = [\n",
        "   ToolMessage(content=answer, tool_call_id=m.tool_calls[0][\"id\"]),\n",
        "    AIMessage(content = answer)\n",
        "]\n",
        "new_messages[-1].pretty_print()\n",
        "graph.update_state(config1,{\"messages\":new_messages})\n",
        "print(graph.get_state(config1).values[\"messages\"][-2:])\n"
      ],
      "metadata": {
        "colab": {
          "base_uri": "https://localhost:8080/"
        },
        "id": "R28rzTLW-UEi",
        "outputId": "9e2bf7f9-6e25-412b-fabd-02aa00ded815"
      },
      "execution_count": 89,
      "outputs": [
        {
          "output_type": "stream",
          "name": "stdout",
          "text": [
            "==================================\u001b[1m Ai Message \u001b[0m==================================\n",
            "\n",
            "we have 4 family members I, aqsa , fatima and umaima\n",
            "[ToolMessage(content='we have 4 family members I, aqsa , fatima and umaima', id='a3c96d80-faf2-4057-829e-8e3245568046', tool_call_id='50aff5bd-2578-411f-8405-dccf5e82e298'), AIMessage(content='we have 4 family members I, aqsa , fatima and umaima', additional_kwargs={}, response_metadata={}, id='d3d8a8a6-b714-4b88-bf22-a5de9b14c8a4')]\n"
          ]
        }
      ]
    },
    {
      "cell_type": "code",
      "source": [
        "for m in graph.get_state(config1).values[\"messages\"]:\n",
        "  m.pretty_print()"
      ],
      "metadata": {
        "colab": {
          "base_uri": "https://localhost:8080/"
        },
        "id": "YNM6IkHa-kgb",
        "outputId": "1299f50d-e00b-4698-d729-a7a34adc0ed8"
      },
      "execution_count": 69,
      "outputs": [
        {
          "output_type": "stream",
          "name": "stdout",
          "text": [
            "================================\u001b[1m Human Message \u001b[0m=================================\n",
            "\n",
            "i m learning Generative ai\n",
            "==================================\u001b[1m Ai Message \u001b[0m==================================\n",
            "Tool Calls:\n",
            "  tavily_search_results_json (93de03e0-8b1a-4d1d-8a63-e4e8239b31c5)\n",
            " Call ID: 93de03e0-8b1a-4d1d-8a63-e4e8239b31c5\n",
            "  Args:\n",
            "    query: What is generative ai?\n",
            "=================================\u001b[1m Tool Message \u001b[0m=================================\n",
            "\n",
            "we have 4 family members I, aqsa , fatima and umaima\n",
            "==================================\u001b[1m Ai Message \u001b[0m==================================\n",
            "\n",
            "we have 4 family members I, aqsa , fatima and umaima\n",
            "=================================\u001b[1m Tool Message \u001b[0m=================================\n",
            "\n",
            "we have 4 family members I, aqsa , fatima and umaima\n",
            "==================================\u001b[1m Ai Message \u001b[0m==================================\n",
            "\n",
            "we have 4 family members I, aqsa , fatima and umaima\n",
            "=================================\u001b[1m Tool Message \u001b[0m=================================\n",
            "\n",
            "we have 4 family members I, aqsa , fatima and umaima\n",
            "==================================\u001b[1m Ai Message \u001b[0m==================================\n",
            "\n",
            "we have 4 family members I, aqsa , fatima and umaima\n"
          ]
        }
      ]
    },
    {
      "cell_type": "code",
      "source": [
        "graph.update_state(\n",
        "    config1,\n",
        "    {\"messages\": [AIMessage(content=\"I'm an AI expert!\")]},\n",
        "    # Which node for this function to act as. It will automatically continue\n",
        "    # processing as if this node just ran.\n",
        "    as_node=\"llm\",\n",
        ")"
      ],
      "metadata": {
        "colab": {
          "base_uri": "https://localhost:8080/"
        },
        "id": "QIPKR4X7_ARb",
        "outputId": "3d0826d9-68fc-485d-d5d9-6e2c900d19bd"
      },
      "execution_count": 90,
      "outputs": [
        {
          "output_type": "execute_result",
          "data": {
            "text/plain": [
              "{'configurable': {'thread_id': '1',\n",
              "  'checkpoint_ns': '',\n",
              "  'checkpoint_id': '1efabb92-f24a-673c-8003-de56a864e856'}}"
            ]
          },
          "metadata": {},
          "execution_count": 90
        }
      ]
    },
    {
      "cell_type": "code",
      "source": [
        "for m in graph.get_state(config1).values[\"messages\"]:\n",
        "  m.pretty_print()\n"
      ],
      "metadata": {
        "colab": {
          "base_uri": "https://localhost:8080/"
        },
        "id": "Lqo1BLPh_kED",
        "outputId": "511db480-ad22-4aed-c5bf-29b1185fb1cc"
      },
      "execution_count": 92,
      "outputs": [
        {
          "output_type": "stream",
          "name": "stdout",
          "text": [
            "================================\u001b[1m Human Message \u001b[0m=================================\n",
            "\n",
            "i m learning Generative ai\n",
            "==================================\u001b[1m Ai Message \u001b[0m==================================\n",
            "Tool Calls:\n",
            "  tavilly_search_results_json (50aff5bd-2578-411f-8405-dccf5e82e298)\n",
            " Call ID: 50aff5bd-2578-411f-8405-dccf5e82e298\n",
            "  Args:\n",
            "    query: What is generative AI?\n",
            "=================================\u001b[1m Tool Message \u001b[0m=================================\n",
            "\n",
            "we have 4 family members I, aqsa , fatima and umaima\n",
            "==================================\u001b[1m Ai Message \u001b[0m==================================\n",
            "\n",
            "we have 4 family members I, aqsa , fatima and umaima\n",
            "==================================\u001b[1m Ai Message \u001b[0m==================================\n",
            "\n",
            "I'm an AI expert!\n"
          ]
        }
      ]
    },
    {
      "cell_type": "code",
      "source": [
        "snapshot = graph.get_state(config1)\n",
        "snapshot.next"
      ],
      "metadata": {
        "colab": {
          "base_uri": "https://localhost:8080/"
        },
        "id": "S20ugZIwANgD",
        "outputId": "b63fdae0-8f72-48d9-abbd-1ace9c196e44"
      },
      "execution_count": 93,
      "outputs": [
        {
          "output_type": "execute_result",
          "data": {
            "text/plain": [
              "()"
            ]
          },
          "metadata": {},
          "execution_count": 93
        }
      ]
    },
    {
      "cell_type": "code",
      "source": [
        "print(snapshot.values[\"messages\"][-3:])"
      ],
      "metadata": {
        "colab": {
          "base_uri": "https://localhost:8080/"
        },
        "id": "1d1dK1hIAScL",
        "outputId": "05d500f2-8ced-442e-ce51-c5d18356ee0a"
      },
      "execution_count": 94,
      "outputs": [
        {
          "output_type": "stream",
          "name": "stdout",
          "text": [
            "[ToolMessage(content='we have 4 family members I, aqsa , fatima and umaima', id='a3c96d80-faf2-4057-829e-8e3245568046', tool_call_id='50aff5bd-2578-411f-8405-dccf5e82e298'), AIMessage(content='we have 4 family members I, aqsa , fatima and umaima', additional_kwargs={}, response_metadata={}, id='d3d8a8a6-b714-4b88-bf22-a5de9b14c8a4'), AIMessage(content=\"I'm an AI expert!\", additional_kwargs={}, response_metadata={}, id='06b85dfa-59b7-4b37-8e25-021435005b9c')]\n"
          ]
        }
      ]
    },
    {
      "cell_type": "code",
      "source": [
        "config2 = {\"configurable\": {\"thread_id\": \"2\"}} # Changed config1 to a dictionary with the correct structure\n",
        "message = graph.invoke({\"messages\":[HumanMessage(content = \"i m learning Generative ai\")]}, config2)\n",
        "for m in message[\"messages\"]:\n",
        "  m.pretty_print()"
      ],
      "metadata": {
        "colab": {
          "base_uri": "https://localhost:8080/"
        },
        "id": "Ij1W_zpJD3p_",
        "outputId": "15804c30-6930-4bc5-f576-7fc525cf0571"
      },
      "execution_count": 103,
      "outputs": [
        {
          "output_type": "stream",
          "name": "stdout",
          "text": [
            "================================\u001b[1m Human Message \u001b[0m=================================\n",
            "\n",
            "i m learning Generative ai\n",
            "==================================\u001b[1m Ai Message \u001b[0m==================================\n",
            "Tool Calls:\n",
            "  tavily_search_results_json (d051c12e-cac3-4072-b3e4-de478372075e)\n",
            " Call ID: d051c12e-cac3-4072-b3e4-de478372075e\n",
            "  Args:\n",
            "    query: LangGraph human-in-the-loop workflow\n",
            "================================\u001b[1m Human Message \u001b[0m=================================\n",
            "\n",
            "i m learning Generative ai\n",
            "==================================\u001b[1m Ai Message \u001b[0m==================================\n",
            "Tool Calls:\n",
            "  tavily_search_results_json (7f15cd35-eb88-478d-8448-d3df51845bba)\n",
            " Call ID: 7f15cd35-eb88-478d-8448-d3df51845bba\n",
            "  Args:\n",
            "    query: LangGraph generative ai\n"
          ]
        }
      ]
    },
    {
      "cell_type": "code",
      "source": [
        "from langchain_core.messages import AIMessage\n",
        "\n",
        "snapshot = graph.get_state(config2)\n",
        "existing_message = snapshot.values[\"messages\"][-1]\n",
        "print(\"Original\")\n",
        "print(\"Message ID\", existing_message.id)\n",
        "print(existing_message.tool_calls[0])\n",
        "new_tool_call = existing_message.tool_calls[0].copy()\n",
        "new_tool_call[\"args\"][\"query\"] = \"LangGraph human-in-the-loop workflow\"\n",
        "new_message = AIMessage(\n",
        "    content=existing_message.content,\n",
        "    tool_calls=[new_tool_call],\n",
        "    # Important! The ID is how LangGraph knows to REPLACE the message in the state rather than APPEND this messages\n",
        "    id=existing_message.id,\n",
        ")\n",
        "\n",
        "print(\"Updated\")\n",
        "print(new_message.tool_calls[0])\n",
        "print(\"Message ID\", new_message.id)\n",
        "graph.update_state(config2, {\"messages\": [new_message]})\n",
        "\n",
        "print(\"\\n\\nTool calls\")\n",
        "graph.get_state(config2).values[\"messages\"][-1].tool_calls\n",
        "# is ko completely update kya"
      ],
      "metadata": {
        "colab": {
          "base_uri": "https://localhost:8080/"
        },
        "id": "vSjpgeH8EOsz",
        "outputId": "40654c5c-c369-404c-9693-a1d541f18be0"
      },
      "execution_count": 107,
      "outputs": [
        {
          "output_type": "stream",
          "name": "stdout",
          "text": [
            "Original\n",
            "Message ID run-f88b8654-f4f3-4f56-95ba-be4051f1a225-0\n",
            "{'name': 'tavily_search_results_json', 'args': {'query': 'LangGraph generative ai'}, 'id': '7f15cd35-eb88-478d-8448-d3df51845bba', 'type': 'tool_call'}\n",
            "Updated\n",
            "{'name': 'tavily_search_results_json', 'args': {'query': 'LangGraph human-in-the-loop workflow'}, 'id': '7f15cd35-eb88-478d-8448-d3df51845bba', 'type': 'tool_call'}\n",
            "Message ID run-f88b8654-f4f3-4f56-95ba-be4051f1a225-0\n",
            "\n",
            "\n",
            "Tool calls\n"
          ]
        },
        {
          "output_type": "execute_result",
          "data": {
            "text/plain": [
              "[{'name': 'tavily_search_results_json',\n",
              "  'args': {'query': 'LangGraph human-in-the-loop workflow'},\n",
              "  'id': '7f15cd35-eb88-478d-8448-d3df51845bba',\n",
              "  'type': 'tool_call'}]"
            ]
          },
          "metadata": {},
          "execution_count": 107
        }
      ]
    },
    {
      "cell_type": "code",
      "source": [
        "events = graph.stream(None, config2, stream_mode=\"values\")\n",
        "for event in events:\n",
        "    if \"messages\" in event:\n",
        "        event[\"messages\"][-1].pretty_print()\n",
        "        # status chk kya update k bad ka\n",
        ""
      ],
      "metadata": {
        "colab": {
          "base_uri": "https://localhost:8080/"
        },
        "id": "jbiX3MNmFa9k",
        "outputId": "2d0983ca-976a-4ec7-804b-439d3b921dec"
      },
      "execution_count": 109,
      "outputs": [
        {
          "output_type": "stream",
          "name": "stdout",
          "text": [
            "==================================\u001b[1m Ai Message \u001b[0m==================================\n",
            "Tool Calls:\n",
            "  tavily_search_results_json (7f15cd35-eb88-478d-8448-d3df51845bba)\n",
            " Call ID: 7f15cd35-eb88-478d-8448-d3df51845bba\n",
            "  Args:\n",
            "    query: LangGraph human-in-the-loop workflow\n",
            "=================================\u001b[1m Tool Message \u001b[0m=================================\n",
            "Name: tavily_search_results_json\n",
            "\n",
            "[{\"url\": \"https://m.youtube.com/watch?v=9BPCV5TYPmg\", \"content\": \"In this video, I'll show you how to handle persistence with LangGraph, enabling a unique Human-in-the-Loop workflow. This approach allows a human to grant an\"}, {\"url\": \"https://medium.com/@harishreddykondapalli/building-a-human-in-the-loop-movie-recommendation-system-with-langgraph-44541f151e80\", \"content\": \"Building a Human-in-the-Loop Movie Recommendation System with LangGraph | by Harish Kondapalli | Nov, 2024 | Medium In this post, I'll walk you through using LangGraph to create a movie recommendation system that allows users to refine their preferences in real-time. Each agent performs a specific function in the recommendation process, allowing the system to ask users for input, filter movie suggestions based on genre, and provide tailored recommendations. LangGraph provides a robust, flexible framework for building human-in-the-loop recommendation systems that adapt to user input. Whether for movie recommendations or other interactive applications, LangGraph’s multi-agent, graph-based design enables developers to create personalized, scalable solutions that respond in real-time to individual preferences.\"}]\n",
            "==================================\u001b[1m Ai Message \u001b[0m==================================\n",
            "\n",
            "I found some information about LangGraph human-in-the-loop workflow. Here is a video that shows you how to handle persistence with LangGraph, enabling a unique Human-in-the-Loop workflow: https://m.youtube.com/watch?v=9BPCV5TYPmg. Additionally, this article provides a walkthrough of using LangGraph to create a movie recommendation system that allows users to refine their preferences in real-time: https://medium.com/@harishreddykondapalli/building-a-human-in-the-loop-movie-recommendation-system-with-langgraph-44541f151e80.\n"
          ]
        }
      ]
    },
    {
      "cell_type": "code",
      "source": [
        "events = graph.stream(\n",
        "    {\n",
        "        \"messages\": (\n",
        "            \"user\",\n",
        "            \"Remember what I'm learning about?\",\n",
        "        )\n",
        "    },\n",
        "    config2,\n",
        "    stream_mode=\"values\",\n",
        ")\n",
        "for event in events:\n",
        "    if \"messages\" in event:\n",
        "        event[\"messages\"][-1].pretty_print()\n",
        "\n",
        "        # remember kerwana k lya dobara yhi input lya asa a question"
      ],
      "metadata": {
        "colab": {
          "base_uri": "https://localhost:8080/"
        },
        "id": "ue1DvWsMF1D9",
        "outputId": "a0b24b8f-d67f-40db-ee84-0738d49250e3"
      },
      "execution_count": 112,
      "outputs": [
        {
          "output_type": "stream",
          "name": "stdout",
          "text": [
            "================================\u001b[1m Human Message \u001b[0m=================================\n",
            "\n",
            "Remember what I'm learning about?\n",
            "==================================\u001b[1m Ai Message \u001b[0m==================================\n",
            "\n",
            "You are learning about Generative AI.\n"
          ]
        }
      ]
    }
  ]
}