{
  "nbformat": 4,
  "nbformat_minor": 0,
  "metadata": {
    "colab": {
      "provenance": [],
      "authorship_tag": "ABX9TyOq0FZYuJJu8GDvtgYzdbFm",
      "include_colab_link": true
    },
    "kernelspec": {
      "name": "python3",
      "display_name": "Python 3"
    },
    "language_info": {
      "name": "python"
    }
  },
  "cells": [
    {
      "cell_type": "markdown",
      "metadata": {
        "id": "view-in-github",
        "colab_type": "text"
      },
      "source": [
        "<a href=\"https://colab.research.google.com/github/NAVEED261/MY-AI-ASSISTANT/blob/main/filter_msg.ipynb\" target=\"_parent\"><img src=\"https://colab.research.google.com/assets/colab-badge.svg\" alt=\"Open In Colab\"/></a>"
      ]
    },
    {
      "cell_type": "code",
      "execution_count": 1,
      "metadata": {
        "id": "UIEAQNMW8uFK"
      },
      "outputs": [],
      "source": [
        "%%capture --no-stderr\n",
        "%pip install --quiet -U langchain_core langgraph langchain_google_genai"
      ]
    },
    {
      "cell_type": "code",
      "source": [
        "from google.colab import userdata\n",
        "import os\n",
        "GOOGLE_API_KEY = userdata.get('GOOGLE_API_KEY')\n",
        "from google.colab import userdata\n",
        "langchainY = userdata.get('langchain')\n",
        "os.environ[\"LANGCHAIN_TRACING_V2\"] = \"true\"\n",
        "os.environ[\"LANGCHAIN_PROJECT\"] = \"langchai\""
      ],
      "metadata": {
        "id": "Xixb3-wX81Y2"
      },
      "execution_count": 14,
      "outputs": []
    },
    {
      "cell_type": "markdown",
      "source": [
        "# Filtering aur Trimming Messages\n",
        "# Review\n",
        "Ab hum kuch cheezon ko gehri tarah samajh gaye hain:\n",
        "\n",
        "Graph state schema ko customize karna kaise hota hai.\n",
        "Custom state reducers ko kaise define kiya jata hai.\n",
        "Multiple graph state schemas kaise istemal hote hain.\n",
        "# ***Goals***\n",
        "Ab hum in concepts ko LangGraph models ke saath istemal karna shuru kar sakte hain!\n",
        "\n",
        "Agle kuch sessions mein, hum ek long-term memory wala chatbot banayenge.\n",
        "\n",
        "Kyunkay hamara chatbot messages ka istemal karega, pehle hum graph state mein messages ke saath kaam karne ke advanced tareeqon par baat karte hain.\n",
        "\n",
        "\n",
        "\n",
        "\n",
        "\n",
        "\n"
      ],
      "metadata": {
        "id": "2YXXVcr-La4e"
      }
    },
    {
      "cell_type": "code",
      "source": [
        "from langchain_google_genai import ChatGoogleGenerativeAI\n",
        "llm = ChatGoogleGenerativeAI(\n",
        "    model=\"gemini-1.5-flash\",\n",
        "    google_api_key=GOOGLE_API_KEY # Changed to use the variable instead of the string.\n",
        ")"
      ],
      "metadata": {
        "id": "dazUcsJK-CWt"
      },
      "execution_count": 15,
      "outputs": []
    },
    {
      "cell_type": "code",
      "source": [
        "llm.invoke(\"assalamualykum\")"
      ],
      "metadata": {
        "colab": {
          "base_uri": "https://localhost:8080/"
        },
        "id": "GnB8sYbh9wPv",
        "outputId": "3a223b39-3645-49ad-fe8d-8d1a30b18f6c"
      },
      "execution_count": 16,
      "outputs": [
        {
          "output_type": "stream",
          "name": "stderr",
          "text": [
            "WARNING:langsmith.client:Failed to multipart ingest runs: langsmith.utils.LangSmithAuthError: Authentication failed for https://api.smith.langchain.com/runs/multipart. HTTPError('401 Client Error: Unauthorized for url: https://api.smith.langchain.com/runs/multipart', '{\"detail\":\"Invalid token\"}')trace=f3574e5f-6cf2-4dd9-bb71-823f32e5f6e7,id=f3574e5f-6cf2-4dd9-bb71-823f32e5f6e7\n"
          ]
        },
        {
          "output_type": "execute_result",
          "data": {
            "text/plain": [
              "AIMessage(content='Wa alaikum assalam!\\n', additional_kwargs={}, response_metadata={'prompt_feedback': {'block_reason': 0, 'safety_ratings': []}, 'finish_reason': 'STOP', 'safety_ratings': []}, id='run-f3574e5f-6cf2-4dd9-bb71-823f32e5f6e7-0', usage_metadata={'input_tokens': 6, 'output_tokens': 7, 'total_tokens': 13, 'input_token_details': {'cache_read': 0}})"
            ]
          },
          "metadata": {},
          "execution_count": 16
        },
        {
          "output_type": "stream",
          "name": "stderr",
          "text": [
            "WARNING:langsmith.client:Failed to multipart ingest runs: langsmith.utils.LangSmithAuthError: Authentication failed for https://api.smith.langchain.com/runs/multipart. HTTPError('401 Client Error: Unauthorized for url: https://api.smith.langchain.com/runs/multipart', '{\"detail\":\"Invalid token\"}')trace=f3574e5f-6cf2-4dd9-bb71-823f32e5f6e7,id=f3574e5f-6cf2-4dd9-bb71-823f32e5f6e7\n"
          ]
        }
      ]
    },
    {
      "cell_type": "code",
      "source": [
        "from IPython.display import Image, display\n",
        "from langgraph.graph import MessagesState\n",
        "from langgraph.graph import StateGraph, START, END\n",
        "from langgraph.graph.state import CompiledStateGraph\n"
      ],
      "metadata": {
        "id": "25OY0crq-miN"
      },
      "execution_count": 18,
      "outputs": []
    },
    {
      "cell_type": "markdown",
      "source": [
        "# ***Reducer***\n",
        "Messages ke saath kaam karte waqt ek practical challenge hoti hai long-running conversations ko manage karna.\n",
        "\n",
        "Long-running conversations ka nateeja high token usage aur latency ki surat mein nikalta hai agar hum dhyan na dein, kyunke hum model ko barhte huye messages ki list pass karte rehte hain.\n",
        "\n",
        "Is problem ko solve karne ke liye humare paas kuch tareeqe hain.\n",
        "\n",
        "Sabse pehle, woh trick yaad karein jo humne RemoveMessage aur add_messages reducer ke saath dekhi thi."
      ],
      "metadata": {
        "id": "1RP8ljNqLFZu"
      }
    },
    {
      "cell_type": "code",
      "source": [
        "from langchain_core.messages import RemoveMessage\n",
        "\n",
        "# Nodes\n",
        "def filter_messages(state: MessagesState) -> MessagesState:\n",
        "    # Delete all but the 2 most recent messages\n",
        "    delete_messages = [RemoveMessage(id=m.id) for m in state[\"messages\"][:-2]]\n",
        "    return {\"messages\": delete_messages}\n",
        "\n",
        "def chat_model_node(state: MessagesState) -> MessagesState:\n",
        "    return {\"messages\": [llm.invoke(state[\"messages\"])]}\n",
        "\n",
        "# Build graph\n",
        "builder: StateGraph = StateGraph(MessagesState)\n",
        "builder.add_node(\"filter\", filter_messages)\n",
        "builder.add_node(\"chat_model\", chat_model_node)\n",
        "builder.add_edge(START, \"filter\")\n",
        "builder.add_edge(\"filter\", \"chat_model\")\n",
        "builder.add_edge(\"chat_model\", END)\n",
        "graph: CompiledStateGraph = builder.compile()\n",
        "\n",
        "# View\n",
        "display(Image(graph.get_graph().draw_mermaid_png()))"
      ],
      "metadata": {
        "colab": {
          "base_uri": "https://localhost:8080/",
          "height": 350
        },
        "id": "XUZ4KvKo-iJM",
        "outputId": "8050bb08-c73f-41d8-8499-131e1f7ae050"
      },
      "execution_count": 50,
      "outputs": [
        {
          "output_type": "display_data",
          "data": {
            "image/png": "[encoded data removed]",
            "text/plain": [
              "<IPython.core.display.Image object>"
            ]
          },
          "metadata": {}
        }
      ]
    },
    {
      "cell_type": "code",
      "source": [
        "from langchain_core.messages import AIMessage, HumanMessage\n",
        "messages = [AIMessage(\"Hi how r u?.\", name=\"Bot\", id=\"1\")]\n",
        "messages.append(HumanMessage(\"im fine thank u and u .\", name=\"Lance\", id=\"2\"))\n",
        "messages.append(AIMessage(\"So you said you were researching ocean mammals?\", name=\"Bot\", id=\"3\"))\n",
        "messages.append(HumanMessage(\"Yes, I know about whales. But what others should I learn about?\", name=\"Lance\", id=\"4\"))\n",
        "\n",
        "# Invoke\n",
        "output = graph.invoke({'messages': messages})\n",
        "for m in output['messages']:\n",
        "    m.pretty_print()"
      ],
      "metadata": {
        "colab": {
          "base_uri": "https://localhost:8080/"
        },
        "id": "skzsdqF6-xs9",
        "outputId": "d4615460-f64e-42c7-c186-9aad4407ec35"
      },
      "execution_count": 51,
      "outputs": [
        {
          "output_type": "stream",
          "name": "stderr",
          "text": [
            "WARNING:langsmith.client:Failed to multipart ingest runs: langsmith.utils.LangSmithAuthError: Authentication failed for https://api.smith.langchain.com/runs/multipart. HTTPError('401 Client Error: Unauthorized for url: https://api.smith.langchain.com/runs/multipart', '{\"detail\":\"Invalid token\"}')trace=138dfe60-cc48-434a-8b05-1f6aaab17e9b,id=138dfe60-cc48-434a-8b05-1f6aaab17e9b; trace=138dfe60-cc48-434a-8b05-1f6aaab17e9b,id=9f14320f-7bc3-4f5f-8361-717d2b579482; trace=138dfe60-cc48-434a-8b05-1f6aaab17e9b,id=41eec4ec-a9f1-4599-a10f-511ea04c7a69; trace=138dfe60-cc48-434a-8b05-1f6aaab17e9b,id=8c85da67-cb18-4ca3-bb56-35c1621ef68d; trace=138dfe60-cc48-434a-8b05-1f6aaab17e9b,id=9afdfe0a-f5c3-4d61-8710-1c6d27371976; trace=138dfe60-cc48-434a-8b05-1f6aaab17e9b,id=b59cb3c6-d837-4722-802c-05fecee42ecc; trace=138dfe60-cc48-434a-8b05-1f6aaab17e9b,id=8fb090ce-0a2f-4441-996d-45a1f0f8a36e; trace=138dfe60-cc48-434a-8b05-1f6aaab17e9b,id=707a3cf0-c5eb-4133-843b-1439201230b2\n"
          ]
        },
        {
          "output_type": "stream",
          "name": "stdout",
          "text": [
            "==================================\u001b[1m Ai Message \u001b[0m==================================\n",
            "Name: Bot\n",
            "\n",
            "So you said you were researching ocean mammals?\n",
            "================================\u001b[1m Human Message \u001b[0m=================================\n",
            "Name: Lance\n",
            "\n",
            "Yes, I know about whales. But what others should I learn about?\n",
            "==================================\u001b[1m Ai Message \u001b[0m==================================\n",
            "\n",
            "That's great you're interested in ocean mammals!  Whales are a big group, but there's a whole fascinating world beyond them.  Here are some other groups of ocean mammals you should learn about, categorized for easier understanding:\n",
            "\n",
            "**1. Seals, Sea Lions, and Walruses (Pinnipeds):**\n",
            "\n",
            "* **Seals:**  Generally smaller, lack external ear flaps (pinnae), and have streamlined bodies for efficient swimming.  There are many species with diverse adaptations.  Learn about harbor seals, elephant seals, leopard seals, etc.  Consider their different hunting strategies and social behaviors.\n",
            "* **Sea Lions:** Larger than most seals, possess external ear flaps, and have more prominent foreflippers used for \"walking\" on land.  California sea lions and Steller sea lions are good examples.\n",
            "* **Walruses:**  Easily recognizable by their tusks and thick blubber.  They're adapted to Arctic environments and feed on benthic invertebrates.\n",
            "\n",
            "**2. Sirenians (Manatees and Dugongs):**\n",
            "\n",
            "* **Manatees:**  Gentle giants found in warmer, coastal waters.  They're herbivores and are often called \"sea cows.\"  Learn about their slow movements, social behavior, and conservation challenges.\n",
            "* **Dugongs:**  Closely related to manatees, but found in warmer waters of the Indian and Pacific Oceans.  They also graze on seagrass.\n",
            "\n",
            "**3. Polar Bears:**\n",
            "\n",
            "* While technically terrestrial mammals, their lives are intimately tied to the ocean. They rely on sea ice for hunting seals, their primary food source.  Learning about their adaptation to Arctic conditions and the impact of climate change on their survival is crucial.\n",
            "\n",
            "**4. Sea Otters:**\n",
            "\n",
            "* The smallest marine mammal in North America, known for their dense fur, use of tools (rocks to crack open shellfish), and high metabolism.  They are keystone species in kelp forests.\n",
            "\n",
            "When researching, consider these aspects for each group:\n",
            "\n",
            "* **Physical characteristics:**  Adaptations for swimming, diving, thermoregulation, etc.\n",
            "* **Diet and feeding strategies:**  What do they eat and how do they hunt?\n",
            "* **Social behavior:**  Do they live in groups? How do they communicate?\n",
            "* **Reproduction and life cycle:**  How do they reproduce and raise their young?\n",
            "* **Conservation status:**  What threats do they face, and what conservation efforts are underway?\n",
            "* **Geographic distribution:** Where in the world are they found?\n",
            "\n",
            "By focusing on these aspects, you'll gain a much deeper understanding of the incredible diversity of ocean mammals beyond whales.  Enjoy your research!\n"
          ]
        },
        {
          "output_type": "stream",
          "name": "stderr",
          "text": [
            "WARNING:langsmith.client:Failed to multipart ingest runs: langsmith.utils.LangSmithAuthError: Authentication failed for https://api.smith.langchain.com/runs/multipart. HTTPError('401 Client Error: Unauthorized for url: https://api.smith.langchain.com/runs/multipart', '{\"detail\":\"Invalid token\"}')trace=138dfe60-cc48-434a-8b05-1f6aaab17e9b,id=61363a59-4163-4b5a-9851-3546174cd701; trace=138dfe60-cc48-434a-8b05-1f6aaab17e9b,id=138dfe60-cc48-434a-8b05-1f6aaab17e9b; trace=138dfe60-cc48-434a-8b05-1f6aaab17e9b,id=8fb090ce-0a2f-4441-996d-45a1f0f8a36e; trace=138dfe60-cc48-434a-8b05-1f6aaab17e9b,id=707a3cf0-c5eb-4133-843b-1439201230b2\n"
          ]
        }
      ]
    },
    {
      "cell_type": "code",
      "source": [
        "async for m in graph.astream_events({'messages': messages}, version=\"v2\"): # The version argument is now correctly passed as a keyword argument.\n",
        "      print(m)\n",
        "      print(\"\\n--------------\\n\")"
      ],
      "metadata": {
        "colab": {
          "base_uri": "https://localhost:8080/"
        },
        "id": "ttoGEjUVB_lO",
        "outputId": "1ab85bae-b95a-4ce0-b16c-bd833a6bdde7"
      },
      "execution_count": 23,
      "outputs": [
        {
          "output_type": "stream",
          "name": "stderr",
          "text": [
            "WARNING:langsmith.client:Failed to multipart ingest runs: langsmith.utils.LangSmithAuthError: Authentication failed for https://api.smith.langchain.com/runs/multipart. HTTPError('401 Client Error: Unauthorized for url: https://api.smith.langchain.com/runs/multipart', '{\"detail\":\"Invalid token\"}')trace=95e5f8c3-e98d-4ec4-b67e-e2b3654a4328,id=95e5f8c3-e98d-4ec4-b67e-e2b3654a4328; trace=95e5f8c3-e98d-4ec4-b67e-e2b3654a4328,id=b0c30fad-4f25-429c-88c3-0c1c11a2158e; trace=95e5f8c3-e98d-4ec4-b67e-e2b3654a4328,id=0ddeea52-316a-41de-9ec7-c007f9737f87; trace=95e5f8c3-e98d-4ec4-b67e-e2b3654a4328,id=ded89c2d-1a14-49ee-8b30-ac6a0964e9ed; trace=95e5f8c3-e98d-4ec4-b67e-e2b3654a4328,id=5d991de1-5cb0-47ab-805a-735d81860cf0; trace=95e5f8c3-e98d-4ec4-b67e-e2b3654a4328,id=8582ef01-a84a-4ea7-bec2-6ffb6a2aa37b; trace=95e5f8c3-e98d-4ec4-b67e-e2b3654a4328,id=e12d15f8-6dc2-450b-b26e-95d4009e138b; trace=49131cf3-a737-444d-bbf5-5a0900c2879b,id=49131cf3-a737-444d-bbf5-5a0900c2879b\n"
          ]
        },
        {
          "output_type": "stream",
          "name": "stdout",
          "text": [
            "{'event': 'on_chain_start', 'data': {'input': {'messages': [AIMessage(content='Hi how r u?.', additional_kwargs={}, response_metadata={}, name='Bot', id='1'), HumanMessage(content='im fine thank u and u .', additional_kwargs={}, response_metadata={}, name='Lance', id='2'), AIMessage(content='So you said you were researching ocean mammals?', additional_kwargs={}, response_metadata={}, name='Bot', id='3'), HumanMessage(content='Yes, I know about whales. But what others should I learn about?', additional_kwargs={}, response_metadata={}, name='Lance', id='4')]}}, 'name': 'LangGraph', 'tags': [], 'run_id': '95e5f8c3-e98d-4ec4-b67e-e2b3654a4328', 'metadata': {}, 'parent_ids': []}\n",
            "\n",
            "--------------\n",
            "\n",
            "{'event': 'on_chain_start', 'data': {'input': {'messages': [AIMessage(content='Hi how r u?.', additional_kwargs={}, response_metadata={}, name='Bot', id='1'), HumanMessage(content='im fine thank u and u .', additional_kwargs={}, response_metadata={}, name='Lance', id='2'), AIMessage(content='So you said you were researching ocean mammals?', additional_kwargs={}, response_metadata={}, name='Bot', id='3'), HumanMessage(content='Yes, I know about whales. But what others should I learn about?', additional_kwargs={}, response_metadata={}, name='Lance', id='4')]}}, 'name': '__start__', 'tags': ['graph:step:0', 'langsmith:hidden'], 'run_id': 'b0c30fad-4f25-429c-88c3-0c1c11a2158e', 'metadata': {'langgraph_step': 0, 'langgraph_node': '__start__', 'langgraph_triggers': ['__start__'], 'langgraph_path': ('__pregel_pull', '__start__'), 'langgraph_checkpoint_ns': '__start__:945ae388-2fa5-2c60-bf92-df92c5591647'}, 'parent_ids': ['95e5f8c3-e98d-4ec4-b67e-e2b3654a4328']}\n",
            "\n",
            "--------------\n",
            "\n",
            "{'event': 'on_chain_start', 'data': {'input': {'messages': [AIMessage(content='Hi how r u?.', additional_kwargs={}, response_metadata={}, name='Bot', id='1'), HumanMessage(content='im fine thank u and u .', additional_kwargs={}, response_metadata={}, name='Lance', id='2'), AIMessage(content='So you said you were researching ocean mammals?', additional_kwargs={}, response_metadata={}, name='Bot', id='3'), HumanMessage(content='Yes, I know about whales. But what others should I learn about?', additional_kwargs={}, response_metadata={}, name='Lance', id='4')]}}, 'name': '_write', 'tags': ['seq:step:1', 'langsmith:hidden', 'langsmith:hidden'], 'run_id': '0ddeea52-316a-41de-9ec7-c007f9737f87', 'metadata': {'langgraph_step': 0, 'langgraph_node': '__start__', 'langgraph_triggers': ['__start__'], 'langgraph_path': ('__pregel_pull', '__start__'), 'langgraph_checkpoint_ns': '__start__:945ae388-2fa5-2c60-bf92-df92c5591647'}, 'parent_ids': ['95e5f8c3-e98d-4ec4-b67e-e2b3654a4328', 'b0c30fad-4f25-429c-88c3-0c1c11a2158e']}\n",
            "\n",
            "--------------\n",
            "\n",
            "{'event': 'on_chain_end', 'data': {'output': {'messages': [AIMessage(content='Hi how r u?.', additional_kwargs={}, response_metadata={}, name='Bot', id='1'), HumanMessage(content='im fine thank u and u .', additional_kwargs={}, response_metadata={}, name='Lance', id='2'), AIMessage(content='So you said you were researching ocean mammals?', additional_kwargs={}, response_metadata={}, name='Bot', id='3'), HumanMessage(content='Yes, I know about whales. But what others should I learn about?', additional_kwargs={}, response_metadata={}, name='Lance', id='4')]}, 'input': {'messages': [AIMessage(content='Hi how r u?.', additional_kwargs={}, response_metadata={}, name='Bot', id='1'), HumanMessage(content='im fine thank u and u .', additional_kwargs={}, response_metadata={}, name='Lance', id='2'), AIMessage(content='So you said you were researching ocean mammals?', additional_kwargs={}, response_metadata={}, name='Bot', id='3'), HumanMessage(content='Yes, I know about whales. But what others should I learn about?', additional_kwargs={}, response_metadata={}, name='Lance', id='4')]}}, 'run_id': '0ddeea52-316a-41de-9ec7-c007f9737f87', 'name': '_write', 'tags': ['seq:step:1', 'langsmith:hidden', 'langsmith:hidden'], 'metadata': {'langgraph_step': 0, 'langgraph_node': '__start__', 'langgraph_triggers': ['__start__'], 'langgraph_path': ('__pregel_pull', '__start__'), 'langgraph_checkpoint_ns': '__start__:945ae388-2fa5-2c60-bf92-df92c5591647'}, 'parent_ids': ['95e5f8c3-e98d-4ec4-b67e-e2b3654a4328', 'b0c30fad-4f25-429c-88c3-0c1c11a2158e']}\n",
            "\n",
            "--------------\n",
            "\n",
            "{'event': 'on_chain_start', 'data': {'input': {'messages': [AIMessage(content='Hi how r u?.', additional_kwargs={}, response_metadata={}, name='Bot', id='1'), HumanMessage(content='im fine thank u and u .', additional_kwargs={}, response_metadata={}, name='Lance', id='2'), AIMessage(content='So you said you were researching ocean mammals?', additional_kwargs={}, response_metadata={}, name='Bot', id='3'), HumanMessage(content='Yes, I know about whales. But what others should I learn about?', additional_kwargs={}, response_metadata={}, name='Lance', id='4')]}}, 'name': '_write', 'tags': ['seq:step:3', 'langsmith:hidden', 'langsmith:hidden'], 'run_id': 'ded89c2d-1a14-49ee-8b30-ac6a0964e9ed', 'metadata': {'langgraph_step': 0, 'langgraph_node': '__start__', 'langgraph_triggers': ['__start__'], 'langgraph_path': ('__pregel_pull', '__start__'), 'langgraph_checkpoint_ns': '__start__:945ae388-2fa5-2c60-bf92-df92c5591647'}, 'parent_ids': ['95e5f8c3-e98d-4ec4-b67e-e2b3654a4328', 'b0c30fad-4f25-429c-88c3-0c1c11a2158e']}\n",
            "\n",
            "--------------\n",
            "\n",
            "{'event': 'on_chain_end', 'data': {'output': {'messages': [AIMessage(content='Hi how r u?.', additional_kwargs={}, response_metadata={}, name='Bot', id='1'), HumanMessage(content='im fine thank u and u .', additional_kwargs={}, response_metadata={}, name='Lance', id='2'), AIMessage(content='So you said you were researching ocean mammals?', additional_kwargs={}, response_metadata={}, name='Bot', id='3'), HumanMessage(content='Yes, I know about whales. But what others should I learn about?', additional_kwargs={}, response_metadata={}, name='Lance', id='4')]}, 'input': {'messages': [AIMessage(content='Hi how r u?.', additional_kwargs={}, response_metadata={}, name='Bot', id='1'), HumanMessage(content='im fine thank u and u .', additional_kwargs={}, response_metadata={}, name='Lance', id='2'), AIMessage(content='So you said you were researching ocean mammals?', additional_kwargs={}, response_metadata={}, name='Bot', id='3'), HumanMessage(content='Yes, I know about whales. But what others should I learn about?', additional_kwargs={}, response_metadata={}, name='Lance', id='4')]}}, 'run_id': 'ded89c2d-1a14-49ee-8b30-ac6a0964e9ed', 'name': '_write', 'tags': ['seq:step:3', 'langsmith:hidden', 'langsmith:hidden'], 'metadata': {'langgraph_step': 0, 'langgraph_node': '__start__', 'langgraph_triggers': ['__start__'], 'langgraph_path': ('__pregel_pull', '__start__'), 'langgraph_checkpoint_ns': '__start__:945ae388-2fa5-2c60-bf92-df92c5591647'}, 'parent_ids': ['95e5f8c3-e98d-4ec4-b67e-e2b3654a4328', 'b0c30fad-4f25-429c-88c3-0c1c11a2158e']}\n",
            "\n",
            "--------------\n",
            "\n",
            "{'event': 'on_chain_stream', 'run_id': 'b0c30fad-4f25-429c-88c3-0c1c11a2158e', 'name': '__start__', 'tags': ['graph:step:0', 'langsmith:hidden'], 'metadata': {'langgraph_step': 0, 'langgraph_node': '__start__', 'langgraph_triggers': ['__start__'], 'langgraph_path': ('__pregel_pull', '__start__'), 'langgraph_checkpoint_ns': '__start__:945ae388-2fa5-2c60-bf92-df92c5591647'}, 'data': {'chunk': {'messages': [AIMessage(content='Hi how r u?.', additional_kwargs={}, response_metadata={}, name='Bot', id='1'), HumanMessage(content='im fine thank u and u .', additional_kwargs={}, response_metadata={}, name='Lance', id='2'), AIMessage(content='So you said you were researching ocean mammals?', additional_kwargs={}, response_metadata={}, name='Bot', id='3'), HumanMessage(content='Yes, I know about whales. But what others should I learn about?', additional_kwargs={}, response_metadata={}, name='Lance', id='4')]}}, 'parent_ids': ['95e5f8c3-e98d-4ec4-b67e-e2b3654a4328']}\n",
            "\n",
            "--------------\n",
            "\n",
            "{'event': 'on_chain_end', 'data': {'output': {'messages': [AIMessage(content='Hi how r u?.', additional_kwargs={}, response_metadata={}, name='Bot', id='1'), HumanMessage(content='im fine thank u and u .', additional_kwargs={}, response_metadata={}, name='Lance', id='2'), AIMessage(content='So you said you were researching ocean mammals?', additional_kwargs={}, response_metadata={}, name='Bot', id='3'), HumanMessage(content='Yes, I know about whales. But what others should I learn about?', additional_kwargs={}, response_metadata={}, name='Lance', id='4')]}, 'input': {'messages': [AIMessage(content='Hi how r u?.', additional_kwargs={}, response_metadata={}, name='Bot', id='1'), HumanMessage(content='im fine thank u and u .', additional_kwargs={}, response_metadata={}, name='Lance', id='2'), AIMessage(content='So you said you were researching ocean mammals?', additional_kwargs={}, response_metadata={}, name='Bot', id='3'), HumanMessage(content='Yes, I know about whales. But what others should I learn about?', additional_kwargs={}, response_metadata={}, name='Lance', id='4')]}}, 'run_id': 'b0c30fad-4f25-429c-88c3-0c1c11a2158e', 'name': '__start__', 'tags': ['graph:step:0', 'langsmith:hidden'], 'metadata': {'langgraph_step': 0, 'langgraph_node': '__start__', 'langgraph_triggers': ['__start__'], 'langgraph_path': ('__pregel_pull', '__start__'), 'langgraph_checkpoint_ns': '__start__:945ae388-2fa5-2c60-bf92-df92c5591647'}, 'parent_ids': ['95e5f8c3-e98d-4ec4-b67e-e2b3654a4328']}\n",
            "\n",
            "--------------\n",
            "\n",
            "{'event': 'on_chain_start', 'data': {'input': {'messages': [AIMessage(content='Hi how r u?.', additional_kwargs={}, response_metadata={}, name='Bot', id='1'), HumanMessage(content='im fine thank u and u .', additional_kwargs={}, response_metadata={}, name='Lance', id='2'), AIMessage(content='So you said you were researching ocean mammals?', additional_kwargs={}, response_metadata={}, name='Bot', id='3'), HumanMessage(content='Yes, I know about whales. But what others should I learn about?', additional_kwargs={}, response_metadata={}, name='Lance', id='4')]}}, 'name': 'filter', 'tags': ['graph:step:1'], 'run_id': '5d991de1-5cb0-47ab-805a-735d81860cf0', 'metadata': {'langgraph_step': 1, 'langgraph_node': 'filter', 'langgraph_triggers': ['start:filter'], 'langgraph_path': ('__pregel_pull', 'filter'), 'langgraph_checkpoint_ns': 'filter:6d78bdbc-5c16-75f3-b15f-dbbc8a115afd'}, 'parent_ids': ['95e5f8c3-e98d-4ec4-b67e-e2b3654a4328']}\n",
            "\n",
            "--------------\n",
            "\n",
            "{'event': 'on_chain_start', 'data': {'input': {'messages': [RemoveMessage(content='', additional_kwargs={}, response_metadata={}, id='1'), RemoveMessage(content='', additional_kwargs={}, response_metadata={}, id='2')]}}, 'name': '_write', 'tags': ['seq:step:2', 'langsmith:hidden'], 'run_id': '8582ef01-a84a-4ea7-bec2-6ffb6a2aa37b', 'metadata': {'langgraph_step': 1, 'langgraph_node': 'filter', 'langgraph_triggers': ['start:filter'], 'langgraph_path': ('__pregel_pull', 'filter'), 'langgraph_checkpoint_ns': 'filter:6d78bdbc-5c16-75f3-b15f-dbbc8a115afd'}, 'parent_ids': ['95e5f8c3-e98d-4ec4-b67e-e2b3654a4328', '5d991de1-5cb0-47ab-805a-735d81860cf0']}\n",
            "\n",
            "--------------\n",
            "\n",
            "{'event': 'on_chain_end', 'data': {'output': {'messages': [RemoveMessage(content='', additional_kwargs={}, response_metadata={}, id='1'), RemoveMessage(content='', additional_kwargs={}, response_metadata={}, id='2')]}, 'input': {'messages': [RemoveMessage(content='', additional_kwargs={}, response_metadata={}, id='1'), RemoveMessage(content='', additional_kwargs={}, response_metadata={}, id='2')]}}, 'run_id': '8582ef01-a84a-4ea7-bec2-6ffb6a2aa37b', 'name': '_write', 'tags': ['seq:step:2', 'langsmith:hidden'], 'metadata': {'langgraph_step': 1, 'langgraph_node': 'filter', 'langgraph_triggers': ['start:filter'], 'langgraph_path': ('__pregel_pull', 'filter'), 'langgraph_checkpoint_ns': 'filter:6d78bdbc-5c16-75f3-b15f-dbbc8a115afd'}, 'parent_ids': ['95e5f8c3-e98d-4ec4-b67e-e2b3654a4328', '5d991de1-5cb0-47ab-805a-735d81860cf0']}\n",
            "\n",
            "--------------\n",
            "\n",
            "{'event': 'on_chain_stream', 'run_id': '5d991de1-5cb0-47ab-805a-735d81860cf0', 'name': 'filter', 'tags': ['graph:step:1'], 'metadata': {'langgraph_step': 1, 'langgraph_node': 'filter', 'langgraph_triggers': ['start:filter'], 'langgraph_path': ('__pregel_pull', 'filter'), 'langgraph_checkpoint_ns': 'filter:6d78bdbc-5c16-75f3-b15f-dbbc8a115afd'}, 'data': {'chunk': {'messages': [RemoveMessage(content='', additional_kwargs={}, response_metadata={}, id='1'), RemoveMessage(content='', additional_kwargs={}, response_metadata={}, id='2')]}}, 'parent_ids': ['95e5f8c3-e98d-4ec4-b67e-e2b3654a4328']}\n",
            "\n",
            "--------------\n",
            "\n",
            "{'event': 'on_chain_end', 'data': {'output': {'messages': [RemoveMessage(content='', additional_kwargs={}, response_metadata={}, id='1'), RemoveMessage(content='', additional_kwargs={}, response_metadata={}, id='2')]}, 'input': {'messages': [AIMessage(content='Hi how r u?.', additional_kwargs={}, response_metadata={}, name='Bot', id='1'), HumanMessage(content='im fine thank u and u .', additional_kwargs={}, response_metadata={}, name='Lance', id='2'), AIMessage(content='So you said you were researching ocean mammals?', additional_kwargs={}, response_metadata={}, name='Bot', id='3'), HumanMessage(content='Yes, I know about whales. But what others should I learn about?', additional_kwargs={}, response_metadata={}, name='Lance', id='4')]}}, 'run_id': '5d991de1-5cb0-47ab-805a-735d81860cf0', 'name': 'filter', 'tags': ['graph:step:1'], 'metadata': {'langgraph_step': 1, 'langgraph_node': 'filter', 'langgraph_triggers': ['start:filter'], 'langgraph_path': ('__pregel_pull', 'filter'), 'langgraph_checkpoint_ns': 'filter:6d78bdbc-5c16-75f3-b15f-dbbc8a115afd'}, 'parent_ids': ['95e5f8c3-e98d-4ec4-b67e-e2b3654a4328']}\n",
            "\n",
            "--------------\n",
            "\n",
            "{'event': 'on_chain_stream', 'run_id': '95e5f8c3-e98d-4ec4-b67e-e2b3654a4328', 'name': 'LangGraph', 'tags': [], 'metadata': {}, 'data': {'chunk': {'filter': {'messages': [RemoveMessage(content='', additional_kwargs={}, response_metadata={}, id='1'), RemoveMessage(content='', additional_kwargs={}, response_metadata={}, id='2')]}}}, 'parent_ids': []}\n",
            "\n",
            "--------------\n",
            "\n",
            "{'event': 'on_chain_start', 'data': {'input': {'messages': [AIMessage(content='So you said you were researching ocean mammals?', additional_kwargs={}, response_metadata={}, name='Bot', id='3'), HumanMessage(content='Yes, I know about whales. But what others should I learn about?', additional_kwargs={}, response_metadata={}, name='Lance', id='4')]}}, 'name': 'chat_model', 'tags': ['graph:step:2'], 'run_id': 'e12d15f8-6dc2-450b-b26e-95d4009e138b', 'metadata': {'langgraph_step': 2, 'langgraph_node': 'chat_model', 'langgraph_triggers': ['filter'], 'langgraph_path': ('__pregel_pull', 'chat_model'), 'langgraph_checkpoint_ns': 'chat_model:8c6851dc-b8ad-d69c-1e77-cc208281efbc'}, 'parent_ids': ['95e5f8c3-e98d-4ec4-b67e-e2b3654a4328']}\n",
            "\n",
            "--------------\n",
            "\n",
            "{'event': 'on_chain_start', 'data': {'input': {'messages': [AIMessage(content='That\\'s great you\\'re interested in ocean mammals! Whales are a fantastic group, but there\\'s a whole underwater world beyond them.  To give you a good overview, here are some other groups of ocean mammals you should learn about, categorized for easier understanding:\\n\\n**1. Marine Mammals Closely Related to Land Mammals:**\\n\\n* **Seals:** These come in three main types:\\n    * **True seals (Phocidae):** Lack external ear flaps, have a streamlined body, and move on land by wriggling. Examples include harbor seals, elephant seals, and leopard seals.\\n    * **Eared seals (Otariidae):** Possess external ear flaps, have longer flippers, and can \"walk\" on land. Examples include sea lions and fur seals.\\n    * **Walruses (Odobenidae):**  Easily recognizable by their tusks and thick blubber.\\n\\n* **Sea Lions vs. Seals:**  This is a common point of confusion.  The key difference is the presence of external ear flaps (sea lions have them, seals don\\'t).\\n\\n* **Sea Otters (Mustelidae):**  These are the smallest marine mammals and are known for their dense fur and use of tools.  They are actually members of the weasel family!\\n\\n**2. Sirenians (Gentle Giants):**\\n\\n* **Manatees (Trichechidae):** Also known as sea cows, these slow-moving herbivores are found in warmer waters.\\n* **Dugongs (Dugongidae):**  Close relatives of manatees, but with a more streamlined body and a downward-curving tail fluke.\\n\\n**3. Polar Mammals:**\\n\\n* **Polar Bears (Ursidae):** Although they spend time on sea ice, they are technically land mammals that are highly adapted to the Arctic environment.  Their diet relies heavily on marine animals.\\n\\n\\nWhen researching, consider focusing on these aspects for a comprehensive understanding:\\n\\n* **Physical adaptations:** How have their bodies adapted to life in the ocean (e.g., blubber, streamlined bodies, flippers)?\\n* **Feeding habits:** What do they eat, and how do they hunt?\\n* **Social behavior:** Do they live in groups or alone? How do they communicate?\\n* **Conservation status:** What threats do they face, and what conservation efforts are underway?\\n* **Geographic distribution:** Where in the ocean do they live?\\n\\n\\nBy exploring these different groups and focusing on these key aspects, you\\'ll gain a much broader understanding of ocean mammals beyond just whales.  Happy researching!\\n', additional_kwargs={}, response_metadata={'prompt_feedback': {'block_reason': 0, 'safety_ratings': []}, 'finish_reason': 'STOP', 'safety_ratings': []}, id='run-49131cf3-a737-444d-bbf5-5a0900c2879b-0', usage_metadata={'input_tokens': 26, 'output_tokens': 540, 'total_tokens': 566, 'input_token_details': {'cache_read': 0}})]}}, 'name': '_write', 'tags': ['seq:step:2', 'langsmith:hidden'], 'run_id': 'b2279b4c-d52f-4430-891d-17cd7251acba', 'metadata': {'langgraph_step': 2, 'langgraph_node': 'chat_model', 'langgraph_triggers': ['filter'], 'langgraph_path': ('__pregel_pull', 'chat_model'), 'langgraph_checkpoint_ns': 'chat_model:8c6851dc-b8ad-d69c-1e77-cc208281efbc'}, 'parent_ids': ['95e5f8c3-e98d-4ec4-b67e-e2b3654a4328', 'e12d15f8-6dc2-450b-b26e-95d4009e138b']}\n",
            "\n",
            "--------------\n",
            "\n",
            "{'event': 'on_chain_end', 'data': {'output': {'messages': [AIMessage(content='That\\'s great you\\'re interested in ocean mammals! Whales are a fantastic group, but there\\'s a whole underwater world beyond them.  To give you a good overview, here are some other groups of ocean mammals you should learn about, categorized for easier understanding:\\n\\n**1. Marine Mammals Closely Related to Land Mammals:**\\n\\n* **Seals:** These come in three main types:\\n    * **True seals (Phocidae):** Lack external ear flaps, have a streamlined body, and move on land by wriggling. Examples include harbor seals, elephant seals, and leopard seals.\\n    * **Eared seals (Otariidae):** Possess external ear flaps, have longer flippers, and can \"walk\" on land. Examples include sea lions and fur seals.\\n    * **Walruses (Odobenidae):**  Easily recognizable by their tusks and thick blubber.\\n\\n* **Sea Lions vs. Seals:**  This is a common point of confusion.  The key difference is the presence of external ear flaps (sea lions have them, seals don\\'t).\\n\\n* **Sea Otters (Mustelidae):**  These are the smallest marine mammals and are known for their dense fur and use of tools.  They are actually members of the weasel family!\\n\\n**2. Sirenians (Gentle Giants):**\\n\\n* **Manatees (Trichechidae):** Also known as sea cows, these slow-moving herbivores are found in warmer waters.\\n* **Dugongs (Dugongidae):**  Close relatives of manatees, but with a more streamlined body and a downward-curving tail fluke.\\n\\n**3. Polar Mammals:**\\n\\n* **Polar Bears (Ursidae):** Although they spend time on sea ice, they are technically land mammals that are highly adapted to the Arctic environment.  Their diet relies heavily on marine animals.\\n\\n\\nWhen researching, consider focusing on these aspects for a comprehensive understanding:\\n\\n* **Physical adaptations:** How have their bodies adapted to life in the ocean (e.g., blubber, streamlined bodies, flippers)?\\n* **Feeding habits:** What do they eat, and how do they hunt?\\n* **Social behavior:** Do they live in groups or alone? How do they communicate?\\n* **Conservation status:** What threats do they face, and what conservation efforts are underway?\\n* **Geographic distribution:** Where in the ocean do they live?\\n\\n\\nBy exploring these different groups and focusing on these key aspects, you\\'ll gain a much broader understanding of ocean mammals beyond just whales.  Happy researching!\\n', additional_kwargs={}, response_metadata={'prompt_feedback': {'block_reason': 0, 'safety_ratings': []}, 'finish_reason': 'STOP', 'safety_ratings': []}, id='run-49131cf3-a737-444d-bbf5-5a0900c2879b-0', usage_metadata={'input_tokens': 26, 'output_tokens': 540, 'total_tokens': 566, 'input_token_details': {'cache_read': 0}})]}, 'input': {'messages': [AIMessage(content='That\\'s great you\\'re interested in ocean mammals! Whales are a fantastic group, but there\\'s a whole underwater world beyond them.  To give you a good overview, here are some other groups of ocean mammals you should learn about, categorized for easier understanding:\\n\\n**1. Marine Mammals Closely Related to Land Mammals:**\\n\\n* **Seals:** These come in three main types:\\n    * **True seals (Phocidae):** Lack external ear flaps, have a streamlined body, and move on land by wriggling. Examples include harbor seals, elephant seals, and leopard seals.\\n    * **Eared seals (Otariidae):** Possess external ear flaps, have longer flippers, and can \"walk\" on land. Examples include sea lions and fur seals.\\n    * **Walruses (Odobenidae):**  Easily recognizable by their tusks and thick blubber.\\n\\n* **Sea Lions vs. Seals:**  This is a common point of confusion.  The key difference is the presence of external ear flaps (sea lions have them, seals don\\'t).\\n\\n* **Sea Otters (Mustelidae):**  These are the smallest marine mammals and are known for their dense fur and use of tools.  They are actually members of the weasel family!\\n\\n**2. Sirenians (Gentle Giants):**\\n\\n* **Manatees (Trichechidae):** Also known as sea cows, these slow-moving herbivores are found in warmer waters.\\n* **Dugongs (Dugongidae):**  Close relatives of manatees, but with a more streamlined body and a downward-curving tail fluke.\\n\\n**3. Polar Mammals:**\\n\\n* **Polar Bears (Ursidae):** Although they spend time on sea ice, they are technically land mammals that are highly adapted to the Arctic environment.  Their diet relies heavily on marine animals.\\n\\n\\nWhen researching, consider focusing on these aspects for a comprehensive understanding:\\n\\n* **Physical adaptations:** How have their bodies adapted to life in the ocean (e.g., blubber, streamlined bodies, flippers)?\\n* **Feeding habits:** What do they eat, and how do they hunt?\\n* **Social behavior:** Do they live in groups or alone? How do they communicate?\\n* **Conservation status:** What threats do they face, and what conservation efforts are underway?\\n* **Geographic distribution:** Where in the ocean do they live?\\n\\n\\nBy exploring these different groups and focusing on these key aspects, you\\'ll gain a much broader understanding of ocean mammals beyond just whales.  Happy researching!\\n', additional_kwargs={}, response_metadata={'prompt_feedback': {'block_reason': 0, 'safety_ratings': []}, 'finish_reason': 'STOP', 'safety_ratings': []}, id='run-49131cf3-a737-444d-bbf5-5a0900c2879b-0', usage_metadata={'input_tokens': 26, 'output_tokens': 540, 'total_tokens': 566, 'input_token_details': {'cache_read': 0}})]}}, 'run_id': 'b2279b4c-d52f-4430-891d-17cd7251acba', 'name': '_write', 'tags': ['seq:step:2', 'langsmith:hidden'], 'metadata': {'langgraph_step': 2, 'langgraph_node': 'chat_model', 'langgraph_triggers': ['filter'], 'langgraph_path': ('__pregel_pull', 'chat_model'), 'langgraph_checkpoint_ns': 'chat_model:8c6851dc-b8ad-d69c-1e77-cc208281efbc'}, 'parent_ids': ['95e5f8c3-e98d-4ec4-b67e-e2b3654a4328', 'e12d15f8-6dc2-450b-b26e-95d4009e138b']}\n",
            "\n",
            "--------------\n",
            "\n",
            "{'event': 'on_chain_stream', 'run_id': 'e12d15f8-6dc2-450b-b26e-95d4009e138b', 'name': 'chat_model', 'tags': ['graph:step:2'], 'metadata': {'langgraph_step': 2, 'langgraph_node': 'chat_model', 'langgraph_triggers': ['filter'], 'langgraph_path': ('__pregel_pull', 'chat_model'), 'langgraph_checkpoint_ns': 'chat_model:8c6851dc-b8ad-d69c-1e77-cc208281efbc'}, 'data': {'chunk': {'messages': [AIMessage(content='That\\'s great you\\'re interested in ocean mammals! Whales are a fantastic group, but there\\'s a whole underwater world beyond them.  To give you a good overview, here are some other groups of ocean mammals you should learn about, categorized for easier understanding:\\n\\n**1. Marine Mammals Closely Related to Land Mammals:**\\n\\n* **Seals:** These come in three main types:\\n    * **True seals (Phocidae):** Lack external ear flaps, have a streamlined body, and move on land by wriggling. Examples include harbor seals, elephant seals, and leopard seals.\\n    * **Eared seals (Otariidae):** Possess external ear flaps, have longer flippers, and can \"walk\" on land. Examples include sea lions and fur seals.\\n    * **Walruses (Odobenidae):**  Easily recognizable by their tusks and thick blubber.\\n\\n* **Sea Lions vs. Seals:**  This is a common point of confusion.  The key difference is the presence of external ear flaps (sea lions have them, seals don\\'t).\\n\\n* **Sea Otters (Mustelidae):**  These are the smallest marine mammals and are known for their dense fur and use of tools.  They are actually members of the weasel family!\\n\\n**2. Sirenians (Gentle Giants):**\\n\\n* **Manatees (Trichechidae):** Also known as sea cows, these slow-moving herbivores are found in warmer waters.\\n* **Dugongs (Dugongidae):**  Close relatives of manatees, but with a more streamlined body and a downward-curving tail fluke.\\n\\n**3. Polar Mammals:**\\n\\n* **Polar Bears (Ursidae):** Although they spend time on sea ice, they are technically land mammals that are highly adapted to the Arctic environment.  Their diet relies heavily on marine animals.\\n\\n\\nWhen researching, consider focusing on these aspects for a comprehensive understanding:\\n\\n* **Physical adaptations:** How have their bodies adapted to life in the ocean (e.g., blubber, streamlined bodies, flippers)?\\n* **Feeding habits:** What do they eat, and how do they hunt?\\n* **Social behavior:** Do they live in groups or alone? How do they communicate?\\n* **Conservation status:** What threats do they face, and what conservation efforts are underway?\\n* **Geographic distribution:** Where in the ocean do they live?\\n\\n\\nBy exploring these different groups and focusing on these key aspects, you\\'ll gain a much broader understanding of ocean mammals beyond just whales.  Happy researching!\\n', additional_kwargs={}, response_metadata={'prompt_feedback': {'block_reason': 0, 'safety_ratings': []}, 'finish_reason': 'STOP', 'safety_ratings': []}, id='run-49131cf3-a737-444d-bbf5-5a0900c2879b-0', usage_metadata={'input_tokens': 26, 'output_tokens': 540, 'total_tokens': 566, 'input_token_details': {'cache_read': 0}})]}}, 'parent_ids': ['95e5f8c3-e98d-4ec4-b67e-e2b3654a4328']}\n",
            "\n",
            "--------------\n",
            "\n",
            "{'event': 'on_chain_end', 'data': {'output': {'messages': [AIMessage(content='That\\'s great you\\'re interested in ocean mammals! Whales are a fantastic group, but there\\'s a whole underwater world beyond them.  To give you a good overview, here are some other groups of ocean mammals you should learn about, categorized for easier understanding:\\n\\n**1. Marine Mammals Closely Related to Land Mammals:**\\n\\n* **Seals:** These come in three main types:\\n    * **True seals (Phocidae):** Lack external ear flaps, have a streamlined body, and move on land by wriggling. Examples include harbor seals, elephant seals, and leopard seals.\\n    * **Eared seals (Otariidae):** Possess external ear flaps, have longer flippers, and can \"walk\" on land. Examples include sea lions and fur seals.\\n    * **Walruses (Odobenidae):**  Easily recognizable by their tusks and thick blubber.\\n\\n* **Sea Lions vs. Seals:**  This is a common point of confusion.  The key difference is the presence of external ear flaps (sea lions have them, seals don\\'t).\\n\\n* **Sea Otters (Mustelidae):**  These are the smallest marine mammals and are known for their dense fur and use of tools.  They are actually members of the weasel family!\\n\\n**2. Sirenians (Gentle Giants):**\\n\\n* **Manatees (Trichechidae):** Also known as sea cows, these slow-moving herbivores are found in warmer waters.\\n* **Dugongs (Dugongidae):**  Close relatives of manatees, but with a more streamlined body and a downward-curving tail fluke.\\n\\n**3. Polar Mammals:**\\n\\n* **Polar Bears (Ursidae):** Although they spend time on sea ice, they are technically land mammals that are highly adapted to the Arctic environment.  Their diet relies heavily on marine animals.\\n\\n\\nWhen researching, consider focusing on these aspects for a comprehensive understanding:\\n\\n* **Physical adaptations:** How have their bodies adapted to life in the ocean (e.g., blubber, streamlined bodies, flippers)?\\n* **Feeding habits:** What do they eat, and how do they hunt?\\n* **Social behavior:** Do they live in groups or alone? How do they communicate?\\n* **Conservation status:** What threats do they face, and what conservation efforts are underway?\\n* **Geographic distribution:** Where in the ocean do they live?\\n\\n\\nBy exploring these different groups and focusing on these key aspects, you\\'ll gain a much broader understanding of ocean mammals beyond just whales.  Happy researching!\\n', additional_kwargs={}, response_metadata={'prompt_feedback': {'block_reason': 0, 'safety_ratings': []}, 'finish_reason': 'STOP', 'safety_ratings': []}, id='run-49131cf3-a737-444d-bbf5-5a0900c2879b-0', usage_metadata={'input_tokens': 26, 'output_tokens': 540, 'total_tokens': 566, 'input_token_details': {'cache_read': 0}})]}, 'input': {'messages': [AIMessage(content='So you said you were researching ocean mammals?', additional_kwargs={}, response_metadata={}, name='Bot', id='3'), HumanMessage(content='Yes, I know about whales. But what others should I learn about?', additional_kwargs={}, response_metadata={}, name='Lance', id='4')]}}, 'run_id': 'e12d15f8-6dc2-450b-b26e-95d4009e138b', 'name': 'chat_model', 'tags': ['graph:step:2'], 'metadata': {'langgraph_step': 2, 'langgraph_node': 'chat_model', 'langgraph_triggers': ['filter'], 'langgraph_path': ('__pregel_pull', 'chat_model'), 'langgraph_checkpoint_ns': 'chat_model:8c6851dc-b8ad-d69c-1e77-cc208281efbc'}, 'parent_ids': ['95e5f8c3-e98d-4ec4-b67e-e2b3654a4328']}\n",
            "\n",
            "--------------\n",
            "\n",
            "{'event': 'on_chain_stream', 'run_id': '95e5f8c3-e98d-4ec4-b67e-e2b3654a4328', 'name': 'LangGraph', 'tags': [], 'metadata': {}, 'data': {'chunk': {'chat_model': {'messages': [AIMessage(content='That\\'s great you\\'re interested in ocean mammals! Whales are a fantastic group, but there\\'s a whole underwater world beyond them.  To give you a good overview, here are some other groups of ocean mammals you should learn about, categorized for easier understanding:\\n\\n**1. Marine Mammals Closely Related to Land Mammals:**\\n\\n* **Seals:** These come in three main types:\\n    * **True seals (Phocidae):** Lack external ear flaps, have a streamlined body, and move on land by wriggling. Examples include harbor seals, elephant seals, and leopard seals.\\n    * **Eared seals (Otariidae):** Possess external ear flaps, have longer flippers, and can \"walk\" on land. Examples include sea lions and fur seals.\\n    * **Walruses (Odobenidae):**  Easily recognizable by their tusks and thick blubber.\\n\\n* **Sea Lions vs. Seals:**  This is a common point of confusion.  The key difference is the presence of external ear flaps (sea lions have them, seals don\\'t).\\n\\n* **Sea Otters (Mustelidae):**  These are the smallest marine mammals and are known for their dense fur and use of tools.  They are actually members of the weasel family!\\n\\n**2. Sirenians (Gentle Giants):**\\n\\n* **Manatees (Trichechidae):** Also known as sea cows, these slow-moving herbivores are found in warmer waters.\\n* **Dugongs (Dugongidae):**  Close relatives of manatees, but with a more streamlined body and a downward-curving tail fluke.\\n\\n**3. Polar Mammals:**\\n\\n* **Polar Bears (Ursidae):** Although they spend time on sea ice, they are technically land mammals that are highly adapted to the Arctic environment.  Their diet relies heavily on marine animals.\\n\\n\\nWhen researching, consider focusing on these aspects for a comprehensive understanding:\\n\\n* **Physical adaptations:** How have their bodies adapted to life in the ocean (e.g., blubber, streamlined bodies, flippers)?\\n* **Feeding habits:** What do they eat, and how do they hunt?\\n* **Social behavior:** Do they live in groups or alone? How do they communicate?\\n* **Conservation status:** What threats do they face, and what conservation efforts are underway?\\n* **Geographic distribution:** Where in the ocean do they live?\\n\\n\\nBy exploring these different groups and focusing on these key aspects, you\\'ll gain a much broader understanding of ocean mammals beyond just whales.  Happy researching!\\n', additional_kwargs={}, response_metadata={'prompt_feedback': {'block_reason': 0, 'safety_ratings': []}, 'finish_reason': 'STOP', 'safety_ratings': []}, id='run-49131cf3-a737-444d-bbf5-5a0900c2879b-0', usage_metadata={'input_tokens': 26, 'output_tokens': 540, 'total_tokens': 566, 'input_token_details': {'cache_read': 0}})]}}}, 'parent_ids': []}\n",
            "\n",
            "--------------\n",
            "\n",
            "{'event': 'on_chain_end', 'data': {'output': {'messages': [AIMessage(content='So you said you were researching ocean mammals?', additional_kwargs={}, response_metadata={}, name='Bot', id='3'), HumanMessage(content='Yes, I know about whales. But what others should I learn about?', additional_kwargs={}, response_metadata={}, name='Lance', id='4'), AIMessage(content='That\\'s great you\\'re interested in ocean mammals! Whales are a fantastic group, but there\\'s a whole underwater world beyond them.  To give you a good overview, here are some other groups of ocean mammals you should learn about, categorized for easier understanding:\\n\\n**1. Marine Mammals Closely Related to Land Mammals:**\\n\\n* **Seals:** These come in three main types:\\n    * **True seals (Phocidae):** Lack external ear flaps, have a streamlined body, and move on land by wriggling. Examples include harbor seals, elephant seals, and leopard seals.\\n    * **Eared seals (Otariidae):** Possess external ear flaps, have longer flippers, and can \"walk\" on land. Examples include sea lions and fur seals.\\n    * **Walruses (Odobenidae):**  Easily recognizable by their tusks and thick blubber.\\n\\n* **Sea Lions vs. Seals:**  This is a common point of confusion.  The key difference is the presence of external ear flaps (sea lions have them, seals don\\'t).\\n\\n* **Sea Otters (Mustelidae):**  These are the smallest marine mammals and are known for their dense fur and use of tools.  They are actually members of the weasel family!\\n\\n**2. Sirenians (Gentle Giants):**\\n\\n* **Manatees (Trichechidae):** Also known as sea cows, these slow-moving herbivores are found in warmer waters.\\n* **Dugongs (Dugongidae):**  Close relatives of manatees, but with a more streamlined body and a downward-curving tail fluke.\\n\\n**3. Polar Mammals:**\\n\\n* **Polar Bears (Ursidae):** Although they spend time on sea ice, they are technically land mammals that are highly adapted to the Arctic environment.  Their diet relies heavily on marine animals.\\n\\n\\nWhen researching, consider focusing on these aspects for a comprehensive understanding:\\n\\n* **Physical adaptations:** How have their bodies adapted to life in the ocean (e.g., blubber, streamlined bodies, flippers)?\\n* **Feeding habits:** What do they eat, and how do they hunt?\\n* **Social behavior:** Do they live in groups or alone? How do they communicate?\\n* **Conservation status:** What threats do they face, and what conservation efforts are underway?\\n* **Geographic distribution:** Where in the ocean do they live?\\n\\n\\nBy exploring these different groups and focusing on these key aspects, you\\'ll gain a much broader understanding of ocean mammals beyond just whales.  Happy researching!\\n', additional_kwargs={}, response_metadata={'prompt_feedback': {'block_reason': 0, 'safety_ratings': []}, 'finish_reason': 'STOP', 'safety_ratings': []}, id='run-49131cf3-a737-444d-bbf5-5a0900c2879b-0', usage_metadata={'input_tokens': 26, 'output_tokens': 540, 'total_tokens': 566, 'input_token_details': {'cache_read': 0}})]}}, 'run_id': '95e5f8c3-e98d-4ec4-b67e-e2b3654a4328', 'name': 'LangGraph', 'tags': [], 'metadata': {}, 'parent_ids': []}\n",
            "\n",
            "--------------\n",
            "\n"
          ]
        },
        {
          "output_type": "stream",
          "name": "stderr",
          "text": [
            "WARNING:langsmith.client:Failed to multipart ingest runs: langsmith.utils.LangSmithAuthError: Authentication failed for https://api.smith.langchain.com/runs/multipart. HTTPError('401 Client Error: Unauthorized for url: https://api.smith.langchain.com/runs/multipart', '{\"detail\":\"Invalid token\"}')trace=95e5f8c3-e98d-4ec4-b67e-e2b3654a4328,id=b2279b4c-d52f-4430-891d-17cd7251acba; trace=49131cf3-a737-444d-bbf5-5a0900c2879b,id=49131cf3-a737-444d-bbf5-5a0900c2879b; trace=95e5f8c3-e98d-4ec4-b67e-e2b3654a4328,id=95e5f8c3-e98d-4ec4-b67e-e2b3654a4328; trace=95e5f8c3-e98d-4ec4-b67e-e2b3654a4328,id=e12d15f8-6dc2-450b-b26e-95d4009e138b\n"
          ]
        }
      ]
    },
    {
      "cell_type": "code",
      "source": [
        "# Node\n",
        "def chat_model_node(state: MessagesState):\n",
        "    return {\"messages\": [llm.invoke(state[\"messages\"][-2:])]}\n",
        "\n",
        "# Build graph\n",
        "builder: StateGraph = StateGraph(MessagesState)\n",
        "builder.add_node(\"chat_model\", chat_model_node)\n",
        "builder.add_edge(START, \"chat_model\")\n",
        "builder.add_edge(\"chat_model\", END)\n",
        "graph: CompiledStateGraph = builder.compile()\n",
        "\n",
        "# View\n",
        "display(Image(graph.get_graph().draw_mermaid_png()))"
      ],
      "metadata": {
        "colab": {
          "base_uri": "https://localhost:8080/",
          "height": 251
        },
        "id": "-PqD5_NmD-gl",
        "outputId": "e4817667-b61d-4ec1-e647-b1040a143bf5"
      },
      "execution_count": 35,
      "outputs": [
        {
          "output_type": "display_data",
          "data": {
            "image/png": "[encoded data removed]",
            "text/plain": [
              "<IPython.core.display.Image object>"
            ]
          },
          "metadata": {}
        }
      ]
    },
    {
      "cell_type": "code",
      "source": [
        "messages.append(output['messages'][-2:])\n",
        "messages = [AIMessage(\"Hi.how r u\", name=\"Bot\", id=\"1\")]\n",
        "messages.append(HumanMessage(\"im fine thank u and u.\", name=\"Lance\", id=\"2\"))\n",
        "messages.append(AIMessage(\"So you said you were researching ocean mammals?\", name=\"Bot\", id=\"3\"))\n",
        "messages.append(HumanMessage(\"Yes, I know about whales. But what others should I learn about?\", name=\"Lance\", id=\"4\"))\n",
        "\n",
        "for m in messages:\n",
        "    m.pretty_print()"
      ],
      "metadata": {
        "colab": {
          "base_uri": "https://localhost:8080/"
        },
        "id": "ss0-wD1REBX2",
        "outputId": "367110d2-15ee-4f85-bafe-cff71a7c6cb9"
      },
      "execution_count": 37,
      "outputs": [
        {
          "output_type": "stream",
          "name": "stdout",
          "text": [
            "==================================\u001b[1m Ai Message \u001b[0m==================================\n",
            "Name: Bot\n",
            "\n",
            "Hi.how r u\n",
            "================================\u001b[1m Human Message \u001b[0m=================================\n",
            "Name: Lance\n",
            "\n",
            "im fine thank u and u.\n",
            "==================================\u001b[1m Ai Message \u001b[0m==================================\n",
            "Name: Bot\n",
            "\n",
            "So you said you were researching ocean mammals?\n",
            "================================\u001b[1m Human Message \u001b[0m=================================\n",
            "Name: Lance\n",
            "\n",
            "Yes, I know about whales. But what others should I learn about?\n"
          ]
        }
      ]
    },
    {
      "cell_type": "code",
      "source": [
        "output = graph.invoke({'messages': messages})\n",
        "for m in output['messages']:\n",
        "    m.pretty_print()"
      ],
      "metadata": {
        "colab": {
          "base_uri": "https://localhost:8080/"
        },
        "id": "FgG-hnrBFbgN",
        "outputId": "771bc080-d038-4161-9342-1b6fc367aa77"
      },
      "execution_count": 38,
      "outputs": [
        {
          "output_type": "stream",
          "name": "stderr",
          "text": [
            "WARNING:langsmith.client:Failed to multipart ingest runs: langsmith.utils.LangSmithAuthError: Authentication failed for https://api.smith.langchain.com/runs/multipart. HTTPError('401 Client Error: Unauthorized for url: https://api.smith.langchain.com/runs/multipart', '{\"detail\":\"Invalid token\"}')trace=9d87cdc0-0aff-447b-873f-fa615ca88374,id=9d87cdc0-0aff-447b-873f-fa615ca88374; trace=9d87cdc0-0aff-447b-873f-fa615ca88374,id=998b0b88-46c9-42fb-8d74-32e21d57421e; trace=9d87cdc0-0aff-447b-873f-fa615ca88374,id=0e125c77-c85b-459b-9955-49df442aa5c1; trace=9d87cdc0-0aff-447b-873f-fa615ca88374,id=037a7fa1-64a9-4232-82c6-7438766f5b86; trace=9d87cdc0-0aff-447b-873f-fa615ca88374,id=0bf0cd7f-9b23-46a7-9bdd-133548ed6f50; trace=9d87cdc0-0aff-447b-873f-fa615ca88374,id=a4c58045-4643-447b-be4f-61a5bc737a69\n"
          ]
        },
        {
          "output_type": "stream",
          "name": "stdout",
          "text": [
            "==================================\u001b[1m Ai Message \u001b[0m==================================\n",
            "Name: Bot\n",
            "\n",
            "Hi.how r u\n",
            "================================\u001b[1m Human Message \u001b[0m=================================\n",
            "Name: Lance\n",
            "\n",
            "im fine thank u and u.\n",
            "==================================\u001b[1m Ai Message \u001b[0m==================================\n",
            "Name: Bot\n",
            "\n",
            "So you said you were researching ocean mammals?\n",
            "================================\u001b[1m Human Message \u001b[0m=================================\n",
            "Name: Lance\n",
            "\n",
            "Yes, I know about whales. But what others should I learn about?\n",
            "==================================\u001b[1m Ai Message \u001b[0m==================================\n",
            "\n",
            "That's great you're interested in ocean mammals! Whales are a fantastic starting point, but the ocean holds a whole lot more.  To broaden your research, consider these groups:\n",
            "\n",
            "**1. Seals, Sea Lions, and Walruses (Pinnipeds):**  These are all closely related, but have distinct characteristics.  Learn about their different adaptations for swimming and hunting, their social structures, and their geographical distributions.  Consider focusing on specific species within these groups, such as:\n",
            "\n",
            "* **Seals (true seals):** Harbor seals, leopard seals, elephant seals.  Note their lack of external ear flaps.\n",
            "* **Sea Lions:** California sea lions, Steller sea lions.  Note their external ear flaps and ability to rotate their hind flippers forward.\n",
            "* **Walruses:** Their unique tusks and feeding strategies.\n",
            "\n",
            "\n",
            "**2. Sea Otters:**  These are the smallest marine mammals and incredibly unique.  Learn about their use of tools, their dense fur for insulation, and their crucial role in kelp forest ecosystems.\n",
            "\n",
            "**3. Polar Bears:** While often considered terrestrial, they spend a significant portion of their lives on sea ice and depend heavily on the ocean for hunting seals.  Their adaptation to arctic conditions is fascinating.\n",
            "\n",
            "\n",
            "**4. Sirenians (Manatees and Dugongs):** These gentle giants are herbivores and live in warmer waters.  Learn about their slow-moving lifestyles, their importance to their ecosystems, and the threats they face from human activities.\n",
            "\n",
            "\n",
            "**5. Dolphins and Porpoises (Odontocetes):** While you might think of these as \"smaller whales,\" they're distinct groups within the cetacean order.  Research their echolocation abilities, their diverse social structures, and the many different species within each group (bottlenose dolphins, orcas, harbor porpoises, etc.).\n",
            "\n",
            "\n",
            "When researching, consider focusing on:\n",
            "\n",
            "* **Their habitats and distribution:** Where do they live? What factors influence their range?\n",
            "* **Their feeding strategies:** How do they find and capture their prey?\n",
            "* **Their social structures:** Do they live alone, in pairs, or in large groups? How do they communicate?\n",
            "* **Their conservation status:** What threats do they face, and what conservation efforts are underway?\n",
            "* **Their adaptations:** How have they evolved to survive in their marine environment?\n",
            "\n",
            "\n",
            "Remember to use reputable sources like scientific journals, conservation organizations (WWF, NOAA Fisheries), and accredited aquariums/zoos for your research.  Happy learning!\n"
          ]
        },
        {
          "output_type": "stream",
          "name": "stderr",
          "text": [
            "WARNING:langsmith.client:Failed to multipart ingest runs: langsmith.utils.LangSmithAuthError: Authentication failed for https://api.smith.langchain.com/runs/multipart. HTTPError('401 Client Error: Unauthorized for url: https://api.smith.langchain.com/runs/multipart', '{\"detail\":\"Invalid token\"}')trace=9d87cdc0-0aff-447b-873f-fa615ca88374,id=200075ca-b27a-4ba8-90eb-4d051c85906c; trace=9d87cdc0-0aff-447b-873f-fa615ca88374,id=9d87cdc0-0aff-447b-873f-fa615ca88374; trace=9d87cdc0-0aff-447b-873f-fa615ca88374,id=0bf0cd7f-9b23-46a7-9bdd-133548ed6f50; trace=9d87cdc0-0aff-447b-873f-fa615ca88374,id=a4c58045-4643-447b-be4f-61a5bc737a69\n"
          ]
        }
      ]
    },
    {
      "cell_type": "markdown",
      "source": [
        "note: hum jub ya wala method use karain ga to sara msg colab ms show houga but langsmit ki chathistroy ma wohi show jiska humna filter msg krta time slic use kya tha [-2:]"
      ],
      "metadata": {
        "id": "-r0I6IDhGr_6"
      }
    },
    {
      "cell_type": "markdown",
      "source": [
        "last and simple type of filter"
      ],
      "metadata": {
        "id": "ZzHoFdrNIuxF"
      }
    },
    {
      "cell_type": "code",
      "source": [
        "from langchain_core.messages import AIMessage, HumanMessage\n",
        "\n",
        "# Example Messages\n",
        "messages = [\n",
        "    AIMessage(\"So you said you were researching ocean mammals?\", name=\"Bot\"),\n",
        "    HumanMessage(\"Yes, I know about whales. But what others should I learn about?\", name=\"Lance\"),\n",
        "    AIMessage(\"Whales are fascinating! You should also explore dolphins and seals.\", name=\"Bot\"),\n",
        "    HumanMessage(\"Great! Tell me more about dolphins.\", name=\"Lance\")\n",
        "]\n",
        "\n",
        "# Function to filter messages\n",
        "def filter_messages(messages, max_messages=2):\n",
        "    \"\"\"Filters the last `max_messages` from the list.\"\"\"\n",
        "    return messages[-1:]\n",
        "\n",
        "# Filtered Messages\n",
        "filtered = filter_messages(messages, max_messages=2)\n",
        "\n",
        "# Display the filtered messages\n",
        "for message in filtered:\n",
        "    print(f\"Name: {message.name}\\nContent: {message.content}\\n\")\n"
      ],
      "metadata": {
        "colab": {
          "base_uri": "https://localhost:8080/"
        },
        "id": "xPuQ9FxZIZx1",
        "outputId": "043741ed-cd3d-41c6-d428-d6dc4618a4b3"
      },
      "execution_count": 45,
      "outputs": [
        {
          "output_type": "stream",
          "name": "stdout",
          "text": [
            "Name: Lance\n",
            "Content: Great! Tell me more about dolphins.\n",
            "\n"
          ]
        }
      ]
    },
    {
      "cell_type": "markdown",
      "source": [
        "# Trim messages\n",
        "Ek aur approach hai messages ko trim karna, jo ek set number of tokens par mabni hoti hai.\n",
        "\n",
        "Ye message history ko ek specified number of tokens tak restrict karta hai.\n",
        "\n",
        "Jab ke filtering sirf agents ke darmiyan post-hoc subset messages ko return karti hai, trimming token ki ginti ko restrict karta hai jo chat model response dene ke liye istemal karta hai.\n",
        "\n",
        "Niche trim_messages ka example dekhein."
      ],
      "metadata": {
        "id": "vPFSHIarHk2m"
      }
    },
    {
      "cell_type": "code",
      "source": [
        "from langchain_core.messages import trim_messages\n",
        "\n",
        "# Node\n",
        "def chat_model_node(state: MessagesState):\n",
        "    messages = trim_messages(\n",
        "            state[\"messages\"],\n",
        "            max_tokens=100,\n",
        "            strategy=\"last\",\n",
        "            token_counter=ChatGoogleGenerativeAI(model=\"gemini-1.5-flash\"),\n",
        "            allow_partial=False,\n",
        "        )\n",
        "    return {\"messages\": [llm.invoke(messages)]}\n",
        "\n",
        "# Build graph\n",
        "builder = StateGraph(MessagesState)\n",
        "builder.add_node(\"chat_model\", chat_model_node)\n",
        "builder.add_edge(START, \"chat_model\")\n",
        "builder.add_edge(\"chat_model\", END)\n",
        "graph = builder.compile()\n",
        "\n",
        "# View\n",
        "display(Image(graph.get_graph().draw_mermaid_png()))"
      ],
      "metadata": {
        "colab": {
          "base_uri": "https://localhost:8080/",
          "height": 251
        },
        "id": "IJdX2Ll2HoVN",
        "outputId": "e0bc32e4-586f-4884-e14a-51f424ed6c88"
      },
      "execution_count": 39,
      "outputs": [
        {
          "output_type": "display_data",
          "data": {
            "image/png": "[encoded data removed]",
            "text/plain": [
              "<IPython.core.display.Image object>"
            ]
          },
          "metadata": {}
        }
      ]
    },
    {
      "cell_type": "code",
      "source": [
        "messages.append(output['messages'][-1])\n",
        "messages.append(HumanMessage(f\"Tell me where Orcas live!\", name=\"Lance\"))"
      ],
      "metadata": {
        "id": "-NRpFlLRH8YW"
      },
      "execution_count": 41,
      "outputs": []
    }
  ]
}