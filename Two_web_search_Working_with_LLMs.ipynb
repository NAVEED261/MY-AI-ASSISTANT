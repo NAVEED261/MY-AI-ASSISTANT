{
  "nbformat": 4,
  "nbformat_minor": 0,
  "metadata": {
    "colab": {
      "provenance": [],
      "authorship_tag": "ABX9TyMBisnR+jjQ96AtLGuW4/xD",
      "include_colab_link": true
    },
    "kernelspec": {
      "name": "python3",
      "display_name": "Python 3"
    },
    "language_info": {
      "name": "python"
    }
  },
  "cells": [
    {
      "cell_type": "markdown",
      "metadata": {
        "id": "view-in-github",
        "colab_type": "text"
      },
      "source": [
        "<a href=\"https://colab.research.google.com/github/NAVEED261/MY-AI-ASSISTANT/blob/main/Two_web_search_Working_with_LLMs.ipynb\" target=\"_parent\"><img src=\"https://colab.research.google.com/assets/colab-badge.svg\" alt=\"Open In Colab\"/></a>"
      ]
    },
    {
      "cell_type": "code",
      "source": [
        "%%capture --no-stderr\n",
        "%pip install -U  langgraph tavily-python wikipedia langchain_google_genai langchain_community langgraph_sdk"
      ],
      "metadata": {
        "id": "Uc7f5vcTZKuh"
      },
      "execution_count": 8,
      "outputs": []
    },
    {
      "cell_type": "code",
      "source": [
        "from google.colab import userdata\n",
        "import os\n",
        "os.environ['GOOGLE_API_KEY'] = userdata.get('GOOGLE_API_KEY')\n",
        "GOOGLE_API_KEY = userdata.get('GOOGLE_API_KEY')\n",
        "%env LANGCHAIN_API_KEY = {userdata.get('Langchain_api_key')}\n",
        "os.environ[\"LANGCHAIN_TRACING_V2\"] = \"true\"\n",
        "os.environ[\"LANGCHAIN_PROJECT\"] = \"langchain-academy\""
      ],
      "metadata": {
        "colab": {
          "base_uri": "https://localhost:8080/"
        },
        "id": "I6AQbDysZMFX",
        "outputId": "c43b9f9a-086d-4cb1-f657-74831c6ac216"
      },
      "execution_count": 12,
      "outputs": [
        {
          "output_type": "stream",
          "name": "stdout",
          "text": [
            "env: LANGCHAIN_API_KEY=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\n"
          ]
        }
      ]
    },
    {
      "cell_type": "code",
      "source": [
        "from langchain_google_genai import ChatGoogleGenerativeAI\n",
        "llm: ChatGoogleGenerativeAI = ChatGoogleGenerativeAI(model = \"gemini-1.5-flash\")\n",
        "llm.invoke(\"hi im hafiz naveed uddin\")"
      ],
      "metadata": {
        "colab": {
          "base_uri": "https://localhost:8080/"
        },
        "id": "gfzs8s0SZeCf",
        "outputId": "d3bdf77f-a363-4737-d961-01e56fb3bc98"
      },
      "execution_count": 13,
      "outputs": [
        {
          "output_type": "execute_result",
          "data": {
            "text/plain": [
              "AIMessage(content=\"Hello Hafiz Naveed Uddin!  It's nice to meet you. How can I help you today?\", additional_kwargs={}, response_metadata={'prompt_feedback': {'block_reason': 0, 'safety_ratings': []}, 'finish_reason': 'STOP', 'safety_ratings': []}, id='run-a22f7471-260f-4424-b355-a2a27d1a7b3a-0', usage_metadata={'input_tokens': 9, 'output_tokens': 25, 'total_tokens': 34, 'input_token_details': {'cache_read': 0}})"
            ]
          },
          "metadata": {},
          "execution_count": 13
        }
      ]
    },
    {
      "cell_type": "code",
      "source": [
        "os.environ['Tavily_Api_Key'] = userdata.get('Tavily_Api_Key')\n",
        "GOOGLE_API_KEY = userdata.get('Tavily_Api_Key')"
      ],
      "metadata": {
        "id": "05Zca5BscYvv"
      },
      "execution_count": 27,
      "outputs": []
    },
    {
      "cell_type": "code",
      "source": [
        "from langchain_community.tools.tavily_search import TavilySearchResults\n",
        "tool = TavilySearchResults(max_results=2)\n",
        "tool.invoke(\"How were Nvidia's Q2 2024 earnings?\")"
      ],
      "metadata": {
        "colab": {
          "base_uri": "https://localhost:8080/"
        },
        "id": "XzNZG1ywcnF-",
        "outputId": "00cbbe58-23d1-4373-a219-a41292953a43"
      },
      "execution_count": 28,
      "outputs": [
        {
          "output_type": "execute_result",
          "data": {
            "text/plain": [
              "[{'url': 'https://www.cnbc.com/2023/08/23/nvidia-nvda-earnings-report-q2-2024.html',\n",
              "  'content': \"Best Credit Cards Best Credit Cards for Small Business Best Small Business Loans Best Personal Loans for Bad Credit Nvidia's performance was driven by its data center business, which includes the A100 and H100 AI chips that are needed to build and run artificial intelligence applications like ChatGPT. Nvidia reported $10.32 billion in data center revenue, which was up 171% year over year. Nvidia's performance was driven by its data center business, which includes AI chips, as cloud service providers and large consumer internet companies like Alphabet, Amazon and Meta snapped up next-generation processors. The gaming division, which used to be Nvidia's core business, saw revenue increase 22% from a year earlier to $2.49 billion, topping the $2.38 billion average estimate.\"},\n",
              " {'url': 'https://www.anandtech.com/show/20024/nvidia-reports-q2-fy2024-earnings-13b-revnues-blows-past-records-on-absurd-data-center-demand',\n",
              "  'content': 'So long as NVIDIA’s data center sales remain high, the company seems set to remain on a growth spurt through the rest of the year, as Q2 is the first quarter where NVIDIA has been shipping Hopper architecture products in large volumes – meaning that Q2 is essentially the start of the Hopper architecture era from and NVIDIA sales perspective. To $16B Of Revenue In Q3\\nGiven the rapid tear NVIDIA has been on in growing its revenues and profitability over the past year, half of the anticipation with recent NVIDIA earnings releases has not just been how well they’ve performed, but how well they expect to perform in the future. NVIDIA’s data center segment has grown by leaps and bounds over the past year in particular, on the back of developments with large language models (LLMs) in the AI space, and the subsequent spike in demand for high-performance processors that can train and run those models. The company has, at this point, shaken off the broader slump in technology spending on the back of an explosion in demand for their data center products, and to a lesser extent the latest generation of their consumer GeForce graphics products. At this point NVIDIA is full speed ahead with the production of Hopper architecture (GH100) based products, and if a report from the Financial Times is correct, the company is now looking to triple its GH100 production, in anticipation of shipping over 1.5M units in 2024.\\n'}]"
            ]
          },
          "metadata": {},
          "execution_count": 28
        }
      ]
    },
    {
      "cell_type": "code",
      "source": [
        "tool"
      ],
      "metadata": {
        "colab": {
          "base_uri": "https://localhost:8080/"
        },
        "id": "gktDNjvddE_P",
        "outputId": "53a9fc72-77dd-4064-d1e3-8f79dcdfd491"
      },
      "execution_count": 29,
      "outputs": [
        {
          "output_type": "execute_result",
          "data": {
            "text/plain": [
              "TavilySearchResults(max_results=2, api_wrapper=TavilySearchAPIWrapper(tavily_api_key=SecretStr('**********')))"
            ]
          },
          "metadata": {},
          "execution_count": 29
        }
      ]
    },
    {
      "cell_type": "code",
      "source": [
        "from langchain_core.messages import HumanMessage, SystemMessage\n",
        "from langchain_community.document_loaders import WikipediaLoader\n",
        "from IPython.display import Image, display\n",
        "\n",
        "from typing import Any\n",
        "from typing_extensions import TypedDict\n",
        "\n",
        "from langgraph.graph import StateGraph, START, END\n",
        "from langgraph.graph.state import CompiledStateGraph\n"
      ],
      "metadata": {
        "id": "EsaoBc-CdOV-"
      },
      "execution_count": 30,
      "outputs": []
    },
    {
      "cell_type": "code",
      "source": [
        "import operator\n",
        "from typing import Annotated\n",
        "\n",
        "class State(TypedDict):\n",
        "    question: str\n",
        "    answer: str\n",
        "    context: Annotated[list, operator.add]"
      ],
      "metadata": {
        "id": "sVbamI89diqf"
      },
      "execution_count": 31,
      "outputs": []
    },
    {
      "cell_type": "code",
      "source": [
        "def search_web(state):\n",
        "\n",
        "    \"\"\" Retrieve docs from web search \"\"\"\n",
        "\n",
        "    # Search\n",
        "    tavily_search = TavilySearchResults(max_results=3)\n",
        "    search_docs = tavily_search.invoke(state['question'])\n",
        "\n",
        "     # Format\n",
        "    formatted_search_docs = \"\\n\\n---\\n\\n\".join(\n",
        "        [\n",
        "            f'<Document href=\"{doc[\"url\"]}\"/>\\n{doc[\"content\"]}\\n</Document>'\n",
        "            for doc in search_docs\n",
        "        ]\n",
        "    )\n",
        "\n",
        "    return {\"context\": [formatted_search_docs]}\n",
        "\n",
        "def search_wikipedia(state):\n",
        "\n",
        "    \"\"\" Retrieve docs from wikipedia \"\"\"\n",
        "\n",
        "    # Search\n",
        "    search_docs = WikipediaLoader(query=state['question'],\n",
        "                                  load_max_docs=2).load()\n",
        "\n",
        "     # Format\n",
        "    formatted_search_docs = \"\\n\\n---\\n\\n\".join(\n",
        "        [\n",
        "            f'<Document source=\"{doc.metadata[\"source\"]}\" page=\"{doc.metadata.get(\"page\", \"\")}\"/>\\n{doc.page_content}\\n</Document>'\n",
        "            for doc in search_docs\n",
        "        ]\n",
        "    )\n",
        "\n",
        "    return {\"context\": [formatted_search_docs]}\n",
        "\n",
        "def generate_answer(state):\n",
        "\n",
        "    \"\"\" Node to answer a question \"\"\"\n",
        "\n",
        "    # Get state\n",
        "    context = state[\"context\"]\n",
        "    question = state[\"question\"]\n",
        "\n",
        "    # Template\n",
        "    answer_template = \"\"\"Answer the question {question} using this context: {context}\"\"\"\n",
        "    answer_instructions = answer_template.format(question=question,\n",
        "                                                       context=context)\n",
        "\n",
        "    # Answer\n",
        "    answer = llm.invoke([SystemMessage(content=answer_instructions)]+[HumanMessage(content=f\"Answer the question.\")])\n",
        "\n",
        "    # Append it to state\n",
        "    return {\"answer\": answer}\n",
        "\n",
        "# Add nodes\n",
        "builder: StateGraph = StateGraph(State)\n",
        "\n",
        "# Initialize each node with node_secret\n",
        "builder.add_node(\"search_web\",search_web)\n",
        "builder.add_node(\"search_wikipedia\", search_wikipedia)\n",
        "builder.add_node(\"generate_answer\", generate_answer)\n",
        "\n",
        "# Flow\n",
        "builder.add_edge(START, \"search_wikipedia\")\n",
        "builder.add_edge(START, \"search_web\")\n",
        "builder.add_edge(\"search_wikipedia\", \"generate_answer\")\n",
        "builder.add_edge(\"search_web\", \"generate_answer\")\n",
        "builder.add_edge(\"generate_answer\", END)\n",
        "graph: CompiledStateGraph = builder.compile()\n",
        "\n",
        "display(Image(graph.get_graph().draw_mermaid_png()))\n"
      ],
      "metadata": {
        "colab": {
          "base_uri": "https://localhost:8080/",
          "height": 350
        },
        "id": "RtM25bzVd2zx",
        "outputId": "1d34b079-00b6-430d-8fff-4091bd28c2eb"
      },
      "execution_count": 32,
      "outputs": [
        {
          "output_type": "display_data",
          "data": {
            "image/png": "[encoded data removed]",
            "text/plain": [
              "<IPython.core.display.Image object>"
            ]
          },
          "metadata": {}
        }
      ]
    },
    {
      "cell_type": "code",
      "source": [
        "result = graph.invoke({\"question\": \"How were Nvidia's Q2 2024 earnings\"})\n",
        "result['answer'].content"
      ],
      "metadata": {
        "colab": {
          "base_uri": "https://localhost:8080/",
          "height": 145
        },
        "id": "7RmxAn29d6jX",
        "outputId": "07372a1b-91ce-41ee-a8f0-66519964664e"
      },
      "execution_count": 33,
      "outputs": [
        {
          "output_type": "execute_result",
          "data": {
            "text/plain": [
              "\"Nvidia's Q2 2024 earnings were exceptionally strong.  Revenue reached $13.51 billion, more than double the previous year's figure.  GAAP net income jumped to $6.2 billion ($2.48 per share), up significantly from $656 million ($0.26 per share) in Q2 2023.  Adjusted EPS was $2.70.  This growth was primarily driven by a 171% year-over-year increase in data center revenue to $10.32 billion, fueled by high demand for AI chips from cloud providers and large tech companies.  The gaming division also saw a 22% year-over-year revenue increase, reaching $2.49 billion.\""
            ],
            "application/vnd.google.colaboratory.intrinsic+json": {
              "type": "string"
            }
          },
          "metadata": {},
          "execution_count": 33
        }
      ]
    },
    {
      "cell_type": "code",
      "source": [
        "result"
      ],
      "metadata": {
        "colab": {
          "base_uri": "https://localhost:8080/"
        },
        "id": "u-YzvggmeFj-",
        "outputId": "01c82582-fcd4-4e0f-f455-aa461adc9f21"
      },
      "execution_count": 34,
      "outputs": [
        {
          "output_type": "execute_result",
          "data": {
            "text/plain": [
              "{'question': \"How were Nvidia's Q2 2024 earnings\",\n",
              " 'answer': AIMessage(content=\"Nvidia's Q2 2024 earnings were exceptionally strong.  Revenue reached $13.51 billion, more than double the previous year's figure.  GAAP net income jumped to $6.2 billion ($2.48 per share), up significantly from $656 million ($0.26 per share) in Q2 2023.  Adjusted EPS was $2.70.  This growth was primarily driven by a 171% year-over-year increase in data center revenue to $10.32 billion, fueled by high demand for AI chips from cloud providers and large tech companies.  The gaming division also saw a 22% year-over-year revenue increase, reaching $2.49 billion.\", additional_kwargs={}, response_metadata={'prompt_feedback': {'block_reason': 0, 'safety_ratings': []}, 'finish_reason': 'STOP', 'safety_ratings': []}, id='run-c2c78b28-7a6f-4b2c-9d93-0ce32166fadd-0', usage_metadata={'input_tokens': 2586, 'output_tokens': 166, 'total_tokens': 2752, 'input_token_details': {'cache_read': 0}}),\n",
              " 'context': ['<Document href=\"https://www.cnbc.com/2023/08/23/nvidia-nvda-earnings-report-q2-2024.html\"/>\\nBest Credit Cards Best Credit Cards for Small Business Best Small Business Loans Best Personal Loans for Bad Credit Nvidia\\'s performance was driven by its data center business, which includes the A100 and H100 AI chips that are needed to build and run artificial intelligence applications like ChatGPT. Nvidia reported $10.32 billion in data center revenue, which was up 171% year over year. Nvidia\\'s performance was driven by its data center business, which includes AI chips, as cloud service providers and large consumer internet companies like Alphabet, Amazon and Meta snapped up next-generation processors. The gaming division, which used to be Nvidia\\'s core business, saw revenue increase 22% from a year earlier to $2.49 billion, topping the $2.38 billion average estimate.\\n</Document>\\n\\n---\\n\\n<Document href=\"https://news.alphastreet.com/nvidia-corporation-nvda-earnings-2q24-key-numbers/\"/>\\nNVIDIA Corporation (NASDAQ: NVDA) reported revenue of $13.51 billion for the second quarter of 2024, which more than doubled from a year ago. GAAP net income jumped to $6.2 billion, or $2.48 per share, from $656 million, or $0.26 per share, last year. Adjusted EPS was $2.70. For the third quarter of 2024, NVIDIA expects […]\\n</Document>\\n\\n---\\n\\n<Document href=\"https://www.anandtech.com/show/20024/nvidia-reports-q2-fy2024-earnings-13b-revnues-blows-past-records-on-absurd-data-center-demand\"/>\\nSo long as NVIDIA’s data center sales remain high, the company seems set to remain on a growth spurt through the rest of the year, as Q2 is the first quarter where NVIDIA has been shipping Hopper architecture products in large volumes – meaning that Q2 is essentially the start of the Hopper architecture era from and NVIDIA sales perspective. To $16B Of Revenue In Q3\\nGiven the rapid tear NVIDIA has been on in growing its revenues and profitability over the past year, half of the anticipation with recent NVIDIA earnings releases has not just been how well they’ve performed, but how well they expect to perform in the future. NVIDIA’s data center segment has grown by leaps and bounds over the past year in particular, on the back of developments with large language models (LLMs) in the AI space, and the subsequent spike in demand for high-performance processors that can train and run those models. The company has, at this point, shaken off the broader slump in technology spending on the back of an explosion in demand for their data center products, and to a lesser extent the latest generation of their consumer GeForce graphics products. At this point NVIDIA is full speed ahead with the production of Hopper architecture (GH100) based products, and if a report from the Financial Times is correct, the company is now looking to triple its GH100 production, in anticipation of shipping over 1.5M units in 2024.\\n\\n</Document>',\n",
              "  '<Document source=\"https://en.wikipedia.org/wiki/Nvidia\" page=\"\"/>\\nNvidia Corporation ( en-VID-ee-ə) is an American multinational corporation and technology company headquartered in Santa Clara, California, and incorporated in Delaware. Founded in 1993 by Jensen Huang (president and CEO), Chris Malachowsky, and Curtis Priem, it is a software and fabless company which designs and supplies graphics processing units (GPUs), application programming interfaces (APIs) for data science and high-performance computing, and system on a chip units (SoCs) for mobile computing and the automotive market. Nvidia is also a dominant supplier of artificial intelligence (AI) hardware and software.\\nNvidia\\'s professional line of GPUs are used for edge-to-cloud computing and in supercomputers and workstations for applications in fields such as architecture, engineering and construction, media and entertainment, automotive, scientific research, and manufacturing design. Its GeForce line of GPUs are aimed at the consumer market and are used in applications such as video editing, 3D rendering, and PC gaming. With a market share of 80.2% in the second quarter of 2023, Nvidia leads the market for discrete desktop GPUs by a wide margin. The company expanded its presence in the gaming industry with the introduction of the Shield Portable (a handheld game console), Shield Tablet (a gaming tablet), and Shield TV (a digital media player), as well as its cloud gaming service GeForce Now.\\nIn addition to GPU design and outsourcing manufacturing, Nvidia provides the CUDA software platform and API that allows the creation of massively parallel programs which utilize GPUs. They are deployed in supercomputing sites around the world. In the late 2000s, Nvidia had moved into the mobile computing market, where it produces Tegra mobile processors for smartphones and tablets and vehicle navigation and entertainment systems. Its competitors include AMD, Intel, Qualcomm, and AI accelerator companies such as Cerebras and Graphcore. It also makes AI-powered software for audio and video processing (e.g., Nvidia Maxine).\\nNvidia\\'s offer to acquire Arm from SoftBank in September 2020 failed to materialize following extended regulatory scrutiny, leading to the termination of the deal in February 2022 in what would have been the largest semiconductor acquisition. In 2023, Nvidia became the seventh public U.S. company to be valued at over $1 trillion, and the company\\'s valuation has increased rapidly since then as the company became a leader in data center chips with AI capabilities in the midst of the AI boom. In June 2024, for one day, Nvidia overtook Microsoft as the world\\'s most valuable publicly traded company, with a market capitalization of over $3.3 trillion.\\n\\n\\n== History ==\\n\\n\\n=== Founding ===\\n\\nNvidia was founded on April 5, 1993, by Jensen Huang (who, as of 2024, remains CEO), a Taiwanese-American electrical engineer who was previously the director of CoreWare at LSI Logic and a microprocessor designer at AMD; Chris Malachowsky, an engineer who worked at Sun Microsystems; and Curtis Priem, who was previously a senior staff engineer and graphics chip designer at IBM and Sun Microsystems. The three men agreed to start the company in a meeting at a Denny\\'s roadside diner on Berryessa Road in East San Jose.\\nAt the time, Malachowsky and Priem were frustrated with Sun\\'s management and were looking to leave, but Huang was on \"firmer ground\", in that he was already running his own division at LSI. The three co-founders discussed a vision of the future which was so compelling that Huang decided to leave LSI and become the chief executive officer of their new startup.\\nIn 1993, the three co-founders envisioned that the ideal trajectory for the forthcoming wave of computing would be in the realm of accelerated computing, specifically in graphics-based processing. This path was chosen due to its unique ability to tackle challenges that eluded general-purpose computing methods. As Huang later explained: \"We also observed that video games were simultan\\n</Document>\\n\\n---\\n\\n<Document source=\"https://en.wikipedia.org/wiki/TSMC\" page=\"\"/>\\nTaiwan Semiconductor Manufacturing Company Limited (TSMC or Taiwan Semiconductor) is a Taiwanese multinational semiconductor contract manufacturing and design company. It is the world\\'s most valuable semiconductor company, the world\\'s largest dedicated independent (\"pure-play\") semiconductor foundry, and Taiwan\\'s largest company, with headquarters and main operations located in the Hsinchu Science Park in Hsinchu, Taiwan. Although the central government of Taiwan is the largest individual shareholder, the majority of TSMC is owned by foreign investors. In 2023, the company was ranked 44th in the Forbes Global 2000. Taiwan\\'s exports of integrated circuits amounted to $184 billion in 2022, accounted for nearly 25 percent of Taiwan\\'s GDP. TSMC constitutes about 30 percent of the Taiwan Stock Exchange\\'s main index.\\nTSMC was founded in Taiwan in 1987 by Morris Chang as the world\\'s first dedicated semiconductor foundry. It has long been the leading company in its field. When Chang retired in 2018, after 31 years of TSMC leadership, Mark Liu became chairman and C. C. Wei became Chief Executive. It has been listed on the Taiwan Stock Exchange since 1993; in 1997 it became the first Taiwanese company to be listed on the New York Stock Exchange. Since 1994, TSMC has had a compound annual growth rate (CAGR) of 17.4% in revenue and a CAGR of 16.1% in earnings.\\nMost fabless semiconductor companies such as AMD, Apple, ARM, Broadcom, Marvell, MediaTek, Qualcomm, and Nvidia are customers of TSMC, as are emerging companies such as Allwinner Technology, HiSilicon, Spectra7, and UNISOC. Programmable logic device companies Xilinx and previously Altera also make or made use of TSMC\\'s foundry services. Some integrated device manufacturers that have their own fabrication facilities, such as Intel, NXP, STMicroelectronics, and Texas Instruments, outsource some of their production to TSMC. At least one semiconductor company, LSI, re-sells TSMC wafers through its ASIC design services and design IP portfolio.\\nTSMC has a global capacity of about thirteen million 300 mm-equivalent wafers per year as of 2020 and produces chips for customers with process nodes from 2 microns to 3 nanometres. TSMC was the first foundry to market 7-nanometre and 5-nanometre (used by the 2020 Apple A14 and M1 SoCs, the MediaTek Dimensity 8100, and AMD Ryzen 7000 series processors) production capabilities, and the first to commercialize ASML\\'s extreme ultraviolet (EUV) lithography technology in high volume.\\n\\n\\n== History ==\\nIn 1986, Li Kwoh-ting, representing the Executive Yuan, invited Morris Chang to serve as the president of the Industrial Technology Research Institute (ITRI) and offered him a blank check to build Taiwan\\'s chip industry. At that time, the Taiwanese government wanted to develop its semiconductor industry, but its high investment and high risk nature made it difficult to find investors. Texas Instruments and Intel turned down Chang. Only Philips was willing to sign a joint venture contract with Taiwan to put up $58 million, transfer its production technology, and license intellectual property in exchange for a 27.5 percent stake in TSMC. Alongside generous tax benefits, the Taiwanese government, through the National Development Fund, Executive Yuan, provided another 48 percent of the startup capital for TSMC, and the rest of the capital was raised from several of the island\\'s wealthiest families, who owned firms that specialized in plastics, textiles, and chemicals. These wealthy Taiwanese were directly \"asked\" by the government to invest. \"What generally happened was that one of the ministers in the government would call a businessman in Taiwan,\" Chang explained, \"to get him to invest.\" From day one, TSMC was not really a private business: it was a project of the Taiwanese state. Its first CEO was James E. Dykes, who left after a year and Morris Chang became the CEO.\\nSince then, the company has continued to grow, albeit subject to the cycles of demand. In 2011\\n</Document>']}"
            ]
          },
          "metadata": {},
          "execution_count": 34
        }
      ]
    },
    {
      "cell_type": "code",
      "source": [
        "result1 = graph.invoke({\"question\": \"tell me history of islam till P.B.U.H \"})\n",
        "result['answer'].content"
      ],
      "metadata": {
        "colab": {
          "base_uri": "https://localhost:8080/",
          "height": 237
        },
        "id": "Ppnwv0qRe8N5",
        "outputId": "70b085b6-a834-48a9-d821-810de30684a3"
      },
      "execution_count": 37,
      "outputs": [
        {
          "output_type": "execute_result",
          "data": {
            "text/plain": [
              "\"Based on the provided text, the history of Islam until the death of the Prophet Muhammad (PBUH) can be summarized as follows:\\n\\nMuhammad (PBUH), born around 570 AD in Mecca, began receiving revelations from Allah at age 40.  These revelations formed the basis of the Quran and Islam. By 630 AD, he had united most of Arabia under Islam.  Following his death in 632 CE, the issue of succession led to a major schism within Islam.  Sunnis believed the caliph (successor) should be elected from the Quraysh tribe, while Shia believed the caliphate should be hereditary within Muhammad's family, specifically through Ali ibn Abi Talib, his cousin and son-in-law.  This division, along with others like the Kharijites, significantly shaped the early political landscape of Islam.\\n\\nBefore his death, Muhammad (PBUH) established agreements with various tribal chiefs across the Arabian Peninsula, some alliances, and others acknowledging his prophethood and Islamic practices, including paying alms.  The Constitution of Medina, drafted by Muhammad (PBUH), allowed Jews and Christians to use their own laws and have their own judges.  The exact nature and extent of Muhammad's (PBUH) intentions regarding the spread of Islam—whether it was primarily focused on Arabia or a global religion—remains a subject of debate among scholars.\""
            ],
            "application/vnd.google.colaboratory.intrinsic+json": {
              "type": "string"
            }
          },
          "metadata": {},
          "execution_count": 37
        }
      ]
    },
    {
      "cell_type": "code",
      "source": [
        "result1"
      ],
      "metadata": {
        "colab": {
          "base_uri": "https://localhost:8080/"
        },
        "id": "qu7I2kCkfPrh",
        "outputId": "02d716e9-5d12-4482-e440-ea2acb1f676f"
      },
      "execution_count": 38,
      "outputs": [
        {
          "output_type": "execute_result",
          "data": {
            "text/plain": [
              "{'question': 'tell me history of islam till P.B.U.H ',\n",
              " 'answer': AIMessage(content=\"Based on the provided text, here's a summary of the history of Islam until the death of the Prophet Muhammad (PBUH):\\n\\nMuhammad, born around 570 AD in Mecca, began receiving revelations from Allah at age 40.  These revelations formed the basis of the Quran and Islam. By 630 AD, he had united most of Arabia under Islam.  The Constitution of Medina, drafted by Muhammad, allowed Jews and Christians to use their own laws and have their own judges.  Following Muhammad's death in 632 CE, various agreements were made with tribal chiefs across the Arabian peninsula, some allying with him, others acknowledging his prophethood and agreeing to follow Islamic practices.  The exact nature and extent of Muhammad's intentions regarding the spread of Islam and his political ambitions remain a subject of scholarly debate.\", additional_kwargs={}, response_metadata={'prompt_feedback': {'block_reason': 0, 'safety_ratings': []}, 'finish_reason': 'STOP', 'safety_ratings': []}, id='run-e561a023-0f83-4e0b-8af9-68e5e808a7dc-0', usage_metadata={'input_tokens': 3589, 'output_tokens': 176, 'total_tokens': 3765, 'input_token_details': {'cache_read': 0}}),\n",
              " 'context': ['<Document href=\"https://en.wikipedia.org/wiki/History_of_Islam\"/>\\nThey oversaw the initial phase of the early Muslim conquests, advancing through Persia, the Levant, Egypt, and North Africa.[8]\\nAlongside the growth of the Umayyad Caliphate, the major political development within early Islam in this period was the sectarian split and political divide between Kharijite, Sunnī, and Shīʿa Muslims; this had its roots in a dispute over the succession for the role of caliph.[4][17] Sunnīs believed the caliph was elective and any Muslim from the Arab clan of Quraysh, the tribe of Muhammad, might serve as one.[18] Shīʿītes, on the other hand, believed the title of caliph should be hereditary in the bloodline of Muhammad,[69] and thus all the caliphs, with the exceptions of Muhammad\\'s cousin and son-in-law ʿAlī ibn Abī Ṭālib and his firstborn son Ḥasan, were actually illegitimate usurpers.[18] However, the Sunnī sect emerged as triumphant in most regions of the Muslim world, with the exceptions of Iran and Oman. While Suleiman I\\'s rule (1520–1566) is often identified as the apex of Ottoman power, the empire continued to remain powerful and influential until a relative fall in its military strength in the second half of the 18th century.[278][279]\\nSafavid Empire[edit]\\nThe Shīʿīte Safavid dynasty rose to power in Tabriz in 1501 and later conquered the rest of Iran.[280] They were of mixed ancestry, originally Kurdish,[281] but during their rule intermarried with Turcomans,[282] Georgians,[283] Circassians,[284][285] and Pontic Greeks.[286] The Safavid dynasty had its origin in the Safavid order of Sufism,[280] while the Iranian population was largely composed by Sunni Muslims.[287] After their defeat at the hands of the Sunni Ottomans at the Battle of Chaldiran, to unite the Persians behind him, Shah Ismail I made conversion mandatory for the largely Sunni population of Iran to the Twelver sect of Shīʿa Islam so that he could get them to fight against the Sunni Ottomans.[288]\\n Since the Constitution of Medina, drafted by the Islamic prophet Muhammad, the Jews and the Christians continued to use their own laws and had their own judges.[87][88]\\nIn 639 CE, ʿUmar appointed Muawiyah ibn Abi Sufyan as the governor of Syria after the previous governor died in a plague along with 25,000 other people.[89][90] To stop the Byzantine harassment from the sea during the Arab–Byzantine wars, in 649 Muawiyah set up a navy, with ships crewed by Monophysite Christians, Egyptian Coptic Christians, and Jacobite Syrian Christians sailors and Muslim troops, which defeated the Byzantine navy at the Battle of the Masts in 655 CE, opening up the Mediterranean Sea to Muslim ships.[91][92][93][94]\\nEarly Muslim armies stayed in encampments away from cities because ʿUmar feared that they may get attracted to wealth and luxury, moving away from the worship of God, accumulating wealth and establishing dynasties.[83][95][96][97] Staying in these encampments away from the cities also ensured that there was no stress on the local populations which could remain autonomous. In the time remaining until his death in 632 CE, tribal chiefs across the Arabian peninsula entered into various agreements with him, some under terms of alliance, others acknowledging his claims of prophethood and agreeing to follow Islamic practices, including paying the alms levy to his government, which consisted of a number of deputies, an army of believers, and a public treasury.[65]\\nThe real intentions of Muhammad regarding the spread of Islam, its political undertone, and his missionary activity (da\\'wah) during his lifetime are a contentious matter of debate, which has been extensively discussed both among Muslim scholars and Non-Muslim scholars within the academic field of Islamic studies.[67] Various authors, Islamic activists, and historians of Islam have proposed several understandings of Muhammad\\'s intent and ambitions regarding his religio-political mission in the context of the pre-Islamic Arabian society and the founding of his own religion:[67]\\nWas it in Muhammad\\'s mind to produce a world religion or did his interests lie mainly within the confines of his homeland? In the 13th and 14th centuries, destructive Mongol invasions and those of Tamerlane (Timur) from the east, along with the loss of population due to the Black Death, greatly weakened the traditional centers of the Muslim world, stretching from Persia to Egypt, but saw the emergence of the Timurid Renaissance and major global economic powers such as the Mali Empire in West Africa and the Bengal Sultanate in South Asia.[19][20] Following the deportation and enslavement of the Muslim Moors from the Emirate of Sicily and other Italian territories,[21] the Islamic Iberia was gradually conquered by Christian forces during the Reconquista.\\n</Document>\\n\\n---\\n\\n<Document href=\"https://aamclasses.com/2021/08/04/the-holy-prophet-p-b-u-h-who-was-muhammad-the-life-of-muhammad-and-the-last-prophet/\"/>\\nTHE HOLY PROPHET (P.B.U.H) Who was Muhammad? Muhammad was a prophet and founder of Islam At the age of 40, he began to receive revelations from Allah which became the basis of the Koran and the basis of Islam. In 630 he united most of Arabia under one religion. The Holy Prophet(P.B.U.H) The life of Muhammad Muhammad was born about 570 AD in Makkah.\\n</Document>\\n\\n---\\n\\n<Document href=\"https://www.mytazkiyah.com/timeline-of-islamic-history/\"/>\\nAbu Bakr as-Siddiq(رضي الله عنه) - First caliph.; Umar ibn al-Khattab(رضي الله عنه) - Second caliph, expanded the Islamic empire.; Uthman ibn Affan(رضي الله عنه) - Third caliph, compiled the Qur\\'an.; Ali ibn Abi Talib(رضي الله عنه) - Fourth caliph, cousin and son-in-law of the Prophet Muhammad (ﷺ).\\n</Document>',\n",
              "  '<Document source=\"https://en.wikipedia.org/wiki/Emmett_Till\" page=\"\"/>\\nEmmett Louis Till (July 25, 1941 – August 28, 1955) was a 14-year-old African American youth who was abducted and lynched in Mississippi in 1955 after being accused of offending a white woman, Carolyn Bryant, in her family\\'s grocery store. The brutality of his murder and the acquittal of his killers drew attention to the long history of violent persecution of African Americans in the United States. Till posthumously became an icon of the civil rights movement.\\nTill was born and raised in Chicago, Illinois. During summer vacation in August 1955, he was visiting relatives near Money, Mississippi, in the Mississippi Delta region. Till spoke to 21-year-old Carolyn Bryant, the white, married proprietor of a local grocery store. Although what happened at the store is a matter of dispute, Till was accused of flirting with, touching, or whistling at Bryant. Till\\'s interaction with Bryant, perhaps unwittingly, violated the unwritten code of behavior for a black male interacting with a white female in the Jim Crow-era South. Several nights after the encounter, Bryant\\'s husband Roy and his half-brother J. W. Milam, who were armed, went to Till\\'s great-uncle\\'s house and abducted Till, age 14. They beat and mutilated him before shooting him in the head and sinking his body in the Tallahatchie River. Three days later, Till\\'s mutilated and bloated body was discovered and retrieved from the river.\\nTill\\'s body was returned to Chicago, where his mother insisted on a public funeral service with an open casket, which was held at Roberts Temple Church of God in Christ. It was later said that \"The open-coffin funeral held by Mamie Till Bradley exposed the world to more than her son Emmett Till\\'s bloated, mutilated body. Her decision focused attention on not only American racism and the barbarism of lynching but also the limitations and vulnerabilities of American democracy.\" Tens of thousands attended his funeral or viewed his open casket, and images of Till\\'s mutilated body were published in black-oriented magazines and newspapers, rallying popular black support and white sympathy across the United States. Intense scrutiny was brought to bear on the lack of black civil rights in Mississippi, with newspapers around the U.S. critical of the state. Although local newspapers and law enforcement officials initially decried the violence against Till and called for justice, they responded to national criticism by defending Mississippians, giving support to the killers.\\nIn September 1955, an all-white jury found Bryant and Milam not guilty of Till\\'s murder. Protected against double jeopardy, the two men publicly admitted in a 1956 interview with Look magazine that they had tortured and murdered Till, selling the story of how they did it for $4,000 (equivalent to $45,000 in 2023). Till\\'s murder was seen as a catalyst for the next phase of the civil rights movement. In December 1955, the Montgomery bus boycott began in Alabama and lasted more than a year, resulting eventually in a U.S. Supreme Court ruling that segregated buses were unconstitutional. According to historians, events surrounding Till\\'s life and death continue to resonate.\\nAn Emmett Till Memorial Commission was established in the early 21st century. The county courthouse in Sumner was restored and includes the Emmett Till Interpretive Center. 51 sites in the Mississippi Delta are memorialized as associated with Till. The Emmett Till Antilynching Act, an American law which makes lynching a federal hate crime, was signed into law on March 29, 2022, by President Joe Biden.\\n\\n\\n== Early childhood ==\\nEmmett Till was born to Mamie and Louis Till on July 25, 1941, in Chicago. Emmett\\'s mother, Mamie, was born in the small Delta town of Webb, Mississippi. The Delta region encompasses the large, multi-county area of northwestern Mississippi in the watershed of the Yazoo and Mississippi rivers. When Carthan was two years old, her family moved to Argo, Illinois, near Chicago, as part of the Great Migration \\n</Document>\\n\\n---\\n\\n<Document source=\"https://en.wikipedia.org/wiki/Sunni_Islam\" page=\"\"/>\\nSunni Islam is the largest branch of Islam and the largest religious denomination in the world. It holds that Muhammad did not appoint any successor and that his closest companion Abu Bakr (r.\\u2009632–634) rightfully succeeded him as the caliph of the Muslim community, being appointed at the meeting of Saqifa. This contrasts with the Shia view, which holds that Muhammad appointed Ali ibn Abi Talib (r.\\u2009656–661) as his successor. Nevertheless, Sunnis revere Ali, along with Abu Bakr, Umar (r.\\u2009634–644) and Uthman (r.\\u2009644–656) as \\'rightly-guided caliphs\\'.\\nThe term Sunni means those who observe the sunna, the practices of Muhammad. The Quran, together with hadith (especially the Six Books) and ijma (scholarly consensus), form the basis of all traditional jurisprudence within Sunni Islam. Sharia legal rulings are derived from these basic sources, in conjunction with consideration of public welfare and juristic discretion, using the principles of jurisprudence developed by the four legal schools: Hanafi, Hanbali, Maliki and Shafi\\'i.\\nIn matters of creed, the Sunni tradition upholds the six pillars of iman (faith) and comprises the Ash\\'ari and Maturidi schools of kalam (theology) as well as the textualist Athari school. Sunnis regard the first four caliphs Abu Bakr (r.\\u2009632–634), Umar (r.\\u2009634–644), Uthman (r.\\u2009644–656) and Ali (r.\\u2009656–661) as rashidun (rightly-guided) and revere the sahaba, tabi\\'in, and tabi al-tabi\\'in as the salaf (predecessors).\\n\\n\\n== Terminology ==\\n\\n\\n=== Sunna ===\\nThe Arabic term sunna, according to which Sunnis are named, is old and roots in pre-Islamic language. It was used for traditions which a majority of people followed. The term got greater political significance after the murder of the third caliph Uthman (r.\\u2009644–656). It is said Malik al-Ashtar, a famous follower of Ali, encouraged during the Battle of Siffin with the expression, Ali\\'s political rival Mu\\'awiya kills the sunna. After the battle, it was agreed that \"the righteous Sunnah, the unifying, not the divisive\" (\"as-Sunna al-ʿādila al-ǧāmiʿa ġair al-mufarriqa\") should be consulted to resolve the conflict. The time when the term sunna became the short form for \"Sunnah of the Prophet\" (Sunnat an-Nabī) is still unknown. During the Umayyad Caliphate, several political movements, including the Shia and the Kharijites rebelled against the formation of the state. They led their battles in the name of \"the book of God (Qur\\'an) and the Sunnah of his Prophet\". During the second Civil War (680–92) the Sunna-term received connotations critical of Shi\\'i doctrines (Tashayyu\\'). It is recorded by Masrūq ibn al-Adschdaʿ (d. 683), who was a Mufti in Kufa, a need to love the first two caliphs Abū Bakr and ʿUmar ibn al-Khaṭṭāb and acknowledge their priority (Fadā\\'il). A disciple of Masrūq, the scholar ash-Shaʿbī (d. between 721 und 729), who first sided with the Shia in Kufa during Civil War, but turned away in disgust by their fanaticism and finally decided to join the Umayyad Caliph ʿAbd al-Malik, popularized the concept of Sunnah. It is also passed down by asch-Shaʿbī, that he took offensive at the hatred on ʿĀʾiša bint Abī Bakr and considered it a violation of the Sunnah.\\nThe term Sunna instead of the longer expression ahl as-sunna or ahl as-sunnah wa l-jamāʻah as a group-name for Sunnis is a relatively young phenomenon. It was probably Ibn Taymiyyah, who used the short-term for the first time. It was later popularized by pan-Islamic scholars such as Muhammad Rashid Rida in his treatise as-Sunna wa-š-šiʿa au al-Wahhābīya wa-r-Rāfiḍa: Ḥaqāʾiq dīnīya taʾrīḫīya iǧtimaʿīya iṣlaḥīya (\"The Sunna and the Shia, Or Wahhabism and Rāfidism: Religious history, sociological und reform oriented facts\") published in 1928–29. The term \"Sunnah\" is usually used in Arabic discourse as designation for Sunni Muslims, when they are intended to be contrasted with Shias. The word pair \"Sunnah-Shia\" is also used on Western research literature to denote the Sunni-Shia contrast.\\n\\n\\n=== Ahl as-Sunna ===\\n</Document>']}"
            ]
          },
          "metadata": {},
          "execution_count": 38
        }
      ]
    }
  ]
}