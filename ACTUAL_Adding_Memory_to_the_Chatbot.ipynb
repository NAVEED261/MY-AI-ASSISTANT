{
  "nbformat": 4,
  "nbformat_minor": 0,
  "metadata": {
    "colab": {
      "provenance": [],
      "authorship_tag": "ABX9TyOi1+mcKLp3BYlAroDIKZ5k",
      "include_colab_link": true
    },
    "kernelspec": {
      "name": "python3",
      "display_name": "Python 3"
    },
    "language_info": {
      "name": "python"
    }
  },
  "cells": [
    {
      "cell_type": "markdown",
      "metadata": {
        "id": "view-in-github",
        "colab_type": "text"
      },
      "source": [
        "<a href=\"https://colab.research.google.com/github/NAVEED261/MY-AI-ASSISTANT/blob/main/ACTUAL_Adding_Memory_to_the_Chatbot.ipynb\" target=\"_parent\"><img src=\"https://colab.research.google.com/assets/colab-badge.svg\" alt=\"Open In Colab\"/></a>"
      ]
    },
    {
      "cell_type": "code",
      "execution_count": null,
      "metadata": {
        "id": "dJQiU6QoDIIw"
      },
      "outputs": [],
      "source": [
        "%%capture --no-stderr\n",
        "%pip install langchain_google_genai langchain_core langchain_community langgraph tavily-python"
      ]
    },
    {
      "cell_type": "code",
      "source": [],
      "metadata": {
        "id": "bTZln9tTN-eE"
      },
      "execution_count": null,
      "outputs": []
    },
    {
      "cell_type": "code",
      "source": [
        "import os\n",
        "from google.colab import userdata\n",
        "Gemnai_api_key = userdata.get('GOOGLE_API_KEY')\n",
        "tavily_api_key = userdata.get(\"Tavily_Api_Key\")\n",
        "os.environ[\"Tavily_Api_Key\"] = \"Tavily_Api_Key\"\n",
        "\n",
        "from langchain_google_genai import ChatGoogleGenerativeAI\n",
        "llm: ChatGoogleGenerativeAI = ChatGoogleGenerativeAI (\n",
        "    model = \"gemini-pro\",  # Changed the model name to a valid model identifier\n",
        "    api_key = Gemnai_api_key\n",
        ")\n",
        "llm.invoke(\"i am hafiz naveed uddin from karachi\")"
      ],
      "metadata": {
        "colab": {
          "base_uri": "https://localhost:8080/"
        },
        "id": "E8tJX0-HDzOo",
        "outputId": "e345e589-9631-4291-e2e9-fb66f637438f"
      },
      "execution_count": null,
      "outputs": [
        {
          "output_type": "execute_result",
          "data": {
            "text/plain": [
              "AIMessage(content='Welcome to the platform, Hafiz Naveed Uddin from Karachi! I am here to assist you with any writing-related tasks you may have.\\n\\nIf you have any specific writing needs, please feel free to let me know. I can help you with various writing tasks, including:\\n\\n* **Content creation:** I can generate high-quality content for your website, blog, or social media channels.\\n* **Article writing:** I can write engaging and informative articles on a wide range of topics.\\n* **Blog post writing:** I can help you create compelling blog posts that will attract and engage your target audience.\\n* **Scriptwriting:** I can write scripts for videos, podcasts, and other multimedia content.\\n* **Proofreading and editing:** I can proofread and edit your written content to ensure it is error-free and polished.\\n\\nI am confident that I can provide you with the writing support you need to achieve your goals. Please feel free to reach out to me with any questions or requests.', additional_kwargs={}, response_metadata={'prompt_feedback': {'block_reason': 0, 'safety_ratings': []}, 'finish_reason': 'STOP', 'safety_ratings': [{'category': 'HARM_CATEGORY_SEXUALLY_EXPLICIT', 'probability': 'NEGLIGIBLE', 'blocked': False}, {'category': 'HARM_CATEGORY_HATE_SPEECH', 'probability': 'NEGLIGIBLE', 'blocked': False}, {'category': 'HARM_CATEGORY_HARASSMENT', 'probability': 'NEGLIGIBLE', 'blocked': False}, {'category': 'HARM_CATEGORY_DANGEROUS_CONTENT', 'probability': 'NEGLIGIBLE', 'blocked': False}]}, id='run-fe1288d7-db47-41f9-ad62-17ac420c5820-0', usage_metadata={'input_tokens': 12, 'output_tokens': 207, 'total_tokens': 219, 'input_token_details': {'cache_read': 0}})"
            ]
          },
          "metadata": {},
          "execution_count": 35
        }
      ]
    },
    {
      "cell_type": "code",
      "source": [
        "LANGCHAIN_API_KEY = userdata.get('memory-enabled-agent')  # LangSmith API key\n",
        "\n",
        "# Configure environment variables for LangChain and LangSmith\n",
        "os.environ[\"LANGCHAIN_TRACING_V2\"] = \"true\"  # Enable LangSmith tracing\n",
        "os.environ[\"LANGCHAIN_PROJECT\"] = \"memory-enabled-agent\"  # Set LangSmith project name\n",
        "os.environ[\"LANGCHAIN_API_KEY\"] = LANGCHAIN_API_KEY  # Set LangSmith API key"
      ],
      "metadata": {
        "id": "v_5pSwwYG2Pm"
      },
      "execution_count": null,
      "outputs": []
    },
    {
      "cell_type": "code",
      "source": [
        "\n",
        "from langchain_community.tools.tavily_search import TavilySearchResults\n",
        "# Initialize the tool (You can pass the key directly if needed)\n",
        "tool = TavilySearchResults(max_results=2)\n",
        "# Alternatively: tool = TavilySearchResults(tavily_api_key=tavily_api_key, max_results=2)\n",
        "tools = [tool]\n",
        "tool.invoke(\"What's a 'node' in LangGraph?\")"
      ],
      "metadata": {
        "colab": {
          "base_uri": "https://localhost:8080/"
        },
        "id": "Gc1FHVcYGnLW",
        "outputId": "f178c201-68cd-444c-9c02-a88bfeb9b7eb"
      },
      "execution_count": null,
      "outputs": [
        {
          "output_type": "execute_result",
          "data": {
            "text/plain": [
              "[{'url': 'https://medium.com/@cplog/introduction-to-langgraph-a-beginners-guide-14f9be027141',\n",
              "  'content': 'Nodes: Nodes are the building blocks of your LangGraph. Each node represents a function or a computation step. You define nodes to perform specific tasks, such as processing input, making'},\n",
              " {'url': 'https://www.datacamp.com/tutorial/langgraph-tutorial',\n",
              "  'content': \"In LangGraph, each node represents an LLM agent, and the edges are the communication channels between these agents. This structure allows for clear and manageable workflows, where each agent performs specific tasks and passes information to other agents as needed. State management. One of LangGraph's standout features is its automatic state\"}]"
            ]
          },
          "metadata": {},
          "execution_count": 37
        }
      ]
    },
    {
      "cell_type": "code",
      "source": [
        "def calculate_compensation(delay_hours: float, ticket_cost: float, inconvenience_level: str) -> str:\n",
        "    \"\"\"\n",
        "    Calculates the compensation amount for travel delays.\n",
        "\n",
        "    Args:\n",
        "        delay_hours (float): The number of hours the travel was delayed.\n",
        "        ticket_cost (float): The cost of the ticket in USD.\n",
        "        inconvenience_level (str): The level of inconvenience caused ('low', 'medium', 'high').\n",
        "\n",
        "    Returns:\n",
        "        str: A string with the calculated compensation amount.\n",
        "    \"\"\"\n",
        "    base_compensation = 0.0\n",
        "\n",
        "    # Calculate base compensation based on delay hours\n",
        "    if delay_hours > 0 and delay_hours <= 2:\n",
        "        base_compensation = ticket_cost * 0.25\n",
        "    elif delay_hours > 2 and delay_hours <= 5:\n",
        "        base_compensation = ticket_cost * 0.5\n",
        "    elif delay_hours > 5:\n",
        "        base_compensation = ticket_cost * 0.75\n",
        "\n",
        "    # Adjust compensation based on inconvenience level\n",
        "    if inconvenience_level.lower() == \"high\":\n",
        "        base_compensation += 100  # Additional for high inconvenience\n",
        "    elif inconvenience_level.lower() == \"medium\":\n",
        "        base_compensation += 50  # Additional for medium inconvenience\n",
        "\n",
        "    # Ensure compensation is fair and within ticket cost\n",
        "    if base_compensation > ticket_cost:\n",
        "        base_compensation = ticket_cost\n",
        "\n",
        "    return f\"The calculated compensation is ${base_compensation:.2f}.\"\n",
        "\n",
        "def check_refund_eligibility(ticket_cost: float, cancellation_reason: str) -> str:\n",
        "    \"\"\"\n",
        "    Determines if a customer is eligible for a refund based on the cancellation reason.\n",
        "\n",
        "    Args:\n",
        "        ticket_cost (float): The cost of the ticket in USD.\n",
        "        cancellation_reason (str): The reason for the cancellation (e.g., 'medical emergency', 'flight cancellation').\n",
        "\n",
        "    Returns:\n",
        "        str: A string indicating whether the customer is eligible for a refund.\n",
        "    \"\"\"\n",
        "    eligible_reasons = [\"medical emergency\", \"flight cancellation\", \"overbooking\"]\n",
        "    if cancellation_reason.lower() in eligible_reasons:\n",
        "        return f\"The customer is eligible for a full refund of ${ticket_cost:.2f}.\"\n",
        "    else:\n",
        "        return \"The customer is not eligible for a refund based on the given reason.\"\n",
        "\n",
        "def legal_case_evaluation(case_details: str) -> str:\n",
        "    \"\"\"\n",
        "    Evaluates the legal strength of a travel-related case based on provided details.\n",
        "\n",
        "    Args:\n",
        "        case_details (str): A description of the case including relevant facts and issues.\n",
        "\n",
        "    Returns:\n",
        "        str: A string with a legal recommendation or analysis of the case's strength.\n",
        "    \"\"\"\n",
        "    if \"delay\" in case_details.lower() and \"no compensation\" in case_details.lower():\n",
        "        return \"The case has a strong basis for legal escalation due to lack of compensation for delays.\"\n",
        "    elif \"lost baggage\" in case_details.lower():\n",
        "        return \"The case has moderate legal strength for compensation claims due to lost baggage.\"\n",
        "    elif \"overbooking\" in case_details.lower():\n",
        "        return \"The case is strong and should be pursued for compensation due to overbooking.\"\n",
        "    else:\n",
        "        return \"The case details are unclear. Recommend gathering more evidence.\"\n",
        "\n",
        "def calculate_airline_penalty(delay_hours: float, passenger_count: int) -> str:\n",
        "    \"\"\"\n",
        "    Calculates the penalty that should be imposed on an airline for delays.\n",
        "\n",
        "    Args:\n",
        "        delay_hours (float): The total hours of delay caused by the airline.\n",
        "        passenger_count (int): The total number of passengers affected.\n",
        "\n",
        "    Returns:\n",
        "        str: A string with the calculated penalty amount.\n",
        "    \"\"\"\n",
        "    penalty_per_hour = 50  # Base penalty per passenger per hour of delay\n",
        "    total_penalty = delay_hours * passenger_count * penalty_per_hour\n",
        "\n",
        "    return f\"The airline should be fined a total of ${total_penalty:.2f} for the delay.\"\n",
        "tools = [calculate_compensation, check_refund_eligibility, legal_case_evaluation, calculate_airline_penalty]\n",
        "llm_with_tools = llm.bind_tools(tools)"
      ],
      "metadata": {
        "colab": {
          "base_uri": "https://localhost:8080/"
        },
        "id": "aLmuSNF6NDlH",
        "outputId": "0cf3b7e6-2817-4279-d31f-c491e71eabee"
      },
      "execution_count": null,
      "outputs": [
        {
          "output_type": "stream",
          "name": "stderr",
          "text": [
            "WARNING:langchain_google_genai._function_utils:Key 'title' is not supported in schema, ignoring\n",
            "WARNING:langchain_google_genai._function_utils:Key 'title' is not supported in schema, ignoring\n",
            "WARNING:langchain_google_genai._function_utils:Key 'title' is not supported in schema, ignoring\n",
            "WARNING:langchain_google_genai._function_utils:Key 'title' is not supported in schema, ignoring\n"
          ]
        }
      ]
    },
    {
      "cell_type": "code",
      "source": [
        "llm_with_tools"
      ],
      "metadata": {
        "colab": {
          "base_uri": "https://localhost:8080/"
        },
        "id": "d9TInQwOHoLf",
        "outputId": "e1a8798b-4d87-4118-e50f-c023793f59c3"
      },
      "execution_count": null,
      "outputs": [
        {
          "output_type": "execute_result",
          "data": {
            "text/plain": [
              "RunnableBinding(bound=ChatGoogleGenerativeAI(model='models/gemini-pro', google_api_key=SecretStr('**********'), client=<google.ai.generativelanguage_v1beta.services.generative_service.client.GenerativeServiceClient object at 0x7fc3b0e4ea10>, default_metadata=()), kwargs={'tools': [{'function_declarations': [{'name': 'calculate_compensation', 'description': \"Calculates the compensation amount for travel delays.\\n\\nArgs:\\n    delay_hours (float): The number of hours the travel was delayed.\\n    ticket_cost (float): The cost of the ticket in USD.\\n    inconvenience_level (str): The level of inconvenience caused ('low', 'medium', 'high').\\n\\nReturns:\\n    str: A string with the calculated compensation amount.\", 'parameters': {'type_': 6, 'description': \"Calculates the compensation amount for travel delays.\\n\\nArgs:\\n    delay_hours (float): The number of hours the travel was delayed.\\n    ticket_cost (float): The cost of the ticket in USD.\\n    inconvenience_level (str): The level of inconvenience caused ('low', 'medium', 'high').\\n\\nReturns:\\n    str: A string with the calculated compensation amount.\", 'properties': {'inconvenience_level': {'type_': 1, 'format_': '', 'description': '', 'nullable': False, 'enum': [], 'max_items': '0', 'min_items': '0', 'properties': {}, 'required': []}, 'ticket_cost': {'type_': 2, 'format_': '', 'description': '', 'nullable': False, 'enum': [], 'max_items': '0', 'min_items': '0', 'properties': {}, 'required': []}, 'delay_hours': {'type_': 2, 'format_': '', 'description': '', 'nullable': False, 'enum': [], 'max_items': '0', 'min_items': '0', 'properties': {}, 'required': []}}, 'required': ['delay_hours', 'ticket_cost', 'inconvenience_level'], 'format_': '', 'nullable': False, 'enum': [], 'max_items': '0', 'min_items': '0'}}, {'name': 'check_refund_eligibility', 'description': \"Determines if a customer is eligible for a refund based on the cancellation reason.\\n\\nArgs:\\n    ticket_cost (float): The cost of the ticket in USD.\\n    cancellation_reason (str): The reason for the cancellation (e.g., 'medical emergency', 'flight cancellation').\\n\\nReturns:\\n    str: A string indicating whether the customer is eligible for a refund.\", 'parameters': {'type_': 6, 'description': \"Determines if a customer is eligible for a refund based on the cancellation reason.\\n\\nArgs:\\n    ticket_cost (float): The cost of the ticket in USD.\\n    cancellation_reason (str): The reason for the cancellation (e.g., 'medical emergency', 'flight cancellation').\\n\\nReturns:\\n    str: A string indicating whether the customer is eligible for a refund.\", 'properties': {'ticket_cost': {'type_': 2, 'format_': '', 'description': '', 'nullable': False, 'enum': [], 'max_items': '0', 'min_items': '0', 'properties': {}, 'required': []}, 'cancellation_reason': {'type_': 1, 'format_': '', 'description': '', 'nullable': False, 'enum': [], 'max_items': '0', 'min_items': '0', 'properties': {}, 'required': []}}, 'required': ['ticket_cost', 'cancellation_reason'], 'format_': '', 'nullable': False, 'enum': [], 'max_items': '0', 'min_items': '0'}}, {'name': 'legal_case_evaluation', 'description': \"Evaluates the legal strength of a travel-related case based on provided details.\\n\\nArgs:\\n    case_details (str): A description of the case including relevant facts and issues.\\n\\nReturns:\\n    str: A string with a legal recommendation or analysis of the case's strength.\", 'parameters': {'type_': 6, 'description': \"Evaluates the legal strength of a travel-related case based on provided details.\\n\\nArgs:\\n    case_details (str): A description of the case including relevant facts and issues.\\n\\nReturns:\\n    str: A string with a legal recommendation or analysis of the case's strength.\", 'properties': {'case_details': {'type_': 1, 'format_': '', 'description': '', 'nullable': False, 'enum': [], 'max_items': '0', 'min_items': '0', 'properties': {}, 'required': []}}, 'required': ['case_details'], 'format_': '', 'nullable': False, 'enum': [], 'max_items': '0', 'min_items': '0'}}, {'name': 'calculate_airline_penalty', 'description': 'Calculates the penalty that should be imposed on an airline for delays.\\n\\nArgs:\\n    delay_hours (float): The total hours of delay caused by the airline.\\n    passenger_count (int): The total number of passengers affected.\\n\\nReturns:\\n    str: A string with the calculated penalty amount.', 'parameters': {'type_': 6, 'description': 'Calculates the penalty that should be imposed on an airline for delays.\\n\\nArgs:\\n    delay_hours (float): The total hours of delay caused by the airline.\\n    passenger_count (int): The total number of passengers affected.\\n\\nReturns:\\n    str: A string with the calculated penalty amount.', 'properties': {'delay_hours': {'type_': 2, 'format_': '', 'description': '', 'nullable': False, 'enum': [], 'max_items': '0', 'min_items': '0', 'properties': {}, 'required': []}, 'passenger_count': {'type_': 3, 'format_': '', 'description': '', 'nullable': False, 'enum': [], 'max_items': '0', 'min_items': '0', 'properties': {}, 'required': []}}, 'required': ['delay_hours', 'passenger_count'], 'format_': '', 'nullable': False, 'enum': [], 'max_items': '0', 'min_items': '0'}}]}]}, config={}, config_factories=[])"
            ]
          },
          "metadata": {},
          "execution_count": 42
        }
      ]
    },
    {
      "cell_type": "code",
      "source": [
        "from langgraph.graph import StateGraph,START,END\n",
        "from langgraph.graph.state import CompiledStateGraph\n",
        "from langgraph.prebuilt import ToolNode,tools_condition\n",
        "from langgraph.graph import MessagesState\n",
        "from langchain_core.messages import AIMessage , HumanMessage, SystemMessage\n",
        "from IPython.display import Image\n",
        "from langgraph.checkpoint.memory import MemorySaver\n",
        "\n",
        "memory = MemorySaver()\n"
      ],
      "metadata": {
        "id": "_eQXK2y0H6c2"
      },
      "execution_count": null,
      "outputs": []
    },
    {
      "cell_type": "code",
      "source": [
        "def assistant (state:MessagesState)->MessagesState:\n",
        "  return {\"messages\":[llm_with_tools.invoke(state[\"messages\"])]}"
      ],
      "metadata": {
        "id": "tbEsqzKeIr1v"
      },
      "execution_count": null,
      "outputs": []
    },
    {
      "cell_type": "code",
      "source": [
        "builder:StateGraph = StateGraph(MessagesState)\n",
        "builder.add_node(\"assistant\",assistant)\n",
        "builder.add_node(\"tools\", ToolNode(tools))\n",
        "builder.add_edge(START, \"assistant\")\n",
        "builder.add_conditional_edges(\"assistant\", tools_condition)\n",
        "builder.add_edge(\"tools\",\"assistant\")\n",
        "graph:CompiledStateGraph = builder.compile(checkpointer=memory)\n",
        "display(Image(graph.get_graph(xray=True).draw_mermaid_png()))"
      ],
      "metadata": {
        "colab": {
          "base_uri": "https://localhost:8080/",
          "height": 266
        },
        "id": "-SWyOFgfI-Yv",
        "outputId": "b13ebdbf-858b-4e9e-ba8a-4762d5a4f373"
      },
      "execution_count": null,
      "outputs": [
        {
          "output_type": "display_data",
          "data": {
            "image/png": "[encoded data removed]",
            "text/plain": [
              "<IPython.core.display.Image object>"
            ]
          },
          "metadata": {}
        }
      ]
    },
    {
      "cell_type": "code",
      "source": [
        "# Configuration for the test\n",
        "config1 = {\"configurable\": {\"thread_id\": \"1\"}}\n",
        "\n",
        "\n",
        "\n",
        "\n"
      ],
      "metadata": {
        "id": "997SYIdbPhpn"
      },
      "execution_count": null,
      "outputs": []
    },
    {
      "cell_type": "code",
      "source": [
        "def stream_graph_updates(user_input: str):\n",
        "    # Configuration for the stream - provide necessary keys for checkpointer\n",
        "    config = {\"configurable\": {\"thread_id\": \"1\"}}\n",
        "    for event in graph.stream({\"messages\": [(\"user\", user_input)]}, config=config):\n",
        "        for value in event.values():\n",
        "            print(\"Assistant:\", value[\"messages\"][-1].content)\n",
        "\n",
        "while True:\n",
        "    try:\n",
        "        user_input = input(\"User: \")\n",
        "        if user_input.lower() in [\"quit\", \"exit\", \"q\"]:\n",
        "            print(\"Goodbye!\")\n",
        "            break\n",
        "\n",
        "        stream_graph_updates(user_input)\n",
        "    except:\n",
        "        # fallback if input() is not available\n",
        "        user_input = \"What do you know about LangGraph?\"\n",
        "        print(\"User: \" + user_input)\n",
        "        stream_graph_updates(user_input)\n",
        "        break"
      ],
      "metadata": {
        "colab": {
          "base_uri": "https://localhost:8080/"
        },
        "id": "4lvZs3dpKBSw",
        "outputId": "3c3e2525-0456-4aa9-83b4-62caa6f590fa"
      },
      "execution_count": null,
      "outputs": [
        {
          "output_type": "stream",
          "name": "stdout",
          "text": [
            "User: do u know langgraph?\n",
            "Assistant: \n",
            "Assistant: The case details are unclear. Recommend gathering more evidence.\n",
            "Assistant: I do not have enough information to provide a legal evaluation of LangGraph.\n",
            "User: im hafiz naveed uddin\n",
            "Assistant: \n",
            "Assistant: The case details are unclear. Recommend gathering more evidence.\n",
            "Assistant: I do not have enough information to provide a legal evaluation of Hafiz Naveed Uddin.\n",
            "User: what is my name?\n",
            "Assistant: I do not have enough information to answer that question. Can you tell me your name?\n",
            "User: what is justice?\n",
            "Assistant: \n",
            "Assistant: The case details are unclear. Recommend gathering more evidence.\n",
            "Assistant: I do not have enough information to provide a legal evaluation of justice.\n",
            "User: tell me all history of chati\n",
            "Assistant: I do not have a history of chats.\n",
            "User: tell me all conversations\n",
            "Assistant: I do not have any conversations to share.\n"
          ]
        }
      ]
    }
  ]
}