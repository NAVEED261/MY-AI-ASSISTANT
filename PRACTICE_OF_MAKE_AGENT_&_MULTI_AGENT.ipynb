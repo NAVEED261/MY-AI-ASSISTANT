{
  "nbformat": 4,
  "nbformat_minor": 0,
  "metadata": {
    "colab": {
      "provenance": [],
      "authorship_tag": "ABX9TyP/9rSITl/c7JL8OQVJ71Qe",
      "include_colab_link": true
    },
    "kernelspec": {
      "name": "python3",
      "display_name": "Python 3"
    },
    "language_info": {
      "name": "python"
    }
  },
  "cells": [
    {
      "cell_type": "markdown",
      "metadata": {
        "id": "view-in-github",
        "colab_type": "text"
      },
      "source": [
        "<a href=\"https://colab.research.google.com/github/NAVEED261/MY-AI-ASSISTANT/blob/main/PRACTICE_OF_MAKE_AGENT_%26_MULTI_AGENT.ipynb\" target=\"_parent\"><img src=\"https://colab.research.google.com/assets/colab-badge.svg\" alt=\"Open In Colab\"/></a>"
      ]
    },
    {
      "cell_type": "code",
      "execution_count": 68,
      "metadata": {
        "id": "rFe-ky0UWNTs"
      },
      "outputs": [],
      "source": [
        "%%capture --no-stderr\n",
        "%pip install --q -U langgraph\n"
      ]
    },
    {
      "cell_type": "code",
      "source": [
        "from typing_extensions import TypedDict\n",
        "from typing_extensions import TypedDict\n",
        "from langgraph.graph import StateGraph , START, END\n",
        "from langgraph.graph.state import CompiledStateGraph\n",
        "from IPython.display import display, Image\n"
      ],
      "metadata": {
        "id": "RTG_qiGtWaNc"
      },
      "execution_count": 69,
      "outputs": []
    },
    {
      "cell_type": "code",
      "source": [
        "from typing import TypedDict\n",
        "\n",
        "class naveed(TypedDict):\n",
        "  input:str"
      ],
      "metadata": {
        "id": "0GtDZpS7Wh15"
      },
      "execution_count": 31,
      "outputs": []
    },
    {
      "cell_type": "code",
      "source": [
        "def node_1(state:naveed)->naveed:\n",
        "  print(\"node_1 state\",state)\n",
        "  return {\"input\":state + \" i live in karachi\"}\n",
        "\n",
        "def node_2(state:naveed)->naveed:\n",
        "  print(\"node_2 sate\", state)\n",
        "  return {\"input\":state[\"input\"]+\"and my institute is UIT Karachi\"}\n",
        "\n",
        "def node_3(state:naveed)->naveed: # Fixed: Function name changed from node_2 to node_3 to avoid redefinition.\n",
        "  print(\"node_3 sate\", state) # Fixed: Indented this line and the following line to be part of the function body.\n",
        "  return {\"input\":state[\"input\"]+\"i have two kids\"}"
      ],
      "metadata": {
        "id": "qEaDaJDqWkrB"
      },
      "execution_count": 70,
      "outputs": []
    },
    {
      "cell_type": "code",
      "source": [
        "import random\n",
        "from typing_extensions import Literal\n",
        "\n",
        "random.random()\n",
        "number: float = random.random()\n",
        "if number < 0.5:\n",
        "    print(\"go to node_2\")\n",
        "else:\n",
        "    print(\"go to node_3\")\n",
        "\n",
        "def decide_mood(state: naveed) -> Literal[\"umaima\", \"aqsa\"]:\n",
        "    \"\"\"\n",
        "    This function decides the next node based on a random number.\n",
        "    It now returns 'umaima' or 'aqsa', which are the names of the nodes in the graph.\n",
        "    \"\"\"\n",
        "    if random.random() < 0.5:\n",
        "        return \"umaima\"  # Changed from \"node_2\" to \"umaima\"\n",
        "    else:\n",
        "        return \"aqsa\"  # Changed from \"node_3\" to \"aqsa\""
      ],
      "metadata": {
        "colab": {
          "base_uri": "https://localhost:8080/"
        },
        "id": "O6qxch-sWmqZ",
        "outputId": "bb0c2e50-c309-48d0-d689-40de5e895bb3"
      },
      "execution_count": 71,
      "outputs": [
        {
          "output_type": "stream",
          "name": "stdout",
          "text": [
            "go to node_3\n"
          ]
        }
      ]
    },
    {
      "cell_type": "code",
      "source": [
        "# build graph\n",
        "builder:StateGraph=StateGraph(state_schema=naveed)\n",
        "builder.add_node(\"fatima\",node_1) # Changed node_add to add_node\n",
        "builder.add_node(\"umaima\",node_2) # Changed node_add to add_node\n",
        "builder.add_node(\"aqsa\",node_3) # Changed node_add to add_node"
      ],
      "metadata": {
        "colab": {
          "base_uri": "https://localhost:8080/"
        },
        "id": "SiCML0D3W6th",
        "outputId": "924b02f4-4b68-4af4-f8d2-57ee52b538a6"
      },
      "execution_count": 72,
      "outputs": [
        {
          "output_type": "execute_result",
          "data": {
            "text/plain": [
              "<langgraph.graph.state.StateGraph at 0x797d6673bdf0>"
            ]
          },
          "metadata": {},
          "execution_count": 72
        }
      ]
    },
    {
      "cell_type": "code",
      "source": [
        "builder.add_edge(START,\"fatima\")\n",
        "builder.add_conditional_edges(\"fatima\",decide_mood)\n",
        "builder.add_edge(\"umaima\",END)\n",
        "builder.add_edge(\"aqsa\",END)\n"
      ],
      "metadata": {
        "colab": {
          "base_uri": "https://localhost:8080/"
        },
        "id": "ZQvPlepgXOgL",
        "outputId": "8e3b3451-9453-4606-822a-2b6d0d3c4359"
      },
      "execution_count": 73,
      "outputs": [
        {
          "output_type": "execute_result",
          "data": {
            "text/plain": [
              "<langgraph.graph.state.StateGraph at 0x797d6673bdf0>"
            ]
          },
          "metadata": {},
          "execution_count": 73
        }
      ]
    },
    {
      "cell_type": "code",
      "source": [
        "graph = builder.compile()"
      ],
      "metadata": {
        "id": "P-QX23WqYRjr"
      },
      "execution_count": 74,
      "outputs": []
    },
    {
      "cell_type": "code",
      "source": [
        "display(Image(graph.get_graph().draw_mermaid_png()))"
      ],
      "metadata": {
        "colab": {
          "base_uri": "https://localhost:8080/",
          "height": 350
        },
        "id": "di_MgTAtakPy",
        "outputId": "459905a6-b812-4a0f-ff56-031b1eac276b"
      },
      "execution_count": 75,
      "outputs": [
        {
          "output_type": "display_data",
          "data": {
            "image/jpeg": "[encoded data removed]",
            "text/plain": [
              "<IPython.core.display.Image object>"
            ]
          },
          "metadata": {}
        }
      ]
    },
    {
      "cell_type": "code",
      "source": [
        "# prompt: plz solve of last prompt error\n",
        "\n",
        "from typing_extensions import TypedDict\n",
        "from langgraph.graph import StateGraph , START, END\n",
        "from langgraph.graph.state import CompiledStateGraph\n",
        "from IPython.display import display, Image\n",
        "from typing import TypedDict\n",
        "import random\n",
        "from typing_extensions import Literal\n",
        "\n",
        "\n",
        "\n",
        "class naveed(TypedDict):\n",
        "  input:str\n",
        "def node_1(state:naveed)->naveed:\n",
        "  print(\"node_1 state\",state)\n",
        "  return {\"input\":state[\"input\"] + \" i live in karachi\"}\n",
        "\n",
        "def node_2(state:naveed)->naveed:\n",
        "  print(\"node_2 sate\", state)\n",
        "  return {\"input\":state[\"input\"]+\"and my institute is UIT Karachi\"}\n",
        "\n",
        "def node_3(state:naveed)->naveed:\n",
        "  print(\"node_3 sate\", state)\n",
        "  return {\"input\":state[\"input\"]+\"i have two kids\"}\n",
        "\n",
        "random.random()\n",
        "number: float = random.random()\n",
        "if number < 0.5:\n",
        "    print(\"go to node_2\")\n",
        "else:\n",
        "    print(\"go to node_3\")\n",
        "\n",
        "def decide_mood(state: naveed) -> Literal[\"umaima\", \"aqsa\"]:\n",
        "    \"\"\"\n",
        "    This function decides the next node based on a random number.\n",
        "    It now returns 'umaima' or 'aqsa', which are the names of the nodes in the graph.\n",
        "    \"\"\"\n",
        "    if random.random() < 0.5:\n",
        "        return \"umaima\"\n",
        "    else:\n",
        "        return \"aqsa\"\n",
        "\n",
        "# build graph\n",
        "builder:StateGraph=StateGraph(state_schema=naveed)\n",
        "builder.add_node(\"fatima\",node_1)\n",
        "builder.add_node(\"umaima\",node_2)\n",
        "builder.add_node(\"aqsa\",node_3)\n",
        "builder.add_edge(START,\"fatima\")\n",
        "builder.add_conditional_edges(\"fatima\",decide_mood)\n",
        "builder.add_edge(\"umaima\",END)\n",
        "builder.add_edge(\"aqsa\",END)\n",
        "\n",
        "graph = builder.compile()\n",
        "display(Image(graph.get_graph().draw_mermaid_png()))\n",
        "graph.invoke({\"input\" : \"Hi, this is fatima and now i i want to go umaima.\"})"
      ],
      "metadata": {
        "colab": {
          "base_uri": "https://localhost:8080/",
          "height": 423
        },
        "id": "V0Vdrtzvbb4T",
        "outputId": "23e16a91-2bf5-49e2-f877-f2cff8165a2c"
      },
      "execution_count": 79,
      "outputs": [
        {
          "output_type": "stream",
          "name": "stdout",
          "text": [
            "go to node_2\n"
          ]
        },
        {
          "output_type": "display_data",
          "data": {
            "image/jpeg": "[encoded data removed]",
            "text/plain": [
              "<IPython.core.display.Image object>"
            ]
          },
          "metadata": {}
        },
        {
          "output_type": "stream",
          "name": "stdout",
          "text": [
            "node_1 state {'input': 'Hi, this is fatima and now i i want to go umaima.'}\n",
            "node_2 sate {'input': 'Hi, this is fatima and now i i want to go umaima. i live in karachi'}\n"
          ]
        },
        {
          "output_type": "execute_result",
          "data": {
            "text/plain": [
              "{'input': 'Hi, this is fatima and now i i want to go umaima. i live in karachiand my institute is UIT Karachi'}"
            ]
          },
          "metadata": {},
          "execution_count": 79
        }
      ]
    },
    {
      "cell_type": "code",
      "source": [
        "graph.invoke({\"input\" : \"ASSALAMUALYKUM.\"})"
      ],
      "metadata": {
        "colab": {
          "base_uri": "https://localhost:8080/"
        },
        "id": "e2vN5mlYbl3T",
        "outputId": "4c55279b-ea5d-4030-a0ff-28efd1af767f"
      },
      "execution_count": 80,
      "outputs": [
        {
          "output_type": "stream",
          "name": "stdout",
          "text": [
            "node_1 state {'input': 'ASSALAMUALYKUM.'}\n",
            "node_3 sate {'input': 'ASSALAMUALYKUM. i live in karachi'}\n"
          ]
        },
        {
          "output_type": "execute_result",
          "data": {
            "text/plain": [
              "{'input': 'ASSALAMUALYKUM. i live in karachii have two kids'}"
            ]
          },
          "metadata": {},
          "execution_count": 80
        }
      ]
    }
  ]
}