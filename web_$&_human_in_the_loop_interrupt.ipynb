{
  "nbformat": 4,
  "nbformat_minor": 0,
  "metadata": {
    "colab": {
      "provenance": [],
      "name": "web $&  human-in-the-loop-interrupt.ipynb",
      "authorship_tag": "ABX9TyMn4aqE49OgpTJ261ffLjaA",
      "include_colab_link": true
    },
    "kernelspec": {
      "name": "python3",
      "display_name": "Python 3"
    },
    "language_info": {
      "name": "python"
    }
  },
  "cells": [
    {
      "cell_type": "markdown",
      "metadata": {
        "id": "view-in-github",
        "colab_type": "text"
      },
      "source": [
        "<a href=\"https://colab.research.google.com/github/NAVEED261/MY-AI-ASSISTANT/blob/main/web_%24%26_human_in_the_loop_interrupt.ipynb\" target=\"_parent\"><img src=\"https://colab.research.google.com/assets/colab-badge.svg\" alt=\"Open In Colab\"/></a>"
      ]
    },
    {
      "cell_type": "code",
      "execution_count": null,
      "metadata": {
        "id": "L7T69HUr6vHy"
      },
      "outputs": [],
      "source": [
        "%%capture --no-stderr\n",
        "!pip install --upgrade langchain langchain_google_genai langgraph tavily-python langchain_community langchain_core"
      ]
    },
    {
      "cell_type": "code",
      "source": [
        "import os\n",
        "from google.colab import userdata\n",
        "Gemnai_api_key = userdata.get('GOOGLE_API_KEY')\n",
        "\n",
        "from langchain_google_genai import ChatGoogleGenerativeAI\n",
        "llm: ChatGoogleGenerativeAI = ChatGoogleGenerativeAI (\n",
        "    model = \"gemini-pro\",  # Changed the model name to a valid model identifier\n",
        "    api_key = Gemnai_api_key\n",
        ")\n",
        "llm.invoke(\"i am hafiz naveed uddin from karachi\")"
      ],
      "metadata": {
        "colab": {
          "base_uri": "https://localhost:8080/"
        },
        "id": "aeQKLD-o66kE",
        "outputId": "0aaab020-4985-4930-a400-0932be5d9570"
      },
      "execution_count": null,
      "outputs": [
        {
          "output_type": "execute_result",
          "data": {
            "text/plain": [
              "AIMessage(content=\"Hello Hafiz Naveed Uddin from Karachi! It's nice to meet you. I hope you are having a great day. If you have any questions or need any assistance, please feel free to ask. I'm here to help.\", additional_kwargs={}, response_metadata={'prompt_feedback': {'block_reason': 0, 'safety_ratings': []}, 'finish_reason': 'STOP', 'safety_ratings': [{'category': 'HARM_CATEGORY_SEXUALLY_EXPLICIT', 'probability': 'NEGLIGIBLE', 'blocked': False}, {'category': 'HARM_CATEGORY_HATE_SPEECH', 'probability': 'NEGLIGIBLE', 'blocked': False}, {'category': 'HARM_CATEGORY_HARASSMENT', 'probability': 'NEGLIGIBLE', 'blocked': False}, {'category': 'HARM_CATEGORY_DANGEROUS_CONTENT', 'probability': 'NEGLIGIBLE', 'blocked': False}]}, id='run-fe23f5ae-af70-4ad2-a860-655088768ae8-0', usage_metadata={'input_tokens': 12, 'output_tokens': 50, 'total_tokens': 62, 'input_token_details': {'cache_read': 0}})"
            ]
          },
          "metadata": {},
          "execution_count": 266
        }
      ]
    },
    {
      "cell_type": "code",
      "source": [
        "LANGCHAIN_API_KEY = userdata.get('memory-enabled-agent')  # LangSmith API key\n",
        "\n",
        "# Configure environment variables for LangChain and LangSmith\n",
        "os.environ[\"LANGCHAIN_TRACING_V2\"] = \"true\"  # Enable LangSmith tracing\n",
        "os.environ[\"LANGCHAIN_PROJECT\"] = \"memory-enabled-agent\"  # Set LangSmith project name\n",
        "os.environ[\"LANGCHAIN_API_KEY\"] = LANGCHAIN_API_KEY  # Set LangSmith API key"
      ],
      "metadata": {
        "id": "7SX5aujn7KKM"
      },
      "execution_count": null,
      "outputs": []
    },
    {
      "cell_type": "code",
      "source": [
        "import os\n",
        "from google.colab import userdata\n",
        "\n",
        "# ... (other imports)\n",
        "\n",
        "# Get the Tavily API key\n",
        "tavily_api_key = userdata.get(\"Tavily_Api_Key\")\n",
        "\n",
        "# Set the environment variable with the actual API key value\n",
        "os.environ[\"TAVILY_API_KEY\"] = tavily_api_key  # Use correct environment variable name\n",
        "\n",
        "# ... (other code)\n",
        "\n",
        "from langchain_community.tools.tavily_search import TavilySearchResults\n",
        "\n",
        "# Initialize the tool with the API key\n",
        "# Using the environment variable, no need to pass it directly\n",
        "tool = TavilySearchResults(max_results=2)\n",
        "# Alternatively, pass directly: tool = TavilySearchResults(tavily_api_key=tavily_api_key, max_results=2)\n",
        "\n",
        "tools = [tool]\n",
        "tool.invoke(\"What's a 'node' in LangGraph?\")\n",
        "tool.invoke(\"What's a 'node' in LangGraph?\")"
      ],
      "metadata": {
        "colab": {
          "base_uri": "https://localhost:8080/"
        },
        "id": "TNYiL0Sh7OYM",
        "outputId": "1a60232a-c6da-4c3b-d298-85df796645a9"
      },
      "execution_count": null,
      "outputs": [
        {
          "output_type": "execute_result",
          "data": {
            "text/plain": [
              "[{'url': 'https://medium.com/@cplog/introduction-to-langgraph-a-beginners-guide-14f9be027141',\n",
              "  'content': 'Nodes: Nodes are the building blocks of your LangGraph. Each node represents a function or a computation step. You define nodes to perform specific tasks, such as processing input, making'},\n",
              " {'url': 'https://www.datacamp.com/tutorial/langgraph-tutorial',\n",
              "  'content': \"In LangGraph, each node represents an LLM agent, and the edges are the communication channels between these agents. This structure allows for clear and manageable workflows, where each agent performs specific tasks and passes information to other agents as needed. State management. One of LangGraph's standout features is its automatic state\"}]"
            ]
          },
          "metadata": {},
          "execution_count": 268
        }
      ]
    },
    {
      "cell_type": "code",
      "source": [
        "llm_with_tools=llm.bind_tools(tools)"
      ],
      "metadata": {
        "id": "rY8kHOzp7kRM"
      },
      "execution_count": null,
      "outputs": []
    },
    {
      "cell_type": "code",
      "source": [
        "response = llm_with_tools.invoke(\"what is langgraph?\")\n",
        "response.pretty_print()"
      ],
      "metadata": {
        "colab": {
          "base_uri": "https://localhost:8080/"
        },
        "id": "s3VJoE-q7qaT",
        "outputId": "b1535097-4fba-4149-c47b-1e0164918f92"
      },
      "execution_count": null,
      "outputs": [
        {
          "output_type": "stream",
          "name": "stdout",
          "text": [
            "==================================\u001b[1m Ai Message \u001b[0m==================================\n",
            "Tool Calls:\n",
            "  tavilly_search_results_json (ed743859-1bc6-400e-9f39-c587dfb51ab4)\n",
            " Call ID: ed743859-1bc6-400e-9f39-c587dfb51ab4\n",
            "  Args:\n",
            "    query: what is langgraph\n"
          ]
        }
      ]
    },
    {
      "cell_type": "code",
      "source": [
        "from langgraph.graph import START, END , StateGraph\n",
        "from langgraph.prebuilt import tools_condition, ToolNode\n",
        "from IPython.display import Image, display\n",
        "from langgraph.graph.state import CompiledStateGraph\n",
        "from langgraph.checkpoint.memory import MemorySaver\n",
        "memory: MemorySaver = MemorySaver()\n",
        "from langgraph.graph.message import MessagesState"
      ],
      "metadata": {
        "id": "AOM8AnMZ8BfT"
      },
      "execution_count": null,
      "outputs": []
    },
    {
      "cell_type": "code",
      "source": [
        "def llm (state:MessagesState)->MessagesState:\n",
        "  return{\"messages\":[llm_with_tools.invoke(state[\"messages\"])]}"
      ],
      "metadata": {
        "id": "nECMqyVM8QXk"
      },
      "execution_count": null,
      "outputs": []
    },
    {
      "cell_type": "code",
      "source": [
        "builder:StateGraph=StateGraph(MessagesState)\n",
        "builder.add_node(\"llm\",llm)\n",
        "builder.add_node(\"tools\",ToolNode(tools))\n",
        "builder.add_edge(START, \"llm\")\n",
        "builder.add_conditional_edges(\"llm\", tools_condition)\n",
        "builder.add_edge(\"tools\",\"llm\")"
      ],
      "metadata": {
        "colab": {
          "base_uri": "https://localhost:8080/"
        },
        "id": "0il_xt4287Pj",
        "outputId": "10c73fb7-6d49-46db-d45b-c89ee8e7fc68"
      },
      "execution_count": null,
      "outputs": [
        {
          "output_type": "execute_result",
          "data": {
            "text/plain": [
              "<langgraph.graph.state.StateGraph at 0x790096b2b220>"
            ]
          },
          "metadata": {},
          "execution_count": 273
        }
      ]
    },
    {
      "cell_type": "code",
      "source": [
        "graph: CompiledStateGraph = builder.compile(checkpointer=memory, interrupt_before=[\"tools\"])\n",
        "\n",
        "# Display graph\n",
        "display(Image(graph.get_graph(xray=True).draw_mermaid_png()))\n",
        "\n"
      ],
      "metadata": {
        "colab": {
          "base_uri": "https://localhost:8080/",
          "height": 308
        },
        "id": "uDMbyjwiXW69",
        "outputId": "f4665176-b445-42e6-9d7d-371b3006e6f2"
      },
      "execution_count": null,
      "outputs": [
        {
          "output_type": "display_data",
          "data": {
            "image/png": "[encoded data removed]",
            "text/plain": [
              "<IPython.core.display.Image object>"
            ]
          },
          "metadata": {}
        }
      ]
    },
    {
      "cell_type": "code",
      "source": [
        "from langchain.schema.messages import ToolMessage, HumanMessage, AIMessage  # Import from langchain.schema.messages\n"
      ],
      "metadata": {
        "id": "aaQZ59QN-H1V"
      },
      "execution_count": null,
      "outputs": []
    },
    {
      "cell_type": "code",
      "source": [
        "config2 = {\"configurable\": {\"thread_id\": \"2\"}} # Changed config1 to a dictionary with the correct structure\n",
        "message = graph.invoke({\"messages\":[HumanMessage(content = \"i m learning Generative ai\")]}, config2)\n",
        "for m in message[\"messages\"]:\n",
        "  m.pretty_print()\n"
      ],
      "metadata": {
        "colab": {
          "base_uri": "https://localhost:8080/"
        },
        "id": "P4BdSZCyXZIC",
        "outputId": "b0e7ed50-4d26-4e10-fc01-7defb1efa278"
      },
      "execution_count": null,
      "outputs": [
        {
          "output_type": "stream",
          "name": "stdout",
          "text": [
            "================================\u001b[1m Human Message \u001b[0m=================================\n",
            "\n",
            "i m learning Generative ai\n",
            "==================================\u001b[1m Ai Message \u001b[0m==================================\n",
            "Tool Calls:\n",
            "  tavily_search_results_json (8e9ae2e1-5a3a-41ed-8495-2776ca3dfa22)\n",
            " Call ID: 8e9ae2e1-5a3a-41ed-8495-2776ca3dfa22\n",
            "  Args:\n",
            "    query: What is generative AI\n"
          ]
        }
      ]
    },
    {
      "cell_type": "code",
      "source": [
        "snapshot =graph.get_state(config2)\n",
        "snapshot.next\n"
      ],
      "metadata": {
        "colab": {
          "base_uri": "https://localhost:8080/"
        },
        "id": "bAHihQEMXnoa",
        "outputId": "75807d8c-fa03-48d8-e68f-8d254e65b877"
      },
      "execution_count": null,
      "outputs": [
        {
          "output_type": "execute_result",
          "data": {
            "text/plain": [
              "('tools',)"
            ]
          },
          "metadata": {},
          "execution_count": 282
        }
      ]
    },
    {
      "cell_type": "code",
      "source": [
        "m = snapshot.values[\"messages\"][-1]\n",
        "m.pretty_print()"
      ],
      "metadata": {
        "colab": {
          "base_uri": "https://localhost:8080/"
        },
        "id": "K8r0z4b0YM-8",
        "outputId": "142884e5-aa72-4e69-ab64-9905da711616"
      },
      "execution_count": null,
      "outputs": [
        {
          "output_type": "stream",
          "name": "stdout",
          "text": [
            "==================================\u001b[1m Ai Message \u001b[0m==================================\n",
            "Tool Calls:\n",
            "  tavily_search_results_json (8e9ae2e1-5a3a-41ed-8495-2776ca3dfa22)\n",
            " Call ID: 8e9ae2e1-5a3a-41ed-8495-2776ca3dfa22\n",
            "  Args:\n",
            "    query: What is generative AI\n"
          ]
        }
      ]
    },
    {
      "cell_type": "code",
      "source": [
        "m.tool_calls[0][\"args\"][\"query\"] = \"LangGraph human-in-the-loop workflow\"\n",
        "\n",
        "# Then create your new_message with the updated tool_call\n",
        "new_message = AIMessage(\n",
        "    content=m.content,\n",
        "    tool_calls=m.tool_calls,  # Use the updated tool_calls from 'm'\n",
        "    id=m.id,\n",
        ")\n",
        "\n",
        "# The rest of your code remains the same\n",
        "graph.update_state(config2, {\"messages\": [new_message]})"
      ],
      "metadata": {
        "colab": {
          "base_uri": "https://localhost:8080/"
        },
        "id": "YoKm8a6TZGXd",
        "outputId": "75cdf462-5886-4ea4-8f47-00314316db77"
      },
      "execution_count": null,
      "outputs": [
        {
          "output_type": "execute_result",
          "data": {
            "text/plain": [
              "{'configurable': {'thread_id': '2',\n",
              "  'checkpoint_ns': '',\n",
              "  'checkpoint_id': '1efb20d3-ad9e-60ca-8002-b1cfa210bd4a'}}"
            ]
          },
          "metadata": {},
          "execution_count": 284
        }
      ]
    },
    {
      "cell_type": "code",
      "source": [
        "for m in graph.get_state(config2).values[\"messages\"]:\n",
        "  m.pretty_print()"
      ],
      "metadata": {
        "colab": {
          "base_uri": "https://localhost:8080/"
        },
        "id": "jMqT5uaBeBJU",
        "outputId": "16ceb3ec-3749-4a86-c902-9d3b762b4786"
      },
      "execution_count": null,
      "outputs": [
        {
          "output_type": "stream",
          "name": "stdout",
          "text": [
            "================================\u001b[1m Human Message \u001b[0m=================================\n",
            "\n",
            "i m learning Generative ai\n",
            "==================================\u001b[1m Ai Message \u001b[0m==================================\n",
            "Tool Calls:\n",
            "  tavily_search_results_json (8e9ae2e1-5a3a-41ed-8495-2776ca3dfa22)\n",
            " Call ID: 8e9ae2e1-5a3a-41ed-8495-2776ca3dfa22\n",
            "  Args:\n",
            "    query: LangGraph human-in-the-loop workflow\n",
            "=================================\u001b[1m Tool Message \u001b[0m=================================\n",
            "Name: tavily_search_results_json\n",
            "\n",
            "[{\"url\": \"https://www.youtube.com/watch?v=9BPCV5TYPmg\", \"content\": \"In this video, I'll show you how to handle persistence with LangGraph, enabling a unique Human-in-the-Loop workflow. This approach allows a human to grant an\"}, {\"url\": \"https://www.js-craft.io/blog/langgraph-human-loop-javascript/\", \"content\": \"This is part 2 of the series dedicated to using Human In The Loop mechanisms in LangGraph. You can find the first part here - Human-in-the-Loop in LangGraph. Example Setup A common Human In The Loop (HITL) interaction pattern involves the AI agent pausing to request human input, allowing for clarification and feedback. In LangGraph, … Continue reading \\\"LangGraph Human In The Loop\"}]\n",
            "==================================\u001b[1m Ai Message \u001b[0m==================================\n",
            "\n",
            "I found some results about LangGraph human-in-the-loop workflow:\n",
            "- [LangGraph Human In The Loop Workflow - YouTube](https://www.youtube.com/watch?v=9BPCV5TYPmg)\n",
            "- [LangGraph Human In The Loop - JS-Craft](https://www.js-craft.io/blog/langgraph-human-loop-javascript/)\n"
          ]
        }
      ]
    },
    {
      "cell_type": "code",
      "source": [
        "events = graph.stream(None, config2, stream_mode=\"values\")\n",
        "for event in events:\n",
        "    if \"messages\" in event:\n",
        "        event[\"messages\"][-1].pretty_print()"
      ],
      "metadata": {
        "colab": {
          "base_uri": "https://localhost:8080/"
        },
        "id": "I3qI6uEncxZC",
        "outputId": "4db9eccf-48fd-47a5-fac0-89be4311d771"
      },
      "execution_count": null,
      "outputs": [
        {
          "output_type": "stream",
          "name": "stdout",
          "text": [
            "==================================\u001b[1m Ai Message \u001b[0m==================================\n",
            "Tool Calls:\n",
            "  tavily_search_results_json (8e9ae2e1-5a3a-41ed-8495-2776ca3dfa22)\n",
            " Call ID: 8e9ae2e1-5a3a-41ed-8495-2776ca3dfa22\n",
            "  Args:\n",
            "    query: LangGraph human-in-the-loop workflow\n",
            "=================================\u001b[1m Tool Message \u001b[0m=================================\n",
            "Name: tavily_search_results_json\n",
            "\n",
            "[{\"url\": \"https://www.youtube.com/watch?v=9BPCV5TYPmg\", \"content\": \"In this video, I'll show you how to handle persistence with LangGraph, enabling a unique Human-in-the-Loop workflow. This approach allows a human to grant an\"}, {\"url\": \"https://www.js-craft.io/blog/langgraph-human-loop-javascript/\", \"content\": \"This is part 2 of the series dedicated to using Human In The Loop mechanisms in LangGraph. You can find the first part here - Human-in-the-Loop in LangGraph. Example Setup A common Human In The Loop (HITL) interaction pattern involves the AI agent pausing to request human input, allowing for clarification and feedback. In LangGraph, … Continue reading \\\"LangGraph Human In The Loop\"}]\n",
            "==================================\u001b[1m Ai Message \u001b[0m==================================\n",
            "\n",
            "I found some results about LangGraph human-in-the-loop workflow:\n",
            "- [LangGraph Human In The Loop Workflow - YouTube](https://www.youtube.com/watch?v=9BPCV5TYPmg)\n",
            "- [LangGraph Human In The Loop - JS-Craft](https://www.js-craft.io/blog/langgraph-human-loop-javascript/)\n"
          ]
        }
      ]
    },
    {
      "cell_type": "code",
      "source": [],
      "metadata": {
        "id": "XdIwkerrd-y9"
      },
      "execution_count": null,
      "outputs": []
    }
  ]
}