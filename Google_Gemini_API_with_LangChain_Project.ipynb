{
  "nbformat": 4,
  "nbformat_minor": 0,
  "metadata": {
    "colab": {
      "provenance": [],
      "authorship_tag": "ABX9TyNvtAsa1hjk8KGufBwXzH4O",
      "include_colab_link": true
    },
    "kernelspec": {
      "name": "python3",
      "display_name": "Python 3"
    },
    "language_info": {
      "name": "python"
    }
  },
  "cells": [
    {
      "cell_type": "markdown",
      "metadata": {
        "id": "view-in-github",
        "colab_type": "text"
      },
      "source": [
        "<a href=\"https://colab.research.google.com/github/NAVEED261/MY-AI-ASSISTANT/blob/main/Google_Gemini_API_with_LangChain_Project.ipynb\" target=\"_parent\"><img src=\"https://colab.research.google.com/assets/colab-badge.svg\" alt=\"Open In Colab\"/></a>"
      ]
    },
    {
      "cell_type": "code",
      "source": [],
      "metadata": {
        "id": "2FPPi3ozeiEH"
      },
      "execution_count": null,
      "outputs": []
    },
    {
      "cell_type": "markdown",
      "source": [
        "# ***`Google Gemini API with LangChain Project`***\n",
        "\n",
        "\n",
        "\n",
        "\n",
        "Environment Setup and Utility Functions\n",
        "Install Required Package\n",
        "LangChain: A framework for building applications using large language models, facilitating the creation of language model pipelines.\n",
        "\n",
        "LangChain Google GenAI Integration: An integration with Google's Generative AI tools, allowing for the use of advanced language models within the LangChain framework."
      ],
      "metadata": {
        "id": "gP-XyDAOeyMG"
      }
    },
    {
      "cell_type": "code",
      "source": [
        "# Install the LangChain and LangChain's Google GenAI integration\n",
        "# `-q` keeps the output minimal.\n",
        "# `-U` ensures you are using the latest versions of the packages\n",
        "%pip install -q -U langchain\n",
        "%pip install -q -U langchain-google-genai"
      ],
      "metadata": {
        "colab": {
          "base_uri": "https://localhost:8080/"
        },
        "id": "muOMaZqme_RF",
        "outputId": "151b55c5-13ce-4943-ff82-f6951a6f9152"
      },
      "execution_count": 2,
      "outputs": [
        {
          "output_type": "stream",
          "name": "stdout",
          "text": [
            "\u001b[2K     \u001b[90m━━━━━━━━━━━━━━━━━━━━━━━━━━━━━━━━━━━━━━━━\u001b[0m \u001b[32m50.4/50.4 kB\u001b[0m \u001b[31m3.4 MB/s\u001b[0m eta \u001b[36m0:00:00\u001b[0m\n",
            "\u001b[2K   \u001b[90m━━━━━━━━━━━━━━━━━━━━━━━━━━━━━━━━━━━━━━━━\u001b[0m \u001b[32m1.0/1.0 MB\u001b[0m \u001b[31m45.6 MB/s\u001b[0m eta \u001b[36m0:00:00\u001b[0m\n",
            "\u001b[2K   \u001b[90m━━━━━━━━━━━━━━━━━━━━━━━━━━━━━━━━━━━━━━━━\u001b[0m \u001b[32m399.9/399.9 kB\u001b[0m \u001b[31m27.2 MB/s\u001b[0m eta \u001b[36m0:00:00\u001b[0m\n",
            "\u001b[2K   \u001b[90m━━━━━━━━━━━━━━━━━━━━━━━━━━━━━━━━━━━━━━━━\u001b[0m \u001b[32m290.4/290.4 kB\u001b[0m \u001b[31m18.1 MB/s\u001b[0m eta \u001b[36m0:00:00\u001b[0m\n",
            "\u001b[2K   \u001b[90m━━━━━━━━━━━━━━━━━━━━━━━━━━━━━━━━━━━━━━━━\u001b[0m \u001b[32m76.4/76.4 kB\u001b[0m \u001b[31m5.4 MB/s\u001b[0m eta \u001b[36m0:00:00\u001b[0m\n",
            "\u001b[2K   \u001b[90m━━━━━━━━━━━━━━━━━━━━━━━━━━━━━━━━━━━━━━━━\u001b[0m \u001b[32m77.9/77.9 kB\u001b[0m \u001b[31m5.8 MB/s\u001b[0m eta \u001b[36m0:00:00\u001b[0m\n",
            "\u001b[2K   \u001b[90m━━━━━━━━━━━━━━━━━━━━━━━━━━━━━━━━━━━━━━━━\u001b[0m \u001b[32m141.9/141.9 kB\u001b[0m \u001b[31m10.8 MB/s\u001b[0m eta \u001b[36m0:00:00\u001b[0m\n",
            "\u001b[2K   \u001b[90m━━━━━━━━━━━━━━━━━━━━━━━━━━━━━━━━━━━━━━━━\u001b[0m \u001b[32m58.3/58.3 kB\u001b[0m \u001b[31m4.3 MB/s\u001b[0m eta \u001b[36m0:00:00\u001b[0m\n",
            "\u001b[?25h"
          ]
        }
      ]
    },
    {
      "cell_type": "markdown",
      "source": [
        "# Resetting the Jupyter Notebook ***Kernel***"
      ],
      "metadata": {
        "id": "LzqmIUoKfRKl"
      }
    },
    {
      "cell_type": "code",
      "source": [
        "# Import the IPython library to access its application instance\n",
        "import IPython\n",
        "\n",
        "# Retrieve the current IPython application instance\n",
        "app = IPython.Application.instance()\n",
        "\n",
        "# Perform a complete shutdown of the current IPython kernel including restarting the kernel\n",
        "# it will help the environment to access the new packages\n",
        "app.kernel.do_shutdown(True)"
      ],
      "metadata": {
        "colab": {
          "base_uri": "https://localhost:8080/"
        },
        "id": "CQ95icP0fTXG",
        "outputId": "5220c006-ccb0-4226-af34-0db2f4750937"
      },
      "execution_count": 3,
      "outputs": [
        {
          "output_type": "execute_result",
          "data": {
            "text/plain": [
              "{'status': 'ok', 'restart': True}"
            ]
          },
          "metadata": {},
          "execution_count": 3
        }
      ]
    },
    {
      "cell_type": "markdown",
      "source": [
        "# ***Defining Helper Functions***\n",
        "When a model returns simple text, it often lacks the formatting needed to make the content easily digestible. By using markdown formatting, we can enhance the presentation of this plain text, transforming it into a structured and visually appealing format. For instance, converting bullet points into asterisks creates clear lists, while indenting text as blockquotes emphasizes important information. This improved formatting not only enhances readability but also helps users engage more effectively with the content, allowing them to grasp key ideas quickly and easily. Overall, proper formatting is essential for conveying information clearly and making the user experience more enjoyable."
      ],
      "metadata": {
        "id": "0k-rV1wdfc69"
      }
    },
    {
      "cell_type": "code",
      "source": [
        "# Import the textwrap module for text formatting and indentation\n",
        "import textwrap\n",
        "\n",
        "# Import the Markdown display function from IPython to render text as Markdown in Jupyter Notebooks\n",
        "from IPython.display import Markdown\n",
        "\n",
        "# Define a function 'to_markdown' that converts a given text into Markdown format\n",
        "def to_markdown(text) -> Markdown:\n",
        "    # Replace bullet points (•) with Markdown-compatible bullet points (*)\n",
        "    text: str = text.replace(\"•\", \"  *\")\n",
        "\n",
        "    # Indent the entire text block with the Markdown blockquote symbol ('> ')\n",
        "    # The lambda function ensures every line is indented\n",
        "    return Markdown(textwrap.indent(text, \"> \", predicate=lambda _: True))"
      ],
      "metadata": {
        "id": "Dq6xjsDkffsd"
      },
      "execution_count": 1,
      "outputs": []
    },
    {
      "cell_type": "markdown",
      "source": [
        "# ***Method 01: Using API key for auth***\n",
        "Get your API key\n",
        "Before you can use the Gemini API, you must first obtain an API key. If you don't already have one, create a key with one click in Google AI Studio.\n",
        "\n",
        "# Get an API key"
      ],
      "metadata": {
        "id": "Q6ampfsefo0l"
      }
    },
    {
      "cell_type": "code",
      "source": [],
      "metadata": {
        "id": "eieZ0nAafsAW"
      },
      "execution_count": null,
      "outputs": []
    },
    {
      "cell_type": "markdown",
      "source": [
        "# ***Access your API key in colab***"
      ],
      "metadata": {
        "id": "HHP19Lt-ftwE"
      }
    },
    {
      "cell_type": "code",
      "source": [
        "# Importing userdata from Google Colab to securely store and access API keys\n",
        "from google.colab import userdata"
      ],
      "metadata": {
        "id": "_urJ80-lfvPG"
      },
      "execution_count": 2,
      "outputs": []
    },
    {
      "cell_type": "markdown",
      "source": [
        "***After obtaining the API key, you can access it in Colab***\n",
        "\n",
        "Set the key in the GEMINI_API_KEY environment variable.\n",
        "You can save this API key under any variable name you prefer.\n",
        "Remember to enable access for the saved API key in Colab using the toggle button."
      ],
      "metadata": {
        "id": "yilsBUxZgJ_t"
      }
    },
    {
      "cell_type": "code",
      "source": [
        "# after saving api key in env variables\n",
        "# get api key from env\n",
        "google_api_key = userdata.get('GEMINI_API_KEY_ONE')"
      ],
      "metadata": {
        "id": "mk8NbfIRgPrF"
      },
      "execution_count": 3,
      "outputs": []
    },
    {
      "cell_type": "markdown",
      "source": [
        "# ***Initializing LangChain with GEMINI for AI Chat Responses***"
      ],
      "metadata": {
        "id": "tEUbUbm3hm6-"
      }
    },
    {
      "cell_type": "code",
      "source": [
        "# Import the ChatGoogleGenerativeAI class from the langchain_google_genai module\n",
        "# this will be used for using langchain with gemni\n",
        "from langchain_google_genai import ChatGoogleGenerativeAI\n",
        "\n",
        "# Import the AIMessage class currently will be used for typing\n",
        "from langchain_core.messages.ai import AIMessage\n",
        "\n",
        "# Initialize an instance of the ChatGoogleGenerativeAI with specific parameters\n",
        "llm: ChatGoogleGenerativeAI = ChatGoogleGenerativeAI(\n",
        "    model=\"gemini-1.5-flash\",  # Specify the model to use\n",
        "    api_key=google_api_key,     # Provide the Google API key for authentication\n",
        "    temperature=0.2,            # Set the randomness of the model's responses (0 = deterministic, 1 = very random)\n",
        ")\n",
        ""
      ],
      "metadata": {
        "id": "r28uE8x_htw9"
      },
      "execution_count": 4,
      "outputs": []
    },
    {
      "cell_type": "markdown",
      "source": [
        "# ***Invoking LangChain Model with Prompt to Get Response***"
      ],
      "metadata": {
        "id": "t6LwMVB_hy3v"
      }
    },
    {
      "cell_type": "code",
      "source": [
        "# Invoke the LangChain model with a prompt to generate a response\n",
        "ai_msg: AIMessage = llm.invoke(\"What is the capital of France?\")\n",
        ""
      ],
      "metadata": {
        "id": "3o6yHKMuh2gu"
      },
      "execution_count": 5,
      "outputs": []
    },
    {
      "cell_type": "code",
      "source": [
        "# display complete response\n",
        "ai_msg"
      ],
      "metadata": {
        "colab": {
          "base_uri": "https://localhost:8080/"
        },
        "id": "bZvfvwG-h6Cu",
        "outputId": "329d7fb8-8181-4b96-fcc1-bc74f4f3e6d8"
      },
      "execution_count": 6,
      "outputs": [
        {
          "output_type": "execute_result",
          "data": {
            "text/plain": [
              "AIMessage(content='The capital of France is **Paris**. \\n', additional_kwargs={}, response_metadata={'prompt_feedback': {'block_reason': 0, 'safety_ratings': []}, 'finish_reason': 'STOP', 'safety_ratings': [{'category': 'HARM_CATEGORY_SEXUALLY_EXPLICIT', 'probability': 'NEGLIGIBLE', 'blocked': False}, {'category': 'HARM_CATEGORY_HATE_SPEECH', 'probability': 'NEGLIGIBLE', 'blocked': False}, {'category': 'HARM_CATEGORY_HARASSMENT', 'probability': 'NEGLIGIBLE', 'blocked': False}, {'category': 'HARM_CATEGORY_DANGEROUS_CONTENT', 'probability': 'NEGLIGIBLE', 'blocked': False}]}, id='run-9ac8ca98-0c28-4ca8-b9eb-db6b9d9b02c6-0', usage_metadata={'input_tokens': 8, 'output_tokens': 8, 'total_tokens': 16})"
            ]
          },
          "metadata": {},
          "execution_count": 6
        }
      ]
    },
    {
      "cell_type": "code",
      "source": [
        "# get actual response\n",
        "ai_msg.content\n",
        ""
      ],
      "metadata": {
        "colab": {
          "base_uri": "https://localhost:8080/",
          "height": 36
        },
        "id": "LpN_O2y0iFj9",
        "outputId": "a742d78a-fb58-4628-c8db-30bac877f0ed"
      },
      "execution_count": 7,
      "outputs": [
        {
          "output_type": "execute_result",
          "data": {
            "text/plain": [
              "'The capital of France is **Paris**. \\n'"
            ],
            "application/vnd.google.colaboratory.intrinsic+json": {
              "type": "string"
            }
          },
          "metadata": {},
          "execution_count": 7
        }
      ]
    },
    {
      "cell_type": "code",
      "source": [
        "\n",
        "# format the response with markdown\n",
        "to_markdown(ai_msg.content)\n",
        ""
      ],
      "metadata": {
        "colab": {
          "base_uri": "https://localhost:8080/",
          "height": 62
        },
        "id": "jx92mMA1iIll",
        "outputId": "e69c5c96-58a8-4232-cb20-d8b1177d559e"
      },
      "execution_count": 8,
      "outputs": [
        {
          "output_type": "execute_result",
          "data": {
            "text/plain": [
              "<IPython.core.display.Markdown object>"
            ],
            "text/markdown": "> The capital of France is **Paris**. \n"
          },
          "metadata": {},
          "execution_count": 8
        }
      ]
    },
    {
      "cell_type": "markdown",
      "source": [
        "# ***Method 02: Using JSON file for Auth***\n",
        "# **Creating a Json file for Auth or allowing Gemini api in Langchain**\n",
        "Adding Api key to environment variables, and getting it's value sometime cause auth issues, In case of facing Auth Issues, Follow the following steps if you are getting Auth related errors in getting response from Gemini, and being asked for auth.\n",
        "\n",
        "Open Google Cloud Console, at the top left corner, click on Select a Project, a new Window screen will pop up, Select an existing one or create a new Project. (Free Version).\n",
        "After Selecting or Creating a project, below WELCOME screen, Select APIs and Services from Quick Access.\n",
        "On APIs and Services windows, look for Library and left Sidebar. Select Library.\n",
        "In search box, type Gemini Api, two results will be shown,\n",
        "Gemini Api\n",
        "Gemini for google cloud\n",
        "Select first one. Click on Enable. Gemini Api will be enabled.\n",
        "\n",
        "# ***Now get back to APIs and and Services Window.***\n",
        "Select Credentials, at Top level, after Credentials, Select Create Credentail, and click on API Key from the new dropdown. It will generate an api key.\n",
        "Click on Google Cloud, at top left corner. It will take you to Welcome page.\n",
        "From Quick Access, Select IAM and Admin.\n",
        "At left sidebar select Service accounts and click on Create Service Account\n",
        "Fill in the required Details, click on Create and Continue.\n",
        "Click on Select Role, search of OWNER, and select the one with full previlages.\n",
        "Click on Continue.\n",
        "Skip the fields, click on Done.\n",
        "At Service Accounts windows, click on the Email, we just created.\n",
        "Click the Newly generated Email.\n",
        "At the top, below the Key name where it's mentioned, Click on KEYS, from the taskbar above,\n",
        "At Keys window, select Add Key.\n",
        "Click on Create new Key.\n",
        "Select Add Key.\n",
        "Make sure JSON is selected.\n",
        "Click on Create Key. A New dialogue window will pop up telling you that Private key saved to your computer\n",
        "The .json file is downloaded to your default download folder. Upload it to the root directory of Colab.\n",
        "Right click on the newly add file, select Copy Path. Replace it with your path in below cell."
      ],
      "metadata": {
        "id": "W4ld_M4RiO-m"
      }
    },
    {
      "cell_type": "markdown",
      "source": [
        "# ***Setting Up Google Cloud Application Credentials***\n",
        "Configures the environment by setting the GOOGLE_APPLICATION_CREDENTIALS variable. This variable points to the JSON file containing the necessary credentials for authenticating with Google Cloud services. By doing this, the application can securely access Google Cloud resources using the specified credentials."
      ],
      "metadata": {
        "id": "nuyRIpf5iaUm"
      }
    },
    {
      "cell_type": "code",
      "source": [
        "# Import the os module to interact with the operating system\n",
        "import os\n",
        "\n",
        "# Set the environment variable for Google Cloud application credentials\n",
        "os.environ[\"GOOGLE_APPLICATION_CREDENTIALS\"] = \"Your path goes here\""
      ],
      "metadata": {
        "id": "hjm3TD7BicHF"
      },
      "execution_count": 9,
      "outputs": []
    },
    {
      "cell_type": "markdown",
      "source": [
        "# ***Initializing LangChain with GEMINI for AI Chat Responses***"
      ],
      "metadata": {
        "id": "s4UMDnYtihIG"
      }
    },
    {
      "cell_type": "code",
      "source": [],
      "metadata": {
        "id": "x0P_gqK6kx5f"
      },
      "execution_count": null,
      "outputs": []
    },
    {
      "cell_type": "markdown",
      "source": [
        "# ***Invoking LangChain Model with Prompt to Get Response***"
      ],
      "metadata": {
        "id": "I2XcPl47kwHe"
      }
    },
    {
      "cell_type": "code",
      "source": [
        "# Invoke the LangChain model with a prompt to generate a response\n",
        "ai_msg : AIMessage = llm.invoke(\"What is the capital of pakistan?\")"
      ],
      "metadata": {
        "id": "a2sKVs9PkqJe"
      },
      "execution_count": 32,
      "outputs": []
    },
    {
      "cell_type": "code",
      "source": [
        "# display complete response\n",
        "ai_msg"
      ],
      "metadata": {
        "colab": {
          "base_uri": "https://localhost:8080/"
        },
        "id": "3nR3Y6wOkysX",
        "outputId": "8427ef10-5af8-4348-85d8-2cd2df0ac891"
      },
      "execution_count": 33,
      "outputs": [
        {
          "output_type": "execute_result",
          "data": {
            "text/plain": [
              "AIMessage(content='The capital of Pakistan is **Islamabad**. \\n', additional_kwargs={}, response_metadata={'prompt_feedback': {'block_reason': 0, 'safety_ratings': []}, 'finish_reason': 'STOP', 'safety_ratings': [{'category': 'HARM_CATEGORY_SEXUALLY_EXPLICIT', 'probability': 'NEGLIGIBLE', 'blocked': False}, {'category': 'HARM_CATEGORY_HATE_SPEECH', 'probability': 'NEGLIGIBLE', 'blocked': False}, {'category': 'HARM_CATEGORY_HARASSMENT', 'probability': 'NEGLIGIBLE', 'blocked': False}, {'category': 'HARM_CATEGORY_DANGEROUS_CONTENT', 'probability': 'NEGLIGIBLE', 'blocked': False}]}, id='run-9616a216-c7db-469f-bb3b-9088c69c86bb-0', usage_metadata={'input_tokens': 8, 'output_tokens': 9, 'total_tokens': 17})"
            ]
          },
          "metadata": {},
          "execution_count": 33
        }
      ]
    },
    {
      "cell_type": "code",
      "source": [
        "# get actual response\n",
        "ai_msg.content"
      ],
      "metadata": {
        "colab": {
          "base_uri": "https://localhost:8080/",
          "height": 36
        },
        "id": "oBEmxhbkk6qN",
        "outputId": "9dac9baa-6451-44ab-b982-19e5de7f9630"
      },
      "execution_count": 34,
      "outputs": [
        {
          "output_type": "execute_result",
          "data": {
            "text/plain": [
              "'The capital of Pakistan is **Islamabad**. \\n'"
            ],
            "application/vnd.google.colaboratory.intrinsic+json": {
              "type": "string"
            }
          },
          "metadata": {},
          "execution_count": 34
        }
      ]
    },
    {
      "cell_type": "code",
      "source": [
        "# prompt: # format the response with markdown\n",
        "# to_markdown(ai_msg.content)\n",
        "\n",
        "# format the response with markdown\n",
        "to_markdown(ai_msg.content)\n"
      ],
      "metadata": {
        "colab": {
          "base_uri": "https://localhost:8080/",
          "height": 759
        },
        "id": "RJQTezxMk6o-",
        "outputId": "a46ccab5-dfc6-4a03-84a5-fa01aec1cda1"
      },
      "execution_count": 36,
      "outputs": [
        {
          "output_type": "execute_result",
          "data": {
            "text/plain": [
              "<IPython.core.display.Markdown object>"
            ],
            "text/markdown": "> It's impossible to definitively say which open-source AI model is \"best\" as it depends entirely on your specific needs and use case. \n> \n> Here's a breakdown of some popular open-source models and their strengths:\n> \n> **For Language Understanding and Generation:**\n> \n> * **GPT-Neo (EleutherAI):** A powerful language model with impressive text generation capabilities, comparable to GPT-3 in some aspects.\n> * **BLOOM (BigScience):** A massive multilingual model trained on a vast dataset, excelling in translation and cross-lingual tasks.\n> * **OPT (Meta AI):** A large language model focused on efficiency and accessibility, offering a range of sizes for different computational budgets.\n> * **Flan-T5 (Google AI):** A model specifically designed for instruction following and question answering, demonstrating strong performance in these tasks.\n> \n> **For Image Recognition and Generation:**\n> \n> * **Stable Diffusion (Stability AI):** A popular text-to-image generation model, capable of creating stunning and realistic images from text prompts.\n> * **DALL-E 2 (OpenAI):** While not strictly open-source, DALL-E 2's API allows for integration with your own applications, offering advanced image generation capabilities.\n> * **Imagen (Google AI):** Another powerful text-to-image model from Google, known for its high-quality and realistic image generation.\n> \n> **For Other Tasks:**\n> \n> * **Hugging Face Transformers:** A library providing access to a wide range of pre-trained models for various tasks like text classification, sentiment analysis, and more.\n> * **TensorFlow Lite:** A framework for deploying machine learning models on mobile and embedded devices, making AI accessible on resource-constrained platforms.\n> \n> **Factors to Consider When Choosing:**\n> \n> * **Task:** What specific task do you need the model for?\n> * **Data:** What kind of data will the model be trained on?\n> * **Resources:** What computational resources are available (CPU, GPU, memory)?\n> * **Performance:** What level of accuracy and speed is required?\n> * **Ease of Use:** How easy is it to use and integrate the model into your application?\n> \n> **Recommendations:**\n> \n> * **Start with a model that aligns with your specific needs.**\n> * **Experiment with different models and compare their performance.**\n> * **Consider the trade-offs between model size, performance, and resource requirements.**\n> \n> Remember, the \"best\" open-source AI model is the one that best meets your specific requirements. \n"
          },
          "metadata": {},
          "execution_count": 36
        }
      ]
    },
    {
      "cell_type": "markdown",
      "source": [
        "# ***Invoking LangChain Model with Structured Messages for AI Responses***"
      ],
      "metadata": {
        "id": "fq3xV-KjlEEW"
      }
    },
    {
      "cell_type": "code",
      "source": [
        "# prompt: plx fix error of last prompt\n",
        "\n",
        "# # ***Invoking LangChain Model with Structured Messages for AI Responses***\n",
        "message: list[dict] = [\n",
        "    {\"role\": \"system\", \"content\": \"You are a helpful assistant.\"},\n",
        "    {\"role\": \"user\", \"content\": \"Which open source AI Model is best so far\"},\n",
        "]\n",
        "\n",
        "ai_msg = llm.invoke(message)\n",
        "print(ai_msg.content)\n"
      ],
      "metadata": {
        "colab": {
          "base_uri": "https://localhost:8080/"
        },
        "id": "SEwrB9HNk_i2",
        "outputId": "e73f0f7c-5ce2-4ef8-e02e-0b729f3f89c3"
      },
      "execution_count": 35,
      "outputs": [
        {
          "output_type": "stream",
          "name": "stdout",
          "text": [
            "It's impossible to definitively say which open-source AI model is \"best\" as it depends entirely on your specific needs and use case. \n",
            "\n",
            "Here's a breakdown of some popular open-source models and their strengths:\n",
            "\n",
            "**For Language Understanding and Generation:**\n",
            "\n",
            "* **GPT-Neo (EleutherAI):** A powerful language model with impressive text generation capabilities, comparable to GPT-3 in some aspects.\n",
            "* **BLOOM (BigScience):** A massive multilingual model trained on a vast dataset, excelling in translation and cross-lingual tasks.\n",
            "* **OPT (Meta AI):** A large language model focused on efficiency and accessibility, offering a range of sizes for different computational budgets.\n",
            "* **Flan-T5 (Google AI):** A model specifically designed for instruction following and question answering, demonstrating strong performance in these tasks.\n",
            "\n",
            "**For Image Recognition and Generation:**\n",
            "\n",
            "* **Stable Diffusion (Stability AI):** A popular text-to-image generation model, capable of creating stunning and realistic images from text prompts.\n",
            "* **DALL-E 2 (OpenAI):** While not strictly open-source, DALL-E 2's API allows for integration with your own applications, offering advanced image generation capabilities.\n",
            "* **Imagen (Google AI):** Another powerful text-to-image model from Google, known for its high-quality and realistic image generation.\n",
            "\n",
            "**For Other Tasks:**\n",
            "\n",
            "* **Hugging Face Transformers:** A library providing access to a wide range of pre-trained models for various tasks like text classification, sentiment analysis, and more.\n",
            "* **TensorFlow Lite:** A framework for deploying machine learning models on mobile and embedded devices, making AI accessible on resource-constrained platforms.\n",
            "\n",
            "**Factors to Consider When Choosing:**\n",
            "\n",
            "* **Task:** What specific task do you need the model for?\n",
            "* **Data:** What kind of data will the model be trained on?\n",
            "* **Resources:** What computational resources are available (CPU, GPU, memory)?\n",
            "* **Performance:** What level of accuracy and speed is required?\n",
            "* **Ease of Use:** How easy is it to use and integrate the model into your application?\n",
            "\n",
            "**Recommendations:**\n",
            "\n",
            "* **Start with a model that aligns with your specific needs.**\n",
            "* **Experiment with different models and compare their performance.**\n",
            "* **Consider the trade-offs between model size, performance, and resource requirements.**\n",
            "\n",
            "Remember, the \"best\" open-source AI model is the one that best meets your specific requirements. \n",
            "\n"
          ]
        }
      ]
    },
    {
      "cell_type": "code",
      "source": [
        "to_markdown(ai_msg.content)\n",
        ""
      ],
      "metadata": {
        "colab": {
          "base_uri": "https://localhost:8080/",
          "height": 794
        },
        "id": "WjwVKbw8lguu",
        "outputId": "db205e53-8682-4851-f447-35290f4823bd"
      },
      "execution_count": 31,
      "outputs": [
        {
          "output_type": "execute_result",
          "data": {
            "text/plain": [
              "<IPython.core.display.Markdown object>"
            ],
            "text/markdown": "> It's impossible to definitively say which open-source AI model is \"best\" because the best model depends entirely on your specific needs and use case. \n> \n> Here's a breakdown of some popular open-source AI models and their strengths:\n> \n> **Language Models:**\n> \n> * **GPT-Neo (EleutherAI):** A powerful language model with impressive text generation capabilities, comparable to GPT-3 in some aspects.\n> * **BLOOM (BigScience):** A massive multilingual language model, trained on a vast dataset of text in 46 languages.\n> * **OPT (Meta):** A large language model focused on efficiency and accessibility, with smaller versions available for easier deployment.\n> * **Flan-T5 (Google):** A model designed for instruction following and question answering, showing strong performance in these tasks.\n> * **BigScience's T0:** A model trained on a massive dataset of text and code, demonstrating strong capabilities in code generation and other tasks.\n> \n> **Image Models:**\n> \n> * **Stable Diffusion:** A powerful text-to-image generation model, capable of creating stunning and realistic images from text prompts.\n> * **DALL-E 2 (OpenAI):** While not strictly open-source, DALL-E 2 has a public API and is considered a leading text-to-image model.\n> * **Imagen (Google):** Another powerful text-to-image model from Google, known for its high-quality image generation.\n> \n> **Other Models:**\n> \n> * **Hugging Face Transformers:** A library that provides access to a wide range of pre-trained models for various tasks, including language translation, text summarization, and sentiment analysis.\n> * **TensorFlow Model Garden:** A collection of pre-trained models and tutorials for various tasks, including image classification, object detection, and natural language processing.\n> \n> **Factors to Consider When Choosing a Model:**\n> \n> * **Task:** What specific task do you need the model for?\n> * **Data:** What type of data will the model be trained on?\n> * **Resources:** What computational resources do you have available?\n> * **Performance:** What level of accuracy and performance do you require?\n> * **Ease of Use:** How easy is the model to deploy and use?\n> \n> **Recommendation:**\n> \n> Instead of focusing on one \"best\" model, explore different options and experiment with them to find the one that best suits your needs. The open-source AI landscape is constantly evolving, so stay updated on the latest developments and advancements.\n> \n> **Remember:** Open-source models are often under active development, so be aware of potential limitations and ongoing improvements.\n"
          },
          "metadata": {},
          "execution_count": 31
        }
      ]
    },
    {
      "cell_type": "code",
      "source": [
        "ai_msg: AIMessage = llm.invoke(\"how i can make specialize in cybersecuirty for AI?\")"
      ],
      "metadata": {
        "id": "RvwevMtZmB43"
      },
      "execution_count": 37,
      "outputs": []
    },
    {
      "cell_type": "code",
      "source": [
        "ai_msg ,ai_msg.content ,to_markdown(ai_msg.content)"
      ],
      "metadata": {
        "colab": {
          "base_uri": "https://localhost:8080/"
        },
        "id": "9wGCkdvQmM4u",
        "outputId": "0cae2f90-3b39-4dd7-c51b-536b0589a8f4"
      },
      "execution_count": 41,
      "outputs": [
        {
          "output_type": "execute_result",
          "data": {
            "text/plain": [
              "(AIMessage(content='## Specializing in Cybersecurity for AI: A Roadmap\\n\\nSpecializing in cybersecurity for AI is a rapidly growing field with immense potential. Here\\'s a roadmap to help you navigate this exciting path:\\n\\n**1. Build a Strong Foundation:**\\n\\n* **Computer Science Fundamentals:**  Master core concepts like programming (Python, Java), data structures, algorithms, and operating systems.\\n* **Cybersecurity Basics:**  Gain a solid understanding of network security, cryptography, ethical hacking, and common vulnerabilities.\\n* **Machine Learning & AI:**  Learn the fundamentals of machine learning, deep learning, and AI algorithms. Understand how these technologies work and their applications in cybersecurity.\\n\\n**2. Focus on AI-Specific Cybersecurity:**\\n\\n* **AI Security Threats:**  Study the unique vulnerabilities and attack vectors specific to AI systems, including data poisoning, adversarial attacks, model theft, and privacy violations.\\n* **AI Security Tools & Techniques:**  Explore tools and techniques for securing AI systems, such as:\\n    * **Model Security:**  Techniques for protecting AI models from theft, manipulation, and reverse engineering.\\n    * **Data Security:**  Methods for securing training data and protecting sensitive information used by AI systems.\\n    * **AI-Powered Security:**  Leveraging AI to enhance traditional cybersecurity measures, like intrusion detection and threat analysis.\\n* **AI Explainability & Trust:**  Understand the importance of explainable AI and how to build trust in AI systems.\\n\\n**3. Gain Practical Experience:**\\n\\n* **Certifications:**  Pursuing certifications like Certified Ethical Hacker (CEH), Certified Information Systems Security Professional (CISSP), and AI-specific certifications can demonstrate your expertise.\\n* **Projects & Internships:**  Work on real-world projects related to AI security, such as:\\n    * **Developing AI-based intrusion detection systems.**\\n    * **Building secure AI models for sensitive applications.**\\n    * **Analyzing and mitigating AI-specific vulnerabilities.**\\n* **Contribute to Open Source:**  Contribute to open-source AI security projects to gain practical experience and collaborate with experts.\\n\\n**4. Stay Updated:**\\n\\n* **Follow Industry Trends:**  Keep abreast of the latest developments in AI security by reading industry publications, attending conferences, and engaging with online communities.\\n* **Research & Development:**  Explore research papers and participate in discussions on emerging AI security challenges and solutions.\\n* **Continuous Learning:**  Enroll in online courses, workshops, and bootcamps to stay updated on the latest technologies and best practices.\\n\\n**5. Networking & Collaboration:**\\n\\n* **Connect with Professionals:**  Attend industry events, join online forums, and connect with professionals in the AI security field.\\n* **Collaborate on Projects:**  Work with other professionals on collaborative projects to share knowledge and learn from each other.\\n\\n**Resources:**\\n\\n* **Books:** \"AI Security: Protecting Machine Learning Systems from Attacks\" by William Buchanan, \"Machine Learning Security\" by Nicolas Papernot, \"Deep Learning Security\" by Nicolas Papernot.\\n* **Online Courses:** Coursera, Udacity, edX offer courses on AI security and related topics.\\n* **Organizations:**  ISACA, SANS Institute, OWASP, IEEE, ACM.\\n\\n**Remember:**  This is a rapidly evolving field, so continuous learning and adaptation are crucial for success. By following this roadmap and staying committed to your learning, you can build a rewarding career in AI cybersecurity. \\n', additional_kwargs={}, response_metadata={'prompt_feedback': {'block_reason': 0, 'safety_ratings': []}, 'finish_reason': 'STOP', 'safety_ratings': [{'category': 'HARM_CATEGORY_SEXUALLY_EXPLICIT', 'probability': 'NEGLIGIBLE', 'blocked': False}, {'category': 'HARM_CATEGORY_HATE_SPEECH', 'probability': 'NEGLIGIBLE', 'blocked': False}, {'category': 'HARM_CATEGORY_HARASSMENT', 'probability': 'NEGLIGIBLE', 'blocked': False}, {'category': 'HARM_CATEGORY_DANGEROUS_CONTENT', 'probability': 'NEGLIGIBLE', 'blocked': False}]}, id='run-4c045ce9-29d2-48ac-9f57-05a6cfc2a77a-0', usage_metadata={'input_tokens': 14, 'output_tokens': 704, 'total_tokens': 718}),\n",
              " '## Specializing in Cybersecurity for AI: A Roadmap\\n\\nSpecializing in cybersecurity for AI is a rapidly growing field with immense potential. Here\\'s a roadmap to help you navigate this exciting path:\\n\\n**1. Build a Strong Foundation:**\\n\\n* **Computer Science Fundamentals:**  Master core concepts like programming (Python, Java), data structures, algorithms, and operating systems.\\n* **Cybersecurity Basics:**  Gain a solid understanding of network security, cryptography, ethical hacking, and common vulnerabilities.\\n* **Machine Learning & AI:**  Learn the fundamentals of machine learning, deep learning, and AI algorithms. Understand how these technologies work and their applications in cybersecurity.\\n\\n**2. Focus on AI-Specific Cybersecurity:**\\n\\n* **AI Security Threats:**  Study the unique vulnerabilities and attack vectors specific to AI systems, including data poisoning, adversarial attacks, model theft, and privacy violations.\\n* **AI Security Tools & Techniques:**  Explore tools and techniques for securing AI systems, such as:\\n    * **Model Security:**  Techniques for protecting AI models from theft, manipulation, and reverse engineering.\\n    * **Data Security:**  Methods for securing training data and protecting sensitive information used by AI systems.\\n    * **AI-Powered Security:**  Leveraging AI to enhance traditional cybersecurity measures, like intrusion detection and threat analysis.\\n* **AI Explainability & Trust:**  Understand the importance of explainable AI and how to build trust in AI systems.\\n\\n**3. Gain Practical Experience:**\\n\\n* **Certifications:**  Pursuing certifications like Certified Ethical Hacker (CEH), Certified Information Systems Security Professional (CISSP), and AI-specific certifications can demonstrate your expertise.\\n* **Projects & Internships:**  Work on real-world projects related to AI security, such as:\\n    * **Developing AI-based intrusion detection systems.**\\n    * **Building secure AI models for sensitive applications.**\\n    * **Analyzing and mitigating AI-specific vulnerabilities.**\\n* **Contribute to Open Source:**  Contribute to open-source AI security projects to gain practical experience and collaborate with experts.\\n\\n**4. Stay Updated:**\\n\\n* **Follow Industry Trends:**  Keep abreast of the latest developments in AI security by reading industry publications, attending conferences, and engaging with online communities.\\n* **Research & Development:**  Explore research papers and participate in discussions on emerging AI security challenges and solutions.\\n* **Continuous Learning:**  Enroll in online courses, workshops, and bootcamps to stay updated on the latest technologies and best practices.\\n\\n**5. Networking & Collaboration:**\\n\\n* **Connect with Professionals:**  Attend industry events, join online forums, and connect with professionals in the AI security field.\\n* **Collaborate on Projects:**  Work with other professionals on collaborative projects to share knowledge and learn from each other.\\n\\n**Resources:**\\n\\n* **Books:** \"AI Security: Protecting Machine Learning Systems from Attacks\" by William Buchanan, \"Machine Learning Security\" by Nicolas Papernot, \"Deep Learning Security\" by Nicolas Papernot.\\n* **Online Courses:** Coursera, Udacity, edX offer courses on AI security and related topics.\\n* **Organizations:**  ISACA, SANS Institute, OWASP, IEEE, ACM.\\n\\n**Remember:**  This is a rapidly evolving field, so continuous learning and adaptation are crucial for success. By following this roadmap and staying committed to your learning, you can build a rewarding career in AI cybersecurity. \\n')"
            ]
          },
          "metadata": {},
          "execution_count": 41
        }
      ]
    },
    {
      "cell_type": "code",
      "source": [
        "ai_msg : AIMessage = llm.invoke(\"TELL ME 14 AUGUST CONSTITUTION OF PAKISTAN?\")\n",
        "ai_msg,ai_msg.content,"
      ],
      "metadata": {
        "colab": {
          "base_uri": "https://localhost:8080/"
        },
        "id": "m4UnQfBMmQB2",
        "outputId": "15daa82a-775d-411c-86b5-84f2810ae314"
      },
      "execution_count": 45,
      "outputs": [
        {
          "output_type": "execute_result",
          "data": {
            "text/plain": [
              "(AIMessage(content=\"The **14th August** is not a constitution, but rather the **Independence Day of Pakistan**. It commemorates the day in **1947** when Pakistan gained independence from British rule. \\n\\nThe **Constitution of Pakistan** was adopted on **March 23, 1956**, and has been amended several times since then. It is the supreme law of the country and outlines the structure, powers, and functions of the government. \\n\\nIf you'd like to learn more about the Constitution of Pakistan, please let me know! I can provide information on its key features, historical context, or specific articles. \\n\", additional_kwargs={}, response_metadata={'prompt_feedback': {'block_reason': 0, 'safety_ratings': []}, 'finish_reason': 'STOP', 'safety_ratings': [{'category': 'HARM_CATEGORY_SEXUALLY_EXPLICIT', 'probability': 'NEGLIGIBLE', 'blocked': False}, {'category': 'HARM_CATEGORY_HATE_SPEECH', 'probability': 'NEGLIGIBLE', 'blocked': False}, {'category': 'HARM_CATEGORY_HARASSMENT', 'probability': 'NEGLIGIBLE', 'blocked': False}, {'category': 'HARM_CATEGORY_DANGEROUS_CONTENT', 'probability': 'NEGLIGIBLE', 'blocked': False}]}, id='run-9bd704b9-e03a-4ae3-ba95-e71e2a8b2b41-0', usage_metadata={'input_tokens': 12, 'output_tokens': 131, 'total_tokens': 143}),\n",
              " \"The **14th August** is not a constitution, but rather the **Independence Day of Pakistan**. It commemorates the day in **1947** when Pakistan gained independence from British rule. \\n\\nThe **Constitution of Pakistan** was adopted on **March 23, 1956**, and has been amended several times since then. It is the supreme law of the country and outlines the structure, powers, and functions of the government. \\n\\nIf you'd like to learn more about the Constitution of Pakistan, please let me know! I can provide information on its key features, historical context, or specific articles. \\n\",\n",
              " <IPython.core.display.Markdown object>)"
            ]
          },
          "metadata": {},
          "execution_count": 45
        }
      ]
    },
    {
      "cell_type": "code",
      "source": [
        "to_markdown(ai_msg.content)"
      ],
      "metadata": {
        "colab": {
          "base_uri": "https://localhost:8080/",
          "height": 178
        },
        "id": "nL_B5vWmnMA_",
        "outputId": "574a2380-ee16-448e-8d69-bbafa7081b16"
      },
      "execution_count": 46,
      "outputs": [
        {
          "output_type": "execute_result",
          "data": {
            "text/plain": [
              "<IPython.core.display.Markdown object>"
            ],
            "text/markdown": "> The **14th August** is not a constitution, but rather the **Independence Day of Pakistan**. It commemorates the day in **1947** when Pakistan gained independence from British rule. \n> \n> The **Constitution of Pakistan** was adopted on **March 23, 1956**, and has been amended several times since then. It is the supreme law of the country and outlines the structure, powers, and functions of the government. \n> \n> If you'd like to learn more about the Constitution of Pakistan, please let me know! I can provide information on its key features, historical context, or specific articles. \n"
          },
          "metadata": {},
          "execution_count": 46
        }
      ]
    },
    {
      "cell_type": "code",
      "source": [
        "# prompt: PLZ FIX ERROR OF LAST PROMPT\n",
        "\n",
        "message: list[Dict[str, str]] = [\n",
        "    {\"role\": \"system\", \"content\": \"You are a helpful assistant.\"},\n",
        "    {\"role\": \"user\", \"content\": \"TELL ME ABOUT PAKISTAN\"},\n",
        "]\n",
        "\n",
        "ai_msg = llm.invoke(message)\n",
        "\n",
        "\n",
        "print(ai_msg.content)\n",
        "to_markdown(ai_msg.content)\n"
      ],
      "metadata": {
        "colab": {
          "base_uri": "https://localhost:8080/",
          "height": 1000
        },
        "id": "nCQ4G4GVnnju",
        "outputId": "3edebe08-ce8a-4b10-bebd-28990a20cea6"
      },
      "execution_count": 48,
      "outputs": [
        {
          "output_type": "stream",
          "name": "stdout",
          "text": [
            "## Pakistan: A Land of Diverse Landscapes and Rich Culture\n",
            "\n",
            "Pakistan is a country located in South Asia, bordering India, Afghanistan, Iran, China, and the Arabian Sea. Here's a glimpse into its diverse aspects:\n",
            "\n",
            "**Geography:**\n",
            "\n",
            "* **Mountains:** Pakistan is home to the majestic Karakoram, Hindu Kush, and Himalayan mountain ranges, including the world's second-highest peak, K2.\n",
            "* **Deserts:** The Thar Desert in the south and the Balochistan Desert in the west offer unique landscapes.\n",
            "* **Rivers:** The Indus River, the lifeline of Pakistan, flows through the country, creating fertile plains and supporting agriculture.\n",
            "* **Coastline:** Pakistan has a coastline along the Arabian Sea, offering beautiful beaches and coastal cities.\n",
            "\n",
            "**Culture:**\n",
            "\n",
            "* **History:** Pakistan has a rich history, having been a part of ancient civilizations like the Indus Valley Civilization. It was also a key part of the Mughal Empire and British India.\n",
            "* **Languages:** Urdu is the national language, but Punjabi, Sindhi, Pashto, and Balochi are also widely spoken.\n",
            "* **Religion:** Islam is the dominant religion, with a diverse range of sects and practices.\n",
            "* **Arts and Crafts:** Pakistan is known for its vibrant textiles, intricate embroidery, and traditional music and dance forms.\n",
            "* **Cuisine:** Pakistani cuisine is diverse and flavorful, with dishes like biryani, karahi, and nihari being popular.\n",
            "\n",
            "**Economy:**\n",
            "\n",
            "* **Agriculture:** Agriculture is a major sector, with cotton, wheat, and rice being key crops.\n",
            "* **Textiles:** Pakistan is a major textile producer and exporter.\n",
            "* **Services:** The service sector is growing, with tourism, finance, and technology playing important roles.\n",
            "* **Challenges:** Poverty, unemployment, and political instability are some of the challenges facing Pakistan.\n",
            "\n",
            "**People:**\n",
            "\n",
            "* **Warm and Hospitable:** Pakistanis are known for their warm hospitality and welcoming nature.\n",
            "* **Resilient:** The people of Pakistan have faced numerous challenges, but they have shown resilience and determination.\n",
            "* **Diverse:** Pakistan is a diverse country with people from different ethnicities, languages, and cultures.\n",
            "\n",
            "**Tourism:**\n",
            "\n",
            "* **Historical Sites:** Pakistan has numerous historical sites, including the Mohenjo-daro ruins, the Lahore Fort, and the Taj Mahal (in India, but close to the border).\n",
            "* **Mountain Ranges:** The Karakoram, Hindu Kush, and Himalayas offer stunning views and opportunities for trekking and mountaineering.\n",
            "* **Beaches:** The coastline offers beautiful beaches, including those in Karachi and Gwadar.\n",
            "\n",
            "**Overall, Pakistan is a country of contrasts, offering a unique blend of ancient history, modern development, and breathtaking natural beauty. It is a land of diverse cultures, warm hospitality, and resilient people.**\n",
            "\n",
            "This is just a brief overview. There is much more to learn about Pakistan, its people, and its culture. I encourage you to explore further and discover the fascinating stories and experiences that this country has to offer. \n",
            "\n"
          ]
        },
        {
          "output_type": "execute_result",
          "data": {
            "text/plain": [
              "<IPython.core.display.Markdown object>"
            ],
            "text/markdown": "> ## Pakistan: A Land of Diverse Landscapes and Rich Culture\n> \n> Pakistan is a country located in South Asia, bordering India, Afghanistan, Iran, China, and the Arabian Sea. Here's a glimpse into its diverse aspects:\n> \n> **Geography:**\n> \n> * **Mountains:** Pakistan is home to the majestic Karakoram, Hindu Kush, and Himalayan mountain ranges, including the world's second-highest peak, K2.\n> * **Deserts:** The Thar Desert in the south and the Balochistan Desert in the west offer unique landscapes.\n> * **Rivers:** The Indus River, the lifeline of Pakistan, flows through the country, creating fertile plains and supporting agriculture.\n> * **Coastline:** Pakistan has a coastline along the Arabian Sea, offering beautiful beaches and coastal cities.\n> \n> **Culture:**\n> \n> * **History:** Pakistan has a rich history, having been a part of ancient civilizations like the Indus Valley Civilization. It was also a key part of the Mughal Empire and British India.\n> * **Languages:** Urdu is the national language, but Punjabi, Sindhi, Pashto, and Balochi are also widely spoken.\n> * **Religion:** Islam is the dominant religion, with a diverse range of sects and practices.\n> * **Arts and Crafts:** Pakistan is known for its vibrant textiles, intricate embroidery, and traditional music and dance forms.\n> * **Cuisine:** Pakistani cuisine is diverse and flavorful, with dishes like biryani, karahi, and nihari being popular.\n> \n> **Economy:**\n> \n> * **Agriculture:** Agriculture is a major sector, with cotton, wheat, and rice being key crops.\n> * **Textiles:** Pakistan is a major textile producer and exporter.\n> * **Services:** The service sector is growing, with tourism, finance, and technology playing important roles.\n> * **Challenges:** Poverty, unemployment, and political instability are some of the challenges facing Pakistan.\n> \n> **People:**\n> \n> * **Warm and Hospitable:** Pakistanis are known for their warm hospitality and welcoming nature.\n> * **Resilient:** The people of Pakistan have faced numerous challenges, but they have shown resilience and determination.\n> * **Diverse:** Pakistan is a diverse country with people from different ethnicities, languages, and cultures.\n> \n> **Tourism:**\n> \n> * **Historical Sites:** Pakistan has numerous historical sites, including the Mohenjo-daro ruins, the Lahore Fort, and the Taj Mahal (in India, but close to the border).\n> * **Mountain Ranges:** The Karakoram, Hindu Kush, and Himalayas offer stunning views and opportunities for trekking and mountaineering.\n> * **Beaches:** The coastline offers beautiful beaches, including those in Karachi and Gwadar.\n> \n> **Overall, Pakistan is a country of contrasts, offering a unique blend of ancient history, modern development, and breathtaking natural beauty. It is a land of diverse cultures, warm hospitality, and resilient people.**\n> \n> This is just a brief overview. There is much more to learn about Pakistan, its people, and its culture. I encourage you to explore further and discover the fascinating stories and experiences that this country has to offer. \n"
          },
          "metadata": {},
          "execution_count": 48
        }
      ]
    },
    {
      "cell_type": "code",
      "source": [
        "print(ai_msg.content)"
      ],
      "metadata": {
        "colab": {
          "base_uri": "https://localhost:8080/"
        },
        "id": "5paxF9XEnydG",
        "outputId": "4f2cf9dc-f7f7-4f4f-8766-50f9d4b975b4"
      },
      "execution_count": 49,
      "outputs": [
        {
          "output_type": "stream",
          "name": "stdout",
          "text": [
            "## Pakistan: A Land of Diverse Landscapes and Rich Culture\n",
            "\n",
            "Pakistan is a country located in South Asia, bordering India, Afghanistan, Iran, China, and the Arabian Sea. Here's a glimpse into its diverse aspects:\n",
            "\n",
            "**Geography:**\n",
            "\n",
            "* **Mountains:** Pakistan is home to the majestic Karakoram, Hindu Kush, and Himalayan mountain ranges, including the world's second-highest peak, K2.\n",
            "* **Deserts:** The Thar Desert in the south and the Balochistan Desert in the west offer unique landscapes.\n",
            "* **Rivers:** The Indus River, the lifeline of Pakistan, flows through the country, creating fertile plains and supporting agriculture.\n",
            "* **Coastline:** Pakistan has a coastline along the Arabian Sea, offering beautiful beaches and coastal cities.\n",
            "\n",
            "**Culture:**\n",
            "\n",
            "* **History:** Pakistan has a rich history, having been a part of ancient civilizations like the Indus Valley Civilization. It was also a key part of the Mughal Empire and British India.\n",
            "* **Languages:** Urdu is the national language, but Punjabi, Sindhi, Pashto, and Balochi are also widely spoken.\n",
            "* **Religion:** Islam is the dominant religion, with a diverse range of sects and practices.\n",
            "* **Arts and Crafts:** Pakistan is known for its vibrant textiles, intricate embroidery, and traditional music and dance forms.\n",
            "* **Cuisine:** Pakistani cuisine is diverse and flavorful, with dishes like biryani, karahi, and nihari being popular.\n",
            "\n",
            "**Economy:**\n",
            "\n",
            "* **Agriculture:** Agriculture is a major sector, with cotton, wheat, and rice being key crops.\n",
            "* **Textiles:** Pakistan is a major textile producer and exporter.\n",
            "* **Services:** The service sector is growing, with tourism, finance, and technology playing important roles.\n",
            "* **Challenges:** Poverty, unemployment, and political instability are some of the challenges facing Pakistan.\n",
            "\n",
            "**People:**\n",
            "\n",
            "* **Warm and Hospitable:** Pakistanis are known for their warm hospitality and welcoming nature.\n",
            "* **Resilient:** The people of Pakistan have faced numerous challenges, but they have shown resilience and determination.\n",
            "* **Diverse:** Pakistan is a diverse country with people from different ethnicities, languages, and cultures.\n",
            "\n",
            "**Tourism:**\n",
            "\n",
            "* **Historical Sites:** Pakistan has numerous historical sites, including the Mohenjo-daro ruins, the Lahore Fort, and the Taj Mahal (in India, but close to the border).\n",
            "* **Mountain Ranges:** The Karakoram, Hindu Kush, and Himalayas offer stunning views and opportunities for trekking and mountaineering.\n",
            "* **Beaches:** The coastline offers beautiful beaches, including those in Karachi and Gwadar.\n",
            "\n",
            "**Overall, Pakistan is a country of contrasts, offering a unique blend of ancient history, modern development, and breathtaking natural beauty. It is a land of diverse cultures, warm hospitality, and resilient people.**\n",
            "\n",
            "This is just a brief overview. There is much more to learn about Pakistan, its people, and its culture. I encourage you to explore further and discover the fascinating stories and experiences that this country has to offer. \n",
            "\n"
          ]
        }
      ]
    },
    {
      "cell_type": "code",
      "source": [
        "to_markdown(ai_msg.content)\n",
        ""
      ],
      "metadata": {
        "colab": {
          "base_uri": "https://localhost:8080/",
          "height": 968
        },
        "id": "VPFmBpDnn2GG",
        "outputId": "3156e9db-0c6b-4939-e69f-8ee4187681f4"
      },
      "execution_count": 50,
      "outputs": [
        {
          "output_type": "execute_result",
          "data": {
            "text/plain": [
              "<IPython.core.display.Markdown object>"
            ],
            "text/markdown": "> ## Pakistan: A Land of Diverse Landscapes and Rich Culture\n> \n> Pakistan is a country located in South Asia, bordering India, Afghanistan, Iran, China, and the Arabian Sea. Here's a glimpse into its diverse aspects:\n> \n> **Geography:**\n> \n> * **Mountains:** Pakistan is home to the majestic Karakoram, Hindu Kush, and Himalayan mountain ranges, including the world's second-highest peak, K2.\n> * **Deserts:** The Thar Desert in the south and the Balochistan Desert in the west offer unique landscapes.\n> * **Rivers:** The Indus River, the lifeline of Pakistan, flows through the country, creating fertile plains and supporting agriculture.\n> * **Coastline:** Pakistan has a coastline along the Arabian Sea, offering beautiful beaches and coastal cities.\n> \n> **Culture:**\n> \n> * **History:** Pakistan has a rich history, having been a part of ancient civilizations like the Indus Valley Civilization. It was also a key part of the Mughal Empire and British India.\n> * **Languages:** Urdu is the national language, but Punjabi, Sindhi, Pashto, and Balochi are also widely spoken.\n> * **Religion:** Islam is the dominant religion, with a diverse range of sects and practices.\n> * **Arts and Crafts:** Pakistan is known for its vibrant textiles, intricate embroidery, and traditional music and dance forms.\n> * **Cuisine:** Pakistani cuisine is diverse and flavorful, with dishes like biryani, karahi, and nihari being popular.\n> \n> **Economy:**\n> \n> * **Agriculture:** Agriculture is a major sector, with cotton, wheat, and rice being key crops.\n> * **Textiles:** Pakistan is a major textile producer and exporter.\n> * **Services:** The service sector is growing, with tourism, finance, and technology playing important roles.\n> * **Challenges:** Poverty, unemployment, and political instability are some of the challenges facing Pakistan.\n> \n> **People:**\n> \n> * **Warm and Hospitable:** Pakistanis are known for their warm hospitality and welcoming nature.\n> * **Resilient:** The people of Pakistan have faced numerous challenges, but they have shown resilience and determination.\n> * **Diverse:** Pakistan is a diverse country with people from different ethnicities, languages, and cultures.\n> \n> **Tourism:**\n> \n> * **Historical Sites:** Pakistan has numerous historical sites, including the Mohenjo-daro ruins, the Lahore Fort, and the Taj Mahal (in India, but close to the border).\n> * **Mountain Ranges:** The Karakoram, Hindu Kush, and Himalayas offer stunning views and opportunities for trekking and mountaineering.\n> * **Beaches:** The coastline offers beautiful beaches, including those in Karachi and Gwadar.\n> \n> **Overall, Pakistan is a country of contrasts, offering a unique blend of ancient history, modern development, and breathtaking natural beauty. It is a land of diverse cultures, warm hospitality, and resilient people.**\n> \n> This is just a brief overview. There is much more to learn about Pakistan, its people, and its culture. I encourage you to explore further and discover the fascinating stories and experiences that this country has to offer. \n"
          },
          "metadata": {},
          "execution_count": 50
        }
      ]
    },
    {
      "cell_type": "markdown",
      "source": [],
      "metadata": {
        "id": "Cs7cB7GCl5P2"
      }
    }
  ]
}