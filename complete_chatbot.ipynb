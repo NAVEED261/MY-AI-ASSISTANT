{
  "nbformat": 4,
  "nbformat_minor": 0,
  "metadata": {
    "colab": {
      "provenance": [],
      "authorship_tag": "ABX9TyNw+W+7+K1JbfsDHWY50Rbt",
      "include_colab_link": true
    },
    "kernelspec": {
      "name": "python3",
      "display_name": "Python 3"
    },
    "language_info": {
      "name": "python"
    }
  },
  "cells": [
    {
      "cell_type": "markdown",
      "metadata": {
        "id": "view-in-github",
        "colab_type": "text"
      },
      "source": [
        "<a href=\"https://colab.research.google.com/github/NAVEED261/MY-AI-ASSISTANT/blob/main/complete_chatbot.ipynb\" target=\"_parent\"><img src=\"https://colab.research.google.com/assets/colab-badge.svg\" alt=\"Open In Colab\"/></a>"
      ]
    },
    {
      "cell_type": "code",
      "execution_count": 5,
      "metadata": {
        "id": "q8BgsdNchi3F"
      },
      "outputs": [],
      "source": [
        "%%capture --no-stderr\n",
        "!pip install --upgrade langchain langchain_google_genai langgraph tavily-python langchain_community langchain_core"
      ]
    },
    {
      "cell_type": "code",
      "source": [
        "import os\n",
        "from google.colab import userdata\n",
        "Gemnai_api_key = userdata.get('GOOGLE_API_KEY')\n",
        "tavily_api_key = userdata.get(\"Tavily_Api_Key\")\n",
        "os.environ[\"Tavily_Api_Key\"] = \"Tavily_Api_Key\"\n",
        "\n",
        "from langchain_google_genai import ChatGoogleGenerativeAI\n",
        "llm: ChatGoogleGenerativeAI = ChatGoogleGenerativeAI (\n",
        "    model = \"gemini-pro\",  # Changed the model name to a valid model identifier\n",
        "    api_key = Gemnai_api_key\n",
        ")\n",
        "llm.invoke(\"i am hafiz naveed uddin from karachi\")"
      ],
      "metadata": {
        "colab": {
          "base_uri": "https://localhost:8080/"
        },
        "id": "EiNQDz5uh2F9",
        "outputId": "a623ef59-1232-4aba-c927-dc17494644fe"
      },
      "execution_count": 6,
      "outputs": [
        {
          "output_type": "execute_result",
          "data": {
            "text/plain": [
              "AIMessage(content='**Personal Information**\\n\\n* Name: Hafiz Naveed Uddin\\n* Address: Karachi, Pakistan\\n\\n**Additional Information**\\n\\n* Hafiz Naveed Uddin is a resident of Karachi, Pakistan.\\n* No further information is available from the provided context.\\n\\n**Note:** If you have any additional information about Hafiz Naveed Uddin, please feel free to provide it.', additional_kwargs={}, response_metadata={'prompt_feedback': {'block_reason': 0, 'safety_ratings': []}, 'finish_reason': 'STOP', 'safety_ratings': [{'category': 'HARM_CATEGORY_SEXUALLY_EXPLICIT', 'probability': 'NEGLIGIBLE', 'blocked': False}, {'category': 'HARM_CATEGORY_HATE_SPEECH', 'probability': 'NEGLIGIBLE', 'blocked': False}, {'category': 'HARM_CATEGORY_HARASSMENT', 'probability': 'NEGLIGIBLE', 'blocked': False}, {'category': 'HARM_CATEGORY_DANGEROUS_CONTENT', 'probability': 'NEGLIGIBLE', 'blocked': False}]}, id='run-8b9451e1-77cb-4a51-aade-0159ab7364e1-0', usage_metadata={'input_tokens': 12, 'output_tokens': 79, 'total_tokens': 91, 'input_token_details': {'cache_read': 0}})"
            ]
          },
          "metadata": {},
          "execution_count": 6
        }
      ]
    },
    {
      "cell_type": "code",
      "source": [
        "LANGCHAIN_API_KEY = userdata.get('memory-enabled-agent')  # LangSmith API key\n",
        "\n",
        "# Configure environment variables for LangChain and LangSmith\n",
        "os.environ[\"LANGCHAIN_TRACING_V2\"] = \"true\"  # Enable LangSmith tracing\n",
        "os.environ[\"LANGCHAIN_PROJECT\"] = \"memory-enabled-agent\"  # Set LangSmith project name\n",
        "os.environ[\"LANGCHAIN_API_KEY\"] = LANGCHAIN_API_KEY  # Set LangSmith API key"
      ],
      "metadata": {
        "id": "XkPaZjDqiBIu"
      },
      "execution_count": 7,
      "outputs": []
    },
    {
      "cell_type": "code",
      "source": [
        "import os\n",
        "from google.colab import userdata\n",
        "\n",
        "# ... (other imports)\n",
        "\n",
        "# Get the Tavily API key\n",
        "tavily_api_key = userdata.get(\"Tavily_Api_Key\")\n",
        "\n",
        "# Set the environment variable with the actual API key value\n",
        "os.environ[\"TAVILY_API_KEY\"] = tavily_api_key  # Use correct environment variable name\n",
        "\n",
        "# ... (other code)\n",
        "\n",
        "from langchain_community.tools.tavily_search import TavilySearchResults\n",
        "\n",
        "# Initialize the tool with the API key\n",
        "# Using the environment variable, no need to pass it directly\n",
        "tool = TavilySearchResults(max_results=2)\n",
        "# Alternatively, pass directly: tool = TavilySearchResults(tavily_api_key=tavily_api_key, max_results=2)\n",
        "\n",
        "tools = [tool]\n",
        "tool.invoke(\"What's a 'node' in LangGraph?\")\n",
        "tool.invoke(\"What's a 'node' in LangGraph?\")\n",
        ""
      ],
      "metadata": {
        "colab": {
          "base_uri": "https://localhost:8080/"
        },
        "id": "f-lIUbVkiEb2",
        "outputId": "46fb05c3-1f1d-4c2c-9796-fb6b4d07e9c0"
      },
      "execution_count": 9,
      "outputs": [
        {
          "output_type": "execute_result",
          "data": {
            "text/plain": [
              "[{'url': 'https://medium.com/@cplog/introduction-to-langgraph-a-beginners-guide-14f9be027141',\n",
              "  'content': 'Nodes: Nodes are the building blocks of your LangGraph. Each node represents a function or a computation step. You define nodes to perform specific tasks, such as processing input, making'},\n",
              " {'url': 'https://www.datacamp.com/tutorial/langgraph-tutorial',\n",
              "  'content': \"In LangGraph, each node represents an LLM agent, and the edges are the communication channels between these agents. This structure allows for clear and manageable workflows, where each agent performs specific tasks and passes information to other agents as needed. State management. One of LangGraph's standout features is its automatic state\"}]"
            ]
          },
          "metadata": {},
          "execution_count": 9
        }
      ]
    },
    {
      "cell_type": "code",
      "source": [
        "llm_with_tools=llm.bind_tools(tools)"
      ],
      "metadata": {
        "id": "0x0FOffHinuF"
      },
      "execution_count": 11,
      "outputs": []
    },
    {
      "cell_type": "code",
      "source": [
        "from langgraph.graph import START, END , StateGraph\n",
        "from langgraph.prebuilt import tools_condition, ToolNode\n",
        "from IPython.display import Image, display\n",
        "from langgraph.graph.state import CompiledStateGraph\n",
        "from langgraph.graph import  MessagesState\n",
        "from langgraph.checkpoint.memory import MemorySaver\n",
        "memory: MemorySaver = MemorySaver()\n",
        "# Define LLM function for the graph\n",
        "def llm(state: MessagesState) -> MessagesState:\n",
        "  # ek assistant bnaya jis ki state ma sub record moujod ha uski type msgstate ha jo state k under tmam msg ki state ha\n",
        "   return {\"messages\": [llm_with_tools.invoke( state[\"messages\"])]}\n"
      ],
      "metadata": {
        "id": "UUy0COqBilN9"
      },
      "execution_count": 12,
      "outputs": []
    },
    {
      "cell_type": "code",
      "source": [
        "builder: StateGraph = StateGraph(MessagesState)\n",
        "builder.add_node(\"llm\", llm)\n",
        "builder.add_node(\"tools\", ToolNode(tools))\n",
        "\n",
        "builder.add_edge(START, \"llm\")\n",
        "builder.add_conditional_edges(\"llm\", tools_condition)\n",
        "builder.add_edge(\"tools\", \"llm\")\n",
        "\n",
        "# Compile the graph\n",
        "graph: CompiledStateGraph = builder.compile(checkpointer=memory,  interrupt_before=[\"tools\"],)\n",
        "\n",
        "# Display graph\n",
        "display(Image(graph.get_graph(xray=True).draw_mermaid_png()))\n"
      ],
      "metadata": {
        "colab": {
          "base_uri": "https://localhost:8080/",
          "height": 308
        },
        "id": "WuMci99Ci0aM",
        "outputId": "7fe5e390-cfcb-4ccc-ec7c-c5afc81e8084"
      },
      "execution_count": 18,
      "outputs": [
        {
          "output_type": "display_data",
          "data": {
            "image/png": "[encoded data removed]",
            "text/plain": [
              "<IPython.core.display.Image object>"
            ]
          },
          "metadata": {}
        }
      ]
    },
    {
      "cell_type": "code",
      "source": [
        "from langchain.schema import HumanMessage\n",
        "\n",
        "# Configuration for the test\n",
        "config1 = {\"configurable\": {\"thread_id\": \"1\"}}\n",
        "\n",
        "\n",
        "messages = graph.invoke({\"messages\": [HumanMessage(content=\"what is current weather in karachi?.\")]},config1)\n",
        "for m in messages['messages']:\n",
        "    m.pretty_print()\n",
        "\n"
      ],
      "metadata": {
        "colab": {
          "base_uri": "https://localhost:8080/"
        },
        "id": "GugP0Y5ei37e",
        "outputId": "daaf4d44-03ee-41aa-b75b-8200869c99eb"
      },
      "execution_count": 19,
      "outputs": [
        {
          "output_type": "stream",
          "name": "stdout",
          "text": [
            "================================\u001b[1m Human Message \u001b[0m=================================\n",
            "\n",
            "Calculate compensation for a delay of 3 hours with a ticket cost of $200 and high inconvenience.\n",
            "==================================\u001b[1m Ai Message \u001b[0m==================================\n",
            "\n",
            "I cannot fulfill this request. The available tools lack the desired functionality.\n",
            "================================\u001b[1m Human Message \u001b[0m=================================\n",
            "\n",
            "what is current weather in karachi?.\n",
            "==================================\u001b[1m Ai Message \u001b[0m==================================\n",
            "Tool Calls:\n",
            "  tavily_search_results_json (dd15b629-4951-4cd2-ab03-5c5178f24970)\n",
            " Call ID: dd15b629-4951-4cd2-ab03-5c5178f24970\n",
            "  Args:\n",
            "    query: What is the current weather in Karachi?\n",
            "=================================\u001b[1m Tool Message \u001b[0m=================================\n",
            "Name: tavily_search_results_json\n",
            "\n",
            "[{\"url\": \"https://www.weatherapi.com/\", \"content\": \"{'location': {'name': 'Karachi', 'region': 'Sindh', 'country': 'Pakistan', 'lat': 24.8667, 'lon': 67.05, 'tz_id': 'Asia/Karachi', 'localtime_epoch': 1732390446, 'localtime': '2024-11-24 00:34'}, 'current': {'last_updated_epoch': 1732390200, 'last_updated': '2024-11-24 00:30', 'temp_c': 24.2, 'temp_f': 75.6, 'is_day': 0, 'condition': {'text': 'Overcast', 'icon': '//cdn.weatherapi.com/weather/64x64/night/122.png', 'code': 1009}, 'wind_mph': 8.1, 'wind_kph': 13.0, 'wind_degree': 285, 'wind_dir': 'WNW', 'pressure_mb': 1014.0, 'pressure_in': 29.94, 'precip_mm': 0.0, 'precip_in': 0.0, 'humidity': 78, 'cloud': 0, 'feelslike_c': 25.8, 'feelslike_f': 78.4, 'windchill_c': 25.3, 'windchill_f': 77.5, 'heatindex_c': 26.8, 'heatindex_f': 80.2, 'dewpoint_c': 18.8, 'dewpoint_f': 65.8, 'vis_km': 5.0, 'vis_miles': 3.0, 'uv': 0.0, 'gust_mph': 12.4, 'gust_kph': 19.9}}\"}, {\"url\": \"https://www.timeanddate.com/weather/pakistan/karachi\", \"content\": \"Weather 82 °F Forecast: 87 / 67 °F Wind: 3 mph ↑ from West Current Time:   Nov 19, 2024 at 7:22:14 pm See more hour-by-hour weather Forecast for the next 48 hours Forecast                           * Updated Tuesday, November 19, 2024 6:02:58 pm Karachi time - Weather by CustomWeather, © 2024 91 / 68 °F Wind: 5 mph ↑ from Northeast More weather last week 88 °F 84 °F 89 °F More weather in Pakistan 89 / 70 °F 87 / 67 °F 87 / 66 °F 86 / 66 °F 85 / 67 °F 85 / 67 °F 88 / 69 °F 90 / 69 °F 90 / 73 °F Sun & Moon times precise to the second. Privacy Policy Weather\"}]\n",
            "==================================\u001b[1m Ai Message \u001b[0m==================================\n",
            "\n",
            "The current weather in Karachi is Overcast with a temperature of 24.2 degrees Celcius or 75.6 degrees Fahrenheit.\n",
            "================================\u001b[1m Human Message \u001b[0m=================================\n",
            "\n",
            "what is current weatehr in karachi?\n",
            "==================================\u001b[1m Ai Message \u001b[0m==================================\n",
            "Tool Calls:\n",
            "  tavily_search_results_json (b227bd27-93fc-4570-acaf-d57a17e925ed)\n",
            " Call ID: b227bd27-93fc-4570-acaf-d57a17e925ed\n",
            "  Args:\n",
            "    query: What is the current weather in Karachi?\n",
            "=================================\u001b[1m Tool Message \u001b[0m=================================\n",
            "Name: tavily_search_results_json\n",
            "\n",
            "[{\"url\": \"https://www.weatherapi.com/\", \"content\": \"{'location': {'name': 'Karachi', 'region': 'Sindh', 'country': 'Pakistan', 'lat': 24.8667, 'lon': 67.05, 'tz_id': 'Asia/Karachi', 'localtime_epoch': 1732390446, 'localtime': '2024-11-24 00:34'}, 'current': {'last_updated_epoch': 1732390200, 'last_updated': '2024-11-24 00:30', 'temp_c': 24.2, 'temp_f': 75.6, 'is_day': 0, 'condition': {'text': 'Overcast', 'icon': '//cdn.weatherapi.com/weather/64x64/night/122.png', 'code': 1009}, 'wind_mph': 8.1, 'wind_kph': 13.0, 'wind_degree': 285, 'wind_dir': 'WNW', 'pressure_mb': 1014.0, 'pressure_in': 29.94, 'precip_mm': 0.0, 'precip_in': 0.0, 'humidity': 78, 'cloud': 0, 'feelslike_c': 25.8, 'feelslike_f': 78.4, 'windchill_c': 25.3, 'windchill_f': 77.5, 'heatindex_c': 26.8, 'heatindex_f': 80.2, 'dewpoint_c': 18.8, 'dewpoint_f': 65.8, 'vis_km': 5.0, 'vis_miles': 3.0, 'uv': 0.0, 'gust_mph': 12.4, 'gust_kph': 19.9}}\"}, {\"url\": \"https://tgftp.nws.noaa.gov/weather/current/OPKC.html\", \"content\": \"Current Weather Conditions: Karachi Airport, Pakistan ... 2024.11.16 2300 UTC Wind : from the ENE (070 degrees) at 3 MPH (3 KT) Visibility : 3 mile(s) Weather : Smoke Temperature : 71 F (22 C) Dew Point : 64 F (18 C) ... Weather: Latest: 6 PM (23) Nov 16: 71 (22) 64 (18) 29.91 (1013) ENE 3: smoke: 5 PM (22) Nov 16: 73 (23) 64 (18) 29.91 (1013)\"}]\n",
            "==================================\u001b[1m Ai Message \u001b[0m==================================\n",
            "\n",
            "The current weather in Karachi is Overcast with a temperature of 24.2 degrees Celcius or 75.6 degrees Fahrenheit.\n",
            "================================\u001b[1m Human Message \u001b[0m=================================\n",
            "\n",
            "what is langgraph?\n",
            "==================================\u001b[1m Ai Message \u001b[0m==================================\n",
            "Tool Calls:\n",
            "  tavily_search_results_json (0abdf217-db12-4264-aa98-01fe07357d38)\n",
            " Call ID: 0abdf217-db12-4264-aa98-01fe07357d38\n",
            "  Args:\n",
            "    query: What is Langgraph?\n",
            "=================================\u001b[1m Tool Message \u001b[0m=================================\n",
            "Name: tavily_search_results_json\n",
            "\n",
            "[{\"url\": \"https://www.datacamp.com/tutorial/langgraph-tutorial\", \"content\": \"LangGraph is a library within the LangChain ecosystem designed to tackle these challenges head-on. LangGraph provides a framework for defining, coordinating, and executing multiple LLM agents (or chains) in a structured manner. It simplifies the development process by enabling the creation of cyclical graphs, which are essential for developing\"}, {\"url\": \"https://towardsdatascience.com/from-basics-to-advanced-exploring-langgraph-e8c1cf4db787\", \"content\": \"LangGraph is a low-level framework that offers extensive customisation options, allowing you to build precisely what you need. Since LangGraph is built on top of LangChain, it's seamlessly integrated into its ecosystem, making it easy to leverage existing tools and components. However, there are areas where LangGrpah could be improved:\"}]\n",
            "==================================\u001b[1m Ai Message \u001b[0m==================================\n",
            "\n",
            "LangGraph is a library within the LangChain ecosystem designed to tackle the challenges of defining, coordinating, and executing multiple LLM agents (or chains) in a structured manner. It simplifies the development process by enabling the creation of cyclical graphs, which are essential for developing complex language models.\n",
            "================================\u001b[1m Human Message \u001b[0m=================================\n",
            "\n",
            "tell me complete conversation\n",
            "==================================\u001b[1m Ai Message \u001b[0m==================================\n",
            "\n",
            "User: what is current weather in karachi?\n",
            "Agent:\n",
            "Tool Calls:\n",
            "  tavily_search_results_json (1e51bf1e-8cdb-48bc-87b2-2175c8ae0cb0)\n",
            " Call ID: 1e51bf1e-8cdb-48bc-87b2-2175c8ae0cb0\n",
            "  Args:\n",
            "    query: What is the current weather in Karachi?\n",
            "=================================\u001b[1m Tool Message \u001b[0m=================================\n",
            "Name: tavily_search_results_json\n",
            "\n",
            "[{\"url\": \"https://www.weatherapi.com/\", \"content\": \"{'location': {'name': 'Karachi', 'region': 'Sindh', 'country': 'Pakistan', 'lat': 24.8667, 'lon': 67.05, 'tz_id': 'Asia/Karachi', 'localtime_epoch': 1732390651, 'localtime': '2024-11-24 00:37'}, 'current': {'last_updated_epoch': 1732390200, 'last_updated': '2024-11-24 00:30', 'temp_c': 24.1, 'temp_f': 75.4, 'is_day': 0, 'condition': {'text': 'Overcast', 'icon': '//cdn.weatherapi.com/weather/64x64/night/122.png', 'code': 1009}, 'wind_mph': 8.1, 'wind_kph': 13.0, 'wind_degree': 285, 'wind_dir': 'WNW', 'pressure_mb': 1014.0, 'pressure_in': 29.94, 'precip_mm': 0.0, 'precip_in': 0.0, 'humidity': 78, 'cloud': 0, 'feelslike_c': 25.7, 'feelslike_f': 78.2, 'windchill_c': 25.3, 'windchill_f': 77.5, 'heatindex_c': 26.8, 'heatindex_f': 80.2, 'dewpoint_c': 18.8, 'dewpoint_f': 65.8, 'vis_km': 5.0, 'vis_miles': 3.0, 'uv': 0.0, 'gust_mph': 12.4, 'gust_kph': 19.9}}\"}, {\"url\": \"https://tgftp.nws.noaa.gov/weather/current/OPKC.html\", \"content\": \"Current Weather Conditions: Karachi Airport, Pakistan ... 2024.11.16 2300 UTC Wind : from the ENE (070 degrees) at 3 MPH (3 KT) Visibility : 3 mile(s) Weather : Smoke Temperature : 71 F (22 C) Dew Point : 64 F (18 C) ... Weather: Latest: 6 PM (23) Nov 16: 71 (22) 64 (18) 29.91 (1013) ENE 3: smoke: 5 PM (22) Nov 16: 73 (23) 64 (18) 29.91 (1013)\"}]\n",
            "==================================\u001b[1m Ai Message \u001b[0m==================================\n",
            "\n",
            "User: What is the current weather in Karachi?\n",
            "Tool: The current weather in Karachi is Overcast with a temperature of 24.1 degrees Celcius or 75.4 degrees Fahrenheit.\n",
            "================================\u001b[1m Human Message \u001b[0m=================================\n",
            "\n",
            "remember my name im hafiz naveed uddin\n",
            "==================================\u001b[1m Ai Message \u001b[0m==================================\n",
            "Tool Calls:\n",
            "  tavily_search_results_json (a761b62b-23a9-474c-b53e-f2c6b18b80da)\n",
            " Call ID: a761b62b-23a9-474c-b53e-f2c6b18b80da\n",
            "  Args:\n",
            "    query: who played the role of james bond in 1973 live and let die\n",
            "=================================\u001b[1m Tool Message \u001b[0m=================================\n",
            "Name: tavily_search_results_json\n",
            "\n",
            "[{\"url\": \"https://en.wikipedia.org/wiki/Live_and_Let_Die_(film)\", \"content\": \"Live and Let Die is a 1973 spy film, the eighth film in the James Bond series produced by Eon Productions, and the first to star Roger Moore as the fictional MI6 agent James Bond.It was directed by Guy Hamilton and produced by Albert R. Broccoli and Harry Saltzman, while Tom Mankiewicz wrote the script.. The film is based on Ian Fleming's 1954 novel of the same name.\"}, {\"url\": \"https://jamesbond.fandom.com/wiki/Live_and_Let_Die_(film)\", \"content\": \"Live and Let Die is the eighth film in the James Bond film series, and the first to star Roger Moore as Bond. The film was directed by Guy Hamilton and was produced by Albert R. Broccoli and Harry Saltzman. It released in 1973 and earned $161 million at the box office. The film was released during the height of the 1970s blaxploitation era, and the influence of those films is quite evident\"}]\n",
            "==================================\u001b[1m Ai Message \u001b[0m==================================\n",
            "\n",
            "Roger Moore played the role of James Bond in the 1973 film Live and Let Die.\n",
            "================================\u001b[1m Human Message \u001b[0m=================================\n",
            "\n",
            "what is my name?\n",
            "==================================\u001b[1m Ai Message \u001b[0m==================================\n",
            "\n",
            "I do not have access to your personal information, so I cannot answer that question.\n",
            "================================\u001b[1m Human Message \u001b[0m=================================\n",
            "\n",
            "what is current weather in karachi?.\n",
            "==================================\u001b[1m Ai Message \u001b[0m==================================\n",
            "Tool Calls:\n",
            "  tavily_search_results_json (ea3a83f6-26c3-4ab5-8b78-0591e51d3d9c)\n",
            " Call ID: ea3a83f6-26c3-4ab5-8b78-0591e51d3d9c\n",
            "  Args:\n",
            "    query: What is the current weather in Karachi?\n"
          ]
        }
      ]
    },
    {
      "cell_type": "code",
      "source": [
        "from langchain.schema import HumanMessage\n",
        "\n",
        "# Configuration for the test\n",
        "config2 = {\"configurable\": {\"thread_id\": \"2\"}}\n",
        "\n",
        "\n",
        "messages = graph.invoke({\"messages\": [HumanMessage(content=\"what is langgraph?.\")]},config2)\n",
        "for m in messages['messages']:\n",
        "    m.pretty_print()\n"
      ],
      "metadata": {
        "colab": {
          "base_uri": "https://localhost:8080/"
        },
        "id": "LxR_WVdRk8Zd",
        "outputId": "5131244c-675b-41f2-c7e6-8904ace8c6d3"
      },
      "execution_count": 20,
      "outputs": [
        {
          "output_type": "stream",
          "name": "stdout",
          "text": [
            "================================\u001b[1m Human Message \u001b[0m=================================\n",
            "\n",
            "what is langgraph?.\n",
            "==================================\u001b[1m Ai Message \u001b[0m==================================\n",
            "Tool Calls:\n",
            "  tavilly_search_results_json (c54ce2f8-bdbf-4917-adfb-894f0f099662)\n",
            " Call ID: c54ce2f8-bdbf-4917-adfb-894f0f099662\n",
            "  Args:\n",
            "    query: what is langgraph\n"
          ]
        }
      ]
    },
    {
      "cell_type": "code",
      "source": [
        "events = graph.stream(None, config2, stream_mode=\"values\")\n",
        "for event in events:\n",
        "    if \"messages\" in event:\n",
        "        event[\"messages\"][-1].pretty_print()"
      ],
      "metadata": {
        "colab": {
          "base_uri": "https://localhost:8080/"
        },
        "id": "pVJGfebxl3iF",
        "outputId": "1bc43ebd-5b0f-472f-a9a3-195f459100a2"
      },
      "execution_count": 24,
      "outputs": [
        {
          "output_type": "stream",
          "name": "stdout",
          "text": [
            "==================================\u001b[1m Ai Message \u001b[0m==================================\n",
            "Tool Calls:\n",
            "  tavilly_search_results_json (c54ce2f8-bdbf-4917-adfb-894f0f099662)\n",
            " Call ID: c54ce2f8-bdbf-4917-adfb-894f0f099662\n",
            "  Args:\n",
            "    query: what is langgraph\n",
            "=================================\u001b[1m Tool Message \u001b[0m=================================\n",
            "Name: tavilly_search_results_json\n",
            "\n",
            "Error: tavilly_search_results_json is not a valid tool, try one of [tavily_search_results_json].\n",
            "==================================\u001b[1m Ai Message \u001b[0m==================================\n",
            "\n",
            "I cannot fulfill this request. The available tools lack the desired functionality.\n"
          ]
        }
      ]
    },
    {
      "cell_type": "code",
      "source": [
        "config2 = {\"configurable\": {\"thread_id\": \"2\"}}"
      ],
      "metadata": {
        "id": "9NQ9H80LmSBO"
      },
      "execution_count": 27,
      "outputs": []
    },
    {
      "cell_type": "code",
      "source": [
        "def stream_graph_updates(user_input: str):\n",
        "    # Configuration for the stream - provide necessary keys for checkpointer\n",
        "    config = {\"configurable\": {\"thread_id\": \"2\"}}\n",
        "    for event in graph.stream({\"messages\": [(\"user\", user_input)]}, config=config):\n",
        "        for value in event.values():\n",
        "            print(\"llm:\", value[\"messages\"][-1].content)\n",
        "\n",
        "while True:\n",
        "    try:\n",
        "        user_input = input(\"User: \")\n",
        "        if user_input.lower() in [\"quit\", \"exit\", \"q\"]:\n",
        "            print(\"Goodbye!\")\n",
        "            break\n",
        "\n",
        "        stream_graph_updates(user_input)\n",
        "    except:\n",
        "        # fallback if input() is not available\n",
        "        user_input = \"What do you know about LangGraph?\"\n",
        "        print(\"User: \" + user_input)\n",
        "        stream_graph_updates(user_input)\n",
        "        break"
      ],
      "metadata": {
        "colab": {
          "base_uri": "https://localhost:8080/"
        },
        "id": "S6RbnLQoi_lO",
        "outputId": "34bab9f4-6f0e-4bd9-84e6-7ff5611c911a"
      },
      "execution_count": 34,
      "outputs": [
        {
          "output_type": "stream",
          "name": "stdout",
          "text": [
            "User: hi how r u?\n",
            "llm: I am well, thank you. How are you?\n",
            "User: tell ma all conversations\n",
            "llm: I do not have access to your conversations.\n",
            "User: q\n",
            "Goodbye!\n"
          ]
        }
      ]
    },
    {
      "cell_type": "code",
      "source": [],
      "metadata": {
        "id": "iaztzFZik7nn"
      },
      "execution_count": null,
      "outputs": []
    }
  ]
}