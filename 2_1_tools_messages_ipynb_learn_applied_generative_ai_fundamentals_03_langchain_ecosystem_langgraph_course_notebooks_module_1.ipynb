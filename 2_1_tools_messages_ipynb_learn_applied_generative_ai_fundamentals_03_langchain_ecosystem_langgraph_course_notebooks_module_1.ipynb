{
  "cells": [
    {
      "cell_type": "markdown",
      "metadata": {
        "id": "view-in-github",
        "colab_type": "text"
      },
      "source": [
        "<a href=\"https://colab.research.google.com/github/NAVEED261/MY-AI-ASSISTANT/blob/main/2_1_tools_messages_ipynb_learn_applied_generative_ai_fundamentals_03_langchain_ecosystem_langgraph_course_notebooks_module_1.ipynb\" target=\"_parent\"><img src=\"https://colab.research.google.com/assets/colab-badge.svg\" alt=\"Open In Colab\"/></a>"
      ]
    },
    {
      "cell_type": "markdown",
      "metadata": {
        "id": "wpDnGC3jxMyL"
      },
      "source": [
        "# LLM Actions aur Structure Messages\n",
        "\n",
        "# Review:\n",
        "Humne aik simple graph banaya jisme nodes, normal edges, aur conditional edges shamil hain.\n",
        "\n",
        "# Goals:\n",
        "Ab hum Actions ki power ko AI Models ke sath samajhte hain aur is se pehle apne prompts ko structure karte hain."
      ]
    },
    {
      "cell_type": "markdown",
      "metadata": {
        "id": "M_BC2zItxMyO"
      },
      "source": [
        "## Messages\n",
        "\n",
        "Chat Models Messages Use Kar Sakte Hain, Jo Conversation Mein Mukhtalif Roles Ko Capture Karte Hain.\n",
        "\n",
        "LangChain mein mukhtalif message types ko support kiya jata hai, jisme HumanMessage, AIMessage, SystemMessage, aur ToolMessage shamil hain.\n",
        "HumanMessage: User ki taraf se aaya hua message. INSHORT PROMPT\n",
        "# AIMessage:\n",
        "Chat model ka response.\n",
        "# SystemMessage:\n",
        " Chat model ko behavior instruct karne ke liye message. MEANS LLM KI TRF SA AI KO INSTRUCTION DANA.\n",
        "# ToolMessage:\n",
        " Kisi tool call se aaya hua message. MEANS WEBSEARCH YA TOOL SA AYA HOWA RESPONSE\n",
        "Ab hum ek list of messages banate hain.\n",
        "\n",
        "Har message mein kuch cheezen shamil ki ja sakti hain:\n",
        "\n",
        "content: Message ka asal mazmoon.\n",
        "name: Optional, message ke author ka naam.\n",
        "response_metadata: Optional, ek dictionary jo metadata rakhti hai (jaise ke model provider ne AIMessages ke liye populate kiya ho).\n",
        "\n",
        "\n",
        "\n",
        "\n",
        "\n",
        "\n",
        "\n",
        "\n",
        "\n",
        "\n",
        "\n"
      ]
    },
    {
      "cell_type": "markdown",
      "source": [
        "HumanMessage: User ki taraf se aaya hua message.\n",
        "AIMessage: Chat model ka response.\n",
        "SystemMessage: Chat model ko behavior instruct karne ke liye message.\n",
        "ToolMessage: Kisi tool call se aaya hua message."
      ],
      "metadata": {
        "id": "CcbxlT7P5nAL"
      }
    },
    {
      "cell_type": "markdown",
      "source": [
        "LLM.INVOKE:   \n",
        "MEANS LLM KO CALL KRHA HA NORMAL CONVESATION K LYA LIKE HA PROMPT \"HELLO HOW R U \" OUTPUT FROM LLM \"IM FINE\"\n",
        "LLM WITH TOOL: MEANS LLM AI KO KHRHA HA K TOOLS USE KRO MEANS ...LLM JUB KO PROPER ANSWER NI DASKTA TO WO AI KO KHTA HA AAP TOOL USE KRO OR OUTPUT LO LIKE AS WEB SEARCH\n",
        "LLM.BIND_TOOL: TOOL OR LLM KA APES MA CONNECTION DANA K LYA HOTA HA MEANS. AI LLM KO KHRHA HA AAP BIND TOOL USE KRO IS KAM K LYA\n",
        "NOTE: LLM bind tools tab use karta hai jab koi mushkil kaam ho ya bahar se data chahiye ho, aur tool pehle se joda gaya ho. WERNA WO AI KO BTATA HA YA USE AAP KRO.\n",
        "\n",
        "\n",
        "\n",
        "\n",
        "\n",
        "\n"
      ],
      "metadata": {
        "id": "2FBLlO2HYTYb"
      }
    },
    {
      "cell_type": "code",
      "source": [
        "%pip install --quiet -U langchain-google-genai"
      ],
      "metadata": {
        "id": "wO8vuHUm0C0-"
      },
      "execution_count": null,
      "outputs": []
    },
    {
      "cell_type": "code",
      "source": [
        "from google.colab import userdata\n",
        "gemini_api_key = userdata.get('my_stenographer_key')\n",
        "from langchain_google_genai import ChatGoogleGenerativeAI\n",
        "\n",
        "llm: ChatGoogleGenerativeAI = ChatGoogleGenerativeAI(model=\"gemini-1.5-flash\", api_key=gemini_api_key)\n"
      ],
      "metadata": {
        "id": "rgNQMZgT0O0T"
      },
      "execution_count": null,
      "outputs": []
    },
    {
      "cell_type": "code",
      "source": [
        "from pprint import pprint\n",
        "from langchain_core.messages import AIMessage, HumanMessage, SystemMessage\n"
      ],
      "metadata": {
        "id": "jOAQ_5MG0rTc"
      },
      "execution_count": null,
      "outputs": []
    },
    {
      "cell_type": "code",
      "source": [
        "llm.invoke(\"Hi naveed how r u\")\n"
      ],
      "metadata": {
        "id": "d5Cj4bzK0c4c",
        "outputId": "7b182734-fbd0-4b21-93b5-afff5e7dbd9a",
        "colab": {
          "base_uri": "https://localhost:8080/"
        }
      },
      "execution_count": null,
      "outputs": [
        {
          "output_type": "execute_result",
          "data": {
            "text/plain": [
              "AIMessage(content='As an AI, I don\\'t have feelings or experiences like humans do, so I don\\'t have a \"how are you\" to share. 😊 \\n\\nHow are you doing today? What can I help you with? \\n', additional_kwargs={}, response_metadata={'prompt_feedback': {'block_reason': 0, 'safety_ratings': []}, 'finish_reason': 'STOP', 'safety_ratings': [{'category': 'HARM_CATEGORY_SEXUALLY_EXPLICIT', 'probability': 'NEGLIGIBLE', 'blocked': False}, {'category': 'HARM_CATEGORY_HATE_SPEECH', 'probability': 'NEGLIGIBLE', 'blocked': False}, {'category': 'HARM_CATEGORY_HARASSMENT', 'probability': 'NEGLIGIBLE', 'blocked': False}, {'category': 'HARM_CATEGORY_DANGEROUS_CONTENT', 'probability': 'NEGLIGIBLE', 'blocked': False}]}, id='run-175ad743-edf0-4aa3-aeba-b4e838b54320-0', usage_metadata={'input_tokens': 7, 'output_tokens': 47, 'total_tokens': 54, 'input_token_details': {'cache_read': 0}})"
            ]
          },
          "metadata": {},
          "execution_count": 15
        }
      ]
    },
    {
      "cell_type": "code",
      "source": [
        "messages = [HumanMessage(content=\"do  u know about pakistan?\")]\n",
        "\n",
        "result = llm.invoke(messages)\n",
        "print(result)"
      ],
      "metadata": {
        "id": "DP7F-HW10imN",
        "outputId": "61c41c95-15be-4a56-dc79-70752380c6c9",
        "colab": {
          "base_uri": "https://localhost:8080/"
        }
      },
      "execution_count": null,
      "outputs": [
        {
          "output_type": "stream",
          "name": "stdout",
          "text": [
            "content='Yes, I do! I have access to a vast amount of information about Pakistan, including:\\n\\n* **Geography:** Location, climate, terrain, major cities, rivers, mountains, etc.\\n* **History:** From ancient civilizations to the modern era, including its independence, political history, and major events.\\n* **Culture:** Languages, traditions, festivals, music, art, cuisine, and more.\\n* **Demographics:** Population, ethnic groups, religions, education, healthcare, etc.\\n* **Economy:** Industries, agriculture, trade, major exports and imports, etc.\\n* **Politics:** Government structure, political parties, current events, etc.\\n* **Society:** Social issues, gender roles, education system, healthcare system, etc.\\n\\nWhat specifically would you like to know about Pakistan? I can provide you with factual information, historical insights, or cultural details. Just ask! \\n' additional_kwargs={} response_metadata={'prompt_feedback': {'block_reason': 0, 'safety_ratings': []}, 'finish_reason': 'STOP', 'safety_ratings': [{'category': 'HARM_CATEGORY_SEXUALLY_EXPLICIT', 'probability': 'NEGLIGIBLE', 'blocked': False}, {'category': 'HARM_CATEGORY_HATE_SPEECH', 'probability': 'NEGLIGIBLE', 'blocked': False}, {'category': 'HARM_CATEGORY_HARASSMENT', 'probability': 'NEGLIGIBLE', 'blocked': False}, {'category': 'HARM_CATEGORY_DANGEROUS_CONTENT', 'probability': 'NEGLIGIBLE', 'blocked': False}]} id='run-806cbf8f-d0db-4cf1-931a-14d812ca22df-0' usage_metadata={'input_tokens': 8, 'output_tokens': 183, 'total_tokens': 191, 'input_token_details': {'cache_read': 0}}\n"
          ]
        }
      ]
    },
    {
      "cell_type": "code",
      "source": [
        "context_call = llm.invoke(messages)\n",
        "print(context_call)"
      ],
      "metadata": {
        "id": "c36LQiYM09MM",
        "outputId": "ed62e7b4-a3e1-4fab-d2ab-78f05003b04a",
        "colab": {
          "base_uri": "https://localhost:8080/"
        }
      },
      "execution_count": null,
      "outputs": [
        {
          "output_type": "stream",
          "name": "stdout",
          "text": [
            "content='Yes, I know about Pakistan! I have access to a vast amount of information about it, including:\\n\\n* **Geography:** Location, climate, topography, major cities, etc.\\n* **History:** From its independence to modern times, including significant events, leaders, and cultural developments.\\n* **Culture:** Languages, religions, traditions, cuisine, music, art, and more.\\n* **Politics:** Government structure, political parties, current events, etc.\\n* **Economy:** Key industries, trade partners, economic challenges, and more.\\n* **Society:** Demographics, social issues, education, healthcare, etc.\\n\\n**What would you like to know about Pakistan?** I can answer questions about specific topics, provide summaries, or offer relevant links to reputable sources. \\n\\nFor example, you could ask:\\n\\n* \"What are the major industries in Pakistan?\"\\n* \"Tell me about the history of the Pakistan Movement.\"\\n* \"What are some famous Pakistani dishes?\"\\n* \"What are the current political challenges facing Pakistan?\"\\n\\nI\\'m ready to share my knowledge! 😊 \\n' additional_kwargs={} response_metadata={'prompt_feedback': {'block_reason': 0, 'safety_ratings': []}, 'finish_reason': 'STOP', 'safety_ratings': [{'category': 'HARM_CATEGORY_SEXUALLY_EXPLICIT', 'probability': 'NEGLIGIBLE', 'blocked': False}, {'category': 'HARM_CATEGORY_HATE_SPEECH', 'probability': 'NEGLIGIBLE', 'blocked': False}, {'category': 'HARM_CATEGORY_HARASSMENT', 'probability': 'NEGLIGIBLE', 'blocked': False}, {'category': 'HARM_CATEGORY_DANGEROUS_CONTENT', 'probability': 'NEGLIGIBLE', 'blocked': False}]} id='run-677bfbbd-5db2-48ba-aac2-f0271ba037ce-0' usage_metadata={'input_tokens': 8, 'output_tokens': 225, 'total_tokens': 233, 'input_token_details': {'cache_read': 0}}\n"
          ]
        }
      ]
    },
    {
      "cell_type": "code",
      "source": [
        "system_human_message = [\n",
        "                SystemMessage(content=\"im learning generating ai .\"),\n",
        "                HumanMessage(content=\"What are u learning now a days?\")\n",
        "            ]\n",
        "result = llm.invoke(system_human_message)\n",
        "print(result)\n",
        "#STRUCTURAL FORM MA PROMPT LYA OR TOOL KO CALL KI"
      ],
      "metadata": {
        "id": "WyRL0Apo03MT",
        "outputId": "9276481c-f8a8-4973-eb6e-9af409fde5f0",
        "colab": {
          "base_uri": "https://localhost:8080/"
        }
      },
      "execution_count": null,
      "outputs": [
        {
          "output_type": "stream",
          "name": "stdout",
          "text": [
            "content=\"As a large language model, I am constantly learning! I'm trained on a massive amount of text data, and I'm always being updated with new information. \\n\\nHere are some of the things I'm currently learning:\\n\\n* **New ways to understand and respond to your questions:** I'm always working on improving my ability to understand complex queries, provide accurate and relevant information, and generate creative and engaging responses.\\n* **New languages:** I'm learning to communicate in more languages, so I can be helpful to a wider audience.\\n* **New tasks:** I'm learning to perform new tasks, like writing different kinds of creative text formats, like poems, code, scripts, musical pieces, email, letters, etc. I will try my best to fulfill all your requirements.\\n\\nIt's an exciting time to be working with AI, and I'm constantly learning new things. I'm excited to see what the future holds!\\n\\n**What are you learning these days? I'm curious to hear about your interests!** \\n\" additional_kwargs={} response_metadata={'prompt_feedback': {'block_reason': 0, 'safety_ratings': []}, 'finish_reason': 'STOP', 'safety_ratings': [{'category': 'HARM_CATEGORY_SEXUALLY_EXPLICIT', 'probability': 'NEGLIGIBLE', 'blocked': False}, {'category': 'HARM_CATEGORY_HATE_SPEECH', 'probability': 'NEGLIGIBLE', 'blocked': False}, {'category': 'HARM_CATEGORY_HARASSMENT', 'probability': 'NEGLIGIBLE', 'blocked': False}, {'category': 'HARM_CATEGORY_DANGEROUS_CONTENT', 'probability': 'NEGLIGIBLE', 'blocked': False}]} id='run-2768d8bf-3dd1-4617-89b7-cc500388b86f-0' usage_metadata={'input_tokens': 14, 'output_tokens': 218, 'total_tokens': 232, 'input_token_details': {'cache_read': 0}}\n"
          ]
        }
      ]
    },
    {
      "cell_type": "code",
      "execution_count": null,
      "metadata": {
        "colab": {
          "base_uri": "https://localhost:8080/"
        },
        "id": "oOPSVgzUxMyQ",
        "outputId": "d666a6c6-e5e5-423d-e996-4b993500b543"
      },
      "outputs": [
        {
          "output_type": "stream",
          "name": "stdout",
          "text": [
            "==================================\u001b[1m Ai Message \u001b[0m==================================\n",
            "Name: Model\n",
            "\n",
            "do u know about pakistan ?\n",
            "================================\u001b[1m Human Message \u001b[0m=================================\n",
            "Name: naveed\n",
            "\n",
            "Yes, i know.\n",
            "==================================\u001b[1m Ai Message \u001b[0m==================================\n",
            "Name: Model\n",
            "\n",
            "Great, what would you like to learn about karachi.\n",
            "================================\u001b[1m Human Message \u001b[0m=================================\n",
            "Name: naveed\n",
            "\n",
            " no but I want to learn about the best place to see Orcas in the US.\n"
          ]
        }
      ],
      "source": [
        "\n",
        "messages = [AIMessage(content=f\"do u know about pakistan ?\", name=\"Model\")]\n",
        "messages.append(HumanMessage(content=f\"Yes, i know.\",name=\"naveed\"))\n",
        "messages.append(AIMessage(content=f\"Great, what would you like to learn about karachi.\", name=\"Model\"))\n",
        "messages.append(HumanMessage(content=f\" no but I want to learn about the best place to see Orcas in the US.\", name=\"naveed\"))\n",
        "\n",
        "# Remove the parentheses after 'messages' in the for loop to iterate over the list elements\n",
        "for m in messages:\n",
        "  m.pretty_print()\n",
        "    # jub b conversation hoti ha chat p to llm k pas is trh result jata ha."
      ]
    },
    {
      "cell_type": "markdown",
      "metadata": {
        "id": "cJyAaTTfxMyS"
      },
      "source": [
        "From now let's use HumanMessage to pass our Prompt to Model"
      ]
    },
    {
      "cell_type": "markdown",
      "metadata": {
        "id": "PTDeyY94xMyV"
      },
      "source": [
        "## Tools\n",
        "\n",
        "Tools model ke liye tab useful hote hain jab tumhain external systems ke sath interact karna ho.\n",
        "\n",
        "External Systems (jaise APIs) aam taur par ek khaas input schema ya payload require karte hain, natural language ke bajaye.\n",
        "\n",
        "Jab hum ek API ko tool ke tor par bind karte hain, toh model ko required input schema ke bare mein maloomat mil jati hai.\n",
        "\n",
        "Model user ke natural language input ke base par decide karta hai ke kis tool ko call karna hai.\n",
        "\n",
        "Aur model phir aisa output return karta hai jo tool ke schema ke mutabiq ho.\n",
        "\n",
        "Kai LLM providers tool calling ko support karte hain, aur LangChain mein tool calling ka interface bohot simple hai.\n",
        "\n",
        "Tum asaani se kisi bhi Python function ko ChatModel.bind_tools(function) mein pass kar sakte ho.\n",
        "\n",
        "\n",
        "\n",
        "\n",
        "\n",
        "\n"
      ]
    },
    {
      "cell_type": "markdown",
      "source": [
        "I"
      ],
      "metadata": {
        "id": "3c0wDo_iYBW1"
      }
    },
    {
      "cell_type": "code",
      "execution_count": null,
      "metadata": {
        "id": "k0zSnHU4Kt82"
      },
      "outputs": [],
      "source": [
        "%%capture --no-stderr\n",
        "%pip install --quiet -U langchain-google-genai langchain_core langgraph"
      ]
    },
    {
      "cell_type": "code",
      "execution_count": null,
      "metadata": {
        "id": "yQ7JAd3hKx7H"
      },
      "outputs": [],
      "source": [
        "from google.colab import userdata\n",
        "gemini_api_key = userdata.get('my_stenographer_key')\n",
        "from langchain_google_genai import ChatGoogleGenerativeAI\n",
        "\n",
        "llm: ChatGoogleGenerativeAI = ChatGoogleGenerativeAI(model=\"gemini-1.5-flash\", api_key=gemini_api_key)"
      ]
    },
    {
      "cell_type": "code",
      "source": [
        "from langchain_core.messages import HumanMessage"
      ],
      "metadata": {
        "id": "DScPwuI41U5T"
      },
      "execution_count": null,
      "outputs": []
    },
    {
      "cell_type": "markdown",
      "metadata": {
        "id": "n-MwHYPdNGDm"
      },
      "source": [
        "## Tool Calling"
      ]
    },
    {
      "cell_type": "code",
      "execution_count": 49,
      "metadata": {
        "colab": {
          "base_uri": "https://localhost:8080/"
        },
        "id": "aaY-4l3pK5Kt",
        "outputId": "28feead9-53d5-46e7-f089-43bf04e62658"
      },
      "outputs": [
        {
          "output_type": "stream",
          "name": "stdout",
          "text": [
            "\n",
            "\n",
            "llm\n",
            " model='models/gemini-1.5-flash' google_api_key=SecretStr('**********') client=<google.ai.generativelanguage_v1beta.services.generative_service.client.GenerativeServiceClient object at 0x7ca4df19a020> default_metadata=() \n",
            "\n",
            "\n",
            "\n"
          ]
        }
      ],
      "source": [
        "print(\"\\n\\nllm\\n\", llm, \"\\n\\n\\n\")\n",
        "# llm ko model ma jo rakha ha uski detail ha"
      ]
    },
    {
      "cell_type": "code",
      "execution_count": 81,
      "metadata": {
        "id": "V8CPSMndK1ie"
      },
      "outputs": [],
      "source": [
        "def deposit_money(name: str, bank_account_no: int, amount:int) -> int:\n",
        "    \"\"\"Deposit Money in Bank account.\n",
        "\n",
        "    Args:\n",
        "        name: first str\n",
        "        bank_account_no: second int\n",
        "        amount:third int\n",
        "      RETURN:str in format form\n",
        "    \"\"\"\n",
        "    # is ko description kho ya docs string\n",
        "    # BUSINESS LOGIC for Bank Deposit\n",
        "    # ......\n",
        "    return f\"Deposit {amount } Successfule in {name} and {bank_account_no }\""
      ]
    },
    {
      "cell_type": "code",
      "source": [
        "deposit_money(name=\"hafiz naveed uddin\",bank_account_no=353343434, amount=50000)\n",
        "# ya only status chk krna k lya but ya llm na hama bta na\n"
      ],
      "metadata": {
        "colab": {
          "base_uri": "https://localhost:8080/",
          "height": 36
        },
        "id": "XrspHyklGWn3",
        "outputId": "fa953770-27fa-45f2-bb41-18b36e4f005e"
      },
      "execution_count": 82,
      "outputs": [
        {
          "output_type": "execute_result",
          "data": {
            "text/plain": [
              "'Deposit 50000 Successfule in hafiz naveed uddin and 353343434'"
            ],
            "application/vnd.google.colaboratory.intrinsic+json": {
              "type": "string"
            }
          },
          "metadata": {},
          "execution_count": 82
        }
      ]
    },
    {
      "cell_type": "code",
      "execution_count": 85,
      "metadata": {
        "colab": {
          "base_uri": "https://localhost:8080/"
        },
        "id": "6A3-xLJ6L5eI",
        "outputId": "4244124f-dadb-43eb-b33e-db6f77ac4c91"
      },
      "outputs": [
        {
          "output_type": "stream",
          "name": "stderr",
          "text": [
            "WARNING:langchain_google_genai._function_utils:Key 'title' is not supported in schema, ignoring\n"
          ]
        }
      ],
      "source": [
        "llm_with_tools = llm.bind_tools([deposit_money])\n",
        "#AI NA  LLM KO BIND TOOL K ZREA TOOL K SATH INTEGRATE KRWAYA OR KHA LIST MA KAFI SARE DEPOST MONAY HA\n"
      ]
    },
    {
      "cell_type": "code",
      "execution_count": 86,
      "metadata": {
        "colab": {
          "base_uri": "https://localhost:8080/"
        },
        "id": "4qLqBwVnL_Lt",
        "outputId": "bb3f2861-a25f-470f-fc90-07b76eb77233"
      },
      "outputs": [
        {
          "output_type": "execute_result",
          "data": {
            "text/plain": [
              "RunnableBinding(bound=ChatGoogleGenerativeAI(model='models/gemini-1.5-flash', google_api_key=SecretStr('**********'), client=<google.ai.generativelanguage_v1beta.services.generative_service.client.GenerativeServiceClient object at 0x7ca4df19a020>, default_metadata=()), kwargs={'tools': [{'function_declarations': [{'name': 'deposit_money', 'description': 'Deposit Money in Bank account.\\n\\n    Args:\\n        name: first str\\n        bank_account_no: second int\\n        amount:third int\\n      RETURN:str in format form', 'parameters': {'type_': 6, 'description': 'Deposit Money in Bank account.\\n\\nArgs:\\n    name: first str\\n    bank_account_no: second int\\n    amount:third int\\n  RETURN:str in format form', 'properties': {'bank_account_no': {'type_': 3, 'format_': '', 'description': '', 'nullable': False, 'enum': [], 'max_items': '0', 'min_items': '0', 'properties': {}, 'required': []}, 'amount': {'type_': 3, 'format_': '', 'description': '', 'nullable': False, 'enum': [], 'max_items': '0', 'min_items': '0', 'properties': {}, 'required': []}, 'name': {'type_': 1, 'format_': '', 'description': '', 'nullable': False, 'enum': [], 'max_items': '0', 'min_items': '0', 'properties': {}, 'required': []}}, 'required': ['name', 'bank_account_no', 'amount'], 'format_': '', 'nullable': False, 'enum': [], 'max_items': '0', 'min_items': '0'}}]}]}, config={}, config_factories=[])"
            ]
          },
          "metadata": {},
          "execution_count": 86
        }
      ],
      "source": [
        "llm_with_tools\n",
        "# IS MA LLM KI DETAIL K SATH FUNCTION KI DETAIL B ATI HA"
      ]
    },
    {
      "cell_type": "code",
      "execution_count": 87,
      "metadata": {
        "colab": {
          "base_uri": "https://localhost:8080/"
        },
        "id": "QRDkyI9CMMUs",
        "outputId": "4e859d82-0e8f-4378-d832-1eb07ee288bf"
      },
      "outputs": [
        {
          "output_type": "execute_result",
          "data": {
            "text/plain": [
              "AIMessage(content='I understand you\\'re looking to deposit money into an account, but I can\\'t actually make financial transactions. I\\'m a language model and don\\'t have access to real-world systems like bank accounts. \\n\\nTo deposit money into Hafiz Naveed\\'s account, you\\'ll need to use a method provided by his bank, such as:\\n\\n* **Online banking:** Log in to your online banking account, find the \"transfer funds\" option, and enter Hafiz Naveed\\'s account number and the amount.\\n* **Mobile banking app:** Use your bank\\'s mobile app to transfer funds following similar steps as online banking.\\n* **ATM:**  Use an ATM to deposit cash into his account, if his bank allows this. You\\'ll likely need his account number or a deposit slip.\\n* **Bank branch:** Visit your bank branch and request a deposit into Hafiz Naveed\\'s account. \\n\\n**Important Note:**  Be sure to confirm the correct account number and bank before making any transfers.  \\n\\nPlease let me know if you have any other questions. \\n', additional_kwargs={}, response_metadata={'prompt_feedback': {'block_reason': 0, 'safety_ratings': []}, 'finish_reason': 'STOP', 'safety_ratings': [{'category': 'HARM_CATEGORY_SEXUALLY_EXPLICIT', 'probability': 'NEGLIGIBLE', 'blocked': False}, {'category': 'HARM_CATEGORY_HATE_SPEECH', 'probability': 'NEGLIGIBLE', 'blocked': False}, {'category': 'HARM_CATEGORY_HARASSMENT', 'probability': 'NEGLIGIBLE', 'blocked': False}, {'category': 'HARM_CATEGORY_DANGEROUS_CONTENT', 'probability': 'NEGLIGIBLE', 'blocked': False}]}, id='run-d2146017-bbcd-425e-a65d-8944eb65749b-0', usage_metadata={'input_tokens': 26, 'output_tokens': 227, 'total_tokens': 253, 'input_token_details': {'cache_read': 0}})"
            ]
          },
          "metadata": {},
          "execution_count": 87
        }
      ],
      "source": [
        "call = llm.invoke(\n",
        "    [HumanMessage(content=f\"Deposit 4000 Money in hafiz naveed  Account. His acc number is 00123\", name=\"naveed\")])\n",
        "call\n",
        "# llm.invoke is ko call is sa kya jata ha\"llm:ChatGoogleGenerativeAI\" but tool calling ki phchan \"llm_with_tools\" issa hogi llm_with_tools.invoke k name sa\n",
        "# sub sa phla humna without tool wala llm ko call ki"
      ]
    },
    {
      "cell_type": "code",
      "execution_count": 88,
      "metadata": {
        "colab": {
          "base_uri": "https://localhost:8080/"
        },
        "id": "FXfKvapxLAg_",
        "outputId": "c16bf9cc-dfbc-4359-9dae-68b1a1b6e6e3"
      },
      "outputs": [
        {
          "output_type": "execute_result",
          "data": {
            "text/plain": [
              "AIMessage(content='', additional_kwargs={'function_call': {'name': 'deposit_money', 'arguments': '{\"name\": \"hafiz naveed\", \"amount\": 5000.0, \"bank_account_no\": 123.0}'}}, response_metadata={'prompt_feedback': {'block_reason': 0, 'safety_ratings': []}, 'finish_reason': 'STOP', 'safety_ratings': [{'category': 'HARM_CATEGORY_DANGEROUS_CONTENT', 'probability': 'NEGLIGIBLE', 'blocked': False}, {'category': 'HARM_CATEGORY_HATE_SPEECH', 'probability': 'NEGLIGIBLE', 'blocked': False}, {'category': 'HARM_CATEGORY_SEXUALLY_EXPLICIT', 'probability': 'NEGLIGIBLE', 'blocked': False}, {'category': 'HARM_CATEGORY_HARASSMENT', 'probability': 'NEGLIGIBLE', 'blocked': False}]}, id='run-26b69470-63c4-44b0-ae07-b2df155f6d46-0', tool_calls=[{'name': 'deposit_money', 'args': {'name': 'hafiz naveed', 'amount': 5000.0, 'bank_account_no': 123.0}, 'id': 'c6ecc95d-091b-49e8-a3a1-55628db101a2', 'type': 'tool_call'}], usage_metadata={'input_tokens': 127, 'output_tokens': 37, 'total_tokens': 164, 'input_token_details': {'cache_read': 0}})"
            ]
          },
          "metadata": {},
          "execution_count": 88
        }
      ],
      "source": [
        "call = llm_with_tools.invoke(\n",
        "    [HumanMessage(content=f\"Deposit  5000 Money in hafiz naveed Account. His acc number is 00123\", name=\"Muhammad\")])\n",
        "call\n",
        "# ub hmna tool k zrea call ki\n",
        "# note: yha llm na"
      ]
    },
    {
      "cell_type": "markdown",
      "source": [
        "# NOTE:\n",
        "\n",
        "YHA TK HMNA TOOL KO CALL KRNA SEKHA HA......."
      ],
      "metadata": {
        "id": "6ug0x7cvaKV2"
      }
    },
    {
      "cell_type": "markdown",
      "metadata": {
        "id": "uUV74OzmNRwK"
      },
      "source": [
        "### Building Graph"
      ]
    },
    {
      "cell_type": "markdown",
      "source": [
        "# **Humare paas ek LLM hai jo Tool Calling karne ki Qabiliyat rakhta hai: bind_tools ka istemal kar ke**\n",
        "Ab hum LangGraph ke zariye Orchestration karte hain\n",
        "\n",
        "0. State"
      ],
      "metadata": {
        "id": "Nm3zPpS0fzot"
      }
    },
    {
      "cell_type": "code",
      "source": [
        "from typing_extensions import TypedDict\n",
        "\n",
        "class Last_Msg_State(TypedDict):\n",
        "    messages: list\n",
        "    # Yeh ek state banai hai jiska naam Last_Msg_State hai, jismein messages ki ek list hogi\n",
        "\n",
        "# 1. Tool Calling LLM ki Node\n",
        "def call_llm(state: Last_Msg_State):\n",
        "    # Yeh function state ko accept karta hai. Yeh state aik dictionary jaisi hai jismein \"messages\" ki list hai.\n",
        "\n",
        "    messages = state[\"messages\"]\n",
        "    # Yeh line state ke andar se \"messages\" wali list ko nikalti hai, aur usko variable 'messages' mein store karti hai\n",
        "\n",
        "    call_response = llm_with_tools.invoke(messages)\n",
        "    # Yeh LLM ko messages bhejta hai tool ke sath (jaise web search) aur uska jawab call_response mein store karta hai\n",
        "\n",
        "    messages.append(call_response)\n",
        "    # Jo jawab LLM se aaya hai, usko messages ki list mein add (append) kar do, taake poori conversation safe ho jaye\n",
        "\n",
        "    return {\"messages\": messages}\n",
        "    # Yeh function updated messages ki list ko wapas return karta hai jismein purane aur naye sabhi messages hain\n"
      ],
      "metadata": {
        "id": "ffBZKNDkobpA"
      },
      "execution_count": 106,
      "outputs": []
    },
    {
      "cell_type": "code",
      "source": [
        "call_llm(state={\"messages\": [SystemMessage(content=\"You are a helpful assistant. Your name is Bob.\"), HumanMessage(content=\"What is your name?\")]})\n"
      ],
      "metadata": {
        "colab": {
          "base_uri": "https://localhost:8080/"
        },
        "id": "zQ4ywiZGos0v",
        "outputId": "586e148a-3f06-4bc8-ad3e-4f67a9a6bee6"
      },
      "execution_count": 107,
      "outputs": [
        {
          "output_type": "execute_result",
          "data": {
            "text/plain": [
              "{'messages': [SystemMessage(content='You are a helpful assistant. Your name is Bob.', additional_kwargs={}, response_metadata={}),\n",
              "  HumanMessage(content='What is your name?', additional_kwargs={}, response_metadata={}),\n",
              "  AIMessage(content=\"Hi, I'm Bob! 👋 How can I help you today? \\n\", additional_kwargs={}, response_metadata={'prompt_feedback': {'block_reason': 0, 'safety_ratings': []}, 'finish_reason': 'STOP', 'safety_ratings': [{'category': 'HARM_CATEGORY_SEXUALLY_EXPLICIT', 'probability': 'NEGLIGIBLE', 'blocked': False}, {'category': 'HARM_CATEGORY_HATE_SPEECH', 'probability': 'NEGLIGIBLE', 'blocked': False}, {'category': 'HARM_CATEGORY_HARASSMENT', 'probability': 'NEGLIGIBLE', 'blocked': False}, {'category': 'HARM_CATEGORY_DANGEROUS_CONTENT', 'probability': 'NEGLIGIBLE', 'blocked': False}]}, id='run-ac3cfcc6-c240-48c5-b644-24b7b022535b-0', usage_metadata={'input_tokens': 119, 'output_tokens': 15, 'total_tokens': 134, 'input_token_details': {'cache_read': 0}})]}"
            ]
          },
          "metadata": {},
          "execution_count": 107
        }
      ]
    },
    {
      "cell_type": "markdown",
      "source": [
        "# from typing_extensions import TypedDict\n",
        "Scenario: Socho tum ek book likh rahe ho jismein tumhe har chapter ko alag tarike se define karna hai. TypedDict ek tareeqa hai jismein tum chapter ki headings ya format pehle se tayar kar rahe ho. Isse tumhe pata rehta hai ke kaunse type ki information kahaan store hogi.\n",
        "# class Last_Msg_State(TypedDict):\n",
        "    messages: list\n",
        "    # State banai Last_Msg_State k naam se, jismein messages ki ek list hogi\n",
        "Scenario: Socho tumhare paas ek diary hai jismein tum sabhi conversations note karte ho. Is class ka naam Last_Msg_State hai, matlab yeh ek diary hai jismein purane aur naye messages store honge. Is diary mein messages ek list jaisi hogi jismein saari baatein likhi jaaengi.\n",
        "# def call_llm(state: Last_Msg_State):\n",
        "    # Yeh function state ko accept karta hai. Yeh state aik dictionary jaisi hai jismein \"messages\" ki list hai\n",
        "Scenario: Imagine ek helper hai jiska kaam tumhare diary (state) ko read karna hai aur decide karna hai agla kaam kya hona chahiye. Yeh function woh helper hai jisko tumhari purani baatein ya messages ki list di gayi hai taake wo aage response generate kar sake.\n",
        "# messages = state[\"messages\"]\n",
        "# Yeh line state ke andar se \"messages\" key ko access karo, aur usko variable 'messages' mein store karo\n",
        "Scenario: Socho helper ko tumne diary di hai, aur wo purani baatein nikal kar ek nayi copy (variable messages) mein likh raha hai, taki naye jawab likhne se pehle uske paas poora context ho.\n",
        "# call_response = llm_with_tools.invoke(messages)\n",
        "# llm_with_tools ke zariye invoke method call kar ke messages ko pass karo, is se AI response generate hoga\n",
        "Scenario: Imagine tumhara helper ek AI assistant se baat kar raha hai. Wo purani baatein ya context AI ko de raha hai (jiska naam llm_with_tools hai), taake AI soch kar ek sahi jawab de sake. Yahan invoke ek tarah se \"AI se jawab mangwana\" hai.\n",
        "# messages.append(call_response)\n",
        "# Jo jawab LLM se aaya hai, usko messages ki list mein add (append) kar do, takay poori conversation safe ho jaye\n",
        "Scenario: Ab helper updated diary wapas tumhein de raha hai, jismein tumhari purani baatein bhi hain aur naye jawab bhi hain. Yeh ensure karta hai ke tumhari poori baat-chit maintain ho, aur tum dobara is list ko use kar ke aage conversation continue kar sako.\n",
        "\n",
        "# full Scenario Example:\n",
        "Tum ek diary (state) maintain kar rahe ho jismein tum apni purani aur nayi baatein likhte ho.\n",
        "Helper (function call_llm) tumhari diary se purani baatein (messages) nikal kar AI assistant (llm_with_tools) ke paas le jaata hai, taake us context ko samajh kar AI ek jawab de sake.\n",
        "Jab AI apna jawab deta hai, toh helper us jawab ko wapas tumhari diary mein add kar deta hai.\n",
        "Iske baad tumhare paas updated diary hai, jismein tumhara pehle ka sab kuch likha hai aur naye jawab bhi hain, aur tum is updated version se aage ki conversation kar sakte ho.\n",
        "Yeh scenario-based explanation tumhein har step ki wajah aur process ko achi tarah samajhne mein madad degi. 😊\n",
        "\n",
        "\n",
        "\n",
        "\n",
        "\n",
        "\n",
        "\n"
      ],
      "metadata": {
        "id": "5i88u8aOrwkH"
      }
    },
    {
      "cell_type": "code",
      "execution_count": 108,
      "metadata": {
        "id": "bwUSDpDRNTNu"
      },
      "outputs": [],
      "source": [
        "\n",
        "\n",
        "# from typing_extensions import TypedDict\n",
        "\n",
        "# class Last_Msg_State(TypedDict):\n",
        "#     messages: list\n",
        "#     # Yeh ek state banai hai jiska naam Last_Msg_State hai, jismein messages ki ek list hogi\n",
        "\n",
        "# # 1. Tool Calling LLM ki Node\n",
        "# def call_llm(state: Last_Msg_State):\n",
        "#     # Yeh function state ko accept karta hai. Yeh state aik dictionary jaisi hai jismein \"messages\" ki list hai.\n",
        "\n",
        "#     messages = state[\"messages\"]\n",
        "#     # Yeh line state ke andar se \"messages\" wali list ko nikalti hai, aur usko variable 'messages' mein store karti hai\n",
        "\n",
        "#     call_response = llm_with_tools.invoke(messages)\n",
        "#     # Yeh LLM ko messages bhejta hai tool ke sath (jaise web search) aur uska jawab call_response mein store karta hai\n",
        "\n",
        "#     messages.append(call_response)\n",
        "#     # Jo jawab LLM se aaya hai, usko messages ki list mein add (append) kar do, taake poori conversation safe ho jaye\n",
        "\n",
        "#     return {\"messages\": messages}\n",
        "#     # Yeh function updated messages ki list ko wapas return karta hai jismein purane aur naye sabhi messages hain\n",
        "\n",
        "\n",
        "# 2. Graph\n",
        "\n",
        "from langgraph.graph import StateGraph, START, END\n",
        "\n",
        "builder: StateGraph = StateGraph(Last_Msg_State)\n",
        "# state ka graph bnaya\n",
        "# define nodes\n",
        "builder.add_node(\"call_llm_with_tools\", call_llm)\n",
        "# yha jis nam sa function oper bna tah wo nam aiga\n",
        "# define edges\n",
        "builder.add_edge(START, \"call_llm_with_tools\")\n",
        "builder.add_edge(\"call_llm_with_tools\", END)\n",
        "\n",
        "# build graph\n",
        "graph = builder.compile()\n",
        "# jub state node or edge sub aagai to  sub ko compiled krdya"
      ]
    },
    {
      "cell_type": "code",
      "execution_count": 109,
      "metadata": {
        "colab": {
          "base_uri": "https://localhost:8080/",
          "height": 251
        },
        "id": "0xqNUBlwPi4Y",
        "outputId": "3930ecdd-28b2-4e8d-d7b9-23cf46a19088"
      },
      "outputs": [
        {
          "output_type": "display_data",
          "data": {
            "image/jpeg": "[encoded data removed]",
            "text/plain": [
              "<IPython.core.display.Image object>"
            ]
          },
          "metadata": {}
        }
      ],
      "source": [
        "from IPython.display import display, Image\n",
        "\n",
        "display(Image(graph.get_graph().draw_mermaid_png()))"
      ]
    },
    {
      "cell_type": "code",
      "execution_count": 110,
      "metadata": {
        "colab": {
          "base_uri": "https://localhost:8080/"
        },
        "id": "jPyDSV6FPqO-",
        "outputId": "db7b69b8-04f7-40ea-8abb-6702d6d00e9c"
      },
      "outputs": [
        {
          "output_type": "execute_result",
          "data": {
            "text/plain": [
              "{'messages': [HumanMessage(content='Hi im naveed how r u?', additional_kwargs={}, response_metadata={}),\n",
              "  AIMessage(content=\"I am an AI language model, so I don't have feelings like humans do. But I am here to assist you! How can I help you today? \\n\", additional_kwargs={}, response_metadata={'prompt_feedback': {'block_reason': 0, 'safety_ratings': []}, 'finish_reason': 'STOP', 'safety_ratings': [{'category': 'HARM_CATEGORY_SEXUALLY_EXPLICIT', 'probability': 'NEGLIGIBLE', 'blocked': False}, {'category': 'HARM_CATEGORY_HATE_SPEECH', 'probability': 'NEGLIGIBLE', 'blocked': False}, {'category': 'HARM_CATEGORY_HARASSMENT', 'probability': 'NEGLIGIBLE', 'blocked': False}, {'category': 'HARM_CATEGORY_DANGEROUS_CONTENT', 'probability': 'NEGLIGIBLE', 'blocked': False}]}, id='run-dc7064ff-3d06-4167-8732-0337dc2b79a9-0', usage_metadata={'input_tokens': 111, 'output_tokens': 33, 'total_tokens': 144, 'input_token_details': {'cache_read': 0}})]}"
            ]
          },
          "metadata": {},
          "execution_count": 110
        }
      ],
      "source": [
        "graph.invoke({\"messages\": [HumanMessage(content=\"Hi im naveed how r u?\")]})"
      ]
    },
    {
      "cell_type": "code",
      "execution_count": 111,
      "metadata": {
        "colab": {
          "base_uri": "https://localhost:8080/"
        },
        "id": "d_Md3GjXP0yU",
        "outputId": "b1074e31-cb6b-4292-c48e-a20495243c6e"
      },
      "outputs": [
        {
          "output_type": "execute_result",
          "data": {
            "text/plain": [
              "{'messages': [HumanMessage(content='Deposiut 7000 in hafiz naveed account  - his bank num is 001', additional_kwargs={}, response_metadata={}),\n",
              "  AIMessage(content='', additional_kwargs={'function_call': {'name': 'deposit_money', 'arguments': '{\"name\": \"hafiz naveed\", \"bank_account_no\": 1.0, \"amount\": 7000.0}'}}, response_metadata={'prompt_feedback': {'block_reason': 0, 'safety_ratings': []}, 'finish_reason': 'STOP', 'safety_ratings': [{'category': 'HARM_CATEGORY_HATE_SPEECH', 'probability': 'NEGLIGIBLE', 'blocked': False}, {'category': 'HARM_CATEGORY_SEXUALLY_EXPLICIT', 'probability': 'NEGLIGIBLE', 'blocked': False}, {'category': 'HARM_CATEGORY_HARASSMENT', 'probability': 'NEGLIGIBLE', 'blocked': False}, {'category': 'HARM_CATEGORY_DANGEROUS_CONTENT', 'probability': 'NEGLIGIBLE', 'blocked': False}]}, id='run-ff537297-fa64-449f-9190-a1d24b1d039a-0', tool_calls=[{'name': 'deposit_money', 'args': {'name': 'hafiz naveed', 'bank_account_no': 1.0, 'amount': 7000.0}, 'id': 'e2648030-35e8-4cbb-b38d-cfc5bb6ae62e', 'type': 'tool_call'}], usage_metadata={'input_tokens': 127, 'output_tokens': 35, 'total_tokens': 162, 'input_token_details': {'cache_read': 0}})]}"
            ]
          },
          "metadata": {},
          "execution_count": 111
        }
      ],
      "source": [
        "graph.invoke({\"messages\": [HumanMessage(content=\"Deposiut 7000 in hafiz naveed account  - his bank num is 001\")]})"
      ]
    },
    {
      "cell_type": "markdown",
      "metadata": {
        "id": "6quQjGFWxMya"
      },
      "source": [
        "#### Current Flow\n",
        "\n",
        "- LLM: Is Tool ko Call karo\n",
        "System: Tool call kiya aur LLM ko result bataya.\n",
        "Issue ??: Mera Human Message kahan hai?\n",
        "Abhi tak response mein sirf AIMessage hi hai.\n",
        "\n",
        "# Solutions:\n",
        "\n",
        "Proposal 1: Manually Add Messages\n",
        "Call LLM mein manually messages add karo using LLM, taake human messages bhi include ho jayein.\n",
        "\n",
        "Proposal 2: Reducer Functions to Keep History Context\n",
        "Reducer Functions ka istemal karo taake conversation ka history context maintain rahe aur purane messages bhi context mein shamil ho jayein.\n",
        "\n",
        "\n",
        "\n",
        "\n",
        "\n",
        "\n"
      ]
    }
  ],
  "metadata": {
    "colab": {
      "provenance": [],
      "name": "2-1_tools_messages.ipynb learn-applied-generative-ai-fundamentals/03_langchain_ecosystem/langgraph/course-notebooks/module-1",
      "include_colab_link": true
    },
    "kernelspec": {
      "display_name": "Python 3",
      "name": "python3"
    },
    "language_info": {
      "codemirror_mode": {
        "name": "ipython",
        "version": 3
      },
      "file_extension": ".py",
      "mimetype": "text/x-python",
      "name": "python",
      "nbconvert_exporter": "python",
      "pygments_lexer": "ipython3",
      "version": "3.12.6"
    }
  },
  "nbformat": 4,
  "nbformat_minor": 0
}