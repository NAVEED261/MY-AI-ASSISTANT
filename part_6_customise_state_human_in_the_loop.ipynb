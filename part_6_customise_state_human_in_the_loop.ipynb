{
  "nbformat": 4,
  "nbformat_minor": 0,
  "metadata": {
    "colab": {
      "provenance": [],
      "toc_visible": true,
      "authorship_tag": "ABX9TyN0WcsX1qgnjX31Z/Lntx+X",
      "include_colab_link": true
    },
    "kernelspec": {
      "name": "python3",
      "display_name": "Python 3"
    },
    "language_info": {
      "name": "python"
    }
  },
  "cells": [
    {
      "cell_type": "markdown",
      "metadata": {
        "id": "view-in-github",
        "colab_type": "text"
      },
      "source": [
        "<a href=\"https://colab.research.google.com/github/NAVEED261/MY-AI-ASSISTANT/blob/main/part_6_customise_state_human_in_the_loop.ipynb\" target=\"_parent\"><img src=\"https://colab.research.google.com/assets/colab-badge.svg\" alt=\"Open In Colab\"/></a>"
      ]
    },
    {
      "cell_type": "markdown",
      "source": [
        "# ***Quick Start***\n",
        "In this comprehensive quick start, we will build a support chatbot in LangGraph that can:\n",
        "\n",
        "Answer common questions by searching the web\n",
        "Maintain conversation state across calls\n",
        "Route complex queries to a human for review\n",
        "Use custom state to control its behavior\n",
        "Rewind and explore alternative conversation paths\n",
        "We'll start with a basic chatbot and progressively add more sophisticated capabilities, introducing key LangGraph concepts along the way.\n",
        "\n",
        "Setup\n",
        "First, install the required packages:"
      ],
      "metadata": {
        "id": "6Is8VlS-NNbd"
      }
    },
    {
      "cell_type": "code",
      "source": [
        "%%capture --no-stderr\n",
        "%pip install -U langgraph langsmith langchain_google_genai tavily-python langchain_community"
      ],
      "metadata": {
        "id": "bM3-O-CwNQTs"
      },
      "execution_count": 249,
      "outputs": []
    },
    {
      "cell_type": "code",
      "source": [
        "import os\n",
        "from google.colab import userdata\n",
        "\n",
        "os.environ[\"LANGCHAIN_API_KEY\"] = userdata.get('LANGCHAIN_API_KEY')\n",
        "os.environ[\"LANGCHAIN_TRACING_V2\"] = \"true\"\n",
        "os.environ[\"LANGCHAIN_PROJECT\"] = \"quickstart\"\n",
        "\n",
        "gemini_api_key = userdata.get('my_stenographer_key')\n",
        "os.environ[\"TAVILY_API_KEY\"] = userdata.get(\"TAVILY_API_KEY\")"
      ],
      "metadata": {
        "id": "WBjr2DcYNZHD"
      },
      "execution_count": 250,
      "outputs": []
    },
    {
      "cell_type": "code",
      "source": [
        "from langchain_google_genai import ChatGoogleGenerativeAI\n",
        "\n",
        "llm = ChatGoogleGenerativeAI(\n",
        "    model=\"gemini-1.5-flash\",\n",
        "    max_retries=2,\n",
        "    api_key=gemini_api_key\n",
        ")\n",
        "# tool = TavilySearchResults(max_results=2)\n",
        "# tools = [tool]"
      ],
      "metadata": {
        "id": "TvhipMXbNngM"
      },
      "execution_count": 251,
      "outputs": []
    },
    {
      "cell_type": "code",
      "source": [
        "from langchain_community.tools.tavily_search import TavilySearchResults # Import the necessary class\n",
        "\n",
        "tool = TavilySearchResults(max_results=2)\n",
        "tools = [tool]"
      ],
      "metadata": {
        "id": "XY9iisqUN7OD"
      },
      "execution_count": 252,
      "outputs": []
    },
    {
      "cell_type": "code",
      "source": [
        "from typing import Annotated\n",
        "from langchain_community.tools.tavily_search import TavilySearchResults\n",
        "from typing_extensions import TypedDict\n",
        "from pydantic import BaseModel\n",
        "from langgraph.graph import StateGraph, START, END  # Ensure END is imported\n",
        "from langgraph.checkpoint.memory import MemorySaver\n",
        "from langgraph.graph.message import add_messages\n",
        "from langgraph.prebuilt import ToolNode, tools_condition\n",
        "from langchain_core.messages import AIMessage, ToolMessage\n",
        "from IPython.display import Image, display\n",
        "\n",
        "# Initialize MemorySaver\n",
        "memory = MemorySaver()\n",
        "\n",
        "# Define the State class with messages and ask_human flag\n",
        "class State(TypedDict):\n",
        "    messages: Annotated[list, add_messages]\n",
        "    ask_human: bool  # This flag is new\n"
      ],
      "metadata": {
        "id": "RK-rYQmUSnot"
      },
      "execution_count": 253,
      "outputs": []
    },
    {
      "cell_type": "code",
      "source": [
        "# Define the RequestAssistance model using Pydantic\n",
        "class RequestAssistance(BaseModel):\n",
        "    \"\"\"Escalate the conversation to an expert. Use this if you are unable to assist directly or if the user requires support beyond your permissions.\"\"\"\n",
        "    request: str"
      ],
      "metadata": {
        "id": "CqVw01UzSshj"
      },
      "execution_count": 254,
      "outputs": []
    },
    {
      "cell_type": "code",
      "source": [
        "# Initialize tools\n",
        "tool = TavilySearchResults(max_results=2)\n",
        "tools = [tool]\n",
        "\n",
        "# Bind the LLM to tools and the RequestAssistance model\n",
        "llm_with_tools = llm.bind_tools(tools + [RequestAssistance])"
      ],
      "metadata": {
        "id": "w2TjMex9bUvv"
      },
      "execution_count": 255,
      "outputs": []
    },
    {
      "cell_type": "code",
      "source": [
        "response = llm_with_tools.invoke(\"i need some tips about loss weight\")\n",
        "response.pretty_print()"
      ],
      "metadata": {
        "colab": {
          "base_uri": "https://localhost:8080/"
        },
        "id": "OqlEYaS0bXEG",
        "outputId": "81f5a94a-bda3-4178-c141-004a54321a09"
      },
      "execution_count": 256,
      "outputs": [
        {
          "output_type": "stream",
          "name": "stdout",
          "text": [
            "==================================\u001b[1m Ai Message \u001b[0m==================================\n",
            "Tool Calls:\n",
            "  tavily_search_results_json (c2dbf9ae-db4e-4bb3-b0b1-a01e60cc984a)\n",
            " Call ID: c2dbf9ae-db4e-4bb3-b0b1-a01e60cc984a\n",
            "  Args:\n",
            "    query: tips for weight loss\n"
          ]
        }
      ]
    },
    {
      "cell_type": "code",
      "source": [
        "\n",
        "\n",
        "# Define the chatbot function\n",
        "def chatbot(state: State):\n",
        "    response = llm_with_tools.invoke(state[\"messages\"])\n",
        "    ask_human = False\n",
        "    if (\n",
        "        response.tool_calls\n",
        "        and response.tool_calls[0][\"name\"] == RequestAssistance.__name__\n",
        "    ):\n",
        "        ask_human = True\n",
        "    return {\"messages\": [response], \"ask_human\": ask_human}\n",
        "\n",
        "# Initialize the StateGraph\n",
        "graph_builder = StateGraph(State)\n",
        "# is node ma phla llm ko call ki msg pas kro or human ki need ni ha i mean false or ager\n",
        "# human ki need ha true kro or wo query human ko pass krdo phr ek statgraph bnao"
      ],
      "metadata": {
        "id": "Fwrb4WKuSzZy"
      },
      "execution_count": 257,
      "outputs": []
    },
    {
      "cell_type": "code",
      "source": [
        "# Add nodes to the graph\n",
        "graph_builder.add_node(\"chatbot\", chatbot)\n",
        "graph_builder.add_node(\"tools\", ToolNode(tools=[tool]))\n"
      ],
      "metadata": {
        "colab": {
          "base_uri": "https://localhost:8080/"
        },
        "id": "dibWKvUXS8Wf",
        "outputId": "98398a7d-2af4-4a6f-d68a-a8bb2163cd05"
      },
      "execution_count": 258,
      "outputs": [
        {
          "output_type": "execute_result",
          "data": {
            "text/plain": [
              "<langgraph.graph.state.StateGraph at 0x7c052c5dada0>"
            ]
          },
          "metadata": {},
          "execution_count": 258
        }
      ]
    },
    {
      "cell_type": "code",
      "source": [
        "# Define the create_response function\n",
        "def create_response(response: str, ai_message: AIMessage):\n",
        "    return ToolMessage(\n",
        "        content=response,  # Human ka response yahan content mein set hota hai\n",
        "        tool_call_id=ai_message.tool_calls[0][\"id\"],  # AI message se related tool call ID set hoti hai\n",
        "    )\n",
        "\n",
        "    # this is helper function\n",
        "    # get resonse by human and return and convert in tool msg\n",
        "\n",
        "# Define the human_node function\n",
        "def human_node(state: State):\n",
        "    new_messages = []\n",
        "    if not isinstance(state[\"messages\"][-1], ToolMessage):\n",
        "        # Add placeholder message if no response from human\n",
        "        new_messages.append(\n",
        "            create_response(\"No response from human.\", state[\"messages\"][-1])\n",
        "        )\n",
        "    return {\n",
        "        \"messages\": new_messages,\n",
        "        \"ask_human\": False,  # Reset ask_human flag\n",
        "    }\n",
        "# Human node ka purpose hai human ke response ka wait karna. Agar human reply nahi karta,\n",
        "#  toh chatbot \"No response from human.\" message khud hi add kar deta hai aur ask_human flag\n",
        "# ko False set karta hai, jo batata hai ke ab human ki zaroorat nahi hai aur chatbot aage\n",
        "# continue kar sakta hai.\n",
        "# Add the human node to the graph\n",
        "graph_builder.add_node(\"human\", human_node)"
      ],
      "metadata": {
        "colab": {
          "base_uri": "https://localhost:8080/"
        },
        "id": "oO75KP2zTAfU",
        "outputId": "1434d8fb-89e6-465f-e0ab-7748ac8af308"
      },
      "execution_count": 259,
      "outputs": [
        {
          "output_type": "execute_result",
          "data": {
            "text/plain": [
              "<langgraph.graph.state.StateGraph at 0x7c052c5dada0>"
            ]
          },
          "metadata": {},
          "execution_count": 259
        }
      ]
    },
    {
      "cell_type": "code",
      "source": [
        "# Define the select_next_node function\n",
        "def select_next_node(state: State):\n",
        "  # ager true ha to human ko query bhjo\n",
        "    if state[\"ask_human\"]:\n",
        "        return \"human\"\n",
        "    return tools_condition(state)\n",
        "    # werna tool  k pas bhjo\n",
        "\n",
        "# Add conditional edges to the graph\n",
        "graph_builder.add_conditional_edges(\n",
        "    \"chatbot\",\n",
        "    select_next_node,\n",
        "    {\"human\": \"human\", \"tools\": \"tools\", \"END\": END}\n",
        ")\n",
        "# chatbot na select krna ha k human k pas tool k pas ya phr end krna ha query ko"
      ],
      "metadata": {
        "colab": {
          "base_uri": "https://localhost:8080/"
        },
        "id": "quWYI3_pTGND",
        "outputId": "2f9dc869-aea5-4a31-eb6a-078c35dddcea"
      },
      "execution_count": 260,
      "outputs": [
        {
          "output_type": "execute_result",
          "data": {
            "text/plain": [
              "<langgraph.graph.state.StateGraph at 0x7c052c5dada0>"
            ]
          },
          "metadata": {},
          "execution_count": 260
        }
      ]
    },
    {
      "cell_type": "code",
      "source": [
        "# Add other necessary edges\n",
        "graph_builder.add_edge(\"tools\", \"chatbot\")\n",
        "graph_builder.add_edge(\"human\", \"chatbot\")\n",
        "graph_builder.add_edge(START, \"chatbot\")\n",
        "\n",
        "# Compile the graph without end_node (removed based on error)\n",
        "graph = graph_builder.compile(\n",
        "    checkpointer=memory,\n",
        "    interrupt_before=[\"human\"]\n",
        ")\n"
      ],
      "metadata": {
        "id": "ZLq6GAuRTJ09"
      },
      "execution_count": 261,
      "outputs": []
    },
    {
      "cell_type": "code",
      "source": [
        "# Display the graph (optional, requires additional dependencies)\n",
        "try:\n",
        "    display(Image(graph.get_graph().draw_mermaid_png()))\n",
        "except Exception:\n",
        "    pass"
      ],
      "metadata": {
        "colab": {
          "base_uri": "https://localhost:8080/",
          "height": 332
        },
        "id": "IZPYBMG5TRRl",
        "outputId": "d3720bf0-231c-4444-ef8c-c8e1119071ba"
      },
      "execution_count": 262,
      "outputs": [
        {
          "output_type": "display_data",
          "data": {
            "image/jpeg": "[encoded data removed]",
            "text/plain": [
              "<IPython.core.display.Image object>"
            ]
          },
          "metadata": {}
        }
      ]
    },
    {
      "cell_type": "code",
      "source": [
        "# Sample user input\n",
        "user_input = \"I need some expert guidance for building this AI agent. Could you request assistance for me?\"\n",
        "config = {\"configurable\": {\"thread_id\": \"1\"}}"
      ],
      "metadata": {
        "id": "xCETLZQqTd37"
      },
      "execution_count": 263,
      "outputs": []
    },
    {
      "cell_type": "code",
      "source": [
        "# Stream the events from the graph\n",
        "events = graph.stream(\n",
        "    # graph.stream function ke through user_input ko graph mein stream kiya ja raha hai.\n",
        "    {\"messages\": [(\"user\", user_input)]}, config, stream_mode=\"values\"\n",
        ")\n",
        "# Yeh dictionary format mein input ko set karta hai, jisme user ka input message contain hota hai.\n",
        "# stream_mode=\"values\" – Iska matlab hai ke yeh stream values ko process karte hue ek series of events generate karega.\n",
        "\n",
        "for event in events:\n",
        "    if \"messages\" in event:\n",
        "        event[\"messages\"][-1].pretty_print()\n",
        "# Ye code loop karta hai har event ke through jo chatbot ne generate kiya hai. Agar event mein\n",
        "# \"messages\" key ho, toh wo latest message ko readable format mein display karta hai, taake user\n",
        "# ko chatbot ka response asaani se samajh aaye."
      ],
      "metadata": {
        "colab": {
          "base_uri": "https://localhost:8080/"
        },
        "id": "TgnsvgNnThUz",
        "outputId": "75cff264-b3c7-447b-9742-c3e4ed45426e"
      },
      "execution_count": 273,
      "outputs": [
        {
          "output_type": "stream",
          "name": "stdout",
          "text": [
            "================================\u001b[1m Human Message \u001b[0m=================================\n",
            "\n",
            "I need some expert guidance for building this AI agent. Could you request assistance for me?\n",
            "==================================\u001b[1m Ai Message \u001b[0m==================================\n",
            "Tool Calls:\n",
            "  RequestAssistance (d666ab61-4d73-4bd1-85c2-24d62940d67c)\n",
            " Call ID: d666ab61-4d73-4bd1-85c2-24d62940d67c\n",
            "  Args:\n",
            "    request: I need help building an AI agent. Could you connect me with an expert?\n"
          ]
        }
      ]
    },
    {
      "cell_type": "code",
      "source": [
        "snapshot=graph.get_state(config)\n",
        "snapshot.next"
      ],
      "metadata": {
        "colab": {
          "base_uri": "https://localhost:8080/"
        },
        "id": "gXJKJFR_ngRh",
        "outputId": "2bcd5edf-e94e-4701-e649-97ba14211dd5"
      },
      "execution_count": 265,
      "outputs": [
        {
          "output_type": "execute_result",
          "data": {
            "text/plain": [
              "('human',)"
            ]
          },
          "metadata": {},
          "execution_count": 265
        }
      ]
    },
    {
      "cell_type": "code",
      "source": [
        "# Handling human response and updating state\n",
        "ai_message = graph.get_state(config).values[\"messages\"][-1]\n",
        "human_response = (\n",
        "    \"We, the experts are here to help! We'd recommend you check out LangGraph to build your agent.\"\n",
        "    \" It's much more reliable and extensible than simple autonomous agents.\"\n",
        ")\n"
      ],
      "metadata": {
        "id": "0g3SQVidTt7j"
      },
      "execution_count": 267,
      "outputs": []
    },
    {
      "cell_type": "code",
      "source": [
        "# Aik snapshot ya response ko `ai_message` mein store karna\n",
        "\n",
        "# Phir `ai_message` ko create_response function mein use karein\n",
        "tool_message = create_response(human_response, ai_message)\n",
        "graph.update_state(config, {\"messages\": [tool_message]})\n"
      ],
      "metadata": {
        "colab": {
          "base_uri": "https://localhost:8080/"
        },
        "id": "71IPgUJVT_LE",
        "outputId": "abebc771-f32f-415d-a373-5559cf901476"
      },
      "execution_count": 268,
      "outputs": [
        {
          "output_type": "execute_result",
          "data": {
            "text/plain": [
              "{'configurable': {'thread_id': '1',\n",
              "  'checkpoint_ns': '',\n",
              "  'checkpoint_id': '1ef9cde7-db22-6fdb-8002-bd3a8d42d207'}}"
            ]
          },
          "metadata": {},
          "execution_count": 268
        }
      ]
    },
    {
      "cell_type": "code",
      "source": [
        "print(graph.get_state(config).values[\"messages\"])"
      ],
      "metadata": {
        "colab": {
          "base_uri": "https://localhost:8080/"
        },
        "id": "t6sz84jLULrL",
        "outputId": "9d35fe27-1057-469b-bb45-9d576dbf4462"
      },
      "execution_count": 269,
      "outputs": [
        {
          "output_type": "stream",
          "name": "stdout",
          "text": [
            "[HumanMessage(content='I need some expert guidance for building this AI agent. Could you request assistance for me?', additional_kwargs={}, response_metadata={}, id='a1d1489e-81bc-46da-b3ba-b4395a70fe08'), AIMessage(content='', additional_kwargs={'function_call': {'name': 'RequestAssistance', 'arguments': '{\"request\": \"I need help building an AI agent. Can you connect me with an expert?\"}'}}, response_metadata={'prompt_feedback': {'block_reason': 0, 'safety_ratings': []}, 'finish_reason': 'STOP', 'safety_ratings': [{'category': 'HARM_CATEGORY_DANGEROUS_CONTENT', 'probability': 'NEGLIGIBLE', 'blocked': False}, {'category': 'HARM_CATEGORY_HARASSMENT', 'probability': 'NEGLIGIBLE', 'blocked': False}, {'category': 'HARM_CATEGORY_HATE_SPEECH', 'probability': 'NEGLIGIBLE', 'blocked': False}, {'category': 'HARM_CATEGORY_SEXUALLY_EXPLICIT', 'probability': 'NEGLIGIBLE', 'blocked': False}]}, id='run-380ac1df-b300-4594-a825-a2a6dd3f9006-0', tool_calls=[{'name': 'RequestAssistance', 'args': {'request': 'I need help building an AI agent. Can you connect me with an expert?'}, 'id': 'c166532b-c1dd-442c-9323-f8097c1a1470', 'type': 'tool_call'}], usage_metadata={'input_tokens': 150, 'output_tokens': 29, 'total_tokens': 179, 'input_token_details': {'cache_read': 0}}), ToolMessage(content=\"We, the experts are here to help! We'd recommend you check out LangGraph to build your agent. It's much more reliable and extensible than simple autonomous agents.\", id='a0c2ac0c-0691-4fcd-a7cd-dc4e6265ae39', tool_call_id='c166532b-c1dd-442c-9323-f8097c1a1470')]\n"
          ]
        }
      ]
    },
    {
      "cell_type": "code",
      "source": [
        "for m in graph.get_state(config).values[\"messages\"]:\n",
        "  m.pretty_print()"
      ],
      "metadata": {
        "colab": {
          "base_uri": "https://localhost:8080/"
        },
        "id": "RYaR9-fFqjFt",
        "outputId": "efeb49aa-eebb-4ec5-92af-9aa1a470ee54"
      },
      "execution_count": 272,
      "outputs": [
        {
          "output_type": "stream",
          "name": "stdout",
          "text": [
            "================================\u001b[1m Human Message \u001b[0m=================================\n",
            "\n",
            "I need some expert guidance for building this AI agent. Could you request assistance for me?\n",
            "==================================\u001b[1m Ai Message \u001b[0m==================================\n",
            "Tool Calls:\n",
            "  RequestAssistance (c166532b-c1dd-442c-9323-f8097c1a1470)\n",
            " Call ID: c166532b-c1dd-442c-9323-f8097c1a1470\n",
            "  Args:\n",
            "    request: I need help building an AI agent. Can you connect me with an expert?\n",
            "=================================\u001b[1m Tool Message \u001b[0m=================================\n",
            "\n",
            "We, the experts are here to help! We'd recommend you check out LangGraph to build your agent. It's much more reliable and extensible than simple autonomous agents.\n"
          ]
        }
      ]
    }
  ]
}