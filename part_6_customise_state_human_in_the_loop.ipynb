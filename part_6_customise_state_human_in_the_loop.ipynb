{
  "nbformat": 4,
  "nbformat_minor": 0,
  "metadata": {
    "colab": {
      "provenance": [],
      "authorship_tag": "ABX9TyNfwv2L0Qeb7VNG6t+RyS9j",
      "include_colab_link": true
    },
    "kernelspec": {
      "name": "python3",
      "display_name": "Python 3"
    },
    "language_info": {
      "name": "python"
    }
  },
  "cells": [
    {
      "cell_type": "markdown",
      "metadata": {
        "id": "view-in-github",
        "colab_type": "text"
      },
      "source": [
        "<a href=\"https://colab.research.google.com/github/NAVEED261/MY-AI-ASSISTANT/blob/main/part_6_customise_state_human_in_the_loop.ipynb\" target=\"_parent\"><img src=\"https://colab.research.google.com/assets/colab-badge.svg\" alt=\"Open In Colab\"/></a>"
      ]
    },
    {
      "cell_type": "markdown",
      "source": [
        "# ***Quick Start***\n",
        "In this comprehensive quick start, we will build a support chatbot in LangGraph that can:\n",
        "\n",
        "Answer common questions by searching the web\n",
        "Maintain conversation state across calls\n",
        "Route complex queries to a human for review\n",
        "Use custom state to control its behavior\n",
        "Rewind and explore alternative conversation paths\n",
        "We'll start with a basic chatbot and progressively add more sophisticated capabilities, introducing key LangGraph concepts along the way.\n",
        "\n",
        "Setup\n",
        "First, install the required packages:"
      ],
      "metadata": {
        "id": "6Is8VlS-NNbd"
      }
    },
    {
      "cell_type": "code",
      "source": [
        "%%capture --no-stderr\n",
        "%pip install -U langgraph langsmith langchain_google_genai tavily-python langchain_community"
      ],
      "metadata": {
        "id": "bM3-O-CwNQTs"
      },
      "execution_count": 1,
      "outputs": []
    },
    {
      "cell_type": "code",
      "source": [
        "import os\n",
        "from google.colab import userdata\n",
        "\n",
        "os.environ[\"LANGCHAIN_API_KEY\"] = userdata.get('memory-enabled-agent')\n",
        "os.environ[\"LANGCHAIN_TRACING_V2\"] = \"true\"\n",
        "os.environ[\"LANGCHAIN_PROJECT\"] = \"quickstart\"\n",
        "\n",
        "gemini_api_key = userdata.get('GOOGLE_API_KEY')\n",
        "os.environ[\"TAVILY_API_KEY\"] = userdata.get(\"Tavily_Api_Key\")"
      ],
      "metadata": {
        "id": "WBjr2DcYNZHD"
      },
      "execution_count": 3,
      "outputs": []
    },
    {
      "cell_type": "code",
      "source": [
        "from langchain_google_genai import ChatGoogleGenerativeAI\n",
        "\n",
        "llm = ChatGoogleGenerativeAI(\n",
        "    model=\"gemini-1.5-flash\",\n",
        "    max_retries=2,\n",
        "    api_key=gemini_api_key\n",
        ")\n",
        "llm.invoke(\"greeting me\")"
      ],
      "metadata": {
        "id": "TvhipMXbNngM",
        "colab": {
          "base_uri": "https://localhost:8080/"
        },
        "outputId": "4781fcb9-bbaa-4d97-87ef-accab76f9d0d"
      },
      "execution_count": 6,
      "outputs": [
        {
          "output_type": "execute_result",
          "data": {
            "text/plain": [
              "AIMessage(content='Hello there! How can I help you today?\\n', additional_kwargs={}, response_metadata={'prompt_feedback': {'block_reason': 0, 'safety_ratings': []}, 'finish_reason': 'STOP', 'safety_ratings': []}, id='run-320e791f-44f4-4f73-b1f1-883fb91ecb7d-0', usage_metadata={'input_tokens': 3, 'output_tokens': 11, 'total_tokens': 14, 'input_token_details': {'cache_read': 0}})"
            ]
          },
          "metadata": {},
          "execution_count": 6
        }
      ]
    },
    {
      "cell_type": "code",
      "source": [
        "from langchain_community.tools.tavily_search import TavilySearchResults # Import the necessary class\n",
        "\n",
        "tool = TavilySearchResults(max_results=2)\n",
        "tools = [tool]\n",
        "tool.invoke(\"what is current weather in karachi?\")"
      ],
      "metadata": {
        "id": "XY9iisqUN7OD",
        "colab": {
          "base_uri": "https://localhost:8080/"
        },
        "outputId": "8572ddd0-0a2a-47c4-b0c0-e83b9bc37790"
      },
      "execution_count": 7,
      "outputs": [
        {
          "output_type": "execute_result",
          "data": {
            "text/plain": [
              "[{'url': 'https://www.weatherapi.com/',\n",
              "  'content': \"{'location': {'name': 'Karachi', 'region': 'Sindh', 'country': 'Pakistan', 'lat': 24.8667, 'lon': 67.05, 'tz_id': 'Asia/Karachi', 'localtime_epoch': 1732943170, 'localtime': '2024-11-30 10:06'}, 'current': {'last_updated_epoch': 1732942800, 'last_updated': '2024-11-30 10:00', 'temp_c': 24.3, 'temp_f': 75.7, 'is_day': 1, 'condition': {'text': 'Overcast', 'icon': '//cdn.weatherapi.com/weather/64x64/day/122.png', 'code': 1009}, 'wind_mph': 6.5, 'wind_kph': 10.4, 'wind_degree': 54, 'wind_dir': 'NE', 'pressure_mb': 1017.0, 'pressure_in': 30.03, 'precip_mm': 0.0, 'precip_in': 0.0, 'humidity': 57, 'cloud': 0, 'feelslike_c': 24.4, 'feelslike_f': 75.9, 'windchill_c': 27.5, 'windchill_f': 81.5, 'heatindex_c': 26.6, 'heatindex_f': 80.0, 'dewpoint_c': 9.1, 'dewpoint_f': 48.3, 'vis_km': 2.5, 'vis_miles': 1.0, 'uv': 2.3, 'gust_mph': 8.1, 'gust_kph': 13.1}}\"},\n",
              " {'url': 'https://tgftp.nws.noaa.gov/weather/current/OPKC.html',\n",
              "  'content': 'Current Weather Conditions: Karachi Airport, Pakistan ... 2024.11.24 2330 UTC Wind : from the NE (050 degrees) at 5 MPH (4 KT) Visibility : 3 mile(s) Weather : Smoke Temperature : 66 F (19 C) Dew Point : 62 F (17 C) ... (11) Nov 24: 86 (30) 66 (19) 29.91 (1013) WSW 9: 5 AM (10) Nov 24: 87 (31) 64 (18) 29.91 (1013) SSW 9: 4 AM (9) Nov 24:'}]"
            ]
          },
          "metadata": {},
          "execution_count": 7
        }
      ]
    },
    {
      "cell_type": "code",
      "source": [
        "from typing import Annotated\n",
        "from langchain_community.tools.tavily_search import TavilySearchResults\n",
        "from typing_extensions import TypedDict\n",
        "from pydantic import BaseModel\n",
        "from langgraph.graph import StateGraph, START, END  # Ensure END is imported\n",
        "from langgraph.checkpoint.memory import MemorySaver\n",
        "from langgraph.graph.message import add_messages\n",
        "from langgraph.prebuilt import ToolNode, tools_condition\n",
        "from langchain_core.messages import AIMessage, ToolMessage\n",
        "from IPython.display import Image, display\n",
        "\n",
        "# Initialize MemorySaver\n",
        "memory = MemorySaver()\n",
        "\n",
        "# Define the State class with messages and ask_human flag\n",
        "class State(TypedDict):\n",
        "    messages: Annotated[list, add_messages]\n",
        "    ask_human: bool  # This flag is new\n",
        "    # ya first schema tool k use k lya bnaya ha\n"
      ],
      "metadata": {
        "id": "RK-rYQmUSnot"
      },
      "execution_count": 11,
      "outputs": []
    },
    {
      "cell_type": "code",
      "source": [
        "# Define the RequestAssistance model using Pydantic\n",
        "class RequestAssistance(BaseModel):\n",
        "    \"\"\"Escalate the conversation to an expert. Use this if you are unable to assist directly or if the user requires support beyond your permissions.\"\"\"\n",
        "    request: str\n",
        "    # ya schema human k tool k lya bnaya ha"
      ],
      "metadata": {
        "id": "CqVw01UzSshj"
      },
      "execution_count": 12,
      "outputs": []
    },
    {
      "cell_type": "code",
      "source": [
        "\n",
        "\n",
        "# Bind the LLM to tools and the RequestAssistance model\n",
        "llm_with_tools = llm.bind_tools(tools + [RequestAssistance])"
      ],
      "metadata": {
        "id": "w2TjMex9bUvv"
      },
      "execution_count": 13,
      "outputs": []
    },
    {
      "cell_type": "code",
      "source": [
        "response = llm_with_tools.invoke(\"i need some tips about loss weight plz connect me agent\")\n",
        "response.pretty_print()"
      ],
      "metadata": {
        "colab": {
          "base_uri": "https://localhost:8080/"
        },
        "id": "OqlEYaS0bXEG",
        "outputId": "5d2c6165-f92e-47a6-cf7c-b43504ca1388"
      },
      "execution_count": 30,
      "outputs": [
        {
          "output_type": "stream",
          "name": "stdout",
          "text": [
            "==================================\u001b[1m Ai Message \u001b[0m==================================\n",
            "Tool Calls:\n",
            "  RequestAssistance (ddb973fa-bc76-4223-96dc-69388777f669)\n",
            " Call ID: ddb973fa-bc76-4223-96dc-69388777f669\n",
            "  Args:\n",
            "    request: I need some tips about weight loss.  Connect me with an agent.\n"
          ]
        }
      ]
    },
    {
      "cell_type": "code",
      "source": [
        "\n",
        "\n",
        "# Define the chatbot function\n",
        "def chatbot(state: State):\n",
        "    response = llm_with_tools.invoke(state[\"messages\"])\n",
        "    ask_human = False\n",
        "    if (\n",
        "        response.tool_calls\n",
        "        and response.tool_calls[0][\"name\"] == RequestAssistance.__name__\n",
        "    ):\n",
        "        ask_human = True\n",
        "    return {\"messages\": [response], \"ask_human\": ask_human}\n",
        "\n",
        "# Initialize the StateGraph\n",
        "graph_builder = StateGraph(State)\n",
        "# is node ma phla llm ko call ki msg pas kro or human ki need ni ha i mean false or ager\n",
        "# human ki need ha true kro or wo query human ko pass krdo phr ek statgraph bnao"
      ],
      "metadata": {
        "id": "Fwrb4WKuSzZy"
      },
      "execution_count": 37,
      "outputs": []
    },
    {
      "cell_type": "code",
      "source": [
        "# Add nodes to the graph\n",
        "graph_builder.add_node(\"chatbot\", chatbot)\n",
        "graph_builder.add_node(\"tools\", ToolNode(tools=[tool]))\n",
        "# iska parameter ma ek tool or human k tool true hona k lya use kya ha"
      ],
      "metadata": {
        "colab": {
          "base_uri": "https://localhost:8080/"
        },
        "id": "dibWKvUXS8Wf",
        "outputId": "de951bcc-903e-4580-ca71-67d41e3ac97e"
      },
      "execution_count": 38,
      "outputs": [
        {
          "output_type": "execute_result",
          "data": {
            "text/plain": [
              "<langgraph.graph.state.StateGraph at 0x798178374160>"
            ]
          },
          "metadata": {},
          "execution_count": 38
        }
      ]
    },
    {
      "cell_type": "code",
      "source": [
        "# Define the create_response function\n",
        "def create_response(response: str, ai_message: AIMessage):\n",
        "    return ToolMessage(\n",
        "        content=response,  # Human ka response yahan content mein set hota hai\n",
        "        tool_call_id=ai_message.tool_calls[0][\"id\"],  # AI message se related tool call ID set hoti hai\n",
        "    )\n",
        "\n",
        "    # this is helper function\n",
        "    # get resonse by human and return and convert in tool msg\n",
        "\n",
        "# Define the human_node function\n",
        "def human_node(state: State):\n",
        "    new_messages = []\n",
        "    if not isinstance(state[\"messages\"][-1], ToolMessage):\n",
        "        # Add placeholder message if no response from human\n",
        "        new_messages.append(\n",
        "            create_response(\"No response from human.\", state[\"messages\"][-1])\n",
        "        )\n",
        "    return {\n",
        "        \"messages\": new_messages,\n",
        "        \"ask_human\": False,  # Reset ask_human flag\n",
        "    }\n",
        "# Human node ka purpose hai human ke response ka wait karna. Agar human reply nahi karta,\n",
        "#  toh chatbot \"No response from human.\" message khud hi add kar deta hai aur ask_human flag\n",
        "# ko False set karta hai, jo batata hai ke ab human ki zaroorat nahi hai aur chatbot aage\n",
        "# continue kar sakta hai.\n",
        "# Add the human node to the graph\n",
        "graph_builder.add_node(\"human\", human_node)"
      ],
      "metadata": {
        "colab": {
          "base_uri": "https://localhost:8080/"
        },
        "id": "oO75KP2zTAfU",
        "outputId": "830ba28e-6825-4be4-c442-90d962272390"
      },
      "execution_count": 39,
      "outputs": [
        {
          "output_type": "execute_result",
          "data": {
            "text/plain": [
              "<langgraph.graph.state.StateGraph at 0x798178374160>"
            ]
          },
          "metadata": {},
          "execution_count": 39
        }
      ]
    },
    {
      "cell_type": "code",
      "source": [
        "# Define the select_next_node function\n",
        "def select_next_node(state: State):\n",
        "  # ager true ha to human ko query bhjo\n",
        "    if state[\"ask_human\"]:\n",
        "        return \"human\"\n",
        "    return tools_condition(state)\n",
        "    # werna tool  k pas bhjo\n",
        "graph_builder.add_edge(START, \"chatbot\")\n",
        "\n",
        "# Add conditional edges to the graph\n",
        "graph_builder.add_conditional_edges(\"chatbot\",select_next_node,{\"human\": \"human\", \"tools\": \"tools\", \"END\": END})\n",
        "# chatbot na select krna ha k human k pas tool k pas ya phr end krna ha query ko"
      ],
      "metadata": {
        "colab": {
          "base_uri": "https://localhost:8080/"
        },
        "id": "quWYI3_pTGND",
        "outputId": "1160da60-6da2-4b52-d269-1e2460f2faa5"
      },
      "execution_count": 41,
      "outputs": [
        {
          "output_type": "execute_result",
          "data": {
            "text/plain": [
              "<langgraph.graph.state.StateGraph at 0x798178374160>"
            ]
          },
          "metadata": {},
          "execution_count": 41
        }
      ]
    },
    {
      "cell_type": "code",
      "source": [
        "# Add other necessary edges\n",
        "graph_builder.add_edge(\"tools\", \"chatbot\")\n",
        "graph_builder.add_edge(\"human\", \"chatbot\")\n",
        "\n",
        "\n",
        "# Compile the graph without end_node (removed based on error)\n",
        "graph = graph_builder.compile(\n",
        "    checkpointer=memory,\n",
        "    interrupt_before=[\"human\"]\n",
        ")\n"
      ],
      "metadata": {
        "id": "ZLq6GAuRTJ09"
      },
      "execution_count": 42,
      "outputs": []
    },
    {
      "cell_type": "code",
      "source": [
        "# Display the graph (optional, requires additional dependencies)\n",
        "try:\n",
        "    display(Image(graph.get_graph().draw_mermaid_png()))\n",
        "except Exception:\n",
        "    pass"
      ],
      "metadata": {
        "colab": {
          "base_uri": "https://localhost:8080/",
          "height": 332
        },
        "id": "IZPYBMG5TRRl",
        "outputId": "29bf7be1-78e4-4905-dfc5-09cecb95ab25"
      },
      "execution_count": 43,
      "outputs": [
        {
          "output_type": "display_data",
          "data": {
            "image/png": "[encoded data removed]",
            "text/plain": [
              "<IPython.core.display.Image object>"
            ]
          },
          "metadata": {}
        }
      ]
    },
    {
      "cell_type": "code",
      "source": [
        "from langchain.schema.messages import ToolMessage, HumanMessage, AIMessage  # Import from langchain.schema.messages\n",
        ""
      ],
      "metadata": {
        "id": "zsg4xMy4c8mL"
      },
      "execution_count": 44,
      "outputs": []
    },
    {
      "cell_type": "code",
      "source": [
        "config1 = {\"configurable\": {\"thread_id\": \"1\"}} # Changed config1 to a dictionary with the correct structure\n",
        "message = graph.invoke({\"messages\":[HumanMessage(content = \"I need some expert guidance for building this AI agent. Could you request assistance for me?\")]}, config1)\n",
        "for m in message[\"messages\"]:\n",
        "  m.pretty_print()"
      ],
      "metadata": {
        "id": "xCETLZQqTd37",
        "colab": {
          "base_uri": "https://localhost:8080/"
        },
        "outputId": "6f7a2ac5-f25a-4bdb-afbe-a5f35383d681"
      },
      "execution_count": 45,
      "outputs": [
        {
          "output_type": "stream",
          "name": "stdout",
          "text": [
            "================================\u001b[1m Human Message \u001b[0m=================================\n",
            "\n",
            "I need some expert guidance for building this AI agent. Could you request assistance for me?\n",
            "==================================\u001b[1m Ai Message \u001b[0m==================================\n",
            "Tool Calls:\n",
            "  RequestAssistance (61d1f1a9-0053-4e10-8e9f-a3794a4ceb69)\n",
            " Call ID: 61d1f1a9-0053-4e10-8e9f-a3794a4ceb69\n",
            "  Args:\n",
            "    request: I need some expert guidance for building this AI agent.\n"
          ]
        }
      ]
    },
    {
      "cell_type": "code",
      "source": [
        "snapshot=graph.get_state(config1)\n",
        "snapshot.next\n",
        ""
      ],
      "metadata": {
        "colab": {
          "base_uri": "https://localhost:8080/"
        },
        "id": "PxFolXDndXDi",
        "outputId": "47b47c17-3a28-4bf4-fc85-ede8904f28aa"
      },
      "execution_count": 46,
      "outputs": [
        {
          "output_type": "execute_result",
          "data": {
            "text/plain": [
              "('human',)"
            ]
          },
          "metadata": {},
          "execution_count": 46
        }
      ]
    },
    {
      "cell_type": "code",
      "source": [
        "ai_message = graph.get_state(config1).values[\"messages\"][-1]\n",
        "human_response = (\n",
        "    \"We, the experts are here to help! We'd recommend you check out LangGraph to build your agent.\"\n",
        "    \" It's much more reliable and extensible than simple autonomous agents.\"\n",
        ")\n"
      ],
      "metadata": {
        "id": "_Jp_ZzIOdcti"
      },
      "execution_count": 47,
      "outputs": []
    },
    {
      "cell_type": "code",
      "source": [
        "# Aik snapshot ya response ko `ai_message` mein store karna\n",
        "\n",
        "# Phir `ai_message` ko create_response function mein use karein\n",
        "tool_message = create_response(human_response, ai_message)\n",
        "graph.update_state(config1, {\"messages\": [tool_message]})\n",
        "\n",
        ""
      ],
      "metadata": {
        "colab": {
          "base_uri": "https://localhost:8080/"
        },
        "id": "t3Lu61S6diEK",
        "outputId": "0e4fd862-1057-4f3e-bc31-f9b8d99475f5"
      },
      "execution_count": 48,
      "outputs": [
        {
          "output_type": "execute_result",
          "data": {
            "text/plain": [
              "{'configurable': {'thread_id': '1',\n",
              "  'checkpoint_ns': '',\n",
              "  'checkpoint_id': '1efaed8c-e7fe-6c86-8002-f7c6af07a418'}}"
            ]
          },
          "metadata": {},
          "execution_count": 48
        }
      ]
    },
    {
      "cell_type": "code",
      "source": [
        "for m in graph.get_state(config1).values[\"messages\"]:\n",
        "  m.pretty_print()\n",
        "\n"
      ],
      "metadata": {
        "colab": {
          "base_uri": "https://localhost:8080/"
        },
        "id": "GwAcPFZ3doRK",
        "outputId": "c81a8e81-3101-4be1-d5ea-07f409440697"
      },
      "execution_count": 52,
      "outputs": [
        {
          "output_type": "stream",
          "name": "stdout",
          "text": [
            "================================\u001b[1m Human Message \u001b[0m=================================\n",
            "\n",
            "I need some expert guidance for building this AI agent. Could you request assistance for me?\n",
            "==================================\u001b[1m Ai Message \u001b[0m==================================\n",
            "Tool Calls:\n",
            "  RequestAssistance (61d1f1a9-0053-4e10-8e9f-a3794a4ceb69)\n",
            " Call ID: 61d1f1a9-0053-4e10-8e9f-a3794a4ceb69\n",
            "  Args:\n",
            "    request: I need some expert guidance for building this AI agent.\n",
            "=================================\u001b[1m Tool Message \u001b[0m=================================\n",
            "\n",
            "We, the experts are here to help! We'd recommend you check out LangGraph to build your agent. It's much more reliable and extensible than simple autonomous agents.\n"
          ]
        }
      ]
    }
  ]
}