{
  "nbformat": 4,
  "nbformat_minor": 0,
  "metadata": {
    "colab": {
      "provenance": [],
      "authorship_tag": "ABX9TyM7qG16aZ+DCS93FY9449yQ",
      "include_colab_link": true
    },
    "kernelspec": {
      "name": "python3",
      "display_name": "Python 3"
    },
    "language_info": {
      "name": "python"
    }
  },
  "cells": [
    {
      "cell_type": "markdown",
      "metadata": {
        "id": "view-in-github",
        "colab_type": "text"
      },
      "source": [
        "<a href=\"https://colab.research.google.com/github/NAVEED261/MY-AI-ASSISTANT/blob/main/practice_of_command.ipynb\" target=\"_parent\"><img src=\"https://colab.research.google.com/assets/colab-badge.svg\" alt=\"Open In Colab\"/></a>"
      ]
    },
    {
      "cell_type": "code",
      "execution_count": 3,
      "metadata": {
        "id": "n1JmU0ylPt0_"
      },
      "outputs": [],
      "source": [
        "%%capture\n",
        "%pip install langgraph"
      ]
    },
    {
      "cell_type": "code",
      "source": [
        "from langgraph.graph import StateGraph, START\n",
        "from langgraph.graph.state import CompiledStateGraph\n",
        "from langgraph.graph.message import add_messages\n",
        "from IPython.display import Image\n",
        "import random\n",
        "from typing import TypedDict, Literal, Optional, Annotated\n",
        "from langgraph.types import Command"
      ],
      "metadata": {
        "id": "aRgDjGObP1kR"
      },
      "execution_count": 6,
      "outputs": []
    },
    {
      "cell_type": "code",
      "source": [
        "class state(TypedDict):\n",
        "  address:str\n",
        "  near_by_home:Optional[list[dict]]  # Change this line\n",
        "  messages:Annotated[list, add_messages]"
      ],
      "metadata": {
        "id": "TNRT621ERO9p"
      },
      "execution_count": 8,
      "outputs": []
    },
    {
      "cell_type": "code",
      "source": [
        "from langchain_core.messages import AIMessage ,HumanMessage"
      ],
      "metadata": {
        "id": "Bq8X3r7xVBIy"
      },
      "execution_count": 12,
      "outputs": []
    },
    {
      "cell_type": "code",
      "source": [
        "def node_A(state:state)->Command[Literal[\"search by near home\",\"question and answer\"]]:\n",
        "  print(\"called A\")\n",
        "  value = random.choices([\"search by near home\",\"question and answer\"])\n",
        "  if value == \"search by near home\":\n",
        "    goto  = \"search by near home\"\n",
        "  else:\n",
        "    goto = \"question and answer\"\n",
        "  return Command(goto=goto)\n",
        "def search_by_near_home(state:state):\n",
        "  print(\"called search by near home\")\n",
        "  return{\"near_by_home\":[{\"home 1\":\"fatima zehra hosue\"},{\"home 2\" : \"umaima gul hosue\"}]}\n",
        "def question_and_answer(state:state):\n",
        "  print(\"called question and answer\")\n",
        "  return{\"messages\":[AIMessage(content=\"system is drop due to internet connection plz try again letter\")]}"
      ],
      "metadata": {
        "id": "4r1r15qASdxz"
      },
      "execution_count": 18,
      "outputs": []
    },
    {
      "cell_type": "code",
      "source": [
        "builder = StateGraph(state)\n",
        "builder.add_node(\"node_A\",node_A)\n",
        "builder.add_node(\"search by near home\",search_by_near_home)\n",
        "builder.add_node(\"question and answer\",question_and_answer)\n",
        "builder.add_edge(START,\"node_A\")\n",
        "graph =builder.compile()\n",
        "display(Image(graph.get_graph().draw_mermaid_png()))\n"
      ],
      "metadata": {
        "colab": {
          "base_uri": "https://localhost:8080/",
          "height": 266
        },
        "id": "aIJVk5FAVOdA",
        "outputId": "10548001-5dd2-488f-ffd5-0d1ec3688b77"
      },
      "execution_count": 19,
      "outputs": [
        {
          "output_type": "display_data",
          "data": {
            "image/png": "[encoded data removed]",
            "text/plain": [
              "<IPython.core.display.Image object>"
            ]
          },
          "metadata": {}
        }
      ]
    },
    {
      "cell_type": "code",
      "source": [
        "responst = graph.invoke({\"address\":\"Karachi\"})\n",
        "print(\"\\n[FINAL RESPONSE]\\n\", responst)"
      ],
      "metadata": {
        "colab": {
          "base_uri": "https://localhost:8080/"
        },
        "id": "vyEKtCQLWbpC",
        "outputId": "d418d627-7fb4-4895-a8a6-6bb2f95b6c6b"
      },
      "execution_count": 21,
      "outputs": [
        {
          "output_type": "stream",
          "name": "stdout",
          "text": [
            "called A\n",
            "called question and answer\n",
            "\n",
            "[FINAL RESPONSE]\n",
            " {'address': 'Karachi', 'messages': [AIMessage(content='system is drop due to internet connection plz try again letter', additional_kwargs={}, response_metadata={}, id='1f830784-7848-4eac-88bd-a3fa901886ab')]}\n"
          ]
        }
      ]
    },
    {
      "cell_type": "code",
      "source": [
        "class State(TypedDict):\n",
        "    address: str # address where user wants to search homes for.\n",
        "    nearby_homes: Optional[list[dict]] # list of nearby homes\n",
        "    messages: Annotated[list, add_messages]\n",
        "    user_data: Optional[dict] # user data - for registered users we already have this"
      ],
      "metadata": {
        "id": "XEG-G3mMbqwj"
      },
      "execution_count": 37,
      "outputs": []
    },
    {
      "cell_type": "code",
      "source": [
        "\n",
        "# Define the nodes (agents)\n",
        "\n",
        "def node_a(state: state) -> Command[Literal[\"search_nearby_homes\", \"answer_question\"]]:\n",
        "    print(\"Called A\")\n",
        "\n",
        "    # Get User Data From Memory or Data Store\n",
        "    fetched_user_data = {\"name\": \"fatima zehra\"}\n",
        "\n",
        "    # THis is where llm decides which node shall I go next\n",
        "    value = random.choice([\"search_nearby_homes\", \"answer_question\"])\n",
        "\n",
        "    # This is a replacement for a conditional edge function\n",
        "    if value == \"search_nearby_homes\":\n",
        "        goto = \"search_nearby_homes\"\n",
        "    else:\n",
        "        goto = \"answer_question\"\n",
        "\n",
        "    # note how Command allows you to BOTH update the graph state AND route to the next node\n",
        "    return Command(\n",
        "        update={\"user_data\": fetched_user_data},\n",
        "        # this is a replacement for an edge\n",
        "        goto=goto,\n",
        "    )\n",
        "\n",
        "\n",
        "# Nodes search_nearby_homes and answer_question are unchanged (just like before)\n",
        "def search_nearby_homes(state: state):\n",
        "    print(\"Called search_nearby_homes!\")\n",
        "    print(\"UserInfo\", state[\"user_data\"])\n",
        "    return {\"nearby_homes\": [{\"home_1\": \"fatima zehra\"}, {\"home_2\": \"umaima gul\"}]}\n",
        "\n",
        "\n",
        "def answer_question(state: state):\n",
        "    print(\"Called answer_question\")\n",
        "    print(\"UserInfo\", state[\"user_data\"])\n",
        "    user_name = state[\"user_data\"].get(\"name\", \"Guest\")\n",
        "    return {\"messages\": [AIMessage(content=f\"Hi, {user_name} Welcome to Homes AI Search Engine\")]}\n",
        "\n",
        "\n",
        "builder = StateGraph(state)\n",
        "builder.add_edge(START, \"node_a\")\n",
        "builder.add_node(node_a)\n",
        "builder.add_node(search_nearby_homes)\n",
        "builder.add_node(answer_question)\n",
        "# NOTE: there are no edges between nodes A, B and C!\n",
        "\n",
        "graph = builder.compile()\n",
        "\n",
        "\n",
        "from IPython.display import display, Image\n",
        "\n",
        "display(Image(graph.get_graph().draw_mermaid_png()))\n",
        "\n"
      ],
      "metadata": {
        "colab": {
          "base_uri": "https://localhost:8080/",
          "height": 266
        },
        "id": "3K8Yq97Abtba",
        "outputId": "6d9420b5-d7f7-43b6-b957-f20d7d8eea6e"
      },
      "execution_count": 38,
      "outputs": [
        {
          "output_type": "display_data",
          "data": {
            "image/png": "[encoded data removed]",
            "text/plain": [
              "<IPython.core.display.Image object>"
            ]
          },
          "metadata": {}
        }
      ]
    },
    {
      "cell_type": "code",
      "source": [
        "response = graph.invoke({\"address\": \"Karachi\"})\n",
        "\n",
        "print(\"\\n[FINAL RESPONSE]\\n\", response)\n",
        ""
      ],
      "metadata": {
        "colab": {
          "base_uri": "https://localhost:8080/"
        },
        "id": "rpGriVQGe19C",
        "outputId": "a97960db-243a-4ec7-9b6d-1fe758c11150"
      },
      "execution_count": 39,
      "outputs": [
        {
          "output_type": "stream",
          "name": "stdout",
          "text": [
            "Called A\n",
            "Called search_nearby_homes!\n",
            "UserInfo {'name': 'fatima zehra'}\n",
            "\n",
            "[FINAL RESPONSE]\n",
            " {'address': 'Karachi', 'messages': [], 'user_data': {'name': 'fatima zehra'}}\n"
          ]
        }
      ]
    },
    {
      "cell_type": "code",
      "source": [
        "class State(TypedDict):\n",
        "    address: str # address where user wants to search homes for.\n",
        "    nearby_homes: Optional[list[dict]] # list of nearby homes\n",
        "    messages: Annotated[list, add_messages]\n",
        "    user_data: Optional[dict] # user data - for registered users we already have this"
      ],
      "metadata": {
        "id": "kavzyFpyhroc"
      },
      "execution_count": 40,
      "outputs": []
    },
    {
      "cell_type": "code",
      "source": [
        "\n",
        "# Define the nodes (agents)\n",
        "\n",
        "def node_a(state: state) -> Command[Literal[\"search_nearby_homes\", \"answer_question\"]]:\n",
        "    print(\"Called A\")\n",
        "\n",
        "    # Get User Data From Memory or Data Store\n",
        "    fetched_user_data = {\"name\": \"fatima zehra\"}\n",
        "\n",
        "\n",
        "    return Command(\n",
        "        update={\"user_data\": fetched_user_data},\n",
        "        # this is a replacement for an edge\n",
        "        goto=[\"search_nearby_homes\", \"answer_question\"]\n",
        "    )\n",
        "\n",
        "\n",
        "# Nodes search_nearby_homes and answer_question are unchanged (just like before)\n",
        "def search_nearby_homes(state: state):\n",
        "    print(\"Called search_nearby_homes!\")\n",
        "    print(\"UserInfo\", state[\"user_data\"])\n",
        "    return {\"nearby_homes\": [{\"home_1\": \"fatima zehra\"}, {\"home_2\": \"umaima gul\"}]}\n",
        "\n",
        "\n",
        "def answer_question(state: state):\n",
        "    print(\"Called answer_question\")\n",
        "    print(\"UserInfo\", state[\"user_data\"])\n",
        "    user_name = state[\"user_data\"].get(\"name\", \"Guest\")\n",
        "    return {\"messages\": [AIMessage(content=f\"Hi, {user_name} Welcome to Homes AI Search Engine\")]}\n",
        "\n",
        "\n",
        "builder = StateGraph(state)\n",
        "builder.add_edge(START, \"node_a\")\n",
        "builder.add_node(node_a)\n",
        "builder.add_node(search_nearby_homes)\n",
        "builder.add_node(answer_question)\n",
        "# NOTE: there are no edges between nodes A, B and C!\n",
        "\n",
        "graph = builder.compile()\n",
        "\n",
        "\n",
        "from IPython.display import display, Image\n",
        "\n",
        "display(Image(graph.get_graph().draw_mermaid_png()))\n",
        "\n"
      ],
      "metadata": {
        "colab": {
          "base_uri": "https://localhost:8080/",
          "height": 266
        },
        "id": "9dSYOm4LhtiT",
        "outputId": "db1e9d71-74e1-4d6f-f026-51bc288d063a"
      },
      "execution_count": 41,
      "outputs": [
        {
          "output_type": "display_data",
          "data": {
            "image/png": "[encoded data removed]",
            "text/plain": [
              "<IPython.core.display.Image object>"
            ]
          },
          "metadata": {}
        }
      ]
    },
    {
      "cell_type": "code",
      "source": [
        "agent_response = graph.invoke({\"address\": \"Karachi\"})\n",
        "\n",
        "print(\"\\n[FINAL RESPONSE]\\n\", agent_response)"
      ],
      "metadata": {
        "colab": {
          "base_uri": "https://localhost:8080/"
        },
        "id": "jemv3OT1h1VL",
        "outputId": "fc9d95e7-bbab-4550-b17b-efab8300ec7a"
      },
      "execution_count": 42,
      "outputs": [
        {
          "output_type": "stream",
          "name": "stdout",
          "text": [
            "Called A\n",
            "Called search_nearby_homes!\n",
            "UserInfo {'name': 'fatima zehra'}\n",
            "Called answer_question\n",
            "UserInfo {'name': 'fatima zehra'}\n",
            "\n",
            "[FINAL RESPONSE]\n",
            " {'address': 'Karachi', 'messages': [AIMessage(content='Hi, fatima zehra Welcome to Homes AI Search Engine', additional_kwargs={}, response_metadata={}, id='6f36f744-3bba-419f-8917-46fe7938a418')], 'user_data': {'name': 'fatima zehra'}}\n"
          ]
        }
      ]
    }
  ]
}