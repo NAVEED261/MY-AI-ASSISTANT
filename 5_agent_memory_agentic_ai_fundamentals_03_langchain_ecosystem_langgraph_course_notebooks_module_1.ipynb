{
  "cells": [
    {
      "cell_type": "markdown",
      "metadata": {
        "id": "view-in-github",
        "colab_type": "text"
      },
      "source": [
        "<a href=\"https://colab.research.google.com/github/NAVEED261/MY-AI-ASSISTANT/blob/main/5_agent_memory_agentic_ai_fundamentals_03_langchain_ecosystem_langgraph_course_notebooks_module_1.ipynb\" target=\"_parent\"><img src=\"https://colab.research.google.com/assets/colab-badge.svg\" alt=\"Open In Colab\"/></a>"
      ]
    },
    {
      "cell_type": "markdown",
      "id": "13cd1c3e",
      "metadata": {
        "id": "13cd1c3e"
      },
      "source": [
        "[![Open in Colab](https://colab.research.google.com/assets/colab-badge.svg)](https://colab.research.google.com/github/langchain-ai/langchain-academy/blob/main/module-1/agent-memory.ipynb) [![Open in LangChain Academy](https://cdn.prod.website-files.com/65b8cd72835ceeacd4449a53/66e9eba12c7b7688aa3dbb5e_LCA-badge-green.svg)](https://academy.langchain.com/courses/take/intro-to-langgraph/lessons/58239417-lesson-7-agent-with-memory)"
      ]
    },
    {
      "cell_type": "markdown",
      "id": "8c451ffd-a18b-4412-85fa-85186824dd03",
      "metadata": {
        "id": "8c451ffd-a18b-4412-85fa-85186824dd03"
      },
      "source": [
        "# Agent memory\n",
        "\n",
        "## Review\n",
        "\n",
        "Previously, we built an agent that can:\n",
        "\n",
        "* `act` - let the model call specific tools\n",
        "* `observe` - pass the tool output back to the model\n",
        "* `reason` - let the model reason about the tool output to decide what to do next (e.g., call another tool or just respond directly)\n",
        "\n",
        "![Screenshot 2024-08-21 at 12.45.32 PM.png](https://cdn.prod.website-files.com/65b8cd72835ceeacd4449a53/66dbab7453080e6802cd1703_agent-memory1.png)\n",
        "\n",
        "## Goals\n",
        "\n",
        "Now, we're going extend our agent by introducing memory."
      ]
    },
    {
      "cell_type": "code",
      "execution_count": 76,
      "id": "d2b4b45b-cbaa-41b1-b3ed-f6b0645be3f9",
      "metadata": {
        "id": "d2b4b45b-cbaa-41b1-b3ed-f6b0645be3f9"
      },
      "outputs": [],
      "source": [
        "%%capture --no-stderr\n",
        "%pip install --quiet -U langchain_google_genai langchain_core langgraph"
      ]
    },
    {
      "cell_type": "code",
      "execution_count": 77,
      "id": "2b0cfa99",
      "metadata": {
        "id": "2b0cfa99"
      },
      "outputs": [],
      "source": [
        "from google.colab import userdata\n",
        "GEMINI_API_KEY = userdata.get('my_stenographer_key')\n",
        "from langchain_google_genai import ChatGoogleGenerativeAI\n",
        "llm = ChatGoogleGenerativeAI(model=\"gemini-1.5-flash\", api_key = GEMINI_API_KEY)"
      ]
    },
    {
      "cell_type": "markdown",
      "id": "02eff247-a2aa-4f7a-8be1-73dfebfecc63",
      "metadata": {
        "id": "02eff247-a2aa-4f7a-8be1-73dfebfecc63"
      },
      "source": [
        "We'll use [LangSmith](https://docs.smith.langchain.com/) for [tracing](https://docs.smith.langchain.com/concepts/tracing)."
      ]
    },
    {
      "cell_type": "code",
      "execution_count": 78,
      "id": "74ef2ff0",
      "metadata": {
        "id": "74ef2ff0"
      },
      "outputs": [],
      "source": [
        "import os\n",
        "from google.colab import userdata\n",
        "LANGCHAIN_API_KEY = userdata.get('LANGCHAIN_API_KEY')\n",
        "\n",
        "os.environ[\"LANGCHAIN_TRACING_V2\"] = \"true\"\n",
        "os.environ[\"LANGCHAIN_PROJECT\"] = \"langchain-academy\"\n",
        "# langsmith islya yha layagya yha hamara record ,states jainga ..or langmith langraph ka portal ha yha langsmit k kam monitor karna langchainn or langgraph k work ko"
      ]
    },
    {
      "cell_type": "markdown",
      "id": "9c5f123b-db5d-4816-a6a3-2e4247611512",
      "metadata": {
        "id": "9c5f123b-db5d-4816-a6a3-2e4247611512"
      },
      "source": [
        "This follows what we did previously."
      ]
    },
    {
      "cell_type": "code",
      "execution_count": 79,
      "id": "46647bbe-def5-4ea7-a315-1de8d97c8288",
      "metadata": {
        "collapsed": true,
        "id": "46647bbe-def5-4ea7-a315-1de8d97c8288"
      },
      "outputs": [],
      "source": [
        "\n",
        "def multiply(a: int, b: int) -> int:\n",
        "    \"\"\"Multiply a and b.\n",
        "\n",
        "    Args:\n",
        "        a: first int\n",
        "        b: second int\n",
        "    \"\"\"\n",
        "    return a * b\n",
        "\n",
        "# This will be a tool\n",
        "def add(a: int, b: int) -> int:\n",
        "    \"\"\"Adds a and b.\n",
        "\n",
        "    Args:\n",
        "        a: first int\n",
        "        b: second int\n",
        "    \"\"\"\n",
        "    return a + b\n",
        "\n",
        "def divide(a: int, b: int) -> float:\n",
        "    \"\"\"Divide a and b.\n",
        "\n",
        "    Args:\n",
        "        a: first int\n",
        "        b: second int\n",
        "    \"\"\"\n",
        "    return a / b\n",
        "\n",
        "tools = [add, multiply, divide]\n",
        "\n",
        "llm_with_tools = llm.bind_tools(tools)"
      ]
    },
    {
      "cell_type": "code",
      "execution_count": 80,
      "id": "a9092b40-20c4-4872-b0ed-be1b53a15ef3",
      "metadata": {
        "id": "a9092b40-20c4-4872-b0ed-be1b53a15ef3"
      },
      "outputs": [],
      "source": [
        "from langchain_core.messages import AIMessage, HumanMessage, SystemMessage\n",
        "\n",
        "# System message\n",
        "sys_msg = SystemMessage(content=\"You are a helpful assistant tasked with performing arithmetic on a set of inputs.\")\n",
        "# hamara model ki performance ki accuracy level kafi high hojai iska lya hum system msg use krta ha k jub b hamara prompt jai to uska sath ye system msg b jai...\n"
      ]
    },
    {
      "cell_type": "code",
      "execution_count": 81,
      "id": "771123a3-91ac-4076-92c0-93bcd69cf048",
      "metadata": {
        "colab": {
          "base_uri": "https://localhost:8080/",
          "height": 266
        },
        "id": "771123a3-91ac-4076-92c0-93bcd69cf048",
        "outputId": "eed0fb5b-f60f-472d-b8d1-a7f54e33327a"
      },
      "outputs": [
        {
          "output_type": "display_data",
          "data": {
            "image/png": "[encoded data removed]",
            "text/plain": [
              "<IPython.core.display.Image object>"
            ]
          },
          "metadata": {}
        }
      ],
      "source": [
        "from langgraph.graph import START, StateGraph\n",
        "from langgraph.prebuilt import tools_condition, ToolNode\n",
        "from IPython.display import Image, display\n",
        "from langgraph.graph.state import CompiledStateGraph\n",
        "from langgraph.graph import MessagesState\n",
        "\n",
        "# Node\n",
        "def assistant(state: MessagesState) -> MessagesState:\n",
        "  # ek assistant bnaya jis ki state ma sub record moujod ha uski type msgstate ha jo state k under tmam msg ki state ha\n",
        "   return {\"messages\": [llm_with_tools.invoke([sys_msg] + state[\"messages\"])]}\n",
        "  #  ek msgs ki list ha uska under hum is tool ko call karaga phr sysmsg or state k under jo b new prompt aiga wo msg ma pass hojaiga\n",
        "# Graph\n",
        "builder: StateGraph = StateGraph(MessagesState)\n",
        "\n",
        "# Define nodes: these do the work\n",
        "builder.add_node(\"assistant\", assistant)\n",
        "builder.add_node(\"tools\", ToolNode(tools))\n",
        "# first assistant call then tool or tools hamara pas teen ha add,divide, multiply jo (tools) k variable ma availabel ha\n",
        "\n",
        "# Define edges: these determine how the control flow moves\n",
        "builder.add_edge(START, \"assistant\")\n",
        "builder.add_conditional_edges(\"assistant\",tools_condition,)\n",
        "    # Agar assistant ka latest message (result) ek tool call ho -> to tools_condition usse tools ki taraf route karega.\n",
        "    # Agar assistant ka latest message (result) ek tool call nahi hai -> to tools_condition usse END ki taraf route karega.\n",
        "\n",
        "builder.add_edge(\"tools\", \"assistant\")\n",
        "react_graph: CompiledStateGraph = builder.compile()\n",
        "\n",
        "# Show\n",
        "display(Image(react_graph.get_graph(xray=True).draw_mermaid_png()))"
      ]
    },
    {
      "cell_type": "markdown",
      "id": "e830b7ae-3673-4cc6-8627-4740b7b8b217",
      "metadata": {
        "id": "e830b7ae-3673-4cc6-8627-4740b7b8b217"
      },
      "source": [
        "## Memory\n",
        "\n",
        "Let's run our agent, as before."
      ]
    },
    {
      "cell_type": "code",
      "execution_count": 82,
      "id": "596a71a0-1337-44d4-971d-f80c367bd868",
      "metadata": {
        "colab": {
          "base_uri": "https://localhost:8080/"
        },
        "id": "596a71a0-1337-44d4-971d-f80c367bd868",
        "outputId": "13b37e0f-bfa7-452f-ce79-38652127bd61"
      },
      "outputs": [
        {
          "output_type": "stream",
          "name": "stderr",
          "text": [
            "WARNING:langsmith.client:Failed to multipart ingest runs: langsmith.utils.LangSmithAuthError: Authentication failed for https://api.smith.langchain.com/runs/multipart. HTTPError('401 Client Error: Unauthorized for url: https://api.smith.langchain.com/runs/multipart', '{\"detail\":\"Invalid token\"}')trace=665bf8b6-f713-439c-bb9c-4ee523e065d3,id=665bf8b6-f713-439c-bb9c-4ee523e065d3; trace=665bf8b6-f713-439c-bb9c-4ee523e065d3,id=89c3b297-0201-4172-9827-d5521dd6ca0d; trace=665bf8b6-f713-439c-bb9c-4ee523e065d3,id=c7ad374c-4cbf-4392-a469-2cd5cc8dcf30; trace=665bf8b6-f713-439c-bb9c-4ee523e065d3,id=8f3483b9-246e-4ac1-a943-7d3f8f6cf207\n",
            "WARNING:langsmith.client:Failed to multipart ingest runs: langsmith.utils.LangSmithAuthError: Authentication failed for https://api.smith.langchain.com/runs/multipart. HTTPError('401 Client Error: Unauthorized for url: https://api.smith.langchain.com/runs/multipart', '{\"detail\":\"Invalid token\"}')trace=665bf8b6-f713-439c-bb9c-4ee523e065d3,id=f689dd88-a6e8-4f3c-b7d7-7e3148bb0251; trace=665bf8b6-f713-439c-bb9c-4ee523e065d3,id=4edd3890-aa4d-4b34-b477-90a5b0d37f1f; trace=665bf8b6-f713-439c-bb9c-4ee523e065d3,id=3bfbfbc3-d998-44fc-817e-458148104e4d; trace=665bf8b6-f713-439c-bb9c-4ee523e065d3,id=30160cf8-a221-46e0-adb3-9635548e8344; trace=665bf8b6-f713-439c-bb9c-4ee523e065d3,id=ed40cd3a-4279-424f-91ce-08d6dec135ec; trace=665bf8b6-f713-439c-bb9c-4ee523e065d3,id=a0243901-33e1-4f47-9c6d-60b4e2cc0ccd; trace=665bf8b6-f713-439c-bb9c-4ee523e065d3,id=e614d93f-3f00-426f-af1c-145c28faf6e1; trace=665bf8b6-f713-439c-bb9c-4ee523e065d3,id=8f3483b9-246e-4ac1-a943-7d3f8f6cf207; trace=665bf8b6-f713-439c-bb9c-4ee523e065d3,id=c7ad374c-4cbf-4392-a469-2cd5cc8dcf30\n"
          ]
        },
        {
          "output_type": "stream",
          "name": "stdout",
          "text": [
            "================================\u001b[1m Human Message \u001b[0m=================================\n",
            "\n",
            "Add 3 and 4.\n",
            "==================================\u001b[1m Ai Message \u001b[0m==================================\n",
            "Tool Calls:\n",
            "  add (1b4fd81c-242c-4042-86d3-9c9e53c61823)\n",
            " Call ID: 1b4fd81c-242c-4042-86d3-9c9e53c61823\n",
            "  Args:\n",
            "    a: 3.0\n",
            "    b: 4.0\n",
            "=================================\u001b[1m Tool Message \u001b[0m=================================\n",
            "Name: add\n",
            "\n",
            "7\n",
            "==================================\u001b[1m Ai Message \u001b[0m==================================\n",
            "\n",
            "The sum of 3 and 4 is 7.\n"
          ]
        }
      ],
      "source": [
        "messages = [HumanMessage(content=\"Add 3 and 4.\")]\n",
        "messages = react_graph.invoke({\"messages\": messages})\n",
        "for m in messages['messages']:\n",
        "    m.pretty_print()"
      ]
    },
    {
      "cell_type": "markdown",
      "id": "92f8128c-f4a5-4dee-b20b-3245bd33f6b3",
      "metadata": {
        "id": "92f8128c-f4a5-4dee-b20b-3245bd33f6b3"
      },
      "source": [
        "Now, let's multiply by 2!"
      ]
    },
    {
      "cell_type": "code",
      "execution_count": 83,
      "id": "b41cc1d7-e6de-4d86-8958-8cf7446f4c22",
      "metadata": {
        "colab": {
          "base_uri": "https://localhost:8080/"
        },
        "id": "b41cc1d7-e6de-4d86-8958-8cf7446f4c22",
        "outputId": "da2e66d4-b76f-49ef-dea8-d500c28d54c8"
      },
      "outputs": [
        {
          "output_type": "stream",
          "name": "stderr",
          "text": [
            "WARNING:langsmith.client:Failed to multipart ingest runs: langsmith.utils.LangSmithAuthError: Authentication failed for https://api.smith.langchain.com/runs/multipart. HTTPError('401 Client Error: Unauthorized for url: https://api.smith.langchain.com/runs/multipart', '{\"detail\":\"Invalid token\"}')trace=665bf8b6-f713-439c-bb9c-4ee523e065d3,id=9fec51aa-747d-42f6-a7e4-095642ad6fee; trace=665bf8b6-f713-439c-bb9c-4ee523e065d3,id=13939dcc-1f9a-47a7-b329-3bb3d29e9de4; trace=d8ece4f5-9d02-4a44-a0cf-eab714b2149d,id=d8ece4f5-9d02-4a44-a0cf-eab714b2149d; trace=d8ece4f5-9d02-4a44-a0cf-eab714b2149d,id=add99739-be70-42db-82f2-ac13a7f26bb1; trace=d8ece4f5-9d02-4a44-a0cf-eab714b2149d,id=57cbf4ac-bd0e-403d-9fcf-40fab5feb728; trace=d8ece4f5-9d02-4a44-a0cf-eab714b2149d,id=d7dba6c6-58e5-421f-84af-08c27a16dcd7; trace=665bf8b6-f713-439c-bb9c-4ee523e065d3,id=665bf8b6-f713-439c-bb9c-4ee523e065d3; trace=665bf8b6-f713-439c-bb9c-4ee523e065d3,id=a0243901-33e1-4f47-9c6d-60b4e2cc0ccd; trace=665bf8b6-f713-439c-bb9c-4ee523e065d3,id=e614d93f-3f00-426f-af1c-145c28faf6e1\n"
          ]
        },
        {
          "output_type": "stream",
          "name": "stdout",
          "text": [
            "================================\u001b[1m Human Message \u001b[0m=================================\n",
            "\n",
            "Multiply that by 2.\n",
            "==================================\u001b[1m Ai Message \u001b[0m==================================\n",
            "\n",
            "What would you like me to multiply by 2?  I need a number to perform this operation.\n"
          ]
        }
      ],
      "source": [
        "# messages = [HumanMessage(content=\"Multiply that by 2.\")]\n",
        "messages = react_graph.invoke({\"messages\": \"Multiply that by 2.\"})\n",
        "for m in messages['messages']:\n",
        "    m.pretty_print()"
      ]
    },
    {
      "cell_type": "markdown",
      "id": "26e65f3c-e1dc-4a62-b8ab-02b33a6ff268",
      "metadata": {
        "id": "26e65f3c-e1dc-4a62-b8ab-02b33a6ff268"
      },
      "source": [
        "We don't retain memory of 7 from our initial chat!\n",
        "<!-- note -->\n",
        "ub tk humna memory ka use ni kya islya ai porana record memorize ni krrha ha.\n",
        "\n",
        "This is because [state is transient](https://github.com/langchain-ai/langgraph/discussions/352#discussioncomment-9291220) to a single graph execution.\n",
        "\n",
        "Of course, this limits our ability to have multi-turn conversations with interruptions.\n",
        "\n",
        "We can use [persistence](https://langchain-ai.github.io/langgraph/how-tos/persistence/) to address this!\n",
        "\n",
        "LangGraph ek checkpointer use kar sakta hai jo har step ke baad graph state ko automatically save kare.\n",
        "\n",
        "Yeh built-in persistence layer humein memory deti hai, jo LangGraph ko pichli state update se dobara shuru karne ki ijazat deti hai.\n",
        "\n",
        "Sabse asaan checkpointers me se ek MemorySaver hai, jo graph state ke liye ek in-memory key-value store ka kaam karta hai.\n",
        "\n",
        "Humein sirf graph ko ek checkpointer ke sath compile karna hota hai, aur hamara graph memory ke sath kaam karne lagta hai!"
      ]
    },
    {
      "cell_type": "markdown",
      "id": "qQ2pp4kld7_Q",
      "metadata": {
        "id": "qQ2pp4kld7_Q"
      },
      "source": [
        "# Transient State vs. Steady State\n",
        "\n",
        "Computing aur system behavior mein, hum aksar do states encounter karte hain: transient aur steady.\n",
        "# Transient State:\n",
        "\n",
        "Transient State:\n",
        "Definition: Transient state refers to the moments right after a change occurs. It's a temporary, dynamic condition.\n",
        "# Example:\n",
        " When you start a new chat session, your memory is transient—you're catching up, refreshing your context, and getting back into the conversation groove.\n",
        "# Steady State:\n",
        "\n",
        "# Definition:\n",
        " Steady state ek stable aur predictable condition ko represent karta hai. Yeh tab hota hai jab system apne equilibrium (balance) mein pohanch jata hai.\n",
        "# Example:\n",
        " Jab humari chat aage barhti hai aur hum pichli conversations ki details yaad karte hain, to hum steady state ki taraf barhte hain.\n",
        "\n",
        "Yaad Rakhein: Ek single chat session (ya graph execution) mein hum dono states—transient aur steady—ka experience karte hain. Har interaction hamari overall understanding mein contribute karta hai.\n"
      ]
    },
    {
      "cell_type": "code",
      "execution_count": 84,
      "id": "637fcd79-3896-42e4-9131-e03b123a0a90",
      "metadata": {
        "id": "637fcd79-3896-42e4-9131-e03b123a0a90"
      },
      "outputs": [],
      "source": [
        "from langgraph.checkpoint.memory import MemorySaver\n",
        "memory: MemorySaver = MemorySaver()\n",
        "react_graph_memory: CompiledStateGraph = builder.compile(checkpointer=memory)"
      ]
    },
    {
      "cell_type": "markdown",
      "source": [
        "# Checkpointer:\n",
        "Definition: Ek tool jo LangGraph ki har step ki state save karta hai.\n",
        "Example: Agar graph halfway complete ho aur system band ho jaye, checkpointer saved state se dobara shuru karega.\n",
        "# MemorySaver:\n",
        "Definition: Ek in-memory key-value store jo graph state ko save karta hai.\n",
        "Example: Har step ke baad graph ka current state MemorySaver mein save hota hai, taake dobara wohi state retrieve ki ja sake\n",
        "Jab hum memory use karte hain, humein ek thread_id specify karna hota hai.\n",
        "\n",
        "Thread_id ka kaam:\n",
        "Yeh memory location ko define karta hai jahan graph states ka collection store hoga.\n",
        "Cartoon Explanation:\n",
        "Checkpointer ka kaam:\n",
        "Graph ke har step par state ko save karna.\n",
        "Checkpoints ka store hona:\n",
        "Yeh states ek specific thread mein save hoti hain.\n",
        "Thread ka future access:\n",
        "Humein thread_id ke zariye woh thread aur uski saved states ko access karne ki facility milti hai.\n",
        "Example: Agar aap ek graph ko pause karte hain, thread_id se dobara usi state ko resume kar sakte hain.\n",
        "\n",
        "\n",
        "\n",
        "\n",
        "\n",
        "\n"
      ],
      "metadata": {
        "id": "9j74QIMp9Npk"
      },
      "id": "9j74QIMp9Npk"
    },
    {
      "cell_type": "markdown",
      "id": "ff8fc3bf-3999-47cb-af34-06b2b94d7192",
      "metadata": {
        "id": "ff8fc3bf-3999-47cb-af34-06b2b94d7192"
      },
      "source": [
        "When we use memory, we need to specify a `thread_id`.\n",
        "\n",
        "This `thread_id` will store our memory location of graph states collection.\n",
        "\n",
        "Here is a cartoon:\n",
        "\n",
        "* The checkpointer write the state at every step of the graph\n",
        "* These checkpoints are saved in a thread\n",
        "* We can access that thread in the future using the `thread_id`\n",
        "\n",
        "![state.jpg](https://cdn.prod.website-files.com/65b8cd72835ceeacd4449a53/66e0e9f526b41a4ed9e2d28b_agent-memory2.png)\n",
        "\n",
        "![state.png](https://github.com/panaversity/learn-agentic-ai-fundamentals/blob/main/03_langchain_ecosystem/langgraph/course-notebooks/module-1/image.png)\n"
      ]
    },
    {
      "cell_type": "code",
      "source": [
        "\"'/content/Screenshot 2024-11-16 131558.png', '/content/Screenshot 2024-11-16 131610.png', 'plz show proper this images in png form'\""
      ],
      "metadata": {
        "colab": {
          "base_uri": "https://localhost:8080/",
          "height": 35
        },
        "id": "YnLYlD7wC-mu",
        "outputId": "b252227f-c7a0-4189-ec8e-e555615aa17d"
      },
      "id": "YnLYlD7wC-mu",
      "execution_count": 85,
      "outputs": [
        {
          "output_type": "execute_result",
          "data": {
            "text/plain": [
              "\"'/content/Screenshot 2024-11-16 131558.png', '/content/Screenshot 2024-11-16 131610.png', 'plz show proper this images in png form'\""
            ],
            "application/vnd.google.colaboratory.intrinsic+json": {
              "type": "string"
            }
          },
          "metadata": {},
          "execution_count": 85
        }
      ]
    },
    {
      "cell_type": "code",
      "source": [
        "# Specify a thread\n",
        "config1 = {\"configurable\": {\"thread_id\": \"1\"}}\n"
      ],
      "metadata": {
        "id": "ajK8ORW_s1f7"
      },
      "id": "ajK8ORW_s1f7",
      "execution_count": 86,
      "outputs": []
    },
    {
      "cell_type": "code",
      "execution_count": 87,
      "id": "f722a1d6-e73c-4023-86ed-8b07d392278d",
      "metadata": {
        "colab": {
          "base_uri": "https://localhost:8080/"
        },
        "id": "f722a1d6-e73c-4023-86ed-8b07d392278d",
        "outputId": "1b4119ce-6ac1-438d-bc20-39adbe377367"
      },
      "outputs": [
        {
          "output_type": "stream",
          "name": "stderr",
          "text": [
            "WARNING:langsmith.client:Failed to multipart ingest runs: langsmith.utils.LangSmithAuthError: Authentication failed for https://api.smith.langchain.com/runs/multipart. HTTPError('401 Client Error: Unauthorized for url: https://api.smith.langchain.com/runs/multipart', '{\"detail\":\"Invalid token\"}')trace=d8ece4f5-9d02-4a44-a0cf-eab714b2149d,id=8f113b0b-5729-41d8-a8ff-625dc76a11ce; trace=d8ece4f5-9d02-4a44-a0cf-eab714b2149d,id=aba2494d-5e1c-43cd-accc-e584dc2a02fd; trace=cf729a32-4148-44aa-9b77-b299e0e0e472,id=cf729a32-4148-44aa-9b77-b299e0e0e472; trace=cf729a32-4148-44aa-9b77-b299e0e0e472,id=309007e6-1132-4c2a-b64f-4c88f910774a; trace=cf729a32-4148-44aa-9b77-b299e0e0e472,id=ea545d6d-0070-45d3-9f54-f8fada49a28f; trace=cf729a32-4148-44aa-9b77-b299e0e0e472,id=3f6552ec-aabf-4b50-98d8-2c641876fb65; trace=d8ece4f5-9d02-4a44-a0cf-eab714b2149d,id=d8ece4f5-9d02-4a44-a0cf-eab714b2149d; trace=d8ece4f5-9d02-4a44-a0cf-eab714b2149d,id=57cbf4ac-bd0e-403d-9fcf-40fab5feb728; trace=d8ece4f5-9d02-4a44-a0cf-eab714b2149d,id=d7dba6c6-58e5-421f-84af-08c27a16dcd7\n",
            "WARNING:langsmith.client:Failed to multipart ingest runs: langsmith.utils.LangSmithAuthError: Authentication failed for https://api.smith.langchain.com/runs/multipart. HTTPError('401 Client Error: Unauthorized for url: https://api.smith.langchain.com/runs/multipart', '{\"detail\":\"Invalid token\"}')trace=cf729a32-4148-44aa-9b77-b299e0e0e472,id=072b64ba-d9df-48e2-b80f-ee04ad618112; trace=cf729a32-4148-44aa-9b77-b299e0e0e472,id=952e939b-5e9c-4bae-980b-5007cfe57919; trace=cf729a32-4148-44aa-9b77-b299e0e0e472,id=8a311aba-2d4e-4833-b1e9-64433a47dcf2; trace=cf729a32-4148-44aa-9b77-b299e0e0e472,id=2ca8c3dc-f3c2-45c4-ba28-7078ed38d845; trace=cf729a32-4148-44aa-9b77-b299e0e0e472,id=6b28634d-6451-4ccb-b1a3-ad3554b33982; trace=cf729a32-4148-44aa-9b77-b299e0e0e472,id=6d3b6727-178c-4aa1-bf94-ef6c63ae0a06; trace=cf729a32-4148-44aa-9b77-b299e0e0e472,id=dd2f85be-3455-43d7-a74e-f6f759191c27; trace=cf729a32-4148-44aa-9b77-b299e0e0e472,id=ea545d6d-0070-45d3-9f54-f8fada49a28f; trace=cf729a32-4148-44aa-9b77-b299e0e0e472,id=3f6552ec-aabf-4b50-98d8-2c641876fb65\n"
          ]
        },
        {
          "output_type": "stream",
          "name": "stdout",
          "text": [
            "================================\u001b[1m Human Message \u001b[0m=================================\n",
            "\n",
            "Add 3 and 4.\n",
            "==================================\u001b[1m Ai Message \u001b[0m==================================\n",
            "Tool Calls:\n",
            "  add (43818e59-9d62-4cbc-aa30-c5b3e07b3d1a)\n",
            " Call ID: 43818e59-9d62-4cbc-aa30-c5b3e07b3d1a\n",
            "  Args:\n",
            "    a: 3.0\n",
            "    b: 4.0\n",
            "=================================\u001b[1m Tool Message \u001b[0m=================================\n",
            "Name: add\n",
            "\n",
            "7\n",
            "==================================\u001b[1m Ai Message \u001b[0m==================================\n",
            "\n",
            "The sum of 3 and 4 is 7.\n"
          ]
        }
      ],
      "source": [
        "\n",
        "\n",
        "# Specify an input\n",
        "# messages = [HumanMessage(content=\"Add 3 and 4.\")]\n",
        "# situational\n",
        "\n",
        "# Run\n",
        "messages = react_graph_memory.invoke({\"messages\": \"Add 3 and 4.\"},config1)\n",
        "for m in messages['messages']:\n",
        "    m.pretty_print()"
      ]
    },
    {
      "cell_type": "markdown",
      "id": "c91a8a16-6bf1-48e2-a889-ae04a37c7a2b",
      "metadata": {
        "id": "c91a8a16-6bf1-48e2-a889-ae04a37c7a2b"
      },
      "source": [
        "If we pass the same `thread_id`, then we can proceed from the previously logged state checkpoint!\n",
        "\n",
        "In this case, the above conversation is captured in the thread.\n",
        "\n",
        "The `HumanMessage` we pass (`\"Multiply that by 2.\"`) is appended to the above conversation.\n",
        "\n",
        "So, the model now know that `that` refers to the `The sum of 3 and 4 is 7.`."
      ]
    },
    {
      "cell_type": "code",
      "execution_count": 88,
      "id": "ee38c6ef-8bfb-4c66-9214-6f474c9b8451",
      "metadata": {
        "colab": {
          "base_uri": "https://localhost:8080/"
        },
        "id": "ee38c6ef-8bfb-4c66-9214-6f474c9b8451",
        "outputId": "430eae67-4213-4e5e-8c11-c0db5873a587"
      },
      "outputs": [
        {
          "output_type": "stream",
          "name": "stderr",
          "text": [
            "WARNING:langsmith.client:Failed to multipart ingest runs: langsmith.utils.LangSmithAuthError: Authentication failed for https://api.smith.langchain.com/runs/multipart. HTTPError('401 Client Error: Unauthorized for url: https://api.smith.langchain.com/runs/multipart', '{\"detail\":\"Invalid token\"}')trace=cf729a32-4148-44aa-9b77-b299e0e0e472,id=065d687d-68be-41df-91db-c96a88fffc62; trace=cf729a32-4148-44aa-9b77-b299e0e0e472,id=1ecc0aa0-06ca-4260-b90b-94c3529ecdbf; trace=e751f1ee-85c4-4dcc-99e2-7c087655662f,id=e751f1ee-85c4-4dcc-99e2-7c087655662f; trace=e751f1ee-85c4-4dcc-99e2-7c087655662f,id=d01e5c46-90f7-4d7e-905e-74682791db65; trace=e751f1ee-85c4-4dcc-99e2-7c087655662f,id=7f817690-4847-4ae0-8a0a-b359fcb1d85f; trace=e751f1ee-85c4-4dcc-99e2-7c087655662f,id=4c12dab3-b8dd-43a3-a486-aba6d8c5ee0d; trace=cf729a32-4148-44aa-9b77-b299e0e0e472,id=6d3b6727-178c-4aa1-bf94-ef6c63ae0a06; trace=cf729a32-4148-44aa-9b77-b299e0e0e472,id=dd2f85be-3455-43d7-a74e-f6f759191c27; trace=cf729a32-4148-44aa-9b77-b299e0e0e472,id=cf729a32-4148-44aa-9b77-b299e0e0e472\n",
            "WARNING:langsmith.client:Failed to multipart ingest runs: langsmith.utils.LangSmithAuthError: Authentication failed for https://api.smith.langchain.com/runs/multipart. HTTPError('401 Client Error: Unauthorized for url: https://api.smith.langchain.com/runs/multipart', '{\"detail\":\"Invalid token\"}')trace=e751f1ee-85c4-4dcc-99e2-7c087655662f,id=92337f60-c750-4ed4-91d1-512fd35af273; trace=e751f1ee-85c4-4dcc-99e2-7c087655662f,id=3dc1dd39-ef68-4c82-85e3-0697592c1e5c; trace=e751f1ee-85c4-4dcc-99e2-7c087655662f,id=f1bc5874-0d16-43aa-b309-ec08dc872e31; trace=e751f1ee-85c4-4dcc-99e2-7c087655662f,id=871afec8-4a43-49ae-adea-4a25bcfdc002; trace=e751f1ee-85c4-4dcc-99e2-7c087655662f,id=8e54b0df-860b-4c43-87d6-85db4b9afd2e; trace=e751f1ee-85c4-4dcc-99e2-7c087655662f,id=e61dc2e0-ae6f-4b19-b2e2-647f1c8124c7; trace=e751f1ee-85c4-4dcc-99e2-7c087655662f,id=95b0299f-78ba-41ea-ab91-f982df3e2364; trace=e751f1ee-85c4-4dcc-99e2-7c087655662f,id=7f817690-4847-4ae0-8a0a-b359fcb1d85f; trace=e751f1ee-85c4-4dcc-99e2-7c087655662f,id=4c12dab3-b8dd-43a3-a486-aba6d8c5ee0d\n"
          ]
        },
        {
          "output_type": "stream",
          "name": "stdout",
          "text": [
            "================================\u001b[1m Human Message \u001b[0m=================================\n",
            "\n",
            "Add 3 and 4.\n",
            "==================================\u001b[1m Ai Message \u001b[0m==================================\n",
            "Tool Calls:\n",
            "  add (43818e59-9d62-4cbc-aa30-c5b3e07b3d1a)\n",
            " Call ID: 43818e59-9d62-4cbc-aa30-c5b3e07b3d1a\n",
            "  Args:\n",
            "    a: 3.0\n",
            "    b: 4.0\n",
            "=================================\u001b[1m Tool Message \u001b[0m=================================\n",
            "Name: add\n",
            "\n",
            "7\n",
            "==================================\u001b[1m Ai Message \u001b[0m==================================\n",
            "\n",
            "The sum of 3 and 4 is 7.\n",
            "================================\u001b[1m Human Message \u001b[0m=================================\n",
            "\n",
            "Multiply that by 2.\n",
            "==================================\u001b[1m Ai Message \u001b[0m==================================\n",
            "Tool Calls:\n",
            "  multiply (418c79dc-b9e1-4479-b8cb-42bb882ab046)\n",
            " Call ID: 418c79dc-b9e1-4479-b8cb-42bb882ab046\n",
            "  Args:\n",
            "    a: 7.0\n",
            "    b: 2.0\n",
            "=================================\u001b[1m Tool Message \u001b[0m=================================\n",
            "Name: multiply\n",
            "\n",
            "14\n",
            "==================================\u001b[1m Ai Message \u001b[0m==================================\n",
            "\n",
            "The result is 14.\n"
          ]
        }
      ],
      "source": [
        "# messages = [HumanMessage(content=\"Multiply that by 2.\")]\n",
        "messages = react_graph_memory.invoke({\"messages\":\"Multiply that by 2.\"}, config1)\n",
        "for m in messages['messages']:\n",
        "    m.pretty_print()\n",
        "    # parallel"
      ]
    },
    {
      "cell_type": "markdown",
      "source": [
        "every parallel tool calling is called supersteps of checkpointer snapshot....parallel mean 4 + 5 then outpput and next 4* 4 =16 now 9 + 16 = 24 is parallel steps and also called super step ..this is checkpointer .snapshot"
      ],
      "metadata": {
        "id": "Ie33P1grD9at"
      },
      "id": "Ie33P1grD9at"
    },
    {
      "cell_type": "markdown",
      "id": "c4b7774e-566f-4c92-9429-ed953bcacaa5",
      "metadata": {
        "id": "c4b7774e-566f-4c92-9429-ed953bcacaa5"
      },
      "source": [
        "## LangGraph Studio\n",
        "\n",
        "--\n",
        "\n",
        "**⚠️ DISCLAIMER**\n",
        "\n",
        "*Running Studio currently requires a Mac. If you are not using a Mac, then skip this step.*\n",
        "\n",
        "--\n",
        "\n",
        "Load the `agent` in the UI, which uses `module-1/studio/agent.py` set in `module-1/studio/langgraph.json`."
      ]
    }
  ],
  "metadata": {
    "colab": {
      "provenance": [],
      "name": "5_agent_memory agentic-ai-fundamentals/03_langchain_ecosystem/langgraph/course-notebooks/module-1.ipynb",
      "include_colab_link": true
    },
    "kernelspec": {
      "display_name": "Python 3 (ipykernel)",
      "language": "python",
      "name": "python3"
    },
    "language_info": {
      "codemirror_mode": {
        "name": "ipython",
        "version": 3
      },
      "file_extension": ".py",
      "mimetype": "text/x-python",
      "name": "python",
      "nbconvert_exporter": "python",
      "pygments_lexer": "ipython3",
      "version": "3.12.1"
    }
  },
  "nbformat": 4,
  "nbformat_minor": 5
}