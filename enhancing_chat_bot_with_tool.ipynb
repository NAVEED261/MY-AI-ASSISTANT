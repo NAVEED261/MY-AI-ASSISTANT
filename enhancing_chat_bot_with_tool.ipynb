{
  "nbformat": 4,
  "nbformat_minor": 0,
  "metadata": {
    "colab": {
      "provenance": [],
      "authorship_tag": "ABX9TyOoIAsLxblXuV5Of9m/kzIQ",
      "include_colab_link": true
    },
    "kernelspec": {
      "name": "python3",
      "display_name": "Python 3"
    },
    "language_info": {
      "name": "python"
    }
  },
  "cells": [
    {
      "cell_type": "markdown",
      "metadata": {
        "id": "view-in-github",
        "colab_type": "text"
      },
      "source": [
        "<a href=\"https://colab.research.google.com/github/NAVEED261/MY-AI-ASSISTANT/blob/main/enhancing_chat_bot_with_tool.ipynb\" target=\"_parent\"><img src=\"https://colab.research.google.com/assets/colab-badge.svg\" alt=\"Open In Colab\"/></a>"
      ]
    },
    {
      "cell_type": "markdown",
      "source": [
        "# Quick **Start**\n",
        "In this comprehensive quick start, we will build a support chatbot in LangGraph that can:\n",
        "\n",
        "Answer common questions by searching the web Maintain conversation state across calls Route complex queries to a human for review Use custom state to control its behavior Rewind and explore alternative conversation paths We'll start with a basic chatbot and progressively add more sophisticated capabilities, introducing key LangGraph concepts along the way.\n",
        "\n",
        "Setup First, install the required packages:"
      ],
      "metadata": {
        "id": "vPoWnbCEyG3M"
      }
    },
    {
      "cell_type": "code",
      "source": [
        "%%capture --no-stderr\n",
        "%pip install -U langgraph langsmith langchain_google_genai tavily-python langchain_community\n",
        ""
      ],
      "metadata": {
        "id": "IpyBwEXzyKXt"
      },
      "execution_count": 32,
      "outputs": []
    },
    {
      "cell_type": "code",
      "source": [
        "import os\n",
        "from google.colab import userdata\n",
        "\n",
        "os.environ[\"LANGCHAIN_API_KEY\"] = userdata.get('LANGCHAIN_API_KEY')\n",
        "os.environ[\"LANGCHAIN_TRACING_V2\"] = \"true\"\n",
        "os.environ[\"LANGCHAIN_PROJECT\"] = \"quickstart\"\n",
        "\n",
        "gemini_api_key = userdata.get('my_stenographer_key')\n",
        "os.environ[\"TAVILY_API_KEY\"] = userdata.get(\"TAVILY_API_KEY\")"
      ],
      "metadata": {
        "id": "jDP1SeqDyVPd"
      },
      "execution_count": 33,
      "outputs": []
    },
    {
      "cell_type": "code",
      "source": [
        "\n",
        "from langchain_google_genai import ChatGoogleGenerativeAI\n",
        "from langchain_community.tools.tavily_search import TavilySearchResults # Import the necessary class\n",
        "llm = ChatGoogleGenerativeAI(\n",
        "    model=\"gemini-1.5-flash\",\n",
        "    max_retries=2,\n",
        "    api_key=gemini_api_key\n",
        ")\n",
        "\n",
        "llm.invoke(\"greet me\")\n",
        "\n",
        "tool = TavilySearchResults(max_results=2)\n",
        "tools = [tool]\n",
        "tool.invoke(\"what is current weather in karachi\")"
      ],
      "metadata": {
        "colab": {
          "base_uri": "https://localhost:8080/"
        },
        "id": "6QmhLke7ygi8",
        "outputId": "ee516e5d-15b1-43a0-ec44-349956f4b72d"
      },
      "execution_count": 34,
      "outputs": [
        {
          "output_type": "execute_result",
          "data": {
            "text/plain": [
              "[{'url': 'https://www.weatherapi.com/',\n",
              "  'content': \"{'location': {'name': 'Karachi', 'region': 'Sindh', 'country': 'Pakistan', 'lat': 24.8667, 'lon': 67.05, 'tz_id': 'Asia/Karachi', 'localtime_epoch': 1730969741, 'localtime': '2024-11-07 13:55'}, 'current': {'last_updated_epoch': 1730969100, 'last_updated': '2024-11-07 13:45', 'temp_c': 30.8, 'temp_f': 87.5, 'is_day': 1, 'condition': {'text': 'Sunny', 'icon': '//cdn.weatherapi.com/weather/64x64/day/113.png', 'code': 1000}, 'wind_mph': 14.8, 'wind_kph': 23.8, 'wind_degree': 251, 'wind_dir': 'WSW', 'pressure_mb': 1013.0, 'pressure_in': 29.9, 'precip_mm': 0.0, 'precip_in': 0.0, 'humidity': 61, 'cloud': 0, 'feelslike_c': 35.0, 'feelslike_f': 95.0, 'windchill_c': 30.8, 'windchill_f': 87.5, 'heatindex_c': 35.0, 'heatindex_f': 95.0, 'dewpoint_c': 22.5, 'dewpoint_f': 72.5, 'vis_km': 10.0, 'vis_miles': 6.0, 'uv': 6.4, 'gust_mph': 17.0, 'gust_kph': 27.3}}\"},\n",
              " {'url': 'https://www.ventusky.com/karachi',\n",
              "  'content': \"کراچی (Karachi) Pakistan / Lat.: 24°52'N / Lon.: 67°1'E / Altitude: 19 m. Timezone: Asia/Karachi (UTC+5) / Current time: 10:32 2024/11/03. Current Weather. Forecast. Sun and Moon. 30 °C. Wind 7 km/h.\"}]"
            ]
          },
          "metadata": {},
          "execution_count": 34
        }
      ]
    },
    {
      "cell_type": "code",
      "source": [
        "from typing import Annotated\n",
        "from langchain_community.tools.tavily_search import TavilySearchResults\n",
        "from typing_extensions import TypedDict\n",
        "from pydantic import BaseModel\n",
        "from langgraph.graph import StateGraph, START, END  # Ensure END is imported\n",
        "from langgraph.checkpoint.memory import MemorySaver\n",
        "from langgraph.graph.message import add_messages\n",
        "from langgraph.prebuilt import ToolNode, tools_condition\n",
        "from langchain_core.messages import AIMessage, ToolMessage\n",
        "from IPython.display import Image, display\n",
        "from typing import Literal\n",
        "\n",
        "\n",
        "class State(TypedDict):\n",
        "    messages: Annotated[list, add_messages]\n",
        "\n",
        "\n",
        "graph_builder = StateGraph(State)\n",
        "\n",
        "\n",
        "# Modification: tell the LLM which tools it can call\n",
        "llm_with_tools = llm.bind_tools(tools)\n",
        "\n",
        "\n",
        "def chatbot(state: State):\n",
        "    return {\"messages\": [llm_with_tools.invoke(state[\"messages\"])]}\n",
        "\n",
        "\n",
        "graph_builder.add_node(\"chatbot\", chatbot)"
      ],
      "metadata": {
        "colab": {
          "base_uri": "https://localhost:8080/"
        },
        "id": "5Pm36YUbzSIF",
        "outputId": "f922bb46-e246-4f27-c86c-7f222f147f11"
      },
      "execution_count": 41,
      "outputs": [
        {
          "output_type": "execute_result",
          "data": {
            "text/plain": [
              "<langgraph.graph.state.StateGraph at 0x7f9f5d61a530>"
            ]
          },
          "metadata": {},
          "execution_count": 41
        }
      ]
    },
    {
      "cell_type": "code",
      "source": [
        "tools_by_name = {tool.name: tool for tool in tools}\n",
        "print(type(tools_by_name))\n",
        "print(tools_by_name)\n",
        "\n",
        "tools_by_name[\"tavily_search_results_json\"]\n",
        "\n",
        "llm_with_tools.invoke(\"search using tool and what polls say about winner 2024 presidential elections\")"
      ],
      "metadata": {
        "colab": {
          "base_uri": "https://localhost:8080/"
        },
        "id": "XkHhE0q_z2Wl",
        "outputId": "46efb438-f785-49de-afef-b61a00dd8247"
      },
      "execution_count": 42,
      "outputs": [
        {
          "output_type": "stream",
          "name": "stdout",
          "text": [
            "<class 'dict'>\n",
            "{'tavily_search_results_json': TavilySearchResults(max_results=2, api_wrapper=TavilySearchAPIWrapper(tavily_api_key=SecretStr('**********')))}\n"
          ]
        },
        {
          "output_type": "execute_result",
          "data": {
            "text/plain": [
              "AIMessage(content='', additional_kwargs={'function_call': {'name': 'tavily_search_results_json', 'arguments': '{\"query\": \"polls about 2024 presidential elections\"}'}}, response_metadata={'prompt_feedback': {'block_reason': 0, 'safety_ratings': []}, 'finish_reason': 'STOP', 'safety_ratings': [{'category': 'HARM_CATEGORY_SEXUALLY_EXPLICIT', 'probability': 'NEGLIGIBLE', 'blocked': False}, {'category': 'HARM_CATEGORY_HARASSMENT', 'probability': 'NEGLIGIBLE', 'blocked': False}, {'category': 'HARM_CATEGORY_HATE_SPEECH', 'probability': 'NEGLIGIBLE', 'blocked': False}, {'category': 'HARM_CATEGORY_DANGEROUS_CONTENT', 'probability': 'NEGLIGIBLE', 'blocked': False}]}, id='run-33a19bfc-8a53-4a6c-b3dc-db4887a6898b-0', tool_calls=[{'name': 'tavily_search_results_json', 'args': {'query': 'polls about 2024 presidential elections'}, 'id': '5c27bdb8-fcd2-4dfa-a1bc-057958d31d6b', 'type': 'tool_call'}], usage_metadata={'input_tokens': 90, 'output_tokens': 28, 'total_tokens': 118, 'input_token_details': {'cache_read': 0}})"
            ]
          },
          "metadata": {},
          "execution_count": 42
        }
      ]
    },
    {
      "cell_type": "code",
      "source": [
        "import json\n",
        "\n",
        "from langchain_core.messages import ToolMessage\n",
        "\n",
        "\n",
        "class BasicToolNode:\n",
        "    \"\"\"A node that runs the tools requested in the last AIMessage.\"\"\"\n",
        "\n",
        "    def __init__(self, tools: list) -> None:\n",
        "        self.tools_by_name = {tool.name: tool for tool in tools}\n",
        "\n",
        "    def __call__(self, inputs: dict):\n",
        "        if messages := inputs.get(\"messages\", []):\n",
        "            message = messages[-1]\n",
        "        else:\n",
        "            raise ValueError(\"No message found in input\")\n",
        "        outputs = []\n",
        "        for tool_call in message.tool_calls:\n",
        "            tool_result = self.tools_by_name[tool_call[\"name\"]].invoke(\n",
        "                tool_call[\"args\"]\n",
        "            )\n",
        "            outputs.append(\n",
        "                ToolMessage(\n",
        "                    content=json.dumps(tool_result),\n",
        "                    name=tool_call[\"name\"],\n",
        "                    tool_call_id=tool_call[\"id\"],\n",
        "                )\n",
        "            )\n",
        "        return {\"messages\": outputs}\n",
        "\n",
        "\n",
        "tool_node = BasicToolNode(tools=[tool])\n",
        "graph_builder.add_node(\"tools\", tool_node)"
      ],
      "metadata": {
        "colab": {
          "base_uri": "https://localhost:8080/"
        },
        "id": "DFajtcmC0B0_",
        "outputId": "4487319a-7ec0-4fa7-d615-5b6167848875"
      },
      "execution_count": 43,
      "outputs": [
        {
          "output_type": "execute_result",
          "data": {
            "text/plain": [
              "<langgraph.graph.state.StateGraph at 0x7f9f5d61a530>"
            ]
          },
          "metadata": {},
          "execution_count": 43
        }
      ]
    },
    {
      "cell_type": "code",
      "source": [
        "from langchain_core.messages import HumanMessage, AIMessage\n",
        "\n",
        "messages = [\n",
        "AIMessage(content='',\n",
        "          additional_kwargs={'function_call': {'name': 'tavily_search_results_json', 'arguments': '{\"query\": \"2024 presidential elections polls\"}'}},\n",
        "          response_metadata={'prompt_feedback': {'block_reason': 0, 'safety_ratings': []}, 'finish_reason': 'STOP', 'safety_ratings': []},\n",
        "          id='run-621e608b-24ae-4d50-8605-33415037f7df-0',\n",
        "          tool_calls=[{'name': 'tavily_search_results_json', 'args': {'query': '2024 presidential elections polls'}, 'id': '826c7148-a96a-4f79-9c64-325c97489d5e', 'type': 'tool_call'}],\n",
        "          usage_metadata={'input_tokens': 90, 'output_tokens': 16, 'total_tokens': 106, 'input_token_details': {'cache_read': 0}})\n",
        "]\n",
        "\n",
        "tool_node(inputs={\"messages\": messages})"
      ],
      "metadata": {
        "colab": {
          "base_uri": "https://localhost:8080/"
        },
        "id": "wVeY5C0_0GFc",
        "outputId": "c5908d73-2279-4e68-b5d1-aed863a53150"
      },
      "execution_count": 44,
      "outputs": [
        {
          "output_type": "execute_result",
          "data": {
            "text/plain": [
              "{'messages': [ToolMessage(content='[{\"url\": \"https://www.270towin.com/2024-presidential-election-polls/\", \"content\": \"This page displays the current 270toWin Polling Average for each state. Where that is not applicable, the most recent 2024 presidential election poll is used. The average methodology is summarized below the table. The default view is Harris vs. Trump head-to-head. To view averages including 3rd party candidates, select the checkbox near the\"}, {\"url\": \"https://projects.fivethirtyeight.com/polls/president-general/2024/\", \"content\": \"Sort by date\\\\nSAMPLE TYPES\\\\nA\\\\nADULTS\\\\nV\\\\nVOTERS\\\\nLV\\\\nLIKELY VOTERS\\\\nRV\\\\nREGISTERED VOTERS\\\\nSAMPLE TYPES\\\\nA\\\\nADULTS\\\\nV\\\\nVOTERS\\\\nLV\\\\nLIKELY VOTERS\\\\nRV\\\\nREGISTERED VOTERS\\\\nPolls\\\\nending\\\\nDec. 5, 2023\\\\nPresident: general election, 2024\\\\nBiden\\\\nHaley\\\\nBiden\\\\nTrump\\\\nKennedy\\\\nStein\\\\nWest\\\\nBiden\\\\nTrump\\\\nDec. 4, 2023\\\\nPresident: general election, 2024\\\\nBiden\\\\nTrump\\\\nDec. 3, 2023\\\\nPresident: general election, 2024\\\\nBiden\\\\nHaley\\\\nBiden\\\\nDeSantis\\\\nBiden\\\\nTrump\\\\nKennedy\\\\nManchin\\\\nWest\\\\nStein\\\\nMapstead\\\\nBiden\\\\nTrump\\\\nDec. 2, 2023\\\\nPresident: general election, 2024\\\\nBiden\\\\nTrump\\\\nBiden\\\\nTrump\\\\nKennedy\\\\nWest\\\\nBiden\\\\nTrump\\\\nKennedy\\\\nWest\\\\nBiden\\\\nTrump\\\\nKennedy\\\\nWest\\\\nNov. 30, 2023\\\\nPresident: general election, 2024\\\\nBiden\\\\nTrump\\\\nKennedy\\\\nWest\\\\nStein\\\\nBiden\\\\nTrump\\\\nBiden\\\\nHaley\\\\nBiden\\\\nDeSantis\\\\nBiden\\\\nTrump\\\\nPresident: general election, Wisconsin, 2024\\\\nBiden\\\\nTrump\\\\nBiden\\\\nTrump\\\\nKennedy\\\\nStein\\\\nWest\\\\nPresident: general election, Georgia, 2024\\\\nBiden\\\\nTrump\\\\nBiden\\\\nTrump\\\\nKennedy\\\\nWest\\\\nPresident: general election, Arizona, 2024\\\\nBiden\\\\nTrump\\\\nBiden\\\\nTrump\\\\nKennedy\\\\nWest\\\\nIndicates a polling average for this poll type\\\\nCandidate is an incumbent\\\\nPartisan types\\\\nDemocratic-funded\\\\nRepublican-funded\\\\nOther party-funded\\\\nCampaign poll\\\\nThe position of the flag indicates whether the organization is partisan. Approval polling average\\\\nDo Americans Have A Favorable Opinion Of Donald Trump?\\\\nFavorability polling average\\\\nPoll type\\\\nState\\\\nDistrict\\\\nPolitician/institution\\\\nCycle\\\\nElection type\\\\nSubpopulation\\\\nWho\\\\u2019s ahead in all?\\\\n An updating average of 2020 presidential general election polls, accounting for each poll\\\\u2019s quality, sample size and recency\\\\nKEY\\\\nESTIMATE\\\\n95% OF POLLS PROJECTED TO FALL IN THIS RANGE\\\\nPolling averages are adjusted based on state and national polls, which means candidates\\\\u2019 averages can shift even if no new polls have been added to this page. UPDATED Dec. 9, 2023, at 7:52 PM\\\\nLatest Polls\\\\nCheck out our popular polling averages\\\\nWho\\\\u2019s Ahead In Republican Primary Polls?\\\\n No matching polls\\\\nPolls from firms that are banned by FiveThirtyEight are not shown.\\\\n\"}]', name='tavily_search_results_json', tool_call_id='826c7148-a96a-4f79-9c64-325c97489d5e')]}"
            ]
          },
          "metadata": {},
          "execution_count": 44
        }
      ]
    },
    {
      "cell_type": "code",
      "source": [],
      "metadata": {
        "id": "kdqqYk160vOU"
      },
      "execution_count": 44,
      "outputs": []
    },
    {
      "cell_type": "code",
      "source": [
        "def route_tools(\n",
        "    state: State,\n",
        "):\n",
        "    \"\"\"\n",
        "    Use in the conditional_edge to route to the ToolNode if the last message\n",
        "    has tool calls. Otherwise, route to the end.\n",
        "    \"\"\"\n",
        "    if isinstance(state, list):\n",
        "        ai_message = state[-1]\n",
        "    elif messages := state.get(\"messages\", []):\n",
        "        ai_message = messages[-1]\n",
        "    else:\n",
        "        raise ValueError(f\"No messages found in input state to tool_edge: {state}\")\n",
        "    if hasattr(ai_message, \"tool_calls\") and len(ai_message.tool_calls) > 0:\n",
        "        return \"tools\"\n",
        "    return END\n",
        "\n",
        "\n",
        "# The `tools_condition` function returns \"tools\" if the chatbot asks to use a tool, and \"END\" if\n",
        "# it is fine directly responding. This conditional routing defines the main agent loop.\n",
        "graph_builder.add_conditional_edges(\n",
        "    \"chatbot\",\n",
        "    route_tools,\n",
        "    # The following dictionary lets you tell the graph to interpret the condition's outputs as a specific node\n",
        "    # It defaults to the identity function, but if you\n",
        "    # want to use a node named something else apart from \"tools\",\n",
        "    # You can update the value of the dictionary to something else\n",
        "    # e.g., \"tools\": \"my_tools\"\n",
        "    {\"tools\": \"tools\", END: END},\n",
        ")\n",
        "# Any time a tool is called, we return to the chatbot to decide the next step\n",
        "graph_builder.add_edge(\"tools\", \"chatbot\")\n",
        "graph_builder.add_edge(START, \"chatbot\")\n",
        "graph = graph_builder.compile()"
      ],
      "metadata": {
        "id": "56nvugk20npc"
      },
      "execution_count": 45,
      "outputs": []
    },
    {
      "cell_type": "code",
      "source": [
        "from IPython.display import Image, display\n",
        "\n",
        "try:\n",
        "    display(Image(graph.get_graph().draw_mermaid_png()))\n",
        "except Exception:\n",
        "    # This requires some extra dependencies and is optional\n",
        "    pass"
      ],
      "metadata": {
        "colab": {
          "base_uri": "https://localhost:8080/",
          "height": 266
        },
        "id": "R8x3MxK-1Q_8",
        "outputId": "0f64f4b9-e7d1-4c03-fd32-0514d9f8ab33"
      },
      "execution_count": 46,
      "outputs": [
        {
          "output_type": "display_data",
          "data": {
            "image/jpeg": "[encoded data removed]",
            "text/plain": [
              "<IPython.core.display.Image object>"
            ]
          },
          "metadata": {}
        }
      ]
    },
    {
      "cell_type": "code",
      "source": [
        "def stream_graph_updates(user_input):\n",
        "    \"\"\"Handles user input and updates the graph visualization.\"\"\"\n",
        "    # Placeholder for the actual logic to update the graph visualization\n",
        "    print(f\"Processing user input: {user_input}\")\n",
        "    # Example:  You might replace this with code to update the graph with new nodes or edges based on user input\n",
        "    # For example, you could use graph.add_node() or graph.add_edge() to modify the graph\n",
        "    # display(Image(graph.get_graph().draw_mermaid_png()))\n",
        "\n",
        "while True:\n",
        "    try:\n",
        "        user_input = input(\"User: \")\n",
        "        if user_input.lower() in [\"quit\", \"exit\", \"q\"]:\n",
        "            print(\"Goodbye!\")\n",
        "            break\n",
        "\n",
        "        stream_graph_updates(user_input) # Call the defined function\n",
        "    except:\n",
        "        # fallback if input() is not available\n",
        "        user_input = \"What do you know about LangGraph?\"\n",
        "        print(\"User: \" + user_input)\n",
        "        stream_graph_updates(user_input) # Call the defined function\n",
        "        break"
      ],
      "metadata": {
        "colab": {
          "base_uri": "https://localhost:8080/"
        },
        "id": "SORDqvQp2Pyt",
        "outputId": "6819f16a-f10e-4b0a-ac8c-624b2f3de775"
      },
      "execution_count": null,
      "outputs": [
        {
          "output_type": "stream",
          "name": "stdout",
          "text": [
            "User: what is current date in karachi?\n",
            "Processing user input: what is current date in karachi?\n"
          ]
        }
      ]
    },
    {
      "cell_type": "code",
      "source": [
        "tool.invoke(\"what is current weather in karachi?\")"
      ],
      "metadata": {
        "colab": {
          "base_uri": "https://localhost:8080/"
        },
        "id": "dfAZse6s41r8",
        "outputId": "82b138ba-490f-4655-a411-eb22e311f019"
      },
      "execution_count": 59,
      "outputs": [
        {
          "output_type": "execute_result",
          "data": {
            "text/plain": [
              "[{'url': 'https://www.weatherapi.com/',\n",
              "  'content': \"{'location': {'name': 'Karachi', 'region': 'Sindh', 'country': 'Pakistan', 'lat': 24.8667, 'lon': 67.05, 'tz_id': 'Asia/Karachi', 'localtime_epoch': 1730970613, 'localtime': '2024-11-07 14:10'}, 'current': {'last_updated_epoch': 1730970000, 'last_updated': '2024-11-07 14:00', 'temp_c': 30.8, 'temp_f': 87.4, 'is_day': 1, 'condition': {'text': 'Sunny', 'icon': '//cdn.weatherapi.com/weather/64x64/day/113.png', 'code': 1000}, 'wind_mph': 15.2, 'wind_kph': 24.5, 'wind_degree': 253, 'wind_dir': 'WSW', 'pressure_mb': 1012.0, 'pressure_in': 29.89, 'precip_mm': 0.0, 'precip_in': 0.0, 'humidity': 62, 'cloud': 0, 'feelslike_c': 35.0, 'feelslike_f': 95.0, 'windchill_c': 30.8, 'windchill_f': 87.4, 'heatindex_c': 35.0, 'heatindex_f': 95.0, 'dewpoint_c': 22.6, 'dewpoint_f': 72.8, 'vis_km': 10.0, 'vis_miles': 6.0, 'uv': 5.2, 'gust_mph': 17.5, 'gust_kph': 28.2}}\"},\n",
              " {'url': 'https://www.timeanddate.com/weather/pakistan/karachi',\n",
              "  'content': 'Karachi Airport: Current Time: Oct 28, 2024 at 8:06:36 am: Latest Report: Oct 28, 2024 at 7:00 am ... Humidity: 79%: Dew Point: 72 °F: Upcoming 5 hours. Now: 9:00 am: 10:00 am: 11:00 am: 12:00 pm: 1:00 pm: 79 °F: 85 °F: 89 °F: 92 °F: 93 °F: 94 °F: See more hour-by-hour weather. ... 2024 6:03:02 am Karachi time - Weather by CustomWeather'}]"
            ]
          },
          "metadata": {},
          "execution_count": 59
        }
      ]
    }
  ]
}