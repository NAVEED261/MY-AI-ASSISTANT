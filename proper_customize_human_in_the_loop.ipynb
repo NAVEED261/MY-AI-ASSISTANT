{
  "nbformat": 4,
  "nbformat_minor": 0,
  "metadata": {
    "colab": {
      "provenance": [],
      "authorship_tag": "ABX9TyOVihHj0OBr5daZaFIBR1DD",
      "include_colab_link": true
    },
    "kernelspec": {
      "name": "python3",
      "display_name": "Python 3"
    },
    "language_info": {
      "name": "python"
    }
  },
  "cells": [
    {
      "cell_type": "markdown",
      "metadata": {
        "id": "view-in-github",
        "colab_type": "text"
      },
      "source": [
        "<a href=\"https://colab.research.google.com/github/NAVEED261/MY-AI-ASSISTANT/blob/main/proper_customize_human_in_the_loop.ipynb\" target=\"_parent\"><img src=\"https://colab.research.google.com/assets/colab-badge.svg\" alt=\"Open In Colab\"/></a>"
      ]
    },
    {
      "cell_type": "code",
      "execution_count": 27,
      "metadata": {
        "id": "9dDZi9BSqYVm"
      },
      "outputs": [],
      "source": [
        "%%capture --no-stderr\n",
        "%pip install -U langgraph langsmith langchain_google_genai tavily-python langchain_community"
      ]
    },
    {
      "cell_type": "code",
      "source": [
        "import os\n",
        "from google.colab import userdata\n",
        "\n",
        "os.environ[\"LANGCHAIN_API_KEY\"] = userdata.get('langchain')\n",
        "os.environ[\"LANGCHAIN_TRACING_V2\"] = \"true\"\n",
        "os.environ[\"LANGCHAIN_PROJECT\"] = \"langchain\"\n",
        "\n",
        "gemini_api_key = userdata.get('GOOGLE_API_KEY')\n",
        "os.environ[\"TAVILY_API_KEY\"] = userdata.get(\"Tavily_Api_Key\")\n",
        ""
      ],
      "metadata": {
        "id": "NFct_t2Mqjje"
      },
      "execution_count": 28,
      "outputs": []
    },
    {
      "cell_type": "code",
      "source": [
        "from langchain_google_genai import ChatGoogleGenerativeAI\n",
        "\n",
        "llm = ChatGoogleGenerativeAI(\n",
        "    model=\"gemini-1.5-flash\",\n",
        "    max_retries=2,\n",
        "    api_key=gemini_api_key\n",
        ")\n",
        "llm.invoke(\"greeting me\")"
      ],
      "metadata": {
        "colab": {
          "base_uri": "https://localhost:8080/"
        },
        "id": "ZPMOWRBnqlBw",
        "outputId": "7c8d2cb9-4bb5-421a-a9bb-79dd727bce47"
      },
      "execution_count": 29,
      "outputs": [
        {
          "output_type": "stream",
          "name": "stderr",
          "text": [
            "WARNING:langsmith.client:Failed to multipart ingest runs: langsmith.utils.LangSmithAuthError: Authentication failed for https://api.smith.langchain.com/runs/multipart. HTTPError('401 Client Error: Unauthorized for url: https://api.smith.langchain.com/runs/multipart', '{\"detail\":\"Invalid token\"}')trace=ae8cc8a3-0878-423e-822f-1f1dd54b3187,id=ae8cc8a3-0878-423e-822f-1f1dd54b3187\n"
          ]
        },
        {
          "output_type": "execute_result",
          "data": {
            "text/plain": [
              "AIMessage(content='Hello there! How can I help you today?\\n', additional_kwargs={}, response_metadata={'prompt_feedback': {'block_reason': 0, 'safety_ratings': []}, 'finish_reason': 'STOP', 'safety_ratings': []}, id='run-ae8cc8a3-0878-423e-822f-1f1dd54b3187-0', usage_metadata={'input_tokens': 3, 'output_tokens': 11, 'total_tokens': 14, 'input_token_details': {'cache_read': 0}})"
            ]
          },
          "metadata": {},
          "execution_count": 29
        },
        {
          "output_type": "stream",
          "name": "stderr",
          "text": [
            "WARNING:langsmith.client:Failed to multipart ingest runs: langsmith.utils.LangSmithAuthError: Authentication failed for https://api.smith.langchain.com/runs/multipart. HTTPError('401 Client Error: Unauthorized for url: https://api.smith.langchain.com/runs/multipart', '{\"detail\":\"Invalid token\"}')trace=ae8cc8a3-0878-423e-822f-1f1dd54b3187,id=ae8cc8a3-0878-423e-822f-1f1dd54b3187\n"
          ]
        }
      ]
    },
    {
      "cell_type": "code",
      "source": [
        "from langchain_community.tools.tavily_search import TavilySearchResults # Import the necessary class\n",
        "\n",
        "tool = TavilySearchResults(max_results=2)\n",
        "tools = [tool]\n",
        "tool.invoke(\"what is current weather in karachi?\")\n",
        ""
      ],
      "metadata": {
        "colab": {
          "base_uri": "https://localhost:8080/"
        },
        "id": "4ERyRREaqmi2",
        "outputId": "e2f2ae9e-c510-4e28-ba9b-58e3e5aaaafb"
      },
      "execution_count": 30,
      "outputs": [
        {
          "output_type": "stream",
          "name": "stderr",
          "text": [
            "WARNING:langsmith.client:Failed to multipart ingest runs: langsmith.utils.LangSmithAuthError: Authentication failed for https://api.smith.langchain.com/runs/multipart. HTTPError('401 Client Error: Unauthorized for url: https://api.smith.langchain.com/runs/multipart', '{\"detail\":\"Invalid token\"}')trace=1d8c54e6-0083-493f-b86f-99ef049d4cfe,id=1d8c54e6-0083-493f-b86f-99ef049d4cfe\n"
          ]
        },
        {
          "output_type": "execute_result",
          "data": {
            "text/plain": [
              "[{'url': 'https://www.weatherapi.com/',\n",
              "  'content': \"{'location': {'name': 'Karachi', 'region': 'Sindh', 'country': 'Pakistan', 'lat': 24.8667, 'lon': 67.05, 'tz_id': 'Asia/Karachi', 'localtime_epoch': 1733298838, 'localtime': '2024-12-04 12:53'}, 'current': {'last_updated_epoch': 1733298300, 'last_updated': '2024-12-04 12:45', 'temp_c': 28.3, 'temp_f': 82.9, 'is_day': 1, 'condition': {'text': 'Mist', 'icon': '//cdn.weatherapi.com/weather/64x64/day/143.png', 'code': 1030}, 'wind_mph': 16.1, 'wind_kph': 25.9, 'wind_degree': 68, 'wind_dir': 'ENE', 'pressure_mb': 1017.0, 'pressure_in': 30.03, 'precip_mm': 0.0, 'precip_in': 0.0, 'humidity': 33, 'cloud': 0, 'feelslike_c': 27.3, 'feelslike_f': 81.2, 'windchill_c': 28.4, 'windchill_f': 83.0, 'heatindex_c': 27.4, 'heatindex_f': 81.3, 'dewpoint_c': 9.6, 'dewpoint_f': 49.3, 'vis_km': 4.5, 'vis_miles': 2.0, 'uv': 4.6, 'gust_mph': 18.9, 'gust_kph': 30.4}}\"},\n",
              " {'url': 'https://www.timeanddate.com/weather/@1174872',\n",
              "  'content': 'Weather in Karachi, Pakistan Weather 88\\xa0°F Forecast: 89 / 68\\xa0°F Wind: 3 mph ↑ from Southeast Current Time:   Nov 25, 2024 at 12:57:48 pm See more hour-by-hour weather Forecast for the next 48 hours Forecast                           * Updated Monday, November 25, 2024 12:02:55 pm Karachi time - Weather by CustomWeather, © 2024 90 / 70\\xa0°F Wind: 5 mph ↑ from West More weather last week 81\\xa0°F 80\\xa0°F 76\\xa0°F More weather in Pakistan 87 / 68\\xa0°F 89 / 68\\xa0°F 88 / 70\\xa0°F 88 / 66\\xa0°F 88 / 67\\xa0°F 86 / 66\\xa0°F 87 / 69\\xa0°F 85 / 69\\xa0°F Sun & Moon times precise to the second. Privacy Policy Weather'}]"
            ]
          },
          "metadata": {},
          "execution_count": 30
        },
        {
          "output_type": "stream",
          "name": "stderr",
          "text": [
            "WARNING:langsmith.client:Failed to multipart ingest runs: langsmith.utils.LangSmithAuthError: Authentication failed for https://api.smith.langchain.com/runs/multipart. HTTPError('401 Client Error: Unauthorized for url: https://api.smith.langchain.com/runs/multipart', '{\"detail\":\"Invalid token\"}')trace=1d8c54e6-0083-493f-b86f-99ef049d4cfe,id=1d8c54e6-0083-493f-b86f-99ef049d4cfe\n"
          ]
        }
      ]
    },
    {
      "cell_type": "code",
      "source": [
        "from typing import Annotated\n",
        "from langchain_community.tools.tavily_search import TavilySearchResults\n",
        "from typing_extensions import TypedDict\n",
        "from pydantic import BaseModel\n",
        "from langgraph.graph import StateGraph, START, END  # Ensure END is imported\n",
        "from langgraph.checkpoint.memory import MemorySaver\n",
        "from langgraph.graph.message import add_messages\n",
        "from langgraph.prebuilt import ToolNode, tools_condition\n",
        "from langchain_core.messages import AIMessage, ToolMessage\n",
        "from IPython.display import Image, display\n",
        "\n",
        "# Initialize MemorySaver\n",
        "memory = MemorySaver()"
      ],
      "metadata": {
        "id": "t-4lIZaSrp-O"
      },
      "execution_count": 67,
      "outputs": []
    },
    {
      "cell_type": "code",
      "source": [
        "class naveed(TypedDict):\n",
        "  messages : Annotated[list, add_messages]\n",
        "  ask_human : bool"
      ],
      "metadata": {
        "id": "3nLK3n5HruWN"
      },
      "execution_count": 68,
      "outputs": []
    },
    {
      "cell_type": "code",
      "source": [
        "from pydantic import BaseModel\n",
        "class RequestAssistant(BaseModel):\n",
        "  '''\n",
        "  im hafiz naveed uddin\n",
        "  '''\n",
        "  request:str\n"
      ],
      "metadata": {
        "id": "JrWkSvR5sJX3"
      },
      "execution_count": 69,
      "outputs": []
    },
    {
      "cell_type": "code",
      "source": [
        "llm_with_tools = llm.bind_tools(tools + [RequestAssistant])"
      ],
      "metadata": {
        "colab": {
          "base_uri": "https://localhost:8080/",
          "height": 141
        },
        "id": "skt4i6pdsn-u",
        "outputId": "42a66dcf-e6d5-48b3-c058-1e36feea6575"
      },
      "execution_count": 70,
      "outputs": [
        {
          "output_type": "error",
          "ename": "AttributeError",
          "evalue": "'function' object has no attribute 'bind_tools'",
          "traceback": [
            "\u001b[0;31m---------------------------------------------------------------------------\u001b[0m",
            "\u001b[0;31mAttributeError\u001b[0m                            Traceback (most recent call last)",
            "\u001b[0;32m<ipython-input-70-1676cb5fea1c>\u001b[0m in \u001b[0;36m<cell line: 1>\u001b[0;34m()\u001b[0m\n\u001b[0;32m----> 1\u001b[0;31m \u001b[0mllm_with_tools\u001b[0m \u001b[0;34m=\u001b[0m \u001b[0mllm\u001b[0m\u001b[0;34m.\u001b[0m\u001b[0mbind_tools\u001b[0m\u001b[0;34m(\u001b[0m\u001b[0mtools\u001b[0m \u001b[0;34m+\u001b[0m \u001b[0;34m[\u001b[0m\u001b[0mRequestAssistant\u001b[0m\u001b[0;34m]\u001b[0m\u001b[0;34m)\u001b[0m\u001b[0;34m\u001b[0m\u001b[0;34m\u001b[0m\u001b[0m\n\u001b[0m",
            "\u001b[0;31mAttributeError\u001b[0m: 'function' object has no attribute 'bind_tools'"
          ]
        }
      ]
    },
    {
      "cell_type": "code",
      "source": [
        "llm_with_tools"
      ],
      "metadata": {
        "colab": {
          "base_uri": "https://localhost:8080/"
        },
        "id": "pPKFi-OisyNH",
        "outputId": "6541a7a2-8a57-4a34-c0ec-21aed033d239"
      },
      "execution_count": 71,
      "outputs": [
        {
          "output_type": "execute_result",
          "data": {
            "text/plain": [
              "RunnableBinding(bound=ChatGoogleGenerativeAI(model='models/gemini-1.5-flash', google_api_key=SecretStr('**********'), max_retries=2, client=<google.ai.generativelanguage_v1beta.services.generative_service.client.GenerativeServiceClient object at 0x790824e37ee0>, default_metadata=()), kwargs={'tools': [{'type': 'function', 'function': {'name': 'tavily_search_results_json', 'description': 'A search engine optimized for comprehensive, accurate, and trusted results. Useful for when you need to answer questions about current events. Input should be a search query.', 'parameters': {'properties': {'query': {'description': 'search query to look up', 'type': 'string'}}, 'required': ['query'], 'type': 'object'}}}, {'type': 'function', 'function': {'name': 'RequestAssistant', 'description': 'im hafiz naveed uddin', 'parameters': {'properties': {'request': {'type': 'string'}}, 'required': ['request'], 'type': 'object'}}}]}, config={}, config_factories=[])"
            ]
          },
          "metadata": {},
          "execution_count": 71
        }
      ]
    },
    {
      "cell_type": "code",
      "source": [
        "response = llm_with_tools.invoke(\"what is langgraph ?\")\n",
        "print(response)\n"
      ],
      "metadata": {
        "colab": {
          "base_uri": "https://localhost:8080/"
        },
        "id": "4O4_DTs3s7en",
        "outputId": "01b886e0-6d93-4e09-bb39-e041c3818d80"
      },
      "execution_count": 72,
      "outputs": [
        {
          "output_type": "stream",
          "name": "stderr",
          "text": [
            "WARNING:langsmith.client:Failed to multipart ingest runs: langsmith.utils.LangSmithAuthError: Authentication failed for https://api.smith.langchain.com/runs/multipart. HTTPError('401 Client Error: Unauthorized for url: https://api.smith.langchain.com/runs/multipart', '{\"detail\":\"Invalid token\"}')trace=546403a8-0f7f-40cd-8755-b9c4af8b9d0c,id=546403a8-0f7f-40cd-8755-b9c4af8b9d0c\n"
          ]
        },
        {
          "output_type": "stream",
          "name": "stdout",
          "text": [
            "content='I am sorry, I do not have access to information about LangGraph.  The available tools do not provide information about this topic.\\n' additional_kwargs={} response_metadata={'prompt_feedback': {'block_reason': 0, 'safety_ratings': []}, 'finish_reason': 'STOP', 'safety_ratings': []} id='run-546403a8-0f7f-40cd-8755-b9c4af8b9d0c-0' usage_metadata={'input_tokens': 117, 'output_tokens': 28, 'total_tokens': 145, 'input_token_details': {'cache_read': 0}}\n"
          ]
        },
        {
          "output_type": "stream",
          "name": "stderr",
          "text": [
            "WARNING:langsmith.client:Failed to multipart ingest runs: langsmith.utils.LangSmithAuthError: Authentication failed for https://api.smith.langchain.com/runs/multipart. HTTPError('401 Client Error: Unauthorized for url: https://api.smith.langchain.com/runs/multipart', '{\"detail\":\"Invalid token\"}')trace=546403a8-0f7f-40cd-8755-b9c4af8b9d0c,id=546403a8-0f7f-40cd-8755-b9c4af8b9d0c\n"
          ]
        }
      ]
    },
    {
      "cell_type": "code",
      "source": [
        "def llm (state:naveed):\n",
        "  response = llm_with_tools.invoke(state[\"messages\"])\n",
        "  ask_human = False\n",
        "  if (response.tool_calls[0][\"name\"] == \"RequestAssistant\"): # Assuming \"RequestAssistant-name-\" is a typo\n",
        "    ask_human = True\n",
        "    return {\"messages\": [response], \"ask_human\": ask_human}"
      ],
      "metadata": {
        "id": "8c5azM5MuPOl"
      },
      "execution_count": 73,
      "outputs": []
    },
    {
      "cell_type": "code",
      "source": [
        "def create_response(response:str, AIMessage:AIMessage):\n",
        "  return ToolMessage(content=response, tool_call_id=AIMessage)\n",
        "def human_node(state:naveed):\n",
        "  new_message = []\n",
        "  if not isinstance(state[\"messages\"][-1],ToolMessage):\n",
        "    new_message.append(create_response(content = \"no response from human\"))\n",
        "    return{\"messages\":new_message, \"ask_human\":False}"
      ],
      "metadata": {
        "id": "mk7bFkT2vYcm"
      },
      "execution_count": 74,
      "outputs": []
    },
    {
      "cell_type": "code",
      "source": [
        "builder = StateGraph(naveed)\n",
        "builder.add_node(\"llm\",llm)\n",
        "builder.add_node(\"tools\",ToolNode(tools = tools))\n",
        "builder.add_node(\"human_node\",human_node)"
      ],
      "metadata": {
        "colab": {
          "base_uri": "https://localhost:8080/"
        },
        "id": "Xq_IK9thw0eA",
        "outputId": "18588119-f190-4a73-db38-0c85e99c74a7"
      },
      "execution_count": 75,
      "outputs": [
        {
          "output_type": "execute_result",
          "data": {
            "text/plain": [
              "<langgraph.graph.state.StateGraph at 0x790824b6f4f0>"
            ]
          },
          "metadata": {},
          "execution_count": 75
        }
      ]
    },
    {
      "cell_type": "code",
      "source": [
        "def next_node(state: naveed):\n",
        "  if state[\"ask_human\"]:\n",
        "    return \"human_node\"\n",
        "  return tools_condition(state) # Assuming tools_condition function is used for tool node selection based on state\n",
        "\n",
        "builder.add_edge(START, \"llm\")\n",
        "#Instead of next_node as a keyword argument, pass the function directly\n",
        "builder.add_conditional_edges(\"llm\",next_node,{\"human_node\": \"human_node\", \"tools\": \"tools\", \"END\": END})\n",
        "# Pass edge data using edge_data keyword argument\n",
        "builder.add_edge(\"human_node\",\"llm\")\n",
        "builder.add_edge(\"tools\",\"llm\")"
      ],
      "metadata": {
        "colab": {
          "base_uri": "https://localhost:8080/"
        },
        "id": "GmwrvwYnxNyd",
        "outputId": "ea1465aa-2db4-44bc-d1c1-9304a19b9b07"
      },
      "execution_count": 76,
      "outputs": [
        {
          "output_type": "execute_result",
          "data": {
            "text/plain": [
              "<langgraph.graph.state.StateGraph at 0x790824b6f4f0>"
            ]
          },
          "metadata": {},
          "execution_count": 76
        }
      ]
    },
    {
      "cell_type": "code",
      "source": [
        "graph=builder.compile(checkpointer=memory, interrupt_before=[\"human_node\"])"
      ],
      "metadata": {
        "id": "uTvd-yYKxxaX"
      },
      "execution_count": 96,
      "outputs": []
    },
    {
      "cell_type": "code",
      "source": [
        "display(Image(graph.get_graph().draw_mermaid_png()))"
      ],
      "metadata": {
        "colab": {
          "base_uri": "https://localhost:8080/",
          "height": 332
        },
        "id": "wJEQ7AxTziZW",
        "outputId": "034fb007-22ae-41d7-a9f0-436ce54dc50f"
      },
      "execution_count": 97,
      "outputs": [
        {
          "output_type": "display_data",
          "data": {
            "image/png": "[encoded data removed]",
            "text/plain": [
              "<IPython.core.display.Image object>"
            ]
          },
          "metadata": {}
        }
      ]
    },
    {
      "cell_type": "code",
      "source": [
        "from langchain.schema.messages import ToolMessage, HumanMessage, AIMessage  # Import from langchain.schema.messages\n"
      ],
      "metadata": {
        "id": "GDFzp6EgzrQV"
      },
      "execution_count": 98,
      "outputs": []
    },
    {
      "cell_type": "code",
      "source": [
        "config1 = {\"configurable\": {\"thread_id\": \"1\"}} # Changed config1 to a dictionary with the correct structure\n",
        "message = graph.invoke({\"messages\":[HumanMessage(content = \"I need some expert guidance for building this AI agent. Could you request assistance for me?\")]}, config1)\n",
        "for m in message[\"messages\"]:\n",
        "  m.pretty_print()"
      ],
      "metadata": {
        "colab": {
          "base_uri": "https://localhost:8080/"
        },
        "id": "w8aXDhNTzwpd",
        "outputId": "b0b0b2ce-9b2b-415c-e662-74a3de3c7735"
      },
      "execution_count": 99,
      "outputs": [
        {
          "output_type": "stream",
          "name": "stderr",
          "text": [
            "WARNING:langsmith.client:Failed to multipart ingest runs: langsmith.utils.LangSmithAuthError: Authentication failed for https://api.smith.langchain.com/runs/multipart. HTTPError('401 Client Error: Unauthorized for url: https://api.smith.langchain.com/runs/multipart', '{\"detail\":\"Invalid token\"}')trace=8423606f-f04a-4fdc-b76e-a45da9d98aaa,id=8423606f-f04a-4fdc-b76e-a45da9d98aaa; trace=8423606f-f04a-4fdc-b76e-a45da9d98aaa,id=11f69ba7-b8bd-407a-9c94-c978946296c1; trace=8423606f-f04a-4fdc-b76e-a45da9d98aaa,id=513e40fa-5ab2-4fbb-afd5-96e2d7321bf4; trace=8423606f-f04a-4fdc-b76e-a45da9d98aaa,id=6cbe55da-5f43-4f74-9db4-1a220beacdbb\n"
          ]
        },
        {
          "output_type": "stream",
          "name": "stdout",
          "text": [
            "================================\u001b[1m Human Message \u001b[0m=================================\n",
            "\n",
            "I need some expert guidance for building this AI agent. Could you request assistance for me?\n",
            "==================================\u001b[1m Ai Message \u001b[0m==================================\n",
            "Tool Calls:\n",
            "  RequestAssistant (5ade1d6e-0040-41e0-bb46-7fccfeb97a64)\n",
            " Call ID: 5ade1d6e-0040-41e0-bb46-7fccfeb97a64\n",
            "  Args:\n",
            "    request: I need some expert guidance for building this AI agent.\n",
            "================================\u001b[1m Human Message \u001b[0m=================================\n",
            "\n",
            "I need some expert guidance for building this AI agent. Could you request assistance for me?\n",
            "==================================\u001b[1m Ai Message \u001b[0m==================================\n",
            "Tool Calls:\n",
            "  RequestAssistant (39990994-6f98-4f11-ac12-433aedfc3054)\n",
            " Call ID: 39990994-6f98-4f11-ac12-433aedfc3054\n",
            "  Args:\n",
            "    request: I need expert guidance on building an AI agent.\n",
            "================================\u001b[1m Human Message \u001b[0m=================================\n",
            "\n",
            "I need some expert guidance for building this AI agent. Could you request assistance for me?\n",
            "==================================\u001b[1m Ai Message \u001b[0m==================================\n",
            "Tool Calls:\n",
            "  RequestAssistant (1d35d3b4-2b28-43bd-afd7-47bf62d77c8e)\n",
            " Call ID: 1d35d3b4-2b28-43bd-afd7-47bf62d77c8e\n",
            "  Args:\n",
            "    request: I need expert guidance on building an AI agent.  Specifically, I need help with [mention specific areas needing help, e.g.,  architecture design, model selection, training data acquisition, etc.].\n"
          ]
        }
      ]
    },
    {
      "cell_type": "code",
      "source": [
        "snapshot=graph.get_state(config1)\n",
        "snapshot.next"
      ],
      "metadata": {
        "colab": {
          "base_uri": "https://localhost:8080/"
        },
        "id": "nuf-Kx3Tz37d",
        "outputId": "c91fb200-4f74-46af-c2e6-45a11322115c"
      },
      "execution_count": 100,
      "outputs": [
        {
          "output_type": "execute_result",
          "data": {
            "text/plain": [
              "('human_node',)"
            ]
          },
          "metadata": {},
          "execution_count": 100
        }
      ]
    },
    {
      "cell_type": "code",
      "source": [
        "m = snapshot.values[\"messages\"][-1]\n",
        "m.pretty_print()"
      ],
      "metadata": {
        "colab": {
          "base_uri": "https://localhost:8080/"
        },
        "id": "VtYzhlhgz_8B",
        "outputId": "04f8d214-05f8-4702-81c3-f29676732053"
      },
      "execution_count": 101,
      "outputs": [
        {
          "output_type": "stream",
          "name": "stdout",
          "text": [
            "==================================\u001b[1m Ai Message \u001b[0m==================================\n",
            "Tool Calls:\n",
            "  RequestAssistant (1d35d3b4-2b28-43bd-afd7-47bf62d77c8e)\n",
            " Call ID: 1d35d3b4-2b28-43bd-afd7-47bf62d77c8e\n",
            "  Args:\n",
            "    request: I need expert guidance on building an AI agent.  Specifically, I need help with [mention specific areas needing help, e.g.,  architecture design, model selection, training data acquisition, etc.].\n"
          ]
        }
      ]
    },
    {
      "cell_type": "code",
      "source": [
        "answer = (\"Aigent is a software company that develops live voice AI solutions for contact centers. It helps clients in fintech, healthcare, and insurtech to improve customer service, prevent fraud, and train\")\n",
        "human_message = [\n",
        "    ToolMessage(content= answer, tool_call_id=m.tool_calls[0][\"id\"]),\n",
        "    AIMessage(content=answer)\n",
        "]\n",
        "human_message[-2]\n",
        "graph.update_state(config1,{\"messages\":human_message})"
      ],
      "metadata": {
        "colab": {
          "base_uri": "https://localhost:8080/"
        },
        "id": "wGw7Stt_0da7",
        "outputId": "b34ed8ec-a53c-46fc-ce46-f0f687520752"
      },
      "execution_count": 108,
      "outputs": [
        {
          "output_type": "execute_result",
          "data": {
            "text/plain": [
              "{'configurable': {'thread_id': '1',\n",
              "  'checkpoint_ns': '',\n",
              "  'checkpoint_id': '1efb21c0-ac20-6c63-8008-4d942a74dee9'}}"
            ]
          },
          "metadata": {},
          "execution_count": 108
        },
        {
          "output_type": "stream",
          "name": "stderr",
          "text": [
            "WARNING:langsmith.client:Failed to multipart ingest runs: langsmith.utils.LangSmithAuthError: Authentication failed for https://api.smith.langchain.com/runs/multipart. HTTPError('401 Client Error: Unauthorized for url: https://api.smith.langchain.com/runs/multipart', '{\"detail\":\"Invalid token\"}')trace=1648d35b-2c27-4314-baf0-d92fd1b79b37,id=1648d35b-2c27-4314-baf0-d92fd1b79b37; trace=1648d35b-2c27-4314-baf0-d92fd1b79b37,id=ad179633-eec2-4039-bafa-94863f7698a2; trace=1648d35b-2c27-4314-baf0-d92fd1b79b37,id=c77fb9db-b63c-4a53-97ae-9fbf207a1825\n"
          ]
        }
      ]
    },
    {
      "cell_type": "code",
      "source": [
        "for m in graph.get_state(config1).values[\"messages\"]: # Changed \"messaages\" to \"messages\"\n",
        "  m.pretty_print()"
      ],
      "metadata": {
        "colab": {
          "base_uri": "https://localhost:8080/"
        },
        "id": "xqsonY0C2B9z",
        "outputId": "5dec51fe-4958-4e11-b076-fb2a934a9bfb"
      },
      "execution_count": 110,
      "outputs": [
        {
          "output_type": "stream",
          "name": "stdout",
          "text": [
            "================================\u001b[1m Human Message \u001b[0m=================================\n",
            "\n",
            "I need some expert guidance for building this AI agent. Could you request assistance for me?\n",
            "==================================\u001b[1m Ai Message \u001b[0m==================================\n",
            "Tool Calls:\n",
            "  RequestAssistant (5ade1d6e-0040-41e0-bb46-7fccfeb97a64)\n",
            " Call ID: 5ade1d6e-0040-41e0-bb46-7fccfeb97a64\n",
            "  Args:\n",
            "    request: I need some expert guidance for building this AI agent.\n",
            "================================\u001b[1m Human Message \u001b[0m=================================\n",
            "\n",
            "I need some expert guidance for building this AI agent. Could you request assistance for me?\n",
            "==================================\u001b[1m Ai Message \u001b[0m==================================\n",
            "Tool Calls:\n",
            "  RequestAssistant (39990994-6f98-4f11-ac12-433aedfc3054)\n",
            " Call ID: 39990994-6f98-4f11-ac12-433aedfc3054\n",
            "  Args:\n",
            "    request: I need expert guidance on building an AI agent.\n",
            "================================\u001b[1m Human Message \u001b[0m=================================\n",
            "\n",
            "I need some expert guidance for building this AI agent. Could you request assistance for me?\n",
            "==================================\u001b[1m Ai Message \u001b[0m==================================\n",
            "Tool Calls:\n",
            "  RequestAssistant (1d35d3b4-2b28-43bd-afd7-47bf62d77c8e)\n",
            " Call ID: 1d35d3b4-2b28-43bd-afd7-47bf62d77c8e\n",
            "  Args:\n",
            "    request: I need expert guidance on building an AI agent.  Specifically, I need help with [mention specific areas needing help, e.g.,  architecture design, model selection, training data acquisition, etc.].\n",
            "=================================\u001b[1m Tool Message \u001b[0m=================================\n",
            "\n",
            "Aigent is a software company that develops live voice AI solutions for contact centers. It helps clients in fintech, healthcare, and insurtech to improve customer service, prevent fraud, and train\n",
            "==================================\u001b[1m Ai Message \u001b[0m==================================\n",
            "\n",
            "Aigent is a software company that develops live voice AI solutions for contact centers. It helps clients in fintech, healthcare, and insurtech to improve customer service, prevent fraud, and train\n"
          ]
        }
      ]
    }
  ]
}