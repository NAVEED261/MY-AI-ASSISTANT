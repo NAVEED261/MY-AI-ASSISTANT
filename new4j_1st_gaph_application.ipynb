{
  "nbformat": 4,
  "nbformat_minor": 0,
  "metadata": {
    "colab": {
      "provenance": [],
      "authorship_tag": "ABX9TyNotXM28zWKltsb4JmHYka6",
      "include_colab_link": true
    },
    "kernelspec": {
      "name": "python3",
      "display_name": "Python 3"
    },
    "language_info": {
      "name": "python"
    }
  },
  "cells": [
    {
      "cell_type": "markdown",
      "metadata": {
        "id": "view-in-github",
        "colab_type": "text"
      },
      "source": [
        "<a href=\"https://colab.research.google.com/github/NAVEED261/MY-AI-ASSISTANT/blob/main/new4j_1st_gaph_application.ipynb\" target=\"_parent\"><img src=\"https://colab.research.google.com/assets/colab-badge.svg\" alt=\"Open In Colab\"/></a>"
      ]
    },
    {
      "cell_type": "markdown",
      "source": [
        "# Install Neo4j Python Driver in Google Colab**\n",
        "This command will install the required Python driver that helps connect to the Neo4j database."
      ],
      "metadata": {
        "id": "XFPBTOM29E1j"
      }
    },
    {
      "cell_type": "code",
      "execution_count": 1,
      "metadata": {
        "colab": {
          "base_uri": "https://localhost:8080/"
        },
        "id": "FZgiOA9z7SGh",
        "outputId": "c6e367d8-2524-412e-dfad-7eee5435e7c6"
      },
      "outputs": [
        {
          "output_type": "stream",
          "name": "stdout",
          "text": [
            "Collecting neo4j\n",
            "  Downloading neo4j-5.25.0-py3-none-any.whl.metadata (5.7 kB)\n",
            "Requirement already satisfied: pytz in /usr/local/lib/python3.10/dist-packages (from neo4j) (2024.2)\n",
            "Downloading neo4j-5.25.0-py3-none-any.whl (296 kB)\n",
            "\u001b[?25l   \u001b[90m━━━━━━━━━━━━━━━━━━━━━━━━━━━━━━━━━━━━━━━━\u001b[0m \u001b[32m0.0/296.6 kB\u001b[0m \u001b[31m?\u001b[0m eta \u001b[36m-:--:--\u001b[0m\r\u001b[2K   \u001b[90m━━━━━━━━━━━━━━━━━━━━━━━━━━━━━━━━━━━━━━━━\u001b[0m \u001b[32m296.6/296.6 kB\u001b[0m \u001b[31m11.7 MB/s\u001b[0m eta \u001b[36m0:00:00\u001b[0m\n",
            "\u001b[?25hInstalling collected packages: neo4j\n",
            "Successfully installed neo4j-5.25.0\n"
          ]
        }
      ],
      "source": [
        "!pip install neo4j\n"
      ]
    },
    {
      "cell_type": "markdown",
      "source": [
        "# **Setup the Neo4j Connection**\n",
        "Add Your Provided Credentials to connect to the Neo4j instance.\n",
        "\n",
        "We will use the provided details to establish a connection with your Neo4j Aura instance.\n",
        "# ***Write the Connection Code in a new code cell:***"
      ],
      "metadata": {
        "id": "2SwS_XT09Uzx"
      }
    },
    {
      "cell_type": "code",
      "source": [
        "from neo4j import GraphDatabase\n",
        "\n",
        "# Neo4j credentials (use the details you provided)\n",
        "uri = \"neo4j+s://de6bb4eb.databases.neo4j.io\"  # Replace with your provided URI\n",
        "username = \"neo4j\"\n",
        "password = \"DYvffh7JSFTSyvbpEZxKiXuygMYepGHzOfizd8gBh2g\"  # Replace with your provided password\n",
        "\n",
        "# Connecting to Neo4j Aura instance\n",
        "driver = GraphDatabase.driver(uri, auth=(username, password))\n",
        "\n",
        "# Test Connection Function\n",
        "def test_connection():\n",
        "    try:\n",
        "        with driver.session() as session:\n",
        "            greeting = session.run(\"RETURN 'Connection Successful!' AS message\")\n",
        "            for record in greeting:\n",
        "                print(record[\"message\"])\n",
        "    except Exception as e:\n",
        "        print(f\"Error: {e}\")\n",
        "\n",
        "# Test the connection\n",
        "test_connection()\n",
        "\n"
      ],
      "metadata": {
        "colab": {
          "base_uri": "https://localhost:8080/"
        },
        "id": "lLTz6kI27b2L",
        "outputId": "dbf00974-3b47-4bfd-8df2-565fb3152ae3"
      },
      "execution_count": 2,
      "outputs": [
        {
          "output_type": "stream",
          "name": "stdout",
          "text": [
            "Connection Successful!\n"
          ]
        }
      ]
    },
    {
      "cell_type": "markdown",
      "source": [
        "# **xplanation:**\n",
        "\n",
        "We have used your URI, username, and password to set up the connection.\n",
        "The test_connection() function runs a simple Cypher query (RETURN 'Connection Successful!') to test if the connection is properly established.\n",
        "Expected Output: If the connection is successful, it should print \"Connection Successful!\". Otherwise, it will display an error message."
      ],
      "metadata": {
        "id": "q9HNBEm99dHp"
      }
    },
    {
      "cell_type": "markdown",
      "source": [
        " Create Nodes and Relationships in Your Graph Database\n",
        "Creating Nodes and Relationships:\n",
        "\n",
        "Now, we will create some data in the database, just like we discussed previously (creating users, company, and products)."
      ],
      "metadata": {
        "id": "2UeAL1Eg9jvq"
      }
    },
    {
      "cell_type": "code",
      "source": [
        "def create_data():\n",
        "    with driver.session() as session:\n",
        "        query = \"\"\"\n",
        "        CREATE\n",
        "        (ali:User {name: \"Ali\", age: 28}),\n",
        "        (sara:User {name: \"Sara\", age: 25}),\n",
        "        (company:Company {name: \"TechCorp\", location: \"Karachi\"}),\n",
        "        (product:Product {name: \"TechPhone\", version: \"v1.0\"}),\n",
        "        (ali)-[:WORKS_AT]->(company),\n",
        "        (sara)-[:WORKS_AT]->(company),\n",
        "        (ali)-[:WORKING_ON]->(product)\n",
        "        RETURN ali, sara, company, product\n",
        "        \"\"\"\n",
        "        result = session.run(query)\n",
        "        print(\"Nodes and relationships created successfully!\")\n",
        "\n",
        "# Create the nodes and relationships in the graph\n",
        "create_data()\n"
      ],
      "metadata": {
        "colab": {
          "base_uri": "https://localhost:8080/"
        },
        "id": "fi53Aod078SL",
        "outputId": "173c4451-270c-40ac-dbbe-ac4d294d9a14"
      },
      "execution_count": 3,
      "outputs": [
        {
          "output_type": "stream",
          "name": "stdout",
          "text": [
            "Nodes and relationships created successfully!\n"
          ]
        }
      ]
    },
    {
      "cell_type": "markdown",
      "source": [
        "# ***Explanation:***\n",
        "\n",
        "This function (create_data()) uses a Cypher query to create:\n",
        "Two users (Ali and Sara), one company (TechCorp), and one product (TechPhone).\n",
        "Relationships such as WORKS_AT and WORKING_ON.\n",
        "Expected Output: If successful, it will print \"Nodes and relationships created successfully!\"."
      ],
      "metadata": {
        "id": "RNL7VqUb9rlJ"
      }
    },
    {
      "cell_type": "markdown",
      "source": [
        "# Retrieve Data from Your Neo4j Database\n",
        "Retrieve User Data:\n",
        "\n",
        "Now, let's query the database to see the users you just created."
      ],
      "metadata": {
        "id": "wiyJ-_PQ9vmy"
      }
    },
    {
      "cell_type": "code",
      "source": [
        "def get_users():\n",
        "    with driver.session() as session:\n",
        "        query = \"MATCH (user:User) RETURN user.name AS name, user.age AS age, user.email AS email\"\n",
        "        result = session.run(query)\n",
        "        users = [{\"name\": record[\"name\"], \"age\": record[\"age\"]} for record in result]\n",
        "        return users\n",
        "\n",
        "# Fetch and print users from the database\n",
        "users = get_users()\n",
        "for user in users:\n",
        "    print(user)\n"
      ],
      "metadata": {
        "colab": {
          "base_uri": "https://localhost:8080/"
        },
        "id": "ZpTQyqF38AOq",
        "outputId": "fbfa6293-017e-46c7-ae76-ae8b2b4ba2f2"
      },
      "execution_count": 4,
      "outputs": [
        {
          "output_type": "stream",
          "name": "stdout",
          "text": [
            "{'name': 'Ali', 'age': 29}\n",
            "{'name': 'Sara', 'age': 25}\n",
            "{'name': 'Ali', 'age': 28}\n",
            "{'name': 'Sara', 'age': 25}\n"
          ]
        }
      ]
    },
    {
      "cell_type": "markdown",
      "source": [
        "# Explanation:\n",
        "\n",
        "The get_users() function runs a MATCH query to find all nodes with the label User.\n",
        "Each user's name and age will be printed as output.\n",
        "Expected Output: You should see the users, e.g., { 'name': 'Ali', 'age': 28 }.\n",
        "\n",
        "# Step 6: Updating Data in Your Graph Database\n",
        "Update Ali's Age:\n",
        "\n",
        "Let's say you want to update the age of the user Ali."
      ],
      "metadata": {
        "id": "cC_gUk6I91i6"
      }
    },
    {
      "cell_type": "code",
      "source": [
        "def update_user_age():\n",
        "    with driver.session() as session:\n",
        "        query = \"MATCH (user:User {name: 'Ali'}) SET user.age = 29 RETURN user\"\n",
        "        result = session.run(query)\n",
        "        for record in result:\n",
        "            print(f\"Updated user: {record['user']}\")\n",
        "\n",
        "# Update Ali's age\n",
        "update_user_age()\n"
      ],
      "metadata": {
        "colab": {
          "base_uri": "https://localhost:8080/"
        },
        "id": "AOU9HDmu8DXo",
        "outputId": "c1e1d41e-9e9a-4544-a358-ff766ff9e895"
      },
      "execution_count": 5,
      "outputs": [
        {
          "output_type": "stream",
          "name": "stdout",
          "text": [
            "Updated user: <Node element_id='4:91090978-7b91-48a8-91b6-6f49931a5545:1' labels=frozenset({'User'}) properties={'name': 'Ali', 'age': 29}>\n",
            "Updated user: <Node element_id='4:91090978-7b91-48a8-91b6-6f49931a5545:4' labels=frozenset({'User'}) properties={'name': 'Ali', 'age': 29}>\n"
          ]
        }
      ]
    },
    {
      "cell_type": "markdown",
      "source": [
        "Explanation:\n",
        "# New Section\n",
        "The update_user_age() function finds the node with the name Ali and sets its age to 29.\n",
        "Expected Output: It should print the updated details of Ali."
      ],
      "metadata": {
        "id": "yBiMr6b0971h"
      }
    },
    {
      "cell_type": "markdown",
      "source": [
        "# : Deleting Data from Your Graph Database\n",
        "Delete Product TechPhone:\n",
        "\n",
        "If you need to delete a specific node, such as TechPhone:"
      ],
      "metadata": {
        "id": "Mk2xwRz89-sL"
      }
    },
    {
      "cell_type": "code",
      "source": [
        "def delete_product():\n",
        "    with driver.session() as session:\n",
        "        query = \"MATCH (product:Product {name: 'TechPhone'}) DETACH DELETE product\"\n",
        "        session.run(query)\n",
        "        print(\"Product deleted successfully!\")\n",
        "\n",
        "# Delete the TechPhone product\n",
        "delete_product()\n"
      ],
      "metadata": {
        "colab": {
          "base_uri": "https://localhost:8080/"
        },
        "id": "bZpkPv2c8MfJ",
        "outputId": "d2fd1fee-0627-4f6e-8558-e98a290c77d2"
      },
      "execution_count": 6,
      "outputs": [
        {
          "output_type": "stream",
          "name": "stdout",
          "text": [
            "Product deleted successfully!\n"
          ]
        }
      ]
    },
    {
      "cell_type": "markdown",
      "source": [
        "# **Explanation:**\n",
        "\n",
        "The delete_product() function will detach and delete the TechPhone node.\n",
        "Expected Output: It should print \"Product deleted successfully!\"."
      ],
      "metadata": {
        "id": "Ub1FXda2-DNR"
      }
    },
    {
      "cell_type": "markdown",
      "source": [
        " Disconnect from Neo4j\n",
        "When all your operations are done, it's good practice to close the connection."
      ],
      "metadata": {
        "id": "cBQBQ75R-GD6"
      }
    },
    {
      "cell_type": "code",
      "source": [
        "driver.close()\n"
      ],
      "metadata": {
        "id": "Da78-V0K-MAy"
      },
      "execution_count": 11,
      "outputs": []
    },
    {
      "cell_type": "markdown",
      "source": [
        "This will terminate the session and free up resources."
      ],
      "metadata": {
        "id": "L77NTj5Z-PeK"
      }
    },
    {
      "cell_type": "markdown",
      "source": [
        "Summary of Google Colab Neo4j Integration\n",
        "# **Install Neo4j Driver:**\n",
        "\n",
        "Install using !pip install neo4j to allow Google Colab to connect with Neo4j.\n",
        "# Connect to Neo4j:**bold text**\n",
        "\n",
        "Use provided URI, username, and password to establish a connection.\n",
        "Create Data:\n",
        "\n",
        "Write queries to create nodes and relationships.\n",
        "# Retrieve, Update, and Delete Data:\n",
        "\n",
        "Retrieve and display data using MATCH.\n",
        "Update existing nodes using SET.\n",
        "# Delete nodes using DETACH DELETE.\n",
        "Disconnect:\n",
        "\n",
        "Close the connection after completing all operations."
      ],
      "metadata": {
        "id": "12BQ0_yi-V7x"
      }
    },
    {
      "cell_type": "code",
      "source": [
        "!pip install fastapi uvicorn flask-ngrok neo4j\n"
      ],
      "metadata": {
        "colab": {
          "base_uri": "https://localhost:8080/"
        },
        "id": "y2BNuqxIBpbU",
        "outputId": "44e20e60-032e-459b-994a-cc6b27ce0bff"
      },
      "execution_count": 14,
      "outputs": [
        {
          "output_type": "stream",
          "name": "stdout",
          "text": [
            "Collecting fastapi\n",
            "  Downloading fastapi-0.115.3-py3-none-any.whl.metadata (27 kB)\n",
            "Collecting uvicorn\n",
            "  Downloading uvicorn-0.32.0-py3-none-any.whl.metadata (6.6 kB)\n",
            "Requirement already satisfied: flask-ngrok in /usr/local/lib/python3.10/dist-packages (0.0.25)\n",
            "Requirement already satisfied: neo4j in /usr/local/lib/python3.10/dist-packages (5.25.0)\n",
            "Collecting starlette<0.42.0,>=0.40.0 (from fastapi)\n",
            "  Downloading starlette-0.41.0-py3-none-any.whl.metadata (6.0 kB)\n",
            "Requirement already satisfied: pydantic!=1.8,!=1.8.1,!=2.0.0,!=2.0.1,!=2.1.0,<3.0.0,>=1.7.4 in /usr/local/lib/python3.10/dist-packages (from fastapi) (2.9.2)\n",
            "Requirement already satisfied: typing-extensions>=4.8.0 in /usr/local/lib/python3.10/dist-packages (from fastapi) (4.12.2)\n",
            "Requirement already satisfied: click>=7.0 in /usr/local/lib/python3.10/dist-packages (from uvicorn) (8.1.7)\n",
            "Collecting h11>=0.8 (from uvicorn)\n",
            "  Downloading h11-0.14.0-py3-none-any.whl.metadata (8.2 kB)\n",
            "Requirement already satisfied: Flask>=0.8 in /usr/local/lib/python3.10/dist-packages (from flask-ngrok) (2.2.5)\n",
            "Requirement already satisfied: requests in /usr/local/lib/python3.10/dist-packages (from flask-ngrok) (2.32.3)\n",
            "Requirement already satisfied: pytz in /usr/local/lib/python3.10/dist-packages (from neo4j) (2024.2)\n",
            "Requirement already satisfied: Werkzeug>=2.2.2 in /usr/local/lib/python3.10/dist-packages (from Flask>=0.8->flask-ngrok) (3.0.4)\n",
            "Requirement already satisfied: Jinja2>=3.0 in /usr/local/lib/python3.10/dist-packages (from Flask>=0.8->flask-ngrok) (3.1.4)\n",
            "Requirement already satisfied: itsdangerous>=2.0 in /usr/local/lib/python3.10/dist-packages (from Flask>=0.8->flask-ngrok) (2.2.0)\n",
            "Requirement already satisfied: annotated-types>=0.6.0 in /usr/local/lib/python3.10/dist-packages (from pydantic!=1.8,!=1.8.1,!=2.0.0,!=2.0.1,!=2.1.0,<3.0.0,>=1.7.4->fastapi) (0.7.0)\n",
            "Requirement already satisfied: pydantic-core==2.23.4 in /usr/local/lib/python3.10/dist-packages (from pydantic!=1.8,!=1.8.1,!=2.0.0,!=2.0.1,!=2.1.0,<3.0.0,>=1.7.4->fastapi) (2.23.4)\n",
            "Requirement already satisfied: anyio<5,>=3.4.0 in /usr/local/lib/python3.10/dist-packages (from starlette<0.42.0,>=0.40.0->fastapi) (3.7.1)\n",
            "Requirement already satisfied: charset-normalizer<4,>=2 in /usr/local/lib/python3.10/dist-packages (from requests->flask-ngrok) (3.4.0)\n",
            "Requirement already satisfied: idna<4,>=2.5 in /usr/local/lib/python3.10/dist-packages (from requests->flask-ngrok) (3.10)\n",
            "Requirement already satisfied: urllib3<3,>=1.21.1 in /usr/local/lib/python3.10/dist-packages (from requests->flask-ngrok) (2.2.3)\n",
            "Requirement already satisfied: certifi>=2017.4.17 in /usr/local/lib/python3.10/dist-packages (from requests->flask-ngrok) (2024.8.30)\n",
            "Requirement already satisfied: sniffio>=1.1 in /usr/local/lib/python3.10/dist-packages (from anyio<5,>=3.4.0->starlette<0.42.0,>=0.40.0->fastapi) (1.3.1)\n",
            "Requirement already satisfied: exceptiongroup in /usr/local/lib/python3.10/dist-packages (from anyio<5,>=3.4.0->starlette<0.42.0,>=0.40.0->fastapi) (1.2.2)\n",
            "Requirement already satisfied: MarkupSafe>=2.0 in /usr/local/lib/python3.10/dist-packages (from Jinja2>=3.0->Flask>=0.8->flask-ngrok) (3.0.2)\n",
            "Downloading fastapi-0.115.3-py3-none-any.whl (94 kB)\n",
            "\u001b[2K   \u001b[90m━━━━━━━━━━━━━━━━━━━━━━━━━━━━━━━━━━━━━━━━\u001b[0m \u001b[32m94.6/94.6 kB\u001b[0m \u001b[31m6.7 MB/s\u001b[0m eta \u001b[36m0:00:00\u001b[0m\n",
            "\u001b[?25hDownloading uvicorn-0.32.0-py3-none-any.whl (63 kB)\n",
            "\u001b[2K   \u001b[90m━━━━━━━━━━━━━━━━━━━━━━━━━━━━━━━━━━━━━━━━\u001b[0m \u001b[32m63.7/63.7 kB\u001b[0m \u001b[31m4.8 MB/s\u001b[0m eta \u001b[36m0:00:00\u001b[0m\n",
            "\u001b[?25hDownloading h11-0.14.0-py3-none-any.whl (58 kB)\n",
            "\u001b[2K   \u001b[90m━━━━━━━━━━━━━━━━━━━━━━━━━━━━━━━━━━━━━━━━\u001b[0m \u001b[32m58.3/58.3 kB\u001b[0m \u001b[31m4.9 MB/s\u001b[0m eta \u001b[36m0:00:00\u001b[0m\n",
            "\u001b[?25hDownloading starlette-0.41.0-py3-none-any.whl (73 kB)\n",
            "\u001b[2K   \u001b[90m━━━━━━━━━━━━━━━━━━━━━━━━━━━━━━━━━━━━━━━━\u001b[0m \u001b[32m73.2/73.2 kB\u001b[0m \u001b[31m5.8 MB/s\u001b[0m eta \u001b[36m0:00:00\u001b[0m\n",
            "\u001b[?25hInstalling collected packages: h11, uvicorn, starlette, fastapi\n",
            "Successfully installed fastapi-0.115.3 h11-0.14.0 starlette-0.41.0 uvicorn-0.32.0\n"
          ]
        }
      ]
    },
    {
      "cell_type": "code",
      "source": [
        "from fastapi import FastAPI\n",
        "from fastapi.responses import JSONResponse\n",
        "from flask_ngrok import run_with_ngrok\n",
        "from neo4j import GraphDatabase\n",
        "import uvicorn\n",
        "\n",
        "app = FastAPI()\n",
        "\n",
        "uri = \"neo4j+s://de6bb4eb.databases.neo4j.io\"\n",
        "username = \"neo4j\"\n",
        "password = \"DYvffh7JSFTSyvbpEZxKiXuygMYepGHzOfizd8gBh2g\"\n",
        "\n",
        "driver = GraphDatabase.driver(uri, auth=(username, password))\n",
        "\n",
        "@app.get(\"/users\")\n",
        "async def get_users():\n",
        "    with driver.session() as session:\n",
        "        query = \"MATCH (user:User) RETURN user.name AS name, user.age AS age\"\n",
        "        result = session.run(query)\n",
        "        users = [{\"name\": record[\"name\"], \"age\": record[\"age\"]} for record in result]\n",
        "    return JSONResponse(content=users)\n",
        "\n",
        "# Instead of using run from uvicorn directly\n",
        "# we define a function to start the server\n",
        "# that can be called later in the terminal\n",
        "def start_server():\n",
        "    \"\"\"Starts the FastAPI server using uvicorn.\"\"\"\n",
        "    uvicorn.run(app, host=\"0.0.0.0\", port=8000)\n",
        "\n",
        "# Now you would need to run this command in your terminal\n",
        "# to start the server: uvicorn main:app --reload\n",
        "# Replace main with the filename of your script.\n",
        "# --reload option will restart the server automatically when you make changes."
      ],
      "metadata": {
        "id": "zaXjagW1B12E"
      },
      "execution_count": 16,
      "outputs": []
    },
    {
      "cell_type": "markdown",
      "source": [
        "# Wait 60 seconds before connecting using these details, or login to https://console.neo4j.io to validate the Aura Instance is available\n",
        "NEO4J_URI=neo4j+s://de6bb4eb.databases.neo4j.io\n",
        "NEO4J_USERNAME=neo4j\n",
        "NEO4J_PASSWORD=DYvffh7JSFTSyvbpEZxKiXuygMYepGHzOfizd8gBh2g\n",
        "AURA_INSTANCEID=de6bb4eb\n",
        "AURA_INSTANCENAME=Instance01\n",
        "\n",
        "\n",
        "\n",
        "\n",
        "```\n",
        "\n"
      ],
      "metadata": {
        "id": "8ni4rn0b_oRS"
      }
    }
  ]
}