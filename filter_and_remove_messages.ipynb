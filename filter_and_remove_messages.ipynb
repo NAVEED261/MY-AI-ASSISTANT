{
  "nbformat": 4,
  "nbformat_minor": 0,
  "metadata": {
    "colab": {
      "provenance": [],
      "authorship_tag": "ABX9TyO+SbfQjD1M2rqHJKty8B0Q",
      "include_colab_link": true
    },
    "kernelspec": {
      "name": "python3",
      "display_name": "Python 3"
    },
    "language_info": {
      "name": "python"
    }
  },
  "cells": [
    {
      "cell_type": "markdown",
      "metadata": {
        "id": "view-in-github",
        "colab_type": "text"
      },
      "source": [
        "<a href=\"https://colab.research.google.com/github/NAVEED261/MY-AI-ASSISTANT/blob/main/filter_and_remove_messages.ipynb\" target=\"_parent\"><img src=\"https://colab.research.google.com/assets/colab-badge.svg\" alt=\"Open In Colab\"/></a>"
      ]
    },
    {
      "cell_type": "code",
      "execution_count": null,
      "metadata": {
        "id": "RxbgJhIfjCrN"
      },
      "outputs": [],
      "source": [
        "%%capture --no-stderr\n",
        "%pip install --quiet -U langchain_core langgraph langchain_google_genai"
      ]
    },
    {
      "cell_type": "code",
      "source": [
        "from google.colab import userdata\n",
        "import os\n",
        "GOOGLE_API_KEY = userdata.get('GOOGLE_API_KEY')\n",
        "from google.colab import userdata\n",
        "langchainY = userdata.get('Langchain_api_key')\n",
        "os.environ[\"LANGCHAIN_TRACING_V2\"] = \"true\"\n",
        "os.environ[\"LANGCHAIN_PROJECT\"] = \"Langchain_api_key\""
      ],
      "metadata": {
        "id": "Gq01xy2PjLX0"
      },
      "execution_count": null,
      "outputs": []
    },
    {
      "cell_type": "code",
      "source": [
        "from langchain_google_genai import ChatGoogleGenerativeAI\n",
        "llm = ChatGoogleGenerativeAI(\n",
        "    model=\"gemini-1.5-flash\",\n",
        "    google_api_key=GOOGLE_API_KEY # Changed to use the variable instead of the string.\n",
        ")"
      ],
      "metadata": {
        "id": "RK-GlUDgkKKM"
      },
      "execution_count": null,
      "outputs": []
    },
    {
      "cell_type": "code",
      "source": [
        "from langchain_core.messages import AIMessage, HumanMessage\n",
        "msg= [AIMessage(\"Hi how r u?.\", name=\"Bot\", id=\"1\")]\n",
        "msg.append(HumanMessage(\"im fine thank u and u .\", name=\"Lance\", id=\"2\"))\n",
        "msg.append(AIMessage(\"do u know about karachi?\", name=\"Bot\", id=\"3\"))\n",
        "msg.append(HumanMessage(\"Yes, I know about karachi, \", name=\"Lance\", id=\"4\"))\n",
        "for m in msg:\n",
        "  m.pretty_print()"
      ],
      "metadata": {
        "colab": {
          "base_uri": "https://localhost:8080/"
        },
        "id": "5cfAqwISlOll",
        "outputId": "97a305fa-bf19-44d7-93d0-4b14b0ee5a76"
      },
      "execution_count": null,
      "outputs": [
        {
          "output_type": "stream",
          "name": "stdout",
          "text": [
            "==================================\u001b[1m Ai Message \u001b[0m==================================\n",
            "Name: Bot\n",
            "\n",
            "Hi how r u?.\n",
            "================================\u001b[1m Human Message \u001b[0m=================================\n",
            "Name: Lance\n",
            "\n",
            "im fine thank u and u .\n",
            "==================================\u001b[1m Ai Message \u001b[0m==================================\n",
            "Name: Bot\n",
            "\n",
            "do u know about karachi?\n",
            "================================\u001b[1m Human Message \u001b[0m=================================\n",
            "Name: Lance\n",
            "\n",
            "Yes, I know about karachi, \n"
          ]
        }
      ]
    },
    {
      "cell_type": "code",
      "source": [
        "llm.invoke(msg)"
      ],
      "metadata": {
        "colab": {
          "base_uri": "https://localhost:8080/"
        },
        "id": "IrbRfTjFlaYU",
        "outputId": "658956ab-5e7a-4e57-d25b-5443fc471455"
      },
      "execution_count": null,
      "outputs": [
        {
          "output_type": "stream",
          "name": "stderr",
          "text": [
            "WARNING:langsmith.client:Failed to multipart ingest runs: langsmith.utils.LangSmithAuthError: Authentication failed for https://api.smith.langchain.com/runs/multipart. HTTPError('401 Client Error: Unauthorized for url: https://api.smith.langchain.com/runs/multipart', '{\"detail\":\"Invalid token\"}')trace=4f224f9e-092d-4b4c-8576-0e106f513351,id=4f224f9e-092d-4b4c-8576-0e106f513351\n"
          ]
        },
        {
          "output_type": "execute_result",
          "data": {
            "text/plain": [
              "AIMessage(content=\"Great! What specifically about Karachi interests you?  I'd love to hear your thoughts or any questions you have about it.\\n\", additional_kwargs={}, response_metadata={'prompt_feedback': {'block_reason': 0, 'safety_ratings': []}, 'finish_reason': 'STOP', 'safety_ratings': []}, id='run-4f224f9e-092d-4b4c-8576-0e106f513351-0', usage_metadata={'input_tokens': 32, 'output_tokens': 27, 'total_tokens': 59, 'input_token_details': {'cache_read': 0}})"
            ]
          },
          "metadata": {},
          "execution_count": 43
        },
        {
          "output_type": "stream",
          "name": "stderr",
          "text": [
            "WARNING:langsmith.client:Failed to multipart ingest runs: langsmith.utils.LangSmithAuthError: Authentication failed for https://api.smith.langchain.com/runs/multipart. HTTPError('401 Client Error: Unauthorized for url: https://api.smith.langchain.com/runs/multipart', '{\"detail\":\"Invalid token\"}')trace=4f224f9e-092d-4b4c-8576-0e106f513351,id=4f224f9e-092d-4b4c-8576-0e106f513351\n"
          ]
        }
      ]
    },
    {
      "cell_type": "code",
      "source": [
        "from IPython.display import Image, display\n",
        "from langgraph.graph import MessagesState\n",
        "from langgraph.graph import StateGraph, START, END\n",
        "from langgraph.graph.state import CompiledStateGraph\n",
        "from langchain_core.messages import RemoveMessage ,SystemMessage\n",
        "\n"
      ],
      "metadata": {
        "id": "VvMx37Tyl_Oc"
      },
      "execution_count": null,
      "outputs": []
    },
    {
      "cell_type": "code",
      "source": [
        "def filter_messages(state: MessagesState) -> MessagesState:\n",
        "    # Delete all but the 2 most recent messages\n",
        "    delete_messages = [RemoveMessage(id=m.id) for m in state[\"messages\"][:-2]]\n",
        "    return {\"messages\": delete_messages}\n",
        "\n",
        "def chat_model_node(state: MessagesState) -> MessagesState:\n",
        "    return {\"messages\": [llm.invoke(state[\"messages\"])]}"
      ],
      "metadata": {
        "id": "O8ZyofcymxgU"
      },
      "execution_count": null,
      "outputs": []
    },
    {
      "cell_type": "code",
      "source": [
        "builder: StateGraph = StateGraph(MessagesState)\n",
        "builder.add_node(\"filter\", filter_messages)\n",
        "builder.add_node(\"chat_model\", chat_model_node)\n",
        "builder.add_edge(START, \"filter\")\n",
        "builder.add_edge(\"filter\", \"chat_model\")\n",
        "builder.add_edge(\"chat_model\", END)\n",
        "graph: CompiledStateGraph = builder.compile()\n",
        "\n",
        "# View\n",
        "display(Image(graph.get_graph().draw_mermaid_png()))\n"
      ],
      "metadata": {
        "colab": {
          "base_uri": "https://localhost:8080/",
          "height": 350
        },
        "id": "mhvnqvnnn1wc",
        "outputId": "edd2155e-8f4e-4460-d545-87074cdfd39a"
      },
      "execution_count": null,
      "outputs": [
        {
          "output_type": "display_data",
          "data": {
            "image/png": "[encoded data removed]",
            "text/plain": [
              "<IPython.core.display.Image object>"
            ]
          },
          "metadata": {}
        }
      ]
    },
    {
      "cell_type": "code",
      "source": [
        "output = graph.invoke({'messages': msg})\n",
        "for m in output['messages']:\n",
        "    m.pretty_print()\n"
      ],
      "metadata": {
        "colab": {
          "base_uri": "https://localhost:8080/"
        },
        "id": "DSKCuLGDsGtv",
        "outputId": "c7492eef-2b42-4ee0-b3fe-2d46b96beb96"
      },
      "execution_count": null,
      "outputs": [
        {
          "output_type": "stream",
          "name": "stderr",
          "text": [
            "WARNING:langsmith.client:Failed to multipart ingest runs: langsmith.utils.LangSmithAuthError: Authentication failed for https://api.smith.langchain.com/runs/multipart. HTTPError('401 Client Error: Unauthorized for url: https://api.smith.langchain.com/runs/multipart', '{\"detail\":\"Invalid token\"}')trace=d95d971f-2adb-458f-86b5-effc2eb821cf,id=d95d971f-2adb-458f-86b5-effc2eb821cf; trace=d95d971f-2adb-458f-86b5-effc2eb821cf,id=1d574101-4d92-4131-b882-c5e860b9a9d3; trace=d95d971f-2adb-458f-86b5-effc2eb821cf,id=16124f45-1ff4-4553-b4b4-b3e365db3156; trace=d95d971f-2adb-458f-86b5-effc2eb821cf,id=14c3cafb-b47e-4ef4-bd58-d1038304b4f1; trace=d95d971f-2adb-458f-86b5-effc2eb821cf,id=a46eb95f-399e-48bd-8766-e9a7fdd5758a; trace=d95d971f-2adb-458f-86b5-effc2eb821cf,id=6effdb5d-8678-46f3-bdd1-b68b1760c09b; trace=d95d971f-2adb-458f-86b5-effc2eb821cf,id=7fae4fa7-90e1-4143-80e7-69386b6d5e40; trace=d95d971f-2adb-458f-86b5-effc2eb821cf,id=f4d939e3-621c-4d7a-961b-f9f8ede1bf41\n"
          ]
        },
        {
          "output_type": "stream",
          "name": "stdout",
          "text": [
            "==================================\u001b[1m Ai Message \u001b[0m==================================\n",
            "Name: Bot\n",
            "\n",
            "do u know about karachi?\n",
            "================================\u001b[1m Human Message \u001b[0m=================================\n",
            "Name: Lance\n",
            "\n",
            "Yes, I know about karachi, \n",
            "==================================\u001b[1m Ai Message \u001b[0m==================================\n",
            "\n",
            "Great!  To help me understand what you'd like to discuss about Karachi, could you tell me what specifically interests you about it?  For example, are you interested in its:\n",
            "\n",
            "* **History?** (e.g., its founding, its role in the partition of India)\n",
            "* **Culture?** (e.g., its diverse ethnicities, its food scene, its music)\n",
            "* **Economy?** (e.g., its port, its industries)\n",
            "* **Geography?** (e.g., its coastline, its climate)\n",
            "* **Current events?** (e.g., political climate, social issues)\n",
            "* **Specific neighborhoods or landmarks?** (e.g., Clifton, Frere Hall, Empress Market)\n",
            "\n",
            "\n",
            "Let me know what you'd like to talk about!\n"
          ]
        },
        {
          "output_type": "stream",
          "name": "stderr",
          "text": [
            "WARNING:langsmith.client:Failed to multipart ingest runs: langsmith.utils.LangSmithAuthError: Authentication failed for https://api.smith.langchain.com/runs/multipart. HTTPError('401 Client Error: Unauthorized for url: https://api.smith.langchain.com/runs/multipart', '{\"detail\":\"Invalid token\"}')trace=d95d971f-2adb-458f-86b5-effc2eb821cf,id=7a458db4-a4d2-4acf-abfb-1f6b2ef67f52; trace=d95d971f-2adb-458f-86b5-effc2eb821cf,id=d95d971f-2adb-458f-86b5-effc2eb821cf; trace=d95d971f-2adb-458f-86b5-effc2eb821cf,id=7fae4fa7-90e1-4143-80e7-69386b6d5e40; trace=d95d971f-2adb-458f-86b5-effc2eb821cf,id=f4d939e3-621c-4d7a-961b-f9f8ede1bf41\n"
          ]
        }
      ]
    },
    {
      "cell_type": "code",
      "source": [
        "output = graph.invoke({'messages': [HumanMessage(content=\"hi i m hafiz naveed uddin\")]})\n",
        "for m in output['messages']:\n",
        "    m.pretty_print()\n"
      ],
      "metadata": {
        "colab": {
          "base_uri": "https://localhost:8080/"
        },
        "id": "B8jRNBx7syjt",
        "outputId": "0c9f3d17-e2a1-4887-cdcf-97234f31bc34"
      },
      "execution_count": null,
      "outputs": [
        {
          "output_type": "stream",
          "name": "stderr",
          "text": [
            "WARNING:langsmith.client:Failed to multipart ingest runs: langsmith.utils.LangSmithAuthError: Authentication failed for https://api.smith.langchain.com/runs/multipart. HTTPError('401 Client Error: Unauthorized for url: https://api.smith.langchain.com/runs/multipart', '{\"detail\":\"Invalid token\"}')trace=959c4e32-6bca-412b-b67b-c5d441f5aba7,id=959c4e32-6bca-412b-b67b-c5d441f5aba7; trace=959c4e32-6bca-412b-b67b-c5d441f5aba7,id=87f5e70c-bf9a-4698-96b3-b0861e7f1e19; trace=959c4e32-6bca-412b-b67b-c5d441f5aba7,id=b901707f-923d-493a-94f5-5460384e0e1a; trace=959c4e32-6bca-412b-b67b-c5d441f5aba7,id=51615a7c-6a33-44dd-a687-84c7f9a3d2ca; trace=959c4e32-6bca-412b-b67b-c5d441f5aba7,id=68bbcb25-0f4e-4203-9529-2eb0a579e8c5; trace=959c4e32-6bca-412b-b67b-c5d441f5aba7,id=70c9803c-aaec-4ecc-b100-585cf18645da; trace=959c4e32-6bca-412b-b67b-c5d441f5aba7,id=782ec08c-27f5-4222-a8b7-6e56575b7746; trace=959c4e32-6bca-412b-b67b-c5d441f5aba7,id=6dcacd65-110e-43e5-b336-191b1241c364\n"
          ]
        },
        {
          "output_type": "stream",
          "name": "stdout",
          "text": [
            "================================\u001b[1m Human Message \u001b[0m=================================\n",
            "\n",
            "hi i m hafiz naveed uddin\n",
            "==================================\u001b[1m Ai Message \u001b[0m==================================\n",
            "\n",
            "Assalamu Alaikum Hafiz Naveed Uddin.  How can I help you today?\n"
          ]
        }
      ]
    }
  ]
}