{
  "nbformat": 4,
  "nbformat_minor": 0,
  "metadata": {
    "colab": {
      "provenance": [],
      "authorship_tag": "ABX9TyMyoEToitM61RQN9Nek5Qty",
      "include_colab_link": true
    },
    "kernelspec": {
      "name": "python3",
      "display_name": "Python 3"
    },
    "language_info": {
      "name": "python"
    }
  },
  "cells": [
    {
      "cell_type": "markdown",
      "metadata": {
        "id": "view-in-github",
        "colab_type": "text"
      },
      "source": [
        "<a href=\"https://colab.research.google.com/github/NAVEED261/MY-AI-ASSISTANT/blob/main/2_MY_AGENT_IS_MY_DOCTOR.ipynb\" target=\"_parent\"><img src=\"https://colab.research.google.com/assets/colab-badge.svg\" alt=\"Open In Colab\"/></a>"
      ]
    },
    {
      "cell_type": "code",
      "execution_count": null,
      "metadata": {
        "id": "CwgqgDsDIbJC"
      },
      "outputs": [],
      "source": [
        "%%capture --no-stderr\n",
        "%pip install --quiet -U langchain_google_genai langchain_core langgraph requests"
      ]
    },
    {
      "cell_type": "code",
      "source": [
        "from google.colab import userdata\n",
        "GEMINI_API_KEY = userdata.get('GOOGLE_API_KEY')"
      ],
      "metadata": {
        "id": "Ta3cyNH1Im5r"
      },
      "execution_count": null,
      "outputs": []
    },
    {
      "cell_type": "code",
      "source": [
        "from google.colab import userdata\n",
        "LANGCHAIN_API_KEY = userdata.get('langchain')"
      ],
      "metadata": {
        "id": "6NN4DKi0IwQk"
      },
      "execution_count": null,
      "outputs": []
    },
    {
      "cell_type": "code",
      "source": [
        "from langchain_google_genai import ChatGoogleGenerativeAI\n",
        "llm = ChatGoogleGenerativeAI(model=\"gemini-1.5-flash\", api_key = GEMINI_API_KEY)\n",
        "llm.invoke(\"assalamualyum , i m hafiz naveed uddin , how r u?\")"
      ],
      "metadata": {
        "colab": {
          "base_uri": "https://localhost:8080/"
        },
        "id": "65zvYzADI5b0",
        "outputId": "b850de74-4b9b-4087-b791-490ef0172a0f"
      },
      "execution_count": null,
      "outputs": [
        {
          "output_type": "execute_result",
          "data": {
            "text/plain": [
              "AIMessage(content='Assalamu alaykum Hafiz Naveed Uddin! I hope you are doing well.  How can I help you today?\\n', additional_kwargs={}, response_metadata={'prompt_feedback': {'block_reason': 0, 'safety_ratings': []}, 'finish_reason': 'STOP', 'safety_ratings': []}, id='run-613e575b-28c8-4535-b08f-645b349c4e21-0', usage_metadata={'input_tokens': 19, 'output_tokens': 28, 'total_tokens': 47, 'input_token_details': {'cache_read': 0}})"
            ]
          },
          "metadata": {},
          "execution_count": 31
        }
      ]
    },
    {
      "cell_type": "code",
      "source": [
        "BASE_URL = \"https://api.endlessmedical.com/v1\""
      ],
      "metadata": {
        "id": "Cb03vZXb3LTP"
      },
      "execution_count": null,
      "outputs": []
    },
    {
      "cell_type": "code",
      "source": [
        "def get_medical_features() -> str:\n",
        "    \"\"\"Retrieves medical features from Endless Medical API.\"\"\"\n",
        "    response = requests.get(f\"{BASE_URL}/dx/GetFeatures\")\n",
        "    if response.status_code == 200:\n",
        "        return str(response.json())\n",
        "    else:\n",
        "        return \"Failed to retrieve medical features.\"\n",
        "\n",
        "def provide_health_tips(symptom: str) -> str:\n",
        "    \"\"\"Provides health tips for specific symptoms.\"\"\"\n",
        "    health_tips = {\n",
        "        \"fever\": \"Stay hydrated, rest, and take paracetamol.\",\n",
        "        \"cough\": \"Drink warm fluids, avoid cold drinks, and use cough syrup.\",\n",
        "        \"headache\": \"Rest in a quiet room, hydrate, and take painkillers.\",\n",
        "        \"stomach pain\": \"Avoid spicy food, drink water, and take antacids.\"\n",
        "    }\n",
        "    return health_tips.get(symptom.lower(), \"Consult a doctor for accurate advice.\")\n",
        "\n",
        "def get_medicine_recommendation(symptom: str) -> str:\n",
        "    \"\"\"Fetches a medicine recommendation from EndlessMedical API for a given symptom.\"\"\"\n",
        "    params = {\"symptom\": symptom}\n",
        "    response = requests.get(f\"{BASE_URL}/dx/GetOutcomes\", params=params)\n",
        "\n",
        "    # Debugging API Response\n",
        "    print(\"API Response Status Code:\", response.status_code)\n",
        "    print(\"API Response JSON:\", response.json())\n",
        "\n",
        "    if response.status_code == 200:\n",
        "        data = response.json()\n",
        "        # Debugging JSON Key\n",
        "        try:\n",
        "            outcomes = data.get(\"Outcomes\", [])\n",
        "            if outcomes:\n",
        "                medicine = outcomes[0].get(\"Name\", \"No specific medicine found\")\n",
        "                return f\"Recommended medicine: {medicine}\"\n",
        "            else:\n",
        "                return \"No specific medicine available in the API response.\"\n",
        "        except Exception as e:\n",
        "            return f\"Error parsing API response: {str(e)}\"\n",
        "    else:\n",
        "        return f\"Failed to fetch data. Status Code: {response.status_code}\"\n",
        "# Combine Tools\n",
        "tools = [provide_health_tips, get_medicine_recommendation, get_medical_features]\n",
        "\n",
        "# Bind tools to LLM\n",
        "llm_with_tools = llm.bind_tools(tools)"
      ],
      "metadata": {
        "id": "kuvNdbKTJXhr"
      },
      "execution_count": null,
      "outputs": []
    },
    {
      "cell_type": "code",
      "source": [
        "llm_with_tools"
      ],
      "metadata": {
        "colab": {
          "base_uri": "https://localhost:8080/"
        },
        "id": "8fLhZuqNJrr-",
        "outputId": "eabf990b-08f6-48a8-9f41-2fa005376dfa"
      },
      "execution_count": null,
      "outputs": [
        {
          "output_type": "execute_result",
          "data": {
            "text/plain": [
              "RunnableBinding(bound=ChatGoogleGenerativeAI(model='models/gemini-1.5-flash', google_api_key=SecretStr('**********'), client=<google.ai.generativelanguage_v1beta.services.generative_service.client.GenerativeServiceClient object at 0x7fe0600f5090>, default_metadata=()), kwargs={'tools': [{'type': 'function', 'function': {'name': 'provide_health_tips', 'description': 'Provides health tips for specific symptoms.', 'parameters': {'properties': {'symptom': {'type': 'string'}}, 'required': ['symptom'], 'type': 'object'}}}, {'type': 'function', 'function': {'name': 'get_medicine_recommendation', 'description': 'Fetches a medicine recommendation from EndlessMedical API for a given symptom.', 'parameters': {'properties': {'symptom': {'type': 'string'}}, 'required': ['symptom'], 'type': 'object'}}}, {'type': 'function', 'function': {'name': 'get_medical_features', 'description': 'Retrieves medical features from Endless Medical API.', 'parameters': {'properties': {}, 'type': 'object'}}}]}, config={}, config_factories=[])"
            ]
          },
          "metadata": {},
          "execution_count": 41
        }
      ]
    },
    {
      "cell_type": "code",
      "source": [
        "print(get_medicine_recommendation(\"headache\"))\n"
      ],
      "metadata": {
        "id": "pdm_nv-J7zf3",
        "outputId": "88196817-e444-4181-d97f-c7d7d6d74e62",
        "colab": {
          "base_uri": "https://localhost:8080/"
        }
      },
      "execution_count": null,
      "outputs": [
        {
          "output_type": "stream",
          "name": "stdout",
          "text": [
            "API Response Status Code: 200\n",
            "API Response JSON: {'status': 'ok', 'data': ['DM2', 'ANEMIAA', 'Thrombocytopenia', 'GcCervicitis', 'ProstatisA', 'GcUA', 'Covid19Test', 'CUA', 'Covid19Contact', 'CAPPNA', 'Covid19URTI', 'Covid19PNA', 'CommonCold', 'PancreatitisETOH', 'PancreatitisA', 'ClusterHeadache', 'UncontrolledHTN', 'DiabetesKACA', 'FusobacteriumNecrophorumPharyngitisComplicatedWithLemierreSyndrome', 'PrimaryArterialHypertension', 'PrimaryArterialHypertensionByHx', 'PancreatitisHyperTGL', 'PancreatitisGAP', 'PancreatitisHIV', 'HypertensiveEmergencyA', 'PancreatitisPancreaticCa', 'HeadacheAfterNitrates', 'HeadacheDueToHTN', 'HypertensiveUrgencyA', 'HeadacheDueToCaffeineWithdrawal', 'PancreatitisDueToMeds', 'PancreatitisHyperCalcemia', 'TensionHeadache', 'PancreatitisOddis', 'PancreatitisERCP', 'GastrittisBleedingA', 'MigraineHeadache', 'FusobacteriumNecrophorumPharyngitis', 'Leukopenia', 'BRONCHITISA', 'FluA', 'AorticDissectionThoracic', 'PeritionitisA', 'VaricealBleedingA', 'PTXA', 'ChronsA', 'TracheobronchitisA', 'PericarditisA', 'ViralPharyngitis', 'AllergicRhinitisToPollen', 'AllergicRhinitisToDustMites', 'StrepThroatA', 'LVFA', 'GERDA', 'EsophagealSpasmA', 'GERDAWEsophagitisWOBleed', 'SinusitisC', 'RVFA', 'PleuralEffusionA', 'FissureA', 'SinusitisA', 'GERDAWEsophagitisWBleed', 'LaryngitisA', 'RespiratoryAcidosis', 'ANEMIAAFromAcuteBloodLoss', 'ObesityHypeventA', 'PE', 'GastroenteritisViralA', 'AppendicitisA', 'PUDPerfA', 'SepsticShockA', 'Shock', 'ShockLiver', 'HypertensiveNephropathy', 'AnaphylacticShock', 'HCAP', 'SVT', 'DVT', 'COPDA', 'ACEinhibitorRelatedCough', 'AsthmaA', 'BowelObstructionA', 'AsthmaARFA', 'PulmTBA', 'NonTBMycobacteriaeA', 'LungAbscessA', 'EmpyemaA', 'OtitisMediaA', 'OtitisExternaA', 'AcuteEyeEmergencyA', 'AnxietyA', 'AorticStenosisA', 'AorticRegurgitationA', 'MitralRegurgitationA', 'PulmonaryRegurgitationA', 'ThyroidGoiterA', 'MIA', 'DiabetesHONKA', 'ACSA', 'VSDA', 'CostochondritisAMSKChestPain', 'SpinalfacetjointsCPA', 'TSpineCPA', 'SpinalDiscopathyCPA', 'PleuritisA', 'AtelectasisA', 'LobarObstructionA', 'HealthyA', 'HealthyAllA', 'OvarianTorsionA', 'MissedAA', 'DeathA', 'TesticularTorsionA', 'HemorrhoidsA', 'PUDBleed', 'GastroenteritisBacterialA', 'PortalVeinThrombosisA', 'BuddChiariA', 'DM1', 'HyperTGL', 'PancreaticCaA', 'CholecystitisA', 'GoutFlair', 'ToeTraumaPain', 'GoutFlairFromDiuretics', 'GerdA', 'BIA', 'CDCA', 'SepsisA', 'SuicidialOverdoseA', 'BeerA', 'HypoNaA', 'HypoNaSIADHA', 'HyperKA', 'HyperCaA', 'HyperParaCaA', 'MeningitisA', 'EncephalitisA', 'HypercapnicA', 'SSA', 'OpiatesA', 'TCAA', 'StarvationKA', 'Starvation', 'MetabolicGapAcidosis', 'MetabolicNonGapAcidosis', 'LacticAcidosis', 'HypoA', 'HypoThyroA', 'HyperthyroidCrisisA', 'GastroparesisA', 'ARFA', 'UTIA', 'PIDA', 'EPA', 'NeutropA', 'NeutroponicFeverA', 'MSPregnancyA', 'OtherDxA', 'BacterialEndocarditisA', 'TVBacterialEndocarditisA', 'MetastaticAbscessesA', 'PleurisyA', 'HPTXA', 'HTXA', 'SciaticaA', 'MechanicalLBPA', 'CystitisUTIA', 'PyelonephritisUTIA', 'SuicideA', 'AcetaminophenOverdoseA', 'EthyleneGlycolOverdoseA', 'CNeoMeningitisA', 'FungoMeningitisA', 'HSVEncephalitisA', 'BrainCaA', 'ICH', 'ContusionA', 'SpineCaA', 'SAHA', 'IschemicCVADisease', 'LEMSA', 'MyastheniaA', 'BenzosA', 'StomachCa', 'MechanicalSmallBowelObstructionA', 'AdynamicSmallBowelObstructionA', 'LargeBowelObstructionA', 'SmallBowelObstruction', 'MesentericIschemiaA', 'MesentericIschemiaC', 'EmbolicLowerLimbIschemiaA', 'Atheroscleroticlowerextremitiesischemia', 'IschCoitisA', 'AcuteDiverticulitisA', 'AcuteappendicitisA', 'ChlamydialUA', 'ChlamydialCervicitis', 'Urethritis', 'BacterialvagA', 'CandidalvagA', 'TrichomonasvagA', 'AtrophicVaginitis', 'URetenA', 'OrchitisA', 'MENPA', 'Menstruation', 'FUO', 'PulmonaryEdema', 'Choledocholithiasis', 'AnticholinergicsOverdose', 'EthanolOverdose', 'HypoxicRespiratoryfailure', 'HypercapnicRespiratoryfailure', 'PulmonaryArteryPressingOnLMCAAngina', 'PulmonaryArteryAneurysm', 'AnginaCausedByLowCardiacOutput', 'LowCardiacOutputSyndrome', 'AnginaAS', 'DemandMyocardialIschaemia', 'Graves', 'Painlessthyroiditis', 'NSTEMI', 'Myocarditis', 'STEMI', 'Delirium', 'Gastritis', 'AcutUpperGIBleed', 'AcuteLowerGIBleed', 'HemorrhaficShock', 'Anaphylaxis', 'Hydronephrosis', 'HemolyticAnemia', 'PCaC', 'CUC', 'SecondaryArterialHypertensionObesity', 'CoronaryArteryDiseaseCAD', 'UnstableAngina', 'SecondaryArterialHypertensionCKD', 'PancreatitisC', 'SecondaryArterialHypertension', 'Ureterolithiasis', 'SecondaryArterialHypertensionSecondaryRASAtherosclerotic', 'SecondaryArterialHypertensionHyperaldo', 'CKD', '!CKD', 'BRCA12Carier', 'HxOfPE', 'HxOfDVT', 'HxOfCHF', 'HxOfCAD', 'HxOfAfibAflut', 'HxOfCVA', 'Transaminitis', 'SecondaryArterialHypertensionOSA', 'DM1ByHx', 'DiabeticNephropathy', 'AtopicDermatitis', 'OSA', 'PCDiabetesC', 'PUDA', 'HPylor', 'DM2ByHx', 'SecondaryArterialHypertensionSecondaryRASFibromuscularDysplasia', 'MNKD', 'PastHxOfPregnancy', 'PastHxOfSpontaneousAbortion', 'STATA', 'DMKD', 'PulmonaryHypertensionC', 'COPDC', 'AsthmaC', 'CSSC', 'LVFC', 'HypertrophicCardiomyopathyC', 'DilatedCardiomyopathyC', 'TricuspidRegurgitationC', 'InsulinomaC', 'ASDC', 'VSDC', 'PDAC', 'MitralRegurgitationC', 'MitralStenosisC', 'RVFC', 'NonConstrictivePericarditisC', 'ConstrictivePericarditisC', 'Hyperaldosteronism', 'BrainNeoC', 'MSC', 'ANEMIAC', 'ObesityC', 'NormalWeightC', 'OverweightC', 'ExtremeObesityC', 'BRONCHITISC', 'ILDC', 'LCC', 'PFC', 'ThyroidGoiterC', 'NonTBMycobacteriaeC', 'HealthyC', 'CCC', 'EndomC', 'OvarianC', 'CervicalC', 'EAC', 'IDAC', 'ID', 'CKDAnemia', 'B12DAC', 'B12D', 'FolateDAC', 'FolateD', 'PernDAC', 'IntenParasC', 'HepA', 'HepCA', 'HepBC', 'HIVC', 'SyphilisC', 'HemorrhoidsC', 'IschCoitisC', 'EndometriosisC', 'DepressC', 'HypogonadismC', 'KCC', 'BladderCC', 'StressIC', 'MixedIC', 'UrgencyIC', 'OverflowIC', 'UreterCC', 'GDS', 'AntiGBM', 'ASpondC', 'SSC', 'MetasSpineC', 'VascKD', 'IgAKD', 'FGKD', 'PSKD', 'MCKD', 'FSGSKD', 'MPKD', 'KC', 'ATN', 'AIN', 'CSDC', 'ADC', 'PregnancyC', 'BladderTumorC', 'BPHC', 'TesticC', 'VaricoceleC', 'EpididymitisC', 'EpiSperC', 'GallStonesC', 'IBSC', 'AscariasisC', 'EnterobiasisC', 'GiardiasisC', 'ChronsC', 'HealthyAllC', 'HypoThyroC', 'HyperThyroC', 'PheoC', 'CarcinoidC', 'MetSynC', 'PDA', 'ChronicAspiration', 'Nephrolithiasis', 'BreastCancer', 'ThromboembolicPulmonaryHypertensionCTEPH', 'PulmonaryHTNSecondaryToLHD', 'Hypercholesterolemia', 'BladderOutletObstructionMale', 'BladderOutletObstructionFeMale', 'NephroticSyndrome', 'NephriticSyndrome', 'MembranousNephropathy', 'PrimaryMembranousNephropathy', 'SecondaryMembranousNephropathy', 'AnemiaInMale', 'AnemiaInFemale', 'StateOfHealth']}\n",
            "No specific medicine available in the API response.\n"
          ]
        }
      ]
    },
    {
      "cell_type": "code",
      "source": [
        "import requests\n",
        "from langgraph.graph import START, StateGraph\n",
        "from langgraph.prebuilt import tools_condition, ToolNode\n",
        "from IPython.display import Image, display\n",
        "from langgraph.graph.state import CompiledStateGraph\n",
        "from langgraph.graph import MessagesState\n",
        "from langchain_core.messages import AIMessage, HumanMessage, SystemMessage\n",
        "from langgraph.checkpoint.memory import MemorySaver\n",
        "memory: MemorySaver = MemorySaver()"
      ],
      "metadata": {
        "id": "T0FOhkzZJ5EM"
      },
      "execution_count": null,
      "outputs": []
    },
    {
      "cell_type": "code",
      "source": [
        "sys_msg = SystemMessage(content=\"You are a knowledgeable healthcare assistant. Your goal is to provide helpful health advice, \"\n",
        "        \"calculate BMI based on user inputs, and answer healthcare-related questions accurately. Always \"\n",
        "        \"respond in a polite and empathetic tone, ensuring that the user feels heard and supported. \"\n",
        "        \"For medical emergencies, recommend consulting a doctor.\")\n",
        "\n",
        "# Node\n",
        "def assistant(state: MessagesState) -> MessagesState:\n",
        "   return {\"messages\": [llm_with_tools.invoke([sys_msg] + state[\"messages\"])]}"
      ],
      "metadata": {
        "id": "EOHDbiU4KVrk"
      },
      "execution_count": null,
      "outputs": []
    },
    {
      "cell_type": "code",
      "source": [
        "# Graph\n",
        "builder: StateGraph = StateGraph(MessagesState)\n",
        "\n",
        "\n",
        "builder.add_node(\"assistant\", assistant)\n",
        "builder.add_node(\"tools\", ToolNode(tools))  # Now tools is a list of BaseTool objects\n",
        "\n",
        "builder.add_edge(START, \"assistant\")\n",
        "builder.add_conditional_edges(\n",
        "    \"assistant\",\n",
        "\n",
        "    tools_condition,\n",
        ")\n",
        "builder.add_edge(\"tools\", \"assistant\")\n",
        "graph = builder.compile(checkpointer=memory)\n",
        "\n",
        "# Show\n",
        "display(Image(graph.get_graph(xray=True).draw_mermaid_png()))"
      ],
      "metadata": {
        "colab": {
          "base_uri": "https://localhost:8080/",
          "height": 266
        },
        "id": "FBpDny8qKqj1",
        "outputId": "a0a31b1c-b344-4861-b141-e8bc109a315b"
      },
      "execution_count": null,
      "outputs": [
        {
          "output_type": "display_data",
          "data": {
            "image/png": "[encoded data removed]",
            "text/plain": [
              "<IPython.core.display.Image object>"
            ]
          },
          "metadata": {}
        }
      ]
    },
    {
      "cell_type": "code",
      "source": [
        "config1 = {\"configurable\": {\"thread_id\": \"1\"}}\n"
      ],
      "metadata": {
        "id": "KFtzSuv45TJ3"
      },
      "execution_count": null,
      "outputs": []
    },
    {
      "cell_type": "code",
      "source": [
        "messages = graph.invoke({\"messages\": [HumanMessage(content=\"I have a headache. Can you give me health tips?\")]},config1)\n",
        "for m in messages['messages']:\n",
        "    m.pretty_print()\n"
      ],
      "metadata": {
        "id": "-KTXh3rA5OGX",
        "outputId": "24e6c3a6-cdd0-4ac1-bdce-04daaa7e403c",
        "colab": {
          "base_uri": "https://localhost:8080/"
        }
      },
      "execution_count": null,
      "outputs": [
        {
          "output_type": "stream",
          "name": "stdout",
          "text": [
            "================================\u001b[1m Human Message \u001b[0m=================================\n",
            "\n",
            "I have a headache. Can you give me health tips?\n",
            "==================================\u001b[1m Ai Message \u001b[0m==================================\n",
            "\n",
            "I'm sorry to hear that you have a headache.  I can certainly provide some health tips.\n",
            "Tool Calls:\n",
            "  provide_health_tips (1c77a2a2-9bb1-4d61-b343-29499a9b9d7c)\n",
            " Call ID: 1c77a2a2-9bb1-4d61-b343-29499a9b9d7c\n",
            "  Args:\n",
            "    symptom: headache\n",
            "=================================\u001b[1m Tool Message \u001b[0m=================================\n",
            "Name: provide_health_tips\n",
            "\n",
            "Rest in a quiet room, hydrate, and take painkillers.\n",
            "==================================\u001b[1m Ai Message \u001b[0m==================================\n",
            "\n",
            "I'm sorry to hear that you have a headache.  Here's what I can suggest based on my knowledge base: Try resting in a quiet, dark room.  Make sure you're drinking plenty of fluids. Over-the-counter pain relievers like ibuprofen or acetaminophen might also help.  \n",
            "\n",
            "If your headache is severe, persistent, or accompanied by other symptoms like fever, stiff neck, vision changes, or numbness, please see a doctor immediately.  These could be signs of a more serious condition.\n"
          ]
        }
      ]
    },
    {
      "cell_type": "code",
      "source": [
        "messages = graph.invoke({\"messages\": [HumanMessage(content=\"What should I take for fever?\")]},config1)\n",
        "for m in messages['messages']:\n",
        "    m.pretty_print()\n"
      ],
      "metadata": {
        "id": "PTQC5t0G8FEh",
        "outputId": "3b40bfd0-dbba-4f52-a043-df5de4b7546e",
        "colab": {
          "base_uri": "https://localhost:8080/"
        }
      },
      "execution_count": null,
      "outputs": [
        {
          "output_type": "stream",
          "name": "stdout",
          "text": [
            "================================\u001b[1m Human Message \u001b[0m=================================\n",
            "\n",
            "I have a headache. Can you give me health tips?\n",
            "==================================\u001b[1m Ai Message \u001b[0m==================================\n",
            "\n",
            "I'm sorry to hear that you have a headache.  I can certainly provide some health tips.\n",
            "Tool Calls:\n",
            "  provide_health_tips (1c77a2a2-9bb1-4d61-b343-29499a9b9d7c)\n",
            " Call ID: 1c77a2a2-9bb1-4d61-b343-29499a9b9d7c\n",
            "  Args:\n",
            "    symptom: headache\n",
            "=================================\u001b[1m Tool Message \u001b[0m=================================\n",
            "Name: provide_health_tips\n",
            "\n",
            "Rest in a quiet room, hydrate, and take painkillers.\n",
            "==================================\u001b[1m Ai Message \u001b[0m==================================\n",
            "\n",
            "I'm sorry to hear that you have a headache.  Here's what I can suggest based on my knowledge base: Try resting in a quiet, dark room.  Make sure you're drinking plenty of fluids. Over-the-counter pain relievers like ibuprofen or acetaminophen might also help.  \n",
            "\n",
            "If your headache is severe, persistent, or accompanied by other symptoms like fever, stiff neck, vision changes, or numbness, please see a doctor immediately.  These could be signs of a more serious condition.\n",
            "================================\u001b[1m Human Message \u001b[0m=================================\n",
            "\n",
            "What should I take for fever?\n",
            "==================================\u001b[1m Ai Message \u001b[0m==================================\n",
            "\n",
            "I cannot provide specific medical advice or recommend medications.  For fever, it's best to consult a doctor or pharmacist. They can assess your specific situation and recommend the appropriate course of action, including whether or not medication is necessary and what type would be most suitable for you.  \n",
            "\n",
            "In the meantime, you can try some general comfort measures like resting, drinking plenty of fluids, and using cool compresses to reduce your temperature.\n"
          ]
        }
      ]
    }
  ]
}