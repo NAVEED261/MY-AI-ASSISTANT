{
  "nbformat": 4,
  "nbformat_minor": 0,
  "metadata": {
    "colab": {
      "provenance": [],
      "toc_visible": true,
      "authorship_tag": "ABX9TyMl34DGSF0yhynViXMRolMH",
      "include_colab_link": true
    },
    "kernelspec": {
      "name": "python3",
      "display_name": "Python 3"
    },
    "language_info": {
      "name": "python"
    }
  },
  "cells": [
    {
      "cell_type": "markdown",
      "metadata": {
        "id": "view-in-github",
        "colab_type": "text"
      },
      "source": [
        "<a href=\"https://colab.research.google.com/github/NAVEED261/MY-AI-ASSISTANT/blob/main/Part_6_Customizing_State_%26_part_7_Time_Travel.ipynb\" target=\"_parent\"><img src=\"https://colab.research.google.com/assets/colab-badge.svg\" alt=\"Open In Colab\"/></a>"
      ]
    },
    {
      "cell_type": "code",
      "execution_count": 58,
      "metadata": {
        "id": "Lh5LCXJr1V-V"
      },
      "outputs": [],
      "source": [
        "\n",
        "%%capture --no-stderr\n",
        "%pip install -U langgraph langsmith langchain_google_genai tavily-python langchain_community\n"
      ]
    },
    {
      "cell_type": "markdown",
      "source": [
        "\"Ab tak hum ne aik simple state ka sahara liya hai (yeh bas aik messages ki list hai!). Is simple state ke saath aap kaafi aagay ja sakte hain, lekin agar aap complex behavior define karna chahtay hain baghair message list par depend kiye, toh aap state mein additional fields add kar sakte hain. Iss section mein hum apne chat bot ko aik naye node ke saath expand karenge isko illustrate karne ke liye.\n",
        "\n",
        "Pehle walay examples mein hum ne aik insaan ko deterministic tor par involve kiya: jab bhi tool invoke kiya gaya, graph hamisha interrupt ho jata tha. Tasavvur karein agar hum chahte hain ke hamara chat bot aik insaan par depend karne ka ikhtiyar rakhta ho.\n",
        "\n",
        "Iska aik tareeqa yeh hai ke aik passthrough 'human' node create kiya jaye, jisse pehle graph hamisha ruk jaaye. Hum sirf yeh node tab execute karenge agar LLM 'human' tool ko invoke kare. Apni sahulat ke liye hum graph state mein aik 'ask_human' flag shamil karenge jo hum flip karenge agar LLM is tool ko bulaye.\n",
        "\n",
        "Neeche, is naye graph ko define karen, aik updated State ke saath.\""
      ],
      "metadata": {
        "id": "K6W6Yg5_10xl"
      }
    },
    {
      "cell_type": "code",
      "source": [
        "import os\n",
        "from google.colab import userdata\n",
        "\n",
        "os.environ[\"LANGCHAIN_API_KEY\"] = userdata.get('LANGCHAIN_API_KEY')\n",
        "os.environ[\"LANGCHAIN_TRACING_V2\"] = \"true\"\n",
        "os.environ[\"LANGCHAIN_PROJECT\"] = \"quickstart\"\n",
        "\n",
        "gemini_api_key = userdata.get('my_stenographer_key')\n",
        "os.environ[\"TAVILY_API_KEY\"] = userdata.get(\"TAVILY_API_KEY\")"
      ],
      "metadata": {
        "id": "14BWnzZm1a-k"
      },
      "execution_count": 59,
      "outputs": []
    },
    {
      "cell_type": "code",
      "source": [
        "from langchain_google_genai import ChatGoogleGenerativeAI\n",
        "from langchain_community.tools.tavily_search import TavilySearchResults # Import the necessary class\n",
        "llm = ChatGoogleGenerativeAI(\n",
        "    model=\"gemini-1.5-flash\",\n",
        "    max_retries=2,\n",
        "    api_key=gemini_api_key\n",
        ")\n",
        "\n",
        "llm.invoke(\"greet me\")\n",
        "\n",
        "tool = TavilySearchResults(max_results=2)\n",
        "tools = [tool]\n",
        "tool.invoke(\"what is current weather in karachi\")"
      ],
      "metadata": {
        "colab": {
          "base_uri": "https://localhost:8080/"
        },
        "id": "OHX14WXG1dTs",
        "outputId": "61abb94f-16c1-4e16-f332-1e91108a4e11"
      },
      "execution_count": 60,
      "outputs": [
        {
          "output_type": "execute_result",
          "data": {
            "text/plain": [
              "[{'url': 'https://www.weatherapi.com/',\n",
              "  'content': \"{'location': {'name': 'Karachi', 'region': 'Sindh', 'country': 'Pakistan', 'lat': 24.8667, 'lon': 67.05, 'tz_id': 'Asia/Karachi', 'localtime_epoch': 1731083585, 'localtime': '2024-11-08 21:33'}, 'current': {'last_updated_epoch': 1731083400, 'last_updated': '2024-11-08 21:30', 'temp_c': 26.1, 'temp_f': 79.0, 'is_day': 0, 'condition': {'text': 'Clear', 'icon': '//cdn.weatherapi.com/weather/64x64/night/113.png', 'code': 1000}, 'wind_mph': 8.5, 'wind_kph': 13.7, 'wind_degree': 254, 'wind_dir': 'WSW', 'pressure_mb': 1014.0, 'pressure_in': 29.94, 'precip_mm': 0.0, 'precip_in': 0.0, 'humidity': 79, 'cloud': 0, 'feelslike_c': 28.4, 'feelslike_f': 83.2, 'windchill_c': 27.4, 'windchill_f': 81.3, 'heatindex_c': 30.7, 'heatindex_f': 87.2, 'dewpoint_c': 23.0, 'dewpoint_f': 73.3, 'vis_km': 6.0, 'vis_miles': 3.0, 'uv': 0.0, 'gust_mph': 11.8, 'gust_kph': 19.0}}\"},\n",
              " {'url': 'https://www.timeanddate.com/weather/pakistan/karachi/hourly',\n",
              "  'content': 'Hour-by-Hour Forecast for Karachi, Sindh, Pakistan. Weather Today Weather Hourly 14 Day Forecast Yesterday/Past Weather Climate (Averages) Currently: 75 °F. Clear. (Weather station: Karachi Airport, Pakistan). See more current weather.'}]"
            ]
          },
          "metadata": {},
          "execution_count": 60
        }
      ]
    },
    {
      "cell_type": "code",
      "source": [
        "from typing import Annotated\n",
        "\n",
        "\n",
        "from langchain_community.tools.tavily_search import TavilySearchResults\n",
        "from langchain_core.messages import BaseMessage\n",
        "# NOTE: you must use langchain-core >= 0.3 with Pydantic v2\n",
        "from pydantic import BaseModel\n",
        "from typing_extensions import TypedDict\n",
        "from langchain_core.messages import AIMessage, ToolMessage\n",
        "from langgraph.checkpoint.memory import MemorySaver\n",
        "from langgraph.graph import StateGraph, START, END\n",
        "from langgraph.graph.message import add_messages\n",
        "from langgraph.prebuilt import ToolNode, tools_condition\n",
        "\n",
        "\n",
        "class State(TypedDict):\n",
        "    messages: Annotated[list, add_messages]\n",
        "    # This flag is new\n",
        "    ask_human: bool\n",
        "    # ask_human: bool ye ek flag ki trh kam krta ha jo human ko involve krna ha yes ya no ma\n",
        "\n",
        "\n",
        "class RequestAssistance(BaseModel):\n",
        "    \"\"\"Escalate the conversation to an expert. Use this if you are unable to assist directly or if the user requires support beyond your permissions.\n",
        "\n",
        "    To use this function, relay the user's 'request' so the expert can provide the right guidance.\n",
        "    \"\"\"\n",
        "\n",
        "    request: str\n",
        "# ek class bnai jo ya decide karagi k human ko invole krna ha ya ni\n",
        "\n",
        "\n",
        "# \"Ham LLM ko ek tool definition, Pydantic model, ya JSON schema ke saath bind kar sakte hain.\"\n",
        "llm_with_tools = llm.bind_tools(tools + [RequestAssistance])\n",
        "# llm ko btarha ha k bind or requestassistance tool use krskta ho\n",
        "\n",
        "def chatbot(state: State):\n",
        "    response = llm_with_tools.invoke(state[\"messages\"])\n",
        "    # llm ko call krrha ha k normal state pas krdo human ki need ni islya false kya\n",
        "    ask_human = False\n",
        "    if (\n",
        "        response.tool_calls\n",
        "        and response.tool_calls[0][\"name\"] == RequestAssistance.__name__\n",
        "    ):\n",
        "        ask_human = True\n",
        "    return {\"messages\": [response], \"ask_human\": ask_human}\n",
        "# ager human ki need ho ([\"name\"] == ReoquestAssistance.) to true krdo or query ko human k pas bhjdo\n",
        "\n",
        "graph_builder = StateGraph(State)\n",
        "# ub graph bnana start kya\n",
        "\n",
        "graph_builder.add_node(\"chatbot\", chatbot)\n",
        "graph_builder.add_node(\"tools\", ToolNode(tools=[tool]))\n",
        "# jo b hum tool ki array ya list bnai ga wo tool node ma store ya convert hojaigi\n",
        "\n",
        "def create_response(response: str, ai_message: AIMessage):\n",
        "    return ToolMessage(\n",
        "        content=response,\n",
        "        tool_call_id=ai_message.tool_calls[0][\"id\"],\n",
        "    )\n",
        "# this is helper function jo b human ka reply hoga wo toolmsg ma return hojai ya convert hoajaiga\n",
        "\n",
        "def human_node(state: State):\n",
        "    new_messages = []\n",
        "    if not isinstance(state[\"messages\"][-1], ToolMessage):\n",
        "        # Amuman, user ne interrupt ke doran state ko update kiya hoga. Agar woh\n",
        "        # update na karna chahein, toh hum ek placeholder ToolMessage include\n",
        "        # karenge taake LLM continue kar sake\n",
        "        new_messages.append(\n",
        "            create_response(\"No response from human.\", state[\"messages\"][-1])\n",
        "        )\n",
        "        # human ki is node ma ager human koi msg ni aya to new msg apend hojai ga\n",
        "    return {\n",
        "        # Append the new messages\n",
        "        \"messages\": new_messages,\n",
        "        # Unset the flag\n",
        "        \"ask_human\": False,\n",
        "    }\n",
        "# jo porana msg ki jga nes msg ma append hoga or human ko false krdaga k iski need ni ha\n",
        "\n",
        "graph_builder.add_node(\"human\", human_node)\n",
        "# human ki node bnai gai ha\n",
        "\n",
        "def select_next_node(state: State):\n",
        "    if state[\"ask_human\"]:\n",
        "        return \"human\"\n",
        "    # Otherwise, we can route as before\n",
        "    return tools_condition(state)\n",
        "\n",
        "#  ager state true ha to query human k pas bhjdo werna tool conditon p return krdo\n",
        "# note : true or false hamasha llm decide krta ha q llm k bind.tool ha langraph\n",
        "# k langraph ma work flow kya chlrha ha uska behalf p llm decide krta ha\n",
        "\n",
        "graph_builder.add_conditional_edges(\n",
        "    \"chatbot\",\n",
        "    select_next_node,\n",
        "    {\"human\": \"human\", \"tools\": \"tools\", \"__end__\": \"__end__\"},\n",
        ")\n",
        "# ya condition ha decide karagi k human k pas bhjna ha tool ya phr end krna ha\n",
        "\n",
        "graph_builder.add_edge(START, \"chatbot\")\n",
        "graph_builder.add_edge(\"tools\", \"chatbot\")\n",
        "graph_builder.add_edge(\"human\",\"chatbot\")\n",
        "memory = MemorySaver()\n",
        "graph = graph_builder.compile(\n",
        "    checkpointer=memory,\n",
        "      #for persistance \"\" Persistence ka matlab hai data ya state ko mustaqil tor par save karna.\"\n",
        "    interrupt_before=[\"human\"],\n",
        ")\n",
        "#yha hmna human  interupt krna ha human ko."
      ],
      "metadata": {
        "id": "BxUwE3tX19d1"
      },
      "execution_count": 61,
      "outputs": []
    },
    {
      "cell_type": "code",
      "source": [
        "from IPython.display import Image, display\n",
        "\n",
        "try:\n",
        "    display(Image(graph.get_graph().draw_mermaid_png()))\n",
        "except Exception:\n",
        "    # This requires some extra dependencies and is optional\n",
        "    pass"
      ],
      "metadata": {
        "colab": {
          "base_uri": "https://localhost:8080/",
          "height": 308
        },
        "id": "a6AptOfVMKEM",
        "outputId": "f35f79a7-26e4-4a40-f6bb-6e3ad2575616"
      },
      "execution_count": 62,
      "outputs": [
        {
          "output_type": "display_data",
          "data": {
            "image/jpeg": "[encoded data removed]",
            "text/plain": [
              "<IPython.core.display.Image object>"
            ]
          },
          "metadata": {}
        }
      ]
    },
    {
      "cell_type": "markdown",
      "source": [
        "\"Chatbot ya toh insani madad ka request kar sakta hai (chatbot->select->human), search engine tool ko invoke kar sakta hai (chatbot->select->action), ya seedha jawab de sakta hai (chatbot->select->end). Jab koi action ya request ki jati hai, graph wapas chatbot node par transition karega taake operations continue ho saken.\n",
        "\n",
        "Aayein is graph ko action mein dekhte hain. Hum expert assistance ka request karenge taake apne"
      ],
      "metadata": {
        "id": "7rAOz0-AhZj2"
      }
    },
    {
      "cell_type": "code",
      "source": [
        "user_input = \"I need some expert guidance for building this AI agent. Could you request assistance for me?\"\n",
        "config = {\"configurable\": {\"thread_id\": \"10\"}}\n",
        "# The config is the **second positional argument** to stream() or invoke()!\n",
        "events = graph.stream(\n",
        "    {\"messages\": [(\"user\", user_input)]}, config, stream_mode=\"values\"\n",
        ")\n",
        "for event in events:\n",
        "    if \"messages\" in event:\n",
        "        event[\"messages\"][-1].pretty_print()"
      ],
      "metadata": {
        "colab": {
          "base_uri": "https://localhost:8080/"
        },
        "id": "CCNK0OloMOTk",
        "outputId": "e8d71410-8547-4e70-b03c-27b5457697f3"
      },
      "execution_count": 63,
      "outputs": [
        {
          "output_type": "stream",
          "name": "stdout",
          "text": [
            "================================\u001b[1m Human Message \u001b[0m=================================\n",
            "\n",
            "I need some expert guidance for building this AI agent. Could you request assistance for me?\n",
            "==================================\u001b[1m Ai Message \u001b[0m==================================\n",
            "Tool Calls:\n",
            "  RequestAssistance (6e317345-70fb-4f0b-bc39-520a6071ddf7)\n",
            " Call ID: 6e317345-70fb-4f0b-bc39-520a6071ddf7\n",
            "  Args:\n",
            "    request: I need some expert guidance for building this AI agent.\n"
          ]
        }
      ]
    },
    {
      "cell_type": "code",
      "source": [
        "snapshot = graph.get_state(config)\n",
        "snapshot.next"
      ],
      "metadata": {
        "colab": {
          "base_uri": "https://localhost:8080/"
        },
        "id": "jegWVxL3MTh6",
        "outputId": "066099fe-5402-46a0-b071-687c94be620f"
      },
      "execution_count": 64,
      "outputs": [
        {
          "output_type": "execute_result",
          "data": {
            "text/plain": [
              "('human',)"
            ]
          },
          "metadata": {},
          "execution_count": 64
        }
      ]
    },
    {
      "cell_type": "markdown",
      "source": [
        "Graph state waqai 'human' node se pehle interrupt hota hai. Iss scenario mein hum 'expert' ke tor par act kar sakte hain aur manually state ko update kar sakte hain by adding ek naya ToolMessage apne input ke sath.\n",
        "\n",
        "Agla step ye hai ke chatbot ke request ka jawab dein by:\n",
        "\n",
        "Apne response ke sath ek ToolMessage create karna jo chatbot ko wapas bhej diya jayega.\n",
        "update_state ko call kar ke graph state ko manually update karna.\""
      ],
      "metadata": {
        "id": "5IQikgVjh_T1"
      }
    },
    {
      "cell_type": "code",
      "source": [
        "ai_message = snapshot.values[\"messages\"][-1]"
      ],
      "metadata": {
        "id": "NoSnzFlqXRT2"
      },
      "execution_count": 65,
      "outputs": []
    },
    {
      "cell_type": "code",
      "source": [
        "\n",
        "human_response = (\n",
        "    \"We, the experts are here to help! We'd recommend you check out LangGraph to build your agent.\"\n",
        "    \" It's much more reliable and extensible than simple autonomous agents.\"\n",
        ")\n",
        "# human na chatbot ko manulay response dya ha\n",
        "tool_message = create_response(human_response, ai_message)\n",
        "# human ka response or ai ki id bnarha hai jo tool msg ma store hojaiga.\n",
        "graph.update_state(config, {\"messages\": [tool_message]})\n",
        "# human ka response tool msg ma store hogya ha"
      ],
      "metadata": {
        "colab": {
          "base_uri": "https://localhost:8080/"
        },
        "id": "L-GTxlKLMXdE",
        "outputId": "babbc656-5d3f-4837-cb2c-67003a897c5e"
      },
      "execution_count": 66,
      "outputs": [
        {
          "output_type": "execute_result",
          "data": {
            "text/plain": [
              "{'configurable': {'thread_id': '10',\n",
              "  'checkpoint_ns': '',\n",
              "  'checkpoint_id': '1ef9def3-2174-6853-8002-b05c9a4dafb2'}}"
            ]
          },
          "metadata": {},
          "execution_count": 66
        }
      ]
    },
    {
      "cell_type": "code",
      "source": [
        "tool_message"
      ],
      "metadata": {
        "colab": {
          "base_uri": "https://localhost:8080/"
        },
        "id": "Wo0FUxObjFpE",
        "outputId": "acb2f762-75a7-4a9e-fbdc-558c3486383f"
      },
      "execution_count": 67,
      "outputs": [
        {
          "output_type": "execute_result",
          "data": {
            "text/plain": [
              "ToolMessage(content=\"We, the experts are here to help! We'd recommend you check out LangGraph to build your agent. It's much more reliable and extensible than simple autonomous agents.\", id='ad22822b-eb6e-491e-a759-e8cb8671bcdb', tool_call_id='6e317345-70fb-4f0b-bc39-520a6071ddf7')"
            ]
          },
          "metadata": {},
          "execution_count": 67
        }
      ]
    },
    {
      "cell_type": "code",
      "source": [
        "for m in graph.get_state(config).values[\"messages\"]:\n",
        "  m.pretty_print()\n",
        "# iska kaam hai chatbot ke state mein se messages retrieve karna."
      ],
      "metadata": {
        "colab": {
          "base_uri": "https://localhost:8080/"
        },
        "id": "ZbTFdsUKMeLD",
        "outputId": "576fd62d-ad70-4b5d-ef7d-07b2cc1c3a32"
      },
      "execution_count": 68,
      "outputs": [
        {
          "output_type": "stream",
          "name": "stdout",
          "text": [
            "================================\u001b[1m Human Message \u001b[0m=================================\n",
            "\n",
            "I need some expert guidance for building this AI agent. Could you request assistance for me?\n",
            "==================================\u001b[1m Ai Message \u001b[0m==================================\n",
            "Tool Calls:\n",
            "  RequestAssistance (6e317345-70fb-4f0b-bc39-520a6071ddf7)\n",
            " Call ID: 6e317345-70fb-4f0b-bc39-520a6071ddf7\n",
            "  Args:\n",
            "    request: I need some expert guidance for building this AI agent.\n",
            "=================================\u001b[1m Tool Message \u001b[0m=================================\n",
            "\n",
            "We, the experts are here to help! We'd recommend you check out LangGraph to build your agent. It's much more reliable and extensible than simple autonomous agents.\n"
          ]
        }
      ]
    },
    {
      "cell_type": "code",
      "source": [
        "events = graph.stream(None, config, stream_mode=\"values\")\n",
        "for event in events:\n",
        "    if \"messages\" in event:\n",
        "        event[\"messages\"][-1].pretty_print()"
      ],
      "metadata": {
        "colab": {
          "base_uri": "https://localhost:8080/"
        },
        "id": "P2BgJJTIMhK0",
        "outputId": "bb20e757-adcf-4f18-c3c3-9d7d60653a11"
      },
      "execution_count": 69,
      "outputs": [
        {
          "output_type": "stream",
          "name": "stdout",
          "text": [
            "=================================\u001b[1m Tool Message \u001b[0m=================================\n",
            "\n",
            "We, the experts are here to help! We'd recommend you check out LangGraph to build your agent. It's much more reliable and extensible than simple autonomous agents.\n",
            "=================================\u001b[1m Tool Message \u001b[0m=================================\n",
            "\n",
            "We, the experts are here to help! We'd recommend you check out LangGraph to build your agent. It's much more reliable and extensible than simple autonomous agents.\n",
            "==================================\u001b[1m Ai Message \u001b[0m==================================\n",
            "\n",
            "Okay, I've requested assistance from an expert. They recommend checking out LangGraph for building an AI agent. It's apparently more reliable and extensible than basic autonomous agents.\n"
          ]
        }
      ]
    },
    {
      "cell_type": "code",
      "source": [],
      "metadata": {
        "id": "HGs_zX7ylGRF"
      },
      "execution_count": null,
      "outputs": []
    },
    {
      "cell_type": "markdown",
      "source": [
        "# ***Part 7: Time Travel¶***\n",
        "Ek typical chatbot workflow mein, user ek ya us se zyada dafa bot ke saath interact karta hai taakay ek task ko poora kar sake. Pechlay sections mein, humne dekha ke kaise memory aur human-in-the-loop add ki ja sakti hai taakay apne graph state ko checkpoint kar sakein aur manually state ko override kar ke future responses ko control kar sakein.\n",
        "\n",
        "Lekin agar aap chahte hain ke user kisi pehle wale response se shuru kare aur 'branch off' ho kar ek alag outcome explore kare? Ya agar aap users ko assistant ke kaam ko 'rewind' karne ka ikhtiyar dena chahte hain taakay wo kuch galtiyan theek kar saken ya ek mukhtalif strategy try kar saken (jo ke applications jaise autonomous software engineers mein aam hai)?\n",
        "\n",
        "Aap in dono experiences aur is se bhi zyada kuch LangGraph ke built-in 'time travel' functionality ka istemal kar ke create kar sakte hain.\n",
        "\n",
        "Is section mein, aap apne graph ko 'rewind' karenge by fetching ek checkpoint graph ke get_state_history method ka istemal kar ke. Phir aap execution ko iss pechlay waqt ke point par resume kar sakte hain.\n",
        "\n",
        "Pehle, apne chatbot graph ko recall karen. Humein pehle se kisi bhi tareeke mein changes karne ki zaroorat nahi hai.\"\n",
        "\n",
        "\n",
        "\n",
        "\n",
        "\n",
        "\n"
      ],
      "metadata": {
        "id": "6WwTI3JdZN4G"
      }
    },
    {
      "cell_type": "code",
      "source": [
        "to_replay = None\n",
        "for state in graph.get_state_history(config):\n",
        "\n",
        "    print(\"Num Messages: \", len(state.values[\"messages\"]), \"Next: \", state.next)\n",
        "    print(\"-\" * 80)\n",
        "    if len(state.values[\"messages\"]) == 6:\n",
        "        # We are somewhat arbitrarily selecting a specific state based on the number of chat messages in the state.\n",
        "        to_replay = state"
      ],
      "metadata": {
        "colab": {
          "base_uri": "https://localhost:8080/"
        },
        "id": "wgy6SB3dZr08",
        "outputId": "c41c64f4-bea4-4f1b-e43b-5d10f926126b"
      },
      "execution_count": 77,
      "outputs": [
        {
          "output_type": "stream",
          "name": "stdout",
          "text": [
            "Num Messages:  4 Next:  ()\n",
            "--------------------------------------------------------------------------------\n",
            "Num Messages:  3 Next:  ('chatbot',)\n",
            "--------------------------------------------------------------------------------\n",
            "Num Messages:  3 Next:  ('human',)\n",
            "--------------------------------------------------------------------------------\n",
            "Num Messages:  2 Next:  ('human',)\n",
            "--------------------------------------------------------------------------------\n",
            "Num Messages:  1 Next:  ('chatbot',)\n",
            "--------------------------------------------------------------------------------\n",
            "Num Messages:  0 Next:  ('__start__',)\n",
            "--------------------------------------------------------------------------------\n"
          ]
        }
      ]
    },
    {
      "cell_type": "markdown",
      "source": [
        "\"Note karen ke checkpoints har graph ke step ke liye save kiye jate hain. Yeh invocations ko span karte hain, is tarah aap poori thread ki history mein rewind kar sakte hain. Humne to_replay ko ek state ke tor par resume karne ke liye chuna hai. Yeh state upar wale second graph invocation mein chatbot node ke baad wali hai.\n",
        "\n",
        "Is point se resume karne ka matlab hai ke agla action node call kiya jana chahiye.\""
      ],
      "metadata": {
        "id": "S5k1rv7xZ32S"
      }
    },
    {
      "cell_type": "code",
      "source": [
        "snapshot = graph.get_state(config)\n",
        "\n",
        "print(snapshot.next)\n",
        "for m in graph.get_state(config).values[\"messages\"]:\n",
        "  m.pretty_print()"
      ],
      "metadata": {
        "colab": {
          "base_uri": "https://localhost:8080/"
        },
        "id": "C4S2KxWHcnzN",
        "outputId": "45a07d18-2f18-4335-977a-b677ae3b15ca"
      },
      "execution_count": 80,
      "outputs": [
        {
          "output_type": "stream",
          "name": "stdout",
          "text": [
            "()\n",
            "================================\u001b[1m Human Message \u001b[0m=================================\n",
            "\n",
            "I need some expert guidance for building this AI agent. Could you request assistance for me?\n",
            "==================================\u001b[1m Ai Message \u001b[0m==================================\n",
            "Tool Calls:\n",
            "  RequestAssistance (6e317345-70fb-4f0b-bc39-520a6071ddf7)\n",
            " Call ID: 6e317345-70fb-4f0b-bc39-520a6071ddf7\n",
            "  Args:\n",
            "    request: I need some expert guidance for building this AI agent.\n",
            "=================================\u001b[1m Tool Message \u001b[0m=================================\n",
            "\n",
            "We, the experts are here to help! We'd recommend you check out LangGraph to build your agent. It's much more reliable and extensible than simple autonomous agents.\n",
            "==================================\u001b[1m Ai Message \u001b[0m==================================\n",
            "\n",
            "Okay, I've requested assistance from an expert. They recommend checking out LangGraph for building an AI agent. It's apparently more reliable and extensible than basic autonomous agents.\n"
          ]
        }
      ]
    },
    {
      "cell_type": "code",
      "source": [
        "events = graph.stream(None, config, stream_mode=\"values\")\n",
        "for event in events:\n",
        "    if \"messages\" in event:\n",
        "        event[\"messages\"][-1].pretty_print()"
      ],
      "metadata": {
        "colab": {
          "base_uri": "https://localhost:8080/"
        },
        "id": "hFtiT5UWdeBd",
        "outputId": "7f30b8ea-0f8e-4333-c664-e7bee5378157"
      },
      "execution_count": 73,
      "outputs": [
        {
          "output_type": "stream",
          "name": "stdout",
          "text": [
            "==================================\u001b[1m Ai Message \u001b[0m==================================\n",
            "\n",
            "Okay, I've requested assistance from an expert. They recommend checking out LangGraph for building an AI agent. It's apparently more reliable and extensible than basic autonomous agents.\n"
          ]
        }
      ]
    },
    {
      "cell_type": "markdown",
      "source": [
        "\"Note karein ke graph ne execution ko action node se resume kiya. Aap ye isliye keh sakte hain kyun ke sab se pehla value jo print hui hai wo hamare search engine tool ka response hai.\n",
        "\n",
        "Mubarak ho! Ab aapne LangGraph mein time-travel checkpoint traversal ka istemal kar liya hai. Rewind kar ke alternative paths ko explore karne ki ability se debugging, experimentation, aur interactive applications ke liye kai new possibilities khulti hain.\n",
        "\n",
        "Conclusion: Mubarak ho! Aapne intro tutorial mukammal kar liya aur LangGraph mein ek aisa chatbot build kiya jo tool calling, persistent memory, human-in-the-loop interactivity, aur hatta ke time-travel ko support karta hai!\n",
        "\n",
        "LangGraph documentation ek zabardast resource hai jo library ki capabilities mein aur gehraai se jane ke liye madadgar hai.\""
      ],
      "metadata": {
        "id": "oQiuPwvGpoMw"
      }
    }
  ]
}