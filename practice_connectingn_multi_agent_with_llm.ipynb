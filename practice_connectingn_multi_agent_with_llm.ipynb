{
  "nbformat": 4,
  "nbformat_minor": 0,
  "metadata": {
    "colab": {
      "provenance": [],
      "authorship_tag": "ABX9TyNFPlMqTzks02q1ftSwnWPv",
      "include_colab_link": true
    },
    "kernelspec": {
      "name": "python3",
      "display_name": "Python 3"
    },
    "language_info": {
      "name": "python"
    }
  },
  "cells": [
    {
      "cell_type": "markdown",
      "metadata": {
        "id": "view-in-github",
        "colab_type": "text"
      },
      "source": [
        "<a href=\"https://colab.research.google.com/github/NAVEED261/MY-AI-ASSISTANT/blob/main/practice_connectingn_multi_agent_with_llm.ipynb\" target=\"_parent\"><img src=\"https://colab.research.google.com/assets/colab-badge.svg\" alt=\"Open In Colab\"/></a>"
      ]
    },
    {
      "cell_type": "code",
      "execution_count": 27,
      "metadata": {
        "id": "kp5H3xgjk7He"
      },
      "outputs": [],
      "source": [
        "%pip install -q -U langchain langgraph\n",
        "%pip install -q -U langchain-google-genai langchain_core"
      ]
    },
    {
      "cell_type": "code",
      "source": [
        "from google.colab import userdata\n",
        "google_api_key = userdata.get('my_stenographer_key')\n",
        "from google.colab import userdata\n",
        "from langchain_google_genai import ChatGoogleGenerativeAI\n",
        "from langchain_core.messages.ai import AIMessage\n",
        "from IPython.display import Image, display # Preview Graph\n",
        "from typing_extensions import TypedDict\n",
        "from langgraph.graph import StateGraph, START, END\n",
        "from langgraph.graph.state import CompiledStateGraph # type\n",
        "llm: ChatGoogleGenerativeAI = ChatGoogleGenerativeAI(\n",
        "    model=\"gemini-1.5-flash\",  # Specify the model to use\n",
        "    api_key=google_api_key,     # Provide the Google API key for authentication\n",
        ")\n"
      ],
      "metadata": {
        "id": "DTPfU7_NoqxE"
      },
      "execution_count": 28,
      "outputs": []
    },
    {
      "cell_type": "code",
      "source": [
        "class FirstLLMAgentCall(TypedDict):\n",
        "    prompt: str\n",
        "    output: str\n",
        "    # this is state or structure"
      ],
      "metadata": {
        "id": "SUeN8bMDpToT"
      },
      "execution_count": 29,
      "outputs": []
    },
    {
      "cell_type": "code",
      "source": [
        "def node_1(state: FirstLLMAgentCall):\n",
        "  # state ek dictionary hogi us ma prompt hoga\n",
        "    print(\"---Node 1---\", state)\n",
        "    # initially state ko print krwaya\n",
        "\n",
        "    call_llm = state[\"prompt\"]\n",
        "    # state k ma jo b new prompt hoga wo call_llm ma store hoga\n",
        "    response = llm.invoke(call_llm)\n",
        "    # llm ko call kr k new prompt lya or response ma stre krdya\n",
        "    return {\"output\": response.content}\n",
        "    # state ka jo b output ai ga .content ma rakhana\n",
        "def node_2(state: FirstLLMAgentCall):\n",
        "  # state ek dictionary hogi us ma prompt hoga\n",
        "    print(\"---Node 2---\", state)\n",
        "    # initially state ko print krwaya\n",
        "\n",
        "    call_llm = state[\"prompt\"]\n",
        "    # state k ma jo b new prompt hoga wo call_llm ma store hoga\n",
        "    response = llm.invoke(call_llm)\n",
        "    # llm ko call kr k new prompt lya or response ma stre krdya\n",
        "    return {\"output\": response.content}\n",
        "    # state ka jo b output ai ga .content ma rakhana\n",
        "def node_3(state: FirstLLMAgentCall):\n",
        "  # state ek dictionary hogi us ma prompt hoga\n",
        "    print(\"---Node 3--\", state)\n",
        "    # initially state ko print krwaya\n",
        "\n",
        "    call_llm = state[\"prompt\"]\n",
        "    # state k ma jo b new prompt hoga wo call_llm ma store hoga\n",
        "    response = llm.invoke(call_llm)\n",
        "    # llm ko call kr k new prompt lya or response ma stre krdya\n",
        "    return {\"output\": response.content}\n",
        "    # state ka jo b output ai ga .content ma rakhana\n"
      ],
      "metadata": {
        "id": "fl47kbXUpXrp"
      },
      "execution_count": 30,
      "outputs": []
    },
    {
      "cell_type": "code",
      "source": [
        "import random\n",
        "\n",
        "random.random()\n"
      ],
      "metadata": {
        "colab": {
          "base_uri": "https://localhost:8080/"
        },
        "id": "ESPDGNz9pZ5r",
        "outputId": "a1bbf8d2-d361-47b5-b903-237a2e9fcc8c"
      },
      "execution_count": 31,
      "outputs": [
        {
          "output_type": "execute_result",
          "data": {
            "text/plain": [
              "0.694730339739731"
            ]
          },
          "metadata": {},
          "execution_count": 31
        }
      ]
    },
    {
      "cell_type": "code",
      "source": [
        "import random\n",
        "\n",
        "number: float = random.random()\n",
        "\n",
        "if number < 0.5:\n",
        "    print(\"go to node_2!\")\n",
        "else:\n",
        "    print(\"go to node_3\")\n",
        "\n",
        "# What does this do?\n",
        "# The code generates a random number between 0 and 1 and checks if it is less than 0.5.\n",
        "# If it's less than 0.5, it prints \"The random number is less than 0.5!\".\n",
        "# If it's 0.5 or more, it prints \"The random number is 0.5 or more!\".\n",
        "# The output will be different every time because of the random number!"
      ],
      "metadata": {
        "colab": {
          "base_uri": "https://localhost:8080/"
        },
        "id": "CKkuEOs7psZT",
        "outputId": "e6ddb285-ea4c-4514-fcb9-19f73b3f616c"
      },
      "execution_count": 32,
      "outputs": [
        {
          "output_type": "stream",
          "name": "stdout",
          "text": [
            "go to node_2!\n"
          ]
        }
      ]
    },
    {
      "cell_type": "code",
      "source": [
        "import random\n",
        "from typing import Literal\n",
        "\n",
        "def decide_mood(state: FirstLLMAgentCall) -> Literal[\"node_2\", \"node_3\"]:\n",
        "\n",
        "    # Often, we will use state to decide on the next node to visit\n",
        "    user_input = state['user_input']\n",
        "\n",
        "    # Here, let's just do a 50 / 50 split between nodes 2, 3\n",
        "    if random.random() < 0.5:\n",
        "\n",
        "        # 50% of the time, we return Node 2\n",
        "        return \"node_2\"\n",
        "\n",
        "    # 50% of the time, we return Node 3\n",
        "    return \"node_3\""
      ],
      "metadata": {
        "id": "LZ6LPHpqp3XD"
      },
      "execution_count": 33,
      "outputs": []
    },
    {
      "cell_type": "code",
      "source": [
        "# Build graph\n",
        "builder: StateGraph = StateGraph(FirstLLMAgentCall)\n",
        "builder.add_node(\"node_1\", node_1)\n",
        "builder.add_node(\"node_2\", node_2)\n",
        "builder.add_node(\"node_3\", node_3)\n",
        "\n",
        "# Logic\n",
        "builder.add_edge(START, \"node_1\")\n",
        "builder.add_conditional_edges(\"node_1\", decide_mood)\n",
        "builder.add_edge(\"node_2\", END)\n",
        "builder.add_edge(\"node_3\", END)\n",
        "\n",
        "\n",
        "# Add\n",
        "graph: CompiledStateGraph = builder.compile()\n",
        "\n",
        "# View\n",
        "display(Image(graph.get_graph().draw_mermaid_png()))"
      ],
      "metadata": {
        "colab": {
          "base_uri": "https://localhost:8080/",
          "height": 350
        },
        "id": "nD5-VX2UqC_T",
        "outputId": "24fb92be-5b9b-4fa6-8ee2-4f14360679c8"
      },
      "execution_count": 34,
      "outputs": [
        {
          "output_type": "display_data",
          "data": {
            "image/png": "[encoded data removed]",
            "text/plain": [
              "<IPython.core.display.Image object>"
            ]
          },
          "metadata": {}
        }
      ]
    },
    {
      "cell_type": "code",
      "source": [
        "graph.invoke({\" prompt\" : \"Hi, this is Lance.\"})"
      ],
      "metadata": {
        "colab": {
          "base_uri": "https://localhost:8080/",
          "height": 287
        },
        "id": "7U_cTn0Eqa7r",
        "outputId": "28196318-2db8-458e-b450-1e7b9102964e"
      },
      "execution_count": 35,
      "outputs": [
        {
          "output_type": "error",
          "ename": "InvalidUpdateError",
          "evalue": "Expected node prompt to update at least one of ['prompt', 'output'], got {' prompt': 'Hi, this is Lance.'}",
          "traceback": [
            "\u001b[0;31m---------------------------------------------------------------------------\u001b[0m",
            "\u001b[0;31mInvalidUpdateError\u001b[0m                        Traceback (most recent call last)",
            "\u001b[0;32m<ipython-input-35-ed45ea25fe4c>\u001b[0m in \u001b[0;36m<cell line: 1>\u001b[0;34m()\u001b[0m\n\u001b[0;32m----> 1\u001b[0;31m \u001b[0mgraph\u001b[0m\u001b[0;34m.\u001b[0m\u001b[0minvoke\u001b[0m\u001b[0;34m(\u001b[0m\u001b[0;34m{\u001b[0m\u001b[0;34m\" prompt\"\u001b[0m \u001b[0;34m:\u001b[0m \u001b[0;34m\"Hi, this is Lance.\"\u001b[0m\u001b[0;34m}\u001b[0m\u001b[0;34m)\u001b[0m\u001b[0;34m\u001b[0m\u001b[0;34m\u001b[0m\u001b[0m\n\u001b[0m",
            "\u001b[0;32m/usr/local/lib/python3.10/dist-packages/langgraph/pregel/__init__.py\u001b[0m in \u001b[0;36minvoke\u001b[0;34m(self, input, config, stream_mode, output_keys, interrupt_before, interrupt_after, debug, **kwargs)\u001b[0m\n\u001b[1;32m   1747\u001b[0m         \u001b[0;32melse\u001b[0m\u001b[0;34m:\u001b[0m\u001b[0;34m\u001b[0m\u001b[0;34m\u001b[0m\u001b[0m\n\u001b[1;32m   1748\u001b[0m             \u001b[0mchunks\u001b[0m \u001b[0;34m=\u001b[0m \u001b[0;34m[\u001b[0m\u001b[0;34m]\u001b[0m\u001b[0;34m\u001b[0m\u001b[0;34m\u001b[0m\u001b[0m\n\u001b[0;32m-> 1749\u001b[0;31m         for chunk in self.stream(\n\u001b[0m\u001b[1;32m   1750\u001b[0m             \u001b[0minput\u001b[0m\u001b[0;34m,\u001b[0m\u001b[0;34m\u001b[0m\u001b[0;34m\u001b[0m\u001b[0m\n\u001b[1;32m   1751\u001b[0m             \u001b[0mconfig\u001b[0m\u001b[0;34m,\u001b[0m\u001b[0;34m\u001b[0m\u001b[0;34m\u001b[0m\u001b[0m\n",
            "\u001b[0;32m/usr/local/lib/python3.10/dist-packages/langgraph/pregel/__init__.py\u001b[0m in \u001b[0;36mstream\u001b[0;34m(self, input, config, stream_mode, output_keys, interrupt_before, interrupt_after, debug, subgraphs)\u001b[0m\n\u001b[1;32m   1475\u001b[0m                     \u001b[0mmanager\u001b[0m\u001b[0;34m=\u001b[0m\u001b[0mrun_manager\u001b[0m\u001b[0;34m,\u001b[0m\u001b[0;34m\u001b[0m\u001b[0;34m\u001b[0m\u001b[0m\n\u001b[1;32m   1476\u001b[0m                 ):\n\u001b[0;32m-> 1477\u001b[0;31m                     for _ in runner.tick(\n\u001b[0m\u001b[1;32m   1478\u001b[0m                         \u001b[0mloop\u001b[0m\u001b[0;34m.\u001b[0m\u001b[0mtasks\u001b[0m\u001b[0;34m.\u001b[0m\u001b[0mvalues\u001b[0m\u001b[0;34m(\u001b[0m\u001b[0;34m)\u001b[0m\u001b[0;34m,\u001b[0m\u001b[0;34m\u001b[0m\u001b[0;34m\u001b[0m\u001b[0m\n\u001b[1;32m   1479\u001b[0m                         \u001b[0mtimeout\u001b[0m\u001b[0;34m=\u001b[0m\u001b[0mself\u001b[0m\u001b[0;34m.\u001b[0m\u001b[0mstep_timeout\u001b[0m\u001b[0;34m,\u001b[0m\u001b[0;34m\u001b[0m\u001b[0;34m\u001b[0m\u001b[0m\n",
            "\u001b[0;32m/usr/local/lib/python3.10/dist-packages/langgraph/pregel/runner.py\u001b[0m in \u001b[0;36mtick\u001b[0;34m(self, tasks, reraise, timeout, retry_policy, get_waiter)\u001b[0m\n\u001b[1;32m     56\u001b[0m             \u001b[0mt\u001b[0m \u001b[0;34m=\u001b[0m \u001b[0mtasks\u001b[0m\u001b[0;34m[\u001b[0m\u001b[0;36m0\u001b[0m\u001b[0;34m]\u001b[0m\u001b[0;34m\u001b[0m\u001b[0;34m\u001b[0m\u001b[0m\n\u001b[1;32m     57\u001b[0m             \u001b[0;32mtry\u001b[0m\u001b[0;34m:\u001b[0m\u001b[0;34m\u001b[0m\u001b[0;34m\u001b[0m\u001b[0m\n\u001b[0;32m---> 58\u001b[0;31m                 \u001b[0mrun_with_retry\u001b[0m\u001b[0;34m(\u001b[0m\u001b[0mt\u001b[0m\u001b[0;34m,\u001b[0m \u001b[0mretry_policy\u001b[0m\u001b[0;34m)\u001b[0m\u001b[0;34m\u001b[0m\u001b[0;34m\u001b[0m\u001b[0m\n\u001b[0m\u001b[1;32m     59\u001b[0m                 \u001b[0mself\u001b[0m\u001b[0;34m.\u001b[0m\u001b[0mcommit\u001b[0m\u001b[0;34m(\u001b[0m\u001b[0mt\u001b[0m\u001b[0;34m,\u001b[0m \u001b[0;32mNone\u001b[0m\u001b[0;34m)\u001b[0m\u001b[0;34m\u001b[0m\u001b[0;34m\u001b[0m\u001b[0m\n\u001b[1;32m     60\u001b[0m             \u001b[0;32mexcept\u001b[0m \u001b[0mException\u001b[0m \u001b[0;32mas\u001b[0m \u001b[0mexc\u001b[0m\u001b[0;34m:\u001b[0m\u001b[0;34m\u001b[0m\u001b[0;34m\u001b[0m\u001b[0m\n",
            "\u001b[0;32m/usr/local/lib/python3.10/dist-packages/langgraph/pregel/retry.py\u001b[0m in \u001b[0;36mrun_with_retry\u001b[0;34m(task, retry_policy)\u001b[0m\n\u001b[1;32m     27\u001b[0m             \u001b[0mtask\u001b[0m\u001b[0;34m.\u001b[0m\u001b[0mwrites\u001b[0m\u001b[0;34m.\u001b[0m\u001b[0mclear\u001b[0m\u001b[0;34m(\u001b[0m\u001b[0;34m)\u001b[0m\u001b[0;34m\u001b[0m\u001b[0;34m\u001b[0m\u001b[0m\n\u001b[1;32m     28\u001b[0m             \u001b[0;31m# run the task\u001b[0m\u001b[0;34m\u001b[0m\u001b[0;34m\u001b[0m\u001b[0m\n\u001b[0;32m---> 29\u001b[0;31m             \u001b[0mtask\u001b[0m\u001b[0;34m.\u001b[0m\u001b[0mproc\u001b[0m\u001b[0;34m.\u001b[0m\u001b[0minvoke\u001b[0m\u001b[0;34m(\u001b[0m\u001b[0mtask\u001b[0m\u001b[0;34m.\u001b[0m\u001b[0minput\u001b[0m\u001b[0;34m,\u001b[0m \u001b[0mconfig\u001b[0m\u001b[0;34m)\u001b[0m\u001b[0;34m\u001b[0m\u001b[0;34m\u001b[0m\u001b[0m\n\u001b[0m\u001b[1;32m     30\u001b[0m             \u001b[0;31m# if successful, end\u001b[0m\u001b[0;34m\u001b[0m\u001b[0;34m\u001b[0m\u001b[0m\n\u001b[1;32m     31\u001b[0m             \u001b[0;32mbreak\u001b[0m\u001b[0;34m\u001b[0m\u001b[0;34m\u001b[0m\u001b[0m\n",
            "\u001b[0;32m/usr/local/lib/python3.10/dist-packages/langgraph/utils/runnable.py\u001b[0m in \u001b[0;36minvoke\u001b[0;34m(self, input, config, **kwargs)\u001b[0m\n\u001b[1;32m    174\u001b[0m                 \u001b[0mcontext\u001b[0m \u001b[0;34m=\u001b[0m \u001b[0mcopy_context\u001b[0m\u001b[0;34m(\u001b[0m\u001b[0;34m)\u001b[0m\u001b[0;34m\u001b[0m\u001b[0;34m\u001b[0m\u001b[0m\n\u001b[1;32m    175\u001b[0m                 \u001b[0mcontext\u001b[0m\u001b[0;34m.\u001b[0m\u001b[0mrun\u001b[0m\u001b[0;34m(\u001b[0m\u001b[0m_set_config_context\u001b[0m\u001b[0;34m,\u001b[0m \u001b[0mchild_config\u001b[0m\u001b[0;34m)\u001b[0m\u001b[0;34m\u001b[0m\u001b[0;34m\u001b[0m\u001b[0m\n\u001b[0;32m--> 176\u001b[0;31m                 \u001b[0mret\u001b[0m \u001b[0;34m=\u001b[0m \u001b[0mcontext\u001b[0m\u001b[0;34m.\u001b[0m\u001b[0mrun\u001b[0m\u001b[0;34m(\u001b[0m\u001b[0mself\u001b[0m\u001b[0;34m.\u001b[0m\u001b[0mfunc\u001b[0m\u001b[0;34m,\u001b[0m \u001b[0minput\u001b[0m\u001b[0;34m,\u001b[0m \u001b[0;34m**\u001b[0m\u001b[0mkwargs\u001b[0m\u001b[0;34m)\u001b[0m\u001b[0;34m\u001b[0m\u001b[0;34m\u001b[0m\u001b[0m\n\u001b[0m\u001b[1;32m    177\u001b[0m             \u001b[0;32mexcept\u001b[0m \u001b[0mBaseException\u001b[0m \u001b[0;32mas\u001b[0m \u001b[0me\u001b[0m\u001b[0;34m:\u001b[0m\u001b[0;34m\u001b[0m\u001b[0;34m\u001b[0m\u001b[0m\n\u001b[1;32m    178\u001b[0m                 \u001b[0mrun_manager\u001b[0m\u001b[0;34m.\u001b[0m\u001b[0mon_chain_error\u001b[0m\u001b[0;34m(\u001b[0m\u001b[0me\u001b[0m\u001b[0;34m)\u001b[0m\u001b[0;34m\u001b[0m\u001b[0;34m\u001b[0m\u001b[0m\n",
            "\u001b[0;32m/usr/local/lib/python3.10/dist-packages/langgraph/pregel/write.py\u001b[0m in \u001b[0;36m_write\u001b[0;34m(self, input, config)\u001b[0m\n\u001b[1;32m     83\u001b[0m             \u001b[0;32mfor\u001b[0m \u001b[0mwrite\u001b[0m \u001b[0;32min\u001b[0m \u001b[0mself\u001b[0m\u001b[0;34m.\u001b[0m\u001b[0mwrites\u001b[0m\u001b[0;34m\u001b[0m\u001b[0;34m\u001b[0m\u001b[0m\n\u001b[1;32m     84\u001b[0m         ]\n\u001b[0;32m---> 85\u001b[0;31m         self.do_write(\n\u001b[0m\u001b[1;32m     86\u001b[0m             \u001b[0mconfig\u001b[0m\u001b[0;34m,\u001b[0m\u001b[0;34m\u001b[0m\u001b[0;34m\u001b[0m\u001b[0m\n\u001b[1;32m     87\u001b[0m             \u001b[0mwrites\u001b[0m\u001b[0;34m,\u001b[0m\u001b[0;34m\u001b[0m\u001b[0;34m\u001b[0m\u001b[0m\n",
            "\u001b[0;32m/usr/local/lib/python3.10/dist-packages/langgraph/pregel/write.py\u001b[0m in \u001b[0;36mdo_write\u001b[0;34m(config, writes, require_at_least_one_of)\u001b[0m\n\u001b[1;32m    123\u001b[0m         \u001b[0mentries\u001b[0m \u001b[0;34m=\u001b[0m \u001b[0;34m[\u001b[0m\u001b[0mwrite\u001b[0m \u001b[0;32mfor\u001b[0m \u001b[0mwrite\u001b[0m \u001b[0;32min\u001b[0m \u001b[0mwrites\u001b[0m \u001b[0;32mif\u001b[0m \u001b[0misinstance\u001b[0m\u001b[0;34m(\u001b[0m\u001b[0mwrite\u001b[0m\u001b[0;34m,\u001b[0m \u001b[0mChannelWriteEntry\u001b[0m\u001b[0;34m)\u001b[0m\u001b[0;34m]\u001b[0m\u001b[0;34m\u001b[0m\u001b[0;34m\u001b[0m\u001b[0m\n\u001b[1;32m    124\u001b[0m         \u001b[0;31m# process entries into values\u001b[0m\u001b[0;34m\u001b[0m\u001b[0;34m\u001b[0m\u001b[0m\n\u001b[0;32m--> 125\u001b[0;31m         values = [\n\u001b[0m\u001b[1;32m    126\u001b[0m             \u001b[0mwrite\u001b[0m\u001b[0;34m.\u001b[0m\u001b[0mmapper\u001b[0m\u001b[0;34m(\u001b[0m\u001b[0mwrite\u001b[0m\u001b[0;34m.\u001b[0m\u001b[0mvalue\u001b[0m\u001b[0;34m)\u001b[0m \u001b[0;32mif\u001b[0m \u001b[0mwrite\u001b[0m\u001b[0;34m.\u001b[0m\u001b[0mmapper\u001b[0m \u001b[0;32mis\u001b[0m \u001b[0;32mnot\u001b[0m \u001b[0;32mNone\u001b[0m \u001b[0;32melse\u001b[0m \u001b[0mwrite\u001b[0m\u001b[0;34m.\u001b[0m\u001b[0mvalue\u001b[0m\u001b[0;34m\u001b[0m\u001b[0;34m\u001b[0m\u001b[0m\n\u001b[1;32m    127\u001b[0m             \u001b[0;32mfor\u001b[0m \u001b[0mwrite\u001b[0m \u001b[0;32min\u001b[0m \u001b[0mentries\u001b[0m\u001b[0;34m\u001b[0m\u001b[0;34m\u001b[0m\u001b[0m\n",
            "\u001b[0;32m/usr/local/lib/python3.10/dist-packages/langgraph/pregel/write.py\u001b[0m in \u001b[0;36m<listcomp>\u001b[0;34m(.0)\u001b[0m\n\u001b[1;32m    124\u001b[0m         \u001b[0;31m# process entries into values\u001b[0m\u001b[0;34m\u001b[0m\u001b[0;34m\u001b[0m\u001b[0m\n\u001b[1;32m    125\u001b[0m         values = [\n\u001b[0;32m--> 126\u001b[0;31m             \u001b[0mwrite\u001b[0m\u001b[0;34m.\u001b[0m\u001b[0mmapper\u001b[0m\u001b[0;34m(\u001b[0m\u001b[0mwrite\u001b[0m\u001b[0;34m.\u001b[0m\u001b[0mvalue\u001b[0m\u001b[0;34m)\u001b[0m \u001b[0;32mif\u001b[0m \u001b[0mwrite\u001b[0m\u001b[0;34m.\u001b[0m\u001b[0mmapper\u001b[0m \u001b[0;32mis\u001b[0m \u001b[0;32mnot\u001b[0m \u001b[0;32mNone\u001b[0m \u001b[0;32melse\u001b[0m \u001b[0mwrite\u001b[0m\u001b[0;34m.\u001b[0m\u001b[0mvalue\u001b[0m\u001b[0;34m\u001b[0m\u001b[0;34m\u001b[0m\u001b[0m\n\u001b[0m\u001b[1;32m    127\u001b[0m             \u001b[0;32mfor\u001b[0m \u001b[0mwrite\u001b[0m \u001b[0;32min\u001b[0m \u001b[0mentries\u001b[0m\u001b[0;34m\u001b[0m\u001b[0;34m\u001b[0m\u001b[0m\n\u001b[1;32m    128\u001b[0m         ]\n",
            "\u001b[0;32m/usr/local/lib/python3.10/dist-packages/langgraph/graph/state.py\u001b[0m in \u001b[0;36m_get_state_key\u001b[0;34m(input, key)\u001b[0m\n\u001b[1;32m    635\u001b[0m             \u001b[0;32melif\u001b[0m \u001b[0misinstance\u001b[0m\u001b[0;34m(\u001b[0m\u001b[0minput\u001b[0m\u001b[0;34m,\u001b[0m \u001b[0mdict\u001b[0m\u001b[0;34m)\u001b[0m\u001b[0;34m:\u001b[0m\u001b[0;34m\u001b[0m\u001b[0;34m\u001b[0m\u001b[0m\n\u001b[1;32m    636\u001b[0m                 \u001b[0;32mif\u001b[0m \u001b[0mall\u001b[0m\u001b[0;34m(\u001b[0m\u001b[0mk\u001b[0m \u001b[0;32mnot\u001b[0m \u001b[0;32min\u001b[0m \u001b[0moutput_keys\u001b[0m \u001b[0;32mfor\u001b[0m \u001b[0mk\u001b[0m \u001b[0;32min\u001b[0m \u001b[0minput\u001b[0m\u001b[0;34m)\u001b[0m\u001b[0;34m:\u001b[0m\u001b[0;34m\u001b[0m\u001b[0;34m\u001b[0m\u001b[0m\n\u001b[0;32m--> 637\u001b[0;31m                     raise InvalidUpdateError(\n\u001b[0m\u001b[1;32m    638\u001b[0m                         \u001b[0;34mf\"Expected node {key} to update at least one of {output_keys}, got {input}\"\u001b[0m\u001b[0;34m\u001b[0m\u001b[0;34m\u001b[0m\u001b[0m\n\u001b[1;32m    639\u001b[0m                     )\n",
            "\u001b[0;31mInvalidUpdateError\u001b[0m: Expected node prompt to update at least one of ['prompt', 'output'], got {' prompt': 'Hi, this is Lance.'}"
          ]
        }
      ]
    },
    {
      "cell_type": "code",
      "source": [
        "# prompt: plz solve of last prompt error\n",
        "\n",
        "from google.colab import userdata\n",
        "from langchain_google_genai import ChatGoogleGenerativeAI\n",
        "from langchain_core.messages.ai import AIMessage\n",
        "from IPython.display import Image, display # Preview Graph\n",
        "from typing_extensions import TypedDict\n",
        "from langgraph.graph import StateGraph, START, END\n",
        "from langgraph.graph.state import CompiledStateGraph # type\n",
        "import random\n",
        "from typing import Literal\n",
        "# %pip install -q -U langchain langgraph\n",
        "# %pip install -q -U langchain-google-genai langchain_core\n",
        "\n",
        "\n",
        "# Assuming you have set your Google API key in userdata as 'my_stenographer_key'\n",
        "google_api_key = userdata.get('my_stenographer_key')\n",
        "\n",
        "if google_api_key is None:\n",
        "    raise ValueError(\"Google API key not found in userdata. Please set it as 'my_stenographer_key'.\")\n",
        "\n",
        "llm: ChatGoogleGenerativeAI = ChatGoogleGenerativeAI(\n",
        "    model=\"gemini-1.5-flash\",  # Specify the model to use\n",
        "    api_key=google_api_key,     # Provide the Google API key for authentication\n",
        ")\n",
        "\n",
        "class FirstLLMAgentCall(TypedDict):\n",
        "    prompt: str\n",
        "    output: str\n",
        "\n",
        "    # this is state or structure\n",
        "\n",
        "\n",
        "def node_1(state: FirstLLMAgentCall):\n",
        "  # state ek dictionary hogi us ma prompt hoga\n",
        "    print(\"---Node 1---\", state)\n",
        "    # initially state ko print krwaya\n",
        "\n",
        "    call_llm = state[\"prompt\"]\n",
        "    # state k ma jo b new prompt hoga wo call_llm ma store hoga\n",
        "    response = llm.invoke(call_llm)\n",
        "    # llm ko call kr k new prompt lya or response ma stre krdya\n",
        "    return {\"output\": response}\n",
        "    # state ka jo b output ai ga .content ma rakhana\n",
        "\n",
        "\n",
        "def node_2(state: FirstLLMAgentCall):\n",
        "  # state ek dictionary hogi us ma prompt hoga\n",
        "    print(\"---Node 2---\", state)\n",
        "    # initially state ko print krwaya\n",
        "\n",
        "    call_llm = state[\"prompt\"]\n",
        "    # state k ma jo b new prompt hoga wo call_llm ma store hoga\n",
        "    response = llm.invoke(call_llm)\n",
        "    # llm ko call kr k new prompt lya or response ma stre krdya\n",
        "    return {\"output\": response}\n",
        "    # state ka jo b output ai ga .content ma rakhana\n",
        "\n",
        "\n",
        "def node_3(state: FirstLLMAgentCall):\n",
        "  # state ek dictionary hogi us ma prompt hoga\n",
        "    print(\"---Node 3--\", state)\n",
        "    # initially state ko print krwaya\n",
        "\n",
        "    call_llm = state[\"prompt\"]\n",
        "    # state k ma jo b new prompt hoga wo call_llm ma store hoga\n",
        "    response = llm.invoke(call_llm)\n",
        "    # llm ko call kr k new prompt lya or response ma stre krdya\n",
        "    return {\"output\": response}\n",
        "    # state ka jo b output ai ga .content ma rakhana\n",
        "\n",
        "\n",
        "random.random()\n",
        "\n",
        "\n",
        "number: float = random.random()\n",
        "\n",
        "if number < 0.5:\n",
        "    print(\"go to node_2!\")\n",
        "else:\n",
        "    print(\"go to node_3\")\n",
        "\n",
        "# What does this do?\n",
        "# The code generates a random number between 0 and 1 and checks if it is less than 0.5.\n",
        "# If it's less than 0.5, it prints \"The random number is less than 0.5!\".\n",
        "# If it's 0.5 or more, it prints \"The random number is 0.5 or more!\".\n",
        "# The output will be different every time because of the random number!\n",
        "\n",
        "def decide_mood(state: FirstLLMAgentCall) -> Literal[\"umaima\", \"aqsa\"]:\n",
        "\n",
        "    # Often, we will use state to decide on the next node to visit\n",
        "\n",
        "\n",
        "    # Here, let's just do a 50 / 50 split between nodes 2, 3\n",
        "    if random.random() < 0.5:\n",
        "\n",
        "        # 50% of the time, we return Node 2\n",
        "        return \"umaima\"\n",
        "\n",
        "    # 50% of the time, we return Node 3\n",
        "    return \"aqsa\"\n",
        "\n",
        "\n",
        "# Build graph\n",
        "builder: StateGraph = StateGraph(FirstLLMAgentCall)\n",
        "builder.add_node(\"fatima\", node_1)\n",
        "builder.add_node(\"umaima\", node_2)\n",
        "builder.add_node(\"aqsa\", node_3)\n",
        "\n",
        "# Logic\n",
        "builder.add_edge(START, \"fatima\")\n",
        "builder.add_conditional_edges(\"fatima\", decide_mood)\n",
        "builder.add_edge(\"umaima\", END)\n",
        "builder.add_edge(\"aqsa\", END)\n",
        "\n",
        "\n",
        "# Add\n",
        "graph: CompiledStateGraph = builder.compile()\n",
        "\n",
        "# View\n",
        "display(Image(graph.get_graph().draw_mermaid_png()))\n",
        "graph.invoke({\"prompt\": \"Hello world\", \"user_input\" : \"Hi, this is Lance.\"})"
      ],
      "metadata": {
        "colab": {
          "base_uri": "https://localhost:8080/",
          "height": 544
        },
        "id": "Tj-mQyUsqptS",
        "outputId": "9191da31-edb6-4983-9262-790dcb2b20c8"
      },
      "execution_count": 47,
      "outputs": [
        {
          "output_type": "stream",
          "name": "stdout",
          "text": [
            "go to node_2!\n"
          ]
        },
        {
          "output_type": "display_data",
          "data": {
            "image/png": "[encoded data removed]",
            "text/plain": [
              "<IPython.core.display.Image object>"
            ]
          },
          "metadata": {}
        },
        {
          "output_type": "stream",
          "name": "stdout",
          "text": [
            "---Node 1--- {'prompt': 'Hello world'}\n",
            "---Node 3-- {'prompt': 'Hello world', 'output': AIMessage(content='Hello there! It\\'s nice to \"meet\" you. What can I do for you today? \\n', additional_kwargs={}, response_metadata={'prompt_feedback': {'block_reason': 0, 'safety_ratings': []}, 'finish_reason': 'STOP', 'safety_ratings': [{'category': 'HARM_CATEGORY_SEXUALLY_EXPLICIT', 'probability': 'NEGLIGIBLE', 'blocked': False}, {'category': 'HARM_CATEGORY_HATE_SPEECH', 'probability': 'NEGLIGIBLE', 'blocked': False}, {'category': 'HARM_CATEGORY_HARASSMENT', 'probability': 'NEGLIGIBLE', 'blocked': False}, {'category': 'HARM_CATEGORY_DANGEROUS_CONTENT', 'probability': 'NEGLIGIBLE', 'blocked': False}]}, id='run-32f7e4c5-1924-4451-b473-45cd80546e67-0', usage_metadata={'input_tokens': 3, 'output_tokens': 21, 'total_tokens': 24, 'input_token_details': {'cache_read': 0}})}\n"
          ]
        },
        {
          "output_type": "execute_result",
          "data": {
            "text/plain": [
              "{'prompt': 'Hello world',\n",
              " 'output': AIMessage(content=\"Hello world! It's nice to hear from you. What can I do for you today? \\n\", additional_kwargs={}, response_metadata={'prompt_feedback': {'block_reason': 0, 'safety_ratings': []}, 'finish_reason': 'STOP', 'safety_ratings': [{'category': 'HARM_CATEGORY_SEXUALLY_EXPLICIT', 'probability': 'NEGLIGIBLE', 'blocked': False}, {'category': 'HARM_CATEGORY_HATE_SPEECH', 'probability': 'NEGLIGIBLE', 'blocked': False}, {'category': 'HARM_CATEGORY_HARASSMENT', 'probability': 'NEGLIGIBLE', 'blocked': False}, {'category': 'HARM_CATEGORY_DANGEROUS_CONTENT', 'probability': 'NEGLIGIBLE', 'blocked': False}]}, id='run-a1a6af7d-3b5a-4034-b97d-e972f79a4cb1-0', usage_metadata={'input_tokens': 3, 'output_tokens': 21, 'total_tokens': 24, 'input_token_details': {'cache_read': 0}})}"
            ]
          },
          "metadata": {},
          "execution_count": 47
        }
      ]
    },
    {
      "cell_type": "code",
      "source": [
        "graph.invoke({\"prompt\": \"do u know about pakistan\"})"
      ],
      "metadata": {
        "colab": {
          "base_uri": "https://localhost:8080/"
        },
        "id": "wtiHMDIJrJSU",
        "outputId": "ed1390f5-7d41-4a2d-9703-d5d28728cffd"
      },
      "execution_count": 44,
      "outputs": [
        {
          "output_type": "stream",
          "name": "stdout",
          "text": [
            "---Node 1--- {'prompt': 'do u know about pakistan'}\n",
            "---Node 3-- {'prompt': 'do u know about pakistan', 'output': AIMessage(content=\"Yes, I do! I have access to a vast amount of information about Pakistan, including:\\n\\n* **Geography:**  Location, climate, topography, major cities, natural resources.\\n* **History:**  From ancient civilizations to the modern era, including the partition of India, political developments, and key historical figures.\\n* **Culture:**  Languages, traditions, art, music, cuisine, festivals, and social customs.\\n* **Economy:**  Industries, agriculture, trade, GDP, and major economic challenges.\\n* **Politics:**  Government structure, political parties, elections, and current events.\\n* **Society:**  Demographics, education, healthcare, social issues, and gender equality.\\n\\n**What specifically would you like to know about Pakistan?** \\n\\nFor example, you could ask:\\n\\n* What are the major tourist attractions in Pakistan?\\n* What are the challenges facing Pakistan's economy?\\n* What are the different ethnic groups in Pakistan?\\n* What is the history of Pakistan's relationship with India?\\n\\nI'm ready to answer your questions and provide you with information about Pakistan. \\n\", additional_kwargs={}, response_metadata={'prompt_feedback': {'block_reason': 0, 'safety_ratings': []}, 'finish_reason': 'STOP', 'safety_ratings': [{'category': 'HARM_CATEGORY_SEXUALLY_EXPLICIT', 'probability': 'NEGLIGIBLE', 'blocked': False}, {'category': 'HARM_CATEGORY_HATE_SPEECH', 'probability': 'NEGLIGIBLE', 'blocked': False}, {'category': 'HARM_CATEGORY_HARASSMENT', 'probability': 'NEGLIGIBLE', 'blocked': False}, {'category': 'HARM_CATEGORY_DANGEROUS_CONTENT', 'probability': 'NEGLIGIBLE', 'blocked': False}]}, id='run-64ad552c-362c-4863-9f41-c7c345a4581e-0', usage_metadata={'input_tokens': 6, 'output_tokens': 230, 'total_tokens': 236, 'input_token_details': {'cache_read': 0}})}\n"
          ]
        },
        {
          "output_type": "execute_result",
          "data": {
            "text/plain": [
              "{'prompt': 'do u know about pakistan',\n",
              " 'output': AIMessage(content=\"Yes, I do! I have access to a vast amount of information about Pakistan, including:\\n\\n* **Geography:** I know about its location, terrain, climate, and major cities.\\n* **History:** I'm familiar with its history, from its ancient origins to its independence in 1947. \\n* **Culture:** I can tell you about its diverse cultures, languages, religions, traditions, and arts. \\n* **Politics:** I know about its government, political system, and major political figures.\\n* **Economy:** I'm aware of its economic structure, industries, and challenges.\\n* **Society:** I have information about its demographics, social issues, and quality of life.\\n\\n**What would you like to know about Pakistan?**\\n\\nPlease be specific with your question so I can provide you with the most relevant information. For example, you could ask:\\n\\n* What are the main religions practiced in Pakistan?\\n* What are some famous landmarks in Pakistan?\\n* What are the biggest challenges facing Pakistan's economy? \\n* What are some interesting facts about Pakistani culture?\\n\\nI'm here to help you learn more about this fascinating country. \\n\", additional_kwargs={}, response_metadata={'prompt_feedback': {'block_reason': 0, 'safety_ratings': []}, 'finish_reason': 'STOP', 'safety_ratings': [{'category': 'HARM_CATEGORY_SEXUALLY_EXPLICIT', 'probability': 'NEGLIGIBLE', 'blocked': False}, {'category': 'HARM_CATEGORY_HATE_SPEECH', 'probability': 'NEGLIGIBLE', 'blocked': False}, {'category': 'HARM_CATEGORY_HARASSMENT', 'probability': 'NEGLIGIBLE', 'blocked': False}, {'category': 'HARM_CATEGORY_DANGEROUS_CONTENT', 'probability': 'NEGLIGIBLE', 'blocked': False}]}, id='run-5bdaf203-4e77-41a8-8642-415c6e1a6429-0', usage_metadata={'input_tokens': 6, 'output_tokens': 246, 'total_tokens': 252, 'input_token_details': {'cache_read': 0}})}"
            ]
          },
          "metadata": {},
          "execution_count": 44
        }
      ]
    },
    {
      "cell_type": "code",
      "source": [
        "graph.invoke({\"prompt\": \"what is current date in pakistan\"})"
      ],
      "metadata": {
        "colab": {
          "base_uri": "https://localhost:8080/"
        },
        "id": "uS87Mjfasd7k",
        "outputId": "017d7c9f-17ec-4aae-8256-481904397646"
      },
      "execution_count": 45,
      "outputs": [
        {
          "output_type": "stream",
          "name": "stdout",
          "text": [
            "---Node 1--- {'prompt': 'what is current date in pakistan'}\n",
            "---Node 3-- {'prompt': 'what is current date in pakistan', 'output': AIMessage(content=\"I do not have access to real-time information, including the current date. To get the current date in Pakistan, I recommend checking a reliable online source or your device's clock if it is set to the correct time zone. \\n\", additional_kwargs={}, response_metadata={'prompt_feedback': {'block_reason': 0, 'safety_ratings': []}, 'finish_reason': 'STOP', 'safety_ratings': [{'category': 'HARM_CATEGORY_SEXUALLY_EXPLICIT', 'probability': 'NEGLIGIBLE', 'blocked': False}, {'category': 'HARM_CATEGORY_HATE_SPEECH', 'probability': 'NEGLIGIBLE', 'blocked': False}, {'category': 'HARM_CATEGORY_HARASSMENT', 'probability': 'NEGLIGIBLE', 'blocked': False}, {'category': 'HARM_CATEGORY_DANGEROUS_CONTENT', 'probability': 'NEGLIGIBLE', 'blocked': False}]}, id='run-c9c9f9b7-c6e7-40dc-831d-b0fd7e7c97e2-0', usage_metadata={'input_tokens': 7, 'output_tokens': 47, 'total_tokens': 54, 'input_token_details': {'cache_read': 0}})}\n"
          ]
        },
        {
          "output_type": "execute_result",
          "data": {
            "text/plain": [
              "{'prompt': 'what is current date in pakistan',\n",
              " 'output': AIMessage(content='I do not have access to real-time information, including the current date in Pakistan. To get the most up-to-date information, I recommend checking a reliable online source such as a time zone website or a news website. \\n', additional_kwargs={}, response_metadata={'prompt_feedback': {'block_reason': 0, 'safety_ratings': []}, 'finish_reason': 'STOP', 'safety_ratings': [{'category': 'HARM_CATEGORY_SEXUALLY_EXPLICIT', 'probability': 'NEGLIGIBLE', 'blocked': False}, {'category': 'HARM_CATEGORY_HATE_SPEECH', 'probability': 'NEGLIGIBLE', 'blocked': False}, {'category': 'HARM_CATEGORY_HARASSMENT', 'probability': 'NEGLIGIBLE', 'blocked': False}, {'category': 'HARM_CATEGORY_DANGEROUS_CONTENT', 'probability': 'NEGLIGIBLE', 'blocked': False}]}, id='run-2f34a81b-6b51-4141-a6aa-285003c5ecd2-0', usage_metadata={'input_tokens': 7, 'output_tokens': 47, 'total_tokens': 54, 'input_token_details': {'cache_read': 0}})}"
            ]
          },
          "metadata": {},
          "execution_count": 45
        }
      ]
    }
  ]
}