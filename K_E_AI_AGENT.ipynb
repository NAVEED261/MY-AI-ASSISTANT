{
  "nbformat": 4,
  "nbformat_minor": 0,
  "metadata": {
    "colab": {
      "provenance": [],
      "authorship_tag": "ABX9TyPFbZFK8MhzBlKJyJZeZwnE",
      "include_colab_link": true
    },
    "kernelspec": {
      "name": "python3",
      "display_name": "Python 3"
    },
    "language_info": {
      "name": "python"
    }
  },
  "cells": [
    {
      "cell_type": "markdown",
      "metadata": {
        "id": "view-in-github",
        "colab_type": "text"
      },
      "source": [
        "<a href=\"https://colab.research.google.com/github/NAVEED261/MY-AI-ASSISTANT/blob/main/K_E_AI_AGENT.ipynb\" target=\"_parent\"><img src=\"https://colab.research.google.com/assets/colab-badge.svg\" alt=\"Open In Colab\"/></a>"
      ]
    },
    {
      "cell_type": "code",
      "execution_count": 4,
      "metadata": {
        "colab": {
          "base_uri": "https://localhost:8080/",
          "height": 266
        },
        "id": "aEtgXuAh9mf4",
        "outputId": "e44dddf9-4dd9-46e4-918d-0ee1c58f7443"
      },
      "outputs": [
        {
          "output_type": "display_data",
          "data": {
            "image/png": "[encoded data removed]",
            "text/plain": [
              "<IPython.core.display.Image object>"
            ]
          },
          "metadata": {}
        }
      ],
      "source": [
        "# Install necessary packages\n",
        "!pip install --quiet -U langchain_google_genai langchain_core langgraph\n",
        "\n",
        "from google.colab import userdata\n",
        "GEMINI_API_KEY = userdata.get('GOOGLE_API_KEY')\n",
        "LANGCHAIN_API_KEY = userdata.get('langchain')\n",
        "\n",
        "from langgraph.graph import START, StateGraph\n",
        "from langgraph.prebuilt import tools_condition, ToolNode\n",
        "from IPython.display import Image, display\n",
        "from langgraph.graph.state import CompiledStateGraph\n",
        "from langgraph.graph import MessagesState\n",
        "from langchain_core.messages import AIMessage, HumanMessage, SystemMessage\n",
        "from langgraph.checkpoint.memory import MemorySaver\n",
        "memory: MemorySaver = MemorySaver()\n",
        "\n",
        "\n",
        "# Initialize the language model (Gemini)\n",
        "llm = ChatGoogleGenerativeAI(model=\"gemini-1.5-flash\", api_key=GEMINI_API_KEY)\n",
        "\n",
        "# Tools: Define functions for electricity department tasks\n",
        "\n",
        "def check_power_outage_area(pincode: str) -> str:\n",
        "    \"\"\"\n",
        "    Check if there is a power outage in the user's area based on pincode.\n",
        "    Returns a message with the status and an estimated time of restoration if outage is present.\n",
        "    \"\"\"\n",
        "    # Mocked data for demonstration\n",
        "    outage_areas = {\n",
        "        \"110001\": {\"status\": \"outage\", \"restore_time\": \"2 hours\"},\n",
        "        \"110002\": {\"status\": \"no outage\", \"restore_time\": None},\n",
        "    }\n",
        "\n",
        "    info = outage_areas.get(pincode, {\"status\": \"no info\", \"restore_time\": None})\n",
        "    if info[\"status\"] == \"outage\":\n",
        "        return f\"There is a power outage in your area. Estimated restoration time is {info['restore_time']}.\"\n",
        "    elif info[\"status\"] == \"no outage\":\n",
        "        return \"There is currently no recorded outage in your area.\"\n",
        "    else:\n",
        "        return \"No information available for your area. Please contact customer support.\"\n",
        "\n",
        "def get_bill_info(consumer_number: str) -> str:\n",
        "    \"\"\"\n",
        "    Returns billing information based on consumer number.\n",
        "    \"\"\"\n",
        "    # Mocked data\n",
        "    bills = {\n",
        "        \"123456\": \"Your current outstanding amount is Rs. 500, due by the end of this month.\",\n",
        "        \"987654\": \"Your account is fully paid. No dues currently.\"\n",
        "    }\n",
        "\n",
        "    return bills.get(consumer_number, \"No billing information found for this consumer number.\")\n",
        "\n",
        "def complaint_status(complaint_id: str) -> str:\n",
        "    \"\"\"\n",
        "    Check complaint status based on complaint_id.\n",
        "    \"\"\"\n",
        "    # Mocked data\n",
        "    complaints = {\n",
        "        \"C-1001\": \"Your complaint is being processed. Estimated resolution in 24 hours.\",\n",
        "        \"C-1002\": \"Your complaint has been resolved. Please check your email for details.\"\n",
        "    }\n",
        "    return complaints.get(complaint_id, \"No information found for this complaint ID.\")\n",
        "\n",
        "# Prepare tools\n",
        "tools = [\n",
        "    check_power_outage_area,\n",
        "    get_bill_info,\n",
        "    complaint_status\n",
        "]\n",
        "\n",
        "# Bind tools to LLM\n",
        "llm_with_tools = llm.bind_tools(tools)\n",
        "\n",
        "# System message to define the AI Assistant role\n",
        "sys_msg = SystemMessage(content=(\n",
        "    \"You are a knowledgeable assistant for the Electricity Department. Your role is to provide \"\n",
        "    \"information about power outages, estimated restoration times, billing queries, and complaint \"\n",
        "    \"statuses. Always respond politely and professionally. If you cannot find information, \"\n",
        "    \"suggest contacting customer support.\"\n",
        "))\n",
        "\n",
        "# Define the assistant node\n",
        "def assistant(state: MessagesState) -> MessagesState:\n",
        "    return {\"messages\": [llm_with_tools.invoke([sys_msg] + state[\"messages\"])]}\n",
        "\n",
        "# Build the graph\n",
        "memory = MemorySaver()\n",
        "builder: StateGraph = StateGraph(MessagesState)\n",
        "builder.add_node(\"assistant\", assistant)\n",
        "builder.add_node(\"tools\", ToolNode(tools))\n",
        "builder.add_edge(START, \"assistant\")\n",
        "builder.add_conditional_edges(\"assistant\", tools_condition)\n",
        "builder.add_edge(\"tools\", \"assistant\")\n",
        "graph = builder.compile(checkpointer=memory)\n",
        "\n",
        "display(Image(graph.get_graph(xray=True).draw_mermaid_png()))"
      ]
    },
    {
      "cell_type": "code",
      "source": [
        "config1 = {\"configurable\": {\"thread_id\": \"1\"}}\n",
        "\n",
        "\n",
        "messages = graph.invoke({\"messages\": [HumanMessage(content=\"ASSALAMUALYUM I M NAVEED FROM KARACHI\")]},config1)\n",
        "for m in messages['messages']:\n",
        "    m.pretty_print()"
      ],
      "metadata": {
        "colab": {
          "base_uri": "https://localhost:8080/"
        },
        "id": "puMcNTFw_dOo",
        "outputId": "63acffbc-8c09-444a-c00a-993f63cc174f"
      },
      "execution_count": 5,
      "outputs": [
        {
          "output_type": "stream",
          "name": "stdout",
          "text": [
            "================================\u001b[1m Human Message \u001b[0m=================================\n",
            "\n",
            "ASSALAMUALYUM I M NAVEED FROM KARACHI\n",
            "==================================\u001b[1m Ai Message \u001b[0m==================================\n",
            "\n",
            "Assalamualykum Naveed!  How can I help you today?\n"
          ]
        }
      ]
    },
    {
      "cell_type": "code",
      "source": [
        "messages = graph.invoke({\"messages\": [HumanMessage(content=\"Light chali gai hai, Mera pincode 110001 hai, wapas kab aayegi?\")]}, config1)\n",
        "for m in messages['messages']:\n",
        "    print(m.content)"
      ],
      "metadata": {
        "colab": {
          "base_uri": "https://localhost:8080/"
        },
        "id": "AILXh9K__sHn",
        "outputId": "ee689207-27a6-4496-f7a7-1c49345c6242"
      },
      "execution_count": 6,
      "outputs": [
        {
          "output_type": "stream",
          "name": "stdout",
          "text": [
            "ASSALAMUALYUM I M NAVEED FROM KARACHI\n",
            "Assalamualykum Naveed!  How can I help you today?\n",
            "\n",
            "Light chali gai hai, Mera pincode 110001 hai, wapas kab aayegi?\n",
            "وعلیکم السلام!  Naveed,  I understand you're experiencing a power outage in the 110001 pincode area.  Let me check the status for you.\n",
            "\n",
            "\n",
            "There is a power outage in your area. Estimated restoration time is 2 hours.\n",
            "Naveed, I understand your electricity has gone out.  According to our system, there is a power outage in your area (pincode 110001). The estimated restoration time is within 2 hours.\n",
            "\n"
          ]
        }
      ]
    },
    {
      "cell_type": "code",
      "source": [
        "messages = graph.invoke({\"messages\": [HumanMessage(content=\"MY CONSUMER NUMBER IS  123456 . PLZ CHECK STATUS OF MY BILL.\")]}, config1)\n",
        "for m in messages['messages']:\n",
        "    print(m.content)"
      ],
      "metadata": {
        "colab": {
          "base_uri": "https://localhost:8080/"
        },
        "id": "NywVYJ40ACTu",
        "outputId": "9fe212f1-15f1-4522-f740-2cc14657343e"
      },
      "execution_count": 7,
      "outputs": [
        {
          "output_type": "stream",
          "name": "stdout",
          "text": [
            "ASSALAMUALYUM I M NAVEED FROM KARACHI\n",
            "Assalamualykum Naveed!  How can I help you today?\n",
            "\n",
            "Light chali gai hai, Mera pincode 110001 hai, wapas kab aayegi?\n",
            "وعلیکم السلام!  Naveed,  I understand you're experiencing a power outage in the 110001 pincode area.  Let me check the status for you.\n",
            "\n",
            "\n",
            "There is a power outage in your area. Estimated restoration time is 2 hours.\n",
            "Naveed, I understand your electricity has gone out.  According to our system, there is a power outage in your area (pincode 110001). The estimated restoration time is within 2 hours.\n",
            "\n",
            "MY CONSUMER NUMBER IS  123456 . PLZ CHECK STATUS OF MY BILL.\n",
            "\n",
            "Your current outstanding amount is Rs. 500, due by the end of this month.\n",
            "Certainly.  Your current outstanding bill is Rs. 500 and is due by the end of the month.\n",
            "\n"
          ]
        }
      ]
    },
    {
      "cell_type": "code",
      "source": [
        "messages = graph.invoke({\"messages\": [HumanMessage(content=\"My last month's bill for 201 units was 8,000, but now for 145 units it's 9,000. Check what has increased in rate. Check the tariff.\")]}, config1)\n",
        "for m in messages['messages']:\n",
        "    print(m.content)"
      ],
      "metadata": {
        "colab": {
          "base_uri": "https://localhost:8080/"
        },
        "id": "dyMw6ehPAkqJ",
        "outputId": "73312cb4-73f4-418e-b702-0a82d467e7f5"
      },
      "execution_count": 8,
      "outputs": [
        {
          "output_type": "stream",
          "name": "stdout",
          "text": [
            "ASSALAMUALYUM I M NAVEED FROM KARACHI\n",
            "Assalamualykum Naveed!  How can I help you today?\n",
            "\n",
            "Light chali gai hai, Mera pincode 110001 hai, wapas kab aayegi?\n",
            "وعلیکم السلام!  Naveed,  I understand you're experiencing a power outage in the 110001 pincode area.  Let me check the status for you.\n",
            "\n",
            "\n",
            "There is a power outage in your area. Estimated restoration time is 2 hours.\n",
            "Naveed, I understand your electricity has gone out.  According to our system, there is a power outage in your area (pincode 110001). The estimated restoration time is within 2 hours.\n",
            "\n",
            "MY CONSUMER NUMBER IS  123456 . PLZ CHECK STATUS OF MY BILL.\n",
            "\n",
            "Your current outstanding amount is Rs. 500, due by the end of this month.\n",
            "Certainly.  Your current outstanding bill is Rs. 500 and is due by the end of the month.\n",
            "\n",
            "My last month's bill for 201 units was 8,000, but now for 145 units it's 9,000. Check what has increased in rate. Check the tariff.\n",
            "I am sorry, I cannot directly access detailed rate information or explain the differences in your bill. To understand the change in your bill amount from 8000 to 9000 despite a lower unit consumption, I recommend contacting customer support. They will be able to provide you with a detailed breakdown of your bill and explain any changes in tariffs or additional charges that may apply.  They can be reached at [insert customer support contact information here].\n",
            "\n"
          ]
        }
      ]
    },
    {
      "cell_type": "code",
      "source": [
        "messages = graph.invoke({\"messages\": [HumanMessage(content=\"What is the status of complaint ID C-1002?\")]}, config1)\n",
        "for m in messages['messages']:\n",
        "    print(m.content)\n"
      ],
      "metadata": {
        "colab": {
          "base_uri": "https://localhost:8080/"
        },
        "id": "rQO_-ZkrA_i4",
        "outputId": "ab5afbad-5e94-4412-8df5-50a8efd1735e"
      },
      "execution_count": 9,
      "outputs": [
        {
          "output_type": "stream",
          "name": "stdout",
          "text": [
            "ASSALAMUALYUM I M NAVEED FROM KARACHI\n",
            "Assalamualykum Naveed!  How can I help you today?\n",
            "\n",
            "Light chali gai hai, Mera pincode 110001 hai, wapas kab aayegi?\n",
            "وعلیکم السلام!  Naveed,  I understand you're experiencing a power outage in the 110001 pincode area.  Let me check the status for you.\n",
            "\n",
            "\n",
            "There is a power outage in your area. Estimated restoration time is 2 hours.\n",
            "Naveed, I understand your electricity has gone out.  According to our system, there is a power outage in your area (pincode 110001). The estimated restoration time is within 2 hours.\n",
            "\n",
            "MY CONSUMER NUMBER IS  123456 . PLZ CHECK STATUS OF MY BILL.\n",
            "\n",
            "Your current outstanding amount is Rs. 500, due by the end of this month.\n",
            "Certainly.  Your current outstanding bill is Rs. 500 and is due by the end of the month.\n",
            "\n",
            "My last month's bill for 201 units was 8,000, but now for 145 units it's 9,000. Check what has increased in rate. Check the tariff.\n",
            "I am sorry, I cannot directly access detailed rate information or explain the differences in your bill. To understand the change in your bill amount from 8000 to 9000 despite a lower unit consumption, I recommend contacting customer support. They will be able to provide you with a detailed breakdown of your bill and explain any changes in tariffs or additional charges that may apply.  They can be reached at [insert customer support contact information here].\n",
            "\n",
            "What is the status of complaint ID C-1002?\n",
            "\n",
            "Your complaint has been resolved. Please check your email for details.\n",
            "The status of complaint ID C-1002 shows that it has been resolved. You can check your email for further details.\n",
            "\n"
          ]
        }
      ]
    },
    {
      "cell_type": "code",
      "source": [
        "messages = graph.invoke({\"messages\": [HumanMessage(content=\"My area’s pincode is 110001 and the power is out. How long until it comes back?\")]}, config1)\n",
        "for m in messages['messages']:\n",
        "    print(m.content)"
      ],
      "metadata": {
        "colab": {
          "base_uri": "https://localhost:8080/"
        },
        "id": "nhGYoBbBBtJe",
        "outputId": "239b4f9b-b3ab-4021-8d9d-476a5e6f28ec"
      },
      "execution_count": 11,
      "outputs": [
        {
          "output_type": "stream",
          "name": "stdout",
          "text": [
            "ASSALAMUALYUM I M NAVEED FROM KARACHI\n",
            "Assalamualykum Naveed!  How can I help you today?\n",
            "\n",
            "Light chali gai hai, Mera pincode 110001 hai, wapas kab aayegi?\n",
            "وعلیکم السلام!  Naveed,  I understand you're experiencing a power outage in the 110001 pincode area.  Let me check the status for you.\n",
            "\n",
            "\n",
            "There is a power outage in your area. Estimated restoration time is 2 hours.\n",
            "Naveed, I understand your electricity has gone out.  According to our system, there is a power outage in your area (pincode 110001). The estimated restoration time is within 2 hours.\n",
            "\n",
            "MY CONSUMER NUMBER IS  123456 . PLZ CHECK STATUS OF MY BILL.\n",
            "\n",
            "Your current outstanding amount is Rs. 500, due by the end of this month.\n",
            "Certainly.  Your current outstanding bill is Rs. 500 and is due by the end of the month.\n",
            "\n",
            "My last month's bill for 201 units was 8,000, but now for 145 units it's 9,000. Check what has increased in rate. Check the tariff.\n",
            "I am sorry, I cannot directly access detailed rate information or explain the differences in your bill. To understand the change in your bill amount from 8000 to 9000 despite a lower unit consumption, I recommend contacting customer support. They will be able to provide you with a detailed breakdown of your bill and explain any changes in tariffs or additional charges that may apply.  They can be reached at [insert customer support contact information here].\n",
            "\n",
            "What is the status of complaint ID C-1002?\n",
            "\n",
            "Your complaint has been resolved. Please check your email for details.\n",
            "The status of complaint ID C-1002 shows that it has been resolved. You can check your email for further details.\n",
            "\n",
            "My area’s pincode is 110001 and the power is out. How long until it comes back?\n",
            "\n",
            "There is a power outage in your area. Estimated restoration time is 2 hours.\n",
            "There is a power outage in your area (pincode 110001). The estimated restoration time is 2 hours.\n",
            "\n"
          ]
        }
      ]
    },
    {
      "cell_type": "code",
      "source": [
        "messages = graph.invoke({\"messages\": [HumanMessage(content=\"I have a complaint with ID C-1002. Can you check its current status?\")]}, config1)\n",
        "for m in messages['messages']:\n",
        "    print(m.content)"
      ],
      "metadata": {
        "colab": {
          "base_uri": "https://localhost:8080/"
        },
        "id": "ibxtwDnpCKzW",
        "outputId": "6ff73b0c-99c6-4735-e1a5-1dad1af81ce6"
      },
      "execution_count": 12,
      "outputs": [
        {
          "output_type": "stream",
          "name": "stdout",
          "text": [
            "ASSALAMUALYUM I M NAVEED FROM KARACHI\n",
            "Assalamualykum Naveed!  How can I help you today?\n",
            "\n",
            "Light chali gai hai, Mera pincode 110001 hai, wapas kab aayegi?\n",
            "وعلیکم السلام!  Naveed,  I understand you're experiencing a power outage in the 110001 pincode area.  Let me check the status for you.\n",
            "\n",
            "\n",
            "There is a power outage in your area. Estimated restoration time is 2 hours.\n",
            "Naveed, I understand your electricity has gone out.  According to our system, there is a power outage in your area (pincode 110001). The estimated restoration time is within 2 hours.\n",
            "\n",
            "MY CONSUMER NUMBER IS  123456 . PLZ CHECK STATUS OF MY BILL.\n",
            "\n",
            "Your current outstanding amount is Rs. 500, due by the end of this month.\n",
            "Certainly.  Your current outstanding bill is Rs. 500 and is due by the end of the month.\n",
            "\n",
            "My last month's bill for 201 units was 8,000, but now for 145 units it's 9,000. Check what has increased in rate. Check the tariff.\n",
            "I am sorry, I cannot directly access detailed rate information or explain the differences in your bill. To understand the change in your bill amount from 8000 to 9000 despite a lower unit consumption, I recommend contacting customer support. They will be able to provide you with a detailed breakdown of your bill and explain any changes in tariffs or additional charges that may apply.  They can be reached at [insert customer support contact information here].\n",
            "\n",
            "What is the status of complaint ID C-1002?\n",
            "\n",
            "Your complaint has been resolved. Please check your email for details.\n",
            "The status of complaint ID C-1002 shows that it has been resolved. You can check your email for further details.\n",
            "\n",
            "My area’s pincode is 110001 and the power is out. How long until it comes back?\n",
            "\n",
            "There is a power outage in your area. Estimated restoration time is 2 hours.\n",
            "There is a power outage in your area (pincode 110001). The estimated restoration time is 2 hours.\n",
            "\n",
            "I have a complaint with ID C-1002. Can you check its current status?\n",
            "\n",
            "Your complaint has been resolved. Please check your email for details.\n",
            "Your complaint (ID C-1002) has been resolved.  Please check your email for details.\n",
            "\n"
          ]
        }
      ]
    },
    {
      "cell_type": "code",
      "source": [
        "messages = graph.invoke({\"messages\": [HumanMessage(content=\"My area's pincode is 110001 and voltage is very low, plz check what is actual issue?\")]}, config1)\n",
        "for m in messages['messages']:\n",
        "    print(m.content)"
      ],
      "metadata": {
        "colab": {
          "base_uri": "https://localhost:8080/"
        },
        "id": "EpLgRrNECo4G",
        "outputId": "c75bc9f1-16d0-44be-9ee5-73945a8bd6f6"
      },
      "execution_count": 13,
      "outputs": [
        {
          "output_type": "stream",
          "name": "stdout",
          "text": [
            "ASSALAMUALYUM I M NAVEED FROM KARACHI\n",
            "Assalamualykum Naveed!  How can I help you today?\n",
            "\n",
            "Light chali gai hai, Mera pincode 110001 hai, wapas kab aayegi?\n",
            "وعلیکم السلام!  Naveed,  I understand you're experiencing a power outage in the 110001 pincode area.  Let me check the status for you.\n",
            "\n",
            "\n",
            "There is a power outage in your area. Estimated restoration time is 2 hours.\n",
            "Naveed, I understand your electricity has gone out.  According to our system, there is a power outage in your area (pincode 110001). The estimated restoration time is within 2 hours.\n",
            "\n",
            "MY CONSUMER NUMBER IS  123456 . PLZ CHECK STATUS OF MY BILL.\n",
            "\n",
            "Your current outstanding amount is Rs. 500, due by the end of this month.\n",
            "Certainly.  Your current outstanding bill is Rs. 500 and is due by the end of the month.\n",
            "\n",
            "My last month's bill for 201 units was 8,000, but now for 145 units it's 9,000. Check what has increased in rate. Check the tariff.\n",
            "I am sorry, I cannot directly access detailed rate information or explain the differences in your bill. To understand the change in your bill amount from 8000 to 9000 despite a lower unit consumption, I recommend contacting customer support. They will be able to provide you with a detailed breakdown of your bill and explain any changes in tariffs or additional charges that may apply.  They can be reached at [insert customer support contact information here].\n",
            "\n",
            "What is the status of complaint ID C-1002?\n",
            "\n",
            "Your complaint has been resolved. Please check your email for details.\n",
            "The status of complaint ID C-1002 shows that it has been resolved. You can check your email for further details.\n",
            "\n",
            "My area’s pincode is 110001 and the power is out. How long until it comes back?\n",
            "\n",
            "There is a power outage in your area. Estimated restoration time is 2 hours.\n",
            "There is a power outage in your area (pincode 110001). The estimated restoration time is 2 hours.\n",
            "\n",
            "I have a complaint with ID C-1002. Can you check its current status?\n",
            "\n",
            "Your complaint has been resolved. Please check your email for details.\n",
            "Your complaint (ID C-1002) has been resolved.  Please check your email for details.\n",
            "\n",
            "My area's pincode is 110001 and voltage is very low, plz check what is actual issue?\n",
            "I cannot directly investigate the cause of low voltage in your area. To get specific information about the low voltage issue in your area (pincode 110001), I would recommend contacting the customer support. They will have access to real-time data and can investigate the problem and advise on the next steps.  They can be reached at [insert customer support contact information here].\n",
            "\n"
          ]
        }
      ]
    }
  ]
}