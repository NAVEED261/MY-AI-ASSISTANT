{
  "cells": [
    {
      "cell_type": "markdown",
      "metadata": {
        "id": "view-in-github",
        "colab_type": "text"
      },
      "source": [
        "<a href=\"https://colab.research.google.com/github/NAVEED261/MY-AI-ASSISTANT/blob/main/%22XML_Data_Conversion_and_Security_Log_Analysis_with_AI%22_.ipynb\" target=\"_parent\"><img src=\"https://colab.research.google.com/assets/colab-badge.svg\" alt=\"Open In Colab\"/></a>"
      ]
    },
    {
      "cell_type": "code",
      "source": [
        "# prompt: import xmltodict\n",
        "# import json\n",
        "# # Example XML data\n",
        "# xml_data = \"\"\"\n",
        "# <Event>\n",
        "#     <System>\n",
        "#         <Provider Name=\"Microsoft-Windows-Security-Auditing\" />\n",
        "#         <EventID>4688</EventID>\n",
        "#         <TimeCreated SystemTime=\"2024-09-28T10:26:52.803804000Z\" />\n",
        "#     </System>\n",
        "#     <EventData>\n",
        "#         <Data Name=\"SubjectUserSid\">NT AUTHORITY\\SYSTEM</Data>\n",
        "#         <Data Name=\"NewProcessName\">C:\\Windows\\System32\\sc.exe</Data>\n",
        "#         <Data Name=\"CommandLine\">sc start CiscoSCMS</Data>\n",
        "#     </EventData>\n",
        "# </Event>\n",
        "# \"\"\"\n",
        "# # Convert XML to JSON\n",
        "# json_data = json.dumps(xmltodict.parse(xml_data), indent=4)\n",
        "# print(json_data)\n",
        "\n",
        "import xmltodict\n",
        "import json\n",
        "\n",
        "# Example XML data\n",
        "xml_data = \"\"\"\n",
        "<Event>\n",
        "    <System>\n",
        "        <Provider Name=\"Microsoft-Windows-Security-Auditing\" />\n",
        "        <EventID>4688</EventID>\n",
        "        <TimeCreated SystemTime=\"2024-09-28T10:26:52.803804000Z\" />\n",
        "    </System>\n",
        "    <EventData>\n",
        "        <Data Name=\"SubjectUserSid\">NT AUTHORITY\\SYSTEM</Data>\n",
        "        <Data Name=\"NewProcessName\">C:\\Windows\\System32\\sc.exe</Data>\n",
        "        <Data Name=\"CommandLine\">sc start CiscoSCMS</Data>\n",
        "    </EventData>\n",
        "</Event>\n",
        "\"\"\"\n",
        "\n",
        "# Convert XML to JSON\n",
        "try:\n",
        "  json_data = json.dumps(xmltodict.parse(xml_data), indent=4)\n",
        "  print(json_data)\n",
        "except Exception as e:\n",
        "  print(f\"Error converting XML to JSON: {e}\")"
      ],
      "metadata": {
        "colab": {
          "base_uri": "https://localhost:8080/"
        },
        "id": "D0o6_ebHXVn5",
        "outputId": "1aee52cc-6aad-408d-d1a3-51e50acdcecf"
      },
      "execution_count": null,
      "outputs": [
        {
          "output_type": "stream",
          "name": "stdout",
          "text": [
            "Provider Name: Microsoft-Windows-Security-Auditing\n",
            "Event ID: 4688\n",
            "System Time: 2024-09-28T10:26:52.803804000Z\n",
            "Subject User SID: NT AUTHORITY\\SYSTEM\n",
            "New Process Name: C:\\Windows\\System32\\sc.exe\n",
            "Command Line: sc start CiscoSCMS\n"
          ]
        }
      ]
    },
    {
      "cell_type": "markdown",
      "source": [
        "# MOST IMPORTANT:\n",
        "CONERT XML (Extensible Markup Language.) DATA TO .CSV, .TXT OR JSON FORMATE\n",
        "# THIS IS VERY NECESSORY BECAUSE :\n",
        "Asaan Analysis: JSON ya CSV mein data structured hota hai, jo analysis ko simplify karta hai.\n",
        "Tool Compatibility: AI aur analysis tools JSON/CSV ko asaani se samajh lete hain, XML ko nahi.\n",
        "Specific Field Extraction: Specific information nikaalna aur investigate karna asaan hota hai.\n",
        "Isliye, XML ko convert karna zaroori hai taake investigation proper aur smooth ho."
      ],
      "metadata": {
        "id": "PA5Vbca1e9U0"
      }
    },
    {
      "cell_type": "code",
      "source": [
        "!pip install xmltodict # Install the xmltodict library using pip.\n",
        "# prompt: /content/Screenshot 2024-10-16 130401.png , Steps to Convert XML to JSON:\n",
        "\n",
        "import xml"
      ],
      "metadata": {
        "id": "R3JaoEaUX-yC",
        "outputId": "908eeca1-9664-4e47-dedb-427352ff1bb8",
        "colab": {
          "base_uri": "https://localhost:8080/"
        }
      },
      "execution_count": null,
      "outputs": [
        {
          "output_type": "stream",
          "name": "stdout",
          "text": [
            "Requirement already satisfied: xmltodict in /usr/local/lib/python3.10/dist-packages (0.14.2)\n"
          ]
        }
      ]
    },
    {
      "cell_type": "markdown",
      "source": [
        "# **Data Load karna:**\n",
        "Sabse pehle, jo log data aapne diya hai, usse Colab mein load karenge taake AI model use karke analyze kiya ja sake.\n",
        "# Log Data Preprocessing:**bold text**\n",
        "Log data ko process karenge taake relevant information ko extract kar sakein, jaise Event ID, Process Name, Command Line, etc.\n",
        "# **AI / ML Analysis:**\n",
        "Anomaly detection ya threat detection AI model apply karenge jo suspicious patterns ya activities ko detect kar sake.\n",
        "Iss step mein machine learning models ko train kiya jata hai ya pre-trained models use kiye jaate hain.\n",
        "# **Final Results:**\n",
        "AI / ML model se result generate karenge jo bataye ga ke koi suspicious activity hai ya nahi. Is analysis ko review karenge aur confirm karenge ke process legit hai ya koi threat detected hai.\n",
        "# **Step-by-Step Guide in Google Colab:**\n",
        "\n",
        "Yahan niche step-by-step code likh raha hoon jo aap Colab mein run kar sakte hain."
      ],
      "metadata": {
        "id": "dpry_zhjbN7p"
      }
    },
    {
      "cell_type": "markdown",
      "source": [
        "# Step 1:\n",
        " Import Required Libraries"
      ],
      "metadata": {
        "id": "3dpoIcLBb2lQ"
      }
    },
    {
      "cell_type": "code",
      "source": [
        "# Python libraries import karenge\n",
        "import pandas as pd\n",
        "import numpy as np\n",
        "import json\n",
        "import re\n",
        "\n",
        "# ML/AI libraries\n",
        "from sklearn.ensemble import IsolationForest\n"
      ],
      "metadata": {
        "id": "1bv0fGL8asox"
      },
      "execution_count": null,
      "outputs": []
    },
    {
      "cell_type": "markdown",
      "source": [
        "# Explanation of Each Library:\n",
        "\n",
        "# pandas (pd):\n",
        "\n",
        "Purpose: Data manipulation and analysis.\n",
        "Why Used: Iska use data ko import karne, process karne, aur structured format (like CSV) mein arrange karne ke liye kiya jata hai. pandas makes it easy to work with tables and structured datasets.\n",
        "# numpy (np):\n",
        "\n",
        "Purpose: Numerical computing.\n",
        "Why Used: Mathematical calculations aur array operations ke liye helpful hota hai. numpy AI/ML models mein data ko efficiently handle karne ke liye use hota hai, especially for matrix operations and numerical computations.\n",
        "\n",
        "# json:\n",
        "\n",
        "Purpose: Parsing and manipulating JSON data.\n",
        "Why Used: XML ko JSON mein convert karna zaroori tha taake hum structured format mein data ko easily process kar sakein. JSON format humare analysis ko simplify kar deta hai.\n",
        "\n",
        "# re:\n",
        "\n",
        "\n",
        "Purpose: Regular expressions for pattern matching.\n",
        "Why Used: Log data ya text data ko clean karne, extract karne, ya manipulate karne ke liye. re library ka use hum specific patterns ko identify karne ke liye karte hain, jaise error codes ya specific commands ko extract karna.\n",
        "\n",
        "# sklearn.ensemble.IsolationForest:\n",
        "\n",
        "Purpose: Machine Learning model for anomaly detection.\n",
        "Why Used: Isolation Forest ek ML technique hai jo outliers aur anomalies ko detect karne ke liye use hoti hai. Humne isko AI/ML analysis mein ye verify karne ke liye use kiya ke koi unusual ya malicious behavior to nahi tha event log mein."
      ],
      "metadata": {
        "id": "LBkcNoZOiBR6"
      }
    },
    {
      "cell_type": "markdown",
      "source": [
        "# Explanation:**\n",
        "Ye libraries log data ko process aur analyze karne mein madad karengi. Isolation Forest anomaly detection ke liye use hota hai jo uncommon ya suspicious patterns identify karta hai."
      ],
      "metadata": {
        "id": "5zO_VpUrbiPp"
      }
    },
    {
      "cell_type": "markdown",
      "source": [
        "# Step 2:\n",
        "Load the Log Data (aapka XML data ko JSON format mein convert kar ke use karenge)"
      ],
      "metadata": {
        "id": "I4P3sWoybwd-"
      }
    },
    {
      "cell_type": "code",
      "source": [
        "# Log data ko manually Colab mein enter karenge (ya JSON se read karenge)\n",
        "log_data = {\n",
        "    \"EventID\": 4688,\n",
        "    \"SystemTime\": \"2024-09-28T10:26:52.803804000Z\",\n",
        "    \"ProcessName\": \"C:\\\\Windows\\\\System32\\\\sc.exe\",\n",
        "    \"CommandLine\": \"sc start CiscoSCMS\",\n",
        "    \"SubjectUser\": \"NT AUTHORITY\\\\SYSTEM\",\n",
        "    \"ParentProcessName\": \"C:\\\\Windows\\\\System32\\\\cmd.exe\"\n",
        "}\n",
        "\n",
        "# Dataframe mein convert karenge\n",
        "df = pd.DataFrame([log_data])\n",
        "df.head()\n"
      ],
      "metadata": {
        "id": "cMj-D3_TayoR",
        "outputId": "d37ad602-3161-40bc-e7ae-21c04930fae1",
        "colab": {
          "base_uri": "https://localhost:8080/",
          "height": 118
        }
      },
      "execution_count": null,
      "outputs": [
        {
          "output_type": "execute_result",
          "data": {
            "text/plain": [
              "   EventID                      SystemTime                 ProcessName  \\\n",
              "0     4688  2024-09-28T10:26:52.803804000Z  C:\\Windows\\System32\\sc.exe   \n",
              "\n",
              "          CommandLine          SubjectUser            ParentProcessName  \n",
              "0  sc start CiscoSCMS  NT AUTHORITY\\SYSTEM  C:\\Windows\\System32\\cmd.exe  "
            ],
            "text/html": [
              "\n",
              "  <div id=\"df-b2839afe-1c8e-4842-a53e-459558ac787b\" class=\"colab-df-container\">\n",
              "    <div>\n",
              "<style scoped>\n",
              "    .dataframe tbody tr th:only-of-type {\n",
              "        vertical-align: middle;\n",
              "    }\n",
              "\n",
              "    .dataframe tbody tr th {\n",
              "        vertical-align: top;\n",
              "    }\n",
              "\n",
              "    .dataframe thead th {\n",
              "        text-align: right;\n",
              "    }\n",
              "</style>\n",
              "<table border=\"1\" class=\"dataframe\">\n",
              "  <thead>\n",
              "    <tr style=\"text-align: right;\">\n",
              "      <th></th>\n",
              "      <th>EventID</th>\n",
              "      <th>SystemTime</th>\n",
              "      <th>ProcessName</th>\n",
              "      <th>CommandLine</th>\n",
              "      <th>SubjectUser</th>\n",
              "      <th>ParentProcessName</th>\n",
              "    </tr>\n",
              "  </thead>\n",
              "  <tbody>\n",
              "    <tr>\n",
              "      <th>0</th>\n",
              "      <td>4688</td>\n",
              "      <td>2024-09-28T10:26:52.803804000Z</td>\n",
              "      <td>C:\\Windows\\System32\\sc.exe</td>\n",
              "      <td>sc start CiscoSCMS</td>\n",
              "      <td>NT AUTHORITY\\SYSTEM</td>\n",
              "      <td>C:\\Windows\\System32\\cmd.exe</td>\n",
              "    </tr>\n",
              "  </tbody>\n",
              "</table>\n",
              "</div>\n",
              "    <div class=\"colab-df-buttons\">\n",
              "\n",
              "  <div class=\"colab-df-container\">\n",
              "    <button class=\"colab-df-convert\" onclick=\"convertToInteractive('df-b2839afe-1c8e-4842-a53e-459558ac787b')\"\n",
              "            title=\"Convert this dataframe to an interactive table.\"\n",
              "            style=\"display:none;\">\n",
              "\n",
              "  <svg xmlns=\"http://www.w3.org/2000/svg\" height=\"24px\" viewBox=\"0 -960 960 960\">\n",
              "    <path d=\"M120-120v-720h720v720H120Zm60-500h600v-160H180v160Zm220 220h160v-160H400v160Zm0 220h160v-160H400v160ZM180-400h160v-160H180v160Zm440 0h160v-160H620v160ZM180-180h160v-160H180v160Zm440 0h160v-160H620v160Z\"/>\n",
              "  </svg>\n",
              "    </button>\n",
              "\n",
              "  <style>\n",
              "    .colab-df-container {\n",
              "      display:flex;\n",
              "      gap: 12px;\n",
              "    }\n",
              "\n",
              "    .colab-df-convert {\n",
              "      background-color: #E8F0FE;\n",
              "      border: none;\n",
              "      border-radius: 50%;\n",
              "      cursor: pointer;\n",
              "      display: none;\n",
              "      fill: #1967D2;\n",
              "      height: 32px;\n",
              "      padding: 0 0 0 0;\n",
              "      width: 32px;\n",
              "    }\n",
              "\n",
              "    .colab-df-convert:hover {\n",
              "      background-color: #E2EBFA;\n",
              "      box-shadow: 0px 1px 2px rgba(60, 64, 67, 0.3), 0px 1px 3px 1px rgba(60, 64, 67, 0.15);\n",
              "      fill: #174EA6;\n",
              "    }\n",
              "\n",
              "    .colab-df-buttons div {\n",
              "      margin-bottom: 4px;\n",
              "    }\n",
              "\n",
              "    [theme=dark] .colab-df-convert {\n",
              "      background-color: #3B4455;\n",
              "      fill: #D2E3FC;\n",
              "    }\n",
              "\n",
              "    [theme=dark] .colab-df-convert:hover {\n",
              "      background-color: #434B5C;\n",
              "      box-shadow: 0px 1px 3px 1px rgba(0, 0, 0, 0.15);\n",
              "      filter: drop-shadow(0px 1px 2px rgba(0, 0, 0, 0.3));\n",
              "      fill: #FFFFFF;\n",
              "    }\n",
              "  </style>\n",
              "\n",
              "    <script>\n",
              "      const buttonEl =\n",
              "        document.querySelector('#df-b2839afe-1c8e-4842-a53e-459558ac787b button.colab-df-convert');\n",
              "      buttonEl.style.display =\n",
              "        google.colab.kernel.accessAllowed ? 'block' : 'none';\n",
              "\n",
              "      async function convertToInteractive(key) {\n",
              "        const element = document.querySelector('#df-b2839afe-1c8e-4842-a53e-459558ac787b');\n",
              "        const dataTable =\n",
              "          await google.colab.kernel.invokeFunction('convertToInteractive',\n",
              "                                                    [key], {});\n",
              "        if (!dataTable) return;\n",
              "\n",
              "        const docLinkHtml = 'Like what you see? Visit the ' +\n",
              "          '<a target=\"_blank\" href=https://colab.research.google.com/notebooks/data_table.ipynb>data table notebook</a>'\n",
              "          + ' to learn more about interactive tables.';\n",
              "        element.innerHTML = '';\n",
              "        dataTable['output_type'] = 'display_data';\n",
              "        await google.colab.output.renderOutput(dataTable, element);\n",
              "        const docLink = document.createElement('div');\n",
              "        docLink.innerHTML = docLinkHtml;\n",
              "        element.appendChild(docLink);\n",
              "      }\n",
              "    </script>\n",
              "  </div>\n",
              "\n",
              "\n",
              "    </div>\n",
              "  </div>\n"
            ],
            "application/vnd.google.colaboratory.intrinsic+json": {
              "type": "dataframe",
              "variable_name": "df",
              "summary": "{\n  \"name\": \"df\",\n  \"rows\": 1,\n  \"fields\": [\n    {\n      \"column\": \"EventID\",\n      \"properties\": {\n        \"dtype\": \"number\",\n        \"std\": null,\n        \"min\": 4688,\n        \"max\": 4688,\n        \"num_unique_values\": 1,\n        \"samples\": [\n          4688\n        ],\n        \"semantic_type\": \"\",\n        \"description\": \"\"\n      }\n    },\n    {\n      \"column\": \"SystemTime\",\n      \"properties\": {\n        \"dtype\": \"object\",\n        \"num_unique_values\": 1,\n        \"samples\": [\n          \"2024-09-28T10:26:52.803804000Z\"\n        ],\n        \"semantic_type\": \"\",\n        \"description\": \"\"\n      }\n    },\n    {\n      \"column\": \"ProcessName\",\n      \"properties\": {\n        \"dtype\": \"string\",\n        \"num_unique_values\": 1,\n        \"samples\": [\n          \"C:\\\\Windows\\\\System32\\\\sc.exe\"\n        ],\n        \"semantic_type\": \"\",\n        \"description\": \"\"\n      }\n    },\n    {\n      \"column\": \"CommandLine\",\n      \"properties\": {\n        \"dtype\": \"string\",\n        \"num_unique_values\": 1,\n        \"samples\": [\n          \"sc start CiscoSCMS\"\n        ],\n        \"semantic_type\": \"\",\n        \"description\": \"\"\n      }\n    },\n    {\n      \"column\": \"SubjectUser\",\n      \"properties\": {\n        \"dtype\": \"string\",\n        \"num_unique_values\": 1,\n        \"samples\": [\n          \"NT AUTHORITY\\\\SYSTEM\"\n        ],\n        \"semantic_type\": \"\",\n        \"description\": \"\"\n      }\n    },\n    {\n      \"column\": \"ParentProcessName\",\n      \"properties\": {\n        \"dtype\": \"string\",\n        \"num_unique_values\": 1,\n        \"samples\": [\n          \"C:\\\\Windows\\\\System32\\\\cmd.exe\"\n        ],\n        \"semantic_type\": \"\",\n        \"description\": \"\"\n      }\n    }\n  ]\n}"
            }
          },
          "metadata": {},
          "execution_count": 8
        }
      ]
    },
    {
      "cell_type": "markdown",
      "source": [],
      "metadata": {
        "id": "Nm2N8DaLcOup"
      }
    },
    {
      "cell_type": "markdown",
      "source": [
        "# Explanation:\n",
        "\n",
        "\n",
        "\n",
        "Iss step mein hum log data ko manually enter kar rahe hain ya JSON/XML se read kar rahe hain, taake analysis ke liye ready ho sake."
      ],
      "metadata": {
        "id": "huke_V9ib89Z"
      }
    },
    {
      "cell_type": "markdown",
      "source": [
        "# Step 3:\n",
        " Preprocess the Data for Analysis"
      ],
      "metadata": {
        "id": "1WHwrmW-cxWB"
      }
    },
    {
      "cell_type": "code",
      "source": [
        "# Simple preprocessing, jaise data cleaning ya feature extraction\n",
        "df['Command_Suspicious'] = df['CommandLine'].apply(lambda x: 1 if \"sc start\" in x else 0)\n",
        "df['Parent_Process_Suspicious'] = df['ParentProcessName'].apply(lambda x: 1 if \"cmd.exe\" in x else 0)\n"
      ],
      "metadata": {
        "id": "T6p2tDlna1Xw"
      },
      "execution_count": null,
      "outputs": []
    },
    {
      "cell_type": "markdown",
      "source": [
        "# Explanation:\n",
        "\n",
        "Hum ye check karenge ke commands ya parent process suspicious hain ya nahi, aur unhe 0 (not suspicious) ya 1 (suspicious) assign karenge."
      ],
      "metadata": {
        "id": "OZHkzm3Sc3Ln"
      }
    },
    {
      "cell_type": "markdown",
      "source": [
        "# Step 4:\n",
        "AI / ML Analysis (Anomaly Detection)"
      ],
      "metadata": {
        "id": "fiwgV-Qgc413"
      }
    },
    {
      "cell_type": "code",
      "source": [
        "# ML Model setup karenge: Isolation Forest\n",
        "model = IsolationForest(n_estimators=100, contamination=0.1)\n",
        "features = df[['Command_Suspicious', 'Parent_Process_Suspicious']]\n",
        "\n",
        "# Train model on available data\n",
        "model.fit(features)\n",
        "\n",
        "# Prediction karenge -1 means anomaly, 1 means normal\n",
        "df['Anomaly'] = model.predict(features)\n",
        "df['Anomaly'].replace({1: 'Normal', -1: 'Suspicious'}, inplace=True)\n",
        "\n",
        "# Show final result\n",
        "df[['ProcessName', 'CommandLine', 'Anomaly']]\n"
      ],
      "metadata": {
        "id": "dFWr5UrLa4Vh",
        "outputId": "938498d3-8935-4a33-d84e-c74238147f5b",
        "colab": {
          "base_uri": "https://localhost:8080/",
          "height": 228
        }
      },
      "execution_count": null,
      "outputs": [
        {
          "output_type": "stream",
          "name": "stderr",
          "text": [
            "<ipython-input-10-b4d737549c5e>:10: FutureWarning: A value is trying to be set on a copy of a DataFrame or Series through chained assignment using an inplace method.\n",
            "The behavior will change in pandas 3.0. This inplace method will never work because the intermediate object on which we are setting values always behaves as a copy.\n",
            "\n",
            "For example, when doing 'df[col].method(value, inplace=True)', try using 'df.method({col: value}, inplace=True)' or df[col] = df[col].method(value) instead, to perform the operation inplace on the original object.\n",
            "\n",
            "\n",
            "  df['Anomaly'].replace({1: 'Normal', -1: 'Suspicious'}, inplace=True)\n"
          ]
        },
        {
          "output_type": "execute_result",
          "data": {
            "text/plain": [
              "                  ProcessName         CommandLine Anomaly\n",
              "0  C:\\Windows\\System32\\sc.exe  sc start CiscoSCMS  Normal"
            ],
            "text/html": [
              "\n",
              "  <div id=\"df-1de4482b-0ddb-4b27-922c-47e32e880cd2\" class=\"colab-df-container\">\n",
              "    <div>\n",
              "<style scoped>\n",
              "    .dataframe tbody tr th:only-of-type {\n",
              "        vertical-align: middle;\n",
              "    }\n",
              "\n",
              "    .dataframe tbody tr th {\n",
              "        vertical-align: top;\n",
              "    }\n",
              "\n",
              "    .dataframe thead th {\n",
              "        text-align: right;\n",
              "    }\n",
              "</style>\n",
              "<table border=\"1\" class=\"dataframe\">\n",
              "  <thead>\n",
              "    <tr style=\"text-align: right;\">\n",
              "      <th></th>\n",
              "      <th>ProcessName</th>\n",
              "      <th>CommandLine</th>\n",
              "      <th>Anomaly</th>\n",
              "    </tr>\n",
              "  </thead>\n",
              "  <tbody>\n",
              "    <tr>\n",
              "      <th>0</th>\n",
              "      <td>C:\\Windows\\System32\\sc.exe</td>\n",
              "      <td>sc start CiscoSCMS</td>\n",
              "      <td>Normal</td>\n",
              "    </tr>\n",
              "  </tbody>\n",
              "</table>\n",
              "</div>\n",
              "    <div class=\"colab-df-buttons\">\n",
              "\n",
              "  <div class=\"colab-df-container\">\n",
              "    <button class=\"colab-df-convert\" onclick=\"convertToInteractive('df-1de4482b-0ddb-4b27-922c-47e32e880cd2')\"\n",
              "            title=\"Convert this dataframe to an interactive table.\"\n",
              "            style=\"display:none;\">\n",
              "\n",
              "  <svg xmlns=\"http://www.w3.org/2000/svg\" height=\"24px\" viewBox=\"0 -960 960 960\">\n",
              "    <path d=\"M120-120v-720h720v720H120Zm60-500h600v-160H180v160Zm220 220h160v-160H400v160Zm0 220h160v-160H400v160ZM180-400h160v-160H180v160Zm440 0h160v-160H620v160ZM180-180h160v-160H180v160Zm440 0h160v-160H620v160Z\"/>\n",
              "  </svg>\n",
              "    </button>\n",
              "\n",
              "  <style>\n",
              "    .colab-df-container {\n",
              "      display:flex;\n",
              "      gap: 12px;\n",
              "    }\n",
              "\n",
              "    .colab-df-convert {\n",
              "      background-color: #E8F0FE;\n",
              "      border: none;\n",
              "      border-radius: 50%;\n",
              "      cursor: pointer;\n",
              "      display: none;\n",
              "      fill: #1967D2;\n",
              "      height: 32px;\n",
              "      padding: 0 0 0 0;\n",
              "      width: 32px;\n",
              "    }\n",
              "\n",
              "    .colab-df-convert:hover {\n",
              "      background-color: #E2EBFA;\n",
              "      box-shadow: 0px 1px 2px rgba(60, 64, 67, 0.3), 0px 1px 3px 1px rgba(60, 64, 67, 0.15);\n",
              "      fill: #174EA6;\n",
              "    }\n",
              "\n",
              "    .colab-df-buttons div {\n",
              "      margin-bottom: 4px;\n",
              "    }\n",
              "\n",
              "    [theme=dark] .colab-df-convert {\n",
              "      background-color: #3B4455;\n",
              "      fill: #D2E3FC;\n",
              "    }\n",
              "\n",
              "    [theme=dark] .colab-df-convert:hover {\n",
              "      background-color: #434B5C;\n",
              "      box-shadow: 0px 1px 3px 1px rgba(0, 0, 0, 0.15);\n",
              "      filter: drop-shadow(0px 1px 2px rgba(0, 0, 0, 0.3));\n",
              "      fill: #FFFFFF;\n",
              "    }\n",
              "  </style>\n",
              "\n",
              "    <script>\n",
              "      const buttonEl =\n",
              "        document.querySelector('#df-1de4482b-0ddb-4b27-922c-47e32e880cd2 button.colab-df-convert');\n",
              "      buttonEl.style.display =\n",
              "        google.colab.kernel.accessAllowed ? 'block' : 'none';\n",
              "\n",
              "      async function convertToInteractive(key) {\n",
              "        const element = document.querySelector('#df-1de4482b-0ddb-4b27-922c-47e32e880cd2');\n",
              "        const dataTable =\n",
              "          await google.colab.kernel.invokeFunction('convertToInteractive',\n",
              "                                                    [key], {});\n",
              "        if (!dataTable) return;\n",
              "\n",
              "        const docLinkHtml = 'Like what you see? Visit the ' +\n",
              "          '<a target=\"_blank\" href=https://colab.research.google.com/notebooks/data_table.ipynb>data table notebook</a>'\n",
              "          + ' to learn more about interactive tables.';\n",
              "        element.innerHTML = '';\n",
              "        dataTable['output_type'] = 'display_data';\n",
              "        await google.colab.output.renderOutput(dataTable, element);\n",
              "        const docLink = document.createElement('div');\n",
              "        docLink.innerHTML = docLinkHtml;\n",
              "        element.appendChild(docLink);\n",
              "      }\n",
              "    </script>\n",
              "  </div>\n",
              "\n",
              "\n",
              "    </div>\n",
              "  </div>\n"
            ],
            "application/vnd.google.colaboratory.intrinsic+json": {
              "type": "dataframe",
              "summary": "{\n  \"name\": \"df[['ProcessName', 'CommandLine', 'Anomaly']]\",\n  \"rows\": 1,\n  \"fields\": [\n    {\n      \"column\": \"ProcessName\",\n      \"properties\": {\n        \"dtype\": \"string\",\n        \"num_unique_values\": 1,\n        \"samples\": [\n          \"C:\\\\Windows\\\\System32\\\\sc.exe\"\n        ],\n        \"semantic_type\": \"\",\n        \"description\": \"\"\n      }\n    },\n    {\n      \"column\": \"CommandLine\",\n      \"properties\": {\n        \"dtype\": \"string\",\n        \"num_unique_values\": 1,\n        \"samples\": [\n          \"sc start CiscoSCMS\"\n        ],\n        \"semantic_type\": \"\",\n        \"description\": \"\"\n      }\n    },\n    {\n      \"column\": \"Anomaly\",\n      \"properties\": {\n        \"dtype\": \"string\",\n        \"num_unique_values\": 1,\n        \"samples\": [\n          \"Normal\"\n        ],\n        \"semantic_type\": \"\",\n        \"description\": \"\"\n      }\n    }\n  ]\n}"
            }
          },
          "metadata": {},
          "execution_count": 10
        }
      ]
    },
    {
      "cell_type": "markdown",
      "source": [
        "\n",
        " Explanation:\n",
        "\n",
        "Ye step AI/ML model ko train karta hai jo abnormal ya suspicious patterns ko detect karta hai. Agar koi command suspicious ho, to Suspicious return karega."
      ],
      "metadata": {
        "id": "zy4BRwBncgf5"
      }
    },
    {
      "cell_type": "markdown",
      "source": [
        "# Step 5:\n",
        " Results ka Review aur Analysis"
      ],
      "metadata": {
        "id": "bbbim6VKdKlI"
      }
    },
    {
      "cell_type": "code",
      "source": [
        "# Final check - agar output mein \"Suspicious\" hai to manual review required, warna \"Normal\" hai to safe\n",
        "if 'Suspicious' in df['Anomaly'].values:\n",
        "    print(\"Suspicious Activity Detected! Further investigation required.\")\n",
        "else:\n",
        "    print(\"No Suspicious Activity Detected. Logs are clean.\")\n"
      ],
      "metadata": {
        "id": "7ctsOqmCa7K0",
        "outputId": "7f595269-a964-4f62-fe91-97f0837b236f",
        "colab": {
          "base_uri": "https://localhost:8080/"
        }
      },
      "execution_count": null,
      "outputs": [
        {
          "output_type": "stream",
          "name": "stdout",
          "text": [
            "No Suspicious Activity Detected. Logs are clean.\n"
          ]
        }
      ]
    },
    {
      "cell_type": "markdown",
      "source": [
        "# **REASON:**\n",
        "\n",
        "Ye event ek normal system operation hai jahan NT AUTHORITY\\SYSTEM ne ek authorized service (sc start CiscoSCMS) ko start kiya. AI/ML tools ke analysis se confirm hua ke ye expected behavior hai, koi unusual ya unauthorized command nahi thi. Is wajah se koi suspicious activity detect nahi hui aur ye ek clean log event samjha gaya."
      ],
      "metadata": {
        "id": "kDAHFeIygr26"
      }
    },
    {
      "cell_type": "markdown",
      "source": [
        "# Explanation:\n",
        "\n",
        "AI analysis ka result yahan dikhaya jata hai. Agar Suspicious detect hota hai, to ye alert karega; otherwise, safe result show karega."
      ],
      "metadata": {
        "id": "HJs1Z_TkdP-o"
      }
    },
    {
      "cell_type": "markdown",
      "source": [
        "# ***`Conclusion:`***\n",
        "Ye approach aapko real-time log data ko AI se analyze karne ki flexibility deti hai. Is tarah ke AI models real-world security systems mein deploy kiye jaate hain jo continuous monitoring aur anomaly detection karte hain.\n",
        "\n",
        "Jab aap ye Google Colab mein implement karenge, to aapko ye confirm ho jayega ke process safe hai ya koi suspicious activity detected hui hai."
      ],
      "metadata": {
        "id": "OQS6XyXedZhh"
      }
    },
    {
      "cell_type": "markdown",
      "source": [
        "# ***`[Step-by-Step Expected Output](https://)`***\n",
        "Library Imports (Step 1)\n",
        "\n",
        "Code runs without any errors, and libraries are imported successfully.\n",
        "Load the Log Data (Step 2)\n",
        "\n",
        "The output will show the structured data from the log, something like:\n",
        "EventID\tSystemTime\tProcessName\tCommandLine\tSubjectUser\tParentProcessName\n",
        "4688\t2024-09-28T10:26:52.803804000Z\tC:\\Windows\\System32\\sc.exe\tsc start CiscoSCMS\tNT AUTHORITY\\SYSTEM\tC:\\Windows\\System32\\cmd.exe\n",
        "Preprocess the Data for Analysis (Step 3)\n",
        "\n",
        "The output will add columns to the DataFrame indicating if certain parts are suspicious:\n",
        "ProcessName\tCommandLine\tCommand_Suspicious\tParent_Process_Suspicious\n",
        "C:\\Windows\\System32\\sc.exe\tsc start CiscoSCMS\t1\t1\n",
        "AI / ML Analysis (Anomaly Detection - Step 4)\n",
        "\n",
        "The AI model will analyze the data, and you will see an output column \"Anomaly\" that will indicate whether the data is considered \"Normal\" or \"Suspicious\":\n",
        "ProcessName\tCommandLine\tAnomaly\n",
        "C:\\Windows\\System32\\sc.exe\tsc start CiscoSCMS\tNormal\n",
        "Final Result (Step 5)\n",
        "\n",
        "Based on the analysis, the final output message will be:\n",
        "sql\n",
        "Copy code\n",
        "No Suspicious Activity Detected. Logs are clean.\n",
        "What This Means:\n",
        "Normal Output: If everything is marked as \"Normal,\" this means the log does not contain any activities that raise security concerns based on the trained AI model.\n",
        "Suspicious Output: If any log entries are marked as \"Suspicious,\" then those would require further investigation, and the model will show \"Suspicious Activity Detected!\""
      ],
      "metadata": {
        "id": "e2uc_dINdqQB"
      }
    },
    {
      "cell_type": "markdown",
      "source": [],
      "metadata": {
        "id": "YFJ90TOfeV-T"
      }
    },
    {
      "cell_type": "markdown",
      "source": [],
      "metadata": {
        "id": "560KOzIdeYY7"
      }
    }
  ],
  "metadata": {
    "colab": {
      "provenance": [],
      "include_colab_link": true
    },
    "kernelspec": {
      "display_name": "Python 3",
      "name": "python3"
    }
  },
  "nbformat": 4,
  "nbformat_minor": 0
}