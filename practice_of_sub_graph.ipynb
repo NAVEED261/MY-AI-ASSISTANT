{
  "nbformat": 4,
  "nbformat_minor": 0,
  "metadata": {
    "colab": {
      "provenance": [],
      "authorship_tag": "ABX9TyN1wSaZQF6YxuJKBMzudn5F",
      "include_colab_link": true
    },
    "kernelspec": {
      "name": "python3",
      "display_name": "Python 3"
    },
    "language_info": {
      "name": "python"
    }
  },
  "cells": [
    {
      "cell_type": "markdown",
      "metadata": {
        "id": "view-in-github",
        "colab_type": "text"
      },
      "source": [
        "<a href=\"https://colab.research.google.com/github/NAVEED261/MY-AI-ASSISTANT/blob/main/practice_of_sub_graph.ipynb\" target=\"_parent\"><img src=\"https://colab.research.google.com/assets/colab-badge.svg\" alt=\"Open In Colab\"/></a>"
      ]
    },
    {
      "cell_type": "code",
      "execution_count": 22,
      "metadata": {
        "id": "jMQS3AeYCn9u"
      },
      "outputs": [],
      "source": [
        "%%capture --no-stderr\n",
        "%pip install -U  langgraph\n"
      ]
    },
    {
      "cell_type": "code",
      "source": [
        "from typing_extensions import TypedDict\n",
        "from typing import Literal, Optional, Annotated\n",
        "from operator import add\n",
        "from IPython.display import Image, display\n",
        "from langgraph.graph import StateGraph, START, END\n",
        "from langgraph.graph.state import CompiledStateGraph\n"
      ],
      "metadata": {
        "id": "A-yvj9_ZHm2e"
      },
      "execution_count": 23,
      "outputs": []
    },
    {
      "cell_type": "code",
      "source": [
        "class log(TypedDict):\n",
        "  id:str\n",
        "  question:str\n",
        "  docs:Optional[list]\n",
        "  answer:str\n",
        "  grade:int\n",
        "  grader:str\n",
        "  feedback:str"
      ],
      "metadata": {
        "id": "HXv7FspjHz6F"
      },
      "execution_count": 24,
      "outputs": []
    },
    {
      "cell_type": "code",
      "source": [
        "# sub graphs schemas input and output\n",
        "\n",
        "class failurestate(TypedDict):\n",
        "  clean_log:list[log]\n",
        "  failures:list[log]\n",
        "  fa_summery:str\n",
        "  proceed_log:list[str]\n",
        "\n",
        "class failureoutputstate(TypedDict):\n",
        "  fa_summery:str\n",
        "  proceed_log:list[str]\n",
        "\n",
        "def get_failure(state):\n",
        "  '''get log contain in failure'''\n",
        "  clean_log = state['clean_log']\n",
        "  failures = [log for log in clean_log if 'grade' in log]\n",
        "  return{\"failures\":failures}\n",
        "\n",
        "def generate_summery(state):\n",
        "  '''get generate summery of failures'''\n",
        "  failures= state['failures']\n",
        "  fa_summery=('poor quality contain and question')\n",
        "  return{'fa_summery':fa_summery, 'proceed_log': [f\"failure-analysis-on-log-{failure['id']}\" for failure in failures]}\n",
        "\n"
      ],
      "metadata": {
        "id": "pNuUhIw4IPQu"
      },
      "execution_count": 67,
      "outputs": []
    },
    {
      "cell_type": "code",
      "source": [
        "fa_builder = StateGraph(failurestate, input=failurestate, output=failureoutputstate)  # Use failurestate for fa_builder\n",
        "fa_builder.add_node(get_failure, \"get_failure\")\n",
        "fa_builder.add_node(generate_summery, \"generate_summery\")\n",
        "fa_builder.add_edge(START, \"get_failure\")\n",
        "fa_builder.add_edge(\"get_failure\", \"generate_summery\")\n",
        "fa_builder.add_edge(\"generate_summery\", END)\n",
        "\n",
        "graph=fa_builder.compile()\n",
        "display(Image(graph.get_graph().draw_mermaid_png()))\n"
      ],
      "metadata": {
        "colab": {
          "base_uri": "https://localhost:8080/",
          "height": 350
        },
        "id": "Il-wHwGbM8Tw",
        "outputId": "9e6b3ee2-33b5-414c-d5f4-05e66262d443"
      },
      "execution_count": 68,
      "outputs": [
        {
          "output_type": "display_data",
          "data": {
            "image/png": "[encoded data removed]",
            "text/plain": [
              "<IPython.core.display.Image object>"
            ]
          },
          "metadata": {}
        }
      ]
    },
    {
      "cell_type": "code",
      "source": [
        "class Questionsummerizationstate(TypedDict):\n",
        "  clean_log:list\n",
        "  qa_summery:str  # qa_summery is defined here\n",
        "  report:str\n",
        "  proceed_log:list[str]\n",
        "\n",
        "class Questionsummerizationoutputstate(TypedDict):\n",
        "  report:str\n",
        "  proceed_log:list[str]\n",
        "\n",
        "def generate_summary(state):\n",
        "  '''get summery report'''\n",
        "  clean_log = state[\"clean_log\"]\n",
        "  qa_summery = \"Questions focused on usage of ChatOllama and Chroma vector store.\"\n",
        "  # Return 'qa_summery' instead of 'qs_summery'\n",
        "  return {\"qa_summery\":  qa_summery, \"processed_logs\": [f\"summery-on-log-{log['id']}\" for log in clean_log]}\n",
        "\n",
        "\n",
        "def sent_to_lack(state):\n",
        "  qa_summery = state [\"qa_summery\"]  # Now it can access qa_summery\n",
        "  report = \"this report is generated by AI \"\n",
        "  # Return a dictionary with 'report' as the key, not a set\n",
        "  return {\"report\": report}"
      ],
      "metadata": {
        "id": "ci_MuDBVVX3L"
      },
      "execution_count": 74,
      "outputs": []
    },
    {
      "cell_type": "code",
      "source": [
        "qa_builder = StateGraph(Questionsummerizationstate, input=Questionsummerizationstate, output=Questionsummerizationoutputstate)  # Use Questionsummerizationstate for qa_builder\n",
        "qa_builder.add_node(generate_summary, \"generate_summary\")\n",
        "qa_builder.add_node(sent_to_lack, \"sent_to_lack\")\n",
        "qa_builder.add_edge(START, \"generate_summary\")\n",
        "qa_builder.add_edge(\"generate_summary\", \"sent_to_lack\")\n",
        "qa_builder.add_edge(\"sent_to_lack\", END)\n",
        "graph=qa_builder.compile()\n",
        "display(Image(graph.get_graph().draw_mermaid_png()))\n"
      ],
      "metadata": {
        "colab": {
          "base_uri": "https://localhost:8080/",
          "height": 350
        },
        "id": "jJdKxSKoXItK",
        "outputId": "705136b1-8c74-472e-e1af-b88e0d8500a5"
      },
      "execution_count": 75,
      "outputs": [
        {
          "output_type": "display_data",
          "data": {
            "image/png": "[encoded data removed]",
            "text/plain": [
              "<IPython.core.display.Image object>"
            ]
          },
          "metadata": {}
        }
      ]
    },
    {
      "cell_type": "code",
      "source": [
        "class EntryGraph(TypedDict):\n",
        "    raw_logs: list[log]  # Changed to raw_logs\n",
        "    clean_log: list[log]\n",
        "    fa_summery: str\n",
        "    report: str\n",
        "    proceed_log: list[str]\n",
        "\n",
        "\n",
        "def clean_logs(state):\n",
        "    raw_logs = state[\"raw_logs\"]  # Access the 'raw_logs' key from the input state\n",
        "    clean_log = raw_logs\n",
        "    return {\"clean_log\": clean_log}  # Return a dictionary with 'clean_log' as the key\n"
      ],
      "metadata": {
        "id": "TDvj3qMRlBPZ"
      },
      "execution_count": 76,
      "outputs": []
    },
    {
      "cell_type": "code",
      "source": [
        "entry_builder = StateGraph(EntryGraph)\n",
        "entry_builder.add_node(\"clean_logs\", clean_logs)\n",
        "entry_builder.add_node(\"faiure_analysis\", fa_builder.compile())\n",
        "entry_builder.add_node(\"question_analysis\", qa_builder.compile())\n",
        "entry_builder.add_edge(START, \"clean_logs\")\n",
        "entry_builder.add_edge(\"clean_logs\", \"faiure_analysis\")\n",
        "entry_builder.add_edge(\"clean_logs\", \"question_analysis\")\n",
        "entry_builder.add_edge(\"faiure_analysis\", END)\n",
        "entry_builder.add_edge(\"question_analysis\", END)\n",
        "graph: CompiledStateGraph = entry_builder.compile()\n",
        "\n",
        "from IPython.display import Image, display\n",
        "\n",
        "# Setting xray to 1 will show the internal structure of the nested graph\n",
        "display(Image(graph.get_graph(xray=1).draw_mermaid_png()))\n",
        "\n"
      ],
      "metadata": {
        "colab": {
          "base_uri": "https://localhost:8080/",
          "height": 499
        },
        "id": "x83FEZm0lnpq",
        "outputId": "c5d42039-83d5-44ae-f3da-1ebb93c92f8e"
      },
      "execution_count": 77,
      "outputs": [
        {
          "output_type": "display_data",
          "data": {
            "image/png": "[encoded data removed]",
            "text/plain": [
              "<IPython.core.display.Image object>"
            ]
          },
          "metadata": {}
        }
      ]
    },
    {
      "cell_type": "code",
      "source": [
        "question_answer = log(\n",
        "    id=\"1\",\n",
        "    question=\"what is Generative AI?\",\n",
        "    answer=\"yes this is power of algrothium.'\",\n",
        ")\n",
        "\n",
        "question_answer_feedback = log(\n",
        "    id=\"2\",\n",
        "    question=\"How can I use Chroma vector store?\",\n",
        "    answer=\"To use Chroma, define: rag_chain = create_retrieval_chain(retriever, question_answer_chain).\",\n",
        "    grade=0,\n",
        "    grader=\"Document Relevance Recall\",\n",
        "    feedback=\"The retrieved documents discuss vector stores in general, but not Chroma specifically\",\n",
        ")\n",
        "\n",
        "raw_logs = [question_answer, question_answer_feedback]\n",
        "graph.invoke({\"raw_logs\": raw_logs})"
      ],
      "metadata": {
        "colab": {
          "base_uri": "https://localhost:8080/"
        },
        "id": "IiXitBk8wu4u",
        "outputId": "25bc8fa1-a09d-4a63-f05a-f90ed8518012"
      },
      "execution_count": 80,
      "outputs": [
        {
          "output_type": "execute_result",
          "data": {
            "text/plain": [
              "{'raw_logs': [{'id': '1',\n",
              "   'question': 'what is Generative AI?',\n",
              "   'answer': \"yes this is power of algrothium.'\"},\n",
              "  {'id': '2',\n",
              "   'question': 'How can I use Chroma vector store?',\n",
              "   'answer': 'To use Chroma, define: rag_chain = create_retrieval_chain(retriever, question_answer_chain).',\n",
              "   'grade': 0,\n",
              "   'grader': 'Document Relevance Recall',\n",
              "   'feedback': 'The retrieved documents discuss vector stores in general, but not Chroma specifically'}],\n",
              " 'clean_log': [{'id': '1',\n",
              "   'question': 'what is Generative AI?',\n",
              "   'answer': \"yes this is power of algrothium.'\"},\n",
              "  {'id': '2',\n",
              "   'question': 'How can I use Chroma vector store?',\n",
              "   'answer': 'To use Chroma, define: rag_chain = create_retrieval_chain(retriever, question_answer_chain).',\n",
              "   'grade': 0,\n",
              "   'grader': 'Document Relevance Recall',\n",
              "   'feedback': 'The retrieved documents discuss vector stores in general, but not Chroma specifically'}],\n",
              " 'fa_summery': 'poor quality contain and question',\n",
              " 'report': 'this report is generated by AI ',\n",
              " 'proceed_log': ['failure-analysis-on-log-2']}"
            ]
          },
          "metadata": {},
          "execution_count": 80
        }
      ]
    },
    {
      "cell_type": "code",
      "source": [
        "raw_logs"
      ],
      "metadata": {
        "colab": {
          "base_uri": "https://localhost:8080/"
        },
        "id": "NQNyj407z8Cf",
        "outputId": "17c49d3a-e958-4ec5-8ea2-d428c810f27f"
      },
      "execution_count": 79,
      "outputs": [
        {
          "output_type": "execute_result",
          "data": {
            "text/plain": [
              "[{'id': '1',\n",
              "  'question': 'How can I import ChatOllama?',\n",
              "  'answer': \"To import ChatOllama, use: 'from langchain_community.chat_models import ChatOllama.'\"},\n",
              " {'id': '2',\n",
              "  'question': 'How can I use Chroma vector store?',\n",
              "  'answer': 'To use Chroma, define: rag_chain = create_retrieval_chain(retriever, question_answer_chain).',\n",
              "  'grade': 0,\n",
              "  'grader': 'Document Relevance Recall',\n",
              "  'feedback': 'The retrieved documents discuss vector stores in general, but not Chroma specifically'}]"
            ]
          },
          "metadata": {},
          "execution_count": 79
        }
      ]
    }
  ]
}