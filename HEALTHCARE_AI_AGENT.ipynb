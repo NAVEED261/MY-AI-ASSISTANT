{
  "nbformat": 4,
  "nbformat_minor": 0,
  "metadata": {
    "colab": {
      "provenance": [],
      "authorship_tag": "ABX9TyOS8Q9gxc1hJ9o5H3CIMsVl",
      "include_colab_link": true
    },
    "kernelspec": {
      "name": "python3",
      "display_name": "Python 3"
    },
    "language_info": {
      "name": "python"
    }
  },
  "cells": [
    {
      "cell_type": "markdown",
      "metadata": {
        "id": "view-in-github",
        "colab_type": "text"
      },
      "source": [
        "<a href=\"https://colab.research.google.com/github/NAVEED261/MY-AI-ASSISTANT/blob/main/HEALTHCARE_AI_AGENT.ipynb\" target=\"_parent\"><img src=\"https://colab.research.google.com/assets/colab-badge.svg\" alt=\"Open In Colab\"/></a>"
      ]
    },
    {
      "cell_type": "code",
      "execution_count": 35,
      "metadata": {
        "id": "rt6b2A76lCdw"
      },
      "outputs": [],
      "source": [
        "%%capture --no-stderr\n",
        "%pip install --quiet -U langchain_google_genai langchain_core langgraph"
      ]
    },
    {
      "cell_type": "code",
      "source": [
        "from google.colab import userdata\n",
        "GEMINI_API_KEY = userdata.get('GOOGLE_API_KEY')\n",
        "from langchain_google_genai import ChatGoogleGenerativeAI\n",
        "llm = ChatGoogleGenerativeAI(model=\"gemini-1.5-flash\", api_key = GEMINI_API_KEY)\n",
        "llm.invoke(\"im naveed\")"
      ],
      "metadata": {
        "colab": {
          "base_uri": "https://localhost:8080/"
        },
        "id": "oBAlkdV1lmcR",
        "outputId": "053b8319-debd-47a2-b5ba-3c71f95b482b"
      },
      "execution_count": 36,
      "outputs": [
        {
          "output_type": "execute_result",
          "data": {
            "text/plain": [
              "AIMessage(content=\"It's nice to meet you, Naveed.  Is there anything I can help you with today?\\n\", additional_kwargs={}, response_metadata={'prompt_feedback': {'block_reason': 0, 'safety_ratings': []}, 'finish_reason': 'STOP', 'safety_ratings': []}, id='run-dd1288c8-896b-4511-9f60-2a333baf20ab-0', usage_metadata={'input_tokens': 4, 'output_tokens': 23, 'total_tokens': 27, 'input_token_details': {'cache_read': 0}})"
            ]
          },
          "metadata": {},
          "execution_count": 36
        }
      ]
    },
    {
      "cell_type": "code",
      "source": [
        "import os\n",
        "from google.colab import userdata\n",
        "LANGCHAIN_API_KEY = userdata.get('langchain')\n",
        "# Use os.environ to access and modify environment variables\n",
        "os.environ[\"langchain\"] = LANGCHAIN_API_KEY\n",
        "os.environ[\"langchain\"] = \"true\"\n",
        "os.environ[\"langchain\"] = \"langchain\""
      ],
      "metadata": {
        "id": "RxCwNXM1lsfo"
      },
      "execution_count": 37,
      "outputs": []
    },
    {
      "cell_type": "code",
      "source": [
        "from langgraph.graph import MessagesState\n",
        "from langchain_core.messages import AIMessage, HumanMessage, SystemMessage\n",
        "from langgraph.graph import START, StateGraph\n",
        "from langgraph.prebuilt import tools_condition, ToolNode\n",
        "from IPython.display import Image, display\n",
        "from langgraph.graph.state import CompiledStateGraph\n",
        "from langgraph.checkpoint.memory import MemorySaver\n",
        "memory: MemorySaver = MemorySaver()"
      ],
      "metadata": {
        "id": "wh7Z8tEms5Hs"
      },
      "execution_count": 48,
      "outputs": []
    },
    {
      "cell_type": "code",
      "source": [
        "# ... (previous code)\n",
        "\n",
        "# Define the functions for your tools\n",
        "\n",
        "# ... (other functions)\n",
        "\n",
        "def check_symptoms(symptoms: list[str]) -> str:  # Change here: Add type hint for symptoms\n",
        "    \"\"\"Check symptoms and provide potential diagnosis.\"\"\"\n",
        "    try:\n",
        "        conditions = []\n",
        "        if \"fever\" in symptoms and \"cough\" in symptoms:\n",
        "            conditions.append(\"Possible flu or respiratory infection.\")\n",
        "        if \"chest pain\" in symptoms:\n",
        "            conditions.append(\"Risk of heart issues, consult a cardiologist.\")\n",
        "        if \"headache\" in symptoms and \"blurred vision\" in symptoms:\n",
        "            conditions.append(\"Possible migraine or neurological issue.\")\n",
        "\n",
        "        return \" | \".join(conditions) if conditions else \"No immediate conditions detected.\"\n",
        "    except Exception as e:\n",
        "        return f\"Error checking symptoms: {e}\"\n",
        "\n",
        "# ... (rest of the code)\n",
        "\n",
        "# LLM setup and binding tools\n",
        "# Assuming 'llm' is your ChatGoogleGenerativeAI instance\n",
        "\n",
        "from typing import Any, Dict, List, Optional, Union\n",
        "\n",
        "from langchain.tools import tool\n",
        "\n",
        "@tool\n",
        "def check_symptoms(symptoms: str) -> str:\n",
        "    \"\"\"Check symptoms and provide potential diagnosis.\"\"\"\n",
        "    try:\n",
        "        symptoms_list = symptoms.split(\",\") # Assuming comma-separated symptoms\n",
        "        conditions = []\n",
        "        if \"fever\" in symptoms_list and \"cough\" in symptoms_list:\n",
        "            conditions.append(\"Possible flu or respiratory infection.\")\n",
        "        if \"chest pain\" in symptoms_list:\n",
        "            conditions.append(\"Risk of heart issues, consult a cardiologist.\")\n",
        "        if \"headache\" in symptoms_list and \"blurred vision\" in symptoms_list:\n",
        "            conditions.append(\"Possible migraine or neurological issue.\")\n",
        "\n",
        "        return \" | \".join(conditions) if conditions else \"No immediate conditions detected.\"\n",
        "    except Exception as e:\n",
        "        return f\"Error checking symptoms: {e}\"\n",
        "\n",
        "tools = [calculate_bmi, analyze_blood_pressure, check_symptoms, age_based_risk]\n",
        "\n",
        "\n",
        "llm_with_tools = llm.bind_tools(tools)\n",
        "\n",
        "# ... (rest of the code)"
      ],
      "metadata": {
        "id": "iEEfgRaDoWOS"
      },
      "execution_count": 68,
      "outputs": []
    },
    {
      "cell_type": "code",
      "source": [
        "llm_with_tools"
      ],
      "metadata": {
        "colab": {
          "base_uri": "https://localhost:8080/"
        },
        "id": "iSKOr9j9o_6J",
        "outputId": "69b6e727-481a-48b9-e758-5d09791dcc0c"
      },
      "execution_count": 69,
      "outputs": [
        {
          "output_type": "execute_result",
          "data": {
            "text/plain": [
              "RunnableBinding(bound=ChatGoogleGenerativeAI(model='models/gemini-1.5-flash', google_api_key=SecretStr('**********'), client=<google.ai.generativelanguage_v1beta.services.generative_service.client.GenerativeServiceClient object at 0x79b44b88ded0>, default_metadata=()), kwargs={'tools': [{'type': 'function', 'function': {'name': 'calculate_bmi', 'description': 'Calculate BMI and provide health assessment.', 'parameters': {'properties': {'weight': {'type': 'number'}, 'height': {'type': 'number'}}, 'required': ['weight', 'height'], 'type': 'object'}}}, {'type': 'function', 'function': {'name': 'analyze_blood_pressure', 'description': 'Analyze blood pressure readings.', 'parameters': {'properties': {'bp_systolic': {'type': 'integer'}, 'bp_diastolic': {'type': 'integer'}}, 'required': ['bp_systolic', 'bp_diastolic'], 'type': 'object'}}}, {'type': 'function', 'function': {'name': 'check_symptoms', 'description': 'Check symptoms and provide potential diagnosis.', 'parameters': {'properties': {'symptoms': {'type': 'string'}}, 'required': ['symptoms'], 'type': 'object'}}}, {'type': 'function', 'function': {'name': 'age_based_risk', 'description': 'Assess health risks based on age.', 'parameters': {'properties': {'age': {'type': 'integer'}}, 'required': ['age'], 'type': 'object'}}}]}, config={}, config_factories=[])"
            ]
          },
          "metadata": {},
          "execution_count": 69
        }
      ]
    },
    {
      "cell_type": "code",
      "source": [
        "sys_msg = SystemMessage(content=\"You are a helpful assistant tasked with performing arithmetic on a set of inputs.\")\n",
        "\n",
        "# Node\n",
        "def assistant(state: MessagesState) -> MessagesState:\n",
        "   return {\"messages\": [llm_with_tools.invoke([sys_msg] + state[\"messages\"])]}\n",
        ""
      ],
      "metadata": {
        "id": "RS9DqEx-pQ7F"
      },
      "execution_count": 70,
      "outputs": []
    },
    {
      "cell_type": "code",
      "source": [
        "# Graph\n",
        "builder: StateGraph = StateGraph(MessagesState)\n",
        "\n",
        "# Define nodes: these do the work\n",
        "builder.add_node(\"assistant\", assistant)\n",
        "builder.add_node(\"tools\", ToolNode(tools))\n",
        "\n",
        "# Define edges: these determine how the control flow moves\n",
        "builder.add_edge(START, \"assistant\")\n",
        "builder.add_conditional_edges(\n",
        "    \"assistant\",\n",
        "\n",
        "    tools_condition,\n",
        ")\n",
        "builder.add_edge(\"tools\", \"assistant\")\n",
        "graph = builder.compile(checkpointer=memory)"
      ],
      "metadata": {
        "id": "zvR-usXCpUyp"
      },
      "execution_count": 71,
      "outputs": []
    },
    {
      "cell_type": "code",
      "source": [
        "display(Image(graph.get_graph(xray=True).draw_mermaid_png()))"
      ],
      "metadata": {
        "colab": {
          "base_uri": "https://localhost:8080/",
          "height": 266
        },
        "id": "YzfRLP64pYyH",
        "outputId": "d3ece5b8-df91-4051-ce69-d721f83285b9"
      },
      "execution_count": 72,
      "outputs": [
        {
          "output_type": "display_data",
          "data": {
            "image/png": "[encoded data removed]",
            "text/plain": [
              "<IPython.core.display.Image object>"
            ]
          },
          "metadata": {}
        }
      ]
    },
    {
      "cell_type": "code",
      "source": [
        "from langchain.schema.messages import HumanMessage , AIMessage , ToolMessage\n",
        ""
      ],
      "metadata": {
        "id": "K7MPUhPJpnxV"
      },
      "execution_count": 73,
      "outputs": []
    },
    {
      "cell_type": "code",
      "source": [
        "config1 = {\"configurable\": {\"thread_id\": \"1\"}}"
      ],
      "metadata": {
        "id": "tVp8V_PFrcvZ"
      },
      "execution_count": 74,
      "outputs": []
    },
    {
      "cell_type": "code",
      "source": [
        "messages = graph.invoke({\"messages\": [HumanMessage(content=\"Analyze patient data for BMI and blood pressure. Patient details: weight=70, height=1.75, bp_systolic=130, bp_diastolic=85.\")]},config1)\n",
        "for m in messages['messages']:\n",
        "    m.pretty_print()"
      ],
      "metadata": {
        "colab": {
          "base_uri": "https://localhost:8080/"
        },
        "id": "hrpVrOe3sISw",
        "outputId": "0869eeff-b166-498b-b749-24ddb130a1d4"
      },
      "execution_count": 75,
      "outputs": [
        {
          "output_type": "stream",
          "name": "stdout",
          "text": [
            "================================\u001b[1m Human Message \u001b[0m=================================\n",
            "\n",
            "Analyze patient data for BMI and blood pressure. Patient details: weight=70, height=1.75, bp_systolic=130, bp_diastolic=85.\n",
            "================================\u001b[1m Human Message \u001b[0m=================================\n",
            "\n",
            "Analyze patient data for BMI and blood pressure. Patient details: weight=70, height=1.75, bp_systolic=130, bp_diastolic=85.\n",
            "================================\u001b[1m Human Message \u001b[0m=================================\n",
            "\n",
            "Analyze patient data for BMI and blood pressure. Patient details: weight=70, height=1.75, bp_systolic=130, bp_diastolic=85.\n",
            "================================\u001b[1m Human Message \u001b[0m=================================\n",
            "\n",
            "Analyze patient data for BMI and blood pressure. Patient details: weight=70, height=1.75, bp_systolic=130, bp_diastolic=85.\n",
            "==================================\u001b[1m Ai Message \u001b[0m==================================\n",
            "Tool Calls:\n",
            "  calculate_bmi (bc36cf5b-c3a0-4bfc-b5cd-5dd1552e5b8a)\n",
            " Call ID: bc36cf5b-c3a0-4bfc-b5cd-5dd1552e5b8a\n",
            "  Args:\n",
            "    height: 1.75\n",
            "    weight: 70.0\n",
            "  analyze_blood_pressure (b7363c6f-8453-4a5a-8e24-16de661a963c)\n",
            " Call ID: b7363c6f-8453-4a5a-8e24-16de661a963c\n",
            "  Args:\n",
            "    bp_diastolic: 85.0\n",
            "    bp_systolic: 130.0\n",
            "=================================\u001b[1m Tool Message \u001b[0m=================================\n",
            "Name: calculate_bmi\n",
            "\n",
            "BMI: 22.86 (Normal weight)\n",
            "=================================\u001b[1m Tool Message \u001b[0m=================================\n",
            "Name: analyze_blood_pressure\n",
            "\n",
            "Blood Pressure: Elevated (Monitor regularly)\n",
            "==================================\u001b[1m Ai Message \u001b[0m==================================\n",
            "\n",
            "BMI: 22.86 (Normal weight). Blood Pressure: Elevated (Monitor regularly).\n"
          ]
        }
      ]
    },
    {
      "cell_type": "code",
      "source": [
        "messages = graph.invoke({\"messages\": [HumanMessage(content=\"Analyze blood pressure for systolic 135 and diastolic 85\")]},config1)\n",
        "for m in messages['messages']:\n",
        "    m.pretty_print()"
      ],
      "metadata": {
        "colab": {
          "base_uri": "https://localhost:8080/"
        },
        "id": "wC98YAnXuzuE",
        "outputId": "460acd26-b51f-4411-db5a-922dd4ef63ba"
      },
      "execution_count": 76,
      "outputs": [
        {
          "output_type": "stream",
          "name": "stdout",
          "text": [
            "================================\u001b[1m Human Message \u001b[0m=================================\n",
            "\n",
            "Analyze patient data for BMI and blood pressure. Patient details: weight=70, height=1.75, bp_systolic=130, bp_diastolic=85.\n",
            "================================\u001b[1m Human Message \u001b[0m=================================\n",
            "\n",
            "Analyze patient data for BMI and blood pressure. Patient details: weight=70, height=1.75, bp_systolic=130, bp_diastolic=85.\n",
            "================================\u001b[1m Human Message \u001b[0m=================================\n",
            "\n",
            "Analyze patient data for BMI and blood pressure. Patient details: weight=70, height=1.75, bp_systolic=130, bp_diastolic=85.\n",
            "================================\u001b[1m Human Message \u001b[0m=================================\n",
            "\n",
            "Analyze patient data for BMI and blood pressure. Patient details: weight=70, height=1.75, bp_systolic=130, bp_diastolic=85.\n",
            "==================================\u001b[1m Ai Message \u001b[0m==================================\n",
            "Tool Calls:\n",
            "  calculate_bmi (bc36cf5b-c3a0-4bfc-b5cd-5dd1552e5b8a)\n",
            " Call ID: bc36cf5b-c3a0-4bfc-b5cd-5dd1552e5b8a\n",
            "  Args:\n",
            "    height: 1.75\n",
            "    weight: 70.0\n",
            "  analyze_blood_pressure (b7363c6f-8453-4a5a-8e24-16de661a963c)\n",
            " Call ID: b7363c6f-8453-4a5a-8e24-16de661a963c\n",
            "  Args:\n",
            "    bp_diastolic: 85.0\n",
            "    bp_systolic: 130.0\n",
            "=================================\u001b[1m Tool Message \u001b[0m=================================\n",
            "Name: calculate_bmi\n",
            "\n",
            "BMI: 22.86 (Normal weight)\n",
            "=================================\u001b[1m Tool Message \u001b[0m=================================\n",
            "Name: analyze_blood_pressure\n",
            "\n",
            "Blood Pressure: Elevated (Monitor regularly)\n",
            "==================================\u001b[1m Ai Message \u001b[0m==================================\n",
            "\n",
            "BMI: 22.86 (Normal weight). Blood Pressure: Elevated (Monitor regularly).\n",
            "================================\u001b[1m Human Message \u001b[0m=================================\n",
            "\n",
            "Analyze blood pressure for systolic 135 and diastolic 85\n",
            "==================================\u001b[1m Ai Message \u001b[0m==================================\n",
            "Tool Calls:\n",
            "  analyze_blood_pressure (1ad72ef7-8346-4c25-a0d9-e7c1d7451eb7)\n",
            " Call ID: 1ad72ef7-8346-4c25-a0d9-e7c1d7451eb7\n",
            "  Args:\n",
            "    bp_diastolic: 85.0\n",
            "    bp_systolic: 135.0\n",
            "=================================\u001b[1m Tool Message \u001b[0m=================================\n",
            "Name: analyze_blood_pressure\n",
            "\n",
            "Blood Pressure: Elevated (Monitor regularly)\n",
            "==================================\u001b[1m Ai Message \u001b[0m==================================\n",
            "\n",
            "Blood Pressure: Elevated (Monitor regularly)\n"
          ]
        }
      ]
    },
    {
      "cell_type": "code",
      "source": [
        "messages = graph.invoke({\"messages\": [HumanMessage(content=\"Assess health risks for a 45-year-old patient\")]},config1)\n",
        "for m in messages['messages']:\n",
        "    m.pretty_print()"
      ],
      "metadata": {
        "colab": {
          "base_uri": "https://localhost:8080/"
        },
        "id": "w_pTp_yEvmND",
        "outputId": "c4d7eace-3355-49b5-ee2e-a5a67fa2d7d9"
      },
      "execution_count": 77,
      "outputs": [
        {
          "output_type": "stream",
          "name": "stdout",
          "text": [
            "================================\u001b[1m Human Message \u001b[0m=================================\n",
            "\n",
            "Analyze patient data for BMI and blood pressure. Patient details: weight=70, height=1.75, bp_systolic=130, bp_diastolic=85.\n",
            "================================\u001b[1m Human Message \u001b[0m=================================\n",
            "\n",
            "Analyze patient data for BMI and blood pressure. Patient details: weight=70, height=1.75, bp_systolic=130, bp_diastolic=85.\n",
            "================================\u001b[1m Human Message \u001b[0m=================================\n",
            "\n",
            "Analyze patient data for BMI and blood pressure. Patient details: weight=70, height=1.75, bp_systolic=130, bp_diastolic=85.\n",
            "================================\u001b[1m Human Message \u001b[0m=================================\n",
            "\n",
            "Analyze patient data for BMI and blood pressure. Patient details: weight=70, height=1.75, bp_systolic=130, bp_diastolic=85.\n",
            "==================================\u001b[1m Ai Message \u001b[0m==================================\n",
            "Tool Calls:\n",
            "  calculate_bmi (bc36cf5b-c3a0-4bfc-b5cd-5dd1552e5b8a)\n",
            " Call ID: bc36cf5b-c3a0-4bfc-b5cd-5dd1552e5b8a\n",
            "  Args:\n",
            "    height: 1.75\n",
            "    weight: 70.0\n",
            "  analyze_blood_pressure (b7363c6f-8453-4a5a-8e24-16de661a963c)\n",
            " Call ID: b7363c6f-8453-4a5a-8e24-16de661a963c\n",
            "  Args:\n",
            "    bp_diastolic: 85.0\n",
            "    bp_systolic: 130.0\n",
            "=================================\u001b[1m Tool Message \u001b[0m=================================\n",
            "Name: calculate_bmi\n",
            "\n",
            "BMI: 22.86 (Normal weight)\n",
            "=================================\u001b[1m Tool Message \u001b[0m=================================\n",
            "Name: analyze_blood_pressure\n",
            "\n",
            "Blood Pressure: Elevated (Monitor regularly)\n",
            "==================================\u001b[1m Ai Message \u001b[0m==================================\n",
            "\n",
            "BMI: 22.86 (Normal weight). Blood Pressure: Elevated (Monitor regularly).\n",
            "================================\u001b[1m Human Message \u001b[0m=================================\n",
            "\n",
            "Analyze blood pressure for systolic 135 and diastolic 85\n",
            "==================================\u001b[1m Ai Message \u001b[0m==================================\n",
            "Tool Calls:\n",
            "  analyze_blood_pressure (1ad72ef7-8346-4c25-a0d9-e7c1d7451eb7)\n",
            " Call ID: 1ad72ef7-8346-4c25-a0d9-e7c1d7451eb7\n",
            "  Args:\n",
            "    bp_diastolic: 85.0\n",
            "    bp_systolic: 135.0\n",
            "=================================\u001b[1m Tool Message \u001b[0m=================================\n",
            "Name: analyze_blood_pressure\n",
            "\n",
            "Blood Pressure: Elevated (Monitor regularly)\n",
            "==================================\u001b[1m Ai Message \u001b[0m==================================\n",
            "\n",
            "Blood Pressure: Elevated (Monitor regularly)\n",
            "================================\u001b[1m Human Message \u001b[0m=================================\n",
            "\n",
            "Assess health risks for a 45-year-old patient\n",
            "==================================\u001b[1m Ai Message \u001b[0m==================================\n",
            "Tool Calls:\n",
            "  age_based_risk (35378b68-2ac7-4a66-95b8-33f333543b3d)\n",
            " Call ID: 35378b68-2ac7-4a66-95b8-33f333543b3d\n",
            "  Args:\n",
            "    age: 45.0\n",
            "=================================\u001b[1m Tool Message \u001b[0m=================================\n",
            "Name: age_based_risk\n",
            "\n",
            "Risk Assessment: Regular screenings for diabetes and hypertension recommended.\n",
            "==================================\u001b[1m Ai Message \u001b[0m==================================\n",
            "\n",
            "Risk Assessment: Regular screenings for diabetes and hypertension recommended.\n"
          ]
        }
      ]
    },
    {
      "cell_type": "code",
      "source": [
        "messages = graph.invoke({\"messages\": [HumanMessage(content=\"Calculate BMI for weight 92kg and height 1.70m, and analyze blood pressure for systolic 145 and diastolic 95\")]},config1)\n",
        "for m in messages['messages']:\n",
        "    m.pretty_print()"
      ],
      "metadata": {
        "colab": {
          "base_uri": "https://localhost:8080/"
        },
        "id": "XTF85AMwv0Q8",
        "outputId": "bbd7e7c8-87eb-4459-e1df-43c60572b340"
      },
      "execution_count": 78,
      "outputs": [
        {
          "output_type": "stream",
          "name": "stdout",
          "text": [
            "================================\u001b[1m Human Message \u001b[0m=================================\n",
            "\n",
            "Analyze patient data for BMI and blood pressure. Patient details: weight=70, height=1.75, bp_systolic=130, bp_diastolic=85.\n",
            "================================\u001b[1m Human Message \u001b[0m=================================\n",
            "\n",
            "Analyze patient data for BMI and blood pressure. Patient details: weight=70, height=1.75, bp_systolic=130, bp_diastolic=85.\n",
            "================================\u001b[1m Human Message \u001b[0m=================================\n",
            "\n",
            "Analyze patient data for BMI and blood pressure. Patient details: weight=70, height=1.75, bp_systolic=130, bp_diastolic=85.\n",
            "================================\u001b[1m Human Message \u001b[0m=================================\n",
            "\n",
            "Analyze patient data for BMI and blood pressure. Patient details: weight=70, height=1.75, bp_systolic=130, bp_diastolic=85.\n",
            "==================================\u001b[1m Ai Message \u001b[0m==================================\n",
            "Tool Calls:\n",
            "  calculate_bmi (bc36cf5b-c3a0-4bfc-b5cd-5dd1552e5b8a)\n",
            " Call ID: bc36cf5b-c3a0-4bfc-b5cd-5dd1552e5b8a\n",
            "  Args:\n",
            "    height: 1.75\n",
            "    weight: 70.0\n",
            "  analyze_blood_pressure (b7363c6f-8453-4a5a-8e24-16de661a963c)\n",
            " Call ID: b7363c6f-8453-4a5a-8e24-16de661a963c\n",
            "  Args:\n",
            "    bp_diastolic: 85.0\n",
            "    bp_systolic: 130.0\n",
            "=================================\u001b[1m Tool Message \u001b[0m=================================\n",
            "Name: calculate_bmi\n",
            "\n",
            "BMI: 22.86 (Normal weight)\n",
            "=================================\u001b[1m Tool Message \u001b[0m=================================\n",
            "Name: analyze_blood_pressure\n",
            "\n",
            "Blood Pressure: Elevated (Monitor regularly)\n",
            "==================================\u001b[1m Ai Message \u001b[0m==================================\n",
            "\n",
            "BMI: 22.86 (Normal weight). Blood Pressure: Elevated (Monitor regularly).\n",
            "================================\u001b[1m Human Message \u001b[0m=================================\n",
            "\n",
            "Analyze blood pressure for systolic 135 and diastolic 85\n",
            "==================================\u001b[1m Ai Message \u001b[0m==================================\n",
            "Tool Calls:\n",
            "  analyze_blood_pressure (1ad72ef7-8346-4c25-a0d9-e7c1d7451eb7)\n",
            " Call ID: 1ad72ef7-8346-4c25-a0d9-e7c1d7451eb7\n",
            "  Args:\n",
            "    bp_diastolic: 85.0\n",
            "    bp_systolic: 135.0\n",
            "=================================\u001b[1m Tool Message \u001b[0m=================================\n",
            "Name: analyze_blood_pressure\n",
            "\n",
            "Blood Pressure: Elevated (Monitor regularly)\n",
            "==================================\u001b[1m Ai Message \u001b[0m==================================\n",
            "\n",
            "Blood Pressure: Elevated (Monitor regularly)\n",
            "================================\u001b[1m Human Message \u001b[0m=================================\n",
            "\n",
            "Assess health risks for a 45-year-old patient\n",
            "==================================\u001b[1m Ai Message \u001b[0m==================================\n",
            "Tool Calls:\n",
            "  age_based_risk (35378b68-2ac7-4a66-95b8-33f333543b3d)\n",
            " Call ID: 35378b68-2ac7-4a66-95b8-33f333543b3d\n",
            "  Args:\n",
            "    age: 45.0\n",
            "=================================\u001b[1m Tool Message \u001b[0m=================================\n",
            "Name: age_based_risk\n",
            "\n",
            "Risk Assessment: Regular screenings for diabetes and hypertension recommended.\n",
            "==================================\u001b[1m Ai Message \u001b[0m==================================\n",
            "\n",
            "Risk Assessment: Regular screenings for diabetes and hypertension recommended.\n",
            "================================\u001b[1m Human Message \u001b[0m=================================\n",
            "\n",
            "Calculate BMI for weight 92kg and height 1.70m, and analyze blood pressure for systolic 145 and diastolic 95\n",
            "==================================\u001b[1m Ai Message \u001b[0m==================================\n",
            "Tool Calls:\n",
            "  calculate_bmi (ccf9b36a-c728-4e7e-8c58-43cb93f55218)\n",
            " Call ID: ccf9b36a-c728-4e7e-8c58-43cb93f55218\n",
            "  Args:\n",
            "    height: 1.7\n",
            "    weight: 92.0\n",
            "=================================\u001b[1m Tool Message \u001b[0m=================================\n",
            "Name: calculate_bmi\n",
            "\n",
            "BMI: 31.83 (Obesity)\n",
            "==================================\u001b[1m Ai Message \u001b[0m==================================\n",
            "Tool Calls:\n",
            "  analyze_blood_pressure (f9eb14b1-46e5-4ac3-86bc-46870a1bc616)\n",
            " Call ID: f9eb14b1-46e5-4ac3-86bc-46870a1bc616\n",
            "  Args:\n",
            "    bp_diastolic: 95.0\n",
            "    bp_systolic: 145.0\n",
            "=================================\u001b[1m Tool Message \u001b[0m=================================\n",
            "Name: analyze_blood_pressure\n",
            "\n",
            "Blood Pressure: High (Consult a doctor)\n",
            "==================================\u001b[1m Ai Message \u001b[0m==================================\n",
            "\n",
            "BMI: 31.83 (Obesity). Blood Pressure: High (Consult a doctor)\n"
          ]
        }
      ]
    },
    {
      "cell_type": "code",
      "source": [
        "messages = graph.invoke({\"messages\": [HumanMessage(content=\"Analyze a 55-year-old patient. Calculate BMI for weight 90kg and height 1.65m, analyze blood pressure for systolic 150 and diastolic 95, assess symptoms: fever, cough, and chest pain, and provide age-based health risk assessment.\")]},config1)\n",
        "for m in messages['messages']:\n",
        "    m.pretty_print()\n"
      ],
      "metadata": {
        "colab": {
          "base_uri": "https://localhost:8080/"
        },
        "id": "71BZpH_bwFoL",
        "outputId": "6ca22861-cd44-40f2-c117-5625e0be2387"
      },
      "execution_count": 79,
      "outputs": [
        {
          "output_type": "stream",
          "name": "stdout",
          "text": [
            "================================\u001b[1m Human Message \u001b[0m=================================\n",
            "\n",
            "Analyze patient data for BMI and blood pressure. Patient details: weight=70, height=1.75, bp_systolic=130, bp_diastolic=85.\n",
            "================================\u001b[1m Human Message \u001b[0m=================================\n",
            "\n",
            "Analyze patient data for BMI and blood pressure. Patient details: weight=70, height=1.75, bp_systolic=130, bp_diastolic=85.\n",
            "================================\u001b[1m Human Message \u001b[0m=================================\n",
            "\n",
            "Analyze patient data for BMI and blood pressure. Patient details: weight=70, height=1.75, bp_systolic=130, bp_diastolic=85.\n",
            "================================\u001b[1m Human Message \u001b[0m=================================\n",
            "\n",
            "Analyze patient data for BMI and blood pressure. Patient details: weight=70, height=1.75, bp_systolic=130, bp_diastolic=85.\n",
            "==================================\u001b[1m Ai Message \u001b[0m==================================\n",
            "Tool Calls:\n",
            "  calculate_bmi (bc36cf5b-c3a0-4bfc-b5cd-5dd1552e5b8a)\n",
            " Call ID: bc36cf5b-c3a0-4bfc-b5cd-5dd1552e5b8a\n",
            "  Args:\n",
            "    height: 1.75\n",
            "    weight: 70.0\n",
            "  analyze_blood_pressure (b7363c6f-8453-4a5a-8e24-16de661a963c)\n",
            " Call ID: b7363c6f-8453-4a5a-8e24-16de661a963c\n",
            "  Args:\n",
            "    bp_diastolic: 85.0\n",
            "    bp_systolic: 130.0\n",
            "=================================\u001b[1m Tool Message \u001b[0m=================================\n",
            "Name: calculate_bmi\n",
            "\n",
            "BMI: 22.86 (Normal weight)\n",
            "=================================\u001b[1m Tool Message \u001b[0m=================================\n",
            "Name: analyze_blood_pressure\n",
            "\n",
            "Blood Pressure: Elevated (Monitor regularly)\n",
            "==================================\u001b[1m Ai Message \u001b[0m==================================\n",
            "\n",
            "BMI: 22.86 (Normal weight). Blood Pressure: Elevated (Monitor regularly).\n",
            "================================\u001b[1m Human Message \u001b[0m=================================\n",
            "\n",
            "Analyze blood pressure for systolic 135 and diastolic 85\n",
            "==================================\u001b[1m Ai Message \u001b[0m==================================\n",
            "Tool Calls:\n",
            "  analyze_blood_pressure (1ad72ef7-8346-4c25-a0d9-e7c1d7451eb7)\n",
            " Call ID: 1ad72ef7-8346-4c25-a0d9-e7c1d7451eb7\n",
            "  Args:\n",
            "    bp_diastolic: 85.0\n",
            "    bp_systolic: 135.0\n",
            "=================================\u001b[1m Tool Message \u001b[0m=================================\n",
            "Name: analyze_blood_pressure\n",
            "\n",
            "Blood Pressure: Elevated (Monitor regularly)\n",
            "==================================\u001b[1m Ai Message \u001b[0m==================================\n",
            "\n",
            "Blood Pressure: Elevated (Monitor regularly)\n",
            "================================\u001b[1m Human Message \u001b[0m=================================\n",
            "\n",
            "Assess health risks for a 45-year-old patient\n",
            "==================================\u001b[1m Ai Message \u001b[0m==================================\n",
            "Tool Calls:\n",
            "  age_based_risk (35378b68-2ac7-4a66-95b8-33f333543b3d)\n",
            " Call ID: 35378b68-2ac7-4a66-95b8-33f333543b3d\n",
            "  Args:\n",
            "    age: 45.0\n",
            "=================================\u001b[1m Tool Message \u001b[0m=================================\n",
            "Name: age_based_risk\n",
            "\n",
            "Risk Assessment: Regular screenings for diabetes and hypertension recommended.\n",
            "==================================\u001b[1m Ai Message \u001b[0m==================================\n",
            "\n",
            "Risk Assessment: Regular screenings for diabetes and hypertension recommended.\n",
            "================================\u001b[1m Human Message \u001b[0m=================================\n",
            "\n",
            "Calculate BMI for weight 92kg and height 1.70m, and analyze blood pressure for systolic 145 and diastolic 95\n",
            "==================================\u001b[1m Ai Message \u001b[0m==================================\n",
            "Tool Calls:\n",
            "  calculate_bmi (ccf9b36a-c728-4e7e-8c58-43cb93f55218)\n",
            " Call ID: ccf9b36a-c728-4e7e-8c58-43cb93f55218\n",
            "  Args:\n",
            "    height: 1.7\n",
            "    weight: 92.0\n",
            "=================================\u001b[1m Tool Message \u001b[0m=================================\n",
            "Name: calculate_bmi\n",
            "\n",
            "BMI: 31.83 (Obesity)\n",
            "==================================\u001b[1m Ai Message \u001b[0m==================================\n",
            "Tool Calls:\n",
            "  analyze_blood_pressure (f9eb14b1-46e5-4ac3-86bc-46870a1bc616)\n",
            " Call ID: f9eb14b1-46e5-4ac3-86bc-46870a1bc616\n",
            "  Args:\n",
            "    bp_diastolic: 95.0\n",
            "    bp_systolic: 145.0\n",
            "=================================\u001b[1m Tool Message \u001b[0m=================================\n",
            "Name: analyze_blood_pressure\n",
            "\n",
            "Blood Pressure: High (Consult a doctor)\n",
            "==================================\u001b[1m Ai Message \u001b[0m==================================\n",
            "\n",
            "BMI: 31.83 (Obesity). Blood Pressure: High (Consult a doctor)\n",
            "================================\u001b[1m Human Message \u001b[0m=================================\n",
            "\n",
            "Analyze a 55-year-old patient. Calculate BMI for weight 90kg and height 1.65m, analyze blood pressure for systolic 150 and diastolic 95, assess symptoms: fever, cough, and chest pain, and provide age-based health risk assessment.\n",
            "==================================\u001b[1m Ai Message \u001b[0m==================================\n",
            "Tool Calls:\n",
            "  calculate_bmi (ff052b2e-d7be-4b17-958f-9014b78e9d99)\n",
            " Call ID: ff052b2e-d7be-4b17-958f-9014b78e9d99\n",
            "  Args:\n",
            "    height: 1.65\n",
            "    weight: 90.0\n",
            "=================================\u001b[1m Tool Message \u001b[0m=================================\n",
            "Name: calculate_bmi\n",
            "\n",
            "BMI: 33.06 (Obesity)\n",
            "==================================\u001b[1m Ai Message \u001b[0m==================================\n",
            "Tool Calls:\n",
            "  analyze_blood_pressure (424020a9-4a20-4e2f-9ff9-ba6ebf280cf1)\n",
            " Call ID: 424020a9-4a20-4e2f-9ff9-ba6ebf280cf1\n",
            "  Args:\n",
            "    bp_diastolic: 95.0\n",
            "    bp_systolic: 150.0\n",
            "=================================\u001b[1m Tool Message \u001b[0m=================================\n",
            "Name: analyze_blood_pressure\n",
            "\n",
            "Blood Pressure: High (Consult a doctor)\n",
            "==================================\u001b[1m Ai Message \u001b[0m==================================\n",
            "Tool Calls:\n",
            "  check_symptoms (a04dea50-7f1b-49ce-8744-04e99793ad28)\n",
            " Call ID: a04dea50-7f1b-49ce-8744-04e99793ad28\n",
            "  Args:\n",
            "    symptoms: fever, cough, chest pain\n",
            "=================================\u001b[1m Tool Message \u001b[0m=================================\n",
            "Name: check_symptoms\n",
            "\n",
            "No immediate conditions detected.\n",
            "==================================\u001b[1m Ai Message \u001b[0m==================================\n",
            "Tool Calls:\n",
            "  age_based_risk (63de7095-5f4c-4c3f-917d-7da92c50b78f)\n",
            " Call ID: 63de7095-5f4c-4c3f-917d-7da92c50b78f\n",
            "  Args:\n",
            "    age: 55.0\n",
            "=================================\u001b[1m Tool Message \u001b[0m=================================\n",
            "Name: age_based_risk\n",
            "\n",
            "Risk Assessment: Regular screenings for diabetes and hypertension recommended.\n",
            "==================================\u001b[1m Ai Message \u001b[0m==================================\n",
            "\n",
            "BMI: 33.06 (Obesity). Blood Pressure: High (Consult a doctor). Symptoms: No immediate conditions detected. Age-Based Risk Assessment: Regular screenings for diabetes and hypertension recommended.\n"
          ]
        }
      ]
    }
  ]
}