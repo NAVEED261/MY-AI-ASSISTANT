{
  "nbformat": 4,
  "nbformat_minor": 0,
  "metadata": {
    "colab": {
      "provenance": [],
      "authorship_tag": "ABX9TyNSE/m4bxd4zAYhkqm2olL0",
      "include_colab_link": true
    },
    "kernelspec": {
      "name": "python3",
      "display_name": "Python 3"
    },
    "language_info": {
      "name": "python"
    }
  },
  "cells": [
    {
      "cell_type": "markdown",
      "metadata": {
        "id": "view-in-github",
        "colab_type": "text"
      },
      "source": [
        "<a href=\"https://colab.research.google.com/github/NAVEED261/MY-AI-ASSISTANT/blob/main/command_3_agent.ipynb\" target=\"_parent\"><img src=\"https://colab.research.google.com/assets/colab-badge.svg\" alt=\"Open In Colab\"/></a>"
      ]
    },
    {
      "cell_type": "code",
      "execution_count": 110,
      "metadata": {
        "id": "_8QzYcJ0NNga"
      },
      "outputs": [],
      "source": [
        "%%capture no-stderr\n",
        "%pip install langgraph langchain_google_genai"
      ]
    },
    {
      "cell_type": "code",
      "source": [
        "import os\n",
        "from google.colab import userdata\n",
        "\n",
        "# Retrieve API key from userdata\n",
        "GOOGLE_API_KEY = userdata.get('GOOGLE_API_KEY')\n",
        "\n",
        "# Set the environment variable correctly\n",
        "os.environ[\"GOOGLE_API_KEY\"] = GOOGLE_API_KEY\n",
        "# Import and use the LLM\n",
        "from langchain_google_genai import ChatGoogleGenerativeAI\n",
        "\n",
        "# Change the model name to the correct format: models/gemini-1.5-pro\n",
        "llm: ChatGoogleGenerativeAI = ChatGoogleGenerativeAI(model=\"models/gemini-1.5-pro\")\n",
        "llm.invoke(\"hi\")"
      ],
      "metadata": {
        "colab": {
          "base_uri": "https://localhost:8080/"
        },
        "id": "_ObkaUDbk7fI",
        "outputId": "5dfd6ade-a177-4826-b72b-82481d44b05d"
      },
      "execution_count": 118,
      "outputs": [
        {
          "output_type": "execute_result",
          "data": {
            "text/plain": [
              "AIMessage(content='Hi there! How can I help you today?', additional_kwargs={}, response_metadata={'prompt_feedback': {'block_reason': 0, 'safety_ratings': []}, 'finish_reason': 'STOP', 'safety_ratings': []}, id='run-177110b7-b7a5-4d3a-b716-a0155cad12d6-0', usage_metadata={'input_tokens': 2, 'output_tokens': 11, 'total_tokens': 13, 'input_token_details': {'cache_read': 0}})"
            ]
          },
          "metadata": {},
          "execution_count": 118
        }
      ]
    },
    {
      "cell_type": "code",
      "source": [
        "from typing import Annotated, TypedDict,Optional,Literal\n",
        "from langgraph.graph import StateGraph, START\n",
        "from langgraph.graph.state import CompiledStateGraph\n",
        "from langgraph.graph.message import add_messages\n",
        "from langgraph.types import Command\n",
        "from langchain_core.messages import HumanMessage  , AIMessage\n",
        "from IPython.display import Image\n",
        "import random"
      ],
      "metadata": {
        "id": "mQfALKmVO_YP"
      },
      "execution_count": 119,
      "outputs": []
    },
    {
      "cell_type": "code",
      "source": [
        "class state(TypedDict):\n",
        "  address: str\n",
        "  nearby_home:Optional[list[dict]]\n",
        "  messages:Annotated[list,add_messages]"
      ],
      "metadata": {
        "id": "epP156iVbINm"
      },
      "execution_count": 120,
      "outputs": []
    },
    {
      "cell_type": "code",
      "source": [
        "def node_A(state:state)->Command[Literal[\"search_by_near_home\",\"question_answer\"]]:\n",
        "  print(\"call to node_A\")\n",
        "\n",
        "  value = random.choices([\"search_by_near_home\",\"question_answer\"])\n",
        "  if value == \"search_by_near_home\":\n",
        "    goto =    \"search_by_near_home\"\n",
        "  else:\n",
        "    goto =      \"question_answer\"\n",
        "  return Command (\n",
        "      goto = goto\n",
        "  )\n",
        "\n",
        "def search_by_near_home(state:state):\n",
        "  print(\"call to search_by_near_home\")\n",
        "  return{\"nearby_home\":[{\"home_1\":\"fatima zehra\"},{\"home_2\":\"umaima gul\"}]}\n",
        "\n",
        "def question_answer(state:state):\n",
        "  print(\"question_answer\")\n",
        "  return{\"messages\":[AIMessage(content=\"system is down due to internet problem try again letter\")]}"
      ],
      "metadata": {
        "id": "768bXRR7cYFP"
      },
      "execution_count": 121,
      "outputs": []
    },
    {
      "cell_type": "code",
      "source": [
        "builder = StateGraph(state)\n",
        "builder.add_edge(START, \"node_A\")\n",
        "builder.add_node(node_A)\n",
        "builder.add_node(search_by_near_home)\n",
        "builder.add_node(question_answer)\n",
        "# NOTE: there are no edges between nodes A, B and C!\n",
        "\n",
        "graph = builder.compile()\n",
        "\n",
        "\n",
        "from IPython.display import display, Image\n",
        "\n",
        "display(Image(graph.get_graph().draw_mermaid_png()))"
      ],
      "metadata": {
        "colab": {
          "base_uri": "https://localhost:8080/",
          "height": 266
        },
        "id": "6sOIS-_3eCHe",
        "outputId": "b07979b8-44b7-43f5-a5d0-29ec9d9e6f14"
      },
      "execution_count": 122,
      "outputs": [
        {
          "output_type": "display_data",
          "data": {
            "image/png": "[encoded data removed]",
            "text/plain": [
              "<IPython.core.display.Image object>"
            ]
          },
          "metadata": {}
        }
      ]
    },
    {
      "cell_type": "code",
      "source": [
        "response = graph.invoke({\"address\":\"karachi\"})\n",
        "print('\\n[finalresposne]', response)"
      ],
      "metadata": {
        "colab": {
          "base_uri": "https://localhost:8080/"
        },
        "id": "ZyacWZWoeQTW",
        "outputId": "99770c78-7cd3-431f-c002-a93f41a4fc19"
      },
      "execution_count": 123,
      "outputs": [
        {
          "output_type": "stream",
          "name": "stdout",
          "text": [
            "call to node_A\n",
            "question_answer\n",
            "\n",
            "[finalresposne] {'address': 'karachi', 'messages': [AIMessage(content='system is down due to internet problem try again letter', additional_kwargs={}, response_metadata={}, id='1359df3c-ce60-4a35-84ac-8a8d9f7845cf')]}\n"
          ]
        }
      ]
    },
    {
      "cell_type": "code",
      "source": [
        "class state(TypedDict):\n",
        "  address: str\n",
        "  nearby_home:Optional[list[dict]]\n",
        "  messages:Annotated[list,add_messages]\n",
        "  user_data:Optional[dict]"
      ],
      "metadata": {
        "id": "pX8unxlMe5kE"
      },
      "execution_count": 124,
      "outputs": []
    },
    {
      "cell_type": "code",
      "source": [
        "def node_A(state:state)->Command[Literal[\"search_by_near_home\",\"question_answer\"]]:\n",
        "  print(\"call to node_A\")\n",
        "\n",
        "  fetching_data ={\"name\":\"Hafiz Naveed uddin\"}\n",
        "\n",
        "  value = random.choices([\"search_by_near_home\",\"question_answer\"])\n",
        "  if value == \"search_by_near_home\":\n",
        "    goto =    \"search_by_near_home\"\n",
        "  else:\n",
        "    goto =      \"question_answer\"\n",
        "\n",
        "  return Command(\n",
        "      update={\"user_data\": fetching_data},\n",
        "      goto = goto\n",
        "  )\n",
        "\n",
        "def search_by_near_home(state:state):\n",
        "  print(\"call to search_by_near_home\")\n",
        "  print(\"user_info\",state[\"user_data\"])\n",
        "  return{\"nearby_home\":[{\"home_1\":\"fatima zehra\"},{\"home_2\":\"umaima gul\"}]}\n",
        "\n",
        "def question_answer(state:state):\n",
        "  print(\"question_answer\")\n",
        "  print(\"user_info\",state[\"user_data\"])\n",
        "  user_name = state[\"user_data\"].get(\"name\",\"guest\")\n",
        "  return {\"messages\": [AIMessage(content=f\"Hi, {user_name} Welcome to Homes AI Search Engine\")]}"
      ],
      "metadata": {
        "id": "aXl7rJy7e783"
      },
      "execution_count": 125,
      "outputs": []
    },
    {
      "cell_type": "code",
      "source": [
        "builder = StateGraph(state)\n",
        "builder.add_edge(START, \"node_A\")\n",
        "builder.add_node(node_A)\n",
        "builder.add_node(search_by_near_home)\n",
        "builder.add_node(question_answer)\n",
        "# NOTE: there are no edges between nodes A, B and C!\n",
        "\n",
        "graph = builder.compile()\n",
        "\n",
        "\n",
        "from IPython.display import display, Image\n",
        "\n",
        "display(Image(graph.get_graph().draw_mermaid_png()))"
      ],
      "metadata": {
        "colab": {
          "base_uri": "https://localhost:8080/",
          "height": 266
        },
        "id": "LIzADv0Ce9l-",
        "outputId": "8205e815-fb5d-4715-cb8c-440a1ecf00ca"
      },
      "execution_count": 126,
      "outputs": [
        {
          "output_type": "display_data",
          "data": {
            "image/png": "[encoded data removed]",
            "text/plain": [
              "<IPython.core.display.Image object>"
            ]
          },
          "metadata": {}
        }
      ]
    },
    {
      "cell_type": "code",
      "source": [
        "response = graph.invoke({\"address\":\"karachi\"})\n",
        "print('\\n[finalresposne]', response)"
      ],
      "metadata": {
        "colab": {
          "base_uri": "https://localhost:8080/"
        },
        "id": "WTVC7L7Ggeis",
        "outputId": "bd86e73e-cf2b-4ef3-8e93-0c0b16981b57"
      },
      "execution_count": 127,
      "outputs": [
        {
          "output_type": "stream",
          "name": "stdout",
          "text": [
            "call to node_A\n",
            "question_answer\n",
            "user_info {'name': 'Hafiz Naveed uddin'}\n",
            "\n",
            "[finalresposne] {'address': 'karachi', 'messages': [AIMessage(content='Hi, Hafiz Naveed uddin Welcome to Homes AI Search Engine', additional_kwargs={}, response_metadata={}, id='be1fcb09-5f85-4950-9156-f4a153b43a9d')], 'user_data': {'name': 'Hafiz Naveed uddin'}}\n"
          ]
        }
      ]
    },
    {
      "cell_type": "code",
      "source": [
        "class state(TypedDict):\n",
        "  address: str\n",
        "  nearby_home:Optional[list[dict]]\n",
        "  messages:Annotated[list,add_messages]\n",
        "  user_data:Optional[dict]"
      ],
      "metadata": {
        "id": "p8tihzKAgqeI"
      },
      "execution_count": 128,
      "outputs": []
    },
    {
      "cell_type": "code",
      "source": [
        "def node_A(state:state)->Command[Literal[\"search_by_near_home\",\"question_answer\"]]:\n",
        "  print(\"call to node_A\")\n",
        "\n",
        "  fetching_data ={\"name\":\"Hafiz Naveed uddin\"}\n",
        "\n",
        "  value = random.choices([\"search_by_near_home\",\"question_answer\"])\n",
        "  if value == \"search_by_near_home\":\n",
        "    goto =    \"search_by_near_home\"\n",
        "  else:\n",
        "    goto =      \"question_answer\"\n",
        "\n",
        "  return Command(\n",
        "      update={\"user_data\": fetching_data},\n",
        "      goto = [\"search_by_near_home\",\"question_answer\"]\n",
        "  )\n",
        "\n",
        "def search_by_near_home(state:state):\n",
        "  print(\"call to search_by_near_home\")\n",
        "  print(\"user_info\",state[\"user_data\"])\n",
        "  return{\"nearby_home\":[{\"home_1\":\"fatima zehra\"},{\"home_2\":\"umaima gul\"}]}\n",
        "\n",
        "def question_answer(state:state):\n",
        "  print(\"called to question_answer\")\n",
        "  print(\"user_info\",state[\"user_data\"])\n",
        "  user_name = state[\"user_data\"].get(\"name\",\"guest\")\n",
        "  return {\"messages\": [AIMessage(content=f\"Hi, {user_name} Welcome to Homes AI Search Engine\")]}"
      ],
      "metadata": {
        "id": "3ui4ZxOMgs6A"
      },
      "execution_count": 129,
      "outputs": []
    },
    {
      "cell_type": "code",
      "source": [
        "builder = StateGraph(state)\n",
        "builder.add_edge(START, \"node_A\")\n",
        "builder.add_node(node_A)\n",
        "builder.add_node(search_by_near_home)\n",
        "builder.add_node(question_answer)\n",
        "# NOTE: there are no edges between nodes A, B and C!\n",
        "\n",
        "graph = builder.compile()\n",
        "\n",
        "\n",
        "from IPython.display import display, Image\n",
        "\n",
        "display(Image(graph.get_graph().draw_mermaid_png()))"
      ],
      "metadata": {
        "colab": {
          "base_uri": "https://localhost:8080/",
          "height": 266
        },
        "id": "-j_KHmHagu-X",
        "outputId": "ed1f9d8e-b9be-42eb-98ff-95e21de1e16a"
      },
      "execution_count": 130,
      "outputs": [
        {
          "output_type": "display_data",
          "data": {
            "image/png": "[encoded data removed]",
            "text/plain": [
              "<IPython.core.display.Image object>"
            ]
          },
          "metadata": {}
        }
      ]
    },
    {
      "cell_type": "code",
      "source": [
        "response = graph.invoke({\"address\":\"karachi\"})\n",
        "print('\\n[finalresposne]', response)"
      ],
      "metadata": {
        "colab": {
          "base_uri": "https://localhost:8080/"
        },
        "id": "He5CHwaVg60D",
        "outputId": "9007cdb9-0f15-48d9-e8ca-1973724c6b23"
      },
      "execution_count": 131,
      "outputs": [
        {
          "output_type": "stream",
          "name": "stdout",
          "text": [
            "call to node_A\n",
            "call to search_by_near_home\n",
            "user_info {'name': 'Hafiz Naveed uddin'}\n",
            "called to question_answer\n",
            "user_info {'name': 'Hafiz Naveed uddin'}\n",
            "\n",
            "[finalresposne] {'address': 'karachi', 'nearby_home': [{'home_1': 'fatima zehra'}, {'home_2': 'umaima gul'}], 'messages': [AIMessage(content='Hi, Hafiz Naveed uddin Welcome to Homes AI Search Engine', additional_kwargs={}, response_metadata={}, id='b7105b8b-c771-477d-af39-8ca373725653')], 'user_data': {'name': 'Hafiz Naveed uddin'}}\n"
          ]
        }
      ]
    },
    {
      "cell_type": "code",
      "source": [
        "class state(TypedDict):\n",
        "  address: str\n",
        "  nearby_home:Optional[list[dict]]\n",
        "  messages:Annotated[list,add_messages]\n",
        "  user_data:Optional[dict]\n",
        "  agent_recommendation: Optional[str]"
      ],
      "metadata": {
        "id": "2bvPo-CYh-3g"
      },
      "execution_count": 132,
      "outputs": []
    },
    {
      "cell_type": "code",
      "source": [
        "def node_A(state:state)->Command[Literal[\"search_by_near_home\",\"question_answer\",\"realstate_agent\"]]:\n",
        "  print(\"call to node_A\")\n",
        "\n",
        "  fetching_data ={\"name\":\"Hafiz Naveed uddin\"}\n",
        "\n",
        "  value = random.choices([\"search_by_near_home\",\"question_answer\",\"realstate_agent\"])\n",
        "  if value == \"search_by_near_home\":\n",
        "    goto =    \"search_by_near_home\"\n",
        "  else:\n",
        "    goto =      \"question_answer\"\n",
        "\n",
        "  return Command(\n",
        "      update={\"user_data\": fetching_data},\n",
        "      goto = [\"search_by_near_home\",\"question_answer\",\"realstate_agent\"]\n",
        "  )\n",
        "\n",
        "def search_by_near_home(state:state):\n",
        "  print(\"call to search_by_near_home\")\n",
        "  print(\"user_info\",state[\"user_data\"])\n",
        "  return{\"nearby_home\":[{\"home_1\":\"fatima zehra\"},{\"home_2\":\"umaima gul\"}]}\n",
        "\n",
        "def question_answer(state:state):\n",
        "  print(\"called to question_answer\")\n",
        "  print(\"user_info\",state[\"user_data\"])\n",
        "  user_name = state[\"user_data\"].get(\"name\",\"guest\")\n",
        "  return {\"messages\": [AIMessage(content=f\"Hi, {user_name} Welcome to Homes AI Search Engine\")]}\n",
        "def realstate_agent(state: state):\n",
        "    \"\"\"\n",
        "    This node might talk like a real estate agent,\n",
        "    analyze user data, or do any advanced logic.\n",
        "    We'll just do a simple example.\n",
        "    \"\"\"\n",
        "    print(\"Call to realstate_agent!\")\n",
        "    print(\"user_info\",state[\"user_data\"])\n",
        "    user_name = state[\"user_data\"].get(\"name\",\"guest\")\n",
        "\n",
        "    recommendation = (\n",
        "        f\"Hello {user_name}, based on your budget and address '{state['address']}', \"\n",
        "        \"I recommend checking out the newly listed 2-bedroom apartment in your area.\"\n",
        "    )\n",
        "\n",
        "    # We'll store it in the new key 'agent_recommendation'\n",
        "    return {\"agent_recommendation\": recommendation}"
      ],
      "metadata": {
        "id": "zIG3QTx9iIY-"
      },
      "execution_count": 133,
      "outputs": []
    },
    {
      "cell_type": "code",
      "source": [
        "builder = StateGraph(state)\n",
        "builder.add_edge(START, \"node_A\")\n",
        "builder.add_node(node_A)\n",
        "builder.add_node(search_by_near_home)\n",
        "builder.add_node(question_answer)\n",
        "builder.add_node(realstate_agent)\n",
        "# NOTE: there are no edges between nodes A, B and C!\n",
        "\n",
        "graph = builder.compile()\n",
        "\n",
        "\n",
        "from IPython.display import display, Image\n",
        "\n",
        "display(Image(graph.get_graph().draw_mermaid_png()))"
      ],
      "metadata": {
        "colab": {
          "base_uri": "https://localhost:8080/",
          "height": 266
        },
        "id": "1O8CXz9diyKp",
        "outputId": "082595ce-34b3-49d6-cc24-12c8f4d47c83"
      },
      "execution_count": 134,
      "outputs": [
        {
          "output_type": "display_data",
          "data": {
            "image/png": "[encoded data removed]",
            "text/plain": [
              "<IPython.core.display.Image object>"
            ]
          },
          "metadata": {}
        }
      ]
    },
    {
      "cell_type": "code",
      "source": [
        "response = graph.invoke({\"address\":\"karachi\"})\n",
        "print('\\n[finalresposne]', response)"
      ],
      "metadata": {
        "colab": {
          "base_uri": "https://localhost:8080/"
        },
        "id": "6w5cloaHjCvY",
        "outputId": "f84e81f3-3ac6-41e6-e7ea-0852bae08f33"
      },
      "execution_count": 135,
      "outputs": [
        {
          "output_type": "stream",
          "name": "stdout",
          "text": [
            "call to node_A\n",
            "call to search_by_near_home\n",
            "user_info {'name': 'Hafiz Naveed uddin'}\n",
            "called to question_answer\n",
            "Call to realstate_agent!\n",
            "user_info {'name': 'Hafiz Naveed uddin'}\n",
            "user_info {'name': 'Hafiz Naveed uddin'}\n",
            "\n",
            "[finalresposne] {'address': 'karachi', 'nearby_home': [{'home_1': 'fatima zehra'}, {'home_2': 'umaima gul'}], 'messages': [AIMessage(content='Hi, Hafiz Naveed uddin Welcome to Homes AI Search Engine', additional_kwargs={}, response_metadata={}, id='530f14b0-2adf-471b-911b-48d6c55def17')], 'user_data': {'name': 'Hafiz Naveed uddin'}, 'agent_recommendation': \"Hello Hafiz Naveed uddin, based on your budget and address 'karachi', I recommend checking out the newly listed 2-bedroom apartment in your area.\"}\n"
          ]
        }
      ]
    }
  ]
}