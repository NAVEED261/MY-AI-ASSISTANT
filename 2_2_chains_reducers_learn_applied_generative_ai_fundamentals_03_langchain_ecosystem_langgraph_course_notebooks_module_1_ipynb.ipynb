{
  "cells": [
    {
      "cell_type": "markdown",
      "metadata": {
        "id": "view-in-github",
        "colab_type": "text"
      },
      "source": [
        "<a href=\"https://colab.research.google.com/github/NAVEED261/MY-AI-ASSISTANT/blob/main/2_2_chains_reducers_learn_applied_generative_ai_fundamentals_03_langchain_ecosystem_langgraph_course_notebooks_module_1_ipynb.ipynb\" target=\"_parent\"><img src=\"https://colab.research.google.com/assets/colab-badge.svg\" alt=\"Open In Colab\"/></a>"
      ]
    },
    {
      "cell_type": "markdown",
      "id": "4cbf2458",
      "metadata": {
        "id": "4cbf2458"
      },
      "source": [
        "[![Open in Colab](https://colab.research.google.com/assets/colab-badge.svg)](https://colab.research.google.com/github/langchain-ai/langchain-academy/blob/main/module-1/chain.ipynb) [![Open in LangChain Academy](https://cdn.prod.website-files.com/65b8cd72835ceeacd4449a53/66e9eba12c7b7688aa3dbb5e_LCA-badge-green.svg)](https://academy.langchain.com/courses/take/intro-to-langgraph/lessons/58238466-lesson-4-chain)"
      ]
    },
    {
      "cell_type": "markdown",
      "id": "ee55d3da-c53a-4c76-b46f-8e0d602e072e",
      "metadata": {
        "id": "ee55d3da-c53a-4c76-b46f-8e0d602e072e"
      },
      "source": [
        "# Chain\n",
        "\n",
        "# Review\n",
        "Hum ne aik sada graph banaya hai jiss mein nodes, normal edges, aur conditional edges shamil hain.\n",
        "\n",
        "# Goals\n",
        "Ab chaliye aik sada chain tak pohanchte hain jiss mein 4 concepts ko milaya jaye:\n",
        "\n",
        "Chat messages ko apni graph state ke taur par istemal karna.\n",
        "Graph nodes mein chat models ko istemal karna.\n",
        "Tools ko chat model se baandhna (bind karna).\n",
        "Graph nodes mein tool calls ko execute karna."
      ]
    },
    {
      "cell_type": "code",
      "execution_count": null,
      "id": "a55e2e80-a718-4aaf-99b9-371157b34a4b",
      "metadata": {
        "id": "a55e2e80-a718-4aaf-99b9-371157b34a4b"
      },
      "outputs": [],
      "source": [
        "%%capture --no-stderr\n",
        "%pip install --quiet -U langchain-google-genai langchain_core langgraph"
      ]
    },
    {
      "cell_type": "markdown",
      "id": "ae5ac2d0-c7b0-4a20-86e5-4b6ed15ec20e",
      "metadata": {
        "id": "ae5ac2d0-c7b0-4a20-86e5-4b6ed15ec20e"
      },
      "source": [
        "## Messages\n",
        "\n",
        "Chat models messages ko istemal kar sakte hain, jiss se conversation mein mukhtalif roles capture ho jate hain.\n",
        "\n",
        "LangChain mukhtalif message types ko support karta hai, jin mein shamil hain: HumanMessage, AIMessage, SystemMessage, aur ToolMessage.\n",
        "\n",
        "Yeh sab kuch represent karte hain:\n",
        "\n",
        "HumanMessage: User ki taraf se bheja gaya message.\n",
        "AIMessage: Chat model ki taraf se bheja gaya message.\n",
        "SystemMessage: Chat model ko kisi specific behavior ke liye instructions dene wala message.\n",
        "ToolMessage: Tool call se aane wala message.\n",
        "Chaliye ab messages ki aik list banaate hain.\n",
        "\n",
        "Har message mein kuch cheezein shamil ho sakti hain:\n",
        "\n",
        "content - message ka content (matn).\n",
        "name - optional, message likhne wale ka naam.\n",
        "response_metadata - optional, aik metadata ka dict (misal ke taur par, model provider ki taraf se AIMessage ke liye diya gaya metadata).\n"
      ]
    },
    {
      "cell_type": "code",
      "execution_count": null,
      "id": "866b5321-a238-4a9e-af9e-f11a131b5f11",
      "metadata": {
        "colab": {
          "base_uri": "https://localhost:8080/"
        },
        "id": "866b5321-a238-4a9e-af9e-f11a131b5f11",
        "outputId": "b336a558-be8e-4921-fcfc-99ed6a5171a0"
      },
      "outputs": [
        {
          "output_type": "stream",
          "name": "stdout",
          "text": [
            "==================================\u001b[1m Ai Message \u001b[0m==================================\n",
            "Name: Model\n",
            "\n",
            "So you said you were researching ocean mammals?\n",
            "================================\u001b[1m Human Message \u001b[0m=================================\n",
            "Name: Lance\n",
            "\n",
            "Yes, that's right.\n",
            "==================================\u001b[1m Ai Message \u001b[0m==================================\n",
            "Name: Model\n",
            "\n",
            "Great, what would you like to learn about.\n",
            "================================\u001b[1m Human Message \u001b[0m=================================\n",
            "Name: Lance\n",
            "\n",
            "I want to learn about the best place to see Orcas in the US.\n"
          ]
        }
      ],
      "source": [
        "from pprint import pprint\n",
        "from langchain_core.messages import AIMessage, HumanMessage\n",
        "\n",
        "messages = [AIMessage(content=f\"So you said you were researching ocean mammals?\", name=\"Model\")]\n",
        "messages.append(HumanMessage(content=f\"Yes, that's right.\",name=\"Lance\"))\n",
        "messages.append(AIMessage(content=f\"Great, what would you like to learn about.\", name=\"Model\"))\n",
        "messages.append(HumanMessage(content=f\"I want to learn about the best place to see Orcas in the US.\", name=\"Lance\"))\n",
        "# yha model ka mtlb llm ha inshort chatgpt , gemnai etc etc\n",
        "for m in messages:\n",
        "    m.pretty_print()\n",
        "    # jub b hm conversation krta ha to llm k pas is trh sa conversation jati ha"
      ]
    },
    {
      "cell_type": "markdown",
      "id": "0ca48df0-b639-4ff1-a777-ffe2185d991e",
      "metadata": {
        "id": "0ca48df0-b639-4ff1-a777-ffe2185d991e"
      },
      "source": [
        "## Chat Models\n",
        "\n",
        "Chat models messages ki aik sequence ko input ke taur par istemal kar sakte hain aur woh message types ko support karte hain, jaisa ke pehle discuss kiya gaya hai.\n",
        "\n",
        "Bohat saare options hain chunne ke liye! Chaliye Gemini ke saath kaam karte hain.\n",
        "\n",
        "Pehle yeh check kar lete hain ke aapka GEMINI_API_KEY set hai ya nahi, aur agar set nahi hai, toh aap se yeh enter karne ko kaha jaye ga."
      ]
    },
    {
      "cell_type": "code",
      "execution_count": null,
      "id": "2652d5ec-7602-4220-bc6e-b90783ab287b",
      "metadata": {
        "id": "2652d5ec-7602-4220-bc6e-b90783ab287b"
      },
      "outputs": [],
      "source": [
        "from google.colab import userdata\n",
        "google_api_key = userdata.get('my_stenographer_key')"
      ]
    },
    {
      "cell_type": "markdown",
      "id": "ceae53d4-14f5-4bf3-a953-cc465240f5b5",
      "metadata": {
        "id": "ceae53d4-14f5-4bf3-a953-cc465240f5b5"
      },
      "source": [
        "Hum aik chat model load kar sakte hain aur apni messages ki list ke saath isko invoke kar sakte hain.\n",
        "\n",
        "Hum dekh sakte hain ke jo result milega woh aik AIMessage hoga, jiss mein specific response_metadata shamil hogi.\n",
        "\n"
      ]
    },
    {
      "cell_type": "markdown",
      "id": "39747099",
      "metadata": {
        "id": "39747099"
      },
      "source": [
        "**Note:** Zaroori json key Google Cloud Console se hasil karein, instructions ko follow karte hue jo step 21_langchain_ecosystem/langchain/-01_gemini_standalone/Gemini_API_python.ipynb file mein di gayi hain. Jaisay hi yeh key hasil ho jaye, isko Google Colab mein load karein taa ke project mein aagay barh sakein."
      ]
    },
    {
      "cell_type": "code",
      "execution_count": null,
      "id": "95b99ad4-5753-49d3-a916-a9e949722c01",
      "metadata": {
        "colab": {
          "base_uri": "https://localhost:8080/"
        },
        "id": "95b99ad4-5753-49d3-a916-a9e949722c01",
        "outputId": "e83dc8fa-e3ff-4641-9c3c-bca87312d283"
      },
      "outputs": [
        {
          "output_type": "execute_result",
          "data": {
            "text/plain": [
              "AIMessage(content=\"That's a great question!  While Orcas are found in both the Atlantic and Pacific Oceans, the best places to see them in the US are definitely in the **Pacific Northwest** and **Alaska**. \\n\\nHere's a breakdown:\\n\\n**Pacific Northwest:**\\n\\n* **San Juan Islands, Washington:**  This is one of the most popular and reliable places to see Orcas.  The waters around the islands are home to a resident population of Orcas that feed on salmon.  You can go on whale watching tours from various towns like Friday Harbor, Anacortes, and Seattle.\\n* **Olympic Peninsula, Washington:** This area also has a good chance of spotting Orcas, especially near the Strait of Juan de Fuca.\\n* **Oregon Coast:** While Orcas are less frequent here, you can still have a chance to see them, particularly in the fall when they follow salmon runs.\\n\\n**Alaska:**\\n\\n* **Southeast Alaska:** This region is a prime spot for Orcas. You can see them in the waters around Juneau, Ketchikan, and Sitka. \\n* **Prince William Sound:** This area is known for its abundant marine life, including Orcas.\\n* **Kenai Fjords National Park:** Orcas can be seen in the fjords and surrounding waters.\\n\\n**Important Considerations:**\\n\\n* **Seasonality:** The best time to see Orcas in the Pacific Northwest is during the summer months (June-September) when salmon runs are abundant.  In Alaska, you have a good chance of seeing Orcas year-round.\\n* **Whale Watching Tours:**  It's highly recommended to go on a whale watching tour with a reputable company. They have experienced guides who can help you spot Orcas and provide information about their behavior.\\n* **Respect:** Remember that Orcas are wild animals.  It's important to maintain a safe distance and avoid disturbing their natural behavior.\\n\\nI hope this helps!  Do you have any other questions about Orcas or whale watching? \\n\", additional_kwargs={}, response_metadata={'prompt_feedback': {'block_reason': 0, 'safety_ratings': []}, 'finish_reason': 'STOP', 'safety_ratings': [{'category': 'HARM_CATEGORY_SEXUALLY_EXPLICIT', 'probability': 'NEGLIGIBLE', 'blocked': False}, {'category': 'HARM_CATEGORY_HATE_SPEECH', 'probability': 'NEGLIGIBLE', 'blocked': False}, {'category': 'HARM_CATEGORY_HARASSMENT', 'probability': 'NEGLIGIBLE', 'blocked': False}, {'category': 'HARM_CATEGORY_DANGEROUS_CONTENT', 'probability': 'NEGLIGIBLE', 'blocked': False}]}, id='run-6c01bc26-e796-4477-8faf-a4af3928a366-0', usage_metadata={'input_tokens': 46, 'output_tokens': 416, 'total_tokens': 462, 'input_token_details': {'cache_read': 0}})"
            ]
          },
          "metadata": {},
          "execution_count": 9
        }
      ],
      "source": [
        "from langchain_google_genai import ChatGoogleGenerativeAI\n",
        "llm: ChatGoogleGenerativeAI = ChatGoogleGenerativeAI(model=\"gemini-1.5-flash\", api_key=google_api_key)\n",
        "result = llm.invoke(messages)\n",
        "result"
      ]
    },
    {
      "cell_type": "code",
      "source": [
        "print(type(result))"
      ],
      "metadata": {
        "colab": {
          "base_uri": "https://localhost:8080/"
        },
        "id": "KD_Sj9XYARGx",
        "outputId": "c1440417-5908-4a3d-94dd-090670c30f3b"
      },
      "id": "KD_Sj9XYARGx",
      "execution_count": null,
      "outputs": [
        {
          "output_type": "stream",
          "name": "stdout",
          "text": [
            "<class 'langchain_core.messages.ai.AIMessage'>\n"
          ]
        }
      ]
    },
    {
      "cell_type": "code",
      "execution_count": null,
      "id": "c3a29654-6b8e-4eda-9cec-22fabb9b8620",
      "metadata": {
        "colab": {
          "base_uri": "https://localhost:8080/"
        },
        "id": "c3a29654-6b8e-4eda-9cec-22fabb9b8620",
        "outputId": "e040cae6-9560-4213-e887-934ee2d144fb"
      },
      "outputs": [
        {
          "output_type": "execute_result",
          "data": {
            "text/plain": [
              "{'prompt_feedback': {'block_reason': 0, 'safety_ratings': []},\n",
              " 'finish_reason': 'STOP',\n",
              " 'safety_ratings': [{'category': 'HARM_CATEGORY_SEXUALLY_EXPLICIT',\n",
              "   'probability': 'NEGLIGIBLE',\n",
              "   'blocked': False},\n",
              "  {'category': 'HARM_CATEGORY_HATE_SPEECH',\n",
              "   'probability': 'NEGLIGIBLE',\n",
              "   'blocked': False},\n",
              "  {'category': 'HARM_CATEGORY_HARASSMENT',\n",
              "   'probability': 'NEGLIGIBLE',\n",
              "   'blocked': False},\n",
              "  {'category': 'HARM_CATEGORY_DANGEROUS_CONTENT',\n",
              "   'probability': 'NEGLIGIBLE',\n",
              "   'blocked': False}]}"
            ]
          },
          "metadata": {},
          "execution_count": 11
        }
      ],
      "source": [
        "result.response_metadata"
      ]
    },
    {
      "cell_type": "markdown",
      "id": "4718bd5c-5314-4405-a164-f1fe912ae306",
      "metadata": {
        "id": "4718bd5c-5314-4405-a164-f1fe912ae306"
      },
      "source": [
        "## Tools\n",
        "\n",
        "Tools tab faidemand hote hain jab aap chahte hain ke model external systems se interact kare.\n",
        "\n",
        "External systems (misal ke taur par, APIs) aam taur par ek khas input schema ya payload mangte hain, na ke natural language.\n",
        "\n",
        "Jab hum ek API ko, misal ke taur par, tool ke taur par bind karte hain, toh hum model ko required input schema ka awareness dete hain.\n",
        "\n",
        "Model user ke natural language input ke basis par decide karega ke kab kisi tool ko call karna hai.\n",
        "\n",
        "Aur phir yeh output wapas karega jo ke tool ke schema ke mutabiq hoga.\n",
        "\n",
        "Bohat se LLM providers tool calling ko support karte hain aur LangChain mein tool calling interface bohat simple hai.\n",
        "\n",
        "Aap aasani se kisi bhi Python function ko pass kar sakte hain ChatModel.bind_tools(function) mein."
      ]
    },
    {
      "cell_type": "markdown",
      "id": "17a942b1",
      "metadata": {
        "id": "17a942b1"
      },
      "source": [
        "Let's showcase a simple example of tool calling!\n",
        "\n",
        "The `multiply` function is our tool."
      ]
    },
    {
      "cell_type": "code",
      "execution_count": null,
      "id": "928faf56-1a1a-4c5f-b97d-bd64d8e166d1",
      "metadata": {
        "id": "928faf56-1a1a-4c5f-b97d-bd64d8e166d1"
      },
      "outputs": [],
      "source": [
        "def multiply(a: int, b: int) -> int:\n",
        "    \"\"\"Multiply a and b.\n",
        "\n",
        "    Args:\n",
        "        a: first int\n",
        "        b: second int\n",
        "    \"\"\"\n",
        "    return a * b\n",
        "\n",
        "llm_with_tools: ChatGoogleGenerativeAI = llm.bind_tools([multiply])\n",
        "# llm upna bind_tool ko use kra or llm_with_tools jiski type ChatGoogleGenerativeAI\n",
        "# ha sa integrate ho or multiply function ka response genertre kro."
      ]
    },
    {
      "cell_type": "code",
      "source": [
        "print(multiply(5,6))\n",
        "# just chekc because this answer will generate by llm"
      ],
      "metadata": {
        "colab": {
          "base_uri": "https://localhost:8080/"
        },
        "id": "_UgwVGn1CIFZ",
        "outputId": "8ea2a579-4736-4756-a9b2-70d51d5aaf4c"
      },
      "id": "_UgwVGn1CIFZ",
      "execution_count": null,
      "outputs": [
        {
          "output_type": "stream",
          "name": "stdout",
          "text": [
            "30\n"
          ]
        }
      ]
    },
    {
      "cell_type": "markdown",
      "id": "8a3f9dba",
      "metadata": {
        "id": "8a3f9dba"
      },
      "source": [
        "Warning yeh indicate kar rahi hai ke title key andar hi generate ho rahi hai, mumkin hai ke yeh LangGraph ya Gemini integration ke andar ho jab tool bind ho raha hai, bajaye iske ke hum isko explicitly pass karein. Isliye is warning ko nazarandaz karein.\n",
        "\n",
        "Agar hum ek input dein - misal ke taur par, \"2 ko 3 se multiply karne ka jawab kya hai\" - toh humein ek function_call wapas milta hai.\n",
        "\n",
        "Yeh function_call ke andar specific arguments hain jo humare function ke input schema se match karte hain, saath hi function ka naam bhi jiska call karna hai.\n",
        "\n",
        "\n",
        "{'name': 'multiply', 'arguments': '{\"b\": 3.0, \"a\": 2.0}'}"
      ]
    },
    {
      "cell_type": "code",
      "execution_count": null,
      "id": "9edbe13e-cc72-4685-ac97-2ebb4ceb2544",
      "metadata": {
        "colab": {
          "base_uri": "https://localhost:8080/"
        },
        "id": "9edbe13e-cc72-4685-ac97-2ebb4ceb2544",
        "outputId": "7d113c7e-353f-4ceb-8b73-0ad37abdec48"
      },
      "outputs": [
        {
          "output_type": "execute_result",
          "data": {
            "text/plain": [
              "AIMessage(content='', additional_kwargs={'function_call': {'name': 'multiply', 'arguments': '{\"b\": 3.0, \"a\": 2.0}'}}, response_metadata={'prompt_feedback': {'block_reason': 0, 'safety_ratings': []}, 'finish_reason': 'STOP', 'safety_ratings': [{'category': 'HARM_CATEGORY_SEXUALLY_EXPLICIT', 'probability': 'NEGLIGIBLE', 'blocked': False}, {'category': 'HARM_CATEGORY_HATE_SPEECH', 'probability': 'NEGLIGIBLE', 'blocked': False}, {'category': 'HARM_CATEGORY_HARASSMENT', 'probability': 'NEGLIGIBLE', 'blocked': False}, {'category': 'HARM_CATEGORY_DANGEROUS_CONTENT', 'probability': 'NEGLIGIBLE', 'blocked': False}]}, id='run-c9eecf6d-d792-497f-9d77-4de8e10bb09b-0', tool_calls=[{'name': 'multiply', 'args': {'b': 3.0, 'a': 2.0}, 'id': '47dfc6c6-6b52-4cb5-9f49-b110a4f2870d', 'type': 'tool_call'}], usage_metadata={'input_tokens': 57, 'output_tokens': 18, 'total_tokens': 75, 'input_token_details': {'cache_read': 0}})"
            ]
          },
          "metadata": {},
          "execution_count": 30
        }
      ],
      "source": [
        "llm_with_tools.invoke([HumanMessage(content=f\"What is 2 multiplied by 3\", name=\"Lance\")])\n",
        "# is zrea hama pora funnction or tool ki dono id b mili ha"
      ]
    },
    {
      "cell_type": "code",
      "execution_count": null,
      "id": "a78178cb-fa43-45b5-be5e-5a22bda5a5e7",
      "metadata": {
        "colab": {
          "base_uri": "https://localhost:8080/"
        },
        "id": "a78178cb-fa43-45b5-be5e-5a22bda5a5e7",
        "outputId": "d9b86bae-9e06-40e7-9b5a-47460a08876f"
      },
      "outputs": [
        {
          "output_type": "execute_result",
          "data": {
            "text/plain": [
              "{'name': 'multiply', 'arguments': '{\"b\": 3.0, \"a\": 2.0}'}"
            ]
          },
          "metadata": {},
          "execution_count": 31
        }
      ],
      "source": [
        "function_call.additional_kwargs['function_call']"
      ]
    },
    {
      "cell_type": "code",
      "source": [
        "llm_with_tools.invoke([HumanMessage(content=f\"What is 2 multiplied by 6\", name=\"Lance\")])\n",
        "# again  islya check kya ha k dono id khi same to ni ki c na duplicate to ni banna li"
      ],
      "metadata": {
        "colab": {
          "base_uri": "https://localhost:8080/"
        },
        "id": "jXQOFI34IJGi",
        "outputId": "a0c3ab88-63bd-48e1-918b-907fbc71317f"
      },
      "id": "jXQOFI34IJGi",
      "execution_count": null,
      "outputs": [
        {
          "output_type": "execute_result",
          "data": {
            "text/plain": [
              "AIMessage(content='', additional_kwargs={'function_call': {'name': 'multiply', 'arguments': '{\"b\": 6.0, \"a\": 2.0}'}}, response_metadata={'prompt_feedback': {'block_reason': 0, 'safety_ratings': []}, 'finish_reason': 'STOP', 'safety_ratings': [{'category': 'HARM_CATEGORY_HARASSMENT', 'probability': 'NEGLIGIBLE', 'blocked': False}, {'category': 'HARM_CATEGORY_DANGEROUS_CONTENT', 'probability': 'NEGLIGIBLE', 'blocked': False}, {'category': 'HARM_CATEGORY_SEXUALLY_EXPLICIT', 'probability': 'NEGLIGIBLE', 'blocked': False}, {'category': 'HARM_CATEGORY_HATE_SPEECH', 'probability': 'NEGLIGIBLE', 'blocked': False}]}, id='run-4cb84246-c512-485e-82de-5514f603a8d2-0', tool_calls=[{'name': 'multiply', 'args': {'b': 6.0, 'a': 2.0}, 'id': '20ed82d1-ef63-4ebf-96ea-32b14f2bdaf8', 'type': 'tool_call'}], usage_metadata={'input_tokens': 57, 'output_tokens': 18, 'total_tokens': 75, 'input_token_details': {'cache_read': 0}})"
            ]
          },
          "metadata": {},
          "execution_count": 34
        }
      ]
    },
    {
      "cell_type": "markdown",
      "id": "21c10f9a-2372-486b-9305-55b7c41ecd6e",
      "metadata": {
        "id": "21c10f9a-2372-486b-9305-55b7c41ecd6e"
      },
      "source": [
        "## Using messages as state\n",
        "\n",
        "in bunyaadon ko tayyar karne ke baad, ab hum apni graph state mein messages istemal kar sakte hain.\n",
        "\n",
        "Chaliye apni state ko define karte hain, MessagesState, jisko hum aik TypedDict ke taur par define karenge jiss mein aik hi key hogi: messages.\n",
        "\n",
        "messages aik list hai messages ki, jaisa ke hum ne upar define kiya tha (misal ke taur par, HumanMessage, waghera)."
      ]
    },
    {
      "cell_type": "code",
      "execution_count": null,
      "id": "3699dd5c-398c-43c7-b496-fd87e55e11ca",
      "metadata": {
        "id": "3699dd5c-398c-43c7-b496-fd87e55e11ca"
      },
      "outputs": [],
      "source": [
        "from typing_extensions import TypedDict\n",
        "from langchain_core.messages import AnyMessage\n",
        "\n",
        "class MessagesState(TypedDict):\n",
        "    messages: list[AnyMessage]\n",
        "    # yha only list ki type btai ha jisma koi b msg hoskta ha like as IA, HUMAN, TOOL, SYSTEM MSG.but ya over right hgoa\n",
        "    #  means jub list ma \"hi\"karaga to  \"by\" likhahoga inshort overright hojaiga"
      ]
    },
    {
      "cell_type": "markdown",
      "id": "211cba3e-ebba-4b91-a539-1cbc28b4a40e",
      "metadata": {
        "id": "211cba3e-ebba-4b91-a539-1cbc28b4a40e"
      },
      "source": [
        "## Reducers\n",
        "\n",
        "Ab humare paas aik chhoti si problem hai!\n",
        "\n",
        "Jaisa ke hum ne discuss kiya tha, har node humare state key messages ke liye aik naya value return karega.\n",
        "\n",
        "Lekin, yeh naya value pichle messages value ko overwrite kar dega.\n",
        "\n",
        "Jab humara graph run ho raha hai, toh hum chahte hain ke messages humare messages state key mein append ho jayein.\n",
        "\n",
        "Hum yahan reducer functions ko istemal kar sakte hain iss masle ko hal karne ke liye.\n",
        "\n",
        "Reducers humein specify karne dete hain ke state update kis tarah perform honi chahiye.\n",
        "\n",
        "Agar koi reducer function specify na ho, toh assume kiya jata hai ke key ke updates usko overwrite kar denge jaisa ke hum pehle dekh chuke hain.\n",
        "\n",
        "Lekin, messages ko append karne ke liye, hum pre-built add_messages reducer ko istemal kar sakte hain.\n",
        "\n",
        "Yeh ensure karta hai ke koi bhi naya message purani messages list mein add ho jaye.\n",
        "\n",
        "Hum bas apni messages key ko add_messages reducer function ke saath metadata ke taur par annotate kar dete hain.\n",
        "\n"
      ]
    },
    {
      "cell_type": "code",
      "execution_count": null,
      "id": "6b33eb72-3197-4870-b9a3-0da8056c40c5",
      "metadata": {
        "id": "6b33eb72-3197-4870-b9a3-0da8056c40c5"
      },
      "outputs": [],
      "source": [
        "from typing import Annotated\n",
        "# Kisi variable ki type ko kuch extra maloomat ya context ke saath samjhana.\n",
        "# means user na age pochi but annotated ma age k sath month b btadi..3 year 5 mnth.\n",
        "from langgraph.graph.message import add_messages\n",
        "# new msg add kya\n",
        "class MessagesState(TypedDict):\n",
        "    messages: Annotated[list[AnyMessage], add_messages]\n",
        "    # ager annotated use krainga list ma  to add_msg k sath old msg b maintain rha\n",
        "    # ga or msg k variable ma store hojaiga"
      ]
    },
    {
      "cell_type": "markdown",
      "id": "3663e574-ba15-46be-a37c-48c8052d693b",
      "metadata": {
        "id": "3663e574-ba15-46be-a37c-48c8052d693b"
      },
      "source": [
        "Chunki graph state mein messages ki aik list rakhna bohat aam baat hai, isi liye LangGraph ne aik pre-built MessagesState diya hai!\n",
        "\n",
        "MessagesState kuch is tarah se define hota hai:\n",
        "\n",
        "Pehle se bane hue single messages key ke saath.\n",
        "Yeh aik AnyMessage objects ki list hoti hai.\n",
        "Yeh add_messages reducer ko istemal karta hai.\n",
        "Hum aam taur par MessagesState istemal karte hain kyunke yeh custom TypedDict define karne se kam verbose (mukhtasir) hai, jaisa ke hum ne upar dikhaya."
      ]
    },
    {
      "cell_type": "code",
      "execution_count": null,
      "id": "9ab516ee-eab1-4856-8210-99f1fe499672",
      "metadata": {
        "id": "9ab516ee-eab1-4856-8210-99f1fe499672"
      },
      "outputs": [],
      "source": [
        "from langgraph.graph import MessagesState\n",
        "\n",
        "class msg_conversational_State(MessagesState):\n",
        "    # Add any keys needed beyond messages, which is pre-built\n",
        "    pass"
      ]
    },
    {
      "cell_type": "markdown",
      "id": "36b0fff7-60a2-4582-8f12-3a3ab6633d6c",
      "metadata": {
        "id": "36b0fff7-60a2-4582-8f12-3a3ab6633d6c"
      },
      "source": [
        "To go a bit deeper, we can see how the `add_messages` reducer works in isolation."
      ]
    },
    {
      "cell_type": "code",
      "execution_count": null,
      "id": "23ffea76-16a5-4053-a1bc-91e0101d91dc",
      "metadata": {
        "colab": {
          "base_uri": "https://localhost:8080/"
        },
        "id": "23ffea76-16a5-4053-a1bc-91e0101d91dc",
        "outputId": "070afe98-e190-471a-e140-085e55e67f9f"
      },
      "outputs": [
        {
          "output_type": "execute_result",
          "data": {
            "text/plain": [
              "[AIMessage(content='Hello! How can I assist you?', additional_kwargs={}, response_metadata={}, name='Model', id='aa1c6c11-3153-4b73-a939-98eb86e5a1ff'),\n",
              " HumanMessage(content=\"I'm looking for information on marine biology.\", additional_kwargs={}, response_metadata={}, name='Lance', id='1d4d09fe-cf5a-4296-b17c-cf5da8f55305'),\n",
              " AIMessage(content='Sure, I can help with that. What specifically are you interested in?', additional_kwargs={}, response_metadata={}, name='Model', id='13138869-00d2-444f-b889-924a0e869655')]"
            ]
          },
          "metadata": {},
          "execution_count": 47
        }
      ],
      "source": [
        "# Initial state\n",
        "initial_messages = [AIMessage(content=\"Hello! How can I assist you?\", name=\"Model\"),\n",
        "                    HumanMessage(content=\"I'm looking for information on marine biology.\", name=\"Lance\")\n",
        "                   ]\n",
        "                  # porana msg chk kya\n",
        "# New message to add\n",
        "new_message = AIMessage(content=\"Sure, I can help with that. What specifically are you interested in?\", name=\"Model\")\n",
        "#  new msg chk kya\n",
        "# Test\n",
        "add_messages(initial_messages , new_message)\n",
        "# dono ko print krwaya\n",
        "#  add_msg jo hama pre-build milrha tha wo thk kam krrha ha ya ni yha ye chk krrha ha.\n"
      ]
    },
    {
      "cell_type": "markdown",
      "id": "485adccc-f262-49dd-af4f-a30e9b6a48e2",
      "metadata": {
        "id": "485adccc-f262-49dd-af4f-a30e9b6a48e2"
      },
      "source": [
        "## Our graph\n",
        "\n",
        "Now, lets use ` msg_conversational_State` with a graph."
      ]
    },
    {
      "cell_type": "code",
      "execution_count": null,
      "id": "b5306639-7e6a-44be-8471-8d2631701cfb",
      "metadata": {
        "colab": {
          "base_uri": "https://localhost:8080/",
          "height": 251
        },
        "id": "b5306639-7e6a-44be-8471-8d2631701cfb",
        "outputId": "0456758d-0d56-4691-db5c-99421836ff66"
      },
      "outputs": [
        {
          "output_type": "display_data",
          "data": {
            "image/jpeg": "[encoded data removed]",
            "text/plain": [
              "<IPython.core.display.Image object>"
            ]
          },
          "metadata": {}
        }
      ],
      "source": [
        "from IPython.display import Image, display\n",
        "from langgraph.graph import StateGraph, START, END\n",
        "from langgraph.graph.state import CompiledStateGraph\n",
        "\n",
        "# Node\n",
        "def tool_calling_llm(state: msg_conversational_State):\n",
        "    return {\"messages\": [llm_with_tools.invoke(state[\"messages\"])]}\n",
        "#\n",
        "# Build graph\n",
        "builder: StateGraph = StateGraph( msg_conversational_State)\n",
        "builder.add_node(\"tool_calling_llm\", tool_calling_llm)\n",
        "builder.add_edge(START, \"tool_calling_llm\")\n",
        "builder.add_edge(\"tool_calling_llm\", END)\n",
        "graph: CompiledStateGraph  = builder.compile()\n",
        "\n",
        "# View\n",
        "display(Image(graph.get_graph().draw_mermaid_png()))"
      ]
    },
    {
      "cell_type": "markdown",
      "id": "e8909771-7786-47d6-a53d-6bbc3b365737",
      "metadata": {
        "id": "e8909771-7786-47d6-a53d-6bbc3b365737"
      },
      "source": [
        "Agar hum input mein \"Hello!\" dein, toh LLM tool calls ke baghair jawab deta hai."
      ]
    },
    {
      "cell_type": "code",
      "execution_count": null,
      "id": "983e2487-c0a5-40a2-afbc-aa53ff49fefc",
      "metadata": {
        "colab": {
          "base_uri": "https://localhost:8080/"
        },
        "id": "983e2487-c0a5-40a2-afbc-aa53ff49fefc",
        "outputId": "5210595d-4d1c-44d5-b406-40bedb90a877"
      },
      "outputs": [
        {
          "output_type": "stream",
          "name": "stdout",
          "text": [
            "================================\u001b[1m Human Message \u001b[0m=================================\n",
            "\n",
            "Hello im naveed!\n",
            "==================================\u001b[1m Ai Message \u001b[0m==================================\n",
            "\n",
            "Hello Naveed! 👋  How can I help you today? 😊\n"
          ]
        }
      ],
      "source": [
        "graph.invoke({\"messages\": HumanMessage(content=\"Hello im naveed!\")})\n",
        "for m in messages['messages']:\n",
        "    m.pretty_print()"
      ]
    },
    {
      "cell_type": "markdown",
      "id": "3588688b-efd9-4dbc-abf2-7903e3ef89ba",
      "metadata": {
        "id": "3588688b-efd9-4dbc-abf2-7903e3ef89ba"
      },
      "source": [
        "The LLM chooses to use a tool when it determines that the input or task requires the functionality provided by that tool."
      ]
    },
    {
      "cell_type": "code",
      "execution_count": null,
      "id": "7fe8b042-ecc8-426f-995e-cc1bbaf7cacc",
      "metadata": {
        "colab": {
          "base_uri": "https://localhost:8080/"
        },
        "id": "7fe8b042-ecc8-426f-995e-cc1bbaf7cacc",
        "outputId": "72b4ef38-17da-47a0-8482-b6a94871f3b7"
      },
      "outputs": [
        {
          "output_type": "stream",
          "name": "stdout",
          "text": [
            "================================\u001b[1m Human Message \u001b[0m=================================\n",
            "\n",
            "Multiply 4 and 2!\n",
            "==================================\u001b[1m Ai Message \u001b[0m==================================\n",
            "Tool Calls:\n",
            "  multiply (e297790b-2280-47a2-afbb-dfaeb4ef6fdc)\n",
            " Call ID: e297790b-2280-47a2-afbb-dfaeb4ef6fdc\n",
            "  Args:\n",
            "    b: 2.0\n",
            "    a: 4.0\n"
          ]
        }
      ],
      "source": [
        "messages = graph.invoke({\"messages\": HumanMessage(content=\"Multiply 4 and 2!\")})\n",
        "for m in messages['messages']:\n",
        "    m.pretty_print()"
      ]
    }
  ],
  "metadata": {
    "colab": {
      "provenance": [],
      "name": "2-2_chains_reducers.learn_applied_generative_ai_fundamentals_03_langchain_ecosystem_langgraph_course_notebooks_module_1 ipynb",
      "include_colab_link": true
    },
    "kernelspec": {
      "display_name": "Python 3",
      "language": "python",
      "name": "python3"
    },
    "language_info": {
      "codemirror_mode": {
        "name": "ipython",
        "version": 3
      },
      "file_extension": ".py",
      "mimetype": "text/x-python",
      "name": "python",
      "nbconvert_exporter": "python",
      "pygments_lexer": "ipython3",
      "version": "3.12.6"
    }
  },
  "nbformat": 4,
  "nbformat_minor": 5
}