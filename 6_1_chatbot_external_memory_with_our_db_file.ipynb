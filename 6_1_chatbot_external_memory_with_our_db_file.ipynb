{
  "cells": [
    {
      "cell_type": "markdown",
      "metadata": {
        "id": "view-in-github",
        "colab_type": "text"
      },
      "source": [
        "<a href=\"https://colab.research.google.com/github/NAVEED261/MY-AI-ASSISTANT/blob/main/6_1_chatbot_external_memory_with_our_db_file.ipynb\" target=\"_parent\"><img src=\"https://colab.research.google.com/assets/colab-badge.svg\" alt=\"Open In Colab\"/></a>"
      ]
    },
    {
      "cell_type": "markdown",
      "id": "af6c7afe-1037-41ab-98e4-494692e47402",
      "metadata": {
        "id": "af6c7afe-1037-41ab-98e4-494692e47402"
      },
      "source": [
        "# Chatbot with message summarization & external DB memory\n",
        "\n",
        "## Review\n",
        "\n",
        "Hum ne graph state schema aur reducer ko customize karne ka tareeqa discuss kiya hai.\n",
        "\n",
        "Hum ne kuch tricks bhi dikhayi hain jo graph state mein messages ko trim ya filter karne ke liye use hoti hain.\n",
        "\n",
        "In concepts ka istemal hum ne ek Chatbot ke sath kiya hai jo memory rakhta hai aur conversation ka ek running summary produce karta hai.\n",
        "\n",
        "\n",
        "\n",
        "\n",
        "\n",
        "\n",
        "\n",
        "\n",
        "## Goals\n",
        "\n",
        "Lekin, agar hum chahte hain ke hamara Chatbot aisi memory rakhe jo hamesha ke liye persist kare?\n",
        "\n",
        "Ab hum kuch advanced checkpointers introduce karenge jo external databases ko support karte hain.\n",
        "\n",
        "\n",
        "\n",
        "\n",
        "\n",
        "\n",
        "\n",
        "\n",
        "Here, we'll show how to use [Sqlite as a checkpointer](https://langchain-ai.github.io/langgraph/concepts/low_level/#checkpointer), but other checkpointers, such as [Postgres](https://langchain-ai.github.io/langgraph/how-tos/persistence_postgres/) are available!"
      ]
    },
    {
      "cell_type": "markdown",
      "id": "b38746af",
      "metadata": {
        "id": "b38746af"
      },
      "source": [
        "## Use Cases for Database File Management:\n",
        "1. Fetching a Database File from a GitHub URL\n",
        "2. Uploading a Database File from Your Local System\n",
        "3. Accessing a Database File from Google Drive\n",
        "\n",
        "GitHub, local system, aur Google Drive se database files ko fetch, upload, aur access karne ke liye"
      ]
    },
    {
      "cell_type": "code",
      "execution_count": null,
      "id": "85ed78d9-6ca2-45ac-96a9-52e341ec519d",
      "metadata": {
        "id": "85ed78d9-6ca2-45ac-96a9-52e341ec519d"
      },
      "outputs": [],
      "source": [
        "%%capture --no-stderr\n",
        "%pip install --quiet -U langgraph-checkpoint-sqlite langchain_core langgraph langchain_google_genai"
      ]
    },
    {
      "cell_type": "code",
      "execution_count": null,
      "id": "2e10c4d4",
      "metadata": {
        "id": "2e10c4d4"
      },
      "outputs": [],
      "source": [
        "from google.colab import userdata\n",
        "GEMINI_API_KEY = userdata.get('GOOGLE_API_KEY')"
      ]
    },
    {
      "cell_type": "code",
      "execution_count": null,
      "id": "6a002315",
      "metadata": {
        "id": "6a002315"
      },
      "outputs": [],
      "source": [
        "import os\n",
        "os.environ[\"Langchain_api_key\"] = userdata.get('GOOGLE_API_KEY')\n",
        "os.environ[\"LANGCHAIN_TRACING_V2\"] = \"true\"\n",
        "os.environ[\"LANGCHAIN_PROJECT\"] = \"langchain-academy\""
      ]
    },
    {
      "cell_type": "markdown",
      "id": "b40d25c0-e9b5-4854-bf07-3cc3ff07122e",
      "metadata": {
        "id": "b40d25c0-e9b5-4854-bf07-3cc3ff07122e"
      },
      "source": [
        "## Sqlite\n",
        "\n",
        "A good starting point here is the [SqliteSaver checkpointer](https://langchain-ai.github.io/langgraph/concepts/low_level/#checkpointer).\n",
        "\n",
        "Sqlite is a [small, fast, highly popular](https://x.com/karpathy/status/1819490455664685297) SQL database.\n",
        "\n",
        "If we supply `\":memory:\"` it creates an in-memory Sqlite database."
      ]
    },
    {
      "cell_type": "code",
      "execution_count": null,
      "id": "fae15402-17ae-4e89-8ecf-4c89e08b22fe",
      "metadata": {
        "id": "fae15402-17ae-4e89-8ecf-4c89e08b22fe"
      },
      "outputs": [],
      "source": [
        "import sqlite3\n",
        "# In memory - temporary database is created, not on-disk database\n",
        "conn = sqlite3.connect(\":memory:\", check_same_thread = False) #check_same_thread = False | allowing multiple threads to share and use the same SQLite database connection. By default it is True"
      ]
    },
    {
      "cell_type": "markdown",
      "id": "c2bf53ec-6d4a-42ce-8183-344795eed403",
      "metadata": {
        "id": "c2bf53ec-6d4a-42ce-8183-344795eed403"
      },
      "source": [
        "## Default Behavior:\n",
        "\n",
        "Jab aap code pehli dafa run karte hain, yeh automatically ek nayi example.db file fetch karega. Lekin agar hum ek database ka path provide karein, to yeh hamare liye ek naya database create karega!"
      ]
    },
    {
      "cell_type": "code",
      "execution_count": null,
      "id": "58339167-920c-4994-a0a7-0a9c5d4f7cf7",
      "metadata": {
        "id": "58339167-920c-4994-a0a7-0a9c5d4f7cf7",
        "colab": {
          "base_uri": "https://localhost:8080/"
        },
        "outputId": "a18811de-b3a3-4fa1-c080-c0b6da5143ce"
      },
      "outputs": [
        {
          "output_type": "stream",
          "name": "stdout",
          "text": [
            "--2025-01-02 07:57:01--  https://github.com/langchain-ai/langchain-academy/raw/main/module-2/state_db/example.db\n",
            "Resolving github.com (github.com)... 140.82.116.3\n",
            "Connecting to github.com (github.com)|140.82.116.3|:443... connected.\n",
            "HTTP request sent, awaiting response... 302 Found\n",
            "Location: https://raw.githubusercontent.com/langchain-ai/langchain-academy/main/module-2/state_db/example.db [following]\n",
            "--2025-01-02 07:57:02--  https://raw.githubusercontent.com/langchain-ai/langchain-academy/main/module-2/state_db/example.db\n",
            "Resolving raw.githubusercontent.com (raw.githubusercontent.com)... 185.199.108.133, 185.199.109.133, 185.199.110.133, ...\n",
            "Connecting to raw.githubusercontent.com (raw.githubusercontent.com)|185.199.108.133|:443... connected.\n",
            "HTTP request sent, awaiting response... 200 OK\n",
            "Length: 110592 (108K) [application/octet-stream]\n",
            "Saving to: ‘state_db/example.db’\n",
            "\n",
            "example.db          100%[===================>] 108.00K  --.-KB/s    in 0.01s   \n",
            "\n",
            "2025-01-02 07:57:02 (7.61 MB/s) - ‘state_db/example.db’ saved [110592/110592]\n",
            "\n"
          ]
        }
      ],
      "source": [
        "import sqlite3\n",
        "# pull file if it doesn't exist and connect to local db\n",
        "\n",
        "!mkdir -p state_db && [ ! -f state_db/example.db ] && wget -P state_db https://github.com/langchain-ai/langchain-academy/raw/main/module-2/state_db/example.db\n",
        "\n",
        "db_path = \"state_db/example.db\"\n",
        "conn = sqlite3.connect(db_path, check_same_thread=False)"
      ]
    },
    {
      "cell_type": "markdown",
      "id": "d-3TxBOlSQsc",
      "metadata": {
        "id": "d-3TxBOlSQsc"
      },
      "source": [
        "## Mount with Google Drive\n"
      ]
    },
    {
      "cell_type": "code",
      "execution_count": null,
      "id": "5qxV1SIdSN3q",
      "metadata": {
        "colab": {
          "base_uri": "https://localhost:8080/"
        },
        "id": "5qxV1SIdSN3q",
        "outputId": "eed05858-9d41-4a7c-e2bb-256767b64a57"
      },
      "outputs": [
        {
          "output_type": "stream",
          "name": "stdout",
          "text": [
            "Mounted at /content/drive\n"
          ]
        }
      ],
      "source": [
        "from google.colab import drive\n",
        "drive.mount('/content/drive')"
      ]
    },
    {
      "cell_type": "markdown",
      "id": "r3ndkSuyVQWE",
      "metadata": {
        "id": "r3ndkSuyVQWE"
      },
      "source": [
        "connection is establish"
      ]
    },
    {
      "cell_type": "code",
      "execution_count": null,
      "id": "njrumCAhRjwE",
      "metadata": {
        "id": "njrumCAhRjwE"
      },
      "outputs": [],
      "source": [
        "import sqlite3\n",
        "file_path = '/content/drive/My Drive/state_db/example.db'\n",
        "conn = sqlite3.connect(file_path)"
      ]
    },
    {
      "cell_type": "markdown",
      "id": "QwfuVtOi3FVl",
      "metadata": {
        "id": "QwfuVtOi3FVl"
      },
      "source": [
        "### When you want to pass your DB file:\n",
        "You need example.db as well as example.db-wal file to retrieve your previous data.\n",
        "\n",
        "Sqlite uses these 3 files:\n",
        "\n",
        "\n",
        "1.   example.db\n",
        "2.   example.db-wal\n",
        "3.   example.db-shm\n",
        "\n",
        "### How SQLite Uses These Files\n",
        "1. example.db: Ye main database file hai jahan committed data store hota hai.\n",
        "\n",
        "2. example.db-wal: Agar SQLite WAL (Write-Ahead Logging) mode mein ho, to yeh file temporarily un changes ko hold karti hai jo abhi checkpoint (example.db mein write) nahi hue. SQLite jab database se connect hota hai, to yeh file automatically read karta hai.\n",
        "\n",
        "3. example.db-shm: Yeh file shared memory ke liye use hoti hai jab multiple connections ek hi database ko access karte hain. Yeh ek temporary file hai aur persistence ko affect nahi karti.\n"
      ]
    },
    {
      "cell_type": "markdown",
      "id": "ExhbqtDfH-6D",
      "metadata": {
        "id": "ExhbqtDfH-6D"
      },
      "source": [
        "### Why you need to save example.db-wal file along with example.db file?\n",
        "\n",
        "Uncommitted Changes example.db-wal Mein Store Hoti Hain:\n",
        "WAL mode mein, SQLite sab changes ko direct example.db file mein modify karne ke bajaye example.db-wal file mein likhta hai.\n",
        "\n",
        "Yeh changes sirf tab merge (checkpointed) hote hain jab checkpoint operation hota hai.\n",
        "Agar aap sirf example.db file copy ya use karein bina example.db-wal ke, to WAL file mein maujood uncommitted changes lost ho jayengi.\n",
        "Data Consistency Ensure Karta Hai:\n",
        "Agar aap database (example.db) ko kisi aur system par transfer karein bina example.db-wal ke, aur pending writes WAL file mein ho, to database incomplete ya inconsistent lag sakta hai.\n",
        "\n",
        "Concurrent Access:\n",
        "WAL file multiple processes ko allow karta hai ke wo database se simultaneously read aur write karein bina ek dusre ko block kiye. Agar yeh feature use ho raha ho, to example.db-wal file proper functionality ke liye zaroori hai.\n",
        "\n",
        "\n",
        "\n",
        "\n",
        "\n",
        "\n"
      ]
    },
    {
      "cell_type": "code",
      "execution_count": null,
      "id": "4sPiAKFq3EQT",
      "metadata": {
        "colab": {
          "base_uri": "https://localhost:8080/",
          "height": 73
        },
        "id": "4sPiAKFq3EQT",
        "outputId": "8f4f656f-1086-48f7-8bb6-f4aa38391e10"
      },
      "outputs": [
        {
          "output_type": "display_data",
          "data": {
            "text/plain": [
              "<IPython.core.display.HTML object>"
            ],
            "text/html": [
              "\n",
              "     <input type=\"file\" id=\"files-16dabdb5-3497-42c9-828d-2a4c920a3c86\" name=\"files[]\" multiple disabled\n",
              "        style=\"border:none\" />\n",
              "     <output id=\"result-16dabdb5-3497-42c9-828d-2a4c920a3c86\">\n",
              "      Upload widget is only available when the cell has been executed in the\n",
              "      current browser session. Please rerun this cell to enable.\n",
              "      </output>\n",
              "      <script>// Copyright 2017 Google LLC\n",
              "//\n",
              "// Licensed under the Apache License, Version 2.0 (the \"License\");\n",
              "// you may not use this file except in compliance with the License.\n",
              "// You may obtain a copy of the License at\n",
              "//\n",
              "//      http://www.apache.org/licenses/LICENSE-2.0\n",
              "//\n",
              "// Unless required by applicable law or agreed to in writing, software\n",
              "// distributed under the License is distributed on an \"AS IS\" BASIS,\n",
              "// WITHOUT WARRANTIES OR CONDITIONS OF ANY KIND, either express or implied.\n",
              "// See the License for the specific language governing permissions and\n",
              "// limitations under the License.\n",
              "\n",
              "/**\n",
              " * @fileoverview Helpers for google.colab Python module.\n",
              " */\n",
              "(function(scope) {\n",
              "function span(text, styleAttributes = {}) {\n",
              "  const element = document.createElement('span');\n",
              "  element.textContent = text;\n",
              "  for (const key of Object.keys(styleAttributes)) {\n",
              "    element.style[key] = styleAttributes[key];\n",
              "  }\n",
              "  return element;\n",
              "}\n",
              "\n",
              "// Max number of bytes which will be uploaded at a time.\n",
              "const MAX_PAYLOAD_SIZE = 100 * 1024;\n",
              "\n",
              "function _uploadFiles(inputId, outputId) {\n",
              "  const steps = uploadFilesStep(inputId, outputId);\n",
              "  const outputElement = document.getElementById(outputId);\n",
              "  // Cache steps on the outputElement to make it available for the next call\n",
              "  // to uploadFilesContinue from Python.\n",
              "  outputElement.steps = steps;\n",
              "\n",
              "  return _uploadFilesContinue(outputId);\n",
              "}\n",
              "\n",
              "// This is roughly an async generator (not supported in the browser yet),\n",
              "// where there are multiple asynchronous steps and the Python side is going\n",
              "// to poll for completion of each step.\n",
              "// This uses a Promise to block the python side on completion of each step,\n",
              "// then passes the result of the previous step as the input to the next step.\n",
              "function _uploadFilesContinue(outputId) {\n",
              "  const outputElement = document.getElementById(outputId);\n",
              "  const steps = outputElement.steps;\n",
              "\n",
              "  const next = steps.next(outputElement.lastPromiseValue);\n",
              "  return Promise.resolve(next.value.promise).then((value) => {\n",
              "    // Cache the last promise value to make it available to the next\n",
              "    // step of the generator.\n",
              "    outputElement.lastPromiseValue = value;\n",
              "    return next.value.response;\n",
              "  });\n",
              "}\n",
              "\n",
              "/**\n",
              " * Generator function which is called between each async step of the upload\n",
              " * process.\n",
              " * @param {string} inputId Element ID of the input file picker element.\n",
              " * @param {string} outputId Element ID of the output display.\n",
              " * @return {!Iterable<!Object>} Iterable of next steps.\n",
              " */\n",
              "function* uploadFilesStep(inputId, outputId) {\n",
              "  const inputElement = document.getElementById(inputId);\n",
              "  inputElement.disabled = false;\n",
              "\n",
              "  const outputElement = document.getElementById(outputId);\n",
              "  outputElement.innerHTML = '';\n",
              "\n",
              "  const pickedPromise = new Promise((resolve) => {\n",
              "    inputElement.addEventListener('change', (e) => {\n",
              "      resolve(e.target.files);\n",
              "    });\n",
              "  });\n",
              "\n",
              "  const cancel = document.createElement('button');\n",
              "  inputElement.parentElement.appendChild(cancel);\n",
              "  cancel.textContent = 'Cancel upload';\n",
              "  const cancelPromise = new Promise((resolve) => {\n",
              "    cancel.onclick = () => {\n",
              "      resolve(null);\n",
              "    };\n",
              "  });\n",
              "\n",
              "  // Wait for the user to pick the files.\n",
              "  const files = yield {\n",
              "    promise: Promise.race([pickedPromise, cancelPromise]),\n",
              "    response: {\n",
              "      action: 'starting',\n",
              "    }\n",
              "  };\n",
              "\n",
              "  cancel.remove();\n",
              "\n",
              "  // Disable the input element since further picks are not allowed.\n",
              "  inputElement.disabled = true;\n",
              "\n",
              "  if (!files) {\n",
              "    return {\n",
              "      response: {\n",
              "        action: 'complete',\n",
              "      }\n",
              "    };\n",
              "  }\n",
              "\n",
              "  for (const file of files) {\n",
              "    const li = document.createElement('li');\n",
              "    li.append(span(file.name, {fontWeight: 'bold'}));\n",
              "    li.append(span(\n",
              "        `(${file.type || 'n/a'}) - ${file.size} bytes, ` +\n",
              "        `last modified: ${\n",
              "            file.lastModifiedDate ? file.lastModifiedDate.toLocaleDateString() :\n",
              "                                    'n/a'} - `));\n",
              "    const percent = span('0% done');\n",
              "    li.appendChild(percent);\n",
              "\n",
              "    outputElement.appendChild(li);\n",
              "\n",
              "    const fileDataPromise = new Promise((resolve) => {\n",
              "      const reader = new FileReader();\n",
              "      reader.onload = (e) => {\n",
              "        resolve(e.target.result);\n",
              "      };\n",
              "      reader.readAsArrayBuffer(file);\n",
              "    });\n",
              "    // Wait for the data to be ready.\n",
              "    let fileData = yield {\n",
              "      promise: fileDataPromise,\n",
              "      response: {\n",
              "        action: 'continue',\n",
              "      }\n",
              "    };\n",
              "\n",
              "    // Use a chunked sending to avoid message size limits. See b/62115660.\n",
              "    let position = 0;\n",
              "    do {\n",
              "      const length = Math.min(fileData.byteLength - position, MAX_PAYLOAD_SIZE);\n",
              "      const chunk = new Uint8Array(fileData, position, length);\n",
              "      position += length;\n",
              "\n",
              "      const base64 = btoa(String.fromCharCode.apply(null, chunk));\n",
              "      yield {\n",
              "        response: {\n",
              "          action: 'append',\n",
              "          file: file.name,\n",
              "          data: base64,\n",
              "        },\n",
              "      };\n",
              "\n",
              "      let percentDone = fileData.byteLength === 0 ?\n",
              "          100 :\n",
              "          Math.round((position / fileData.byteLength) * 100);\n",
              "      percent.textContent = `${percentDone}% done`;\n",
              "\n",
              "    } while (position < fileData.byteLength);\n",
              "  }\n",
              "\n",
              "  // All done.\n",
              "  yield {\n",
              "    response: {\n",
              "      action: 'complete',\n",
              "    }\n",
              "  };\n",
              "}\n",
              "\n",
              "scope.google = scope.google || {};\n",
              "scope.google.colab = scope.google.colab || {};\n",
              "scope.google.colab._files = {\n",
              "  _uploadFiles,\n",
              "  _uploadFilesContinue,\n",
              "};\n",
              "})(self);\n",
              "</script> "
            ]
          },
          "metadata": {}
        },
        {
          "output_type": "stream",
          "name": "stdout",
          "text": [
            "Saving example.db to example.db\n"
          ]
        }
      ],
      "source": [
        "#Follow step if you already have previous database file\n",
        "#uplaod example.db file from your system\n",
        "from google.colab import files\n",
        "uploaded = files.upload()\n"
      ]
    },
    {
      "cell_type": "markdown",
      "source": [
        "# note:\n",
        "this file uploaded by my local system...."
      ],
      "metadata": {
        "id": "tI-06OktC6u6"
      },
      "id": "tI-06OktC6u6"
    },
    {
      "cell_type": "code",
      "execution_count": null,
      "id": "5YzkFJceChRK",
      "metadata": {
        "colab": {
          "base_uri": "https://localhost:8080/",
          "height": 38
        },
        "id": "5YzkFJceChRK",
        "outputId": "fbbdc03c-0fae-4dc4-e91a-72c2ce198112"
      },
      "outputs": [
        {
          "output_type": "display_data",
          "data": {
            "text/plain": [
              "<IPython.core.display.HTML object>"
            ],
            "text/html": [
              "\n",
              "     <input type=\"file\" id=\"files-fc793aba-dd78-468f-8d0d-a5cfa962acf9\" name=\"files[]\" multiple disabled\n",
              "        style=\"border:none\" />\n",
              "     <output id=\"result-fc793aba-dd78-468f-8d0d-a5cfa962acf9\">\n",
              "      Upload widget is only available when the cell has been executed in the\n",
              "      current browser session. Please rerun this cell to enable.\n",
              "      </output>\n",
              "      <script>// Copyright 2017 Google LLC\n",
              "//\n",
              "// Licensed under the Apache License, Version 2.0 (the \"License\");\n",
              "// you may not use this file except in compliance with the License.\n",
              "// You may obtain a copy of the License at\n",
              "//\n",
              "//      http://www.apache.org/licenses/LICENSE-2.0\n",
              "//\n",
              "// Unless required by applicable law or agreed to in writing, software\n",
              "// distributed under the License is distributed on an \"AS IS\" BASIS,\n",
              "// WITHOUT WARRANTIES OR CONDITIONS OF ANY KIND, either express or implied.\n",
              "// See the License for the specific language governing permissions and\n",
              "// limitations under the License.\n",
              "\n",
              "/**\n",
              " * @fileoverview Helpers for google.colab Python module.\n",
              " */\n",
              "(function(scope) {\n",
              "function span(text, styleAttributes = {}) {\n",
              "  const element = document.createElement('span');\n",
              "  element.textContent = text;\n",
              "  for (const key of Object.keys(styleAttributes)) {\n",
              "    element.style[key] = styleAttributes[key];\n",
              "  }\n",
              "  return element;\n",
              "}\n",
              "\n",
              "// Max number of bytes which will be uploaded at a time.\n",
              "const MAX_PAYLOAD_SIZE = 100 * 1024;\n",
              "\n",
              "function _uploadFiles(inputId, outputId) {\n",
              "  const steps = uploadFilesStep(inputId, outputId);\n",
              "  const outputElement = document.getElementById(outputId);\n",
              "  // Cache steps on the outputElement to make it available for the next call\n",
              "  // to uploadFilesContinue from Python.\n",
              "  outputElement.steps = steps;\n",
              "\n",
              "  return _uploadFilesContinue(outputId);\n",
              "}\n",
              "\n",
              "// This is roughly an async generator (not supported in the browser yet),\n",
              "// where there are multiple asynchronous steps and the Python side is going\n",
              "// to poll for completion of each step.\n",
              "// This uses a Promise to block the python side on completion of each step,\n",
              "// then passes the result of the previous step as the input to the next step.\n",
              "function _uploadFilesContinue(outputId) {\n",
              "  const outputElement = document.getElementById(outputId);\n",
              "  const steps = outputElement.steps;\n",
              "\n",
              "  const next = steps.next(outputElement.lastPromiseValue);\n",
              "  return Promise.resolve(next.value.promise).then((value) => {\n",
              "    // Cache the last promise value to make it available to the next\n",
              "    // step of the generator.\n",
              "    outputElement.lastPromiseValue = value;\n",
              "    return next.value.response;\n",
              "  });\n",
              "}\n",
              "\n",
              "/**\n",
              " * Generator function which is called between each async step of the upload\n",
              " * process.\n",
              " * @param {string} inputId Element ID of the input file picker element.\n",
              " * @param {string} outputId Element ID of the output display.\n",
              " * @return {!Iterable<!Object>} Iterable of next steps.\n",
              " */\n",
              "function* uploadFilesStep(inputId, outputId) {\n",
              "  const inputElement = document.getElementById(inputId);\n",
              "  inputElement.disabled = false;\n",
              "\n",
              "  const outputElement = document.getElementById(outputId);\n",
              "  outputElement.innerHTML = '';\n",
              "\n",
              "  const pickedPromise = new Promise((resolve) => {\n",
              "    inputElement.addEventListener('change', (e) => {\n",
              "      resolve(e.target.files);\n",
              "    });\n",
              "  });\n",
              "\n",
              "  const cancel = document.createElement('button');\n",
              "  inputElement.parentElement.appendChild(cancel);\n",
              "  cancel.textContent = 'Cancel upload';\n",
              "  const cancelPromise = new Promise((resolve) => {\n",
              "    cancel.onclick = () => {\n",
              "      resolve(null);\n",
              "    };\n",
              "  });\n",
              "\n",
              "  // Wait for the user to pick the files.\n",
              "  const files = yield {\n",
              "    promise: Promise.race([pickedPromise, cancelPromise]),\n",
              "    response: {\n",
              "      action: 'starting',\n",
              "    }\n",
              "  };\n",
              "\n",
              "  cancel.remove();\n",
              "\n",
              "  // Disable the input element since further picks are not allowed.\n",
              "  inputElement.disabled = true;\n",
              "\n",
              "  if (!files) {\n",
              "    return {\n",
              "      response: {\n",
              "        action: 'complete',\n",
              "      }\n",
              "    };\n",
              "  }\n",
              "\n",
              "  for (const file of files) {\n",
              "    const li = document.createElement('li');\n",
              "    li.append(span(file.name, {fontWeight: 'bold'}));\n",
              "    li.append(span(\n",
              "        `(${file.type || 'n/a'}) - ${file.size} bytes, ` +\n",
              "        `last modified: ${\n",
              "            file.lastModifiedDate ? file.lastModifiedDate.toLocaleDateString() :\n",
              "                                    'n/a'} - `));\n",
              "    const percent = span('0% done');\n",
              "    li.appendChild(percent);\n",
              "\n",
              "    outputElement.appendChild(li);\n",
              "\n",
              "    const fileDataPromise = new Promise((resolve) => {\n",
              "      const reader = new FileReader();\n",
              "      reader.onload = (e) => {\n",
              "        resolve(e.target.result);\n",
              "      };\n",
              "      reader.readAsArrayBuffer(file);\n",
              "    });\n",
              "    // Wait for the data to be ready.\n",
              "    let fileData = yield {\n",
              "      promise: fileDataPromise,\n",
              "      response: {\n",
              "        action: 'continue',\n",
              "      }\n",
              "    };\n",
              "\n",
              "    // Use a chunked sending to avoid message size limits. See b/62115660.\n",
              "    let position = 0;\n",
              "    do {\n",
              "      const length = Math.min(fileData.byteLength - position, MAX_PAYLOAD_SIZE);\n",
              "      const chunk = new Uint8Array(fileData, position, length);\n",
              "      position += length;\n",
              "\n",
              "      const base64 = btoa(String.fromCharCode.apply(null, chunk));\n",
              "      yield {\n",
              "        response: {\n",
              "          action: 'append',\n",
              "          file: file.name,\n",
              "          data: base64,\n",
              "        },\n",
              "      };\n",
              "\n",
              "      let percentDone = fileData.byteLength === 0 ?\n",
              "          100 :\n",
              "          Math.round((position / fileData.byteLength) * 100);\n",
              "      percent.textContent = `${percentDone}% done`;\n",
              "\n",
              "    } while (position < fileData.byteLength);\n",
              "  }\n",
              "\n",
              "  // All done.\n",
              "  yield {\n",
              "    response: {\n",
              "      action: 'complete',\n",
              "    }\n",
              "  };\n",
              "}\n",
              "\n",
              "scope.google = scope.google || {};\n",
              "scope.google.colab = scope.google.colab || {};\n",
              "scope.google.colab._files = {\n",
              "  _uploadFiles,\n",
              "  _uploadFilesContinue,\n",
              "};\n",
              "})(self);\n",
              "</script> "
            ]
          },
          "metadata": {}
        }
      ],
      "source": [
        "#Follow step if you already have previous database file\n",
        "#upload example.db-wal file from your system\n",
        "uploaded = files.upload()\n"
      ]
    },
    {
      "cell_type": "code",
      "execution_count": null,
      "id": "6y777yseDojh",
      "metadata": {
        "colab": {
          "base_uri": "https://localhost:8080/"
        },
        "id": "6y777yseDojh",
        "outputId": "4049aa4b-3cf7-48e0-e776-903e8786c704"
      },
      "outputs": [
        {
          "output_type": "stream",
          "name": "stdout",
          "text": [
            "WAL file moved successfully.\n",
            "Connected to database: state_db/example.db\n"
          ]
        }
      ],
      "source": [
        "#Follow step if you already have previous database file\n",
        "#move both files to state_db folder and establish a connection:\n",
        "\n",
        "import sqlite3\n",
        "import shutil\n",
        "import os\n",
        "\n",
        "# Ensure the state_db directory exists\n",
        "os.makedirs(\"state_db\", exist_ok=True)\n",
        "\n",
        "# Move the uploaded files to the state_db directory\n",
        "shutil.move(\"example.db\", \"state_db/example.db\")\n",
        "if os.path.exists(\"example.db-wal\"):  # Check if WAL file exists\n",
        "    shutil.move(\"example.db-wal\", \"state_db/example.db-wal\")\n",
        "    print(\"WAL file moved successfully.\")\n",
        "else:\n",
        "    print(\"No WAL file found. Proceeding with example.db only.\")\n",
        "\n",
        "# Define the path to the main database file\n",
        "db_path = \"state_db/example.db\"\n",
        "\n",
        "# Connect to the SQLite database\n",
        "try:\n",
        "    conn = sqlite3.connect(db_path, check_same_thread=False)\n",
        "    print(f\"Connected to database: {db_path}\")\n",
        "except sqlite3.OperationalError as e:\n",
        "    print(f\"Error connecting to the database: {e}\")\n"
      ]
    },
    {
      "cell_type": "code",
      "execution_count": null,
      "id": "3c7736b6-a750-48f8-a838-8e7616b12250",
      "metadata": {
        "id": "3c7736b6-a750-48f8-a838-8e7616b12250"
      },
      "outputs": [],
      "source": [
        "# Here is our checkpointer\n",
        "from langgraph.checkpoint.sqlite import SqliteSaver\n",
        "memory: SqliteSaver = SqliteSaver(conn)"
      ]
    },
    {
      "cell_type": "markdown",
      "id": "9d8cb629-213f-4b87-965e-19b812c42da1",
      "metadata": {
        "id": "9d8cb629-213f-4b87-965e-19b812c42da1"
      },
      "source": [
        "Let's re-define our chatbot."
      ]
    },
    {
      "cell_type": "code",
      "execution_count": null,
      "id": "dc414e29-2078-41a0-887c-af1a6a3d72c0",
      "metadata": {
        "id": "dc414e29-2078-41a0-887c-af1a6a3d72c0"
      },
      "outputs": [],
      "source": [
        "from langchain_google_genai import ChatGoogleGenerativeAI\n",
        "from langchain_core.messages import SystemMessage, HumanMessage, RemoveMessage\n",
        "\n",
        "from langgraph.graph import END\n",
        "from langgraph.graph import MessagesState\n",
        "\n",
        "model: ChatGoogleGenerativeAI = ChatGoogleGenerativeAI(model = \"gemini-1.5-flash\", api_key =  GEMINI_API_KEY)\n",
        "\n",
        "class State(MessagesState):\n",
        "    summary: str\n",
        "\n",
        "# Define the logic to call the model\n",
        "def call_model(state: State) -> State:\n",
        "\n",
        "    # Get summary if it exists\n",
        "    summary = state.get(\"summary\", \"\")\n",
        "    print(f\"Using summary: {summary}\")\n",
        "\n",
        "    # If there is summary, then we add it\n",
        "    if summary:\n",
        "\n",
        "        # Add summary to system message\n",
        "        system_message = f\"Summary of conversation earlier: {summary}\"\n",
        "\n",
        "        # Append summary to any newer messages\n",
        "        messages = [SystemMessage(content=system_message)] + state[\"messages\"]\n",
        "\n",
        "    else:\n",
        "        messages = state[\"messages\"]\n",
        "\n",
        "    response = model.invoke(messages)\n",
        "    return {\"messages\": response}\n",
        "\n",
        "def summarize_conversation(state: State) -> State:\n",
        "    print(f\"Messages before summarizing: {len(state['messages'])}\")\n",
        "    # First, we get any existing summary\n",
        "    summary = state.get(\"summary\", \"\")\n",
        "    print(f\"Existing summary: {summary}\")\n",
        "\n",
        "    # Create our summarization prompt\n",
        "    if summary:\n",
        "\n",
        "        # A summary already exists\n",
        "        summary_message = (\n",
        "            f\"This is summary of the conversation to date: {summary}\\n\\n\"\n",
        "            \"Extend the summary by taking into account the new messages above:\"\n",
        "        )\n",
        "\n",
        "    else:\n",
        "        summary_message = \"Create a summary of the conversation above:\"\n",
        "\n",
        "\n",
        "    # Add prompt to our history\n",
        "    messages = state[\"messages\"] + [HumanMessage(content=summary_message)]\n",
        "    response = model.invoke(messages)\n",
        "    # Summarization logic\n",
        "    print(f\"New summary: {response.content}\")\n",
        "\n",
        "    # Delete all but the 2 most recent messages\n",
        "    delete_messages = [RemoveMessage(id=m.id) for m in state[\"messages\"][:-2]]\n",
        "\n",
        "    print(f\"Messages after truncation: {len(delete_messages)}\")\n",
        "    return {\"summary\": response.content, \"messages\": delete_messages}\n",
        "\n",
        "# Determine whether to end or summarize the conversation\n",
        "def should_continue(state: State) -> State:\n",
        "\n",
        "    \"\"\"Return the next node to execute.\"\"\"\n",
        "\n",
        "    messages = state[\"messages\"]\n",
        "    print(f\"Message count: {len(messages)}\")\n",
        "    # If there are more than six messages, then we summarize the conversation\n",
        "    if len(messages) > 6:\n",
        "        return \"summarize_conversation\"\n",
        "\n",
        "    # Otherwise we can just end\n",
        "    return END"
      ]
    },
    {
      "cell_type": "markdown",
      "id": "41c13c0b-a383-4f73-9cc1-63f0eed8f190",
      "metadata": {
        "id": "41c13c0b-a383-4f73-9cc1-63f0eed8f190"
      },
      "source": [
        "Now, we just re-compile with our sqlite checkpointer."
      ]
    },
    {
      "cell_type": "code",
      "execution_count": null,
      "id": "e867fd95-91eb-4ce1-82fc-bb72d611a96d",
      "metadata": {
        "colab": {
          "base_uri": "https://localhost:8080/",
          "height": 350
        },
        "id": "e867fd95-91eb-4ce1-82fc-bb72d611a96d",
        "outputId": "24099249-b9c7-4bb6-deb8-14928c445ada"
      },
      "outputs": [
        {
          "output_type": "display_data",
          "data": {
            "image/png": "[encoded data removed]",
            "text/plain": [
              "<IPython.core.display.Image object>"
            ]
          },
          "metadata": {}
        }
      ],
      "source": [
        "from IPython.display import Image, display\n",
        "from langgraph.graph import StateGraph, START\n",
        "from langgraph.graph.state import CompiledStateGraph\n",
        "\n",
        "# Define a new graph\n",
        "workflow: StateGraph = StateGraph(State)\n",
        "workflow.add_node(\"conversation\", call_model)\n",
        "workflow.add_node(summarize_conversation)\n",
        "\n",
        "# Set the entrypoint as conversation\n",
        "workflow.add_edge(START, \"conversation\")\n",
        "workflow.add_conditional_edges(\"conversation\", should_continue)\n",
        "workflow.add_edge(\"summarize_conversation\", END)\n",
        "\n",
        "# Compile\n",
        "graph: CompiledStateGraph = workflow.compile(checkpointer=memory)\n",
        "display(Image(graph.get_graph().draw_mermaid_png()))"
      ]
    },
    {
      "cell_type": "markdown",
      "id": "8769db99-3938-45e6-a594-56beb18d6c45",
      "metadata": {
        "id": "8769db99-3938-45e6-a594-56beb18d6c45"
      },
      "source": [
        "Now, we can invoke the graph several times."
      ]
    },
    {
      "cell_type": "code",
      "execution_count": null,
      "id": "0f4094a0-d240-4be8-903a-7d9f605bdc5c",
      "metadata": {
        "colab": {
          "base_uri": "https://localhost:8080/"
        },
        "id": "0f4094a0-d240-4be8-903a-7d9f605bdc5c",
        "outputId": "3d28758a-3b15-477c-c698-6f18a5a15f58"
      },
      "outputs": [
        {
          "output_type": "stream",
          "name": "stdout",
          "text": [
            "Using summary: \n"
          ]
        },
        {
          "output_type": "stream",
          "name": "stderr",
          "text": [
            "WARNING:langsmith.client:Failed to multipart ingest runs: langsmith.utils.LangSmithAuthError: Authentication failed for https://api.smith.langchain.com/runs/multipart. HTTPError('401 Client Error: Unauthorized for url: https://api.smith.langchain.com/runs/multipart', '{\"detail\":\"Invalid token\"}')trace=65e56af9-e588-46f0-842f-c25bf7dc884f,id=65e56af9-e588-46f0-842f-c25bf7dc884f; trace=65e56af9-e588-46f0-842f-c25bf7dc884f,id=8fd8a9a6-03a9-4c0f-a4ab-721a963817d9; trace=65e56af9-e588-46f0-842f-c25bf7dc884f,id=465e72db-d04e-4943-a3bf-1d0cb4cb8028; trace=65e56af9-e588-46f0-842f-c25bf7dc884f,id=4ae3ed3d-112f-4028-8c64-4845c225f7e8; trace=65e56af9-e588-46f0-842f-c25bf7dc884f,id=396288b6-64a8-4ecd-a642-8c90ea0fb028; trace=65e56af9-e588-46f0-842f-c25bf7dc884f,id=9f44c4ca-5353-4260-a902-e4f768af3ce6\n",
            "WARNING:langsmith.client:Failed to multipart ingest runs: langsmith.utils.LangSmithAuthError: Authentication failed for https://api.smith.langchain.com/runs/multipart. HTTPError('401 Client Error: Unauthorized for url: https://api.smith.langchain.com/runs/multipart', '{\"detail\":\"Invalid token\"}')trace=65e56af9-e588-46f0-842f-c25bf7dc884f,id=a5496c20-0c9f-4161-b18b-ca874cd25bbc; trace=65e56af9-e588-46f0-842f-c25bf7dc884f,id=b0460d90-bb06-4e10-bd8b-6ae0403aec56; trace=65e56af9-e588-46f0-842f-c25bf7dc884f,id=c5ef3b71-0dd4-4df8-b90a-5b13932506d6; trace=65e56af9-e588-46f0-842f-c25bf7dc884f,id=95bd909d-34c2-4b1b-bc9a-4e49daf47b71; trace=65e56af9-e588-46f0-842f-c25bf7dc884f,id=9f44c4ca-5353-4260-a902-e4f768af3ce6; trace=65e56af9-e588-46f0-842f-c25bf7dc884f,id=396288b6-64a8-4ecd-a642-8c90ea0fb028\n"
          ]
        },
        {
          "output_type": "stream",
          "name": "stdout",
          "text": [
            "Message count: 8\n",
            "Messages before summarizing: 8\n",
            "Existing summary: \n",
            "New summary: The conversation began with Hafiz Naveed Uddin introducing himself.  The AI confirmed his name and then engaged in brief discussions about his fondness for the Kaaba in Makkah.  The conversation ended with another Islamic greeting.  The core of the interaction was a simple exchange of pleasantries and a demonstration of the AI's ability to remember and use information provided by the user.\n",
            "\n",
            "Messages after truncation: 6\n",
            "==================================\u001b[1m Ai Message \u001b[0m==================================\n",
            "\n",
            "Wa alaikum assalam Hafiz Naveed Uddin.  Peace be upon you.\n"
          ]
        },
        {
          "output_type": "stream",
          "name": "stderr",
          "text": [
            "WARNING:langsmith.client:Failed to multipart ingest runs: langsmith.utils.LangSmithAuthError: Authentication failed for https://api.smith.langchain.com/runs/multipart. HTTPError('401 Client Error: Unauthorized for url: https://api.smith.langchain.com/runs/multipart', '{\"detail\":\"Invalid token\"}')trace=65e56af9-e588-46f0-842f-c25bf7dc884f,id=79131ac4-5c66-44c4-ba87-eec99000ff34; trace=65e56af9-e588-46f0-842f-c25bf7dc884f,id=95bd909d-34c2-4b1b-bc9a-4e49daf47b71; trace=65e56af9-e588-46f0-842f-c25bf7dc884f,id=c5ef3b71-0dd4-4df8-b90a-5b13932506d6; trace=65e56af9-e588-46f0-842f-c25bf7dc884f,id=65e56af9-e588-46f0-842f-c25bf7dc884f\n"
          ]
        }
      ],
      "source": [
        "# Create a thread\n",
        "config = {\"configurable\": {\"thread_id\": \"2\"}}\n",
        "\n",
        "# Start conversation\n",
        "input_message = HumanMessage(content=\"assalamualykum. im hafiz naveed uddin.\")\n",
        "output = graph.invoke({\"messages\": [input_message]}, config)\n",
        "for m in output['messages'][-1:]:\n",
        "    m.pretty_print()\n"
      ]
    },
    {
      "cell_type": "markdown",
      "id": "c0f3e842-4497-45e2-a924-69672a9bcb33",
      "metadata": {
        "id": "c0f3e842-4497-45e2-a924-69672a9bcb33"
      },
      "source": [
        "Let's confirm that our state is saved locally."
      ]
    },
    {
      "cell_type": "code",
      "execution_count": null,
      "id": "cZoLBwonOMGa",
      "metadata": {
        "colab": {
          "base_uri": "https://localhost:8080/"
        },
        "id": "cZoLBwonOMGa",
        "outputId": "052180dd-2d37-4bb8-864d-a592c90f46cc"
      },
      "outputs": [
        {
          "output_type": "stream",
          "name": "stderr",
          "text": [
            "WARNING:langsmith.client:Failed to multipart ingest runs: langsmith.utils.LangSmithAuthError: Authentication failed for https://api.smith.langchain.com/runs/multipart. HTTPError('401 Client Error: Unauthorized for url: https://api.smith.langchain.com/runs/multipart', '{\"detail\":\"Invalid token\"}')trace=eda5061f-a128-480e-942b-2dd3b5aacae1,id=eda5061f-a128-480e-942b-2dd3b5aacae1; trace=eda5061f-a128-480e-942b-2dd3b5aacae1,id=f8272a0d-ebe6-47c1-9601-e3314de1ed6f; trace=eda5061f-a128-480e-942b-2dd3b5aacae1,id=11478f48-6fe9-4da6-b17e-00e4ba909d1b; trace=eda5061f-a128-480e-942b-2dd3b5aacae1,id=8c0cc6ac-89c2-482f-8962-7e9524485274; trace=eda5061f-a128-480e-942b-2dd3b5aacae1,id=408ab40e-b4b0-45b5-920b-55a7198489b9; trace=eda5061f-a128-480e-942b-2dd3b5aacae1,id=c79f94ff-d988-4da8-bd3a-8105d92ffb75\n"
          ]
        },
        {
          "output_type": "stream",
          "name": "stdout",
          "text": [
            "Using summary: The conversation began with Hafiz Naveed Uddin introducing himself.  The AI confirmed his name and then engaged in brief discussions about his fondness for the Kaaba in Makkah.  The conversation ended with another Islamic greeting.  The core of the interaction was a simple exchange of pleasantries and a demonstration of the AI's ability to remember and use information provided by the user.\n",
            "\n",
            "Message count: 4\n",
            "==================================\u001b[1m Ai Message \u001b[0m==================================\n",
            "\n",
            "Your name is Hafiz Naveed Uddin.\n"
          ]
        }
      ],
      "source": [
        "input_message = HumanMessage(content=\"what's my name?\")\n",
        "output = graph.invoke({\"messages\": [input_message]}, config)\n",
        "for m in output['messages'][-1:]:\n",
        "    m.pretty_print()\n"
      ]
    },
    {
      "cell_type": "code",
      "execution_count": null,
      "id": "oL7okbdYORfH",
      "metadata": {
        "colab": {
          "base_uri": "https://localhost:8080/"
        },
        "id": "oL7okbdYORfH",
        "outputId": "e29bc698-4b33-4518-ee33-0dc906019c8a"
      },
      "outputs": [
        {
          "output_type": "stream",
          "name": "stderr",
          "text": [
            "WARNING:langsmith.client:Failed to multipart ingest runs: langsmith.utils.LangSmithAuthError: Authentication failed for https://api.smith.langchain.com/runs/multipart. HTTPError('401 Client Error: Unauthorized for url: https://api.smith.langchain.com/runs/multipart', '{\"detail\":\"Invalid token\"}')trace=ebf7991a-ba47-4c0c-b87c-6cb4a5b8e11d,id=ebf7991a-ba47-4c0c-b87c-6cb4a5b8e11d; trace=ebf7991a-ba47-4c0c-b87c-6cb4a5b8e11d,id=0889b541-db2e-4487-95d0-30817a26a233; trace=ebf7991a-ba47-4c0c-b87c-6cb4a5b8e11d,id=3e2e0d09-9686-4656-aa9b-f8c17f108925; trace=ebf7991a-ba47-4c0c-b87c-6cb4a5b8e11d,id=7c31c270-76fc-4083-8c4b-4068917eaa8a; trace=ebf7991a-ba47-4c0c-b87c-6cb4a5b8e11d,id=0ae727c9-fbf4-4596-9f4f-42decf2c9511; trace=ebf7991a-ba47-4c0c-b87c-6cb4a5b8e11d,id=646df086-5f05-4677-8039-310ddd087b38\n"
          ]
        },
        {
          "output_type": "stream",
          "name": "stdout",
          "text": [
            "Using summary: The conversation began with Hafiz Naveed Uddin introducing himself.  The AI confirmed his name and then engaged in brief discussions about his fondness for the Kaaba in Makkah.  The conversation ended with another Islamic greeting.  The core of the interaction was a simple exchange of pleasantries and a demonstration of the AI's ability to remember and use information provided by the user.\n",
            "\n",
            "Message count: 6\n",
            "==================================\u001b[1m Ai Message \u001b[0m==================================\n",
            "\n",
            "The Kaaba is a truly sacred and awe-inspiring place.  It's understandable why you would feel such a strong connection to it.\n"
          ]
        },
        {
          "output_type": "stream",
          "name": "stderr",
          "text": [
            "WARNING:langsmith.client:Failed to multipart ingest runs: langsmith.utils.LangSmithAuthError: Authentication failed for https://api.smith.langchain.com/runs/multipart. HTTPError('401 Client Error: Unauthorized for url: https://api.smith.langchain.com/runs/multipart', '{\"detail\":\"Invalid token\"}')trace=ebf7991a-ba47-4c0c-b87c-6cb4a5b8e11d,id=fdbb4e35-33ff-4b4b-9d1b-1723034cdfb3; trace=ebf7991a-ba47-4c0c-b87c-6cb4a5b8e11d,id=e6309cc8-40d2-4e18-9678-23279455aac5; trace=ebf7991a-ba47-4c0c-b87c-6cb4a5b8e11d,id=646df086-5f05-4677-8039-310ddd087b38; trace=ebf7991a-ba47-4c0c-b87c-6cb4a5b8e11d,id=0ae727c9-fbf4-4596-9f4f-42decf2c9511; trace=ebf7991a-ba47-4c0c-b87c-6cb4a5b8e11d,id=ebf7991a-ba47-4c0c-b87c-6cb4a5b8e11d\n"
          ]
        }
      ],
      "source": [
        "input_message = HumanMessage(content=\"I like Makkah Khana Kaba!\")\n",
        "output = graph.invoke({\"messages\": [input_message]}, config)\n",
        "for m in output['messages'][-1:]:\n",
        "    m.pretty_print()"
      ]
    },
    {
      "cell_type": "code",
      "execution_count": null,
      "id": "d2ab158a-5a82-417a-8841-730a4cc18ea7",
      "metadata": {
        "colab": {
          "base_uri": "https://localhost:8080/"
        },
        "id": "d2ab158a-5a82-417a-8841-730a4cc18ea7",
        "outputId": "c691cd62-9998-433f-ed52-3bf324b667a0"
      },
      "outputs": [
        {
          "output_type": "execute_result",
          "data": {
            "text/plain": [
              "StateSnapshot(values={'messages': [HumanMessage(content='assalamualykum. im hafiz naveed uddin.', additional_kwargs={}, response_metadata={}, id='e7534eaa-ec99-4d6f-b7c9-b86d40b68e4f'), AIMessage(content='Wa alaikum assalam Hafiz Naveed Uddin.  Peace be upon you.\\n', additional_kwargs={}, response_metadata={'prompt_feedback': {'block_reason': 0, 'safety_ratings': []}, 'finish_reason': 'STOP', 'safety_ratings': []}, id='run-9f44c4ca-5353-4260-a902-e4f768af3ce6-0', usage_metadata={'input_tokens': 132, 'output_tokens': 19, 'total_tokens': 151, 'input_token_details': {'cache_read': 0}}), HumanMessage(content=\"what's my name?\", additional_kwargs={}, response_metadata={}, id='be892b2d-009c-4af1-ad46-e759d7336ad6'), AIMessage(content='Your name is Hafiz Naveed Uddin.\\n', additional_kwargs={}, response_metadata={'prompt_feedback': {'block_reason': 0, 'safety_ratings': []}, 'finish_reason': 'STOP', 'safety_ratings': []}, id='run-c79f94ff-d988-4da8-bd3a-8105d92ffb75-0', usage_metadata={'input_tokens': 125, 'output_tokens': 11, 'total_tokens': 136, 'input_token_details': {'cache_read': 0}}), HumanMessage(content='I like Makkah Khana Kaba!', additional_kwargs={}, response_metadata={}, id='ef60239e-2725-4a16-bb44-602a250da553'), AIMessage(content=\"The Kaaba is a truly sacred and awe-inspiring place.  It's understandable why you would feel such a strong connection to it.\\n\", additional_kwargs={}, response_metadata={'prompt_feedback': {'block_reason': 0, 'safety_ratings': []}, 'finish_reason': 'STOP', 'safety_ratings': []}, id='run-646df086-5f05-4677-8039-310ddd087b38-0', usage_metadata={'input_tokens': 147, 'output_tokens': 30, 'total_tokens': 177, 'input_token_details': {'cache_read': 0}})], 'summary': \"The conversation began with Hafiz Naveed Uddin introducing himself.  The AI confirmed his name and then engaged in brief discussions about his fondness for the Kaaba in Makkah.  The conversation ended with another Islamic greeting.  The core of the interaction was a simple exchange of pleasantries and a demonstration of the AI's ability to remember and use information provided by the user.\\n\"}, next=(), config={'configurable': {'thread_id': '2', 'checkpoint_ns': '', 'checkpoint_id': '1efc8e00-9ee7-6488-8011-a49afc1b8fc2'}}, metadata={'source': 'loop', 'writes': {'conversation': {'messages': AIMessage(content=\"The Kaaba is a truly sacred and awe-inspiring place.  It's understandable why you would feel such a strong connection to it.\\n\", additional_kwargs={}, response_metadata={'prompt_feedback': {'block_reason': 0, 'safety_ratings': []}, 'finish_reason': 'STOP', 'safety_ratings': []}, id='run-646df086-5f05-4677-8039-310ddd087b38-0', usage_metadata={'input_tokens': 147, 'output_tokens': 30, 'total_tokens': 177, 'input_token_details': {'cache_read': 0}})}}, 'thread_id': '2', 'step': 17, 'parents': {}}, created_at='2025-01-02T08:03:23.662626+00:00', parent_config={'configurable': {'thread_id': '2', 'checkpoint_ns': '', 'checkpoint_id': '1efc8e00-9a80-6737-8010-f587c040133e'}}, tasks=())"
            ]
          },
          "metadata": {},
          "execution_count": 42
        }
      ],
      "source": [
        "config = {\"configurable\": {\"thread_id\": \"2\"}}\n",
        "graph_state = graph.get_state(config)\n",
        "graph_state"
      ]
    },
    {
      "cell_type": "code",
      "execution_count": null,
      "id": "Qekd1ttftUoj",
      "metadata": {
        "colab": {
          "base_uri": "https://localhost:8080/"
        },
        "id": "Qekd1ttftUoj",
        "outputId": "2bbbf1e4-f3f9-4904-eb3e-8fc443043e12"
      },
      "outputs": [
        {
          "output_type": "execute_result",
          "data": {
            "text/plain": [
              "6"
            ]
          },
          "metadata": {},
          "execution_count": 43
        }
      ],
      "source": [
        "config = {\"configurable\": {\"thread_id\": \"1\"}}\n",
        "messages = graph.get_state(config).values.get(\"messages\")\n",
        "len(messages)"
      ]
    },
    {
      "cell_type": "code",
      "execution_count": null,
      "id": "de-rftSAKYqD",
      "metadata": {
        "colab": {
          "base_uri": "https://localhost:8080/",
          "height": 91
        },
        "id": "de-rftSAKYqD",
        "outputId": "53892791-8453-4618-d10b-581a7f3202e3"
      },
      "outputs": [
        {
          "output_type": "execute_result",
          "data": {
            "text/plain": [
              "\"Here's a summary of the conversation:\\n\\nLance introduced himself twice during the conversation. He expressed his fondness for the San Francisco 49ers football team. The AI assistant acknowledged Lance's name each time and showed willingness to discuss the 49ers, offering to talk about various aspects of the team such as their history, current roster, or memorable games. The conversation was brief and somewhat repetitive, with Lance reintroducing himself at the end without directly responding to the AI's questions or prompts about the 49ers.\""
            ],
            "application/vnd.google.colaboratory.intrinsic+json": {
              "type": "string"
            }
          },
          "metadata": {},
          "execution_count": 44
        }
      ],
      "source": [
        "graph_state = graph.get_state(config).values.get(\"summary\",\"\")\n",
        "graph_state"
      ]
    },
    {
      "cell_type": "code",
      "execution_count": null,
      "id": "BRgmis1C8S7e",
      "metadata": {
        "colab": {
          "base_uri": "https://localhost:8080/"
        },
        "id": "BRgmis1C8S7e",
        "outputId": "ac26d202-18cb-4439-c237-d432859d3b8b"
      },
      "outputs": [
        {
          "output_type": "stream",
          "name": "stdout",
          "text": [
            "example.db  example.db-shm  example.db-wal\n"
          ]
        }
      ],
      "source": [
        "!ls state_db\n"
      ]
    },
    {
      "cell_type": "markdown",
      "id": "XdbM-0ReTQja",
      "metadata": {
        "id": "XdbM-0ReTQja"
      },
      "source": [
        "Download required db files"
      ]
    },
    {
      "cell_type": "code",
      "execution_count": null,
      "id": "V1CcFo3H2WWL",
      "metadata": {
        "colab": {
          "base_uri": "https://localhost:8080/",
          "height": 17
        },
        "id": "V1CcFo3H2WWL",
        "outputId": "cc9207c9-26f8-4515-d11c-eb3c24143475"
      },
      "outputs": [
        {
          "output_type": "display_data",
          "data": {
            "text/plain": [
              "<IPython.core.display.Javascript object>"
            ],
            "application/javascript": [
              "\n",
              "    async function download(id, filename, size) {\n",
              "      if (!google.colab.kernel.accessAllowed) {\n",
              "        return;\n",
              "      }\n",
              "      const div = document.createElement('div');\n",
              "      const label = document.createElement('label');\n",
              "      label.textContent = `Downloading \"${filename}\": `;\n",
              "      div.appendChild(label);\n",
              "      const progress = document.createElement('progress');\n",
              "      progress.max = size;\n",
              "      div.appendChild(progress);\n",
              "      document.body.appendChild(div);\n",
              "\n",
              "      const buffers = [];\n",
              "      let downloaded = 0;\n",
              "\n",
              "      const channel = await google.colab.kernel.comms.open(id);\n",
              "      // Send a message to notify the kernel that we're ready.\n",
              "      channel.send({})\n",
              "\n",
              "      for await (const message of channel.messages) {\n",
              "        // Send a message to notify the kernel that we're ready.\n",
              "        channel.send({})\n",
              "        if (message.buffers) {\n",
              "          for (const buffer of message.buffers) {\n",
              "            buffers.push(buffer);\n",
              "            downloaded += buffer.byteLength;\n",
              "            progress.value = downloaded;\n",
              "          }\n",
              "        }\n",
              "      }\n",
              "      const blob = new Blob(buffers, {type: 'application/binary'});\n",
              "      const a = document.createElement('a');\n",
              "      a.href = window.URL.createObjectURL(blob);\n",
              "      a.download = filename;\n",
              "      div.appendChild(a);\n",
              "      a.click();\n",
              "      div.remove();\n",
              "    }\n",
              "  "
            ]
          },
          "metadata": {}
        },
        {
          "output_type": "display_data",
          "data": {
            "text/plain": [
              "<IPython.core.display.Javascript object>"
            ],
            "application/javascript": [
              "download(\"download_22b50dc7-36e4-4177-87b9-7745686d2f05\", \"example.db\", 110592)"
            ]
          },
          "metadata": {}
        },
        {
          "output_type": "display_data",
          "data": {
            "text/plain": [
              "<IPython.core.display.Javascript object>"
            ],
            "application/javascript": [
              "\n",
              "    async function download(id, filename, size) {\n",
              "      if (!google.colab.kernel.accessAllowed) {\n",
              "        return;\n",
              "      }\n",
              "      const div = document.createElement('div');\n",
              "      const label = document.createElement('label');\n",
              "      label.textContent = `Downloading \"${filename}\": `;\n",
              "      div.appendChild(label);\n",
              "      const progress = document.createElement('progress');\n",
              "      progress.max = size;\n",
              "      div.appendChild(progress);\n",
              "      document.body.appendChild(div);\n",
              "\n",
              "      const buffers = [];\n",
              "      let downloaded = 0;\n",
              "\n",
              "      const channel = await google.colab.kernel.comms.open(id);\n",
              "      // Send a message to notify the kernel that we're ready.\n",
              "      channel.send({})\n",
              "\n",
              "      for await (const message of channel.messages) {\n",
              "        // Send a message to notify the kernel that we're ready.\n",
              "        channel.send({})\n",
              "        if (message.buffers) {\n",
              "          for (const buffer of message.buffers) {\n",
              "            buffers.push(buffer);\n",
              "            downloaded += buffer.byteLength;\n",
              "            progress.value = downloaded;\n",
              "          }\n",
              "        }\n",
              "      }\n",
              "      const blob = new Blob(buffers, {type: 'application/binary'});\n",
              "      const a = document.createElement('a');\n",
              "      a.href = window.URL.createObjectURL(blob);\n",
              "      a.download = filename;\n",
              "      div.appendChild(a);\n",
              "      a.click();\n",
              "      div.remove();\n",
              "    }\n",
              "  "
            ]
          },
          "metadata": {}
        },
        {
          "output_type": "display_data",
          "data": {
            "text/plain": [
              "<IPython.core.display.Javascript object>"
            ],
            "application/javascript": [
              "download(\"download_220b5585-3256-4044-bd56-609ba2b962f5\", \"example.db-wal\", 436752)"
            ]
          },
          "metadata": {}
        }
      ],
      "source": [
        "from google.colab import files\n",
        "files.download('state_db/example.db')\n",
        "files.download('state_db/example.db-wal')\n"
      ]
    },
    {
      "cell_type": "markdown",
      "id": "1e21152d-ed9c-408d-b7d5-f634c9ce81e2",
      "metadata": {
        "id": "1e21152d-ed9c-408d-b7d5-f634c9ce81e2"
      },
      "source": [
        "### Persisting state\n",
        "\n",
        "SQLite jaise database ka istemal karne ka matlab hai ke state persist hoti hai!\n",
        "\n",
        "For example, agar hum notebook kernel ko dobara start karein, to bhi hum disk par maujood SQLite database se data load kar sakte hain."
      ]
    },
    {
      "cell_type": "markdown",
      "id": "8466e418-1a46-4cdb-a51a-6ae14281bb85",
      "metadata": {
        "id": "8466e418-1a46-4cdb-a51a-6ae14281bb85"
      },
      "source": [
        "## LangGraph Studio\n",
        "\n",
        "--\n",
        "\n",
        "**⚠️ DISCLAIMER**\n",
        "\n",
        "*Running Studio currently requires a Mac. If you are not using a Mac, then skip this step.*\n",
        "\n",
        "--\n",
        "\n",
        "Now that we better understand external memory, recall that the LangGraph API packages your code and provides you with with built-in persistence.\n",
        "\n",
        "And the API is the back-end for Studio!\n",
        "\n",
        "Load the `chatbot` in the UI, which uses `module2-/studio/chatbot.py` set in `module2-/studio/langgraph.json`."
      ]
    },
    {
      "cell_type": "markdown",
      "id": "c4916d8b",
      "metadata": {
        "id": "c4916d8b"
      },
      "source": []
    }
  ],
  "metadata": {
    "accelerator": "GPU",
    "colab": {
      "gpuType": "T4",
      "provenance": [],
      "include_colab_link": true
    },
    "kernelspec": {
      "display_name": "Python 3",
      "name": "python3"
    },
    "language_info": {
      "codemirror_mode": {
        "name": "ipython",
        "version": 3
      },
      "file_extension": ".py",
      "mimetype": "text/x-python",
      "name": "python",
      "nbconvert_exporter": "python",
      "pygments_lexer": "ipython3",
      "version": "3.12.6"
    }
  },
  "nbformat": 4,
  "nbformat_minor": 5
}